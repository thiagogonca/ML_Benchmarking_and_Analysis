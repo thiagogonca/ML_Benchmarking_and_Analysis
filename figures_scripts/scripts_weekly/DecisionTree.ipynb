{
 "cells": [
  {
   "cell_type": "code",
   "execution_count": 33,
   "metadata": {},
   "outputs": [],
   "source": [
    "import pandas as pd\n",
    "from sklearn.preprocessing import MinMaxScaler\n",
    "import numpy as np\n",
    "from sklearn.model_selection import train_test_split\n",
    "from sklearn.tree import DecisionTreeRegressor\n",
    "from sklearn.metrics import mean_squared_error, mean_absolute_error, r2_score\n",
    "import os\n",
    "import mlflow\n",
    "import datetime\n",
    "from itertools import product\n",
    "import plotly.graph_objects as go"
   ]
  },
  {
   "cell_type": "markdown",
   "metadata": {},
   "source": [
    "- colocar r2, mae e rmse do modelo de maior r2 apenas! (no geral os 3 andam juntos, informar também qual \"n\" que gerou esse modelo) para cada f=1,...f=4 em um subplot e f=5,...f=8 no outro subplot\n",
    "- mesma coisa porém para \"n\" fixo em 4"
   ]
  },
  {
   "cell_type": "markdown",
   "metadata": {},
   "source": [
    "#### Melhor R2 (qualquer \"n\")"
   ]
  },
  {
   "cell_type": "code",
   "execution_count": 34,
   "metadata": {},
   "outputs": [],
   "source": [
    "name_plots = 'das Árvores de Decisão'\n",
    "name_experiment = \"Itaipu_Benchmarking_Vazao_DT_V2\""
   ]
  },
  {
   "cell_type": "code",
   "execution_count": 35,
   "metadata": {},
   "outputs": [
    {
     "data": {
      "text/plain": [
       "<Experiment: artifact_location='file:///home/thiago/2rp/this_is_fine/euros/mlruns/13', creation_time=1707873947526, experiment_id='13', last_update_time=1707873947526, lifecycle_stage='active', name='Itaipu_Benchmarking_Vazao_DT_V2', tags={}>"
      ]
     },
     "execution_count": 35,
     "metadata": {},
     "output_type": "execute_result"
    }
   ],
   "source": [
    "mlflow.set_tracking_uri(\"http://localhost:5000\")\n",
    "mlflow.set_experiment(name_experiment)"
   ]
  },
  {
   "cell_type": "code",
   "execution_count": 36,
   "metadata": {},
   "outputs": [],
   "source": [
    "drop_columns = ['run_id','experiment_id', 'status','artifact_uri', \n",
    "                'start_time', 'end_time', 'tags.mlflow.source.type', \n",
    "                'tags.mlflow.source.name', 'params.model','params.label',\n",
    "                'tags.mlflow.user']"
   ]
  },
  {
   "cell_type": "code",
   "execution_count": 37,
   "metadata": {},
   "outputs": [],
   "source": [
    "f_so_pred_values = range(1,8+1)\n",
    "metric = 'r2'\n",
    "\n",
    "# Initialize an empty list to store the dataframes\n",
    "dfs = []\n",
    "\n",
    "# Iterate over each f_so_pred value\n",
    "for f_so_pred in f_so_pred_values:\n",
    "    # Search runs for the current f_so_pred value\n",
    "    df = mlflow.search_runs(filter_string=f\"params.f_so_pred = '{f_so_pred}'\", order_by=[f'metrics.{metric} DESC'])\n",
    "    \n",
    "    # Drop unnecessary columns\n",
    "    df = df.drop(columns=drop_columns).iloc[:1]\n",
    "    \n",
    "    # Append the dataframe to the list\n",
    "    dfs.append(df)\n",
    "\n",
    "# Concatenate the dataframes along the rows\n",
    "df_plt_1 = pd.concat(dfs)"
   ]
  },
  {
   "cell_type": "code",
   "execution_count": 38,
   "metadata": {},
   "outputs": [
    {
     "data": {
      "text/html": [
       "<div>\n",
       "<style scoped>\n",
       "    .dataframe tbody tr th:only-of-type {\n",
       "        vertical-align: middle;\n",
       "    }\n",
       "\n",
       "    .dataframe tbody tr th {\n",
       "        vertical-align: top;\n",
       "    }\n",
       "\n",
       "    .dataframe thead th {\n",
       "        text-align: right;\n",
       "    }\n",
       "</style>\n",
       "<table border=\"1\" class=\"dataframe\">\n",
       "  <thead>\n",
       "    <tr style=\"text-align: right;\">\n",
       "      <th></th>\n",
       "      <th>metrics.rmse</th>\n",
       "      <th>metrics.corr</th>\n",
       "      <th>metrics.r2</th>\n",
       "      <th>metrics.mae</th>\n",
       "      <th>params.min_samples_split</th>\n",
       "      <th>params.criterion</th>\n",
       "      <th>params.seed</th>\n",
       "      <th>params.n_so_retro</th>\n",
       "      <th>params.max_depth</th>\n",
       "      <th>params.splitter</th>\n",
       "      <th>params.min_samples_leaf</th>\n",
       "      <th>params.f_so_pred</th>\n",
       "      <th>tags.mlflow.runName</th>\n",
       "      <th>tags.run_name</th>\n",
       "    </tr>\n",
       "  </thead>\n",
       "  <tbody>\n",
       "    <tr>\n",
       "      <th>0</th>\n",
       "      <td>11245.247521</td>\n",
       "      <td>0.942625</td>\n",
       "      <td>0.886286</td>\n",
       "      <td>8342.952716</td>\n",
       "      <td>7</td>\n",
       "      <td>absolute_error</td>\n",
       "      <td>21</td>\n",
       "      <td>7</td>\n",
       "      <td>7</td>\n",
       "      <td>random</td>\n",
       "      <td>2</td>\n",
       "      <td>1</td>\n",
       "      <td>decision_tree_n=7_f=1_</td>\n",
       "      <td>decision_tree_n=7_f=1_</td>\n",
       "    </tr>\n",
       "    <tr>\n",
       "      <th>0</th>\n",
       "      <td>15806.416380</td>\n",
       "      <td>0.899540</td>\n",
       "      <td>0.806426</td>\n",
       "      <td>11686.777175</td>\n",
       "      <td>7</td>\n",
       "      <td>squared_error</td>\n",
       "      <td>21</td>\n",
       "      <td>1</td>\n",
       "      <td>7</td>\n",
       "      <td>best</td>\n",
       "      <td>2</td>\n",
       "      <td>2</td>\n",
       "      <td>decision_tree_n=1_f=2_</td>\n",
       "      <td>decision_tree_n=1_f=2_</td>\n",
       "    </tr>\n",
       "    <tr>\n",
       "      <th>0</th>\n",
       "      <td>15770.683472</td>\n",
       "      <td>0.881531</td>\n",
       "      <td>0.776345</td>\n",
       "      <td>11686.730643</td>\n",
       "      <td>7</td>\n",
       "      <td>squared_error</td>\n",
       "      <td>21</td>\n",
       "      <td>5</td>\n",
       "      <td>7</td>\n",
       "      <td>random</td>\n",
       "      <td>4</td>\n",
       "      <td>3</td>\n",
       "      <td>decision_tree_n=5_f=3_</td>\n",
       "      <td>decision_tree_n=5_f=3_</td>\n",
       "    </tr>\n",
       "    <tr>\n",
       "      <th>0</th>\n",
       "      <td>16455.172905</td>\n",
       "      <td>0.862654</td>\n",
       "      <td>0.736460</td>\n",
       "      <td>12594.442067</td>\n",
       "      <td>5</td>\n",
       "      <td>squared_error</td>\n",
       "      <td>21</td>\n",
       "      <td>2</td>\n",
       "      <td>7</td>\n",
       "      <td>random</td>\n",
       "      <td>2</td>\n",
       "      <td>4</td>\n",
       "      <td>decision_tree_n=2_f=4_</td>\n",
       "      <td>decision_tree_n=2_f=4_</td>\n",
       "    </tr>\n",
       "    <tr>\n",
       "      <th>0</th>\n",
       "      <td>18753.993010</td>\n",
       "      <td>0.827967</td>\n",
       "      <td>0.683725</td>\n",
       "      <td>13673.357994</td>\n",
       "      <td>5</td>\n",
       "      <td>squared_error</td>\n",
       "      <td>21</td>\n",
       "      <td>3</td>\n",
       "      <td>7</td>\n",
       "      <td>random</td>\n",
       "      <td>2</td>\n",
       "      <td>5</td>\n",
       "      <td>decision_tree_n=3_f=5_</td>\n",
       "      <td>decision_tree_n=3_f=5_</td>\n",
       "    </tr>\n",
       "    <tr>\n",
       "      <th>0</th>\n",
       "      <td>18724.798351</td>\n",
       "      <td>0.828026</td>\n",
       "      <td>0.684709</td>\n",
       "      <td>13836.868412</td>\n",
       "      <td>7</td>\n",
       "      <td>squared_error</td>\n",
       "      <td>21</td>\n",
       "      <td>2</td>\n",
       "      <td>None</td>\n",
       "      <td>random</td>\n",
       "      <td>4</td>\n",
       "      <td>6</td>\n",
       "      <td>decision_tree_n=2_f=6_</td>\n",
       "      <td>decision_tree_n=2_f=6_</td>\n",
       "    </tr>\n",
       "    <tr>\n",
       "      <th>0</th>\n",
       "      <td>19401.059713</td>\n",
       "      <td>0.816947</td>\n",
       "      <td>0.661523</td>\n",
       "      <td>13869.383924</td>\n",
       "      <td>5</td>\n",
       "      <td>squared_error</td>\n",
       "      <td>21</td>\n",
       "      <td>1</td>\n",
       "      <td>7</td>\n",
       "      <td>best</td>\n",
       "      <td>2</td>\n",
       "      <td>7</td>\n",
       "      <td>decision_tree_n=1_f=7_</td>\n",
       "      <td>decision_tree_n=1_f=7_</td>\n",
       "    </tr>\n",
       "    <tr>\n",
       "      <th>0</th>\n",
       "      <td>20846.295081</td>\n",
       "      <td>0.796273</td>\n",
       "      <td>0.631400</td>\n",
       "      <td>15736.368079</td>\n",
       "      <td>5</td>\n",
       "      <td>squared_error</td>\n",
       "      <td>21</td>\n",
       "      <td>7</td>\n",
       "      <td>5</td>\n",
       "      <td>random</td>\n",
       "      <td>4</td>\n",
       "      <td>8</td>\n",
       "      <td>decision_tree_n=7_f=8_</td>\n",
       "      <td>decision_tree_n=7_f=8_</td>\n",
       "    </tr>\n",
       "  </tbody>\n",
       "</table>\n",
       "</div>"
      ],
      "text/plain": [
       "   metrics.rmse  metrics.corr  metrics.r2   metrics.mae  \\\n",
       "0  11245.247521      0.942625    0.886286   8342.952716   \n",
       "0  15806.416380      0.899540    0.806426  11686.777175   \n",
       "0  15770.683472      0.881531    0.776345  11686.730643   \n",
       "0  16455.172905      0.862654    0.736460  12594.442067   \n",
       "0  18753.993010      0.827967    0.683725  13673.357994   \n",
       "0  18724.798351      0.828026    0.684709  13836.868412   \n",
       "0  19401.059713      0.816947    0.661523  13869.383924   \n",
       "0  20846.295081      0.796273    0.631400  15736.368079   \n",
       "\n",
       "  params.min_samples_split params.criterion params.seed params.n_so_retro  \\\n",
       "0                        7   absolute_error          21                 7   \n",
       "0                        7    squared_error          21                 1   \n",
       "0                        7    squared_error          21                 5   \n",
       "0                        5    squared_error          21                 2   \n",
       "0                        5    squared_error          21                 3   \n",
       "0                        7    squared_error          21                 2   \n",
       "0                        5    squared_error          21                 1   \n",
       "0                        5    squared_error          21                 7   \n",
       "\n",
       "  params.max_depth params.splitter params.min_samples_leaf params.f_so_pred  \\\n",
       "0                7          random                       2                1   \n",
       "0                7            best                       2                2   \n",
       "0                7          random                       4                3   \n",
       "0                7          random                       2                4   \n",
       "0                7          random                       2                5   \n",
       "0             None          random                       4                6   \n",
       "0                7            best                       2                7   \n",
       "0                5          random                       4                8   \n",
       "\n",
       "      tags.mlflow.runName           tags.run_name  \n",
       "0  decision_tree_n=7_f=1_  decision_tree_n=7_f=1_  \n",
       "0  decision_tree_n=1_f=2_  decision_tree_n=1_f=2_  \n",
       "0  decision_tree_n=5_f=3_  decision_tree_n=5_f=3_  \n",
       "0  decision_tree_n=2_f=4_  decision_tree_n=2_f=4_  \n",
       "0  decision_tree_n=3_f=5_  decision_tree_n=3_f=5_  \n",
       "0  decision_tree_n=2_f=6_  decision_tree_n=2_f=6_  \n",
       "0  decision_tree_n=1_f=7_  decision_tree_n=1_f=7_  \n",
       "0  decision_tree_n=7_f=8_  decision_tree_n=7_f=8_  "
      ]
     },
     "execution_count": 38,
     "metadata": {},
     "output_type": "execute_result"
    }
   ],
   "source": [
    "df_plt_1"
   ]
  },
  {
   "cell_type": "code",
   "execution_count": 39,
   "metadata": {},
   "outputs": [],
   "source": [
    "f_so_pred_values = range(1,8+1)\n",
    "metric = 'r2'\n",
    "\n",
    "# Initialize an empty list to store the dataframes\n",
    "dfs = []\n",
    "\n",
    "# Iterate over each f_so_pred value\n",
    "for f_so_pred in f_so_pred_values:\n",
    "    # Search runs for the current f_so_pred value\n",
    "    df = mlflow.search_runs(filter_string=f\"params.f_so_pred = '{f_so_pred}' AND params.n_so_retro = '4'\", \n",
    "                            order_by=[f'metrics.{metric} DESC'])\n",
    "    \n",
    "    # Drop unnecessary columns\n",
    "    df = df.drop(columns=drop_columns).iloc[:1]\n",
    "    \n",
    "    # Append the dataframe to the list\n",
    "    dfs.append(df)\n",
    "\n",
    "# Concatenate the dataframes along the rows\n",
    "df_plt_2 = pd.concat(dfs)"
   ]
  },
  {
   "cell_type": "code",
   "execution_count": 40,
   "metadata": {},
   "outputs": [
    {
     "data": {
      "text/html": [
       "<div>\n",
       "<style scoped>\n",
       "    .dataframe tbody tr th:only-of-type {\n",
       "        vertical-align: middle;\n",
       "    }\n",
       "\n",
       "    .dataframe tbody tr th {\n",
       "        vertical-align: top;\n",
       "    }\n",
       "\n",
       "    .dataframe thead th {\n",
       "        text-align: right;\n",
       "    }\n",
       "</style>\n",
       "<table border=\"1\" class=\"dataframe\">\n",
       "  <thead>\n",
       "    <tr style=\"text-align: right;\">\n",
       "      <th></th>\n",
       "      <th>metrics.rmse</th>\n",
       "      <th>metrics.corr</th>\n",
       "      <th>metrics.r2</th>\n",
       "      <th>metrics.mae</th>\n",
       "      <th>params.min_samples_split</th>\n",
       "      <th>params.criterion</th>\n",
       "      <th>params.seed</th>\n",
       "      <th>params.n_so_retro</th>\n",
       "      <th>params.max_depth</th>\n",
       "      <th>params.min_samples_leaf</th>\n",
       "      <th>params.splitter</th>\n",
       "      <th>params.f_so_pred</th>\n",
       "      <th>tags.mlflow.runName</th>\n",
       "      <th>tags.run_name</th>\n",
       "    </tr>\n",
       "  </thead>\n",
       "  <tbody>\n",
       "    <tr>\n",
       "      <th>0</th>\n",
       "      <td>11912.705892</td>\n",
       "      <td>0.933988</td>\n",
       "      <td>0.868542</td>\n",
       "      <td>8525.476356</td>\n",
       "      <td>2</td>\n",
       "      <td>squared_error</td>\n",
       "      <td>21</td>\n",
       "      <td>4</td>\n",
       "      <td>None</td>\n",
       "      <td>4</td>\n",
       "      <td>random</td>\n",
       "      <td>1</td>\n",
       "      <td>decision_tree_n=4_f=1_</td>\n",
       "      <td>decision_tree_n=4_f=1_</td>\n",
       "    </tr>\n",
       "    <tr>\n",
       "      <th>0</th>\n",
       "      <td>15563.653556</td>\n",
       "      <td>0.875026</td>\n",
       "      <td>0.764243</td>\n",
       "      <td>11822.442943</td>\n",
       "      <td>5</td>\n",
       "      <td>absolute_error</td>\n",
       "      <td>21</td>\n",
       "      <td>4</td>\n",
       "      <td>7</td>\n",
       "      <td>1</td>\n",
       "      <td>random</td>\n",
       "      <td>2</td>\n",
       "      <td>decision_tree_n=4_f=2_</td>\n",
       "      <td>decision_tree_n=4_f=2_</td>\n",
       "    </tr>\n",
       "    <tr>\n",
       "      <th>0</th>\n",
       "      <td>17205.817615</td>\n",
       "      <td>0.856801</td>\n",
       "      <td>0.717598</td>\n",
       "      <td>11984.504836</td>\n",
       "      <td>5</td>\n",
       "      <td>squared_error</td>\n",
       "      <td>21</td>\n",
       "      <td>4</td>\n",
       "      <td>None</td>\n",
       "      <td>4</td>\n",
       "      <td>best</td>\n",
       "      <td>3</td>\n",
       "      <td>decision_tree_n=4_f=3_</td>\n",
       "      <td>decision_tree_n=4_f=3_</td>\n",
       "    </tr>\n",
       "    <tr>\n",
       "      <th>0</th>\n",
       "      <td>18785.630656</td>\n",
       "      <td>0.836729</td>\n",
       "      <td>0.682657</td>\n",
       "      <td>13325.431298</td>\n",
       "      <td>5</td>\n",
       "      <td>absolute_error</td>\n",
       "      <td>21</td>\n",
       "      <td>4</td>\n",
       "      <td>7</td>\n",
       "      <td>1</td>\n",
       "      <td>random</td>\n",
       "      <td>4</td>\n",
       "      <td>decision_tree_n=4_f=4_</td>\n",
       "      <td>decision_tree_n=4_f=4_</td>\n",
       "    </tr>\n",
       "    <tr>\n",
       "      <th>0</th>\n",
       "      <td>21987.004125</td>\n",
       "      <td>0.795480</td>\n",
       "      <td>0.630141</td>\n",
       "      <td>16028.721282</td>\n",
       "      <td>5</td>\n",
       "      <td>squared_error</td>\n",
       "      <td>21</td>\n",
       "      <td>4</td>\n",
       "      <td>5</td>\n",
       "      <td>2</td>\n",
       "      <td>random</td>\n",
       "      <td>5</td>\n",
       "      <td>decision_tree_n=4_f=5_</td>\n",
       "      <td>decision_tree_n=4_f=5_</td>\n",
       "    </tr>\n",
       "    <tr>\n",
       "      <th>0</th>\n",
       "      <td>19339.707905</td>\n",
       "      <td>0.791054</td>\n",
       "      <td>0.612227</td>\n",
       "      <td>14181.285389</td>\n",
       "      <td>2</td>\n",
       "      <td>squared_error</td>\n",
       "      <td>21</td>\n",
       "      <td>4</td>\n",
       "      <td>7</td>\n",
       "      <td>1</td>\n",
       "      <td>random</td>\n",
       "      <td>6</td>\n",
       "      <td>decision_tree_n=4_f=6_</td>\n",
       "      <td>decision_tree_n=4_f=6_</td>\n",
       "    </tr>\n",
       "    <tr>\n",
       "      <th>0</th>\n",
       "      <td>20571.169097</td>\n",
       "      <td>0.805545</td>\n",
       "      <td>0.624576</td>\n",
       "      <td>14698.016779</td>\n",
       "      <td>7</td>\n",
       "      <td>absolute_error</td>\n",
       "      <td>21</td>\n",
       "      <td>4</td>\n",
       "      <td>7</td>\n",
       "      <td>4</td>\n",
       "      <td>random</td>\n",
       "      <td>7</td>\n",
       "      <td>decision_tree_n=4_f=7_</td>\n",
       "      <td>decision_tree_n=4_f=7_</td>\n",
       "    </tr>\n",
       "    <tr>\n",
       "      <th>0</th>\n",
       "      <td>21850.393240</td>\n",
       "      <td>0.770369</td>\n",
       "      <td>0.575366</td>\n",
       "      <td>15814.965279</td>\n",
       "      <td>5</td>\n",
       "      <td>squared_error</td>\n",
       "      <td>21</td>\n",
       "      <td>4</td>\n",
       "      <td>7</td>\n",
       "      <td>1</td>\n",
       "      <td>random</td>\n",
       "      <td>8</td>\n",
       "      <td>decision_tree_n=4_f=8_</td>\n",
       "      <td>decision_tree_n=4_f=8_</td>\n",
       "    </tr>\n",
       "  </tbody>\n",
       "</table>\n",
       "</div>"
      ],
      "text/plain": [
       "   metrics.rmse  metrics.corr  metrics.r2   metrics.mae  \\\n",
       "0  11912.705892      0.933988    0.868542   8525.476356   \n",
       "0  15563.653556      0.875026    0.764243  11822.442943   \n",
       "0  17205.817615      0.856801    0.717598  11984.504836   \n",
       "0  18785.630656      0.836729    0.682657  13325.431298   \n",
       "0  21987.004125      0.795480    0.630141  16028.721282   \n",
       "0  19339.707905      0.791054    0.612227  14181.285389   \n",
       "0  20571.169097      0.805545    0.624576  14698.016779   \n",
       "0  21850.393240      0.770369    0.575366  15814.965279   \n",
       "\n",
       "  params.min_samples_split params.criterion params.seed params.n_so_retro  \\\n",
       "0                        2    squared_error          21                 4   \n",
       "0                        5   absolute_error          21                 4   \n",
       "0                        5    squared_error          21                 4   \n",
       "0                        5   absolute_error          21                 4   \n",
       "0                        5    squared_error          21                 4   \n",
       "0                        2    squared_error          21                 4   \n",
       "0                        7   absolute_error          21                 4   \n",
       "0                        5    squared_error          21                 4   \n",
       "\n",
       "  params.max_depth params.min_samples_leaf params.splitter params.f_so_pred  \\\n",
       "0             None                       4          random                1   \n",
       "0                7                       1          random                2   \n",
       "0             None                       4            best                3   \n",
       "0                7                       1          random                4   \n",
       "0                5                       2          random                5   \n",
       "0                7                       1          random                6   \n",
       "0                7                       4          random                7   \n",
       "0                7                       1          random                8   \n",
       "\n",
       "      tags.mlflow.runName           tags.run_name  \n",
       "0  decision_tree_n=4_f=1_  decision_tree_n=4_f=1_  \n",
       "0  decision_tree_n=4_f=2_  decision_tree_n=4_f=2_  \n",
       "0  decision_tree_n=4_f=3_  decision_tree_n=4_f=3_  \n",
       "0  decision_tree_n=4_f=4_  decision_tree_n=4_f=4_  \n",
       "0  decision_tree_n=4_f=5_  decision_tree_n=4_f=5_  \n",
       "0  decision_tree_n=4_f=6_  decision_tree_n=4_f=6_  \n",
       "0  decision_tree_n=4_f=7_  decision_tree_n=4_f=7_  \n",
       "0  decision_tree_n=4_f=8_  decision_tree_n=4_f=8_  "
      ]
     },
     "execution_count": 40,
     "metadata": {},
     "output_type": "execute_result"
    }
   ],
   "source": [
    "df_plt_2"
   ]
  },
  {
   "cell_type": "code",
   "execution_count": 62,
   "metadata": {},
   "outputs": [
    {
     "data": {
      "application/vnd.plotly.v1+json": {
       "config": {
        "plotlyServerURL": "https://plot.ly"
       },
       "data": [
        {
         "hovertemplate": "%{y:.3f}",
         "legendgroup": "r2_group",
         "marker": {
          "color": "darkblue"
         },
         "name": "r2",
         "text": [
          "0.886",
          "0.806",
          "0.776",
          "0.736"
         ],
         "type": "bar",
         "x": [
          "f=1 (n=7)",
          "f=2 (n=1)",
          "f=3 (n=5)",
          "f=4 (n=2)"
         ],
         "xaxis": "x",
         "y": [
          0.8862855390576475,
          0.8064258898048327,
          0.7763449601379422,
          0.7364597397604081
         ],
         "yaxis": "y"
        },
        {
         "hovertemplate": "%{y:.3f}",
         "legendgroup": "correlation_group",
         "marker": {
          "color": "purple"
         },
         "name": "Correlação",
         "showlegend": false,
         "text": [
          "0.943",
          "0.900",
          "0.882",
          "0.863"
         ],
         "type": "bar",
         "x": [
          "f=1 (n=7)",
          "f=2 (n=1)",
          "f=3 (n=5)",
          "f=4 (n=2)"
         ],
         "xaxis": "x",
         "y": [
          0.94262479661487,
          0.89954046677592,
          0.8815308310895085,
          0.8626536044256548
         ],
         "yaxis": "y"
        },
        {
         "hovertemplate": "%{y:.3f}",
         "legendgroup": "r2_group",
         "marker": {
          "color": "darkblue"
         },
         "name": "r2",
         "showlegend": false,
         "text": [
          "0.684",
          "0.685",
          "0.662",
          "0.631"
         ],
         "type": "bar",
         "x": [
          "f=5 (n=3)",
          "f=6 (n=2)",
          "f=7 (n=1)",
          "f=8 (n=7)"
         ],
         "xaxis": "x2",
         "y": [
          0.6837247860745586,
          0.6847087216100121,
          0.6615234674914415,
          0.6313998660363317
         ],
         "yaxis": "y2"
        },
        {
         "hovertemplate": "%{y:.3f}",
         "legendgroup": "correlation_group",
         "marker": {
          "color": "purple"
         },
         "name": "Correlação",
         "text": [
          "0.828",
          "0.828",
          "0.817",
          "0.796"
         ],
         "type": "bar",
         "x": [
          "f=5 (n=3)",
          "f=6 (n=2)",
          "f=7 (n=1)",
          "f=8 (n=7)"
         ],
         "xaxis": "x2",
         "y": [
          0.827966619761075,
          0.8280262593829435,
          0.816946609951446,
          0.7962728688839533
         ],
         "yaxis": "y2"
        }
       ],
       "layout": {
        "annotations": [
         {
          "showarrow": false,
          "text": "'n' = Número de S.O Retroativas de vazão observada e precipitação na bacia, a serem utilizadas durante o treinamento",
          "x": 0.5,
          "xref": "paper",
          "y": -0.18,
          "yref": "paper"
         },
         {
          "showarrow": false,
          "text": "'f' = Número da S.O Futura onde se prevê a vazão",
          "x": 0.5,
          "xref": "paper",
          "y": -0.25,
          "yref": "paper"
         }
        ],
        "barmode": "group",
        "template": {
         "data": {
          "bar": [
           {
            "error_x": {
             "color": "#2a3f5f"
            },
            "error_y": {
             "color": "#2a3f5f"
            },
            "marker": {
             "line": {
              "color": "#E5ECF6",
              "width": 0.5
             },
             "pattern": {
              "fillmode": "overlay",
              "size": 10,
              "solidity": 0.2
             }
            },
            "type": "bar"
           }
          ],
          "barpolar": [
           {
            "marker": {
             "line": {
              "color": "#E5ECF6",
              "width": 0.5
             },
             "pattern": {
              "fillmode": "overlay",
              "size": 10,
              "solidity": 0.2
             }
            },
            "type": "barpolar"
           }
          ],
          "carpet": [
           {
            "aaxis": {
             "endlinecolor": "#2a3f5f",
             "gridcolor": "white",
             "linecolor": "white",
             "minorgridcolor": "white",
             "startlinecolor": "#2a3f5f"
            },
            "baxis": {
             "endlinecolor": "#2a3f5f",
             "gridcolor": "white",
             "linecolor": "white",
             "minorgridcolor": "white",
             "startlinecolor": "#2a3f5f"
            },
            "type": "carpet"
           }
          ],
          "choropleth": [
           {
            "colorbar": {
             "outlinewidth": 0,
             "ticks": ""
            },
            "type": "choropleth"
           }
          ],
          "contour": [
           {
            "colorbar": {
             "outlinewidth": 0,
             "ticks": ""
            },
            "colorscale": [
             [
              0,
              "#0d0887"
             ],
             [
              0.1111111111111111,
              "#46039f"
             ],
             [
              0.2222222222222222,
              "#7201a8"
             ],
             [
              0.3333333333333333,
              "#9c179e"
             ],
             [
              0.4444444444444444,
              "#bd3786"
             ],
             [
              0.5555555555555556,
              "#d8576b"
             ],
             [
              0.6666666666666666,
              "#ed7953"
             ],
             [
              0.7777777777777778,
              "#fb9f3a"
             ],
             [
              0.8888888888888888,
              "#fdca26"
             ],
             [
              1,
              "#f0f921"
             ]
            ],
            "type": "contour"
           }
          ],
          "contourcarpet": [
           {
            "colorbar": {
             "outlinewidth": 0,
             "ticks": ""
            },
            "type": "contourcarpet"
           }
          ],
          "heatmap": [
           {
            "colorbar": {
             "outlinewidth": 0,
             "ticks": ""
            },
            "colorscale": [
             [
              0,
              "#0d0887"
             ],
             [
              0.1111111111111111,
              "#46039f"
             ],
             [
              0.2222222222222222,
              "#7201a8"
             ],
             [
              0.3333333333333333,
              "#9c179e"
             ],
             [
              0.4444444444444444,
              "#bd3786"
             ],
             [
              0.5555555555555556,
              "#d8576b"
             ],
             [
              0.6666666666666666,
              "#ed7953"
             ],
             [
              0.7777777777777778,
              "#fb9f3a"
             ],
             [
              0.8888888888888888,
              "#fdca26"
             ],
             [
              1,
              "#f0f921"
             ]
            ],
            "type": "heatmap"
           }
          ],
          "heatmapgl": [
           {
            "colorbar": {
             "outlinewidth": 0,
             "ticks": ""
            },
            "colorscale": [
             [
              0,
              "#0d0887"
             ],
             [
              0.1111111111111111,
              "#46039f"
             ],
             [
              0.2222222222222222,
              "#7201a8"
             ],
             [
              0.3333333333333333,
              "#9c179e"
             ],
             [
              0.4444444444444444,
              "#bd3786"
             ],
             [
              0.5555555555555556,
              "#d8576b"
             ],
             [
              0.6666666666666666,
              "#ed7953"
             ],
             [
              0.7777777777777778,
              "#fb9f3a"
             ],
             [
              0.8888888888888888,
              "#fdca26"
             ],
             [
              1,
              "#f0f921"
             ]
            ],
            "type": "heatmapgl"
           }
          ],
          "histogram": [
           {
            "marker": {
             "pattern": {
              "fillmode": "overlay",
              "size": 10,
              "solidity": 0.2
             }
            },
            "type": "histogram"
           }
          ],
          "histogram2d": [
           {
            "colorbar": {
             "outlinewidth": 0,
             "ticks": ""
            },
            "colorscale": [
             [
              0,
              "#0d0887"
             ],
             [
              0.1111111111111111,
              "#46039f"
             ],
             [
              0.2222222222222222,
              "#7201a8"
             ],
             [
              0.3333333333333333,
              "#9c179e"
             ],
             [
              0.4444444444444444,
              "#bd3786"
             ],
             [
              0.5555555555555556,
              "#d8576b"
             ],
             [
              0.6666666666666666,
              "#ed7953"
             ],
             [
              0.7777777777777778,
              "#fb9f3a"
             ],
             [
              0.8888888888888888,
              "#fdca26"
             ],
             [
              1,
              "#f0f921"
             ]
            ],
            "type": "histogram2d"
           }
          ],
          "histogram2dcontour": [
           {
            "colorbar": {
             "outlinewidth": 0,
             "ticks": ""
            },
            "colorscale": [
             [
              0,
              "#0d0887"
             ],
             [
              0.1111111111111111,
              "#46039f"
             ],
             [
              0.2222222222222222,
              "#7201a8"
             ],
             [
              0.3333333333333333,
              "#9c179e"
             ],
             [
              0.4444444444444444,
              "#bd3786"
             ],
             [
              0.5555555555555556,
              "#d8576b"
             ],
             [
              0.6666666666666666,
              "#ed7953"
             ],
             [
              0.7777777777777778,
              "#fb9f3a"
             ],
             [
              0.8888888888888888,
              "#fdca26"
             ],
             [
              1,
              "#f0f921"
             ]
            ],
            "type": "histogram2dcontour"
           }
          ],
          "mesh3d": [
           {
            "colorbar": {
             "outlinewidth": 0,
             "ticks": ""
            },
            "type": "mesh3d"
           }
          ],
          "parcoords": [
           {
            "line": {
             "colorbar": {
              "outlinewidth": 0,
              "ticks": ""
             }
            },
            "type": "parcoords"
           }
          ],
          "pie": [
           {
            "automargin": true,
            "type": "pie"
           }
          ],
          "scatter": [
           {
            "fillpattern": {
             "fillmode": "overlay",
             "size": 10,
             "solidity": 0.2
            },
            "type": "scatter"
           }
          ],
          "scatter3d": [
           {
            "line": {
             "colorbar": {
              "outlinewidth": 0,
              "ticks": ""
             }
            },
            "marker": {
             "colorbar": {
              "outlinewidth": 0,
              "ticks": ""
             }
            },
            "type": "scatter3d"
           }
          ],
          "scattercarpet": [
           {
            "marker": {
             "colorbar": {
              "outlinewidth": 0,
              "ticks": ""
             }
            },
            "type": "scattercarpet"
           }
          ],
          "scattergeo": [
           {
            "marker": {
             "colorbar": {
              "outlinewidth": 0,
              "ticks": ""
             }
            },
            "type": "scattergeo"
           }
          ],
          "scattergl": [
           {
            "marker": {
             "colorbar": {
              "outlinewidth": 0,
              "ticks": ""
             }
            },
            "type": "scattergl"
           }
          ],
          "scattermapbox": [
           {
            "marker": {
             "colorbar": {
              "outlinewidth": 0,
              "ticks": ""
             }
            },
            "type": "scattermapbox"
           }
          ],
          "scatterpolar": [
           {
            "marker": {
             "colorbar": {
              "outlinewidth": 0,
              "ticks": ""
             }
            },
            "type": "scatterpolar"
           }
          ],
          "scatterpolargl": [
           {
            "marker": {
             "colorbar": {
              "outlinewidth": 0,
              "ticks": ""
             }
            },
            "type": "scatterpolargl"
           }
          ],
          "scatterternary": [
           {
            "marker": {
             "colorbar": {
              "outlinewidth": 0,
              "ticks": ""
             }
            },
            "type": "scatterternary"
           }
          ],
          "surface": [
           {
            "colorbar": {
             "outlinewidth": 0,
             "ticks": ""
            },
            "colorscale": [
             [
              0,
              "#0d0887"
             ],
             [
              0.1111111111111111,
              "#46039f"
             ],
             [
              0.2222222222222222,
              "#7201a8"
             ],
             [
              0.3333333333333333,
              "#9c179e"
             ],
             [
              0.4444444444444444,
              "#bd3786"
             ],
             [
              0.5555555555555556,
              "#d8576b"
             ],
             [
              0.6666666666666666,
              "#ed7953"
             ],
             [
              0.7777777777777778,
              "#fb9f3a"
             ],
             [
              0.8888888888888888,
              "#fdca26"
             ],
             [
              1,
              "#f0f921"
             ]
            ],
            "type": "surface"
           }
          ],
          "table": [
           {
            "cells": {
             "fill": {
              "color": "#EBF0F8"
             },
             "line": {
              "color": "white"
             }
            },
            "header": {
             "fill": {
              "color": "#C8D4E3"
             },
             "line": {
              "color": "white"
             }
            },
            "type": "table"
           }
          ]
         },
         "layout": {
          "annotationdefaults": {
           "arrowcolor": "#2a3f5f",
           "arrowhead": 0,
           "arrowwidth": 1
          },
          "autotypenumbers": "strict",
          "coloraxis": {
           "colorbar": {
            "outlinewidth": 0,
            "ticks": ""
           }
          },
          "colorscale": {
           "diverging": [
            [
             0,
             "#8e0152"
            ],
            [
             0.1,
             "#c51b7d"
            ],
            [
             0.2,
             "#de77ae"
            ],
            [
             0.3,
             "#f1b6da"
            ],
            [
             0.4,
             "#fde0ef"
            ],
            [
             0.5,
             "#f7f7f7"
            ],
            [
             0.6,
             "#e6f5d0"
            ],
            [
             0.7,
             "#b8e186"
            ],
            [
             0.8,
             "#7fbc41"
            ],
            [
             0.9,
             "#4d9221"
            ],
            [
             1,
             "#276419"
            ]
           ],
           "sequential": [
            [
             0,
             "#0d0887"
            ],
            [
             0.1111111111111111,
             "#46039f"
            ],
            [
             0.2222222222222222,
             "#7201a8"
            ],
            [
             0.3333333333333333,
             "#9c179e"
            ],
            [
             0.4444444444444444,
             "#bd3786"
            ],
            [
             0.5555555555555556,
             "#d8576b"
            ],
            [
             0.6666666666666666,
             "#ed7953"
            ],
            [
             0.7777777777777778,
             "#fb9f3a"
            ],
            [
             0.8888888888888888,
             "#fdca26"
            ],
            [
             1,
             "#f0f921"
            ]
           ],
           "sequentialminus": [
            [
             0,
             "#0d0887"
            ],
            [
             0.1111111111111111,
             "#46039f"
            ],
            [
             0.2222222222222222,
             "#7201a8"
            ],
            [
             0.3333333333333333,
             "#9c179e"
            ],
            [
             0.4444444444444444,
             "#bd3786"
            ],
            [
             0.5555555555555556,
             "#d8576b"
            ],
            [
             0.6666666666666666,
             "#ed7953"
            ],
            [
             0.7777777777777778,
             "#fb9f3a"
            ],
            [
             0.8888888888888888,
             "#fdca26"
            ],
            [
             1,
             "#f0f921"
            ]
           ]
          },
          "colorway": [
           "#636efa",
           "#EF553B",
           "#00cc96",
           "#ab63fa",
           "#FFA15A",
           "#19d3f3",
           "#FF6692",
           "#B6E880",
           "#FF97FF",
           "#FECB52"
          ],
          "font": {
           "color": "#2a3f5f"
          },
          "geo": {
           "bgcolor": "white",
           "lakecolor": "white",
           "landcolor": "#E5ECF6",
           "showlakes": true,
           "showland": true,
           "subunitcolor": "white"
          },
          "hoverlabel": {
           "align": "left"
          },
          "hovermode": "closest",
          "mapbox": {
           "style": "light"
          },
          "paper_bgcolor": "white",
          "plot_bgcolor": "#E5ECF6",
          "polar": {
           "angularaxis": {
            "gridcolor": "white",
            "linecolor": "white",
            "ticks": ""
           },
           "bgcolor": "#E5ECF6",
           "radialaxis": {
            "gridcolor": "white",
            "linecolor": "white",
            "ticks": ""
           }
          },
          "scene": {
           "xaxis": {
            "backgroundcolor": "#E5ECF6",
            "gridcolor": "white",
            "gridwidth": 2,
            "linecolor": "white",
            "showbackground": true,
            "ticks": "",
            "zerolinecolor": "white"
           },
           "yaxis": {
            "backgroundcolor": "#E5ECF6",
            "gridcolor": "white",
            "gridwidth": 2,
            "linecolor": "white",
            "showbackground": true,
            "ticks": "",
            "zerolinecolor": "white"
           },
           "zaxis": {
            "backgroundcolor": "#E5ECF6",
            "gridcolor": "white",
            "gridwidth": 2,
            "linecolor": "white",
            "showbackground": true,
            "ticks": "",
            "zerolinecolor": "white"
           }
          },
          "shapedefaults": {
           "line": {
            "color": "#2a3f5f"
           }
          },
          "ternary": {
           "aaxis": {
            "gridcolor": "white",
            "linecolor": "white",
            "ticks": ""
           },
           "baxis": {
            "gridcolor": "white",
            "linecolor": "white",
            "ticks": ""
           },
           "bgcolor": "#E5ECF6",
           "caxis": {
            "gridcolor": "white",
            "linecolor": "white",
            "ticks": ""
           }
          },
          "title": {
           "x": 0.05
          },
          "xaxis": {
           "automargin": true,
           "gridcolor": "white",
           "linecolor": "white",
           "ticks": "",
           "title": {
            "standoff": 15
           },
           "zerolinecolor": "white",
           "zerolinewidth": 2
          },
          "yaxis": {
           "automargin": true,
           "gridcolor": "white",
           "linecolor": "white",
           "ticks": "",
           "title": {
            "standoff": 15
           },
           "zerolinecolor": "white",
           "zerolinewidth": 2
          }
         }
        },
        "title": {
         "text": "Métricas das Árvores de Decisão, para diferentes horizontes de previsões futuras 'f', de maiores r2 e para o melhor 'n' "
        },
        "xaxis": {
         "anchor": "y",
         "domain": [
          0,
          1
         ]
        },
        "xaxis2": {
         "anchor": "y2",
         "domain": [
          0,
          1
         ]
        },
        "yaxis": {
         "anchor": "x",
         "domain": [
          0.575,
          1
         ],
         "range": [
          0.5,
          1
         ]
        },
        "yaxis2": {
         "anchor": "x2",
         "domain": [
          0,
          0.425
         ],
         "range": [
          0.5,
          1
         ]
        }
       }
      }
     },
     "metadata": {},
     "output_type": "display_data"
    }
   ],
   "source": [
    "from plotly.subplots import make_subplots\n",
    "import plotly.graph_objects as go\n",
    "\n",
    "# Custom labels for each subplot\n",
    "custom_labels_r2_2 = ['f=5 (n=3)', 'f=6 (n=2)', 'f=7 (n=1)', 'f=8 (n=7)']\n",
    "custom_labels_r2_1 = ['f=1 (n=7)', 'f=2 (n=1)', 'f=3 (n=5)', 'f=4 (n=2)']\n",
    "\n",
    "# custom_labels_r2_2 = ['f=5 & n=3', 'f=6 & n=2', 'f=7 & n=1', 'f=8 & n=7']\n",
    "# custom_labels_r2_1 = ['f=1 & n=7', 'f=2 & n=1', 'f=3 & n=5', 'f=4 & n=2']\n",
    "\n",
    "# Define colors for bars\n",
    "r2_color = 'darkblue'\n",
    "corr_color = 'purple'\n",
    "\n",
    "# Create subplots\n",
    "fig = make_subplots(rows=2, cols=1) # subplot_titles=(\"Custom Labels for n=5 to n=8\", \"Custom Labels for n=1 to n=4\")\n",
    "\n",
    "# Add traces to subplot 1\n",
    "fig.add_trace(go.Bar(\n",
    "    x=custom_labels_r2_1,\n",
    "    y=df_plt_1['metrics.r2'][:4],\n",
    "    text=df_plt_1['metrics.r2'][:4].apply(lambda x: f'{x:.3f}'),  \n",
    "    hovertemplate='%{y:.3f}',\n",
    "    name='r2',\n",
    "    legendgroup='r2_group',\n",
    "    marker=dict(color=r2_color)\n",
    "), row=1, col=1)\n",
    "\n",
    "fig.add_trace(go.Bar(\n",
    "    x=custom_labels_r2_1,\n",
    "    y=df_plt_1['metrics.corr'][:4],\n",
    "    text=df_plt_1['metrics.corr'][:4].apply(lambda x: f'{x:.3f}'),  \n",
    "    hovertemplate='%{y:.3f}',\n",
    "    name='Correlação',\n",
    "    legendgroup='correlation_group',\n",
    "    showlegend=False,\n",
    "    marker=dict(color=corr_color)\n",
    "), row=1, col=1)\n",
    "\n",
    "# Add traces to subplot 2\n",
    "fig.add_trace(go.Bar(\n",
    "    x=custom_labels_r2_2,\n",
    "    y=df_plt_1['metrics.r2'][4:],\n",
    "    text=df_plt_1['metrics.r2'][4:].apply(lambda x: f'{x:.3f}'),  \n",
    "    hovertemplate='%{y:.3f}',\n",
    "    name='r2',\n",
    "    legendgroup='r2_group',\n",
    "    showlegend=False,\n",
    "    marker=dict(color=r2_color)\n",
    "), row=2, col=1)\n",
    "\n",
    "fig.add_trace(go.Bar(\n",
    "    x=custom_labels_r2_2,\n",
    "    y=df_plt_1['metrics.corr'][4:],\n",
    "    text=df_plt_1['metrics.corr'][4:].apply(lambda x: f'{x:.3f}'),  \n",
    "    hovertemplate='%{y:.3f}',\n",
    "    name='Correlação',\n",
    "    legendgroup='correlation_group',\n",
    "    marker=dict(color=corr_color)\n",
    "), row=2, col=1)\n",
    "\n",
    "# Update layout\n",
    "fig.update_layout(\n",
    "    title=f\"Métricas {name_plots}, para diferentes horizontes de previsões futuras 'f', de maiores r2 e para o melhor 'n' \",\n",
    "    #xaxis=dict(title='Número de S.O Retroativas \"n\" a serem utilizadas durante o treinamento'),\n",
    "    barmode='group',\n",
    ")\n",
    "\n",
    "# Set the same y-axis range for both subplots\n",
    "fig.update_yaxes(range=[0.5, 1.0], row=1, col=1)\n",
    "fig.update_yaxes(range=[0.5, 1.0], row=2, col=1)\n",
    "\n",
    "# Add annotations\n",
    "fig.add_annotation(text=\"'n' = Número de S.O Retroativas de vazão observada e precipitação na bacia, a serem utilizadas durante o treinamento\",\n",
    "                   xref=\"paper\", yref=\"paper\",\n",
    "                   x=0.5, y=-0.18, showarrow=False)\n",
    "\n",
    "# Add annotations\n",
    "fig.add_annotation(text=\"'f' = Número da S.O Futura onde se prevê a vazão\",\n",
    "                   xref=\"paper\", yref=\"paper\",\n",
    "                   x=0.5, y=-0.25, showarrow=False)\n",
    "\n",
    "# Show the plot\n",
    "fig.show()\n",
    "# fig.write_image(\"plot.png\", width=1600, height=500, scale=2)"
   ]
  },
  {
   "cell_type": "code",
   "execution_count": 11,
   "metadata": {},
   "outputs": [
    {
     "data": {
      "application/vnd.plotly.v1+json": {
       "config": {
        "plotlyServerURL": "https://plot.ly"
       },
       "data": [
        {
         "hovertemplate": "%{y:.3f}",
         "legendgroup": "r2_group",
         "marker": {
          "color": "darkblue"
         },
         "name": "r2",
         "text": [
          "0.869",
          "0.764",
          "0.718",
          "0.683"
         ],
         "type": "bar",
         "x": [
          "f=1",
          "f=2",
          "f=3",
          "f=4"
         ],
         "xaxis": "x",
         "y": [
          0.8685423779726325,
          0.7642426831411011,
          0.7175980877147871,
          0.6826567848875073
         ],
         "yaxis": "y"
        },
        {
         "hovertemplate": "%{y:.3f}",
         "legendgroup": "corr_group",
         "marker": {
          "color": "purple"
         },
         "name": "Correlação",
         "showlegend": false,
         "text": [
          "0.934",
          "0.875",
          "0.857",
          "0.837"
         ],
         "type": "bar",
         "x": [
          "f=1",
          "f=2",
          "f=3",
          "f=4"
         ],
         "xaxis": "x",
         "y": [
          0.9339882726019396,
          0.8750257143535256,
          0.8568006763054778,
          0.8367292389547927
         ],
         "yaxis": "y"
        },
        {
         "hovertemplate": "%{y:.3f}",
         "legendgroup": "r2_group",
         "marker": {
          "color": "darkblue"
         },
         "name": "r2",
         "showlegend": false,
         "text": [
          "0.630",
          "0.612",
          "0.625",
          "0.575"
         ],
         "type": "bar",
         "x": [
          "f=5",
          "f=6",
          "f=7",
          "f=8"
         ],
         "xaxis": "x2",
         "y": [
          0.6301412640021877,
          0.6122269480893847,
          0.6245761342972529,
          0.5753655609904744
         ],
         "yaxis": "y2"
        },
        {
         "hovertemplate": "%{y:.3f}",
         "legendgroup": "corr_group",
         "marker": {
          "color": "purple"
         },
         "name": "Correlação",
         "text": [
          "0.795",
          "0.791",
          "0.806",
          "0.770"
         ],
         "type": "bar",
         "x": [
          "f=5",
          "f=6",
          "f=7",
          "f=8"
         ],
         "xaxis": "x2",
         "y": [
          0.7954797808163342,
          0.7910538211603347,
          0.805545238483927,
          0.7703693157540537
         ],
         "yaxis": "y2"
        }
       ],
       "layout": {
        "annotations": [
         {
          "showarrow": false,
          "text": "'n' = Número de S.O Retroativas de vazão observada e precipitação na bacia, a serem utilizadas durante o treinamento",
          "x": 0.5,
          "xref": "paper",
          "y": -0.18,
          "yref": "paper"
         },
         {
          "showarrow": false,
          "text": "'f' = Número da S.O Futura onde se prevê a vazão",
          "x": 0.5,
          "xref": "paper",
          "y": -0.25,
          "yref": "paper"
         }
        ],
        "barmode": "group",
        "template": {
         "data": {
          "bar": [
           {
            "error_x": {
             "color": "#2a3f5f"
            },
            "error_y": {
             "color": "#2a3f5f"
            },
            "marker": {
             "line": {
              "color": "#E5ECF6",
              "width": 0.5
             },
             "pattern": {
              "fillmode": "overlay",
              "size": 10,
              "solidity": 0.2
             }
            },
            "type": "bar"
           }
          ],
          "barpolar": [
           {
            "marker": {
             "line": {
              "color": "#E5ECF6",
              "width": 0.5
             },
             "pattern": {
              "fillmode": "overlay",
              "size": 10,
              "solidity": 0.2
             }
            },
            "type": "barpolar"
           }
          ],
          "carpet": [
           {
            "aaxis": {
             "endlinecolor": "#2a3f5f",
             "gridcolor": "white",
             "linecolor": "white",
             "minorgridcolor": "white",
             "startlinecolor": "#2a3f5f"
            },
            "baxis": {
             "endlinecolor": "#2a3f5f",
             "gridcolor": "white",
             "linecolor": "white",
             "minorgridcolor": "white",
             "startlinecolor": "#2a3f5f"
            },
            "type": "carpet"
           }
          ],
          "choropleth": [
           {
            "colorbar": {
             "outlinewidth": 0,
             "ticks": ""
            },
            "type": "choropleth"
           }
          ],
          "contour": [
           {
            "colorbar": {
             "outlinewidth": 0,
             "ticks": ""
            },
            "colorscale": [
             [
              0,
              "#0d0887"
             ],
             [
              0.1111111111111111,
              "#46039f"
             ],
             [
              0.2222222222222222,
              "#7201a8"
             ],
             [
              0.3333333333333333,
              "#9c179e"
             ],
             [
              0.4444444444444444,
              "#bd3786"
             ],
             [
              0.5555555555555556,
              "#d8576b"
             ],
             [
              0.6666666666666666,
              "#ed7953"
             ],
             [
              0.7777777777777778,
              "#fb9f3a"
             ],
             [
              0.8888888888888888,
              "#fdca26"
             ],
             [
              1,
              "#f0f921"
             ]
            ],
            "type": "contour"
           }
          ],
          "contourcarpet": [
           {
            "colorbar": {
             "outlinewidth": 0,
             "ticks": ""
            },
            "type": "contourcarpet"
           }
          ],
          "heatmap": [
           {
            "colorbar": {
             "outlinewidth": 0,
             "ticks": ""
            },
            "colorscale": [
             [
              0,
              "#0d0887"
             ],
             [
              0.1111111111111111,
              "#46039f"
             ],
             [
              0.2222222222222222,
              "#7201a8"
             ],
             [
              0.3333333333333333,
              "#9c179e"
             ],
             [
              0.4444444444444444,
              "#bd3786"
             ],
             [
              0.5555555555555556,
              "#d8576b"
             ],
             [
              0.6666666666666666,
              "#ed7953"
             ],
             [
              0.7777777777777778,
              "#fb9f3a"
             ],
             [
              0.8888888888888888,
              "#fdca26"
             ],
             [
              1,
              "#f0f921"
             ]
            ],
            "type": "heatmap"
           }
          ],
          "heatmapgl": [
           {
            "colorbar": {
             "outlinewidth": 0,
             "ticks": ""
            },
            "colorscale": [
             [
              0,
              "#0d0887"
             ],
             [
              0.1111111111111111,
              "#46039f"
             ],
             [
              0.2222222222222222,
              "#7201a8"
             ],
             [
              0.3333333333333333,
              "#9c179e"
             ],
             [
              0.4444444444444444,
              "#bd3786"
             ],
             [
              0.5555555555555556,
              "#d8576b"
             ],
             [
              0.6666666666666666,
              "#ed7953"
             ],
             [
              0.7777777777777778,
              "#fb9f3a"
             ],
             [
              0.8888888888888888,
              "#fdca26"
             ],
             [
              1,
              "#f0f921"
             ]
            ],
            "type": "heatmapgl"
           }
          ],
          "histogram": [
           {
            "marker": {
             "pattern": {
              "fillmode": "overlay",
              "size": 10,
              "solidity": 0.2
             }
            },
            "type": "histogram"
           }
          ],
          "histogram2d": [
           {
            "colorbar": {
             "outlinewidth": 0,
             "ticks": ""
            },
            "colorscale": [
             [
              0,
              "#0d0887"
             ],
             [
              0.1111111111111111,
              "#46039f"
             ],
             [
              0.2222222222222222,
              "#7201a8"
             ],
             [
              0.3333333333333333,
              "#9c179e"
             ],
             [
              0.4444444444444444,
              "#bd3786"
             ],
             [
              0.5555555555555556,
              "#d8576b"
             ],
             [
              0.6666666666666666,
              "#ed7953"
             ],
             [
              0.7777777777777778,
              "#fb9f3a"
             ],
             [
              0.8888888888888888,
              "#fdca26"
             ],
             [
              1,
              "#f0f921"
             ]
            ],
            "type": "histogram2d"
           }
          ],
          "histogram2dcontour": [
           {
            "colorbar": {
             "outlinewidth": 0,
             "ticks": ""
            },
            "colorscale": [
             [
              0,
              "#0d0887"
             ],
             [
              0.1111111111111111,
              "#46039f"
             ],
             [
              0.2222222222222222,
              "#7201a8"
             ],
             [
              0.3333333333333333,
              "#9c179e"
             ],
             [
              0.4444444444444444,
              "#bd3786"
             ],
             [
              0.5555555555555556,
              "#d8576b"
             ],
             [
              0.6666666666666666,
              "#ed7953"
             ],
             [
              0.7777777777777778,
              "#fb9f3a"
             ],
             [
              0.8888888888888888,
              "#fdca26"
             ],
             [
              1,
              "#f0f921"
             ]
            ],
            "type": "histogram2dcontour"
           }
          ],
          "mesh3d": [
           {
            "colorbar": {
             "outlinewidth": 0,
             "ticks": ""
            },
            "type": "mesh3d"
           }
          ],
          "parcoords": [
           {
            "line": {
             "colorbar": {
              "outlinewidth": 0,
              "ticks": ""
             }
            },
            "type": "parcoords"
           }
          ],
          "pie": [
           {
            "automargin": true,
            "type": "pie"
           }
          ],
          "scatter": [
           {
            "fillpattern": {
             "fillmode": "overlay",
             "size": 10,
             "solidity": 0.2
            },
            "type": "scatter"
           }
          ],
          "scatter3d": [
           {
            "line": {
             "colorbar": {
              "outlinewidth": 0,
              "ticks": ""
             }
            },
            "marker": {
             "colorbar": {
              "outlinewidth": 0,
              "ticks": ""
             }
            },
            "type": "scatter3d"
           }
          ],
          "scattercarpet": [
           {
            "marker": {
             "colorbar": {
              "outlinewidth": 0,
              "ticks": ""
             }
            },
            "type": "scattercarpet"
           }
          ],
          "scattergeo": [
           {
            "marker": {
             "colorbar": {
              "outlinewidth": 0,
              "ticks": ""
             }
            },
            "type": "scattergeo"
           }
          ],
          "scattergl": [
           {
            "marker": {
             "colorbar": {
              "outlinewidth": 0,
              "ticks": ""
             }
            },
            "type": "scattergl"
           }
          ],
          "scattermapbox": [
           {
            "marker": {
             "colorbar": {
              "outlinewidth": 0,
              "ticks": ""
             }
            },
            "type": "scattermapbox"
           }
          ],
          "scatterpolar": [
           {
            "marker": {
             "colorbar": {
              "outlinewidth": 0,
              "ticks": ""
             }
            },
            "type": "scatterpolar"
           }
          ],
          "scatterpolargl": [
           {
            "marker": {
             "colorbar": {
              "outlinewidth": 0,
              "ticks": ""
             }
            },
            "type": "scatterpolargl"
           }
          ],
          "scatterternary": [
           {
            "marker": {
             "colorbar": {
              "outlinewidth": 0,
              "ticks": ""
             }
            },
            "type": "scatterternary"
           }
          ],
          "surface": [
           {
            "colorbar": {
             "outlinewidth": 0,
             "ticks": ""
            },
            "colorscale": [
             [
              0,
              "#0d0887"
             ],
             [
              0.1111111111111111,
              "#46039f"
             ],
             [
              0.2222222222222222,
              "#7201a8"
             ],
             [
              0.3333333333333333,
              "#9c179e"
             ],
             [
              0.4444444444444444,
              "#bd3786"
             ],
             [
              0.5555555555555556,
              "#d8576b"
             ],
             [
              0.6666666666666666,
              "#ed7953"
             ],
             [
              0.7777777777777778,
              "#fb9f3a"
             ],
             [
              0.8888888888888888,
              "#fdca26"
             ],
             [
              1,
              "#f0f921"
             ]
            ],
            "type": "surface"
           }
          ],
          "table": [
           {
            "cells": {
             "fill": {
              "color": "#EBF0F8"
             },
             "line": {
              "color": "white"
             }
            },
            "header": {
             "fill": {
              "color": "#C8D4E3"
             },
             "line": {
              "color": "white"
             }
            },
            "type": "table"
           }
          ]
         },
         "layout": {
          "annotationdefaults": {
           "arrowcolor": "#2a3f5f",
           "arrowhead": 0,
           "arrowwidth": 1
          },
          "autotypenumbers": "strict",
          "coloraxis": {
           "colorbar": {
            "outlinewidth": 0,
            "ticks": ""
           }
          },
          "colorscale": {
           "diverging": [
            [
             0,
             "#8e0152"
            ],
            [
             0.1,
             "#c51b7d"
            ],
            [
             0.2,
             "#de77ae"
            ],
            [
             0.3,
             "#f1b6da"
            ],
            [
             0.4,
             "#fde0ef"
            ],
            [
             0.5,
             "#f7f7f7"
            ],
            [
             0.6,
             "#e6f5d0"
            ],
            [
             0.7,
             "#b8e186"
            ],
            [
             0.8,
             "#7fbc41"
            ],
            [
             0.9,
             "#4d9221"
            ],
            [
             1,
             "#276419"
            ]
           ],
           "sequential": [
            [
             0,
             "#0d0887"
            ],
            [
             0.1111111111111111,
             "#46039f"
            ],
            [
             0.2222222222222222,
             "#7201a8"
            ],
            [
             0.3333333333333333,
             "#9c179e"
            ],
            [
             0.4444444444444444,
             "#bd3786"
            ],
            [
             0.5555555555555556,
             "#d8576b"
            ],
            [
             0.6666666666666666,
             "#ed7953"
            ],
            [
             0.7777777777777778,
             "#fb9f3a"
            ],
            [
             0.8888888888888888,
             "#fdca26"
            ],
            [
             1,
             "#f0f921"
            ]
           ],
           "sequentialminus": [
            [
             0,
             "#0d0887"
            ],
            [
             0.1111111111111111,
             "#46039f"
            ],
            [
             0.2222222222222222,
             "#7201a8"
            ],
            [
             0.3333333333333333,
             "#9c179e"
            ],
            [
             0.4444444444444444,
             "#bd3786"
            ],
            [
             0.5555555555555556,
             "#d8576b"
            ],
            [
             0.6666666666666666,
             "#ed7953"
            ],
            [
             0.7777777777777778,
             "#fb9f3a"
            ],
            [
             0.8888888888888888,
             "#fdca26"
            ],
            [
             1,
             "#f0f921"
            ]
           ]
          },
          "colorway": [
           "#636efa",
           "#EF553B",
           "#00cc96",
           "#ab63fa",
           "#FFA15A",
           "#19d3f3",
           "#FF6692",
           "#B6E880",
           "#FF97FF",
           "#FECB52"
          ],
          "font": {
           "color": "#2a3f5f"
          },
          "geo": {
           "bgcolor": "white",
           "lakecolor": "white",
           "landcolor": "#E5ECF6",
           "showlakes": true,
           "showland": true,
           "subunitcolor": "white"
          },
          "hoverlabel": {
           "align": "left"
          },
          "hovermode": "closest",
          "mapbox": {
           "style": "light"
          },
          "paper_bgcolor": "white",
          "plot_bgcolor": "#E5ECF6",
          "polar": {
           "angularaxis": {
            "gridcolor": "white",
            "linecolor": "white",
            "ticks": ""
           },
           "bgcolor": "#E5ECF6",
           "radialaxis": {
            "gridcolor": "white",
            "linecolor": "white",
            "ticks": ""
           }
          },
          "scene": {
           "xaxis": {
            "backgroundcolor": "#E5ECF6",
            "gridcolor": "white",
            "gridwidth": 2,
            "linecolor": "white",
            "showbackground": true,
            "ticks": "",
            "zerolinecolor": "white"
           },
           "yaxis": {
            "backgroundcolor": "#E5ECF6",
            "gridcolor": "white",
            "gridwidth": 2,
            "linecolor": "white",
            "showbackground": true,
            "ticks": "",
            "zerolinecolor": "white"
           },
           "zaxis": {
            "backgroundcolor": "#E5ECF6",
            "gridcolor": "white",
            "gridwidth": 2,
            "linecolor": "white",
            "showbackground": true,
            "ticks": "",
            "zerolinecolor": "white"
           }
          },
          "shapedefaults": {
           "line": {
            "color": "#2a3f5f"
           }
          },
          "ternary": {
           "aaxis": {
            "gridcolor": "white",
            "linecolor": "white",
            "ticks": ""
           },
           "baxis": {
            "gridcolor": "white",
            "linecolor": "white",
            "ticks": ""
           },
           "bgcolor": "#E5ECF6",
           "caxis": {
            "gridcolor": "white",
            "linecolor": "white",
            "ticks": ""
           }
          },
          "title": {
           "x": 0.05
          },
          "xaxis": {
           "automargin": true,
           "gridcolor": "white",
           "linecolor": "white",
           "ticks": "",
           "title": {
            "standoff": 15
           },
           "zerolinecolor": "white",
           "zerolinewidth": 2
          },
          "yaxis": {
           "automargin": true,
           "gridcolor": "white",
           "linecolor": "white",
           "ticks": "",
           "title": {
            "standoff": 15
           },
           "zerolinecolor": "white",
           "zerolinewidth": 2
          }
         }
        },
        "title": {
         "text": "Métricas das Árvores de Decisão, para diferentes horizontes de previsões futuras 'f', de maiores r2 e para 'n'=4 (fixo) "
        },
        "xaxis": {
         "anchor": "y",
         "domain": [
          0,
          1
         ]
        },
        "xaxis2": {
         "anchor": "y2",
         "domain": [
          0,
          1
         ]
        },
        "yaxis": {
         "anchor": "x",
         "domain": [
          0.575,
          1
         ],
         "range": [
          0.5,
          1
         ]
        },
        "yaxis2": {
         "anchor": "x2",
         "domain": [
          0,
          0.425
         ],
         "range": [
          0.5,
          1
         ]
        }
       }
      }
     },
     "metadata": {},
     "output_type": "display_data"
    }
   ],
   "source": [
    "from plotly.subplots import make_subplots\n",
    "import plotly.graph_objects as go\n",
    "\n",
    "# Custom labels for each subplot\n",
    "custom_labels_r2_2 = ['f=5', 'f=6', 'f=7', 'f=8']\n",
    "custom_labels_r2_1 = ['f=1', 'f=2', 'f=3', 'f=4']\n",
    "\n",
    "# custom_labels_r2_2 = ['f=5 & n=3', 'f=6 & n=2', 'f=7 & n=1', 'f=8 & n=7']\n",
    "# custom_labels_r2_1 = ['f=1 & n=7', 'f=2 & n=1', 'f=3 & n=5', 'f=4 & n=2']\n",
    "\n",
    "\n",
    "# Define colors for bars\n",
    "r2_color = 'darkblue'\n",
    "corr_color = 'purple'\n",
    "\n",
    "# Create subplots\n",
    "fig = make_subplots(rows=2, cols=1) # subplot_titles=(\"Custom Labels for n=5 to n=8\", \"Custom Labels for n=1 to n=4\")\n",
    "\n",
    "# Add traces to subplot 1\n",
    "fig.add_trace(go.Bar(\n",
    "    x=custom_labels_r2_1,\n",
    "    y=df_plt_2['metrics.r2'][:4],\n",
    "    text=df_plt_2['metrics.r2'][:4].apply(lambda x: f'{x:.3f}'),  \n",
    "    hovertemplate='%{y:.3f}',\n",
    "    name='r2',\n",
    "    legendgroup='r2_group',\n",
    "    marker=dict(color=r2_color)\n",
    "), row=1, col=1)\n",
    "\n",
    "fig.add_trace(go.Bar(\n",
    "    x=custom_labels_r2_1,\n",
    "    y=df_plt_2['metrics.corr'][:4],\n",
    "    text=df_plt_2['metrics.corr'][:4].apply(lambda x: f'{x:.3f}'),  \n",
    "    hovertemplate='%{y:.3f}',\n",
    "    name='Correlação',\n",
    "    legendgroup='corr_group',\n",
    "    showlegend=False,\n",
    "    marker=dict(color=corr_color)\n",
    "), row=1, col=1)\n",
    "\n",
    "# Add traces to subplot 2\n",
    "fig.add_trace(go.Bar(\n",
    "    x=custom_labels_r2_2,\n",
    "    y=df_plt_2['metrics.r2'][4:],\n",
    "    text=df_plt_2['metrics.r2'][4:].apply(lambda x: f'{x:.3f}'),  \n",
    "    hovertemplate='%{y:.3f}',\n",
    "    name='r2',\n",
    "    legendgroup='r2_group',\n",
    "    showlegend=False,\n",
    "    marker=dict(color=r2_color)\n",
    "), row=2, col=1)\n",
    "\n",
    "fig.add_trace(go.Bar(\n",
    "    x=custom_labels_r2_2,\n",
    "    y=df_plt_2['metrics.corr'][4:],\n",
    "    text=df_plt_2['metrics.corr'][4:].apply(lambda x: f'{x:.3f}'),  \n",
    "    hovertemplate='%{y:.3f}',\n",
    "    name='Correlação',\n",
    "    legendgroup='corr_group',\n",
    "    marker=dict(color=corr_color)\n",
    "), row=2, col=1)\n",
    "\n",
    "# Update layout\n",
    "fig.update_layout(\n",
    "    title=f\"Métricas {name_plots}, para diferentes horizontes de previsões futuras 'f', de maiores r2 e para 'n'=4 (fixo) \",\n",
    "    #xaxis=dict(title='Número de S.O Retroativas \"n\" a serem utilizadas durante o treinamento'),\n",
    "    barmode='group',\n",
    ")\n",
    "\n",
    "# Set the same y-axis range for both subplots\n",
    "fig.update_yaxes(range=[0.5, 1.0], row=1, col=1)\n",
    "fig.update_yaxes(range=[0.5, 1.0], row=2, col=1)\n",
    "\n",
    "# Add annotations\n",
    "fig.add_annotation(text=\"'n' = Número de S.O Retroativas de vazão observada e precipitação na bacia, a serem utilizadas durante o treinamento\",\n",
    "                   xref=\"paper\", yref=\"paper\",\n",
    "                   x=0.5, y=-0.18, showarrow=False)\n",
    "\n",
    "# Add annotations\n",
    "fig.add_annotation(text=\"'f' = Número da S.O Futura onde se prevê a vazão\",\n",
    "                   xref=\"paper\", yref=\"paper\",\n",
    "                   x=0.5, y=-0.25, showarrow=False)\n",
    "\n",
    "# Show the plot\n",
    "fig.show()\n"
   ]
  },
  {
   "cell_type": "code",
   "execution_count": 32,
   "metadata": {},
   "outputs": [
    {
     "data": {
      "application/vnd.plotly.v1+json": {
       "config": {
        "plotlyServerURL": "https://plot.ly"
       },
       "data": [
        {
         "hovertemplate": "%{y:.3f}",
         "legendgroup": "mae_group",
         "marker": {
          "color": "maroon"
         },
         "name": "MAE",
         "text": [
          "8525.476",
          "11822.443",
          "11984.505",
          "13325.431"
         ],
         "type": "bar",
         "x": [
          "f=1",
          "f=2",
          "f=3",
          "f=4"
         ],
         "xaxis": "x",
         "y": [
          8525.476355699855,
          11822.442942583733,
          11984.504836067441,
          13325.431298076923
         ],
         "yaxis": "y"
        },
        {
         "hovertemplate": "%{y:.3f}",
         "legendgroup": "rmse_group",
         "marker": {
          "color": "orange"
         },
         "name": "RMSE",
         "showlegend": false,
         "text": [
          "11912.706",
          "15563.654",
          "17205.818",
          "18785.631"
         ],
         "type": "bar",
         "x": [
          "f=1",
          "f=2",
          "f=3",
          "f=4"
         ],
         "xaxis": "x",
         "y": [
          11912.705891670514,
          15563.653555662742,
          17205.81761528084,
          18785.630656106947
         ],
         "yaxis": "y"
        },
        {
         "hovertemplate": "%{y:.3f}",
         "legendgroup": "mae_group",
         "marker": {
          "color": "maroon"
         },
         "name": "MAE",
         "showlegend": false,
         "text": [
          "16028.721",
          "14181.285",
          "14698.017",
          "15814.965"
         ],
         "type": "bar",
         "x": [
          "f=5",
          "f=6",
          "f=7",
          "f=8"
         ],
         "xaxis": "x2",
         "y": [
          16028.721281698914,
          14181.285388668153,
          14698.016778846153,
          15814.965279354488
         ],
         "yaxis": "y2"
        },
        {
         "hovertemplate": "%{y:.3f}",
         "legendgroup": "rmse_group",
         "marker": {
          "color": "orange"
         },
         "name": "RMSE",
         "text": [
          "21987.004",
          "19339.708",
          "20571.169",
          "21850.393"
         ],
         "type": "bar",
         "x": [
          "f=5",
          "f=6",
          "f=7",
          "f=8"
         ],
         "xaxis": "x2",
         "y": [
          21987.004124827283,
          19339.707904584866,
          20571.169097338487,
          21850.393240421286
         ],
         "yaxis": "y2"
        }
       ],
       "layout": {
        "annotations": [
         {
          "showarrow": false,
          "text": "'n' = Número de S.O Retroativas de vazão observada e precipitação na bacia, a serem utilizadas durante o treinamento",
          "x": 0.5,
          "xref": "paper",
          "y": -0.18,
          "yref": "paper"
         },
         {
          "showarrow": false,
          "text": "'f' = Número da S.O Futura onde se prevê a vazão",
          "x": 0.5,
          "xref": "paper",
          "y": -0.25,
          "yref": "paper"
         }
        ],
        "barmode": "group",
        "template": {
         "data": {
          "bar": [
           {
            "error_x": {
             "color": "#2a3f5f"
            },
            "error_y": {
             "color": "#2a3f5f"
            },
            "marker": {
             "line": {
              "color": "#E5ECF6",
              "width": 0.5
             },
             "pattern": {
              "fillmode": "overlay",
              "size": 10,
              "solidity": 0.2
             }
            },
            "type": "bar"
           }
          ],
          "barpolar": [
           {
            "marker": {
             "line": {
              "color": "#E5ECF6",
              "width": 0.5
             },
             "pattern": {
              "fillmode": "overlay",
              "size": 10,
              "solidity": 0.2
             }
            },
            "type": "barpolar"
           }
          ],
          "carpet": [
           {
            "aaxis": {
             "endlinecolor": "#2a3f5f",
             "gridcolor": "white",
             "linecolor": "white",
             "minorgridcolor": "white",
             "startlinecolor": "#2a3f5f"
            },
            "baxis": {
             "endlinecolor": "#2a3f5f",
             "gridcolor": "white",
             "linecolor": "white",
             "minorgridcolor": "white",
             "startlinecolor": "#2a3f5f"
            },
            "type": "carpet"
           }
          ],
          "choropleth": [
           {
            "colorbar": {
             "outlinewidth": 0,
             "ticks": ""
            },
            "type": "choropleth"
           }
          ],
          "contour": [
           {
            "colorbar": {
             "outlinewidth": 0,
             "ticks": ""
            },
            "colorscale": [
             [
              0,
              "#0d0887"
             ],
             [
              0.1111111111111111,
              "#46039f"
             ],
             [
              0.2222222222222222,
              "#7201a8"
             ],
             [
              0.3333333333333333,
              "#9c179e"
             ],
             [
              0.4444444444444444,
              "#bd3786"
             ],
             [
              0.5555555555555556,
              "#d8576b"
             ],
             [
              0.6666666666666666,
              "#ed7953"
             ],
             [
              0.7777777777777778,
              "#fb9f3a"
             ],
             [
              0.8888888888888888,
              "#fdca26"
             ],
             [
              1,
              "#f0f921"
             ]
            ],
            "type": "contour"
           }
          ],
          "contourcarpet": [
           {
            "colorbar": {
             "outlinewidth": 0,
             "ticks": ""
            },
            "type": "contourcarpet"
           }
          ],
          "heatmap": [
           {
            "colorbar": {
             "outlinewidth": 0,
             "ticks": ""
            },
            "colorscale": [
             [
              0,
              "#0d0887"
             ],
             [
              0.1111111111111111,
              "#46039f"
             ],
             [
              0.2222222222222222,
              "#7201a8"
             ],
             [
              0.3333333333333333,
              "#9c179e"
             ],
             [
              0.4444444444444444,
              "#bd3786"
             ],
             [
              0.5555555555555556,
              "#d8576b"
             ],
             [
              0.6666666666666666,
              "#ed7953"
             ],
             [
              0.7777777777777778,
              "#fb9f3a"
             ],
             [
              0.8888888888888888,
              "#fdca26"
             ],
             [
              1,
              "#f0f921"
             ]
            ],
            "type": "heatmap"
           }
          ],
          "heatmapgl": [
           {
            "colorbar": {
             "outlinewidth": 0,
             "ticks": ""
            },
            "colorscale": [
             [
              0,
              "#0d0887"
             ],
             [
              0.1111111111111111,
              "#46039f"
             ],
             [
              0.2222222222222222,
              "#7201a8"
             ],
             [
              0.3333333333333333,
              "#9c179e"
             ],
             [
              0.4444444444444444,
              "#bd3786"
             ],
             [
              0.5555555555555556,
              "#d8576b"
             ],
             [
              0.6666666666666666,
              "#ed7953"
             ],
             [
              0.7777777777777778,
              "#fb9f3a"
             ],
             [
              0.8888888888888888,
              "#fdca26"
             ],
             [
              1,
              "#f0f921"
             ]
            ],
            "type": "heatmapgl"
           }
          ],
          "histogram": [
           {
            "marker": {
             "pattern": {
              "fillmode": "overlay",
              "size": 10,
              "solidity": 0.2
             }
            },
            "type": "histogram"
           }
          ],
          "histogram2d": [
           {
            "colorbar": {
             "outlinewidth": 0,
             "ticks": ""
            },
            "colorscale": [
             [
              0,
              "#0d0887"
             ],
             [
              0.1111111111111111,
              "#46039f"
             ],
             [
              0.2222222222222222,
              "#7201a8"
             ],
             [
              0.3333333333333333,
              "#9c179e"
             ],
             [
              0.4444444444444444,
              "#bd3786"
             ],
             [
              0.5555555555555556,
              "#d8576b"
             ],
             [
              0.6666666666666666,
              "#ed7953"
             ],
             [
              0.7777777777777778,
              "#fb9f3a"
             ],
             [
              0.8888888888888888,
              "#fdca26"
             ],
             [
              1,
              "#f0f921"
             ]
            ],
            "type": "histogram2d"
           }
          ],
          "histogram2dcontour": [
           {
            "colorbar": {
             "outlinewidth": 0,
             "ticks": ""
            },
            "colorscale": [
             [
              0,
              "#0d0887"
             ],
             [
              0.1111111111111111,
              "#46039f"
             ],
             [
              0.2222222222222222,
              "#7201a8"
             ],
             [
              0.3333333333333333,
              "#9c179e"
             ],
             [
              0.4444444444444444,
              "#bd3786"
             ],
             [
              0.5555555555555556,
              "#d8576b"
             ],
             [
              0.6666666666666666,
              "#ed7953"
             ],
             [
              0.7777777777777778,
              "#fb9f3a"
             ],
             [
              0.8888888888888888,
              "#fdca26"
             ],
             [
              1,
              "#f0f921"
             ]
            ],
            "type": "histogram2dcontour"
           }
          ],
          "mesh3d": [
           {
            "colorbar": {
             "outlinewidth": 0,
             "ticks": ""
            },
            "type": "mesh3d"
           }
          ],
          "parcoords": [
           {
            "line": {
             "colorbar": {
              "outlinewidth": 0,
              "ticks": ""
             }
            },
            "type": "parcoords"
           }
          ],
          "pie": [
           {
            "automargin": true,
            "type": "pie"
           }
          ],
          "scatter": [
           {
            "fillpattern": {
             "fillmode": "overlay",
             "size": 10,
             "solidity": 0.2
            },
            "type": "scatter"
           }
          ],
          "scatter3d": [
           {
            "line": {
             "colorbar": {
              "outlinewidth": 0,
              "ticks": ""
             }
            },
            "marker": {
             "colorbar": {
              "outlinewidth": 0,
              "ticks": ""
             }
            },
            "type": "scatter3d"
           }
          ],
          "scattercarpet": [
           {
            "marker": {
             "colorbar": {
              "outlinewidth": 0,
              "ticks": ""
             }
            },
            "type": "scattercarpet"
           }
          ],
          "scattergeo": [
           {
            "marker": {
             "colorbar": {
              "outlinewidth": 0,
              "ticks": ""
             }
            },
            "type": "scattergeo"
           }
          ],
          "scattergl": [
           {
            "marker": {
             "colorbar": {
              "outlinewidth": 0,
              "ticks": ""
             }
            },
            "type": "scattergl"
           }
          ],
          "scattermapbox": [
           {
            "marker": {
             "colorbar": {
              "outlinewidth": 0,
              "ticks": ""
             }
            },
            "type": "scattermapbox"
           }
          ],
          "scatterpolar": [
           {
            "marker": {
             "colorbar": {
              "outlinewidth": 0,
              "ticks": ""
             }
            },
            "type": "scatterpolar"
           }
          ],
          "scatterpolargl": [
           {
            "marker": {
             "colorbar": {
              "outlinewidth": 0,
              "ticks": ""
             }
            },
            "type": "scatterpolargl"
           }
          ],
          "scatterternary": [
           {
            "marker": {
             "colorbar": {
              "outlinewidth": 0,
              "ticks": ""
             }
            },
            "type": "scatterternary"
           }
          ],
          "surface": [
           {
            "colorbar": {
             "outlinewidth": 0,
             "ticks": ""
            },
            "colorscale": [
             [
              0,
              "#0d0887"
             ],
             [
              0.1111111111111111,
              "#46039f"
             ],
             [
              0.2222222222222222,
              "#7201a8"
             ],
             [
              0.3333333333333333,
              "#9c179e"
             ],
             [
              0.4444444444444444,
              "#bd3786"
             ],
             [
              0.5555555555555556,
              "#d8576b"
             ],
             [
              0.6666666666666666,
              "#ed7953"
             ],
             [
              0.7777777777777778,
              "#fb9f3a"
             ],
             [
              0.8888888888888888,
              "#fdca26"
             ],
             [
              1,
              "#f0f921"
             ]
            ],
            "type": "surface"
           }
          ],
          "table": [
           {
            "cells": {
             "fill": {
              "color": "#EBF0F8"
             },
             "line": {
              "color": "white"
             }
            },
            "header": {
             "fill": {
              "color": "#C8D4E3"
             },
             "line": {
              "color": "white"
             }
            },
            "type": "table"
           }
          ]
         },
         "layout": {
          "annotationdefaults": {
           "arrowcolor": "#2a3f5f",
           "arrowhead": 0,
           "arrowwidth": 1
          },
          "autotypenumbers": "strict",
          "coloraxis": {
           "colorbar": {
            "outlinewidth": 0,
            "ticks": ""
           }
          },
          "colorscale": {
           "diverging": [
            [
             0,
             "#8e0152"
            ],
            [
             0.1,
             "#c51b7d"
            ],
            [
             0.2,
             "#de77ae"
            ],
            [
             0.3,
             "#f1b6da"
            ],
            [
             0.4,
             "#fde0ef"
            ],
            [
             0.5,
             "#f7f7f7"
            ],
            [
             0.6,
             "#e6f5d0"
            ],
            [
             0.7,
             "#b8e186"
            ],
            [
             0.8,
             "#7fbc41"
            ],
            [
             0.9,
             "#4d9221"
            ],
            [
             1,
             "#276419"
            ]
           ],
           "sequential": [
            [
             0,
             "#0d0887"
            ],
            [
             0.1111111111111111,
             "#46039f"
            ],
            [
             0.2222222222222222,
             "#7201a8"
            ],
            [
             0.3333333333333333,
             "#9c179e"
            ],
            [
             0.4444444444444444,
             "#bd3786"
            ],
            [
             0.5555555555555556,
             "#d8576b"
            ],
            [
             0.6666666666666666,
             "#ed7953"
            ],
            [
             0.7777777777777778,
             "#fb9f3a"
            ],
            [
             0.8888888888888888,
             "#fdca26"
            ],
            [
             1,
             "#f0f921"
            ]
           ],
           "sequentialminus": [
            [
             0,
             "#0d0887"
            ],
            [
             0.1111111111111111,
             "#46039f"
            ],
            [
             0.2222222222222222,
             "#7201a8"
            ],
            [
             0.3333333333333333,
             "#9c179e"
            ],
            [
             0.4444444444444444,
             "#bd3786"
            ],
            [
             0.5555555555555556,
             "#d8576b"
            ],
            [
             0.6666666666666666,
             "#ed7953"
            ],
            [
             0.7777777777777778,
             "#fb9f3a"
            ],
            [
             0.8888888888888888,
             "#fdca26"
            ],
            [
             1,
             "#f0f921"
            ]
           ]
          },
          "colorway": [
           "#636efa",
           "#EF553B",
           "#00cc96",
           "#ab63fa",
           "#FFA15A",
           "#19d3f3",
           "#FF6692",
           "#B6E880",
           "#FF97FF",
           "#FECB52"
          ],
          "font": {
           "color": "#2a3f5f"
          },
          "geo": {
           "bgcolor": "white",
           "lakecolor": "white",
           "landcolor": "#E5ECF6",
           "showlakes": true,
           "showland": true,
           "subunitcolor": "white"
          },
          "hoverlabel": {
           "align": "left"
          },
          "hovermode": "closest",
          "mapbox": {
           "style": "light"
          },
          "paper_bgcolor": "white",
          "plot_bgcolor": "#E5ECF6",
          "polar": {
           "angularaxis": {
            "gridcolor": "white",
            "linecolor": "white",
            "ticks": ""
           },
           "bgcolor": "#E5ECF6",
           "radialaxis": {
            "gridcolor": "white",
            "linecolor": "white",
            "ticks": ""
           }
          },
          "scene": {
           "xaxis": {
            "backgroundcolor": "#E5ECF6",
            "gridcolor": "white",
            "gridwidth": 2,
            "linecolor": "white",
            "showbackground": true,
            "ticks": "",
            "zerolinecolor": "white"
           },
           "yaxis": {
            "backgroundcolor": "#E5ECF6",
            "gridcolor": "white",
            "gridwidth": 2,
            "linecolor": "white",
            "showbackground": true,
            "ticks": "",
            "zerolinecolor": "white"
           },
           "zaxis": {
            "backgroundcolor": "#E5ECF6",
            "gridcolor": "white",
            "gridwidth": 2,
            "linecolor": "white",
            "showbackground": true,
            "ticks": "",
            "zerolinecolor": "white"
           }
          },
          "shapedefaults": {
           "line": {
            "color": "#2a3f5f"
           }
          },
          "ternary": {
           "aaxis": {
            "gridcolor": "white",
            "linecolor": "white",
            "ticks": ""
           },
           "baxis": {
            "gridcolor": "white",
            "linecolor": "white",
            "ticks": ""
           },
           "bgcolor": "#E5ECF6",
           "caxis": {
            "gridcolor": "white",
            "linecolor": "white",
            "ticks": ""
           }
          },
          "title": {
           "x": 0.05
          },
          "xaxis": {
           "automargin": true,
           "gridcolor": "white",
           "linecolor": "white",
           "ticks": "",
           "title": {
            "standoff": 15
           },
           "zerolinecolor": "white",
           "zerolinewidth": 2
          },
          "yaxis": {
           "automargin": true,
           "gridcolor": "white",
           "linecolor": "white",
           "ticks": "",
           "title": {
            "standoff": 15
           },
           "zerolinecolor": "white",
           "zerolinewidth": 2
          }
         }
        },
        "title": {
         "text": "Métricas das Árvores de Decisão, para diferentes horizontes de previsões futuras 'f', de maiores r2 e para 'n'=4 (fixo) "
        },
        "xaxis": {
         "anchor": "y",
         "domain": [
          0,
          1
         ]
        },
        "xaxis2": {
         "anchor": "y2",
         "domain": [
          0,
          1
         ]
        },
        "yaxis": {
         "anchor": "x",
         "domain": [
          0.575,
          1
         ],
         "range": [
          0,
          25000
         ]
        },
        "yaxis2": {
         "anchor": "x2",
         "domain": [
          0,
          0.425
         ],
         "range": [
          0,
          25000
         ]
        }
       }
      }
     },
     "metadata": {},
     "output_type": "display_data"
    }
   ],
   "source": [
    "from plotly.subplots import make_subplots\n",
    "import plotly.graph_objects as go\n",
    "\n",
    "# Custom labels for each subplot\n",
    "custom_labels_r2_2 = ['f=5', 'f=6', 'f=7', 'f=8']\n",
    "custom_labels_r2_1 = ['f=1', 'f=2', 'f=3', 'f=4']\n",
    "\n",
    "# custom_labels_r2_2 = ['f=5 & n=3', 'f=6 & n=2', 'f=7 & n=1', 'f=8 & n=7']\n",
    "# custom_labels_r2_1 = ['f=1 & n=7', 'f=2 & n=1', 'f=3 & n=5', 'f=4 & n=2']\n",
    "\n",
    "\n",
    "# Define colors for bars\n",
    "r2_color = 'maroon'\n",
    "corr_color = 'orange'\n",
    "\n",
    "# Create subplots\n",
    "fig = make_subplots(rows=2, cols=1) # subplot_titles=(\"Custom Labels for n=5 to n=8\", \"Custom Labels for n=1 to n=4\")\n",
    "\n",
    "# Add traces to subplot 1\n",
    "fig.add_trace(go.Bar(\n",
    "    x=custom_labels_r2_1,\n",
    "    y=df_plt_2['metrics.mae'][:4],\n",
    "    text=df_plt_2['metrics.mae'][:4].apply(lambda x: f'{x:.3f}'),  \n",
    "    hovertemplate='%{y:.3f}',\n",
    "    name='MAE',\n",
    "    legendgroup='mae_group',\n",
    "    marker=dict(color=r2_color)\n",
    "), row=1, col=1)\n",
    "\n",
    "fig.add_trace(go.Bar(\n",
    "    x=custom_labels_r2_1,\n",
    "    y=df_plt_2['metrics.rmse'][:4],\n",
    "    text=df_plt_2['metrics.rmse'][:4].apply(lambda x: f'{x:.3f}'),  \n",
    "    hovertemplate='%{y:.3f}',\n",
    "    name='RMSE',\n",
    "    legendgroup='rmse_group',\n",
    "    showlegend=False,\n",
    "    marker=dict(color=corr_color)\n",
    "), row=1, col=1)\n",
    "\n",
    "# Add traces to subplot 2\n",
    "fig.add_trace(go.Bar(\n",
    "    x=custom_labels_r2_2,\n",
    "    y=df_plt_2['metrics.mae'][4:],\n",
    "    text=df_plt_2['metrics.mae'][4:].apply(lambda x: f'{x:.3f}'),  \n",
    "    hovertemplate='%{y:.3f}',\n",
    "    name='MAE',\n",
    "    legendgroup='mae_group',\n",
    "    showlegend=False,\n",
    "    marker=dict(color=r2_color)\n",
    "), row=2, col=1)\n",
    "\n",
    "fig.add_trace(go.Bar(\n",
    "    x=custom_labels_r2_2,\n",
    "    y=df_plt_2['metrics.rmse'][4:],\n",
    "    text=df_plt_2['metrics.rmse'][4:].apply(lambda x: f'{x:.3f}'),  \n",
    "    hovertemplate='%{y:.3f}',\n",
    "    name='RMSE',\n",
    "    legendgroup='rmse_group',\n",
    "    marker=dict(color=corr_color)\n",
    "), row=2, col=1)\n",
    "\n",
    "# Update layout\n",
    "fig.update_layout(\n",
    "    title=f\"Métricas {name_plots}, para diferentes horizontes de previsões futuras 'f', de maiores r2 e para 'n'=4 (fixo) \",\n",
    "    #xaxis=dict(title='Número de S.O Retroativas \"n\" a serem utilizadas durante o treinamento'),\n",
    "    barmode='group',\n",
    ")\n",
    "\n",
    "# Set the same y-axis range for both subplots\n",
    "fig.update_yaxes(range=[0, 25000], row=1, col=1)\n",
    "fig.update_yaxes(range=[0, 25000], row=2, col=1)\n",
    "\n",
    "# Add annotations\n",
    "fig.add_annotation(text=\"'n' = Número de S.O Retroativas de vazão observada e precipitação na bacia, a serem utilizadas durante o treinamento\",\n",
    "                   xref=\"paper\", yref=\"paper\",\n",
    "                   x=0.5, y=-0.18, showarrow=False)\n",
    "\n",
    "# Add annotations\n",
    "fig.add_annotation(text=\"'f' = Número da S.O Futura onde se prevê a vazão\",\n",
    "                   xref=\"paper\", yref=\"paper\",\n",
    "                   x=0.5, y=-0.25, showarrow=False)\n",
    "\n",
    "# Show the plot\n",
    "fig.show()\n"
   ]
  }
 ],
 "metadata": {
  "kernelspec": {
   "display_name": ".euros",
   "language": "python",
   "name": ".euros"
  },
  "language_info": {
   "codemirror_mode": {
    "name": "ipython",
    "version": 3
   },
   "file_extension": ".py",
   "mimetype": "text/x-python",
   "name": "python",
   "nbconvert_exporter": "python",
   "pygments_lexer": "ipython3",
   "version": "3.10.12"
  },
  "orig_nbformat": 4
 },
 "nbformat": 4,
 "nbformat_minor": 2
}
