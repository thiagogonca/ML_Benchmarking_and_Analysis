{
 "cells": [
  {
   "cell_type": "code",
   "execution_count": 9,
   "metadata": {},
   "outputs": [],
   "source": [
    "import pandas as pd\n",
    "from sklearn.preprocessing import MinMaxScaler\n",
    "import numpy as np\n",
    "from sklearn.model_selection import train_test_split\n",
    "from sklearn.tree import DecisionTreeRegressor\n",
    "from sklearn.metrics import mean_squared_error, mean_absolute_error, r2_score\n",
    "import os\n",
    "import mlflow\n",
    "import datetime\n",
    "from itertools import product\n",
    "import plotly.graph_objects as go"
   ]
  },
  {
   "cell_type": "markdown",
   "metadata": {},
   "source": [
    "- colocar r2, mae e rmse do modelo de maior r2 apenas! (no geral os 3 andam juntos, informar também qual \"n\" que gerou esse modelo) para cada f=1,...f=4 em um subplot e f=5,...f=8 no outro subplot\n",
    "- mesma coisa porém para \"n\" fixo em 4"
   ]
  },
  {
   "cell_type": "markdown",
   "metadata": {},
   "source": [
    "#### Melhor R2 (qualquer \"n\")"
   ]
  },
  {
   "cell_type": "code",
   "execution_count": 10,
   "metadata": {},
   "outputs": [],
   "source": [
    "name_plots = \"das LSTM's\"\n",
    "name_experiment = \"Itaipu_Benchmarking_Vazao_LSTM_V2_\""
   ]
  },
  {
   "cell_type": "code",
   "execution_count": 11,
   "metadata": {},
   "outputs": [
    {
     "data": {
      "text/plain": [
       "<Experiment: artifact_location='file:///home/thiago/2rp/this_is_fine/euros/mlruns/14', creation_time=1707876250777, experiment_id='14', last_update_time=1707876250777, lifecycle_stage='active', name='Itaipu_Benchmarking_Vazao_LSTM_V2_', tags={}>"
      ]
     },
     "execution_count": 11,
     "metadata": {},
     "output_type": "execute_result"
    }
   ],
   "source": [
    "mlflow.set_tracking_uri(\"http://localhost:5000\")\n",
    "mlflow.set_experiment(name_experiment)"
   ]
  },
  {
   "cell_type": "code",
   "execution_count": 12,
   "metadata": {},
   "outputs": [],
   "source": [
    "drop_columns = ['run_id','experiment_id', 'status','artifact_uri', \n",
    "                'start_time', 'end_time', 'tags.mlflow.source.type', \n",
    "                'tags.mlflow.source.name', 'params.model','params.label',\n",
    "                'tags.mlflow.user']"
   ]
  },
  {
   "cell_type": "code",
   "execution_count": 13,
   "metadata": {},
   "outputs": [],
   "source": [
    "f_so_pred_values = range(1,8+1)\n",
    "metric = 'r2'\n",
    "\n",
    "# Initialize an empty list to store the dataframes\n",
    "dfs = []\n",
    "\n",
    "# Iterate over each f_so_pred value\n",
    "for f_so_pred in f_so_pred_values:\n",
    "    # Search runs for the current f_so_pred value\n",
    "    df = mlflow.search_runs(filter_string=f\"params.f_so_pred = '{f_so_pred}'\", order_by=[f'metrics.{metric} DESC'])\n",
    "    \n",
    "    # Drop unnecessary columns\n",
    "    df = df.drop(columns=drop_columns).iloc[:1]\n",
    "    \n",
    "    # Append the dataframe to the list\n",
    "    dfs.append(df)\n",
    "\n",
    "# Concatenate the dataframes along the rows\n",
    "df_plt_1 = pd.concat(dfs)"
   ]
  },
  {
   "cell_type": "code",
   "execution_count": 14,
   "metadata": {},
   "outputs": [
    {
     "data": {
      "text/html": [
       "<div>\n",
       "<style scoped>\n",
       "    .dataframe tbody tr th:only-of-type {\n",
       "        vertical-align: middle;\n",
       "    }\n",
       "\n",
       "    .dataframe tbody tr th {\n",
       "        vertical-align: top;\n",
       "    }\n",
       "\n",
       "    .dataframe thead th {\n",
       "        text-align: right;\n",
       "    }\n",
       "</style>\n",
       "<table border=\"1\" class=\"dataframe\">\n",
       "  <thead>\n",
       "    <tr style=\"text-align: right;\">\n",
       "      <th></th>\n",
       "      <th>metrics.corr</th>\n",
       "      <th>metrics.mae</th>\n",
       "      <th>metrics.rmse</th>\n",
       "      <th>metrics.r2</th>\n",
       "      <th>params.monitor_metric</th>\n",
       "      <th>params.patience</th>\n",
       "      <th>params.activation</th>\n",
       "      <th>params.f_so_pred</th>\n",
       "      <th>params.max_epochs</th>\n",
       "      <th>params.n_neurons_hl</th>\n",
       "      <th>params.seed</th>\n",
       "      <th>params.n_so_retro</th>\n",
       "      <th>tags.mlflow.runName</th>\n",
       "      <th>tags.run_name</th>\n",
       "    </tr>\n",
       "  </thead>\n",
       "  <tbody>\n",
       "    <tr>\n",
       "      <th>0</th>\n",
       "      <td>0.967500</td>\n",
       "      <td>6060.086291</td>\n",
       "      <td>8390.353286</td>\n",
       "      <td>0.936052</td>\n",
       "      <td>val_mean_absolute_error</td>\n",
       "      <td>15</td>\n",
       "      <td>relu</td>\n",
       "      <td>1</td>\n",
       "      <td>500</td>\n",
       "      <td>[60, 60, 60]</td>\n",
       "      <td>21</td>\n",
       "      <td>5</td>\n",
       "      <td>lstm_n=5_f=1_60_60_60_relu_3hl</td>\n",
       "      <td>lstm_n=5_f=1_60_60_60_relu_3hl</td>\n",
       "    </tr>\n",
       "    <tr>\n",
       "      <th>0</th>\n",
       "      <td>0.946266</td>\n",
       "      <td>7581.417764</td>\n",
       "      <td>10606.615657</td>\n",
       "      <td>0.890607</td>\n",
       "      <td>val_mean_absolute_error</td>\n",
       "      <td>15</td>\n",
       "      <td>relu</td>\n",
       "      <td>2</td>\n",
       "      <td>500</td>\n",
       "      <td>[60, 60]</td>\n",
       "      <td>21</td>\n",
       "      <td>8</td>\n",
       "      <td>lstm_n=8_f=2_60_60_relu_2hl</td>\n",
       "      <td>lstm_n=8_f=2_60_60_relu_2hl</td>\n",
       "    </tr>\n",
       "    <tr>\n",
       "      <th>0</th>\n",
       "      <td>0.941340</td>\n",
       "      <td>8113.999038</td>\n",
       "      <td>11575.067562</td>\n",
       "      <td>0.882417</td>\n",
       "      <td>val_mean_absolute_error</td>\n",
       "      <td>15</td>\n",
       "      <td>relu</td>\n",
       "      <td>3</td>\n",
       "      <td>500</td>\n",
       "      <td>[50, 50, 40]</td>\n",
       "      <td>21</td>\n",
       "      <td>5</td>\n",
       "      <td>lstm_n=5_f=3_50_50_40_relu_3hl</td>\n",
       "      <td>lstm_n=5_f=3_50_50_40_relu_3hl</td>\n",
       "    </tr>\n",
       "    <tr>\n",
       "      <th>0</th>\n",
       "      <td>0.940593</td>\n",
       "      <td>7771.003933</td>\n",
       "      <td>11318.122263</td>\n",
       "      <td>0.883610</td>\n",
       "      <td>val_mean_absolute_error</td>\n",
       "      <td>15</td>\n",
       "      <td>relu</td>\n",
       "      <td>4</td>\n",
       "      <td>500</td>\n",
       "      <td>[60]</td>\n",
       "      <td>21</td>\n",
       "      <td>8</td>\n",
       "      <td>lstm_n=8_f=4_60_relu_1hl</td>\n",
       "      <td>lstm_n=8_f=4_60_relu_1hl</td>\n",
       "    </tr>\n",
       "    <tr>\n",
       "      <th>0</th>\n",
       "      <td>0.909254</td>\n",
       "      <td>9758.420964</td>\n",
       "      <td>14033.906563</td>\n",
       "      <td>0.825203</td>\n",
       "      <td>val_mean_absolute_error</td>\n",
       "      <td>15</td>\n",
       "      <td>relu</td>\n",
       "      <td>5</td>\n",
       "      <td>500</td>\n",
       "      <td>[60, 40, 50]</td>\n",
       "      <td>21</td>\n",
       "      <td>7</td>\n",
       "      <td>lstm_n=7_f=5_60_40_50_relu_3hl</td>\n",
       "      <td>lstm_n=7_f=5_60_40_50_relu_3hl</td>\n",
       "    </tr>\n",
       "    <tr>\n",
       "      <th>0</th>\n",
       "      <td>0.918057</td>\n",
       "      <td>9507.929553</td>\n",
       "      <td>13009.763118</td>\n",
       "      <td>0.836859</td>\n",
       "      <td>val_mean_absolute_error</td>\n",
       "      <td>15</td>\n",
       "      <td>relu</td>\n",
       "      <td>6</td>\n",
       "      <td>500</td>\n",
       "      <td>[40, 60]</td>\n",
       "      <td>21</td>\n",
       "      <td>8</td>\n",
       "      <td>lstm_n=8_f=6_40_60_relu_2hl</td>\n",
       "      <td>lstm_n=8_f=6_40_60_relu_2hl</td>\n",
       "    </tr>\n",
       "    <tr>\n",
       "      <th>0</th>\n",
       "      <td>0.929910</td>\n",
       "      <td>9085.766434</td>\n",
       "      <td>12949.512696</td>\n",
       "      <td>0.859910</td>\n",
       "      <td>val_mean_absolute_error</td>\n",
       "      <td>15</td>\n",
       "      <td>relu</td>\n",
       "      <td>7</td>\n",
       "      <td>500</td>\n",
       "      <td>[60, 40]</td>\n",
       "      <td>21</td>\n",
       "      <td>7</td>\n",
       "      <td>lstm_n=7_f=7_60_40_relu_2hl</td>\n",
       "      <td>lstm_n=7_f=7_60_40_relu_2hl</td>\n",
       "    </tr>\n",
       "    <tr>\n",
       "      <th>0</th>\n",
       "      <td>0.920673</td>\n",
       "      <td>9707.622325</td>\n",
       "      <td>13877.281886</td>\n",
       "      <td>0.847552</td>\n",
       "      <td>val_mean_absolute_error</td>\n",
       "      <td>15</td>\n",
       "      <td>relu</td>\n",
       "      <td>8</td>\n",
       "      <td>500</td>\n",
       "      <td>[60, 40]</td>\n",
       "      <td>21</td>\n",
       "      <td>5</td>\n",
       "      <td>lstm_n=5_f=8_60_40_relu_2hl</td>\n",
       "      <td>lstm_n=5_f=8_60_40_relu_2hl</td>\n",
       "    </tr>\n",
       "  </tbody>\n",
       "</table>\n",
       "</div>"
      ],
      "text/plain": [
       "   metrics.corr  metrics.mae  metrics.rmse  metrics.r2  \\\n",
       "0      0.967500  6060.086291   8390.353286    0.936052   \n",
       "0      0.946266  7581.417764  10606.615657    0.890607   \n",
       "0      0.941340  8113.999038  11575.067562    0.882417   \n",
       "0      0.940593  7771.003933  11318.122263    0.883610   \n",
       "0      0.909254  9758.420964  14033.906563    0.825203   \n",
       "0      0.918057  9507.929553  13009.763118    0.836859   \n",
       "0      0.929910  9085.766434  12949.512696    0.859910   \n",
       "0      0.920673  9707.622325  13877.281886    0.847552   \n",
       "\n",
       "     params.monitor_metric params.patience params.activation params.f_so_pred  \\\n",
       "0  val_mean_absolute_error              15              relu                1   \n",
       "0  val_mean_absolute_error              15              relu                2   \n",
       "0  val_mean_absolute_error              15              relu                3   \n",
       "0  val_mean_absolute_error              15              relu                4   \n",
       "0  val_mean_absolute_error              15              relu                5   \n",
       "0  val_mean_absolute_error              15              relu                6   \n",
       "0  val_mean_absolute_error              15              relu                7   \n",
       "0  val_mean_absolute_error              15              relu                8   \n",
       "\n",
       "  params.max_epochs params.n_neurons_hl params.seed params.n_so_retro  \\\n",
       "0               500        [60, 60, 60]          21                 5   \n",
       "0               500            [60, 60]          21                 8   \n",
       "0               500        [50, 50, 40]          21                 5   \n",
       "0               500                [60]          21                 8   \n",
       "0               500        [60, 40, 50]          21                 7   \n",
       "0               500            [40, 60]          21                 8   \n",
       "0               500            [60, 40]          21                 7   \n",
       "0               500            [60, 40]          21                 5   \n",
       "\n",
       "              tags.mlflow.runName                   tags.run_name  \n",
       "0  lstm_n=5_f=1_60_60_60_relu_3hl  lstm_n=5_f=1_60_60_60_relu_3hl  \n",
       "0     lstm_n=8_f=2_60_60_relu_2hl     lstm_n=8_f=2_60_60_relu_2hl  \n",
       "0  lstm_n=5_f=3_50_50_40_relu_3hl  lstm_n=5_f=3_50_50_40_relu_3hl  \n",
       "0        lstm_n=8_f=4_60_relu_1hl        lstm_n=8_f=4_60_relu_1hl  \n",
       "0  lstm_n=7_f=5_60_40_50_relu_3hl  lstm_n=7_f=5_60_40_50_relu_3hl  \n",
       "0     lstm_n=8_f=6_40_60_relu_2hl     lstm_n=8_f=6_40_60_relu_2hl  \n",
       "0     lstm_n=7_f=7_60_40_relu_2hl     lstm_n=7_f=7_60_40_relu_2hl  \n",
       "0     lstm_n=5_f=8_60_40_relu_2hl     lstm_n=5_f=8_60_40_relu_2hl  "
      ]
     },
     "execution_count": 14,
     "metadata": {},
     "output_type": "execute_result"
    }
   ],
   "source": [
    "df_plt_1"
   ]
  },
  {
   "cell_type": "code",
   "execution_count": 15,
   "metadata": {},
   "outputs": [],
   "source": [
    "f_so_pred_values = range(1,8+1)\n",
    "metric = 'r2'\n",
    "\n",
    "# Initialize an empty list to store the dataframes\n",
    "dfs = []\n",
    "\n",
    "# Iterate over each f_so_pred value\n",
    "for f_so_pred in f_so_pred_values:\n",
    "    # Search runs for the current f_so_pred value\n",
    "    df = mlflow.search_runs(filter_string=f\"params.f_so_pred = '{f_so_pred}' AND params.n_so_retro = '4'\", \n",
    "                            order_by=[f'metrics.{metric} DESC'])\n",
    "    \n",
    "    # Drop unnecessary columns\n",
    "    df = df.drop(columns=drop_columns).iloc[:1]\n",
    "    \n",
    "    # Append the dataframe to the list\n",
    "    dfs.append(df)\n",
    "\n",
    "# Concatenate the dataframes along the rows\n",
    "df_plt_2 = pd.concat(dfs)"
   ]
  },
  {
   "cell_type": "code",
   "execution_count": 16,
   "metadata": {},
   "outputs": [
    {
     "data": {
      "text/html": [
       "<div>\n",
       "<style scoped>\n",
       "    .dataframe tbody tr th:only-of-type {\n",
       "        vertical-align: middle;\n",
       "    }\n",
       "\n",
       "    .dataframe tbody tr th {\n",
       "        vertical-align: top;\n",
       "    }\n",
       "\n",
       "    .dataframe thead th {\n",
       "        text-align: right;\n",
       "    }\n",
       "</style>\n",
       "<table border=\"1\" class=\"dataframe\">\n",
       "  <thead>\n",
       "    <tr style=\"text-align: right;\">\n",
       "      <th></th>\n",
       "      <th>metrics.corr</th>\n",
       "      <th>metrics.mae</th>\n",
       "      <th>metrics.rmse</th>\n",
       "      <th>metrics.r2</th>\n",
       "      <th>params.monitor_metric</th>\n",
       "      <th>params.patience</th>\n",
       "      <th>params.activation</th>\n",
       "      <th>params.f_so_pred</th>\n",
       "      <th>params.max_epochs</th>\n",
       "      <th>params.n_neurons_hl</th>\n",
       "      <th>params.seed</th>\n",
       "      <th>params.n_so_retro</th>\n",
       "      <th>tags.mlflow.runName</th>\n",
       "      <th>tags.run_name</th>\n",
       "    </tr>\n",
       "  </thead>\n",
       "  <tbody>\n",
       "    <tr>\n",
       "      <th>0</th>\n",
       "      <td>0.967236</td>\n",
       "      <td>5956.097911</td>\n",
       "      <td>8141.662384</td>\n",
       "      <td>0.935396</td>\n",
       "      <td>val_mean_absolute_error</td>\n",
       "      <td>15</td>\n",
       "      <td>relu</td>\n",
       "      <td>1</td>\n",
       "      <td>500</td>\n",
       "      <td>[50, 50, 60]</td>\n",
       "      <td>21</td>\n",
       "      <td>4</td>\n",
       "      <td>lstm_n=4_f=1_50_50_60_relu_3hl</td>\n",
       "      <td>lstm_n=4_f=1_50_50_60_relu_3hl</td>\n",
       "    </tr>\n",
       "    <tr>\n",
       "      <th>0</th>\n",
       "      <td>0.940004</td>\n",
       "      <td>7869.553781</td>\n",
       "      <td>11402.748874</td>\n",
       "      <td>0.881568</td>\n",
       "      <td>val_mean_absolute_error</td>\n",
       "      <td>15</td>\n",
       "      <td>relu</td>\n",
       "      <td>2</td>\n",
       "      <td>500</td>\n",
       "      <td>[50, 50]</td>\n",
       "      <td>21</td>\n",
       "      <td>4</td>\n",
       "      <td>lstm_n=4_f=2_50_50_relu_2hl</td>\n",
       "      <td>lstm_n=4_f=2_50_50_relu_2hl</td>\n",
       "    </tr>\n",
       "    <tr>\n",
       "      <th>0</th>\n",
       "      <td>0.937277</td>\n",
       "      <td>8410.720893</td>\n",
       "      <td>11597.008125</td>\n",
       "      <td>0.874373</td>\n",
       "      <td>val_mean_absolute_error</td>\n",
       "      <td>15</td>\n",
       "      <td>relu</td>\n",
       "      <td>3</td>\n",
       "      <td>500</td>\n",
       "      <td>[50]</td>\n",
       "      <td>21</td>\n",
       "      <td>4</td>\n",
       "      <td>lstm_n=4_f=3_50_relu_1hl</td>\n",
       "      <td>lstm_n=4_f=3_50_relu_1hl</td>\n",
       "    </tr>\n",
       "    <tr>\n",
       "      <th>0</th>\n",
       "      <td>0.895592</td>\n",
       "      <td>9806.849683</td>\n",
       "      <td>14988.785187</td>\n",
       "      <td>0.800716</td>\n",
       "      <td>val_mean_absolute_error</td>\n",
       "      <td>15</td>\n",
       "      <td>relu</td>\n",
       "      <td>4</td>\n",
       "      <td>500</td>\n",
       "      <td>[60]</td>\n",
       "      <td>21</td>\n",
       "      <td>4</td>\n",
       "      <td>lstm_n=4_f=4_60_relu_1hl</td>\n",
       "      <td>lstm_n=4_f=4_60_relu_1hl</td>\n",
       "    </tr>\n",
       "    <tr>\n",
       "      <th>0</th>\n",
       "      <td>0.880748</td>\n",
       "      <td>10048.329871</td>\n",
       "      <td>15043.573053</td>\n",
       "      <td>0.772852</td>\n",
       "      <td>val_mean_absolute_error</td>\n",
       "      <td>15</td>\n",
       "      <td>relu</td>\n",
       "      <td>5</td>\n",
       "      <td>500</td>\n",
       "      <td>[60, 60, 60]</td>\n",
       "      <td>21</td>\n",
       "      <td>4</td>\n",
       "      <td>lstm_n=4_f=5_60_60_60_relu_3hl</td>\n",
       "      <td>lstm_n=4_f=5_60_60_60_relu_3hl</td>\n",
       "    </tr>\n",
       "    <tr>\n",
       "      <th>0</th>\n",
       "      <td>0.884901</td>\n",
       "      <td>10153.257180</td>\n",
       "      <td>15122.560805</td>\n",
       "      <td>0.781018</td>\n",
       "      <td>val_mean_absolute_error</td>\n",
       "      <td>15</td>\n",
       "      <td>relu</td>\n",
       "      <td>6</td>\n",
       "      <td>500</td>\n",
       "      <td>[40, 40]</td>\n",
       "      <td>21</td>\n",
       "      <td>4</td>\n",
       "      <td>lstm_n=4_f=6_40_40_relu_2hl</td>\n",
       "      <td>lstm_n=4_f=6_40_40_relu_2hl</td>\n",
       "    </tr>\n",
       "    <tr>\n",
       "      <th>0</th>\n",
       "      <td>0.895213</td>\n",
       "      <td>10198.188348</td>\n",
       "      <td>14437.085321</td>\n",
       "      <td>0.801395</td>\n",
       "      <td>val_mean_absolute_error</td>\n",
       "      <td>15</td>\n",
       "      <td>relu</td>\n",
       "      <td>7</td>\n",
       "      <td>500</td>\n",
       "      <td>[50, 50, 40]</td>\n",
       "      <td>21</td>\n",
       "      <td>4</td>\n",
       "      <td>lstm_n=4_f=7_50_50_40_relu_3hl</td>\n",
       "      <td>lstm_n=4_f=7_50_50_40_relu_3hl</td>\n",
       "    </tr>\n",
       "    <tr>\n",
       "      <th>0</th>\n",
       "      <td>0.875255</td>\n",
       "      <td>10570.232793</td>\n",
       "      <td>15692.833730</td>\n",
       "      <td>0.764727</td>\n",
       "      <td>val_mean_absolute_error</td>\n",
       "      <td>15</td>\n",
       "      <td>relu</td>\n",
       "      <td>8</td>\n",
       "      <td>500</td>\n",
       "      <td>[40]</td>\n",
       "      <td>21</td>\n",
       "      <td>4</td>\n",
       "      <td>lstm_n=4_f=8_40_relu_1hl</td>\n",
       "      <td>lstm_n=4_f=8_40_relu_1hl</td>\n",
       "    </tr>\n",
       "  </tbody>\n",
       "</table>\n",
       "</div>"
      ],
      "text/plain": [
       "   metrics.corr   metrics.mae  metrics.rmse  metrics.r2  \\\n",
       "0      0.967236   5956.097911   8141.662384    0.935396   \n",
       "0      0.940004   7869.553781  11402.748874    0.881568   \n",
       "0      0.937277   8410.720893  11597.008125    0.874373   \n",
       "0      0.895592   9806.849683  14988.785187    0.800716   \n",
       "0      0.880748  10048.329871  15043.573053    0.772852   \n",
       "0      0.884901  10153.257180  15122.560805    0.781018   \n",
       "0      0.895213  10198.188348  14437.085321    0.801395   \n",
       "0      0.875255  10570.232793  15692.833730    0.764727   \n",
       "\n",
       "     params.monitor_metric params.patience params.activation params.f_so_pred  \\\n",
       "0  val_mean_absolute_error              15              relu                1   \n",
       "0  val_mean_absolute_error              15              relu                2   \n",
       "0  val_mean_absolute_error              15              relu                3   \n",
       "0  val_mean_absolute_error              15              relu                4   \n",
       "0  val_mean_absolute_error              15              relu                5   \n",
       "0  val_mean_absolute_error              15              relu                6   \n",
       "0  val_mean_absolute_error              15              relu                7   \n",
       "0  val_mean_absolute_error              15              relu                8   \n",
       "\n",
       "  params.max_epochs params.n_neurons_hl params.seed params.n_so_retro  \\\n",
       "0               500        [50, 50, 60]          21                 4   \n",
       "0               500            [50, 50]          21                 4   \n",
       "0               500                [50]          21                 4   \n",
       "0               500                [60]          21                 4   \n",
       "0               500        [60, 60, 60]          21                 4   \n",
       "0               500            [40, 40]          21                 4   \n",
       "0               500        [50, 50, 40]          21                 4   \n",
       "0               500                [40]          21                 4   \n",
       "\n",
       "              tags.mlflow.runName                   tags.run_name  \n",
       "0  lstm_n=4_f=1_50_50_60_relu_3hl  lstm_n=4_f=1_50_50_60_relu_3hl  \n",
       "0     lstm_n=4_f=2_50_50_relu_2hl     lstm_n=4_f=2_50_50_relu_2hl  \n",
       "0        lstm_n=4_f=3_50_relu_1hl        lstm_n=4_f=3_50_relu_1hl  \n",
       "0        lstm_n=4_f=4_60_relu_1hl        lstm_n=4_f=4_60_relu_1hl  \n",
       "0  lstm_n=4_f=5_60_60_60_relu_3hl  lstm_n=4_f=5_60_60_60_relu_3hl  \n",
       "0     lstm_n=4_f=6_40_40_relu_2hl     lstm_n=4_f=6_40_40_relu_2hl  \n",
       "0  lstm_n=4_f=7_50_50_40_relu_3hl  lstm_n=4_f=7_50_50_40_relu_3hl  \n",
       "0        lstm_n=4_f=8_40_relu_1hl        lstm_n=4_f=8_40_relu_1hl  "
      ]
     },
     "execution_count": 16,
     "metadata": {},
     "output_type": "execute_result"
    }
   ],
   "source": [
    "df_plt_2"
   ]
  },
  {
   "cell_type": "code",
   "execution_count": null,
   "metadata": {},
   "outputs": [],
   "source": []
  },
  {
   "cell_type": "code",
   "execution_count": 17,
   "metadata": {},
   "outputs": [
    {
     "data": {
      "application/vnd.plotly.v1+json": {
       "config": {
        "plotlyServerURL": "https://plot.ly"
       },
       "data": [
        {
         "hovertemplate": "%{y:.3f}",
         "legendgroup": "r2_group",
         "marker": {
          "color": "darkblue"
         },
         "name": "r2",
         "text": [
          "0.936",
          "0.891",
          "0.882",
          "0.884"
         ],
         "type": "bar",
         "x": [
          "f=1 (n=5)",
          "f=2 (n=8)",
          "f=3 (n=5)",
          "f=4 (n=8)"
         ],
         "xaxis": "x",
         "y": [
          0.9360519764025358,
          0.8906070008594261,
          0.8824166305673564,
          0.8836099283261015
         ],
         "yaxis": "y"
        },
        {
         "hovertemplate": "%{y:.3f}",
         "legendgroup": "correlation_group",
         "marker": {
          "color": "purple"
         },
         "name": "Correlação",
         "showlegend": false,
         "text": [
          "0.968",
          "0.946",
          "0.941",
          "0.941"
         ],
         "type": "bar",
         "x": [
          "f=1 (n=5)",
          "f=2 (n=8)",
          "f=3 (n=5)",
          "f=4 (n=8)"
         ],
         "xaxis": "x",
         "y": [
          0.9675001804325208,
          0.946266168038618,
          0.9413398165434199,
          0.9405933257282627
         ],
         "yaxis": "y"
        },
        {
         "hovertemplate": "%{y:.3f}",
         "legendgroup": "r2_group",
         "marker": {
          "color": "darkblue"
         },
         "name": "r2",
         "showlegend": false,
         "text": [
          "0.825",
          "0.837",
          "0.860",
          "0.848"
         ],
         "type": "bar",
         "x": [
          "f=5 (n=7)",
          "f=6 (n=8)",
          "f=7 (n=7)",
          "f=8 (n=5)"
         ],
         "xaxis": "x2",
         "y": [
          0.8252025103784915,
          0.8368589001978698,
          0.8599100864045439,
          0.8475518845805633
         ],
         "yaxis": "y2"
        },
        {
         "hovertemplate": "%{y:.3f}",
         "legendgroup": "correlation_group",
         "marker": {
          "color": "purple"
         },
         "name": "Correlação",
         "text": [
          "0.909",
          "0.918",
          "0.930",
          "0.921"
         ],
         "type": "bar",
         "x": [
          "f=5 (n=7)",
          "f=6 (n=8)",
          "f=7 (n=7)",
          "f=8 (n=5)"
         ],
         "xaxis": "x2",
         "y": [
          0.9092539267398208,
          0.9180566546772486,
          0.9299095640718704,
          0.9206726040585456
         ],
         "yaxis": "y2"
        }
       ],
       "layout": {
        "annotations": [
         {
          "showarrow": false,
          "text": "'n' = Número de S.O Retroativas de vazão observada e precipitação na bacia, a serem utilizadas durante o treinamento",
          "x": 0.5,
          "xref": "paper",
          "y": -0.18,
          "yref": "paper"
         },
         {
          "showarrow": false,
          "text": "'f' = Número da S.O Futura onde se prevê a vazão",
          "x": 0.5,
          "xref": "paper",
          "y": -0.25,
          "yref": "paper"
         }
        ],
        "barmode": "group",
        "template": {
         "data": {
          "bar": [
           {
            "error_x": {
             "color": "#2a3f5f"
            },
            "error_y": {
             "color": "#2a3f5f"
            },
            "marker": {
             "line": {
              "color": "#E5ECF6",
              "width": 0.5
             },
             "pattern": {
              "fillmode": "overlay",
              "size": 10,
              "solidity": 0.2
             }
            },
            "type": "bar"
           }
          ],
          "barpolar": [
           {
            "marker": {
             "line": {
              "color": "#E5ECF6",
              "width": 0.5
             },
             "pattern": {
              "fillmode": "overlay",
              "size": 10,
              "solidity": 0.2
             }
            },
            "type": "barpolar"
           }
          ],
          "carpet": [
           {
            "aaxis": {
             "endlinecolor": "#2a3f5f",
             "gridcolor": "white",
             "linecolor": "white",
             "minorgridcolor": "white",
             "startlinecolor": "#2a3f5f"
            },
            "baxis": {
             "endlinecolor": "#2a3f5f",
             "gridcolor": "white",
             "linecolor": "white",
             "minorgridcolor": "white",
             "startlinecolor": "#2a3f5f"
            },
            "type": "carpet"
           }
          ],
          "choropleth": [
           {
            "colorbar": {
             "outlinewidth": 0,
             "ticks": ""
            },
            "type": "choropleth"
           }
          ],
          "contour": [
           {
            "colorbar": {
             "outlinewidth": 0,
             "ticks": ""
            },
            "colorscale": [
             [
              0,
              "#0d0887"
             ],
             [
              0.1111111111111111,
              "#46039f"
             ],
             [
              0.2222222222222222,
              "#7201a8"
             ],
             [
              0.3333333333333333,
              "#9c179e"
             ],
             [
              0.4444444444444444,
              "#bd3786"
             ],
             [
              0.5555555555555556,
              "#d8576b"
             ],
             [
              0.6666666666666666,
              "#ed7953"
             ],
             [
              0.7777777777777778,
              "#fb9f3a"
             ],
             [
              0.8888888888888888,
              "#fdca26"
             ],
             [
              1,
              "#f0f921"
             ]
            ],
            "type": "contour"
           }
          ],
          "contourcarpet": [
           {
            "colorbar": {
             "outlinewidth": 0,
             "ticks": ""
            },
            "type": "contourcarpet"
           }
          ],
          "heatmap": [
           {
            "colorbar": {
             "outlinewidth": 0,
             "ticks": ""
            },
            "colorscale": [
             [
              0,
              "#0d0887"
             ],
             [
              0.1111111111111111,
              "#46039f"
             ],
             [
              0.2222222222222222,
              "#7201a8"
             ],
             [
              0.3333333333333333,
              "#9c179e"
             ],
             [
              0.4444444444444444,
              "#bd3786"
             ],
             [
              0.5555555555555556,
              "#d8576b"
             ],
             [
              0.6666666666666666,
              "#ed7953"
             ],
             [
              0.7777777777777778,
              "#fb9f3a"
             ],
             [
              0.8888888888888888,
              "#fdca26"
             ],
             [
              1,
              "#f0f921"
             ]
            ],
            "type": "heatmap"
           }
          ],
          "heatmapgl": [
           {
            "colorbar": {
             "outlinewidth": 0,
             "ticks": ""
            },
            "colorscale": [
             [
              0,
              "#0d0887"
             ],
             [
              0.1111111111111111,
              "#46039f"
             ],
             [
              0.2222222222222222,
              "#7201a8"
             ],
             [
              0.3333333333333333,
              "#9c179e"
             ],
             [
              0.4444444444444444,
              "#bd3786"
             ],
             [
              0.5555555555555556,
              "#d8576b"
             ],
             [
              0.6666666666666666,
              "#ed7953"
             ],
             [
              0.7777777777777778,
              "#fb9f3a"
             ],
             [
              0.8888888888888888,
              "#fdca26"
             ],
             [
              1,
              "#f0f921"
             ]
            ],
            "type": "heatmapgl"
           }
          ],
          "histogram": [
           {
            "marker": {
             "pattern": {
              "fillmode": "overlay",
              "size": 10,
              "solidity": 0.2
             }
            },
            "type": "histogram"
           }
          ],
          "histogram2d": [
           {
            "colorbar": {
             "outlinewidth": 0,
             "ticks": ""
            },
            "colorscale": [
             [
              0,
              "#0d0887"
             ],
             [
              0.1111111111111111,
              "#46039f"
             ],
             [
              0.2222222222222222,
              "#7201a8"
             ],
             [
              0.3333333333333333,
              "#9c179e"
             ],
             [
              0.4444444444444444,
              "#bd3786"
             ],
             [
              0.5555555555555556,
              "#d8576b"
             ],
             [
              0.6666666666666666,
              "#ed7953"
             ],
             [
              0.7777777777777778,
              "#fb9f3a"
             ],
             [
              0.8888888888888888,
              "#fdca26"
             ],
             [
              1,
              "#f0f921"
             ]
            ],
            "type": "histogram2d"
           }
          ],
          "histogram2dcontour": [
           {
            "colorbar": {
             "outlinewidth": 0,
             "ticks": ""
            },
            "colorscale": [
             [
              0,
              "#0d0887"
             ],
             [
              0.1111111111111111,
              "#46039f"
             ],
             [
              0.2222222222222222,
              "#7201a8"
             ],
             [
              0.3333333333333333,
              "#9c179e"
             ],
             [
              0.4444444444444444,
              "#bd3786"
             ],
             [
              0.5555555555555556,
              "#d8576b"
             ],
             [
              0.6666666666666666,
              "#ed7953"
             ],
             [
              0.7777777777777778,
              "#fb9f3a"
             ],
             [
              0.8888888888888888,
              "#fdca26"
             ],
             [
              1,
              "#f0f921"
             ]
            ],
            "type": "histogram2dcontour"
           }
          ],
          "mesh3d": [
           {
            "colorbar": {
             "outlinewidth": 0,
             "ticks": ""
            },
            "type": "mesh3d"
           }
          ],
          "parcoords": [
           {
            "line": {
             "colorbar": {
              "outlinewidth": 0,
              "ticks": ""
             }
            },
            "type": "parcoords"
           }
          ],
          "pie": [
           {
            "automargin": true,
            "type": "pie"
           }
          ],
          "scatter": [
           {
            "fillpattern": {
             "fillmode": "overlay",
             "size": 10,
             "solidity": 0.2
            },
            "type": "scatter"
           }
          ],
          "scatter3d": [
           {
            "line": {
             "colorbar": {
              "outlinewidth": 0,
              "ticks": ""
             }
            },
            "marker": {
             "colorbar": {
              "outlinewidth": 0,
              "ticks": ""
             }
            },
            "type": "scatter3d"
           }
          ],
          "scattercarpet": [
           {
            "marker": {
             "colorbar": {
              "outlinewidth": 0,
              "ticks": ""
             }
            },
            "type": "scattercarpet"
           }
          ],
          "scattergeo": [
           {
            "marker": {
             "colorbar": {
              "outlinewidth": 0,
              "ticks": ""
             }
            },
            "type": "scattergeo"
           }
          ],
          "scattergl": [
           {
            "marker": {
             "colorbar": {
              "outlinewidth": 0,
              "ticks": ""
             }
            },
            "type": "scattergl"
           }
          ],
          "scattermapbox": [
           {
            "marker": {
             "colorbar": {
              "outlinewidth": 0,
              "ticks": ""
             }
            },
            "type": "scattermapbox"
           }
          ],
          "scatterpolar": [
           {
            "marker": {
             "colorbar": {
              "outlinewidth": 0,
              "ticks": ""
             }
            },
            "type": "scatterpolar"
           }
          ],
          "scatterpolargl": [
           {
            "marker": {
             "colorbar": {
              "outlinewidth": 0,
              "ticks": ""
             }
            },
            "type": "scatterpolargl"
           }
          ],
          "scatterternary": [
           {
            "marker": {
             "colorbar": {
              "outlinewidth": 0,
              "ticks": ""
             }
            },
            "type": "scatterternary"
           }
          ],
          "surface": [
           {
            "colorbar": {
             "outlinewidth": 0,
             "ticks": ""
            },
            "colorscale": [
             [
              0,
              "#0d0887"
             ],
             [
              0.1111111111111111,
              "#46039f"
             ],
             [
              0.2222222222222222,
              "#7201a8"
             ],
             [
              0.3333333333333333,
              "#9c179e"
             ],
             [
              0.4444444444444444,
              "#bd3786"
             ],
             [
              0.5555555555555556,
              "#d8576b"
             ],
             [
              0.6666666666666666,
              "#ed7953"
             ],
             [
              0.7777777777777778,
              "#fb9f3a"
             ],
             [
              0.8888888888888888,
              "#fdca26"
             ],
             [
              1,
              "#f0f921"
             ]
            ],
            "type": "surface"
           }
          ],
          "table": [
           {
            "cells": {
             "fill": {
              "color": "#EBF0F8"
             },
             "line": {
              "color": "white"
             }
            },
            "header": {
             "fill": {
              "color": "#C8D4E3"
             },
             "line": {
              "color": "white"
             }
            },
            "type": "table"
           }
          ]
         },
         "layout": {
          "annotationdefaults": {
           "arrowcolor": "#2a3f5f",
           "arrowhead": 0,
           "arrowwidth": 1
          },
          "autotypenumbers": "strict",
          "coloraxis": {
           "colorbar": {
            "outlinewidth": 0,
            "ticks": ""
           }
          },
          "colorscale": {
           "diverging": [
            [
             0,
             "#8e0152"
            ],
            [
             0.1,
             "#c51b7d"
            ],
            [
             0.2,
             "#de77ae"
            ],
            [
             0.3,
             "#f1b6da"
            ],
            [
             0.4,
             "#fde0ef"
            ],
            [
             0.5,
             "#f7f7f7"
            ],
            [
             0.6,
             "#e6f5d0"
            ],
            [
             0.7,
             "#b8e186"
            ],
            [
             0.8,
             "#7fbc41"
            ],
            [
             0.9,
             "#4d9221"
            ],
            [
             1,
             "#276419"
            ]
           ],
           "sequential": [
            [
             0,
             "#0d0887"
            ],
            [
             0.1111111111111111,
             "#46039f"
            ],
            [
             0.2222222222222222,
             "#7201a8"
            ],
            [
             0.3333333333333333,
             "#9c179e"
            ],
            [
             0.4444444444444444,
             "#bd3786"
            ],
            [
             0.5555555555555556,
             "#d8576b"
            ],
            [
             0.6666666666666666,
             "#ed7953"
            ],
            [
             0.7777777777777778,
             "#fb9f3a"
            ],
            [
             0.8888888888888888,
             "#fdca26"
            ],
            [
             1,
             "#f0f921"
            ]
           ],
           "sequentialminus": [
            [
             0,
             "#0d0887"
            ],
            [
             0.1111111111111111,
             "#46039f"
            ],
            [
             0.2222222222222222,
             "#7201a8"
            ],
            [
             0.3333333333333333,
             "#9c179e"
            ],
            [
             0.4444444444444444,
             "#bd3786"
            ],
            [
             0.5555555555555556,
             "#d8576b"
            ],
            [
             0.6666666666666666,
             "#ed7953"
            ],
            [
             0.7777777777777778,
             "#fb9f3a"
            ],
            [
             0.8888888888888888,
             "#fdca26"
            ],
            [
             1,
             "#f0f921"
            ]
           ]
          },
          "colorway": [
           "#636efa",
           "#EF553B",
           "#00cc96",
           "#ab63fa",
           "#FFA15A",
           "#19d3f3",
           "#FF6692",
           "#B6E880",
           "#FF97FF",
           "#FECB52"
          ],
          "font": {
           "color": "#2a3f5f"
          },
          "geo": {
           "bgcolor": "white",
           "lakecolor": "white",
           "landcolor": "#E5ECF6",
           "showlakes": true,
           "showland": true,
           "subunitcolor": "white"
          },
          "hoverlabel": {
           "align": "left"
          },
          "hovermode": "closest",
          "mapbox": {
           "style": "light"
          },
          "paper_bgcolor": "white",
          "plot_bgcolor": "#E5ECF6",
          "polar": {
           "angularaxis": {
            "gridcolor": "white",
            "linecolor": "white",
            "ticks": ""
           },
           "bgcolor": "#E5ECF6",
           "radialaxis": {
            "gridcolor": "white",
            "linecolor": "white",
            "ticks": ""
           }
          },
          "scene": {
           "xaxis": {
            "backgroundcolor": "#E5ECF6",
            "gridcolor": "white",
            "gridwidth": 2,
            "linecolor": "white",
            "showbackground": true,
            "ticks": "",
            "zerolinecolor": "white"
           },
           "yaxis": {
            "backgroundcolor": "#E5ECF6",
            "gridcolor": "white",
            "gridwidth": 2,
            "linecolor": "white",
            "showbackground": true,
            "ticks": "",
            "zerolinecolor": "white"
           },
           "zaxis": {
            "backgroundcolor": "#E5ECF6",
            "gridcolor": "white",
            "gridwidth": 2,
            "linecolor": "white",
            "showbackground": true,
            "ticks": "",
            "zerolinecolor": "white"
           }
          },
          "shapedefaults": {
           "line": {
            "color": "#2a3f5f"
           }
          },
          "ternary": {
           "aaxis": {
            "gridcolor": "white",
            "linecolor": "white",
            "ticks": ""
           },
           "baxis": {
            "gridcolor": "white",
            "linecolor": "white",
            "ticks": ""
           },
           "bgcolor": "#E5ECF6",
           "caxis": {
            "gridcolor": "white",
            "linecolor": "white",
            "ticks": ""
           }
          },
          "title": {
           "x": 0.05
          },
          "xaxis": {
           "automargin": true,
           "gridcolor": "white",
           "linecolor": "white",
           "ticks": "",
           "title": {
            "standoff": 15
           },
           "zerolinecolor": "white",
           "zerolinewidth": 2
          },
          "yaxis": {
           "automargin": true,
           "gridcolor": "white",
           "linecolor": "white",
           "ticks": "",
           "title": {
            "standoff": 15
           },
           "zerolinecolor": "white",
           "zerolinewidth": 2
          }
         }
        },
        "title": {
         "text": "Métricas das LSTM's, para diferentes horizontes de previsões futuras 'f', de maiores r2 e para o melhor 'n' "
        },
        "xaxis": {
         "anchor": "y",
         "domain": [
          0,
          1
         ]
        },
        "xaxis2": {
         "anchor": "y2",
         "domain": [
          0,
          1
         ]
        },
        "yaxis": {
         "anchor": "x",
         "domain": [
          0.575,
          1
         ],
         "range": [
          0.5,
          1
         ]
        },
        "yaxis2": {
         "anchor": "x2",
         "domain": [
          0,
          0.425
         ],
         "range": [
          0.5,
          1
         ]
        }
       }
      }
     },
     "metadata": {},
     "output_type": "display_data"
    }
   ],
   "source": [
    "from plotly.subplots import make_subplots\n",
    "import plotly.graph_objects as go\n",
    "\n",
    "# Custom labels for each subplot\n",
    "custom_labels_r2_2 = ['f=5 (n=7)', 'f=6 (n=8)', 'f=7 (n=7)', 'f=8 (n=5)']\n",
    "custom_labels_r2_1 = ['f=1 (n=5)', 'f=2 (n=8)', 'f=3 (n=5)', 'f=4 (n=8)']\n",
    "\n",
    "# custom_labels_r2_2 = ['f=5 & n=3', 'f=6 & n=2', 'f=7 & n=1', 'f=8 & n=7']\n",
    "# custom_labels_r2_1 = ['f=1 & n=7', 'f=2 & n=1', 'f=3 & n=5', 'f=4 & n=2']\n",
    "\n",
    "# Define colors for bars\n",
    "r2_color = 'darkblue'\n",
    "corr_color = 'purple'\n",
    "\n",
    "# Create subplots\n",
    "fig = make_subplots(rows=2, cols=1) # subplot_titles=(\"Custom Labels for n=5 to n=8\", \"Custom Labels for n=1 to n=4\")\n",
    "\n",
    "# Add traces to subplot 1\n",
    "fig.add_trace(go.Bar(\n",
    "    x=custom_labels_r2_1,\n",
    "    y=df_plt_1['metrics.r2'][:4],\n",
    "    text=df_plt_1['metrics.r2'][:4].apply(lambda x: f'{x:.3f}'),  \n",
    "    hovertemplate='%{y:.3f}',\n",
    "    name='r2',\n",
    "    legendgroup='r2_group',\n",
    "    marker=dict(color=r2_color)\n",
    "), row=1, col=1)\n",
    "\n",
    "fig.add_trace(go.Bar(\n",
    "    x=custom_labels_r2_1,\n",
    "    y=df_plt_1['metrics.corr'][:4],\n",
    "    text=df_plt_1['metrics.corr'][:4].apply(lambda x: f'{x:.3f}'),  \n",
    "    hovertemplate='%{y:.3f}',\n",
    "    name='Correlação',\n",
    "    legendgroup='correlation_group',\n",
    "    showlegend=False,\n",
    "    marker=dict(color=corr_color)\n",
    "), row=1, col=1)\n",
    "\n",
    "# Add traces to subplot 2\n",
    "fig.add_trace(go.Bar(\n",
    "    x=custom_labels_r2_2,\n",
    "    y=df_plt_1['metrics.r2'][4:],\n",
    "    text=df_plt_1['metrics.r2'][4:].apply(lambda x: f'{x:.3f}'),  \n",
    "    hovertemplate='%{y:.3f}',\n",
    "    name='r2',\n",
    "    legendgroup='r2_group',\n",
    "    showlegend=False,\n",
    "    marker=dict(color=r2_color)\n",
    "), row=2, col=1)\n",
    "\n",
    "fig.add_trace(go.Bar(\n",
    "    x=custom_labels_r2_2,\n",
    "    y=df_plt_1['metrics.corr'][4:],\n",
    "    text=df_plt_1['metrics.corr'][4:].apply(lambda x: f'{x:.3f}'),  \n",
    "    hovertemplate='%{y:.3f}',\n",
    "    name='Correlação',\n",
    "    legendgroup='correlation_group',\n",
    "    marker=dict(color=corr_color)\n",
    "), row=2, col=1)\n",
    "\n",
    "# Update layout\n",
    "fig.update_layout(\n",
    "    title=f\"Métricas {name_plots}, para diferentes horizontes de previsões futuras 'f', de maiores r2 e para o melhor 'n' \",\n",
    "    #xaxis=dict(title='Número de S.O Retroativas \"n\" a serem utilizadas durante o treinamento'),\n",
    "    barmode='group',\n",
    ")\n",
    "\n",
    "# Set the same y-axis range for both subplots\n",
    "fig.update_yaxes(range=[0.5, 1.0], row=1, col=1)\n",
    "fig.update_yaxes(range=[0.5, 1.0], row=2, col=1)\n",
    "\n",
    "# Add annotations\n",
    "fig.add_annotation(text=\"'n' = Número de S.O Retroativas de vazão observada e precipitação na bacia, a serem utilizadas durante o treinamento\",\n",
    "                   xref=\"paper\", yref=\"paper\",\n",
    "                   x=0.5, y=-0.18, showarrow=False)\n",
    "\n",
    "# Add annotations\n",
    "fig.add_annotation(text=\"'f' = Número da S.O Futura onde se prevê a vazão\",\n",
    "                   xref=\"paper\", yref=\"paper\",\n",
    "                   x=0.5, y=-0.25, showarrow=False)\n",
    "\n",
    "# Show the plot\n",
    "fig.show()\n"
   ]
  },
  {
   "cell_type": "code",
   "execution_count": 18,
   "metadata": {},
   "outputs": [
    {
     "data": {
      "application/vnd.plotly.v1+json": {
       "config": {
        "plotlyServerURL": "https://plot.ly"
       },
       "data": [
        {
         "hovertemplate": "%{y:.3f}",
         "legendgroup": "r2_group",
         "marker": {
          "color": "darkblue"
         },
         "name": "r2",
         "text": [
          "0.935",
          "0.882",
          "0.874",
          "0.801"
         ],
         "type": "bar",
         "x": [
          "f=1",
          "f=2",
          "f=3",
          "f=4"
         ],
         "xaxis": "x",
         "y": [
          0.935396286144788,
          0.8815676411244817,
          0.8743731080403043,
          0.8007157271205955
         ],
         "yaxis": "y"
        },
        {
         "hovertemplate": "%{y:.3f}",
         "legendgroup": "corr_group",
         "marker": {
          "color": "purple"
         },
         "name": "Correlação",
         "showlegend": false,
         "text": [
          "0.967",
          "0.940",
          "0.937",
          "0.896"
         ],
         "type": "bar",
         "x": [
          "f=1",
          "f=2",
          "f=3",
          "f=4"
         ],
         "xaxis": "x",
         "y": [
          0.9672357467846449,
          0.9400038234264825,
          0.9372769645923006,
          0.895592102828598
         ],
         "yaxis": "y"
        },
        {
         "hovertemplate": "%{y:.3f}",
         "legendgroup": "r2_group",
         "marker": {
          "color": "darkblue"
         },
         "name": "r2",
         "showlegend": false,
         "text": [
          "0.773",
          "0.781",
          "0.801",
          "0.765"
         ],
         "type": "bar",
         "x": [
          "f=5",
          "f=6",
          "f=7",
          "f=8"
         ],
         "xaxis": "x2",
         "y": [
          0.772852198193452,
          0.7810176324733542,
          0.8013948704660014,
          0.7647271381929476
         ],
         "yaxis": "y2"
        },
        {
         "hovertemplate": "%{y:.3f}",
         "legendgroup": "corr_group",
         "marker": {
          "color": "purple"
         },
         "name": "Correlação",
         "text": [
          "0.881",
          "0.885",
          "0.895",
          "0.875"
         ],
         "type": "bar",
         "x": [
          "f=5",
          "f=6",
          "f=7",
          "f=8"
         ],
         "xaxis": "x2",
         "y": [
          0.8807480706214174,
          0.8849012419669607,
          0.8952130894401384,
          0.8752549077261844
         ],
         "yaxis": "y2"
        }
       ],
       "layout": {
        "annotations": [
         {
          "showarrow": false,
          "text": "'n' = Número de S.O Retroativas de vazão observada e precipitação na bacia, a serem utilizadas durante o treinamento",
          "x": 0.5,
          "xref": "paper",
          "y": -0.18,
          "yref": "paper"
         },
         {
          "showarrow": false,
          "text": "'f' = Número da S.O Futura onde se prevê a vazão",
          "x": 0.5,
          "xref": "paper",
          "y": -0.25,
          "yref": "paper"
         }
        ],
        "barmode": "group",
        "template": {
         "data": {
          "bar": [
           {
            "error_x": {
             "color": "#2a3f5f"
            },
            "error_y": {
             "color": "#2a3f5f"
            },
            "marker": {
             "line": {
              "color": "#E5ECF6",
              "width": 0.5
             },
             "pattern": {
              "fillmode": "overlay",
              "size": 10,
              "solidity": 0.2
             }
            },
            "type": "bar"
           }
          ],
          "barpolar": [
           {
            "marker": {
             "line": {
              "color": "#E5ECF6",
              "width": 0.5
             },
             "pattern": {
              "fillmode": "overlay",
              "size": 10,
              "solidity": 0.2
             }
            },
            "type": "barpolar"
           }
          ],
          "carpet": [
           {
            "aaxis": {
             "endlinecolor": "#2a3f5f",
             "gridcolor": "white",
             "linecolor": "white",
             "minorgridcolor": "white",
             "startlinecolor": "#2a3f5f"
            },
            "baxis": {
             "endlinecolor": "#2a3f5f",
             "gridcolor": "white",
             "linecolor": "white",
             "minorgridcolor": "white",
             "startlinecolor": "#2a3f5f"
            },
            "type": "carpet"
           }
          ],
          "choropleth": [
           {
            "colorbar": {
             "outlinewidth": 0,
             "ticks": ""
            },
            "type": "choropleth"
           }
          ],
          "contour": [
           {
            "colorbar": {
             "outlinewidth": 0,
             "ticks": ""
            },
            "colorscale": [
             [
              0,
              "#0d0887"
             ],
             [
              0.1111111111111111,
              "#46039f"
             ],
             [
              0.2222222222222222,
              "#7201a8"
             ],
             [
              0.3333333333333333,
              "#9c179e"
             ],
             [
              0.4444444444444444,
              "#bd3786"
             ],
             [
              0.5555555555555556,
              "#d8576b"
             ],
             [
              0.6666666666666666,
              "#ed7953"
             ],
             [
              0.7777777777777778,
              "#fb9f3a"
             ],
             [
              0.8888888888888888,
              "#fdca26"
             ],
             [
              1,
              "#f0f921"
             ]
            ],
            "type": "contour"
           }
          ],
          "contourcarpet": [
           {
            "colorbar": {
             "outlinewidth": 0,
             "ticks": ""
            },
            "type": "contourcarpet"
           }
          ],
          "heatmap": [
           {
            "colorbar": {
             "outlinewidth": 0,
             "ticks": ""
            },
            "colorscale": [
             [
              0,
              "#0d0887"
             ],
             [
              0.1111111111111111,
              "#46039f"
             ],
             [
              0.2222222222222222,
              "#7201a8"
             ],
             [
              0.3333333333333333,
              "#9c179e"
             ],
             [
              0.4444444444444444,
              "#bd3786"
             ],
             [
              0.5555555555555556,
              "#d8576b"
             ],
             [
              0.6666666666666666,
              "#ed7953"
             ],
             [
              0.7777777777777778,
              "#fb9f3a"
             ],
             [
              0.8888888888888888,
              "#fdca26"
             ],
             [
              1,
              "#f0f921"
             ]
            ],
            "type": "heatmap"
           }
          ],
          "heatmapgl": [
           {
            "colorbar": {
             "outlinewidth": 0,
             "ticks": ""
            },
            "colorscale": [
             [
              0,
              "#0d0887"
             ],
             [
              0.1111111111111111,
              "#46039f"
             ],
             [
              0.2222222222222222,
              "#7201a8"
             ],
             [
              0.3333333333333333,
              "#9c179e"
             ],
             [
              0.4444444444444444,
              "#bd3786"
             ],
             [
              0.5555555555555556,
              "#d8576b"
             ],
             [
              0.6666666666666666,
              "#ed7953"
             ],
             [
              0.7777777777777778,
              "#fb9f3a"
             ],
             [
              0.8888888888888888,
              "#fdca26"
             ],
             [
              1,
              "#f0f921"
             ]
            ],
            "type": "heatmapgl"
           }
          ],
          "histogram": [
           {
            "marker": {
             "pattern": {
              "fillmode": "overlay",
              "size": 10,
              "solidity": 0.2
             }
            },
            "type": "histogram"
           }
          ],
          "histogram2d": [
           {
            "colorbar": {
             "outlinewidth": 0,
             "ticks": ""
            },
            "colorscale": [
             [
              0,
              "#0d0887"
             ],
             [
              0.1111111111111111,
              "#46039f"
             ],
             [
              0.2222222222222222,
              "#7201a8"
             ],
             [
              0.3333333333333333,
              "#9c179e"
             ],
             [
              0.4444444444444444,
              "#bd3786"
             ],
             [
              0.5555555555555556,
              "#d8576b"
             ],
             [
              0.6666666666666666,
              "#ed7953"
             ],
             [
              0.7777777777777778,
              "#fb9f3a"
             ],
             [
              0.8888888888888888,
              "#fdca26"
             ],
             [
              1,
              "#f0f921"
             ]
            ],
            "type": "histogram2d"
           }
          ],
          "histogram2dcontour": [
           {
            "colorbar": {
             "outlinewidth": 0,
             "ticks": ""
            },
            "colorscale": [
             [
              0,
              "#0d0887"
             ],
             [
              0.1111111111111111,
              "#46039f"
             ],
             [
              0.2222222222222222,
              "#7201a8"
             ],
             [
              0.3333333333333333,
              "#9c179e"
             ],
             [
              0.4444444444444444,
              "#bd3786"
             ],
             [
              0.5555555555555556,
              "#d8576b"
             ],
             [
              0.6666666666666666,
              "#ed7953"
             ],
             [
              0.7777777777777778,
              "#fb9f3a"
             ],
             [
              0.8888888888888888,
              "#fdca26"
             ],
             [
              1,
              "#f0f921"
             ]
            ],
            "type": "histogram2dcontour"
           }
          ],
          "mesh3d": [
           {
            "colorbar": {
             "outlinewidth": 0,
             "ticks": ""
            },
            "type": "mesh3d"
           }
          ],
          "parcoords": [
           {
            "line": {
             "colorbar": {
              "outlinewidth": 0,
              "ticks": ""
             }
            },
            "type": "parcoords"
           }
          ],
          "pie": [
           {
            "automargin": true,
            "type": "pie"
           }
          ],
          "scatter": [
           {
            "fillpattern": {
             "fillmode": "overlay",
             "size": 10,
             "solidity": 0.2
            },
            "type": "scatter"
           }
          ],
          "scatter3d": [
           {
            "line": {
             "colorbar": {
              "outlinewidth": 0,
              "ticks": ""
             }
            },
            "marker": {
             "colorbar": {
              "outlinewidth": 0,
              "ticks": ""
             }
            },
            "type": "scatter3d"
           }
          ],
          "scattercarpet": [
           {
            "marker": {
             "colorbar": {
              "outlinewidth": 0,
              "ticks": ""
             }
            },
            "type": "scattercarpet"
           }
          ],
          "scattergeo": [
           {
            "marker": {
             "colorbar": {
              "outlinewidth": 0,
              "ticks": ""
             }
            },
            "type": "scattergeo"
           }
          ],
          "scattergl": [
           {
            "marker": {
             "colorbar": {
              "outlinewidth": 0,
              "ticks": ""
             }
            },
            "type": "scattergl"
           }
          ],
          "scattermapbox": [
           {
            "marker": {
             "colorbar": {
              "outlinewidth": 0,
              "ticks": ""
             }
            },
            "type": "scattermapbox"
           }
          ],
          "scatterpolar": [
           {
            "marker": {
             "colorbar": {
              "outlinewidth": 0,
              "ticks": ""
             }
            },
            "type": "scatterpolar"
           }
          ],
          "scatterpolargl": [
           {
            "marker": {
             "colorbar": {
              "outlinewidth": 0,
              "ticks": ""
             }
            },
            "type": "scatterpolargl"
           }
          ],
          "scatterternary": [
           {
            "marker": {
             "colorbar": {
              "outlinewidth": 0,
              "ticks": ""
             }
            },
            "type": "scatterternary"
           }
          ],
          "surface": [
           {
            "colorbar": {
             "outlinewidth": 0,
             "ticks": ""
            },
            "colorscale": [
             [
              0,
              "#0d0887"
             ],
             [
              0.1111111111111111,
              "#46039f"
             ],
             [
              0.2222222222222222,
              "#7201a8"
             ],
             [
              0.3333333333333333,
              "#9c179e"
             ],
             [
              0.4444444444444444,
              "#bd3786"
             ],
             [
              0.5555555555555556,
              "#d8576b"
             ],
             [
              0.6666666666666666,
              "#ed7953"
             ],
             [
              0.7777777777777778,
              "#fb9f3a"
             ],
             [
              0.8888888888888888,
              "#fdca26"
             ],
             [
              1,
              "#f0f921"
             ]
            ],
            "type": "surface"
           }
          ],
          "table": [
           {
            "cells": {
             "fill": {
              "color": "#EBF0F8"
             },
             "line": {
              "color": "white"
             }
            },
            "header": {
             "fill": {
              "color": "#C8D4E3"
             },
             "line": {
              "color": "white"
             }
            },
            "type": "table"
           }
          ]
         },
         "layout": {
          "annotationdefaults": {
           "arrowcolor": "#2a3f5f",
           "arrowhead": 0,
           "arrowwidth": 1
          },
          "autotypenumbers": "strict",
          "coloraxis": {
           "colorbar": {
            "outlinewidth": 0,
            "ticks": ""
           }
          },
          "colorscale": {
           "diverging": [
            [
             0,
             "#8e0152"
            ],
            [
             0.1,
             "#c51b7d"
            ],
            [
             0.2,
             "#de77ae"
            ],
            [
             0.3,
             "#f1b6da"
            ],
            [
             0.4,
             "#fde0ef"
            ],
            [
             0.5,
             "#f7f7f7"
            ],
            [
             0.6,
             "#e6f5d0"
            ],
            [
             0.7,
             "#b8e186"
            ],
            [
             0.8,
             "#7fbc41"
            ],
            [
             0.9,
             "#4d9221"
            ],
            [
             1,
             "#276419"
            ]
           ],
           "sequential": [
            [
             0,
             "#0d0887"
            ],
            [
             0.1111111111111111,
             "#46039f"
            ],
            [
             0.2222222222222222,
             "#7201a8"
            ],
            [
             0.3333333333333333,
             "#9c179e"
            ],
            [
             0.4444444444444444,
             "#bd3786"
            ],
            [
             0.5555555555555556,
             "#d8576b"
            ],
            [
             0.6666666666666666,
             "#ed7953"
            ],
            [
             0.7777777777777778,
             "#fb9f3a"
            ],
            [
             0.8888888888888888,
             "#fdca26"
            ],
            [
             1,
             "#f0f921"
            ]
           ],
           "sequentialminus": [
            [
             0,
             "#0d0887"
            ],
            [
             0.1111111111111111,
             "#46039f"
            ],
            [
             0.2222222222222222,
             "#7201a8"
            ],
            [
             0.3333333333333333,
             "#9c179e"
            ],
            [
             0.4444444444444444,
             "#bd3786"
            ],
            [
             0.5555555555555556,
             "#d8576b"
            ],
            [
             0.6666666666666666,
             "#ed7953"
            ],
            [
             0.7777777777777778,
             "#fb9f3a"
            ],
            [
             0.8888888888888888,
             "#fdca26"
            ],
            [
             1,
             "#f0f921"
            ]
           ]
          },
          "colorway": [
           "#636efa",
           "#EF553B",
           "#00cc96",
           "#ab63fa",
           "#FFA15A",
           "#19d3f3",
           "#FF6692",
           "#B6E880",
           "#FF97FF",
           "#FECB52"
          ],
          "font": {
           "color": "#2a3f5f"
          },
          "geo": {
           "bgcolor": "white",
           "lakecolor": "white",
           "landcolor": "#E5ECF6",
           "showlakes": true,
           "showland": true,
           "subunitcolor": "white"
          },
          "hoverlabel": {
           "align": "left"
          },
          "hovermode": "closest",
          "mapbox": {
           "style": "light"
          },
          "paper_bgcolor": "white",
          "plot_bgcolor": "#E5ECF6",
          "polar": {
           "angularaxis": {
            "gridcolor": "white",
            "linecolor": "white",
            "ticks": ""
           },
           "bgcolor": "#E5ECF6",
           "radialaxis": {
            "gridcolor": "white",
            "linecolor": "white",
            "ticks": ""
           }
          },
          "scene": {
           "xaxis": {
            "backgroundcolor": "#E5ECF6",
            "gridcolor": "white",
            "gridwidth": 2,
            "linecolor": "white",
            "showbackground": true,
            "ticks": "",
            "zerolinecolor": "white"
           },
           "yaxis": {
            "backgroundcolor": "#E5ECF6",
            "gridcolor": "white",
            "gridwidth": 2,
            "linecolor": "white",
            "showbackground": true,
            "ticks": "",
            "zerolinecolor": "white"
           },
           "zaxis": {
            "backgroundcolor": "#E5ECF6",
            "gridcolor": "white",
            "gridwidth": 2,
            "linecolor": "white",
            "showbackground": true,
            "ticks": "",
            "zerolinecolor": "white"
           }
          },
          "shapedefaults": {
           "line": {
            "color": "#2a3f5f"
           }
          },
          "ternary": {
           "aaxis": {
            "gridcolor": "white",
            "linecolor": "white",
            "ticks": ""
           },
           "baxis": {
            "gridcolor": "white",
            "linecolor": "white",
            "ticks": ""
           },
           "bgcolor": "#E5ECF6",
           "caxis": {
            "gridcolor": "white",
            "linecolor": "white",
            "ticks": ""
           }
          },
          "title": {
           "x": 0.05
          },
          "xaxis": {
           "automargin": true,
           "gridcolor": "white",
           "linecolor": "white",
           "ticks": "",
           "title": {
            "standoff": 15
           },
           "zerolinecolor": "white",
           "zerolinewidth": 2
          },
          "yaxis": {
           "automargin": true,
           "gridcolor": "white",
           "linecolor": "white",
           "ticks": "",
           "title": {
            "standoff": 15
           },
           "zerolinecolor": "white",
           "zerolinewidth": 2
          }
         }
        },
        "title": {
         "text": "Métricas das LSTM's, para diferentes horizontes de previsões futuras 'f', de maiores r2 e para 'n'=4 (fixo) "
        },
        "xaxis": {
         "anchor": "y",
         "domain": [
          0,
          1
         ]
        },
        "xaxis2": {
         "anchor": "y2",
         "domain": [
          0,
          1
         ]
        },
        "yaxis": {
         "anchor": "x",
         "domain": [
          0.575,
          1
         ],
         "range": [
          0.5,
          1
         ]
        },
        "yaxis2": {
         "anchor": "x2",
         "domain": [
          0,
          0.425
         ],
         "range": [
          0.5,
          1
         ]
        }
       }
      }
     },
     "metadata": {},
     "output_type": "display_data"
    }
   ],
   "source": [
    "from plotly.subplots import make_subplots\n",
    "import plotly.graph_objects as go\n",
    "\n",
    "# Custom labels for each subplot\n",
    "custom_labels_r2_2 = ['f=5', 'f=6', 'f=7', 'f=8']\n",
    "custom_labels_r2_1 = ['f=1', 'f=2', 'f=3', 'f=4']\n",
    "\n",
    "# custom_labels_r2_2 = ['f=5 & n=3', 'f=6 & n=2', 'f=7 & n=1', 'f=8 & n=7']\n",
    "# custom_labels_r2_1 = ['f=1 & n=7', 'f=2 & n=1', 'f=3 & n=5', 'f=4 & n=2']\n",
    "\n",
    "\n",
    "# Define colors for bars\n",
    "r2_color = 'darkblue'\n",
    "corr_color = 'purple'\n",
    "\n",
    "# Create subplots\n",
    "fig = make_subplots(rows=2, cols=1) # subplot_titles=(\"Custom Labels for n=5 to n=8\", \"Custom Labels for n=1 to n=4\")\n",
    "\n",
    "# Add traces to subplot 1\n",
    "fig.add_trace(go.Bar(\n",
    "    x=custom_labels_r2_1,\n",
    "    y=df_plt_2['metrics.r2'][:4],\n",
    "    text=df_plt_2['metrics.r2'][:4].apply(lambda x: f'{x:.3f}'),  \n",
    "    hovertemplate='%{y:.3f}',\n",
    "    name='r2',\n",
    "    legendgroup='r2_group',\n",
    "    marker=dict(color=r2_color)\n",
    "), row=1, col=1)\n",
    "\n",
    "fig.add_trace(go.Bar(\n",
    "    x=custom_labels_r2_1,\n",
    "    y=df_plt_2['metrics.corr'][:4],\n",
    "    text=df_plt_2['metrics.corr'][:4].apply(lambda x: f'{x:.3f}'),  \n",
    "    hovertemplate='%{y:.3f}',\n",
    "    name='Correlação',\n",
    "    legendgroup='corr_group',\n",
    "    showlegend=False,\n",
    "    marker=dict(color=corr_color)\n",
    "), row=1, col=1)\n",
    "\n",
    "# Add traces to subplot 2\n",
    "fig.add_trace(go.Bar(\n",
    "    x=custom_labels_r2_2,\n",
    "    y=df_plt_2['metrics.r2'][4:],\n",
    "    text=df_plt_2['metrics.r2'][4:].apply(lambda x: f'{x:.3f}'),  \n",
    "    hovertemplate='%{y:.3f}',\n",
    "    name='r2',\n",
    "    legendgroup='r2_group',\n",
    "    showlegend=False,\n",
    "    marker=dict(color=r2_color)\n",
    "), row=2, col=1)\n",
    "\n",
    "fig.add_trace(go.Bar(\n",
    "    x=custom_labels_r2_2,\n",
    "    y=df_plt_2['metrics.corr'][4:],\n",
    "    text=df_plt_2['metrics.corr'][4:].apply(lambda x: f'{x:.3f}'),  \n",
    "    hovertemplate='%{y:.3f}',\n",
    "    name='Correlação',\n",
    "    legendgroup='corr_group',\n",
    "    marker=dict(color=corr_color)\n",
    "), row=2, col=1)\n",
    "\n",
    "# Update layout\n",
    "fig.update_layout(\n",
    "    title=f\"Métricas {name_plots}, para diferentes horizontes de previsões futuras 'f', de maiores r2 e para 'n'=4 (fixo) \",\n",
    "    #xaxis=dict(title='Número de S.O Retroativas \"n\" a serem utilizadas durante o treinamento'),\n",
    "    barmode='group',\n",
    ")\n",
    "\n",
    "# Set the same y-axis range for both subplots\n",
    "fig.update_yaxes(range=[0.5, 1.0], row=1, col=1)\n",
    "fig.update_yaxes(range=[0.5, 1.0], row=2, col=1)\n",
    "\n",
    "# Add annotations\n",
    "fig.add_annotation(text=\"'n' = Número de S.O Retroativas de vazão observada e precipitação na bacia, a serem utilizadas durante o treinamento\",\n",
    "                   xref=\"paper\", yref=\"paper\",\n",
    "                   x=0.5, y=-0.18, showarrow=False)\n",
    "\n",
    "# Add annotations\n",
    "fig.add_annotation(text=\"'f' = Número da S.O Futura onde se prevê a vazão\",\n",
    "                   xref=\"paper\", yref=\"paper\",\n",
    "                   x=0.5, y=-0.25, showarrow=False)\n",
    "\n",
    "# Show the plot\n",
    "fig.show()\n"
   ]
  },
  {
   "cell_type": "code",
   "execution_count": 19,
   "metadata": {},
   "outputs": [
    {
     "data": {
      "application/vnd.plotly.v1+json": {
       "config": {
        "plotlyServerURL": "https://plot.ly"
       },
       "data": [
        {
         "hovertemplate": "%{y:.3f}",
         "legendgroup": "mae_group",
         "marker": {
          "color": "maroon"
         },
         "name": "MAE",
         "text": [
          "5956.098",
          "7869.554",
          "8410.721",
          "9806.850"
         ],
         "type": "bar",
         "x": [
          "f=1",
          "f=2",
          "f=3",
          "f=4"
         ],
         "xaxis": "x",
         "y": [
          5956.097911184212,
          7869.55378079928,
          8410.720893179086,
          9806.849683368391
         ],
         "yaxis": "y"
        },
        {
         "hovertemplate": "%{y:.3f}",
         "legendgroup": "rmse_group",
         "marker": {
          "color": "orange"
         },
         "name": "RMSE",
         "showlegend": false,
         "text": [
          "8141.662",
          "11402.749",
          "11597.008",
          "14988.785"
         ],
         "type": "bar",
         "x": [
          "f=1",
          "f=2",
          "f=3",
          "f=4"
         ],
         "xaxis": "x",
         "y": [
          8141.662383962505,
          11402.74887431021,
          11597.008124995218,
          14988.785186739733
         ],
         "yaxis": "y"
        },
        {
         "hovertemplate": "%{y:.3f}",
         "legendgroup": "mae_group",
         "marker": {
          "color": "maroon"
         },
         "name": "MAE",
         "showlegend": false,
         "text": [
          "10048.330",
          "10153.257",
          "10198.188",
          "10570.233"
         ],
         "type": "bar",
         "x": [
          "f=5",
          "f=6",
          "f=7",
          "f=8"
         ],
         "xaxis": "x2",
         "y": [
          10048.329870546497,
          10153.257179574277,
          10198.188347997573,
          10570.232792779125
         ],
         "yaxis": "y2"
        },
        {
         "hovertemplate": "%{y:.3f}",
         "legendgroup": "rmse_group",
         "marker": {
          "color": "orange"
         },
         "name": "RMSE",
         "text": [
          "15043.573",
          "15122.561",
          "14437.085",
          "15692.834"
         ],
         "type": "bar",
         "x": [
          "f=5",
          "f=6",
          "f=7",
          "f=8"
         ],
         "xaxis": "x2",
         "y": [
          15043.57305272343,
          15122.560805464786,
          14437.085321474155,
          15692.833729635722
         ],
         "yaxis": "y2"
        }
       ],
       "layout": {
        "annotations": [
         {
          "showarrow": false,
          "text": "'n' = Número de S.O Retroativas de vazão observada e precipitação na bacia, a serem utilizadas durante o treinamento",
          "x": 0.5,
          "xref": "paper",
          "y": -0.18,
          "yref": "paper"
         },
         {
          "showarrow": false,
          "text": "'f' = Número da S.O Futura onde se prevê a vazão",
          "x": 0.5,
          "xref": "paper",
          "y": -0.25,
          "yref": "paper"
         }
        ],
        "barmode": "group",
        "template": {
         "data": {
          "bar": [
           {
            "error_x": {
             "color": "#2a3f5f"
            },
            "error_y": {
             "color": "#2a3f5f"
            },
            "marker": {
             "line": {
              "color": "#E5ECF6",
              "width": 0.5
             },
             "pattern": {
              "fillmode": "overlay",
              "size": 10,
              "solidity": 0.2
             }
            },
            "type": "bar"
           }
          ],
          "barpolar": [
           {
            "marker": {
             "line": {
              "color": "#E5ECF6",
              "width": 0.5
             },
             "pattern": {
              "fillmode": "overlay",
              "size": 10,
              "solidity": 0.2
             }
            },
            "type": "barpolar"
           }
          ],
          "carpet": [
           {
            "aaxis": {
             "endlinecolor": "#2a3f5f",
             "gridcolor": "white",
             "linecolor": "white",
             "minorgridcolor": "white",
             "startlinecolor": "#2a3f5f"
            },
            "baxis": {
             "endlinecolor": "#2a3f5f",
             "gridcolor": "white",
             "linecolor": "white",
             "minorgridcolor": "white",
             "startlinecolor": "#2a3f5f"
            },
            "type": "carpet"
           }
          ],
          "choropleth": [
           {
            "colorbar": {
             "outlinewidth": 0,
             "ticks": ""
            },
            "type": "choropleth"
           }
          ],
          "contour": [
           {
            "colorbar": {
             "outlinewidth": 0,
             "ticks": ""
            },
            "colorscale": [
             [
              0,
              "#0d0887"
             ],
             [
              0.1111111111111111,
              "#46039f"
             ],
             [
              0.2222222222222222,
              "#7201a8"
             ],
             [
              0.3333333333333333,
              "#9c179e"
             ],
             [
              0.4444444444444444,
              "#bd3786"
             ],
             [
              0.5555555555555556,
              "#d8576b"
             ],
             [
              0.6666666666666666,
              "#ed7953"
             ],
             [
              0.7777777777777778,
              "#fb9f3a"
             ],
             [
              0.8888888888888888,
              "#fdca26"
             ],
             [
              1,
              "#f0f921"
             ]
            ],
            "type": "contour"
           }
          ],
          "contourcarpet": [
           {
            "colorbar": {
             "outlinewidth": 0,
             "ticks": ""
            },
            "type": "contourcarpet"
           }
          ],
          "heatmap": [
           {
            "colorbar": {
             "outlinewidth": 0,
             "ticks": ""
            },
            "colorscale": [
             [
              0,
              "#0d0887"
             ],
             [
              0.1111111111111111,
              "#46039f"
             ],
             [
              0.2222222222222222,
              "#7201a8"
             ],
             [
              0.3333333333333333,
              "#9c179e"
             ],
             [
              0.4444444444444444,
              "#bd3786"
             ],
             [
              0.5555555555555556,
              "#d8576b"
             ],
             [
              0.6666666666666666,
              "#ed7953"
             ],
             [
              0.7777777777777778,
              "#fb9f3a"
             ],
             [
              0.8888888888888888,
              "#fdca26"
             ],
             [
              1,
              "#f0f921"
             ]
            ],
            "type": "heatmap"
           }
          ],
          "heatmapgl": [
           {
            "colorbar": {
             "outlinewidth": 0,
             "ticks": ""
            },
            "colorscale": [
             [
              0,
              "#0d0887"
             ],
             [
              0.1111111111111111,
              "#46039f"
             ],
             [
              0.2222222222222222,
              "#7201a8"
             ],
             [
              0.3333333333333333,
              "#9c179e"
             ],
             [
              0.4444444444444444,
              "#bd3786"
             ],
             [
              0.5555555555555556,
              "#d8576b"
             ],
             [
              0.6666666666666666,
              "#ed7953"
             ],
             [
              0.7777777777777778,
              "#fb9f3a"
             ],
             [
              0.8888888888888888,
              "#fdca26"
             ],
             [
              1,
              "#f0f921"
             ]
            ],
            "type": "heatmapgl"
           }
          ],
          "histogram": [
           {
            "marker": {
             "pattern": {
              "fillmode": "overlay",
              "size": 10,
              "solidity": 0.2
             }
            },
            "type": "histogram"
           }
          ],
          "histogram2d": [
           {
            "colorbar": {
             "outlinewidth": 0,
             "ticks": ""
            },
            "colorscale": [
             [
              0,
              "#0d0887"
             ],
             [
              0.1111111111111111,
              "#46039f"
             ],
             [
              0.2222222222222222,
              "#7201a8"
             ],
             [
              0.3333333333333333,
              "#9c179e"
             ],
             [
              0.4444444444444444,
              "#bd3786"
             ],
             [
              0.5555555555555556,
              "#d8576b"
             ],
             [
              0.6666666666666666,
              "#ed7953"
             ],
             [
              0.7777777777777778,
              "#fb9f3a"
             ],
             [
              0.8888888888888888,
              "#fdca26"
             ],
             [
              1,
              "#f0f921"
             ]
            ],
            "type": "histogram2d"
           }
          ],
          "histogram2dcontour": [
           {
            "colorbar": {
             "outlinewidth": 0,
             "ticks": ""
            },
            "colorscale": [
             [
              0,
              "#0d0887"
             ],
             [
              0.1111111111111111,
              "#46039f"
             ],
             [
              0.2222222222222222,
              "#7201a8"
             ],
             [
              0.3333333333333333,
              "#9c179e"
             ],
             [
              0.4444444444444444,
              "#bd3786"
             ],
             [
              0.5555555555555556,
              "#d8576b"
             ],
             [
              0.6666666666666666,
              "#ed7953"
             ],
             [
              0.7777777777777778,
              "#fb9f3a"
             ],
             [
              0.8888888888888888,
              "#fdca26"
             ],
             [
              1,
              "#f0f921"
             ]
            ],
            "type": "histogram2dcontour"
           }
          ],
          "mesh3d": [
           {
            "colorbar": {
             "outlinewidth": 0,
             "ticks": ""
            },
            "type": "mesh3d"
           }
          ],
          "parcoords": [
           {
            "line": {
             "colorbar": {
              "outlinewidth": 0,
              "ticks": ""
             }
            },
            "type": "parcoords"
           }
          ],
          "pie": [
           {
            "automargin": true,
            "type": "pie"
           }
          ],
          "scatter": [
           {
            "fillpattern": {
             "fillmode": "overlay",
             "size": 10,
             "solidity": 0.2
            },
            "type": "scatter"
           }
          ],
          "scatter3d": [
           {
            "line": {
             "colorbar": {
              "outlinewidth": 0,
              "ticks": ""
             }
            },
            "marker": {
             "colorbar": {
              "outlinewidth": 0,
              "ticks": ""
             }
            },
            "type": "scatter3d"
           }
          ],
          "scattercarpet": [
           {
            "marker": {
             "colorbar": {
              "outlinewidth": 0,
              "ticks": ""
             }
            },
            "type": "scattercarpet"
           }
          ],
          "scattergeo": [
           {
            "marker": {
             "colorbar": {
              "outlinewidth": 0,
              "ticks": ""
             }
            },
            "type": "scattergeo"
           }
          ],
          "scattergl": [
           {
            "marker": {
             "colorbar": {
              "outlinewidth": 0,
              "ticks": ""
             }
            },
            "type": "scattergl"
           }
          ],
          "scattermapbox": [
           {
            "marker": {
             "colorbar": {
              "outlinewidth": 0,
              "ticks": ""
             }
            },
            "type": "scattermapbox"
           }
          ],
          "scatterpolar": [
           {
            "marker": {
             "colorbar": {
              "outlinewidth": 0,
              "ticks": ""
             }
            },
            "type": "scatterpolar"
           }
          ],
          "scatterpolargl": [
           {
            "marker": {
             "colorbar": {
              "outlinewidth": 0,
              "ticks": ""
             }
            },
            "type": "scatterpolargl"
           }
          ],
          "scatterternary": [
           {
            "marker": {
             "colorbar": {
              "outlinewidth": 0,
              "ticks": ""
             }
            },
            "type": "scatterternary"
           }
          ],
          "surface": [
           {
            "colorbar": {
             "outlinewidth": 0,
             "ticks": ""
            },
            "colorscale": [
             [
              0,
              "#0d0887"
             ],
             [
              0.1111111111111111,
              "#46039f"
             ],
             [
              0.2222222222222222,
              "#7201a8"
             ],
             [
              0.3333333333333333,
              "#9c179e"
             ],
             [
              0.4444444444444444,
              "#bd3786"
             ],
             [
              0.5555555555555556,
              "#d8576b"
             ],
             [
              0.6666666666666666,
              "#ed7953"
             ],
             [
              0.7777777777777778,
              "#fb9f3a"
             ],
             [
              0.8888888888888888,
              "#fdca26"
             ],
             [
              1,
              "#f0f921"
             ]
            ],
            "type": "surface"
           }
          ],
          "table": [
           {
            "cells": {
             "fill": {
              "color": "#EBF0F8"
             },
             "line": {
              "color": "white"
             }
            },
            "header": {
             "fill": {
              "color": "#C8D4E3"
             },
             "line": {
              "color": "white"
             }
            },
            "type": "table"
           }
          ]
         },
         "layout": {
          "annotationdefaults": {
           "arrowcolor": "#2a3f5f",
           "arrowhead": 0,
           "arrowwidth": 1
          },
          "autotypenumbers": "strict",
          "coloraxis": {
           "colorbar": {
            "outlinewidth": 0,
            "ticks": ""
           }
          },
          "colorscale": {
           "diverging": [
            [
             0,
             "#8e0152"
            ],
            [
             0.1,
             "#c51b7d"
            ],
            [
             0.2,
             "#de77ae"
            ],
            [
             0.3,
             "#f1b6da"
            ],
            [
             0.4,
             "#fde0ef"
            ],
            [
             0.5,
             "#f7f7f7"
            ],
            [
             0.6,
             "#e6f5d0"
            ],
            [
             0.7,
             "#b8e186"
            ],
            [
             0.8,
             "#7fbc41"
            ],
            [
             0.9,
             "#4d9221"
            ],
            [
             1,
             "#276419"
            ]
           ],
           "sequential": [
            [
             0,
             "#0d0887"
            ],
            [
             0.1111111111111111,
             "#46039f"
            ],
            [
             0.2222222222222222,
             "#7201a8"
            ],
            [
             0.3333333333333333,
             "#9c179e"
            ],
            [
             0.4444444444444444,
             "#bd3786"
            ],
            [
             0.5555555555555556,
             "#d8576b"
            ],
            [
             0.6666666666666666,
             "#ed7953"
            ],
            [
             0.7777777777777778,
             "#fb9f3a"
            ],
            [
             0.8888888888888888,
             "#fdca26"
            ],
            [
             1,
             "#f0f921"
            ]
           ],
           "sequentialminus": [
            [
             0,
             "#0d0887"
            ],
            [
             0.1111111111111111,
             "#46039f"
            ],
            [
             0.2222222222222222,
             "#7201a8"
            ],
            [
             0.3333333333333333,
             "#9c179e"
            ],
            [
             0.4444444444444444,
             "#bd3786"
            ],
            [
             0.5555555555555556,
             "#d8576b"
            ],
            [
             0.6666666666666666,
             "#ed7953"
            ],
            [
             0.7777777777777778,
             "#fb9f3a"
            ],
            [
             0.8888888888888888,
             "#fdca26"
            ],
            [
             1,
             "#f0f921"
            ]
           ]
          },
          "colorway": [
           "#636efa",
           "#EF553B",
           "#00cc96",
           "#ab63fa",
           "#FFA15A",
           "#19d3f3",
           "#FF6692",
           "#B6E880",
           "#FF97FF",
           "#FECB52"
          ],
          "font": {
           "color": "#2a3f5f"
          },
          "geo": {
           "bgcolor": "white",
           "lakecolor": "white",
           "landcolor": "#E5ECF6",
           "showlakes": true,
           "showland": true,
           "subunitcolor": "white"
          },
          "hoverlabel": {
           "align": "left"
          },
          "hovermode": "closest",
          "mapbox": {
           "style": "light"
          },
          "paper_bgcolor": "white",
          "plot_bgcolor": "#E5ECF6",
          "polar": {
           "angularaxis": {
            "gridcolor": "white",
            "linecolor": "white",
            "ticks": ""
           },
           "bgcolor": "#E5ECF6",
           "radialaxis": {
            "gridcolor": "white",
            "linecolor": "white",
            "ticks": ""
           }
          },
          "scene": {
           "xaxis": {
            "backgroundcolor": "#E5ECF6",
            "gridcolor": "white",
            "gridwidth": 2,
            "linecolor": "white",
            "showbackground": true,
            "ticks": "",
            "zerolinecolor": "white"
           },
           "yaxis": {
            "backgroundcolor": "#E5ECF6",
            "gridcolor": "white",
            "gridwidth": 2,
            "linecolor": "white",
            "showbackground": true,
            "ticks": "",
            "zerolinecolor": "white"
           },
           "zaxis": {
            "backgroundcolor": "#E5ECF6",
            "gridcolor": "white",
            "gridwidth": 2,
            "linecolor": "white",
            "showbackground": true,
            "ticks": "",
            "zerolinecolor": "white"
           }
          },
          "shapedefaults": {
           "line": {
            "color": "#2a3f5f"
           }
          },
          "ternary": {
           "aaxis": {
            "gridcolor": "white",
            "linecolor": "white",
            "ticks": ""
           },
           "baxis": {
            "gridcolor": "white",
            "linecolor": "white",
            "ticks": ""
           },
           "bgcolor": "#E5ECF6",
           "caxis": {
            "gridcolor": "white",
            "linecolor": "white",
            "ticks": ""
           }
          },
          "title": {
           "x": 0.05
          },
          "xaxis": {
           "automargin": true,
           "gridcolor": "white",
           "linecolor": "white",
           "ticks": "",
           "title": {
            "standoff": 15
           },
           "zerolinecolor": "white",
           "zerolinewidth": 2
          },
          "yaxis": {
           "automargin": true,
           "gridcolor": "white",
           "linecolor": "white",
           "ticks": "",
           "title": {
            "standoff": 15
           },
           "zerolinecolor": "white",
           "zerolinewidth": 2
          }
         }
        },
        "title": {
         "text": "Métricas das LSTM's, para diferentes horizontes de previsões futuras 'f', de maiores r2 e para 'n'=4 (fixo) "
        },
        "xaxis": {
         "anchor": "y",
         "domain": [
          0,
          1
         ]
        },
        "xaxis2": {
         "anchor": "y2",
         "domain": [
          0,
          1
         ]
        },
        "yaxis": {
         "anchor": "x",
         "domain": [
          0.575,
          1
         ],
         "range": [
          0,
          25000
         ]
        },
        "yaxis2": {
         "anchor": "x2",
         "domain": [
          0,
          0.425
         ],
         "range": [
          0,
          25000
         ]
        }
       }
      }
     },
     "metadata": {},
     "output_type": "display_data"
    }
   ],
   "source": [
    "from plotly.subplots import make_subplots\n",
    "import plotly.graph_objects as go\n",
    "\n",
    "# Custom labels for each subplot\n",
    "custom_labels_r2_2 = ['f=5', 'f=6', 'f=7', 'f=8']\n",
    "custom_labels_r2_1 = ['f=1', 'f=2', 'f=3', 'f=4']\n",
    "\n",
    "# custom_labels_r2_2 = ['f=5 & n=3', 'f=6 & n=2', 'f=7 & n=1', 'f=8 & n=7']\n",
    "# custom_labels_r2_1 = ['f=1 & n=7', 'f=2 & n=1', 'f=3 & n=5', 'f=4 & n=2']\n",
    "\n",
    "\n",
    "# Define colors for bars\n",
    "r2_color = 'maroon'\n",
    "corr_color = 'orange'\n",
    "\n",
    "# Create subplots\n",
    "fig = make_subplots(rows=2, cols=1) # subplot_titles=(\"Custom Labels for n=5 to n=8\", \"Custom Labels for n=1 to n=4\")\n",
    "\n",
    "# Add traces to subplot 1\n",
    "fig.add_trace(go.Bar(\n",
    "    x=custom_labels_r2_1,\n",
    "    y=df_plt_2['metrics.mae'][:4],\n",
    "    text=df_plt_2['metrics.mae'][:4].apply(lambda x: f'{x:.3f}'),  \n",
    "    hovertemplate='%{y:.3f}',\n",
    "    name='MAE',\n",
    "    legendgroup='mae_group',\n",
    "    marker=dict(color=r2_color)\n",
    "), row=1, col=1)\n",
    "\n",
    "fig.add_trace(go.Bar(\n",
    "    x=custom_labels_r2_1,\n",
    "    y=df_plt_2['metrics.rmse'][:4],\n",
    "    text=df_plt_2['metrics.rmse'][:4].apply(lambda x: f'{x:.3f}'),  \n",
    "    hovertemplate='%{y:.3f}',\n",
    "    name='RMSE',\n",
    "    legendgroup='rmse_group',\n",
    "    showlegend=False,\n",
    "    marker=dict(color=corr_color)\n",
    "), row=1, col=1)\n",
    "\n",
    "# Add traces to subplot 2\n",
    "fig.add_trace(go.Bar(\n",
    "    x=custom_labels_r2_2,\n",
    "    y=df_plt_2['metrics.mae'][4:],\n",
    "    text=df_plt_2['metrics.mae'][4:].apply(lambda x: f'{x:.3f}'),  \n",
    "    hovertemplate='%{y:.3f}',\n",
    "    name='MAE',\n",
    "    legendgroup='mae_group',\n",
    "    showlegend=False,\n",
    "    marker=dict(color=r2_color)\n",
    "), row=2, col=1)\n",
    "\n",
    "fig.add_trace(go.Bar(\n",
    "    x=custom_labels_r2_2,\n",
    "    y=df_plt_2['metrics.rmse'][4:],\n",
    "    text=df_plt_2['metrics.rmse'][4:].apply(lambda x: f'{x:.3f}'),  \n",
    "    hovertemplate='%{y:.3f}',\n",
    "    name='RMSE',\n",
    "    legendgroup='rmse_group',\n",
    "    marker=dict(color=corr_color)\n",
    "), row=2, col=1)\n",
    "\n",
    "# Update layout\n",
    "fig.update_layout(\n",
    "    title=f\"Métricas {name_plots}, para diferentes horizontes de previsões futuras 'f', de maiores r2 e para 'n'=4 (fixo) \",\n",
    "    #xaxis=dict(title='Número de S.O Retroativas \"n\" a serem utilizadas durante o treinamento'),\n",
    "    barmode='group',\n",
    ")\n",
    "\n",
    "# Set the same y-axis range for both subplots\n",
    "fig.update_yaxes(range=[0, 25000], row=1, col=1)\n",
    "fig.update_yaxes(range=[0, 25000], row=2, col=1)\n",
    "\n",
    "# Add annotations\n",
    "fig.add_annotation(text=\"'n' = Número de S.O Retroativas de vazão observada e precipitação na bacia, a serem utilizadas durante o treinamento\",\n",
    "                   xref=\"paper\", yref=\"paper\",\n",
    "                   x=0.5, y=-0.18, showarrow=False)\n",
    "\n",
    "# Add annotations\n",
    "fig.add_annotation(text=\"'f' = Número da S.O Futura onde se prevê a vazão\",\n",
    "                   xref=\"paper\", yref=\"paper\",\n",
    "                   x=0.5, y=-0.25, showarrow=False)\n",
    "\n",
    "# Show the plot\n",
    "fig.show()\n"
   ]
  },
  {
   "cell_type": "code",
   "execution_count": null,
   "metadata": {},
   "outputs": [],
   "source": []
  }
 ],
 "metadata": {
  "kernelspec": {
   "display_name": ".euros",
   "language": "python",
   "name": ".euros"
  },
  "language_info": {
   "codemirror_mode": {
    "name": "ipython",
    "version": 3
   },
   "file_extension": ".py",
   "mimetype": "text/x-python",
   "name": "python",
   "nbconvert_exporter": "python",
   "pygments_lexer": "ipython3",
   "version": "3.10.12"
  },
  "orig_nbformat": 4
 },
 "nbformat": 4,
 "nbformat_minor": 2
}
