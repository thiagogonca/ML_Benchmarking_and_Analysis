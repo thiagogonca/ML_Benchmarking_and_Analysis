{
 "cells": [
  {
   "cell_type": "code",
   "execution_count": 1,
   "metadata": {},
   "outputs": [
    {
     "name": "stderr",
     "output_type": "stream",
     "text": [
      "/usr/lib/python3/dist-packages/scipy/__init__.py:146: UserWarning: A NumPy version >=1.17.3 and <1.25.0 is required for this version of SciPy (detected version 1.26.3\n",
      "  warnings.warn(f\"A NumPy version >={np_minversion} and <{np_maxversion}\"\n"
     ]
    }
   ],
   "source": [
    "import pandas as pd\n",
    "from sklearn.preprocessing import MinMaxScaler\n",
    "import numpy as np\n",
    "from sklearn.model_selection import train_test_split\n",
    "from sklearn.tree import DecisionTreeRegressor\n",
    "from sklearn.metrics import mean_squared_error, mean_absolute_error, r2_score\n",
    "import os\n",
    "import mlflow\n",
    "import datetime\n",
    "from itertools import product\n",
    "import plotly.graph_objects as go"
   ]
  },
  {
   "cell_type": "markdown",
   "metadata": {},
   "source": [
    "- colocar r2, mae e rmse do modelo de maior r2 apenas! (no geral os 3 andam juntos, informar também qual \"n\" que gerou esse modelo) para cada f=1,...f=4 em um subplot e f=5,...f=8 no outro subplot\n",
    "- mesma coisa porém para \"n\" fixo em 4"
   ]
  },
  {
   "cell_type": "markdown",
   "metadata": {},
   "source": [
    "#### Melhor R2 (qualquer \"n\")"
   ]
  },
  {
   "cell_type": "code",
   "execution_count": 2,
   "metadata": {},
   "outputs": [],
   "source": [
    "name_plots = \"das GRU's\"\n",
    "name_experiment = \"Itaipu_Benchmarking_Vazao_GRU_V2_\""
   ]
  },
  {
   "cell_type": "code",
   "execution_count": 3,
   "metadata": {},
   "outputs": [
    {
     "data": {
      "text/plain": [
       "<Experiment: artifact_location='file:///home/thiago/2rp/this_is_fine/euros/mlruns/15', creation_time=1707876448729, experiment_id='15', last_update_time=1707876448729, lifecycle_stage='active', name='Itaipu_Benchmarking_Vazao_GRU_V2_', tags={}>"
      ]
     },
     "execution_count": 3,
     "metadata": {},
     "output_type": "execute_result"
    }
   ],
   "source": [
    "mlflow.set_tracking_uri(\"http://localhost:5000\")\n",
    "mlflow.set_experiment(name_experiment)"
   ]
  },
  {
   "cell_type": "code",
   "execution_count": 4,
   "metadata": {},
   "outputs": [],
   "source": [
    "drop_columns = ['run_id','experiment_id', 'status','artifact_uri', \n",
    "                'start_time', 'end_time', 'tags.mlflow.source.type', \n",
    "                'tags.mlflow.source.name', 'params.model','params.label',\n",
    "                'tags.mlflow.user']"
   ]
  },
  {
   "cell_type": "code",
   "execution_count": 5,
   "metadata": {},
   "outputs": [],
   "source": [
    "f_so_pred_values = range(1,8+1)\n",
    "metric = 'r2'\n",
    "\n",
    "# Initialize an empty list to store the dataframes\n",
    "dfs = []\n",
    "\n",
    "# Iterate over each f_so_pred value\n",
    "for f_so_pred in f_so_pred_values:\n",
    "    # Search runs for the current f_so_pred value\n",
    "    df = mlflow.search_runs(filter_string=f\"params.f_so_pred = '{f_so_pred}'\", order_by=[f'metrics.{metric} DESC'])\n",
    "    \n",
    "    # Drop unnecessary columns\n",
    "    df = df.drop(columns=drop_columns).iloc[:1]\n",
    "    \n",
    "    # Append the dataframe to the list\n",
    "    dfs.append(df)\n",
    "\n",
    "# Concatenate the dataframes along the rows\n",
    "df_plt_1 = pd.concat(dfs)"
   ]
  },
  {
   "cell_type": "code",
   "execution_count": 6,
   "metadata": {},
   "outputs": [
    {
     "data": {
      "text/html": [
       "<div>\n",
       "<style scoped>\n",
       "    .dataframe tbody tr th:only-of-type {\n",
       "        vertical-align: middle;\n",
       "    }\n",
       "\n",
       "    .dataframe tbody tr th {\n",
       "        vertical-align: top;\n",
       "    }\n",
       "\n",
       "    .dataframe thead th {\n",
       "        text-align: right;\n",
       "    }\n",
       "</style>\n",
       "<table border=\"1\" class=\"dataframe\">\n",
       "  <thead>\n",
       "    <tr style=\"text-align: right;\">\n",
       "      <th></th>\n",
       "      <th>metrics.mae</th>\n",
       "      <th>metrics.r2</th>\n",
       "      <th>metrics.corr</th>\n",
       "      <th>metrics.rmse</th>\n",
       "      <th>params.seed</th>\n",
       "      <th>params.n_so_retro</th>\n",
       "      <th>params.activation</th>\n",
       "      <th>params.n_neurons_hl</th>\n",
       "      <th>params.max_epochs</th>\n",
       "      <th>params.patience</th>\n",
       "      <th>params.monitor_metric</th>\n",
       "      <th>params.f_so_pred</th>\n",
       "      <th>tags.mlflow.runName</th>\n",
       "      <th>tags.run_name</th>\n",
       "    </tr>\n",
       "  </thead>\n",
       "  <tbody>\n",
       "    <tr>\n",
       "      <th>0</th>\n",
       "      <td>5737.087100</td>\n",
       "      <td>0.935409</td>\n",
       "      <td>0.967327</td>\n",
       "      <td>8432.449038</td>\n",
       "      <td>21</td>\n",
       "      <td>5</td>\n",
       "      <td>relu</td>\n",
       "      <td>[40, 50, 60]</td>\n",
       "      <td>500</td>\n",
       "      <td>15</td>\n",
       "      <td>val_mean_absolute_error</td>\n",
       "      <td>1</td>\n",
       "      <td>gru_n=5_f=1_40_50_60_relu_3hl</td>\n",
       "      <td>gru_n=5_f=1_40_50_60_relu_3hl</td>\n",
       "    </tr>\n",
       "    <tr>\n",
       "      <th>0</th>\n",
       "      <td>7857.464305</td>\n",
       "      <td>0.893019</td>\n",
       "      <td>0.946142</td>\n",
       "      <td>10887.583333</td>\n",
       "      <td>21</td>\n",
       "      <td>6</td>\n",
       "      <td>relu</td>\n",
       "      <td>[60, 50, 50]</td>\n",
       "      <td>500</td>\n",
       "      <td>15</td>\n",
       "      <td>val_mean_absolute_error</td>\n",
       "      <td>2</td>\n",
       "      <td>gru_n=6_f=2_60_50_50_relu_3hl</td>\n",
       "      <td>gru_n=6_f=2_60_50_50_relu_3hl</td>\n",
       "    </tr>\n",
       "    <tr>\n",
       "      <th>0</th>\n",
       "      <td>7619.657929</td>\n",
       "      <td>0.881148</td>\n",
       "      <td>0.940645</td>\n",
       "      <td>11348.970227</td>\n",
       "      <td>21</td>\n",
       "      <td>8</td>\n",
       "      <td>relu</td>\n",
       "      <td>[60, 50]</td>\n",
       "      <td>500</td>\n",
       "      <td>15</td>\n",
       "      <td>val_mean_absolute_error</td>\n",
       "      <td>3</td>\n",
       "      <td>gru_n=8_f=3_60_50_relu_2hl</td>\n",
       "      <td>gru_n=8_f=3_60_50_relu_2hl</td>\n",
       "    </tr>\n",
       "    <tr>\n",
       "      <th>0</th>\n",
       "      <td>8157.182955</td>\n",
       "      <td>0.875633</td>\n",
       "      <td>0.936465</td>\n",
       "      <td>11468.085850</td>\n",
       "      <td>21</td>\n",
       "      <td>7</td>\n",
       "      <td>relu</td>\n",
       "      <td>[40, 60]</td>\n",
       "      <td>500</td>\n",
       "      <td>15</td>\n",
       "      <td>val_mean_absolute_error</td>\n",
       "      <td>4</td>\n",
       "      <td>gru_n=7_f=4_40_60_relu_2hl</td>\n",
       "      <td>gru_n=7_f=4_40_60_relu_2hl</td>\n",
       "    </tr>\n",
       "    <tr>\n",
       "      <th>0</th>\n",
       "      <td>8635.872967</td>\n",
       "      <td>0.849628</td>\n",
       "      <td>0.923204</td>\n",
       "      <td>13016.488805</td>\n",
       "      <td>21</td>\n",
       "      <td>7</td>\n",
       "      <td>relu</td>\n",
       "      <td>[50, 40, 60]</td>\n",
       "      <td>500</td>\n",
       "      <td>15</td>\n",
       "      <td>val_mean_absolute_error</td>\n",
       "      <td>5</td>\n",
       "      <td>gru_n=7_f=5_50_40_60_relu_3hl</td>\n",
       "      <td>gru_n=7_f=5_50_40_60_relu_3hl</td>\n",
       "    </tr>\n",
       "    <tr>\n",
       "      <th>0</th>\n",
       "      <td>9096.322704</td>\n",
       "      <td>0.853306</td>\n",
       "      <td>0.924097</td>\n",
       "      <td>12336.544047</td>\n",
       "      <td>21</td>\n",
       "      <td>8</td>\n",
       "      <td>relu</td>\n",
       "      <td>[60, 40, 50]</td>\n",
       "      <td>500</td>\n",
       "      <td>15</td>\n",
       "      <td>val_mean_absolute_error</td>\n",
       "      <td>6</td>\n",
       "      <td>gru_n=8_f=6_60_40_50_relu_3hl</td>\n",
       "      <td>gru_n=8_f=6_60_40_50_relu_3hl</td>\n",
       "    </tr>\n",
       "    <tr>\n",
       "      <th>0</th>\n",
       "      <td>8581.029853</td>\n",
       "      <td>0.846345</td>\n",
       "      <td>0.921505</td>\n",
       "      <td>13561.980703</td>\n",
       "      <td>21</td>\n",
       "      <td>7</td>\n",
       "      <td>relu</td>\n",
       "      <td>[50, 40, 60]</td>\n",
       "      <td>500</td>\n",
       "      <td>15</td>\n",
       "      <td>val_mean_absolute_error</td>\n",
       "      <td>7</td>\n",
       "      <td>gru_n=7_f=7_50_40_60_relu_3hl</td>\n",
       "      <td>gru_n=7_f=7_50_40_60_relu_3hl</td>\n",
       "    </tr>\n",
       "    <tr>\n",
       "      <th>0</th>\n",
       "      <td>9682.109658</td>\n",
       "      <td>0.843597</td>\n",
       "      <td>0.920356</td>\n",
       "      <td>14056.155885</td>\n",
       "      <td>21</td>\n",
       "      <td>5</td>\n",
       "      <td>relu</td>\n",
       "      <td>[40]</td>\n",
       "      <td>500</td>\n",
       "      <td>15</td>\n",
       "      <td>val_mean_absolute_error</td>\n",
       "      <td>8</td>\n",
       "      <td>gru_n=5_f=8_40_relu_1hl</td>\n",
       "      <td>gru_n=5_f=8_40_relu_1hl</td>\n",
       "    </tr>\n",
       "  </tbody>\n",
       "</table>\n",
       "</div>"
      ],
      "text/plain": [
       "   metrics.mae  metrics.r2  metrics.corr  metrics.rmse params.seed  \\\n",
       "0  5737.087100    0.935409      0.967327   8432.449038          21   \n",
       "0  7857.464305    0.893019      0.946142  10887.583333          21   \n",
       "0  7619.657929    0.881148      0.940645  11348.970227          21   \n",
       "0  8157.182955    0.875633      0.936465  11468.085850          21   \n",
       "0  8635.872967    0.849628      0.923204  13016.488805          21   \n",
       "0  9096.322704    0.853306      0.924097  12336.544047          21   \n",
       "0  8581.029853    0.846345      0.921505  13561.980703          21   \n",
       "0  9682.109658    0.843597      0.920356  14056.155885          21   \n",
       "\n",
       "  params.n_so_retro params.activation params.n_neurons_hl params.max_epochs  \\\n",
       "0                 5              relu        [40, 50, 60]               500   \n",
       "0                 6              relu        [60, 50, 50]               500   \n",
       "0                 8              relu            [60, 50]               500   \n",
       "0                 7              relu            [40, 60]               500   \n",
       "0                 7              relu        [50, 40, 60]               500   \n",
       "0                 8              relu        [60, 40, 50]               500   \n",
       "0                 7              relu        [50, 40, 60]               500   \n",
       "0                 5              relu                [40]               500   \n",
       "\n",
       "  params.patience    params.monitor_metric params.f_so_pred  \\\n",
       "0              15  val_mean_absolute_error                1   \n",
       "0              15  val_mean_absolute_error                2   \n",
       "0              15  val_mean_absolute_error                3   \n",
       "0              15  val_mean_absolute_error                4   \n",
       "0              15  val_mean_absolute_error                5   \n",
       "0              15  val_mean_absolute_error                6   \n",
       "0              15  val_mean_absolute_error                7   \n",
       "0              15  val_mean_absolute_error                8   \n",
       "\n",
       "             tags.mlflow.runName                  tags.run_name  \n",
       "0  gru_n=5_f=1_40_50_60_relu_3hl  gru_n=5_f=1_40_50_60_relu_3hl  \n",
       "0  gru_n=6_f=2_60_50_50_relu_3hl  gru_n=6_f=2_60_50_50_relu_3hl  \n",
       "0     gru_n=8_f=3_60_50_relu_2hl     gru_n=8_f=3_60_50_relu_2hl  \n",
       "0     gru_n=7_f=4_40_60_relu_2hl     gru_n=7_f=4_40_60_relu_2hl  \n",
       "0  gru_n=7_f=5_50_40_60_relu_3hl  gru_n=7_f=5_50_40_60_relu_3hl  \n",
       "0  gru_n=8_f=6_60_40_50_relu_3hl  gru_n=8_f=6_60_40_50_relu_3hl  \n",
       "0  gru_n=7_f=7_50_40_60_relu_3hl  gru_n=7_f=7_50_40_60_relu_3hl  \n",
       "0        gru_n=5_f=8_40_relu_1hl        gru_n=5_f=8_40_relu_1hl  "
      ]
     },
     "execution_count": 6,
     "metadata": {},
     "output_type": "execute_result"
    }
   ],
   "source": [
    "df_plt_1"
   ]
  },
  {
   "cell_type": "code",
   "execution_count": 7,
   "metadata": {},
   "outputs": [],
   "source": [
    "f_so_pred_values = range(1,8+1)\n",
    "metric = 'r2'\n",
    "\n",
    "# Initialize an empty list to store the dataframes\n",
    "dfs = []\n",
    "\n",
    "# Iterate over each f_so_pred value\n",
    "for f_so_pred in f_so_pred_values:\n",
    "    # Search runs for the current f_so_pred value\n",
    "    df = mlflow.search_runs(filter_string=f\"params.f_so_pred = '{f_so_pred}' AND params.n_so_retro = '4'\", \n",
    "                            order_by=[f'metrics.{metric} DESC'])\n",
    "    \n",
    "    # Drop unnecessary columns\n",
    "    df = df.drop(columns=drop_columns).iloc[:1]\n",
    "    \n",
    "    # Append the dataframe to the list\n",
    "    dfs.append(df)\n",
    "\n",
    "# Concatenate the dataframes along the rows\n",
    "df_plt_2 = pd.concat(dfs)"
   ]
  },
  {
   "cell_type": "code",
   "execution_count": 8,
   "metadata": {},
   "outputs": [
    {
     "data": {
      "text/html": [
       "<div>\n",
       "<style scoped>\n",
       "    .dataframe tbody tr th:only-of-type {\n",
       "        vertical-align: middle;\n",
       "    }\n",
       "\n",
       "    .dataframe tbody tr th {\n",
       "        vertical-align: top;\n",
       "    }\n",
       "\n",
       "    .dataframe thead th {\n",
       "        text-align: right;\n",
       "    }\n",
       "</style>\n",
       "<table border=\"1\" class=\"dataframe\">\n",
       "  <thead>\n",
       "    <tr style=\"text-align: right;\">\n",
       "      <th></th>\n",
       "      <th>metrics.r2</th>\n",
       "      <th>metrics.rmse</th>\n",
       "      <th>metrics.mae</th>\n",
       "      <th>metrics.corr</th>\n",
       "      <th>params.seed</th>\n",
       "      <th>params.n_so_retro</th>\n",
       "      <th>params.activation</th>\n",
       "      <th>params.n_neurons_hl</th>\n",
       "      <th>params.max_epochs</th>\n",
       "      <th>params.patience</th>\n",
       "      <th>params.monitor_metric</th>\n",
       "      <th>params.f_so_pred</th>\n",
       "      <th>tags.mlflow.runName</th>\n",
       "      <th>tags.run_name</th>\n",
       "    </tr>\n",
       "  </thead>\n",
       "  <tbody>\n",
       "    <tr>\n",
       "      <th>0</th>\n",
       "      <td>0.930965</td>\n",
       "      <td>8416.243215</td>\n",
       "      <td>6048.746216</td>\n",
       "      <td>0.964898</td>\n",
       "      <td>21</td>\n",
       "      <td>4</td>\n",
       "      <td>relu</td>\n",
       "      <td>[40, 40, 60]</td>\n",
       "      <td>500</td>\n",
       "      <td>15</td>\n",
       "      <td>val_mean_absolute_error</td>\n",
       "      <td>1</td>\n",
       "      <td>gru_n=4_f=1_40_40_60_relu_3hl</td>\n",
       "      <td>gru_n=4_f=1_40_40_60_relu_3hl</td>\n",
       "    </tr>\n",
       "    <tr>\n",
       "      <th>0</th>\n",
       "      <td>0.889489</td>\n",
       "      <td>11014.819429</td>\n",
       "      <td>7794.014032</td>\n",
       "      <td>0.943971</td>\n",
       "      <td>21</td>\n",
       "      <td>4</td>\n",
       "      <td>relu</td>\n",
       "      <td>[50, 40, 60]</td>\n",
       "      <td>500</td>\n",
       "      <td>15</td>\n",
       "      <td>val_mean_absolute_error</td>\n",
       "      <td>2</td>\n",
       "      <td>gru_n=4_f=2_50_40_60_relu_3hl</td>\n",
       "      <td>gru_n=4_f=2_50_40_60_relu_3hl</td>\n",
       "    </tr>\n",
       "    <tr>\n",
       "      <th>0</th>\n",
       "      <td>0.876555</td>\n",
       "      <td>11495.880135</td>\n",
       "      <td>8191.763349</td>\n",
       "      <td>0.937518</td>\n",
       "      <td>21</td>\n",
       "      <td>4</td>\n",
       "      <td>relu</td>\n",
       "      <td>[60, 60, 60]</td>\n",
       "      <td>500</td>\n",
       "      <td>15</td>\n",
       "      <td>val_mean_absolute_error</td>\n",
       "      <td>3</td>\n",
       "      <td>gru_n=4_f=3_60_60_60_relu_3hl</td>\n",
       "      <td>gru_n=4_f=3_60_60_60_relu_3hl</td>\n",
       "    </tr>\n",
       "    <tr>\n",
       "      <th>0</th>\n",
       "      <td>0.801501</td>\n",
       "      <td>14959.207748</td>\n",
       "      <td>9674.153342</td>\n",
       "      <td>0.897373</td>\n",
       "      <td>21</td>\n",
       "      <td>4</td>\n",
       "      <td>relu</td>\n",
       "      <td>[60]</td>\n",
       "      <td>500</td>\n",
       "      <td>15</td>\n",
       "      <td>val_mean_absolute_error</td>\n",
       "      <td>4</td>\n",
       "      <td>gru_n=4_f=4_60_relu_1hl</td>\n",
       "      <td>gru_n=4_f=4_60_relu_1hl</td>\n",
       "    </tr>\n",
       "    <tr>\n",
       "      <th>0</th>\n",
       "      <td>0.767253</td>\n",
       "      <td>15227.850042</td>\n",
       "      <td>9861.026437</td>\n",
       "      <td>0.876974</td>\n",
       "      <td>21</td>\n",
       "      <td>4</td>\n",
       "      <td>relu</td>\n",
       "      <td>[40, 60, 60]</td>\n",
       "      <td>500</td>\n",
       "      <td>15</td>\n",
       "      <td>val_mean_absolute_error</td>\n",
       "      <td>5</td>\n",
       "      <td>gru_n=4_f=5_40_60_60_relu_3hl</td>\n",
       "      <td>gru_n=4_f=5_40_60_60_relu_3hl</td>\n",
       "    </tr>\n",
       "    <tr>\n",
       "      <th>0</th>\n",
       "      <td>0.774755</td>\n",
       "      <td>15337.270457</td>\n",
       "      <td>9946.951552</td>\n",
       "      <td>0.881662</td>\n",
       "      <td>21</td>\n",
       "      <td>4</td>\n",
       "      <td>relu</td>\n",
       "      <td>[60, 60, 40]</td>\n",
       "      <td>500</td>\n",
       "      <td>15</td>\n",
       "      <td>val_mean_absolute_error</td>\n",
       "      <td>6</td>\n",
       "      <td>gru_n=4_f=6_60_60_40_relu_3hl</td>\n",
       "      <td>gru_n=4_f=6_60_60_40_relu_3hl</td>\n",
       "    </tr>\n",
       "    <tr>\n",
       "      <th>0</th>\n",
       "      <td>0.796315</td>\n",
       "      <td>14620.539253</td>\n",
       "      <td>10026.636950</td>\n",
       "      <td>0.893071</td>\n",
       "      <td>21</td>\n",
       "      <td>4</td>\n",
       "      <td>relu</td>\n",
       "      <td>[40, 40]</td>\n",
       "      <td>500</td>\n",
       "      <td>15</td>\n",
       "      <td>val_mean_absolute_error</td>\n",
       "      <td>7</td>\n",
       "      <td>gru_n=4_f=7_40_40_relu_2hl</td>\n",
       "      <td>gru_n=4_f=7_40_40_relu_2hl</td>\n",
       "    </tr>\n",
       "    <tr>\n",
       "      <th>0</th>\n",
       "      <td>0.786437</td>\n",
       "      <td>14951.288124</td>\n",
       "      <td>10035.262849</td>\n",
       "      <td>0.887476</td>\n",
       "      <td>21</td>\n",
       "      <td>4</td>\n",
       "      <td>relu</td>\n",
       "      <td>[50, 60, 60]</td>\n",
       "      <td>500</td>\n",
       "      <td>15</td>\n",
       "      <td>val_mean_absolute_error</td>\n",
       "      <td>8</td>\n",
       "      <td>gru_n=4_f=8_50_60_60_relu_3hl</td>\n",
       "      <td>gru_n=4_f=8_50_60_60_relu_3hl</td>\n",
       "    </tr>\n",
       "  </tbody>\n",
       "</table>\n",
       "</div>"
      ],
      "text/plain": [
       "   metrics.r2  metrics.rmse   metrics.mae  metrics.corr params.seed  \\\n",
       "0    0.930965   8416.243215   6048.746216      0.964898          21   \n",
       "0    0.889489  11014.819429   7794.014032      0.943971          21   \n",
       "0    0.876555  11495.880135   8191.763349      0.937518          21   \n",
       "0    0.801501  14959.207748   9674.153342      0.897373          21   \n",
       "0    0.767253  15227.850042   9861.026437      0.876974          21   \n",
       "0    0.774755  15337.270457   9946.951552      0.881662          21   \n",
       "0    0.796315  14620.539253  10026.636950      0.893071          21   \n",
       "0    0.786437  14951.288124  10035.262849      0.887476          21   \n",
       "\n",
       "  params.n_so_retro params.activation params.n_neurons_hl params.max_epochs  \\\n",
       "0                 4              relu        [40, 40, 60]               500   \n",
       "0                 4              relu        [50, 40, 60]               500   \n",
       "0                 4              relu        [60, 60, 60]               500   \n",
       "0                 4              relu                [60]               500   \n",
       "0                 4              relu        [40, 60, 60]               500   \n",
       "0                 4              relu        [60, 60, 40]               500   \n",
       "0                 4              relu            [40, 40]               500   \n",
       "0                 4              relu        [50, 60, 60]               500   \n",
       "\n",
       "  params.patience    params.monitor_metric params.f_so_pred  \\\n",
       "0              15  val_mean_absolute_error                1   \n",
       "0              15  val_mean_absolute_error                2   \n",
       "0              15  val_mean_absolute_error                3   \n",
       "0              15  val_mean_absolute_error                4   \n",
       "0              15  val_mean_absolute_error                5   \n",
       "0              15  val_mean_absolute_error                6   \n",
       "0              15  val_mean_absolute_error                7   \n",
       "0              15  val_mean_absolute_error                8   \n",
       "\n",
       "             tags.mlflow.runName                  tags.run_name  \n",
       "0  gru_n=4_f=1_40_40_60_relu_3hl  gru_n=4_f=1_40_40_60_relu_3hl  \n",
       "0  gru_n=4_f=2_50_40_60_relu_3hl  gru_n=4_f=2_50_40_60_relu_3hl  \n",
       "0  gru_n=4_f=3_60_60_60_relu_3hl  gru_n=4_f=3_60_60_60_relu_3hl  \n",
       "0        gru_n=4_f=4_60_relu_1hl        gru_n=4_f=4_60_relu_1hl  \n",
       "0  gru_n=4_f=5_40_60_60_relu_3hl  gru_n=4_f=5_40_60_60_relu_3hl  \n",
       "0  gru_n=4_f=6_60_60_40_relu_3hl  gru_n=4_f=6_60_60_40_relu_3hl  \n",
       "0     gru_n=4_f=7_40_40_relu_2hl     gru_n=4_f=7_40_40_relu_2hl  \n",
       "0  gru_n=4_f=8_50_60_60_relu_3hl  gru_n=4_f=8_50_60_60_relu_3hl  "
      ]
     },
     "execution_count": 8,
     "metadata": {},
     "output_type": "execute_result"
    }
   ],
   "source": [
    "df_plt_2"
   ]
  },
  {
   "cell_type": "code",
   "execution_count": 9,
   "metadata": {},
   "outputs": [
    {
     "data": {
      "application/vnd.plotly.v1+json": {
       "config": {
        "plotlyServerURL": "https://plot.ly"
       },
       "data": [
        {
         "hovertemplate": "%{y:.3f}",
         "legendgroup": "r2_group",
         "marker": {
          "color": "darkblue"
         },
         "name": "r2",
         "text": [
          "0.935",
          "0.893",
          "0.881",
          "0.876"
         ],
         "type": "bar",
         "x": [
          "f=1 (n=5)",
          "f=2 (n=6)",
          "f=3 (n=8)",
          "f=4 (n=7)"
         ],
         "xaxis": "x",
         "y": [
          0.9354086916684061,
          0.8930189939614549,
          0.8811478575423213,
          0.8756330364271209
         ],
         "yaxis": "y"
        },
        {
         "hovertemplate": "%{y:.3f}",
         "legendgroup": "correlation_group",
         "marker": {
          "color": "purple"
         },
         "name": "Correlação",
         "showlegend": false,
         "text": [
          "0.967",
          "0.946",
          "0.941",
          "0.936"
         ],
         "type": "bar",
         "x": [
          "f=1 (n=5)",
          "f=2 (n=6)",
          "f=3 (n=8)",
          "f=4 (n=7)"
         ],
         "xaxis": "x",
         "y": [
          0.9673274588865804,
          0.9461421776553904,
          0.9406451328509391,
          0.9364648858038293
         ],
         "yaxis": "y"
        },
        {
         "hovertemplate": "%{y:.3f}",
         "legendgroup": "r2_group",
         "marker": {
          "color": "darkblue"
         },
         "name": "r2",
         "showlegend": false,
         "text": [
          "0.850",
          "0.853",
          "0.846",
          "0.844"
         ],
         "type": "bar",
         "x": [
          "f=5 (n=7)",
          "f=6 (n=8)",
          "f=7 (n=7)",
          "f=8 (n=5)"
         ],
         "xaxis": "x2",
         "y": [
          0.8496284320810845,
          0.853306241775462,
          0.8463451545610952,
          0.8435965352534963
         ],
         "yaxis": "y2"
        },
        {
         "hovertemplate": "%{y:.3f}",
         "legendgroup": "correlation_group",
         "marker": {
          "color": "purple"
         },
         "name": "Correlação",
         "text": [
          "0.923",
          "0.924",
          "0.922",
          "0.920"
         ],
         "type": "bar",
         "x": [
          "f=5 (n=7)",
          "f=6 (n=8)",
          "f=7 (n=7)",
          "f=8 (n=5)"
         ],
         "xaxis": "x2",
         "y": [
          0.923203977520622,
          0.9240966449183057,
          0.9215046661184603,
          0.9203562789116118
         ],
         "yaxis": "y2"
        }
       ],
       "layout": {
        "annotations": [
         {
          "showarrow": false,
          "text": "'n' = Número de S.O Retroativas de vazão observada e precipitação na bacia, a serem utilizadas durante o treinamento",
          "x": 0.5,
          "xref": "paper",
          "y": -0.18,
          "yref": "paper"
         },
         {
          "showarrow": false,
          "text": "'f' = Número da S.O Futura onde se prevê a vazão",
          "x": 0.5,
          "xref": "paper",
          "y": -0.25,
          "yref": "paper"
         }
        ],
        "barmode": "group",
        "template": {
         "data": {
          "bar": [
           {
            "error_x": {
             "color": "#2a3f5f"
            },
            "error_y": {
             "color": "#2a3f5f"
            },
            "marker": {
             "line": {
              "color": "#E5ECF6",
              "width": 0.5
             },
             "pattern": {
              "fillmode": "overlay",
              "size": 10,
              "solidity": 0.2
             }
            },
            "type": "bar"
           }
          ],
          "barpolar": [
           {
            "marker": {
             "line": {
              "color": "#E5ECF6",
              "width": 0.5
             },
             "pattern": {
              "fillmode": "overlay",
              "size": 10,
              "solidity": 0.2
             }
            },
            "type": "barpolar"
           }
          ],
          "carpet": [
           {
            "aaxis": {
             "endlinecolor": "#2a3f5f",
             "gridcolor": "white",
             "linecolor": "white",
             "minorgridcolor": "white",
             "startlinecolor": "#2a3f5f"
            },
            "baxis": {
             "endlinecolor": "#2a3f5f",
             "gridcolor": "white",
             "linecolor": "white",
             "minorgridcolor": "white",
             "startlinecolor": "#2a3f5f"
            },
            "type": "carpet"
           }
          ],
          "choropleth": [
           {
            "colorbar": {
             "outlinewidth": 0,
             "ticks": ""
            },
            "type": "choropleth"
           }
          ],
          "contour": [
           {
            "colorbar": {
             "outlinewidth": 0,
             "ticks": ""
            },
            "colorscale": [
             [
              0,
              "#0d0887"
             ],
             [
              0.1111111111111111,
              "#46039f"
             ],
             [
              0.2222222222222222,
              "#7201a8"
             ],
             [
              0.3333333333333333,
              "#9c179e"
             ],
             [
              0.4444444444444444,
              "#bd3786"
             ],
             [
              0.5555555555555556,
              "#d8576b"
             ],
             [
              0.6666666666666666,
              "#ed7953"
             ],
             [
              0.7777777777777778,
              "#fb9f3a"
             ],
             [
              0.8888888888888888,
              "#fdca26"
             ],
             [
              1,
              "#f0f921"
             ]
            ],
            "type": "contour"
           }
          ],
          "contourcarpet": [
           {
            "colorbar": {
             "outlinewidth": 0,
             "ticks": ""
            },
            "type": "contourcarpet"
           }
          ],
          "heatmap": [
           {
            "colorbar": {
             "outlinewidth": 0,
             "ticks": ""
            },
            "colorscale": [
             [
              0,
              "#0d0887"
             ],
             [
              0.1111111111111111,
              "#46039f"
             ],
             [
              0.2222222222222222,
              "#7201a8"
             ],
             [
              0.3333333333333333,
              "#9c179e"
             ],
             [
              0.4444444444444444,
              "#bd3786"
             ],
             [
              0.5555555555555556,
              "#d8576b"
             ],
             [
              0.6666666666666666,
              "#ed7953"
             ],
             [
              0.7777777777777778,
              "#fb9f3a"
             ],
             [
              0.8888888888888888,
              "#fdca26"
             ],
             [
              1,
              "#f0f921"
             ]
            ],
            "type": "heatmap"
           }
          ],
          "heatmapgl": [
           {
            "colorbar": {
             "outlinewidth": 0,
             "ticks": ""
            },
            "colorscale": [
             [
              0,
              "#0d0887"
             ],
             [
              0.1111111111111111,
              "#46039f"
             ],
             [
              0.2222222222222222,
              "#7201a8"
             ],
             [
              0.3333333333333333,
              "#9c179e"
             ],
             [
              0.4444444444444444,
              "#bd3786"
             ],
             [
              0.5555555555555556,
              "#d8576b"
             ],
             [
              0.6666666666666666,
              "#ed7953"
             ],
             [
              0.7777777777777778,
              "#fb9f3a"
             ],
             [
              0.8888888888888888,
              "#fdca26"
             ],
             [
              1,
              "#f0f921"
             ]
            ],
            "type": "heatmapgl"
           }
          ],
          "histogram": [
           {
            "marker": {
             "pattern": {
              "fillmode": "overlay",
              "size": 10,
              "solidity": 0.2
             }
            },
            "type": "histogram"
           }
          ],
          "histogram2d": [
           {
            "colorbar": {
             "outlinewidth": 0,
             "ticks": ""
            },
            "colorscale": [
             [
              0,
              "#0d0887"
             ],
             [
              0.1111111111111111,
              "#46039f"
             ],
             [
              0.2222222222222222,
              "#7201a8"
             ],
             [
              0.3333333333333333,
              "#9c179e"
             ],
             [
              0.4444444444444444,
              "#bd3786"
             ],
             [
              0.5555555555555556,
              "#d8576b"
             ],
             [
              0.6666666666666666,
              "#ed7953"
             ],
             [
              0.7777777777777778,
              "#fb9f3a"
             ],
             [
              0.8888888888888888,
              "#fdca26"
             ],
             [
              1,
              "#f0f921"
             ]
            ],
            "type": "histogram2d"
           }
          ],
          "histogram2dcontour": [
           {
            "colorbar": {
             "outlinewidth": 0,
             "ticks": ""
            },
            "colorscale": [
             [
              0,
              "#0d0887"
             ],
             [
              0.1111111111111111,
              "#46039f"
             ],
             [
              0.2222222222222222,
              "#7201a8"
             ],
             [
              0.3333333333333333,
              "#9c179e"
             ],
             [
              0.4444444444444444,
              "#bd3786"
             ],
             [
              0.5555555555555556,
              "#d8576b"
             ],
             [
              0.6666666666666666,
              "#ed7953"
             ],
             [
              0.7777777777777778,
              "#fb9f3a"
             ],
             [
              0.8888888888888888,
              "#fdca26"
             ],
             [
              1,
              "#f0f921"
             ]
            ],
            "type": "histogram2dcontour"
           }
          ],
          "mesh3d": [
           {
            "colorbar": {
             "outlinewidth": 0,
             "ticks": ""
            },
            "type": "mesh3d"
           }
          ],
          "parcoords": [
           {
            "line": {
             "colorbar": {
              "outlinewidth": 0,
              "ticks": ""
             }
            },
            "type": "parcoords"
           }
          ],
          "pie": [
           {
            "automargin": true,
            "type": "pie"
           }
          ],
          "scatter": [
           {
            "fillpattern": {
             "fillmode": "overlay",
             "size": 10,
             "solidity": 0.2
            },
            "type": "scatter"
           }
          ],
          "scatter3d": [
           {
            "line": {
             "colorbar": {
              "outlinewidth": 0,
              "ticks": ""
             }
            },
            "marker": {
             "colorbar": {
              "outlinewidth": 0,
              "ticks": ""
             }
            },
            "type": "scatter3d"
           }
          ],
          "scattercarpet": [
           {
            "marker": {
             "colorbar": {
              "outlinewidth": 0,
              "ticks": ""
             }
            },
            "type": "scattercarpet"
           }
          ],
          "scattergeo": [
           {
            "marker": {
             "colorbar": {
              "outlinewidth": 0,
              "ticks": ""
             }
            },
            "type": "scattergeo"
           }
          ],
          "scattergl": [
           {
            "marker": {
             "colorbar": {
              "outlinewidth": 0,
              "ticks": ""
             }
            },
            "type": "scattergl"
           }
          ],
          "scattermapbox": [
           {
            "marker": {
             "colorbar": {
              "outlinewidth": 0,
              "ticks": ""
             }
            },
            "type": "scattermapbox"
           }
          ],
          "scatterpolar": [
           {
            "marker": {
             "colorbar": {
              "outlinewidth": 0,
              "ticks": ""
             }
            },
            "type": "scatterpolar"
           }
          ],
          "scatterpolargl": [
           {
            "marker": {
             "colorbar": {
              "outlinewidth": 0,
              "ticks": ""
             }
            },
            "type": "scatterpolargl"
           }
          ],
          "scatterternary": [
           {
            "marker": {
             "colorbar": {
              "outlinewidth": 0,
              "ticks": ""
             }
            },
            "type": "scatterternary"
           }
          ],
          "surface": [
           {
            "colorbar": {
             "outlinewidth": 0,
             "ticks": ""
            },
            "colorscale": [
             [
              0,
              "#0d0887"
             ],
             [
              0.1111111111111111,
              "#46039f"
             ],
             [
              0.2222222222222222,
              "#7201a8"
             ],
             [
              0.3333333333333333,
              "#9c179e"
             ],
             [
              0.4444444444444444,
              "#bd3786"
             ],
             [
              0.5555555555555556,
              "#d8576b"
             ],
             [
              0.6666666666666666,
              "#ed7953"
             ],
             [
              0.7777777777777778,
              "#fb9f3a"
             ],
             [
              0.8888888888888888,
              "#fdca26"
             ],
             [
              1,
              "#f0f921"
             ]
            ],
            "type": "surface"
           }
          ],
          "table": [
           {
            "cells": {
             "fill": {
              "color": "#EBF0F8"
             },
             "line": {
              "color": "white"
             }
            },
            "header": {
             "fill": {
              "color": "#C8D4E3"
             },
             "line": {
              "color": "white"
             }
            },
            "type": "table"
           }
          ]
         },
         "layout": {
          "annotationdefaults": {
           "arrowcolor": "#2a3f5f",
           "arrowhead": 0,
           "arrowwidth": 1
          },
          "autotypenumbers": "strict",
          "coloraxis": {
           "colorbar": {
            "outlinewidth": 0,
            "ticks": ""
           }
          },
          "colorscale": {
           "diverging": [
            [
             0,
             "#8e0152"
            ],
            [
             0.1,
             "#c51b7d"
            ],
            [
             0.2,
             "#de77ae"
            ],
            [
             0.3,
             "#f1b6da"
            ],
            [
             0.4,
             "#fde0ef"
            ],
            [
             0.5,
             "#f7f7f7"
            ],
            [
             0.6,
             "#e6f5d0"
            ],
            [
             0.7,
             "#b8e186"
            ],
            [
             0.8,
             "#7fbc41"
            ],
            [
             0.9,
             "#4d9221"
            ],
            [
             1,
             "#276419"
            ]
           ],
           "sequential": [
            [
             0,
             "#0d0887"
            ],
            [
             0.1111111111111111,
             "#46039f"
            ],
            [
             0.2222222222222222,
             "#7201a8"
            ],
            [
             0.3333333333333333,
             "#9c179e"
            ],
            [
             0.4444444444444444,
             "#bd3786"
            ],
            [
             0.5555555555555556,
             "#d8576b"
            ],
            [
             0.6666666666666666,
             "#ed7953"
            ],
            [
             0.7777777777777778,
             "#fb9f3a"
            ],
            [
             0.8888888888888888,
             "#fdca26"
            ],
            [
             1,
             "#f0f921"
            ]
           ],
           "sequentialminus": [
            [
             0,
             "#0d0887"
            ],
            [
             0.1111111111111111,
             "#46039f"
            ],
            [
             0.2222222222222222,
             "#7201a8"
            ],
            [
             0.3333333333333333,
             "#9c179e"
            ],
            [
             0.4444444444444444,
             "#bd3786"
            ],
            [
             0.5555555555555556,
             "#d8576b"
            ],
            [
             0.6666666666666666,
             "#ed7953"
            ],
            [
             0.7777777777777778,
             "#fb9f3a"
            ],
            [
             0.8888888888888888,
             "#fdca26"
            ],
            [
             1,
             "#f0f921"
            ]
           ]
          },
          "colorway": [
           "#636efa",
           "#EF553B",
           "#00cc96",
           "#ab63fa",
           "#FFA15A",
           "#19d3f3",
           "#FF6692",
           "#B6E880",
           "#FF97FF",
           "#FECB52"
          ],
          "font": {
           "color": "#2a3f5f"
          },
          "geo": {
           "bgcolor": "white",
           "lakecolor": "white",
           "landcolor": "#E5ECF6",
           "showlakes": true,
           "showland": true,
           "subunitcolor": "white"
          },
          "hoverlabel": {
           "align": "left"
          },
          "hovermode": "closest",
          "mapbox": {
           "style": "light"
          },
          "paper_bgcolor": "white",
          "plot_bgcolor": "#E5ECF6",
          "polar": {
           "angularaxis": {
            "gridcolor": "white",
            "linecolor": "white",
            "ticks": ""
           },
           "bgcolor": "#E5ECF6",
           "radialaxis": {
            "gridcolor": "white",
            "linecolor": "white",
            "ticks": ""
           }
          },
          "scene": {
           "xaxis": {
            "backgroundcolor": "#E5ECF6",
            "gridcolor": "white",
            "gridwidth": 2,
            "linecolor": "white",
            "showbackground": true,
            "ticks": "",
            "zerolinecolor": "white"
           },
           "yaxis": {
            "backgroundcolor": "#E5ECF6",
            "gridcolor": "white",
            "gridwidth": 2,
            "linecolor": "white",
            "showbackground": true,
            "ticks": "",
            "zerolinecolor": "white"
           },
           "zaxis": {
            "backgroundcolor": "#E5ECF6",
            "gridcolor": "white",
            "gridwidth": 2,
            "linecolor": "white",
            "showbackground": true,
            "ticks": "",
            "zerolinecolor": "white"
           }
          },
          "shapedefaults": {
           "line": {
            "color": "#2a3f5f"
           }
          },
          "ternary": {
           "aaxis": {
            "gridcolor": "white",
            "linecolor": "white",
            "ticks": ""
           },
           "baxis": {
            "gridcolor": "white",
            "linecolor": "white",
            "ticks": ""
           },
           "bgcolor": "#E5ECF6",
           "caxis": {
            "gridcolor": "white",
            "linecolor": "white",
            "ticks": ""
           }
          },
          "title": {
           "x": 0.05
          },
          "xaxis": {
           "automargin": true,
           "gridcolor": "white",
           "linecolor": "white",
           "ticks": "",
           "title": {
            "standoff": 15
           },
           "zerolinecolor": "white",
           "zerolinewidth": 2
          },
          "yaxis": {
           "automargin": true,
           "gridcolor": "white",
           "linecolor": "white",
           "ticks": "",
           "title": {
            "standoff": 15
           },
           "zerolinecolor": "white",
           "zerolinewidth": 2
          }
         }
        },
        "title": {
         "text": "Métricas das GRU's, para diferentes horizontes de previsões futuras 'f', de maiores r2 e para o melhor 'n' "
        },
        "xaxis": {
         "anchor": "y",
         "domain": [
          0,
          1
         ]
        },
        "xaxis2": {
         "anchor": "y2",
         "domain": [
          0,
          1
         ]
        },
        "yaxis": {
         "anchor": "x",
         "domain": [
          0.575,
          1
         ],
         "range": [
          0.5,
          1
         ]
        },
        "yaxis2": {
         "anchor": "x2",
         "domain": [
          0,
          0.425
         ],
         "range": [
          0.5,
          1
         ]
        }
       }
      }
     },
     "metadata": {},
     "output_type": "display_data"
    }
   ],
   "source": [
    "from plotly.subplots import make_subplots\n",
    "import plotly.graph_objects as go\n",
    "\n",
    "# Custom labels for each subplot\n",
    "custom_labels_r2_2 = ['f=5 (n=7)', 'f=6 (n=8)', 'f=7 (n=7)', 'f=8 (n=5)']\n",
    "custom_labels_r2_1 = ['f=1 (n=5)', 'f=2 (n=6)', 'f=3 (n=8)', 'f=4 (n=7)']\n",
    "\n",
    "# custom_labels_r2_2 = ['f=5 & n=3', 'f=6 & n=2', 'f=7 & n=1', 'f=8 & n=7']\n",
    "# custom_labels_r2_1 = ['f=1 & n=7', 'f=2 & n=1', 'f=3 & n=5', 'f=4 & n=2']\n",
    "\n",
    "# Define colors for bars\n",
    "r2_color = 'darkblue'\n",
    "corr_color = 'purple'\n",
    "\n",
    "# Create subplots\n",
    "fig = make_subplots(rows=2, cols=1) # subplot_titles=(\"Custom Labels for n=5 to n=8\", \"Custom Labels for n=1 to n=4\")\n",
    "\n",
    "# Add traces to subplot 1\n",
    "fig.add_trace(go.Bar(\n",
    "    x=custom_labels_r2_1,\n",
    "    y=df_plt_1['metrics.r2'][:4],\n",
    "    text=df_plt_1['metrics.r2'][:4].apply(lambda x: f'{x:.3f}'),  \n",
    "    hovertemplate='%{y:.3f}',\n",
    "    name='r2',\n",
    "    legendgroup='r2_group',\n",
    "    marker=dict(color=r2_color)\n",
    "), row=1, col=1)\n",
    "\n",
    "fig.add_trace(go.Bar(\n",
    "    x=custom_labels_r2_1,\n",
    "    y=df_plt_1['metrics.corr'][:4],\n",
    "    text=df_plt_1['metrics.corr'][:4].apply(lambda x: f'{x:.3f}'),  \n",
    "    hovertemplate='%{y:.3f}',\n",
    "    name='Correlação',\n",
    "    legendgroup='correlation_group',\n",
    "    showlegend=False,\n",
    "    marker=dict(color=corr_color)\n",
    "), row=1, col=1)\n",
    "\n",
    "# Add traces to subplot 2\n",
    "fig.add_trace(go.Bar(\n",
    "    x=custom_labels_r2_2,\n",
    "    y=df_plt_1['metrics.r2'][4:],\n",
    "    text=df_plt_1['metrics.r2'][4:].apply(lambda x: f'{x:.3f}'),  \n",
    "    hovertemplate='%{y:.3f}',\n",
    "    name='r2',\n",
    "    legendgroup='r2_group',\n",
    "    showlegend=False,\n",
    "    marker=dict(color=r2_color)\n",
    "), row=2, col=1)\n",
    "\n",
    "fig.add_trace(go.Bar(\n",
    "    x=custom_labels_r2_2,\n",
    "    y=df_plt_1['metrics.corr'][4:],\n",
    "    text=df_plt_1['metrics.corr'][4:].apply(lambda x: f'{x:.3f}'),  \n",
    "    hovertemplate='%{y:.3f}',\n",
    "    name='Correlação',\n",
    "    legendgroup='correlation_group',\n",
    "    marker=dict(color=corr_color)\n",
    "), row=2, col=1)\n",
    "\n",
    "# Update layout\n",
    "fig.update_layout(\n",
    "    title=f\"Métricas {name_plots}, para diferentes horizontes de previsões futuras 'f', de maiores r2 e para o melhor 'n' \",\n",
    "    #xaxis=dict(title='Número de S.O Retroativas \"n\" a serem utilizadas durante o treinamento'),\n",
    "    barmode='group',\n",
    ")\n",
    "\n",
    "# Set the same y-axis range for both subplots\n",
    "fig.update_yaxes(range=[0.5, 1.0], row=1, col=1)\n",
    "fig.update_yaxes(range=[0.5, 1.0], row=2, col=1)\n",
    "\n",
    "# Add annotations\n",
    "fig.add_annotation(text=\"'n' = Número de S.O Retroativas de vazão observada e precipitação na bacia, a serem utilizadas durante o treinamento\",\n",
    "                   xref=\"paper\", yref=\"paper\",\n",
    "                   x=0.5, y=-0.18, showarrow=False)\n",
    "\n",
    "# Add annotations\n",
    "fig.add_annotation(text=\"'f' = Número da S.O Futura onde se prevê a vazão\",\n",
    "                   xref=\"paper\", yref=\"paper\",\n",
    "                   x=0.5, y=-0.25, showarrow=False)\n",
    "\n",
    "# Show the plot\n",
    "fig.show()\n"
   ]
  },
  {
   "cell_type": "code",
   "execution_count": 10,
   "metadata": {},
   "outputs": [
    {
     "data": {
      "application/vnd.plotly.v1+json": {
       "config": {
        "plotlyServerURL": "https://plot.ly"
       },
       "data": [
        {
         "hovertemplate": "%{y:.3f}",
         "legendgroup": "r2_group",
         "marker": {
          "color": "darkblue"
         },
         "name": "r2",
         "text": [
          "0.931",
          "0.889",
          "0.877",
          "0.802"
         ],
         "type": "bar",
         "x": [
          "f=1",
          "f=2",
          "f=3",
          "f=4"
         ],
         "xaxis": "x",
         "y": [
          0.9309652333624144,
          0.8894888689951471,
          0.8765545332264645,
          0.8015014482773835
         ],
         "yaxis": "y"
        },
        {
         "hovertemplate": "%{y:.3f}",
         "legendgroup": "corr_group",
         "marker": {
          "color": "purple"
         },
         "name": "Correlação",
         "showlegend": false,
         "text": [
          "0.965",
          "0.944",
          "0.938",
          "0.897"
         ],
         "type": "bar",
         "x": [
          "f=1",
          "f=2",
          "f=3",
          "f=4"
         ],
         "xaxis": "x",
         "y": [
          0.9648983859235757,
          0.9439706781727991,
          0.9375182173242284,
          0.897373151421507
         ],
         "yaxis": "y"
        },
        {
         "hovertemplate": "%{y:.3f}",
         "legendgroup": "r2_group",
         "marker": {
          "color": "darkblue"
         },
         "name": "r2",
         "showlegend": false,
         "text": [
          "0.767",
          "0.775",
          "0.796",
          "0.786"
         ],
         "type": "bar",
         "x": [
          "f=5",
          "f=6",
          "f=7",
          "f=8"
         ],
         "xaxis": "x2",
         "y": [
          0.767253197959555,
          0.7747552797031385,
          0.7963153987528523,
          0.7864368538184383
         ],
         "yaxis": "y2"
        },
        {
         "hovertemplate": "%{y:.3f}",
         "legendgroup": "corr_group",
         "marker": {
          "color": "purple"
         },
         "name": "Correlação",
         "text": [
          "0.877",
          "0.882",
          "0.893",
          "0.887"
         ],
         "type": "bar",
         "x": [
          "f=5",
          "f=6",
          "f=7",
          "f=8"
         ],
         "xaxis": "x2",
         "y": [
          0.8769740521434132,
          0.8816618771991157,
          0.893070586858803,
          0.8874763955540905
         ],
         "yaxis": "y2"
        }
       ],
       "layout": {
        "annotations": [
         {
          "showarrow": false,
          "text": "'n' = Número de S.O Retroativas de vazão observada e precipitação na bacia, a serem utilizadas durante o treinamento",
          "x": 0.5,
          "xref": "paper",
          "y": -0.18,
          "yref": "paper"
         },
         {
          "showarrow": false,
          "text": "'f' = Número da S.O Futura onde se prevê a vazão",
          "x": 0.5,
          "xref": "paper",
          "y": -0.25,
          "yref": "paper"
         }
        ],
        "barmode": "group",
        "template": {
         "data": {
          "bar": [
           {
            "error_x": {
             "color": "#2a3f5f"
            },
            "error_y": {
             "color": "#2a3f5f"
            },
            "marker": {
             "line": {
              "color": "#E5ECF6",
              "width": 0.5
             },
             "pattern": {
              "fillmode": "overlay",
              "size": 10,
              "solidity": 0.2
             }
            },
            "type": "bar"
           }
          ],
          "barpolar": [
           {
            "marker": {
             "line": {
              "color": "#E5ECF6",
              "width": 0.5
             },
             "pattern": {
              "fillmode": "overlay",
              "size": 10,
              "solidity": 0.2
             }
            },
            "type": "barpolar"
           }
          ],
          "carpet": [
           {
            "aaxis": {
             "endlinecolor": "#2a3f5f",
             "gridcolor": "white",
             "linecolor": "white",
             "minorgridcolor": "white",
             "startlinecolor": "#2a3f5f"
            },
            "baxis": {
             "endlinecolor": "#2a3f5f",
             "gridcolor": "white",
             "linecolor": "white",
             "minorgridcolor": "white",
             "startlinecolor": "#2a3f5f"
            },
            "type": "carpet"
           }
          ],
          "choropleth": [
           {
            "colorbar": {
             "outlinewidth": 0,
             "ticks": ""
            },
            "type": "choropleth"
           }
          ],
          "contour": [
           {
            "colorbar": {
             "outlinewidth": 0,
             "ticks": ""
            },
            "colorscale": [
             [
              0,
              "#0d0887"
             ],
             [
              0.1111111111111111,
              "#46039f"
             ],
             [
              0.2222222222222222,
              "#7201a8"
             ],
             [
              0.3333333333333333,
              "#9c179e"
             ],
             [
              0.4444444444444444,
              "#bd3786"
             ],
             [
              0.5555555555555556,
              "#d8576b"
             ],
             [
              0.6666666666666666,
              "#ed7953"
             ],
             [
              0.7777777777777778,
              "#fb9f3a"
             ],
             [
              0.8888888888888888,
              "#fdca26"
             ],
             [
              1,
              "#f0f921"
             ]
            ],
            "type": "contour"
           }
          ],
          "contourcarpet": [
           {
            "colorbar": {
             "outlinewidth": 0,
             "ticks": ""
            },
            "type": "contourcarpet"
           }
          ],
          "heatmap": [
           {
            "colorbar": {
             "outlinewidth": 0,
             "ticks": ""
            },
            "colorscale": [
             [
              0,
              "#0d0887"
             ],
             [
              0.1111111111111111,
              "#46039f"
             ],
             [
              0.2222222222222222,
              "#7201a8"
             ],
             [
              0.3333333333333333,
              "#9c179e"
             ],
             [
              0.4444444444444444,
              "#bd3786"
             ],
             [
              0.5555555555555556,
              "#d8576b"
             ],
             [
              0.6666666666666666,
              "#ed7953"
             ],
             [
              0.7777777777777778,
              "#fb9f3a"
             ],
             [
              0.8888888888888888,
              "#fdca26"
             ],
             [
              1,
              "#f0f921"
             ]
            ],
            "type": "heatmap"
           }
          ],
          "heatmapgl": [
           {
            "colorbar": {
             "outlinewidth": 0,
             "ticks": ""
            },
            "colorscale": [
             [
              0,
              "#0d0887"
             ],
             [
              0.1111111111111111,
              "#46039f"
             ],
             [
              0.2222222222222222,
              "#7201a8"
             ],
             [
              0.3333333333333333,
              "#9c179e"
             ],
             [
              0.4444444444444444,
              "#bd3786"
             ],
             [
              0.5555555555555556,
              "#d8576b"
             ],
             [
              0.6666666666666666,
              "#ed7953"
             ],
             [
              0.7777777777777778,
              "#fb9f3a"
             ],
             [
              0.8888888888888888,
              "#fdca26"
             ],
             [
              1,
              "#f0f921"
             ]
            ],
            "type": "heatmapgl"
           }
          ],
          "histogram": [
           {
            "marker": {
             "pattern": {
              "fillmode": "overlay",
              "size": 10,
              "solidity": 0.2
             }
            },
            "type": "histogram"
           }
          ],
          "histogram2d": [
           {
            "colorbar": {
             "outlinewidth": 0,
             "ticks": ""
            },
            "colorscale": [
             [
              0,
              "#0d0887"
             ],
             [
              0.1111111111111111,
              "#46039f"
             ],
             [
              0.2222222222222222,
              "#7201a8"
             ],
             [
              0.3333333333333333,
              "#9c179e"
             ],
             [
              0.4444444444444444,
              "#bd3786"
             ],
             [
              0.5555555555555556,
              "#d8576b"
             ],
             [
              0.6666666666666666,
              "#ed7953"
             ],
             [
              0.7777777777777778,
              "#fb9f3a"
             ],
             [
              0.8888888888888888,
              "#fdca26"
             ],
             [
              1,
              "#f0f921"
             ]
            ],
            "type": "histogram2d"
           }
          ],
          "histogram2dcontour": [
           {
            "colorbar": {
             "outlinewidth": 0,
             "ticks": ""
            },
            "colorscale": [
             [
              0,
              "#0d0887"
             ],
             [
              0.1111111111111111,
              "#46039f"
             ],
             [
              0.2222222222222222,
              "#7201a8"
             ],
             [
              0.3333333333333333,
              "#9c179e"
             ],
             [
              0.4444444444444444,
              "#bd3786"
             ],
             [
              0.5555555555555556,
              "#d8576b"
             ],
             [
              0.6666666666666666,
              "#ed7953"
             ],
             [
              0.7777777777777778,
              "#fb9f3a"
             ],
             [
              0.8888888888888888,
              "#fdca26"
             ],
             [
              1,
              "#f0f921"
             ]
            ],
            "type": "histogram2dcontour"
           }
          ],
          "mesh3d": [
           {
            "colorbar": {
             "outlinewidth": 0,
             "ticks": ""
            },
            "type": "mesh3d"
           }
          ],
          "parcoords": [
           {
            "line": {
             "colorbar": {
              "outlinewidth": 0,
              "ticks": ""
             }
            },
            "type": "parcoords"
           }
          ],
          "pie": [
           {
            "automargin": true,
            "type": "pie"
           }
          ],
          "scatter": [
           {
            "fillpattern": {
             "fillmode": "overlay",
             "size": 10,
             "solidity": 0.2
            },
            "type": "scatter"
           }
          ],
          "scatter3d": [
           {
            "line": {
             "colorbar": {
              "outlinewidth": 0,
              "ticks": ""
             }
            },
            "marker": {
             "colorbar": {
              "outlinewidth": 0,
              "ticks": ""
             }
            },
            "type": "scatter3d"
           }
          ],
          "scattercarpet": [
           {
            "marker": {
             "colorbar": {
              "outlinewidth": 0,
              "ticks": ""
             }
            },
            "type": "scattercarpet"
           }
          ],
          "scattergeo": [
           {
            "marker": {
             "colorbar": {
              "outlinewidth": 0,
              "ticks": ""
             }
            },
            "type": "scattergeo"
           }
          ],
          "scattergl": [
           {
            "marker": {
             "colorbar": {
              "outlinewidth": 0,
              "ticks": ""
             }
            },
            "type": "scattergl"
           }
          ],
          "scattermapbox": [
           {
            "marker": {
             "colorbar": {
              "outlinewidth": 0,
              "ticks": ""
             }
            },
            "type": "scattermapbox"
           }
          ],
          "scatterpolar": [
           {
            "marker": {
             "colorbar": {
              "outlinewidth": 0,
              "ticks": ""
             }
            },
            "type": "scatterpolar"
           }
          ],
          "scatterpolargl": [
           {
            "marker": {
             "colorbar": {
              "outlinewidth": 0,
              "ticks": ""
             }
            },
            "type": "scatterpolargl"
           }
          ],
          "scatterternary": [
           {
            "marker": {
             "colorbar": {
              "outlinewidth": 0,
              "ticks": ""
             }
            },
            "type": "scatterternary"
           }
          ],
          "surface": [
           {
            "colorbar": {
             "outlinewidth": 0,
             "ticks": ""
            },
            "colorscale": [
             [
              0,
              "#0d0887"
             ],
             [
              0.1111111111111111,
              "#46039f"
             ],
             [
              0.2222222222222222,
              "#7201a8"
             ],
             [
              0.3333333333333333,
              "#9c179e"
             ],
             [
              0.4444444444444444,
              "#bd3786"
             ],
             [
              0.5555555555555556,
              "#d8576b"
             ],
             [
              0.6666666666666666,
              "#ed7953"
             ],
             [
              0.7777777777777778,
              "#fb9f3a"
             ],
             [
              0.8888888888888888,
              "#fdca26"
             ],
             [
              1,
              "#f0f921"
             ]
            ],
            "type": "surface"
           }
          ],
          "table": [
           {
            "cells": {
             "fill": {
              "color": "#EBF0F8"
             },
             "line": {
              "color": "white"
             }
            },
            "header": {
             "fill": {
              "color": "#C8D4E3"
             },
             "line": {
              "color": "white"
             }
            },
            "type": "table"
           }
          ]
         },
         "layout": {
          "annotationdefaults": {
           "arrowcolor": "#2a3f5f",
           "arrowhead": 0,
           "arrowwidth": 1
          },
          "autotypenumbers": "strict",
          "coloraxis": {
           "colorbar": {
            "outlinewidth": 0,
            "ticks": ""
           }
          },
          "colorscale": {
           "diverging": [
            [
             0,
             "#8e0152"
            ],
            [
             0.1,
             "#c51b7d"
            ],
            [
             0.2,
             "#de77ae"
            ],
            [
             0.3,
             "#f1b6da"
            ],
            [
             0.4,
             "#fde0ef"
            ],
            [
             0.5,
             "#f7f7f7"
            ],
            [
             0.6,
             "#e6f5d0"
            ],
            [
             0.7,
             "#b8e186"
            ],
            [
             0.8,
             "#7fbc41"
            ],
            [
             0.9,
             "#4d9221"
            ],
            [
             1,
             "#276419"
            ]
           ],
           "sequential": [
            [
             0,
             "#0d0887"
            ],
            [
             0.1111111111111111,
             "#46039f"
            ],
            [
             0.2222222222222222,
             "#7201a8"
            ],
            [
             0.3333333333333333,
             "#9c179e"
            ],
            [
             0.4444444444444444,
             "#bd3786"
            ],
            [
             0.5555555555555556,
             "#d8576b"
            ],
            [
             0.6666666666666666,
             "#ed7953"
            ],
            [
             0.7777777777777778,
             "#fb9f3a"
            ],
            [
             0.8888888888888888,
             "#fdca26"
            ],
            [
             1,
             "#f0f921"
            ]
           ],
           "sequentialminus": [
            [
             0,
             "#0d0887"
            ],
            [
             0.1111111111111111,
             "#46039f"
            ],
            [
             0.2222222222222222,
             "#7201a8"
            ],
            [
             0.3333333333333333,
             "#9c179e"
            ],
            [
             0.4444444444444444,
             "#bd3786"
            ],
            [
             0.5555555555555556,
             "#d8576b"
            ],
            [
             0.6666666666666666,
             "#ed7953"
            ],
            [
             0.7777777777777778,
             "#fb9f3a"
            ],
            [
             0.8888888888888888,
             "#fdca26"
            ],
            [
             1,
             "#f0f921"
            ]
           ]
          },
          "colorway": [
           "#636efa",
           "#EF553B",
           "#00cc96",
           "#ab63fa",
           "#FFA15A",
           "#19d3f3",
           "#FF6692",
           "#B6E880",
           "#FF97FF",
           "#FECB52"
          ],
          "font": {
           "color": "#2a3f5f"
          },
          "geo": {
           "bgcolor": "white",
           "lakecolor": "white",
           "landcolor": "#E5ECF6",
           "showlakes": true,
           "showland": true,
           "subunitcolor": "white"
          },
          "hoverlabel": {
           "align": "left"
          },
          "hovermode": "closest",
          "mapbox": {
           "style": "light"
          },
          "paper_bgcolor": "white",
          "plot_bgcolor": "#E5ECF6",
          "polar": {
           "angularaxis": {
            "gridcolor": "white",
            "linecolor": "white",
            "ticks": ""
           },
           "bgcolor": "#E5ECF6",
           "radialaxis": {
            "gridcolor": "white",
            "linecolor": "white",
            "ticks": ""
           }
          },
          "scene": {
           "xaxis": {
            "backgroundcolor": "#E5ECF6",
            "gridcolor": "white",
            "gridwidth": 2,
            "linecolor": "white",
            "showbackground": true,
            "ticks": "",
            "zerolinecolor": "white"
           },
           "yaxis": {
            "backgroundcolor": "#E5ECF6",
            "gridcolor": "white",
            "gridwidth": 2,
            "linecolor": "white",
            "showbackground": true,
            "ticks": "",
            "zerolinecolor": "white"
           },
           "zaxis": {
            "backgroundcolor": "#E5ECF6",
            "gridcolor": "white",
            "gridwidth": 2,
            "linecolor": "white",
            "showbackground": true,
            "ticks": "",
            "zerolinecolor": "white"
           }
          },
          "shapedefaults": {
           "line": {
            "color": "#2a3f5f"
           }
          },
          "ternary": {
           "aaxis": {
            "gridcolor": "white",
            "linecolor": "white",
            "ticks": ""
           },
           "baxis": {
            "gridcolor": "white",
            "linecolor": "white",
            "ticks": ""
           },
           "bgcolor": "#E5ECF6",
           "caxis": {
            "gridcolor": "white",
            "linecolor": "white",
            "ticks": ""
           }
          },
          "title": {
           "x": 0.05
          },
          "xaxis": {
           "automargin": true,
           "gridcolor": "white",
           "linecolor": "white",
           "ticks": "",
           "title": {
            "standoff": 15
           },
           "zerolinecolor": "white",
           "zerolinewidth": 2
          },
          "yaxis": {
           "automargin": true,
           "gridcolor": "white",
           "linecolor": "white",
           "ticks": "",
           "title": {
            "standoff": 15
           },
           "zerolinecolor": "white",
           "zerolinewidth": 2
          }
         }
        },
        "title": {
         "text": "Métricas das GRU's, para diferentes horizontes de previsões futuras 'f', de maiores r2 e para 'n'=4 (fixo) "
        },
        "xaxis": {
         "anchor": "y",
         "domain": [
          0,
          1
         ]
        },
        "xaxis2": {
         "anchor": "y2",
         "domain": [
          0,
          1
         ]
        },
        "yaxis": {
         "anchor": "x",
         "domain": [
          0.575,
          1
         ],
         "range": [
          0.5,
          1
         ]
        },
        "yaxis2": {
         "anchor": "x2",
         "domain": [
          0,
          0.425
         ],
         "range": [
          0.5,
          1
         ]
        }
       }
      }
     },
     "metadata": {},
     "output_type": "display_data"
    }
   ],
   "source": [
    "from plotly.subplots import make_subplots\n",
    "import plotly.graph_objects as go\n",
    "\n",
    "# Custom labels for each subplot\n",
    "custom_labels_r2_2 = ['f=5', 'f=6', 'f=7', 'f=8']\n",
    "custom_labels_r2_1 = ['f=1', 'f=2', 'f=3', 'f=4']\n",
    "\n",
    "# custom_labels_r2_2 = ['f=5 & n=3', 'f=6 & n=2', 'f=7 & n=1', 'f=8 & n=7']\n",
    "# custom_labels_r2_1 = ['f=1 & n=7', 'f=2 & n=1', 'f=3 & n=5', 'f=4 & n=2']\n",
    "\n",
    "\n",
    "# Define colors for bars\n",
    "r2_color = 'darkblue'\n",
    "corr_color = 'purple'\n",
    "\n",
    "# Create subplots\n",
    "fig = make_subplots(rows=2, cols=1) # subplot_titles=(\"Custom Labels for n=5 to n=8\", \"Custom Labels for n=1 to n=4\")\n",
    "\n",
    "# Add traces to subplot 1\n",
    "fig.add_trace(go.Bar(\n",
    "    x=custom_labels_r2_1,\n",
    "    y=df_plt_2['metrics.r2'][:4],\n",
    "    text=df_plt_2['metrics.r2'][:4].apply(lambda x: f'{x:.3f}'),  \n",
    "    hovertemplate='%{y:.3f}',\n",
    "    name='r2',\n",
    "    legendgroup='r2_group',\n",
    "    marker=dict(color=r2_color)\n",
    "), row=1, col=1)\n",
    "\n",
    "fig.add_trace(go.Bar(\n",
    "    x=custom_labels_r2_1,\n",
    "    y=df_plt_2['metrics.corr'][:4],\n",
    "    text=df_plt_2['metrics.corr'][:4].apply(lambda x: f'{x:.3f}'),  \n",
    "    hovertemplate='%{y:.3f}',\n",
    "    name='Correlação',\n",
    "    legendgroup='corr_group',\n",
    "    showlegend=False,\n",
    "    marker=dict(color=corr_color)\n",
    "), row=1, col=1)\n",
    "\n",
    "# Add traces to subplot 2\n",
    "fig.add_trace(go.Bar(\n",
    "    x=custom_labels_r2_2,\n",
    "    y=df_plt_2['metrics.r2'][4:],\n",
    "    text=df_plt_2['metrics.r2'][4:].apply(lambda x: f'{x:.3f}'),  \n",
    "    hovertemplate='%{y:.3f}',\n",
    "    name='r2',\n",
    "    legendgroup='r2_group',\n",
    "    showlegend=False,\n",
    "    marker=dict(color=r2_color)\n",
    "), row=2, col=1)\n",
    "\n",
    "fig.add_trace(go.Bar(\n",
    "    x=custom_labels_r2_2,\n",
    "    y=df_plt_2['metrics.corr'][4:],\n",
    "    text=df_plt_2['metrics.corr'][4:].apply(lambda x: f'{x:.3f}'),  \n",
    "    hovertemplate='%{y:.3f}',\n",
    "    name='Correlação',\n",
    "    legendgroup='corr_group',\n",
    "    marker=dict(color=corr_color)\n",
    "), row=2, col=1)\n",
    "\n",
    "# Update layout\n",
    "fig.update_layout(\n",
    "    title=f\"Métricas {name_plots}, para diferentes horizontes de previsões futuras 'f', de maiores r2 e para 'n'=4 (fixo) \",\n",
    "    #xaxis=dict(title='Número de S.O Retroativas \"n\" a serem utilizadas durante o treinamento'),\n",
    "    barmode='group',\n",
    ")\n",
    "\n",
    "# Set the same y-axis range for both subplots\n",
    "fig.update_yaxes(range=[0.5, 1.0], row=1, col=1)\n",
    "fig.update_yaxes(range=[0.5, 1.0], row=2, col=1)\n",
    "\n",
    "# Add annotations\n",
    "fig.add_annotation(text=\"'n' = Número de S.O Retroativas de vazão observada e precipitação na bacia, a serem utilizadas durante o treinamento\",\n",
    "                   xref=\"paper\", yref=\"paper\",\n",
    "                   x=0.5, y=-0.18, showarrow=False)\n",
    "\n",
    "# Add annotations\n",
    "fig.add_annotation(text=\"'f' = Número da S.O Futura onde se prevê a vazão\",\n",
    "                   xref=\"paper\", yref=\"paper\",\n",
    "                   x=0.5, y=-0.25, showarrow=False)\n",
    "\n",
    "# Show the plot\n",
    "fig.show()\n"
   ]
  },
  {
   "cell_type": "code",
   "execution_count": 11,
   "metadata": {},
   "outputs": [
    {
     "data": {
      "application/vnd.plotly.v1+json": {
       "config": {
        "plotlyServerURL": "https://plot.ly"
       },
       "data": [
        {
         "hovertemplate": "%{y:.3f}",
         "legendgroup": "mae_group",
         "marker": {
          "color": "maroon"
         },
         "name": "MAE",
         "text": [
          "6048.746",
          "7794.014",
          "8191.763",
          "9674.153"
         ],
         "type": "bar",
         "x": [
          "f=1",
          "f=2",
          "f=3",
          "f=4"
         ],
         "xaxis": "x",
         "y": [
          6048.746215983852,
          7794.014032451924,
          8191.763349233775,
          9674.153342097357
         ],
         "yaxis": "y"
        },
        {
         "hovertemplate": "%{y:.3f}",
         "legendgroup": "rmse_group",
         "marker": {
          "color": "orange"
         },
         "name": "RMSE",
         "showlegend": false,
         "text": [
          "8416.243",
          "11014.819",
          "11495.880",
          "14959.208"
         ],
         "type": "bar",
         "x": [
          "f=1",
          "f=2",
          "f=3",
          "f=4"
         ],
         "xaxis": "x",
         "y": [
          8416.24321473233,
          11014.819428982926,
          11495.880134742127,
          14959.207747558656
         ],
         "yaxis": "y"
        },
        {
         "hovertemplate": "%{y:.3f}",
         "legendgroup": "mae_group",
         "marker": {
          "color": "maroon"
         },
         "name": "MAE",
         "showlegend": false,
         "text": [
          "9861.026",
          "9946.952",
          "10026.637",
          "10035.263"
         ],
         "type": "bar",
         "x": [
          "f=5",
          "f=6",
          "f=7",
          "f=8"
         ],
         "xaxis": "x2",
         "y": [
          9861.026437198067,
          9946.951551932367,
          10026.636950091019,
          10035.262848907767
         ],
         "yaxis": "y2"
        },
        {
         "hovertemplate": "%{y:.3f}",
         "legendgroup": "rmse_group",
         "marker": {
          "color": "orange"
         },
         "name": "RMSE",
         "text": [
          "15227.850",
          "15337.270",
          "14620.539",
          "14951.288"
         ],
         "type": "bar",
         "x": [
          "f=5",
          "f=6",
          "f=7",
          "f=8"
         ],
         "xaxis": "x2",
         "y": [
          15227.850041885877,
          15337.270457171726,
          14620.539252766732,
          14951.288124266062
         ],
         "yaxis": "y2"
        }
       ],
       "layout": {
        "annotations": [
         {
          "showarrow": false,
          "text": "'n' = Número de S.O Retroativas de vazão observada e precipitação na bacia, a serem utilizadas durante o treinamento",
          "x": 0.5,
          "xref": "paper",
          "y": -0.18,
          "yref": "paper"
         },
         {
          "showarrow": false,
          "text": "'f' = Número da S.O Futura onde se prevê a vazão",
          "x": 0.5,
          "xref": "paper",
          "y": -0.25,
          "yref": "paper"
         }
        ],
        "barmode": "group",
        "template": {
         "data": {
          "bar": [
           {
            "error_x": {
             "color": "#2a3f5f"
            },
            "error_y": {
             "color": "#2a3f5f"
            },
            "marker": {
             "line": {
              "color": "#E5ECF6",
              "width": 0.5
             },
             "pattern": {
              "fillmode": "overlay",
              "size": 10,
              "solidity": 0.2
             }
            },
            "type": "bar"
           }
          ],
          "barpolar": [
           {
            "marker": {
             "line": {
              "color": "#E5ECF6",
              "width": 0.5
             },
             "pattern": {
              "fillmode": "overlay",
              "size": 10,
              "solidity": 0.2
             }
            },
            "type": "barpolar"
           }
          ],
          "carpet": [
           {
            "aaxis": {
             "endlinecolor": "#2a3f5f",
             "gridcolor": "white",
             "linecolor": "white",
             "minorgridcolor": "white",
             "startlinecolor": "#2a3f5f"
            },
            "baxis": {
             "endlinecolor": "#2a3f5f",
             "gridcolor": "white",
             "linecolor": "white",
             "minorgridcolor": "white",
             "startlinecolor": "#2a3f5f"
            },
            "type": "carpet"
           }
          ],
          "choropleth": [
           {
            "colorbar": {
             "outlinewidth": 0,
             "ticks": ""
            },
            "type": "choropleth"
           }
          ],
          "contour": [
           {
            "colorbar": {
             "outlinewidth": 0,
             "ticks": ""
            },
            "colorscale": [
             [
              0,
              "#0d0887"
             ],
             [
              0.1111111111111111,
              "#46039f"
             ],
             [
              0.2222222222222222,
              "#7201a8"
             ],
             [
              0.3333333333333333,
              "#9c179e"
             ],
             [
              0.4444444444444444,
              "#bd3786"
             ],
             [
              0.5555555555555556,
              "#d8576b"
             ],
             [
              0.6666666666666666,
              "#ed7953"
             ],
             [
              0.7777777777777778,
              "#fb9f3a"
             ],
             [
              0.8888888888888888,
              "#fdca26"
             ],
             [
              1,
              "#f0f921"
             ]
            ],
            "type": "contour"
           }
          ],
          "contourcarpet": [
           {
            "colorbar": {
             "outlinewidth": 0,
             "ticks": ""
            },
            "type": "contourcarpet"
           }
          ],
          "heatmap": [
           {
            "colorbar": {
             "outlinewidth": 0,
             "ticks": ""
            },
            "colorscale": [
             [
              0,
              "#0d0887"
             ],
             [
              0.1111111111111111,
              "#46039f"
             ],
             [
              0.2222222222222222,
              "#7201a8"
             ],
             [
              0.3333333333333333,
              "#9c179e"
             ],
             [
              0.4444444444444444,
              "#bd3786"
             ],
             [
              0.5555555555555556,
              "#d8576b"
             ],
             [
              0.6666666666666666,
              "#ed7953"
             ],
             [
              0.7777777777777778,
              "#fb9f3a"
             ],
             [
              0.8888888888888888,
              "#fdca26"
             ],
             [
              1,
              "#f0f921"
             ]
            ],
            "type": "heatmap"
           }
          ],
          "heatmapgl": [
           {
            "colorbar": {
             "outlinewidth": 0,
             "ticks": ""
            },
            "colorscale": [
             [
              0,
              "#0d0887"
             ],
             [
              0.1111111111111111,
              "#46039f"
             ],
             [
              0.2222222222222222,
              "#7201a8"
             ],
             [
              0.3333333333333333,
              "#9c179e"
             ],
             [
              0.4444444444444444,
              "#bd3786"
             ],
             [
              0.5555555555555556,
              "#d8576b"
             ],
             [
              0.6666666666666666,
              "#ed7953"
             ],
             [
              0.7777777777777778,
              "#fb9f3a"
             ],
             [
              0.8888888888888888,
              "#fdca26"
             ],
             [
              1,
              "#f0f921"
             ]
            ],
            "type": "heatmapgl"
           }
          ],
          "histogram": [
           {
            "marker": {
             "pattern": {
              "fillmode": "overlay",
              "size": 10,
              "solidity": 0.2
             }
            },
            "type": "histogram"
           }
          ],
          "histogram2d": [
           {
            "colorbar": {
             "outlinewidth": 0,
             "ticks": ""
            },
            "colorscale": [
             [
              0,
              "#0d0887"
             ],
             [
              0.1111111111111111,
              "#46039f"
             ],
             [
              0.2222222222222222,
              "#7201a8"
             ],
             [
              0.3333333333333333,
              "#9c179e"
             ],
             [
              0.4444444444444444,
              "#bd3786"
             ],
             [
              0.5555555555555556,
              "#d8576b"
             ],
             [
              0.6666666666666666,
              "#ed7953"
             ],
             [
              0.7777777777777778,
              "#fb9f3a"
             ],
             [
              0.8888888888888888,
              "#fdca26"
             ],
             [
              1,
              "#f0f921"
             ]
            ],
            "type": "histogram2d"
           }
          ],
          "histogram2dcontour": [
           {
            "colorbar": {
             "outlinewidth": 0,
             "ticks": ""
            },
            "colorscale": [
             [
              0,
              "#0d0887"
             ],
             [
              0.1111111111111111,
              "#46039f"
             ],
             [
              0.2222222222222222,
              "#7201a8"
             ],
             [
              0.3333333333333333,
              "#9c179e"
             ],
             [
              0.4444444444444444,
              "#bd3786"
             ],
             [
              0.5555555555555556,
              "#d8576b"
             ],
             [
              0.6666666666666666,
              "#ed7953"
             ],
             [
              0.7777777777777778,
              "#fb9f3a"
             ],
             [
              0.8888888888888888,
              "#fdca26"
             ],
             [
              1,
              "#f0f921"
             ]
            ],
            "type": "histogram2dcontour"
           }
          ],
          "mesh3d": [
           {
            "colorbar": {
             "outlinewidth": 0,
             "ticks": ""
            },
            "type": "mesh3d"
           }
          ],
          "parcoords": [
           {
            "line": {
             "colorbar": {
              "outlinewidth": 0,
              "ticks": ""
             }
            },
            "type": "parcoords"
           }
          ],
          "pie": [
           {
            "automargin": true,
            "type": "pie"
           }
          ],
          "scatter": [
           {
            "fillpattern": {
             "fillmode": "overlay",
             "size": 10,
             "solidity": 0.2
            },
            "type": "scatter"
           }
          ],
          "scatter3d": [
           {
            "line": {
             "colorbar": {
              "outlinewidth": 0,
              "ticks": ""
             }
            },
            "marker": {
             "colorbar": {
              "outlinewidth": 0,
              "ticks": ""
             }
            },
            "type": "scatter3d"
           }
          ],
          "scattercarpet": [
           {
            "marker": {
             "colorbar": {
              "outlinewidth": 0,
              "ticks": ""
             }
            },
            "type": "scattercarpet"
           }
          ],
          "scattergeo": [
           {
            "marker": {
             "colorbar": {
              "outlinewidth": 0,
              "ticks": ""
             }
            },
            "type": "scattergeo"
           }
          ],
          "scattergl": [
           {
            "marker": {
             "colorbar": {
              "outlinewidth": 0,
              "ticks": ""
             }
            },
            "type": "scattergl"
           }
          ],
          "scattermapbox": [
           {
            "marker": {
             "colorbar": {
              "outlinewidth": 0,
              "ticks": ""
             }
            },
            "type": "scattermapbox"
           }
          ],
          "scatterpolar": [
           {
            "marker": {
             "colorbar": {
              "outlinewidth": 0,
              "ticks": ""
             }
            },
            "type": "scatterpolar"
           }
          ],
          "scatterpolargl": [
           {
            "marker": {
             "colorbar": {
              "outlinewidth": 0,
              "ticks": ""
             }
            },
            "type": "scatterpolargl"
           }
          ],
          "scatterternary": [
           {
            "marker": {
             "colorbar": {
              "outlinewidth": 0,
              "ticks": ""
             }
            },
            "type": "scatterternary"
           }
          ],
          "surface": [
           {
            "colorbar": {
             "outlinewidth": 0,
             "ticks": ""
            },
            "colorscale": [
             [
              0,
              "#0d0887"
             ],
             [
              0.1111111111111111,
              "#46039f"
             ],
             [
              0.2222222222222222,
              "#7201a8"
             ],
             [
              0.3333333333333333,
              "#9c179e"
             ],
             [
              0.4444444444444444,
              "#bd3786"
             ],
             [
              0.5555555555555556,
              "#d8576b"
             ],
             [
              0.6666666666666666,
              "#ed7953"
             ],
             [
              0.7777777777777778,
              "#fb9f3a"
             ],
             [
              0.8888888888888888,
              "#fdca26"
             ],
             [
              1,
              "#f0f921"
             ]
            ],
            "type": "surface"
           }
          ],
          "table": [
           {
            "cells": {
             "fill": {
              "color": "#EBF0F8"
             },
             "line": {
              "color": "white"
             }
            },
            "header": {
             "fill": {
              "color": "#C8D4E3"
             },
             "line": {
              "color": "white"
             }
            },
            "type": "table"
           }
          ]
         },
         "layout": {
          "annotationdefaults": {
           "arrowcolor": "#2a3f5f",
           "arrowhead": 0,
           "arrowwidth": 1
          },
          "autotypenumbers": "strict",
          "coloraxis": {
           "colorbar": {
            "outlinewidth": 0,
            "ticks": ""
           }
          },
          "colorscale": {
           "diverging": [
            [
             0,
             "#8e0152"
            ],
            [
             0.1,
             "#c51b7d"
            ],
            [
             0.2,
             "#de77ae"
            ],
            [
             0.3,
             "#f1b6da"
            ],
            [
             0.4,
             "#fde0ef"
            ],
            [
             0.5,
             "#f7f7f7"
            ],
            [
             0.6,
             "#e6f5d0"
            ],
            [
             0.7,
             "#b8e186"
            ],
            [
             0.8,
             "#7fbc41"
            ],
            [
             0.9,
             "#4d9221"
            ],
            [
             1,
             "#276419"
            ]
           ],
           "sequential": [
            [
             0,
             "#0d0887"
            ],
            [
             0.1111111111111111,
             "#46039f"
            ],
            [
             0.2222222222222222,
             "#7201a8"
            ],
            [
             0.3333333333333333,
             "#9c179e"
            ],
            [
             0.4444444444444444,
             "#bd3786"
            ],
            [
             0.5555555555555556,
             "#d8576b"
            ],
            [
             0.6666666666666666,
             "#ed7953"
            ],
            [
             0.7777777777777778,
             "#fb9f3a"
            ],
            [
             0.8888888888888888,
             "#fdca26"
            ],
            [
             1,
             "#f0f921"
            ]
           ],
           "sequentialminus": [
            [
             0,
             "#0d0887"
            ],
            [
             0.1111111111111111,
             "#46039f"
            ],
            [
             0.2222222222222222,
             "#7201a8"
            ],
            [
             0.3333333333333333,
             "#9c179e"
            ],
            [
             0.4444444444444444,
             "#bd3786"
            ],
            [
             0.5555555555555556,
             "#d8576b"
            ],
            [
             0.6666666666666666,
             "#ed7953"
            ],
            [
             0.7777777777777778,
             "#fb9f3a"
            ],
            [
             0.8888888888888888,
             "#fdca26"
            ],
            [
             1,
             "#f0f921"
            ]
           ]
          },
          "colorway": [
           "#636efa",
           "#EF553B",
           "#00cc96",
           "#ab63fa",
           "#FFA15A",
           "#19d3f3",
           "#FF6692",
           "#B6E880",
           "#FF97FF",
           "#FECB52"
          ],
          "font": {
           "color": "#2a3f5f"
          },
          "geo": {
           "bgcolor": "white",
           "lakecolor": "white",
           "landcolor": "#E5ECF6",
           "showlakes": true,
           "showland": true,
           "subunitcolor": "white"
          },
          "hoverlabel": {
           "align": "left"
          },
          "hovermode": "closest",
          "mapbox": {
           "style": "light"
          },
          "paper_bgcolor": "white",
          "plot_bgcolor": "#E5ECF6",
          "polar": {
           "angularaxis": {
            "gridcolor": "white",
            "linecolor": "white",
            "ticks": ""
           },
           "bgcolor": "#E5ECF6",
           "radialaxis": {
            "gridcolor": "white",
            "linecolor": "white",
            "ticks": ""
           }
          },
          "scene": {
           "xaxis": {
            "backgroundcolor": "#E5ECF6",
            "gridcolor": "white",
            "gridwidth": 2,
            "linecolor": "white",
            "showbackground": true,
            "ticks": "",
            "zerolinecolor": "white"
           },
           "yaxis": {
            "backgroundcolor": "#E5ECF6",
            "gridcolor": "white",
            "gridwidth": 2,
            "linecolor": "white",
            "showbackground": true,
            "ticks": "",
            "zerolinecolor": "white"
           },
           "zaxis": {
            "backgroundcolor": "#E5ECF6",
            "gridcolor": "white",
            "gridwidth": 2,
            "linecolor": "white",
            "showbackground": true,
            "ticks": "",
            "zerolinecolor": "white"
           }
          },
          "shapedefaults": {
           "line": {
            "color": "#2a3f5f"
           }
          },
          "ternary": {
           "aaxis": {
            "gridcolor": "white",
            "linecolor": "white",
            "ticks": ""
           },
           "baxis": {
            "gridcolor": "white",
            "linecolor": "white",
            "ticks": ""
           },
           "bgcolor": "#E5ECF6",
           "caxis": {
            "gridcolor": "white",
            "linecolor": "white",
            "ticks": ""
           }
          },
          "title": {
           "x": 0.05
          },
          "xaxis": {
           "automargin": true,
           "gridcolor": "white",
           "linecolor": "white",
           "ticks": "",
           "title": {
            "standoff": 15
           },
           "zerolinecolor": "white",
           "zerolinewidth": 2
          },
          "yaxis": {
           "automargin": true,
           "gridcolor": "white",
           "linecolor": "white",
           "ticks": "",
           "title": {
            "standoff": 15
           },
           "zerolinecolor": "white",
           "zerolinewidth": 2
          }
         }
        },
        "title": {
         "text": "Métricas das GRU's, para diferentes horizontes de previsões futuras 'f', de maiores r2 e para 'n'=4 (fixo) "
        },
        "xaxis": {
         "anchor": "y",
         "domain": [
          0,
          1
         ]
        },
        "xaxis2": {
         "anchor": "y2",
         "domain": [
          0,
          1
         ]
        },
        "yaxis": {
         "anchor": "x",
         "domain": [
          0.575,
          1
         ],
         "range": [
          0,
          25000
         ]
        },
        "yaxis2": {
         "anchor": "x2",
         "domain": [
          0,
          0.425
         ],
         "range": [
          0,
          25000
         ]
        }
       }
      }
     },
     "metadata": {},
     "output_type": "display_data"
    }
   ],
   "source": [
    "from plotly.subplots import make_subplots\n",
    "import plotly.graph_objects as go\n",
    "\n",
    "# Custom labels for each subplot\n",
    "custom_labels_r2_2 = ['f=5', 'f=6', 'f=7', 'f=8']\n",
    "custom_labels_r2_1 = ['f=1', 'f=2', 'f=3', 'f=4']\n",
    "\n",
    "# custom_labels_r2_2 = ['f=5 & n=3', 'f=6 & n=2', 'f=7 & n=1', 'f=8 & n=7']\n",
    "# custom_labels_r2_1 = ['f=1 & n=7', 'f=2 & n=1', 'f=3 & n=5', 'f=4 & n=2']\n",
    "\n",
    "\n",
    "# Define colors for bars\n",
    "r2_color = 'maroon'\n",
    "corr_color = 'orange'\n",
    "\n",
    "# Create subplots\n",
    "fig = make_subplots(rows=2, cols=1) # subplot_titles=(\"Custom Labels for n=5 to n=8\", \"Custom Labels for n=1 to n=4\")\n",
    "\n",
    "# Add traces to subplot 1\n",
    "fig.add_trace(go.Bar(\n",
    "    x=custom_labels_r2_1,\n",
    "    y=df_plt_2['metrics.mae'][:4],\n",
    "    text=df_plt_2['metrics.mae'][:4].apply(lambda x: f'{x:.3f}'),  \n",
    "    hovertemplate='%{y:.3f}',\n",
    "    name='MAE',\n",
    "    legendgroup='mae_group',\n",
    "    marker=dict(color=r2_color)\n",
    "), row=1, col=1)\n",
    "\n",
    "fig.add_trace(go.Bar(\n",
    "    x=custom_labels_r2_1,\n",
    "    y=df_plt_2['metrics.rmse'][:4],\n",
    "    text=df_plt_2['metrics.rmse'][:4].apply(lambda x: f'{x:.3f}'),  \n",
    "    hovertemplate='%{y:.3f}',\n",
    "    name='RMSE',\n",
    "    legendgroup='rmse_group',\n",
    "    showlegend=False,\n",
    "    marker=dict(color=corr_color)\n",
    "), row=1, col=1)\n",
    "\n",
    "# Add traces to subplot 2\n",
    "fig.add_trace(go.Bar(\n",
    "    x=custom_labels_r2_2,\n",
    "    y=df_plt_2['metrics.mae'][4:],\n",
    "    text=df_plt_2['metrics.mae'][4:].apply(lambda x: f'{x:.3f}'),  \n",
    "    hovertemplate='%{y:.3f}',\n",
    "    name='MAE',\n",
    "    legendgroup='mae_group',\n",
    "    showlegend=False,\n",
    "    marker=dict(color=r2_color)\n",
    "), row=2, col=1)\n",
    "\n",
    "fig.add_trace(go.Bar(\n",
    "    x=custom_labels_r2_2,\n",
    "    y=df_plt_2['metrics.rmse'][4:],\n",
    "    text=df_plt_2['metrics.rmse'][4:].apply(lambda x: f'{x:.3f}'),  \n",
    "    hovertemplate='%{y:.3f}',\n",
    "    name='RMSE',\n",
    "    legendgroup='rmse_group',\n",
    "    marker=dict(color=corr_color)\n",
    "), row=2, col=1)\n",
    "\n",
    "# Update layout\n",
    "fig.update_layout(\n",
    "    title=f\"Métricas {name_plots}, para diferentes horizontes de previsões futuras 'f', de maiores r2 e para 'n'=4 (fixo) \",\n",
    "    #xaxis=dict(title='Número de S.O Retroativas \"n\" a serem utilizadas durante o treinamento'),\n",
    "    barmode='group',\n",
    ")\n",
    "\n",
    "# Set the same y-axis range for both subplots\n",
    "fig.update_yaxes(range=[0, 25000], row=1, col=1)\n",
    "fig.update_yaxes(range=[0, 25000], row=2, col=1)\n",
    "\n",
    "# Add annotations\n",
    "fig.add_annotation(text=\"'n' = Número de S.O Retroativas de vazão observada e precipitação na bacia, a serem utilizadas durante o treinamento\",\n",
    "                   xref=\"paper\", yref=\"paper\",\n",
    "                   x=0.5, y=-0.18, showarrow=False)\n",
    "\n",
    "# Add annotations\n",
    "fig.add_annotation(text=\"'f' = Número da S.O Futura onde se prevê a vazão\",\n",
    "                   xref=\"paper\", yref=\"paper\",\n",
    "                   x=0.5, y=-0.25, showarrow=False)\n",
    "\n",
    "# Show the plot\n",
    "fig.show()\n"
   ]
  }
 ],
 "metadata": {
  "kernelspec": {
   "display_name": ".euros",
   "language": "python",
   "name": ".euros"
  },
  "language_info": {
   "codemirror_mode": {
    "name": "ipython",
    "version": 3
   },
   "file_extension": ".py",
   "mimetype": "text/x-python",
   "name": "python",
   "nbconvert_exporter": "python",
   "pygments_lexer": "ipython3",
   "version": "3.10.12"
  },
  "orig_nbformat": 4
 },
 "nbformat": 4,
 "nbformat_minor": 2
}
