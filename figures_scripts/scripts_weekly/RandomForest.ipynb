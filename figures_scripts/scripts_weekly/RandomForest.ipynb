{
 "cells": [
  {
   "cell_type": "code",
   "execution_count": 1,
   "metadata": {},
   "outputs": [
    {
     "name": "stderr",
     "output_type": "stream",
     "text": [
      "/usr/lib/python3/dist-packages/scipy/__init__.py:146: UserWarning: A NumPy version >=1.17.3 and <1.25.0 is required for this version of SciPy (detected version 1.26.3\n",
      "  warnings.warn(f\"A NumPy version >={np_minversion} and <{np_maxversion}\"\n"
     ]
    }
   ],
   "source": [
    "import pandas as pd\n",
    "from sklearn.preprocessing import MinMaxScaler\n",
    "import numpy as np\n",
    "from sklearn.model_selection import train_test_split\n",
    "from sklearn.tree import DecisionTreeRegressor\n",
    "from sklearn.metrics import mean_squared_error, mean_absolute_error, r2_score\n",
    "import os\n",
    "import mlflow\n",
    "import datetime\n",
    "from itertools import product\n",
    "import plotly.graph_objects as go"
   ]
  },
  {
   "cell_type": "markdown",
   "metadata": {},
   "source": [
    "- colocar r2, mae e rmse do modelo de maior r2 apenas! (no geral os 3 andam juntos, informar também qual \"n\" que gerou esse modelo) para cada f=1,...f=4 em um subplot e f=5,...f=8 no outro subplot\n",
    "- mesma coisa porém para \"n\" fixo em 4"
   ]
  },
  {
   "cell_type": "markdown",
   "metadata": {},
   "source": [
    "#### Melhor R2 (qualquer \"n\")"
   ]
  },
  {
   "cell_type": "code",
   "execution_count": 2,
   "metadata": {},
   "outputs": [],
   "source": [
    "name_plots = 'das Random Forests'\n",
    "name_experiment = \"Itaipu_Benchmarking_Vazao_RF_V2\""
   ]
  },
  {
   "cell_type": "code",
   "execution_count": 3,
   "metadata": {},
   "outputs": [
    {
     "data": {
      "text/plain": [
       "<Experiment: artifact_location='file:///home/thiago/2rp/this_is_fine/euros/mlruns/16', creation_time=1707876950803, experiment_id='16', last_update_time=1707876950803, lifecycle_stage='active', name='Itaipu_Benchmarking_Vazao_RF_V2', tags={}>"
      ]
     },
     "execution_count": 3,
     "metadata": {},
     "output_type": "execute_result"
    }
   ],
   "source": [
    "mlflow.set_tracking_uri(\"http://localhost:5000\")\n",
    "mlflow.set_experiment(name_experiment)"
   ]
  },
  {
   "cell_type": "code",
   "execution_count": 4,
   "metadata": {},
   "outputs": [],
   "source": [
    "drop_columns = ['run_id','experiment_id', 'status','artifact_uri', \n",
    "                'start_time', 'end_time', 'tags.mlflow.source.type', \n",
    "                'tags.mlflow.source.name', 'params.model','params.label',\n",
    "                'tags.mlflow.user']"
   ]
  },
  {
   "cell_type": "code",
   "execution_count": 5,
   "metadata": {},
   "outputs": [],
   "source": [
    "f_so_pred_values = range(1,8+1)\n",
    "metric = 'r2'\n",
    "\n",
    "# Initialize an empty list to store the dataframes\n",
    "dfs = []\n",
    "\n",
    "# Iterate over each f_so_pred value\n",
    "for f_so_pred in f_so_pred_values:\n",
    "    # Search runs for the current f_so_pred value\n",
    "    df = mlflow.search_runs(filter_string=f\"params.f_so_pred = '{f_so_pred}'\", order_by=[f'metrics.{metric} DESC'])\n",
    "    \n",
    "    # Drop unnecessary columns\n",
    "    df = df.drop(columns=drop_columns).iloc[:1]\n",
    "    \n",
    "    # Append the dataframe to the list\n",
    "    dfs.append(df)\n",
    "\n",
    "# Concatenate the dataframes along the rows\n",
    "df_plt_1 = pd.concat(dfs)"
   ]
  },
  {
   "cell_type": "code",
   "execution_count": 6,
   "metadata": {},
   "outputs": [
    {
     "data": {
      "text/html": [
       "<div>\n",
       "<style scoped>\n",
       "    .dataframe tbody tr th:only-of-type {\n",
       "        vertical-align: middle;\n",
       "    }\n",
       "\n",
       "    .dataframe tbody tr th {\n",
       "        vertical-align: top;\n",
       "    }\n",
       "\n",
       "    .dataframe thead th {\n",
       "        text-align: right;\n",
       "    }\n",
       "</style>\n",
       "<table border=\"1\" class=\"dataframe\">\n",
       "  <thead>\n",
       "    <tr style=\"text-align: right;\">\n",
       "      <th></th>\n",
       "      <th>metrics.mae</th>\n",
       "      <th>metrics.rmse</th>\n",
       "      <th>metrics.r2</th>\n",
       "      <th>metrics.corr</th>\n",
       "      <th>params.seed</th>\n",
       "      <th>params.f_so_pred</th>\n",
       "      <th>params.bootstrap</th>\n",
       "      <th>params.n_so_retro</th>\n",
       "      <th>params.max_depth</th>\n",
       "      <th>params.n_estimators</th>\n",
       "      <th>params.criterion</th>\n",
       "      <th>tags.run_name</th>\n",
       "      <th>tags.mlflow.runName</th>\n",
       "    </tr>\n",
       "  </thead>\n",
       "  <tbody>\n",
       "    <tr>\n",
       "      <th>0</th>\n",
       "      <td>6649.853247</td>\n",
       "      <td>9239.353535</td>\n",
       "      <td>0.918567</td>\n",
       "      <td>0.959023</td>\n",
       "      <td>21</td>\n",
       "      <td>1</td>\n",
       "      <td>True</td>\n",
       "      <td>6</td>\n",
       "      <td>None</td>\n",
       "      <td>150</td>\n",
       "      <td>squared_error</td>\n",
       "      <td>random_forest_n=6_f=1_squared_error_150_None_True</td>\n",
       "      <td>random_forest_n=6_f=1_squared_error_150_None_True</td>\n",
       "    </tr>\n",
       "    <tr>\n",
       "      <th>0</th>\n",
       "      <td>9508.984011</td>\n",
       "      <td>12805.850673</td>\n",
       "      <td>0.850509</td>\n",
       "      <td>0.923570</td>\n",
       "      <td>21</td>\n",
       "      <td>2</td>\n",
       "      <td>True</td>\n",
       "      <td>2</td>\n",
       "      <td>None</td>\n",
       "      <td>100</td>\n",
       "      <td>squared_error</td>\n",
       "      <td>random_forest_n=2_f=2_squared_error_100_None_True</td>\n",
       "      <td>random_forest_n=2_f=2_squared_error_100_None_True</td>\n",
       "    </tr>\n",
       "    <tr>\n",
       "      <th>0</th>\n",
       "      <td>9738.353749</td>\n",
       "      <td>13806.722356</td>\n",
       "      <td>0.828581</td>\n",
       "      <td>0.916195</td>\n",
       "      <td>21</td>\n",
       "      <td>3</td>\n",
       "      <td>True</td>\n",
       "      <td>5</td>\n",
       "      <td>None</td>\n",
       "      <td>150</td>\n",
       "      <td>squared_error</td>\n",
       "      <td>random_forest_n=5_f=3_squared_error_150_None_True</td>\n",
       "      <td>random_forest_n=5_f=3_squared_error_150_None_True</td>\n",
       "    </tr>\n",
       "    <tr>\n",
       "      <th>0</th>\n",
       "      <td>10506.419066</td>\n",
       "      <td>14803.153342</td>\n",
       "      <td>0.802946</td>\n",
       "      <td>0.900252</td>\n",
       "      <td>21</td>\n",
       "      <td>4</td>\n",
       "      <td>True</td>\n",
       "      <td>4</td>\n",
       "      <td>None</td>\n",
       "      <td>50</td>\n",
       "      <td>absolute_error</td>\n",
       "      <td>random_forest_n=4_f=4_absolute_error_50_None_True</td>\n",
       "      <td>random_forest_n=4_f=4_absolute_error_50_None_True</td>\n",
       "    </tr>\n",
       "    <tr>\n",
       "      <th>0</th>\n",
       "      <td>10591.953237</td>\n",
       "      <td>15129.418063</td>\n",
       "      <td>0.790333</td>\n",
       "      <td>0.890482</td>\n",
       "      <td>21</td>\n",
       "      <td>5</td>\n",
       "      <td>True</td>\n",
       "      <td>8</td>\n",
       "      <td>None</td>\n",
       "      <td>150</td>\n",
       "      <td>absolute_error</td>\n",
       "      <td>random_forest_n=8_f=5_absolute_error_150_None_...</td>\n",
       "      <td>random_forest_n=8_f=5_absolute_error_150_None_...</td>\n",
       "    </tr>\n",
       "    <tr>\n",
       "      <th>0</th>\n",
       "      <td>10565.120084</td>\n",
       "      <td>15070.552405</td>\n",
       "      <td>0.791961</td>\n",
       "      <td>0.891761</td>\n",
       "      <td>21</td>\n",
       "      <td>6</td>\n",
       "      <td>True</td>\n",
       "      <td>7</td>\n",
       "      <td>None</td>\n",
       "      <td>150</td>\n",
       "      <td>squared_error</td>\n",
       "      <td>random_forest_n=7_f=6_squared_error_150_None_True</td>\n",
       "      <td>random_forest_n=7_f=6_squared_error_150_None_True</td>\n",
       "    </tr>\n",
       "    <tr>\n",
       "      <th>0</th>\n",
       "      <td>11190.028664</td>\n",
       "      <td>15968.576632</td>\n",
       "      <td>0.766429</td>\n",
       "      <td>0.876773</td>\n",
       "      <td>21</td>\n",
       "      <td>7</td>\n",
       "      <td>True</td>\n",
       "      <td>6</td>\n",
       "      <td>None</td>\n",
       "      <td>150</td>\n",
       "      <td>squared_error</td>\n",
       "      <td>random_forest_n=6_f=7_squared_error_150_None_True</td>\n",
       "      <td>random_forest_n=6_f=7_squared_error_150_None_True</td>\n",
       "    </tr>\n",
       "    <tr>\n",
       "      <th>0</th>\n",
       "      <td>11124.268332</td>\n",
       "      <td>16043.381074</td>\n",
       "      <td>0.764236</td>\n",
       "      <td>0.876204</td>\n",
       "      <td>21</td>\n",
       "      <td>8</td>\n",
       "      <td>True</td>\n",
       "      <td>5</td>\n",
       "      <td>None</td>\n",
       "      <td>150</td>\n",
       "      <td>squared_error</td>\n",
       "      <td>random_forest_n=5_f=8_squared_error_150_None_True</td>\n",
       "      <td>random_forest_n=5_f=8_squared_error_150_None_True</td>\n",
       "    </tr>\n",
       "  </tbody>\n",
       "</table>\n",
       "</div>"
      ],
      "text/plain": [
       "    metrics.mae  metrics.rmse  metrics.r2  metrics.corr params.seed  \\\n",
       "0   6649.853247   9239.353535    0.918567      0.959023          21   \n",
       "0   9508.984011  12805.850673    0.850509      0.923570          21   \n",
       "0   9738.353749  13806.722356    0.828581      0.916195          21   \n",
       "0  10506.419066  14803.153342    0.802946      0.900252          21   \n",
       "0  10591.953237  15129.418063    0.790333      0.890482          21   \n",
       "0  10565.120084  15070.552405    0.791961      0.891761          21   \n",
       "0  11190.028664  15968.576632    0.766429      0.876773          21   \n",
       "0  11124.268332  16043.381074    0.764236      0.876204          21   \n",
       "\n",
       "  params.f_so_pred params.bootstrap params.n_so_retro params.max_depth  \\\n",
       "0                1             True                 6             None   \n",
       "0                2             True                 2             None   \n",
       "0                3             True                 5             None   \n",
       "0                4             True                 4             None   \n",
       "0                5             True                 8             None   \n",
       "0                6             True                 7             None   \n",
       "0                7             True                 6             None   \n",
       "0                8             True                 5             None   \n",
       "\n",
       "  params.n_estimators params.criterion  \\\n",
       "0                 150    squared_error   \n",
       "0                 100    squared_error   \n",
       "0                 150    squared_error   \n",
       "0                  50   absolute_error   \n",
       "0                 150   absolute_error   \n",
       "0                 150    squared_error   \n",
       "0                 150    squared_error   \n",
       "0                 150    squared_error   \n",
       "\n",
       "                                       tags.run_name  \\\n",
       "0  random_forest_n=6_f=1_squared_error_150_None_True   \n",
       "0  random_forest_n=2_f=2_squared_error_100_None_True   \n",
       "0  random_forest_n=5_f=3_squared_error_150_None_True   \n",
       "0  random_forest_n=4_f=4_absolute_error_50_None_True   \n",
       "0  random_forest_n=8_f=5_absolute_error_150_None_...   \n",
       "0  random_forest_n=7_f=6_squared_error_150_None_True   \n",
       "0  random_forest_n=6_f=7_squared_error_150_None_True   \n",
       "0  random_forest_n=5_f=8_squared_error_150_None_True   \n",
       "\n",
       "                                 tags.mlflow.runName  \n",
       "0  random_forest_n=6_f=1_squared_error_150_None_True  \n",
       "0  random_forest_n=2_f=2_squared_error_100_None_True  \n",
       "0  random_forest_n=5_f=3_squared_error_150_None_True  \n",
       "0  random_forest_n=4_f=4_absolute_error_50_None_True  \n",
       "0  random_forest_n=8_f=5_absolute_error_150_None_...  \n",
       "0  random_forest_n=7_f=6_squared_error_150_None_True  \n",
       "0  random_forest_n=6_f=7_squared_error_150_None_True  \n",
       "0  random_forest_n=5_f=8_squared_error_150_None_True  "
      ]
     },
     "execution_count": 6,
     "metadata": {},
     "output_type": "execute_result"
    }
   ],
   "source": [
    "df_plt_1"
   ]
  },
  {
   "cell_type": "code",
   "execution_count": 7,
   "metadata": {},
   "outputs": [],
   "source": [
    "f_so_pred_values = range(1,8+1)\n",
    "metric = 'r2'\n",
    "\n",
    "# Initialize an empty list to store the dataframes\n",
    "dfs = []\n",
    "\n",
    "# Iterate over each f_so_pred value\n",
    "for f_so_pred in f_so_pred_values:\n",
    "    # Search runs for the current f_so_pred value\n",
    "    df = mlflow.search_runs(filter_string=f\"params.f_so_pred = '{f_so_pred}' AND params.n_so_retro = '4'\", \n",
    "                            order_by=[f'metrics.{metric} DESC'])\n",
    "    \n",
    "    # Drop unnecessary columns\n",
    "    df = df.drop(columns=drop_columns).iloc[:1]\n",
    "    \n",
    "    # Append the dataframe to the list\n",
    "    dfs.append(df)\n",
    "\n",
    "# Concatenate the dataframes along the rows\n",
    "df_plt_2 = pd.concat(dfs)"
   ]
  },
  {
   "cell_type": "code",
   "execution_count": 8,
   "metadata": {},
   "outputs": [
    {
     "data": {
      "text/html": [
       "<div>\n",
       "<style scoped>\n",
       "    .dataframe tbody tr th:only-of-type {\n",
       "        vertical-align: middle;\n",
       "    }\n",
       "\n",
       "    .dataframe tbody tr th {\n",
       "        vertical-align: top;\n",
       "    }\n",
       "\n",
       "    .dataframe thead th {\n",
       "        text-align: right;\n",
       "    }\n",
       "</style>\n",
       "<table border=\"1\" class=\"dataframe\">\n",
       "  <thead>\n",
       "    <tr style=\"text-align: right;\">\n",
       "      <th></th>\n",
       "      <th>metrics.mae</th>\n",
       "      <th>metrics.rmse</th>\n",
       "      <th>metrics.r2</th>\n",
       "      <th>metrics.corr</th>\n",
       "      <th>params.seed</th>\n",
       "      <th>params.f_so_pred</th>\n",
       "      <th>params.bootstrap</th>\n",
       "      <th>params.n_so_retro</th>\n",
       "      <th>params.max_depth</th>\n",
       "      <th>params.n_estimators</th>\n",
       "      <th>params.criterion</th>\n",
       "      <th>tags.run_name</th>\n",
       "      <th>tags.mlflow.runName</th>\n",
       "    </tr>\n",
       "  </thead>\n",
       "  <tbody>\n",
       "    <tr>\n",
       "      <th>0</th>\n",
       "      <td>6935.112442</td>\n",
       "      <td>10071.318542</td>\n",
       "      <td>0.906041</td>\n",
       "      <td>0.953877</td>\n",
       "      <td>21</td>\n",
       "      <td>1</td>\n",
       "      <td>True</td>\n",
       "      <td>4</td>\n",
       "      <td>None</td>\n",
       "      <td>50</td>\n",
       "      <td>squared_error</td>\n",
       "      <td>random_forest_n=4_f=1_squared_error_50_None_True</td>\n",
       "      <td>random_forest_n=4_f=1_squared_error_50_None_True</td>\n",
       "    </tr>\n",
       "    <tr>\n",
       "      <th>0</th>\n",
       "      <td>8846.789539</td>\n",
       "      <td>12570.027742</td>\n",
       "      <td>0.846215</td>\n",
       "      <td>0.920356</td>\n",
       "      <td>21</td>\n",
       "      <td>2</td>\n",
       "      <td>True</td>\n",
       "      <td>4</td>\n",
       "      <td>None</td>\n",
       "      <td>50</td>\n",
       "      <td>squared_error</td>\n",
       "      <td>random_forest_n=4_f=2_squared_error_50_None_True</td>\n",
       "      <td>random_forest_n=4_f=2_squared_error_50_None_True</td>\n",
       "    </tr>\n",
       "    <tr>\n",
       "      <th>0</th>\n",
       "      <td>9819.240034</td>\n",
       "      <td>13797.651157</td>\n",
       "      <td>0.818395</td>\n",
       "      <td>0.906664</td>\n",
       "      <td>21</td>\n",
       "      <td>3</td>\n",
       "      <td>True</td>\n",
       "      <td>4</td>\n",
       "      <td>None</td>\n",
       "      <td>50</td>\n",
       "      <td>absolute_error</td>\n",
       "      <td>random_forest_n=4_f=3_absolute_error_50_None_True</td>\n",
       "      <td>random_forest_n=4_f=3_absolute_error_50_None_True</td>\n",
       "    </tr>\n",
       "    <tr>\n",
       "      <th>0</th>\n",
       "      <td>10506.419066</td>\n",
       "      <td>14803.153342</td>\n",
       "      <td>0.802946</td>\n",
       "      <td>0.900252</td>\n",
       "      <td>21</td>\n",
       "      <td>4</td>\n",
       "      <td>True</td>\n",
       "      <td>4</td>\n",
       "      <td>None</td>\n",
       "      <td>50</td>\n",
       "      <td>absolute_error</td>\n",
       "      <td>random_forest_n=4_f=4_absolute_error_50_None_True</td>\n",
       "      <td>random_forest_n=4_f=4_absolute_error_50_None_True</td>\n",
       "    </tr>\n",
       "    <tr>\n",
       "      <th>0</th>\n",
       "      <td>13012.644667</td>\n",
       "      <td>18857.725983</td>\n",
       "      <td>0.727929</td>\n",
       "      <td>0.858450</td>\n",
       "      <td>21</td>\n",
       "      <td>5</td>\n",
       "      <td>True</td>\n",
       "      <td>4</td>\n",
       "      <td>None</td>\n",
       "      <td>50</td>\n",
       "      <td>squared_error</td>\n",
       "      <td>random_forest_n=4_f=5_squared_error_50_None_True</td>\n",
       "      <td>random_forest_n=4_f=5_squared_error_50_None_True</td>\n",
       "    </tr>\n",
       "    <tr>\n",
       "      <th>0</th>\n",
       "      <td>10937.084414</td>\n",
       "      <td>15655.931219</td>\n",
       "      <td>0.745882</td>\n",
       "      <td>0.865990</td>\n",
       "      <td>21</td>\n",
       "      <td>6</td>\n",
       "      <td>True</td>\n",
       "      <td>4</td>\n",
       "      <td>None</td>\n",
       "      <td>100</td>\n",
       "      <td>absolute_error</td>\n",
       "      <td>random_forest_n=4_f=6_absolute_error_100_None_...</td>\n",
       "      <td>random_forest_n=4_f=6_absolute_error_100_None_...</td>\n",
       "    </tr>\n",
       "    <tr>\n",
       "      <th>0</th>\n",
       "      <td>12092.965789</td>\n",
       "      <td>17618.695005</td>\n",
       "      <td>0.724608</td>\n",
       "      <td>0.853093</td>\n",
       "      <td>21</td>\n",
       "      <td>7</td>\n",
       "      <td>True</td>\n",
       "      <td>4</td>\n",
       "      <td>None</td>\n",
       "      <td>100</td>\n",
       "      <td>squared_error</td>\n",
       "      <td>random_forest_n=4_f=7_squared_error_100_None_True</td>\n",
       "      <td>random_forest_n=4_f=7_squared_error_100_None_True</td>\n",
       "    </tr>\n",
       "    <tr>\n",
       "      <th>0</th>\n",
       "      <td>12072.299844</td>\n",
       "      <td>18183.343741</td>\n",
       "      <td>0.705934</td>\n",
       "      <td>0.842368</td>\n",
       "      <td>21</td>\n",
       "      <td>8</td>\n",
       "      <td>True</td>\n",
       "      <td>4</td>\n",
       "      <td>None</td>\n",
       "      <td>150</td>\n",
       "      <td>squared_error</td>\n",
       "      <td>random_forest_n=4_f=8_squared_error_150_None_True</td>\n",
       "      <td>random_forest_n=4_f=8_squared_error_150_None_True</td>\n",
       "    </tr>\n",
       "  </tbody>\n",
       "</table>\n",
       "</div>"
      ],
      "text/plain": [
       "    metrics.mae  metrics.rmse  metrics.r2  metrics.corr params.seed  \\\n",
       "0   6935.112442  10071.318542    0.906041      0.953877          21   \n",
       "0   8846.789539  12570.027742    0.846215      0.920356          21   \n",
       "0   9819.240034  13797.651157    0.818395      0.906664          21   \n",
       "0  10506.419066  14803.153342    0.802946      0.900252          21   \n",
       "0  13012.644667  18857.725983    0.727929      0.858450          21   \n",
       "0  10937.084414  15655.931219    0.745882      0.865990          21   \n",
       "0  12092.965789  17618.695005    0.724608      0.853093          21   \n",
       "0  12072.299844  18183.343741    0.705934      0.842368          21   \n",
       "\n",
       "  params.f_so_pred params.bootstrap params.n_so_retro params.max_depth  \\\n",
       "0                1             True                 4             None   \n",
       "0                2             True                 4             None   \n",
       "0                3             True                 4             None   \n",
       "0                4             True                 4             None   \n",
       "0                5             True                 4             None   \n",
       "0                6             True                 4             None   \n",
       "0                7             True                 4             None   \n",
       "0                8             True                 4             None   \n",
       "\n",
       "  params.n_estimators params.criterion  \\\n",
       "0                  50    squared_error   \n",
       "0                  50    squared_error   \n",
       "0                  50   absolute_error   \n",
       "0                  50   absolute_error   \n",
       "0                  50    squared_error   \n",
       "0                 100   absolute_error   \n",
       "0                 100    squared_error   \n",
       "0                 150    squared_error   \n",
       "\n",
       "                                       tags.run_name  \\\n",
       "0   random_forest_n=4_f=1_squared_error_50_None_True   \n",
       "0   random_forest_n=4_f=2_squared_error_50_None_True   \n",
       "0  random_forest_n=4_f=3_absolute_error_50_None_True   \n",
       "0  random_forest_n=4_f=4_absolute_error_50_None_True   \n",
       "0   random_forest_n=4_f=5_squared_error_50_None_True   \n",
       "0  random_forest_n=4_f=6_absolute_error_100_None_...   \n",
       "0  random_forest_n=4_f=7_squared_error_100_None_True   \n",
       "0  random_forest_n=4_f=8_squared_error_150_None_True   \n",
       "\n",
       "                                 tags.mlflow.runName  \n",
       "0   random_forest_n=4_f=1_squared_error_50_None_True  \n",
       "0   random_forest_n=4_f=2_squared_error_50_None_True  \n",
       "0  random_forest_n=4_f=3_absolute_error_50_None_True  \n",
       "0  random_forest_n=4_f=4_absolute_error_50_None_True  \n",
       "0   random_forest_n=4_f=5_squared_error_50_None_True  \n",
       "0  random_forest_n=4_f=6_absolute_error_100_None_...  \n",
       "0  random_forest_n=4_f=7_squared_error_100_None_True  \n",
       "0  random_forest_n=4_f=8_squared_error_150_None_True  "
      ]
     },
     "execution_count": 8,
     "metadata": {},
     "output_type": "execute_result"
    }
   ],
   "source": [
    "df_plt_2"
   ]
  },
  {
   "cell_type": "code",
   "execution_count": 9,
   "metadata": {},
   "outputs": [
    {
     "data": {
      "application/vnd.plotly.v1+json": {
       "config": {
        "plotlyServerURL": "https://plot.ly"
       },
       "data": [
        {
         "hovertemplate": "%{y:.3f}",
         "legendgroup": "r2_group",
         "marker": {
          "color": "darkblue"
         },
         "name": "r2",
         "text": [
          "0.919",
          "0.851",
          "0.829",
          "0.803"
         ],
         "type": "bar",
         "x": [
          "f=1 (n=6)",
          "f=2 (n=2)",
          "f=3 (n=5)",
          "f=4 (n=4)"
         ],
         "xaxis": "x",
         "y": [
          0.9185670488872173,
          0.8505093709951596,
          0.8285810456148421,
          0.8029456010244106
         ],
         "yaxis": "y"
        },
        {
         "hovertemplate": "%{y:.3f}",
         "legendgroup": "correlation_group",
         "marker": {
          "color": "purple"
         },
         "name": "Correlação",
         "showlegend": false,
         "text": [
          "0.959",
          "0.924",
          "0.916",
          "0.900"
         ],
         "type": "bar",
         "x": [
          "f=1 (n=6)",
          "f=2 (n=2)",
          "f=3 (n=5)",
          "f=4 (n=4)"
         ],
         "xaxis": "x",
         "y": [
          0.9590234944428554,
          0.9235696025712891,
          0.9161951071824568,
          0.9002520139268629
         ],
         "yaxis": "y"
        },
        {
         "hovertemplate": "%{y:.3f}",
         "legendgroup": "r2_group",
         "marker": {
          "color": "darkblue"
         },
         "name": "r2",
         "showlegend": false,
         "text": [
          "0.790",
          "0.792",
          "0.766",
          "0.764"
         ],
         "type": "bar",
         "x": [
          "f=5 (n=8)",
          "f=6 (n=7)",
          "f=7 (n=6)",
          "f=8 (n=5)"
         ],
         "xaxis": "x2",
         "y": [
          0.7903326582856414,
          0.7919610349159882,
          0.7664290886967879,
          0.7642356476605436
         ],
         "yaxis": "y2"
        },
        {
         "hovertemplate": "%{y:.3f}",
         "legendgroup": "correlation_group",
         "marker": {
          "color": "purple"
         },
         "name": "Correlação",
         "text": [
          "0.890",
          "0.892",
          "0.877",
          "0.876"
         ],
         "type": "bar",
         "x": [
          "f=5 (n=8)",
          "f=6 (n=7)",
          "f=7 (n=6)",
          "f=8 (n=5)"
         ],
         "xaxis": "x2",
         "y": [
          0.8904822094223771,
          0.8917612706203706,
          0.8767730641128512,
          0.8762037917258675
         ],
         "yaxis": "y2"
        }
       ],
       "layout": {
        "annotations": [
         {
          "showarrow": false,
          "text": "'n' = Número de S.O Retroativas de vazão observada e precipitação na bacia, a serem utilizadas durante o treinamento",
          "x": 0.5,
          "xref": "paper",
          "y": -0.18,
          "yref": "paper"
         },
         {
          "showarrow": false,
          "text": "'f' = Número da S.O Futura onde se prevê a vazão",
          "x": 0.5,
          "xref": "paper",
          "y": -0.25,
          "yref": "paper"
         }
        ],
        "barmode": "group",
        "template": {
         "data": {
          "bar": [
           {
            "error_x": {
             "color": "#2a3f5f"
            },
            "error_y": {
             "color": "#2a3f5f"
            },
            "marker": {
             "line": {
              "color": "#E5ECF6",
              "width": 0.5
             },
             "pattern": {
              "fillmode": "overlay",
              "size": 10,
              "solidity": 0.2
             }
            },
            "type": "bar"
           }
          ],
          "barpolar": [
           {
            "marker": {
             "line": {
              "color": "#E5ECF6",
              "width": 0.5
             },
             "pattern": {
              "fillmode": "overlay",
              "size": 10,
              "solidity": 0.2
             }
            },
            "type": "barpolar"
           }
          ],
          "carpet": [
           {
            "aaxis": {
             "endlinecolor": "#2a3f5f",
             "gridcolor": "white",
             "linecolor": "white",
             "minorgridcolor": "white",
             "startlinecolor": "#2a3f5f"
            },
            "baxis": {
             "endlinecolor": "#2a3f5f",
             "gridcolor": "white",
             "linecolor": "white",
             "minorgridcolor": "white",
             "startlinecolor": "#2a3f5f"
            },
            "type": "carpet"
           }
          ],
          "choropleth": [
           {
            "colorbar": {
             "outlinewidth": 0,
             "ticks": ""
            },
            "type": "choropleth"
           }
          ],
          "contour": [
           {
            "colorbar": {
             "outlinewidth": 0,
             "ticks": ""
            },
            "colorscale": [
             [
              0,
              "#0d0887"
             ],
             [
              0.1111111111111111,
              "#46039f"
             ],
             [
              0.2222222222222222,
              "#7201a8"
             ],
             [
              0.3333333333333333,
              "#9c179e"
             ],
             [
              0.4444444444444444,
              "#bd3786"
             ],
             [
              0.5555555555555556,
              "#d8576b"
             ],
             [
              0.6666666666666666,
              "#ed7953"
             ],
             [
              0.7777777777777778,
              "#fb9f3a"
             ],
             [
              0.8888888888888888,
              "#fdca26"
             ],
             [
              1,
              "#f0f921"
             ]
            ],
            "type": "contour"
           }
          ],
          "contourcarpet": [
           {
            "colorbar": {
             "outlinewidth": 0,
             "ticks": ""
            },
            "type": "contourcarpet"
           }
          ],
          "heatmap": [
           {
            "colorbar": {
             "outlinewidth": 0,
             "ticks": ""
            },
            "colorscale": [
             [
              0,
              "#0d0887"
             ],
             [
              0.1111111111111111,
              "#46039f"
             ],
             [
              0.2222222222222222,
              "#7201a8"
             ],
             [
              0.3333333333333333,
              "#9c179e"
             ],
             [
              0.4444444444444444,
              "#bd3786"
             ],
             [
              0.5555555555555556,
              "#d8576b"
             ],
             [
              0.6666666666666666,
              "#ed7953"
             ],
             [
              0.7777777777777778,
              "#fb9f3a"
             ],
             [
              0.8888888888888888,
              "#fdca26"
             ],
             [
              1,
              "#f0f921"
             ]
            ],
            "type": "heatmap"
           }
          ],
          "heatmapgl": [
           {
            "colorbar": {
             "outlinewidth": 0,
             "ticks": ""
            },
            "colorscale": [
             [
              0,
              "#0d0887"
             ],
             [
              0.1111111111111111,
              "#46039f"
             ],
             [
              0.2222222222222222,
              "#7201a8"
             ],
             [
              0.3333333333333333,
              "#9c179e"
             ],
             [
              0.4444444444444444,
              "#bd3786"
             ],
             [
              0.5555555555555556,
              "#d8576b"
             ],
             [
              0.6666666666666666,
              "#ed7953"
             ],
             [
              0.7777777777777778,
              "#fb9f3a"
             ],
             [
              0.8888888888888888,
              "#fdca26"
             ],
             [
              1,
              "#f0f921"
             ]
            ],
            "type": "heatmapgl"
           }
          ],
          "histogram": [
           {
            "marker": {
             "pattern": {
              "fillmode": "overlay",
              "size": 10,
              "solidity": 0.2
             }
            },
            "type": "histogram"
           }
          ],
          "histogram2d": [
           {
            "colorbar": {
             "outlinewidth": 0,
             "ticks": ""
            },
            "colorscale": [
             [
              0,
              "#0d0887"
             ],
             [
              0.1111111111111111,
              "#46039f"
             ],
             [
              0.2222222222222222,
              "#7201a8"
             ],
             [
              0.3333333333333333,
              "#9c179e"
             ],
             [
              0.4444444444444444,
              "#bd3786"
             ],
             [
              0.5555555555555556,
              "#d8576b"
             ],
             [
              0.6666666666666666,
              "#ed7953"
             ],
             [
              0.7777777777777778,
              "#fb9f3a"
             ],
             [
              0.8888888888888888,
              "#fdca26"
             ],
             [
              1,
              "#f0f921"
             ]
            ],
            "type": "histogram2d"
           }
          ],
          "histogram2dcontour": [
           {
            "colorbar": {
             "outlinewidth": 0,
             "ticks": ""
            },
            "colorscale": [
             [
              0,
              "#0d0887"
             ],
             [
              0.1111111111111111,
              "#46039f"
             ],
             [
              0.2222222222222222,
              "#7201a8"
             ],
             [
              0.3333333333333333,
              "#9c179e"
             ],
             [
              0.4444444444444444,
              "#bd3786"
             ],
             [
              0.5555555555555556,
              "#d8576b"
             ],
             [
              0.6666666666666666,
              "#ed7953"
             ],
             [
              0.7777777777777778,
              "#fb9f3a"
             ],
             [
              0.8888888888888888,
              "#fdca26"
             ],
             [
              1,
              "#f0f921"
             ]
            ],
            "type": "histogram2dcontour"
           }
          ],
          "mesh3d": [
           {
            "colorbar": {
             "outlinewidth": 0,
             "ticks": ""
            },
            "type": "mesh3d"
           }
          ],
          "parcoords": [
           {
            "line": {
             "colorbar": {
              "outlinewidth": 0,
              "ticks": ""
             }
            },
            "type": "parcoords"
           }
          ],
          "pie": [
           {
            "automargin": true,
            "type": "pie"
           }
          ],
          "scatter": [
           {
            "fillpattern": {
             "fillmode": "overlay",
             "size": 10,
             "solidity": 0.2
            },
            "type": "scatter"
           }
          ],
          "scatter3d": [
           {
            "line": {
             "colorbar": {
              "outlinewidth": 0,
              "ticks": ""
             }
            },
            "marker": {
             "colorbar": {
              "outlinewidth": 0,
              "ticks": ""
             }
            },
            "type": "scatter3d"
           }
          ],
          "scattercarpet": [
           {
            "marker": {
             "colorbar": {
              "outlinewidth": 0,
              "ticks": ""
             }
            },
            "type": "scattercarpet"
           }
          ],
          "scattergeo": [
           {
            "marker": {
             "colorbar": {
              "outlinewidth": 0,
              "ticks": ""
             }
            },
            "type": "scattergeo"
           }
          ],
          "scattergl": [
           {
            "marker": {
             "colorbar": {
              "outlinewidth": 0,
              "ticks": ""
             }
            },
            "type": "scattergl"
           }
          ],
          "scattermapbox": [
           {
            "marker": {
             "colorbar": {
              "outlinewidth": 0,
              "ticks": ""
             }
            },
            "type": "scattermapbox"
           }
          ],
          "scatterpolar": [
           {
            "marker": {
             "colorbar": {
              "outlinewidth": 0,
              "ticks": ""
             }
            },
            "type": "scatterpolar"
           }
          ],
          "scatterpolargl": [
           {
            "marker": {
             "colorbar": {
              "outlinewidth": 0,
              "ticks": ""
             }
            },
            "type": "scatterpolargl"
           }
          ],
          "scatterternary": [
           {
            "marker": {
             "colorbar": {
              "outlinewidth": 0,
              "ticks": ""
             }
            },
            "type": "scatterternary"
           }
          ],
          "surface": [
           {
            "colorbar": {
             "outlinewidth": 0,
             "ticks": ""
            },
            "colorscale": [
             [
              0,
              "#0d0887"
             ],
             [
              0.1111111111111111,
              "#46039f"
             ],
             [
              0.2222222222222222,
              "#7201a8"
             ],
             [
              0.3333333333333333,
              "#9c179e"
             ],
             [
              0.4444444444444444,
              "#bd3786"
             ],
             [
              0.5555555555555556,
              "#d8576b"
             ],
             [
              0.6666666666666666,
              "#ed7953"
             ],
             [
              0.7777777777777778,
              "#fb9f3a"
             ],
             [
              0.8888888888888888,
              "#fdca26"
             ],
             [
              1,
              "#f0f921"
             ]
            ],
            "type": "surface"
           }
          ],
          "table": [
           {
            "cells": {
             "fill": {
              "color": "#EBF0F8"
             },
             "line": {
              "color": "white"
             }
            },
            "header": {
             "fill": {
              "color": "#C8D4E3"
             },
             "line": {
              "color": "white"
             }
            },
            "type": "table"
           }
          ]
         },
         "layout": {
          "annotationdefaults": {
           "arrowcolor": "#2a3f5f",
           "arrowhead": 0,
           "arrowwidth": 1
          },
          "autotypenumbers": "strict",
          "coloraxis": {
           "colorbar": {
            "outlinewidth": 0,
            "ticks": ""
           }
          },
          "colorscale": {
           "diverging": [
            [
             0,
             "#8e0152"
            ],
            [
             0.1,
             "#c51b7d"
            ],
            [
             0.2,
             "#de77ae"
            ],
            [
             0.3,
             "#f1b6da"
            ],
            [
             0.4,
             "#fde0ef"
            ],
            [
             0.5,
             "#f7f7f7"
            ],
            [
             0.6,
             "#e6f5d0"
            ],
            [
             0.7,
             "#b8e186"
            ],
            [
             0.8,
             "#7fbc41"
            ],
            [
             0.9,
             "#4d9221"
            ],
            [
             1,
             "#276419"
            ]
           ],
           "sequential": [
            [
             0,
             "#0d0887"
            ],
            [
             0.1111111111111111,
             "#46039f"
            ],
            [
             0.2222222222222222,
             "#7201a8"
            ],
            [
             0.3333333333333333,
             "#9c179e"
            ],
            [
             0.4444444444444444,
             "#bd3786"
            ],
            [
             0.5555555555555556,
             "#d8576b"
            ],
            [
             0.6666666666666666,
             "#ed7953"
            ],
            [
             0.7777777777777778,
             "#fb9f3a"
            ],
            [
             0.8888888888888888,
             "#fdca26"
            ],
            [
             1,
             "#f0f921"
            ]
           ],
           "sequentialminus": [
            [
             0,
             "#0d0887"
            ],
            [
             0.1111111111111111,
             "#46039f"
            ],
            [
             0.2222222222222222,
             "#7201a8"
            ],
            [
             0.3333333333333333,
             "#9c179e"
            ],
            [
             0.4444444444444444,
             "#bd3786"
            ],
            [
             0.5555555555555556,
             "#d8576b"
            ],
            [
             0.6666666666666666,
             "#ed7953"
            ],
            [
             0.7777777777777778,
             "#fb9f3a"
            ],
            [
             0.8888888888888888,
             "#fdca26"
            ],
            [
             1,
             "#f0f921"
            ]
           ]
          },
          "colorway": [
           "#636efa",
           "#EF553B",
           "#00cc96",
           "#ab63fa",
           "#FFA15A",
           "#19d3f3",
           "#FF6692",
           "#B6E880",
           "#FF97FF",
           "#FECB52"
          ],
          "font": {
           "color": "#2a3f5f"
          },
          "geo": {
           "bgcolor": "white",
           "lakecolor": "white",
           "landcolor": "#E5ECF6",
           "showlakes": true,
           "showland": true,
           "subunitcolor": "white"
          },
          "hoverlabel": {
           "align": "left"
          },
          "hovermode": "closest",
          "mapbox": {
           "style": "light"
          },
          "paper_bgcolor": "white",
          "plot_bgcolor": "#E5ECF6",
          "polar": {
           "angularaxis": {
            "gridcolor": "white",
            "linecolor": "white",
            "ticks": ""
           },
           "bgcolor": "#E5ECF6",
           "radialaxis": {
            "gridcolor": "white",
            "linecolor": "white",
            "ticks": ""
           }
          },
          "scene": {
           "xaxis": {
            "backgroundcolor": "#E5ECF6",
            "gridcolor": "white",
            "gridwidth": 2,
            "linecolor": "white",
            "showbackground": true,
            "ticks": "",
            "zerolinecolor": "white"
           },
           "yaxis": {
            "backgroundcolor": "#E5ECF6",
            "gridcolor": "white",
            "gridwidth": 2,
            "linecolor": "white",
            "showbackground": true,
            "ticks": "",
            "zerolinecolor": "white"
           },
           "zaxis": {
            "backgroundcolor": "#E5ECF6",
            "gridcolor": "white",
            "gridwidth": 2,
            "linecolor": "white",
            "showbackground": true,
            "ticks": "",
            "zerolinecolor": "white"
           }
          },
          "shapedefaults": {
           "line": {
            "color": "#2a3f5f"
           }
          },
          "ternary": {
           "aaxis": {
            "gridcolor": "white",
            "linecolor": "white",
            "ticks": ""
           },
           "baxis": {
            "gridcolor": "white",
            "linecolor": "white",
            "ticks": ""
           },
           "bgcolor": "#E5ECF6",
           "caxis": {
            "gridcolor": "white",
            "linecolor": "white",
            "ticks": ""
           }
          },
          "title": {
           "x": 0.05
          },
          "xaxis": {
           "automargin": true,
           "gridcolor": "white",
           "linecolor": "white",
           "ticks": "",
           "title": {
            "standoff": 15
           },
           "zerolinecolor": "white",
           "zerolinewidth": 2
          },
          "yaxis": {
           "automargin": true,
           "gridcolor": "white",
           "linecolor": "white",
           "ticks": "",
           "title": {
            "standoff": 15
           },
           "zerolinecolor": "white",
           "zerolinewidth": 2
          }
         }
        },
        "title": {
         "text": "Métricas das Random Forests, para diferentes horizontes de previsões futuras 'f', de maiores r2 e para o melhor 'n' "
        },
        "xaxis": {
         "anchor": "y",
         "domain": [
          0,
          1
         ]
        },
        "xaxis2": {
         "anchor": "y2",
         "domain": [
          0,
          1
         ]
        },
        "yaxis": {
         "anchor": "x",
         "domain": [
          0.575,
          1
         ],
         "range": [
          0.5,
          1
         ]
        },
        "yaxis2": {
         "anchor": "x2",
         "domain": [
          0,
          0.425
         ],
         "range": [
          0.5,
          1
         ]
        }
       }
      }
     },
     "metadata": {},
     "output_type": "display_data"
    }
   ],
   "source": [
    "from plotly.subplots import make_subplots\n",
    "import plotly.graph_objects as go\n",
    "\n",
    "# Custom labels for each subplot\n",
    "custom_labels_r2_2 = ['f=5 (n=8)', 'f=6 (n=7)', 'f=7 (n=6)', 'f=8 (n=5)']\n",
    "custom_labels_r2_1 = ['f=1 (n=6)', 'f=2 (n=2)', 'f=3 (n=5)', 'f=4 (n=4)']\n",
    "\n",
    "# custom_labels_r2_2 = ['f=5 & n=3', 'f=6 & n=2', 'f=7 & n=1', 'f=8 & n=7']\n",
    "# custom_labels_r2_1 = ['f=1 & n=7', 'f=2 & n=1', 'f=3 & n=5', 'f=4 & n=2']\n",
    "\n",
    "# Define colors for bars\n",
    "r2_color = 'darkblue'\n",
    "corr_color = 'purple'\n",
    "\n",
    "# Create subplots\n",
    "fig = make_subplots(rows=2, cols=1) # subplot_titles=(\"Custom Labels for n=5 to n=8\", \"Custom Labels for n=1 to n=4\")\n",
    "\n",
    "# Add traces to subplot 1\n",
    "fig.add_trace(go.Bar(\n",
    "    x=custom_labels_r2_1,\n",
    "    y=df_plt_1['metrics.r2'][:4],\n",
    "    text=df_plt_1['metrics.r2'][:4].apply(lambda x: f'{x:.3f}'),  \n",
    "    hovertemplate='%{y:.3f}',\n",
    "    name='r2',\n",
    "    legendgroup='r2_group',\n",
    "    marker=dict(color=r2_color)\n",
    "), row=1, col=1)\n",
    "\n",
    "fig.add_trace(go.Bar(\n",
    "    x=custom_labels_r2_1,\n",
    "    y=df_plt_1['metrics.corr'][:4],\n",
    "    text=df_plt_1['metrics.corr'][:4].apply(lambda x: f'{x:.3f}'),  \n",
    "    hovertemplate='%{y:.3f}',\n",
    "    name='Correlação',\n",
    "    legendgroup='correlation_group',\n",
    "    showlegend=False,\n",
    "    marker=dict(color=corr_color)\n",
    "), row=1, col=1)\n",
    "\n",
    "# Add traces to subplot 2\n",
    "fig.add_trace(go.Bar(\n",
    "    x=custom_labels_r2_2,\n",
    "    y=df_plt_1['metrics.r2'][4:],\n",
    "    text=df_plt_1['metrics.r2'][4:].apply(lambda x: f'{x:.3f}'),  \n",
    "    hovertemplate='%{y:.3f}',\n",
    "    name='r2',\n",
    "    legendgroup='r2_group',\n",
    "    showlegend=False,\n",
    "    marker=dict(color=r2_color)\n",
    "), row=2, col=1)\n",
    "\n",
    "fig.add_trace(go.Bar(\n",
    "    x=custom_labels_r2_2,\n",
    "    y=df_plt_1['metrics.corr'][4:],\n",
    "    text=df_plt_1['metrics.corr'][4:].apply(lambda x: f'{x:.3f}'),  \n",
    "    hovertemplate='%{y:.3f}',\n",
    "    name='Correlação',\n",
    "    legendgroup='correlation_group',\n",
    "    marker=dict(color=corr_color)\n",
    "), row=2, col=1)\n",
    "\n",
    "# Update layout\n",
    "fig.update_layout(\n",
    "    title=f\"Métricas {name_plots}, para diferentes horizontes de previsões futuras 'f', de maiores r2 e para o melhor 'n' \",\n",
    "    #xaxis=dict(title='Número de S.O Retroativas \"n\" a serem utilizadas durante o treinamento'),\n",
    "    barmode='group',\n",
    ")\n",
    "\n",
    "# Set the same y-axis range for both subplots\n",
    "fig.update_yaxes(range=[0.5, 1.0], row=1, col=1)\n",
    "fig.update_yaxes(range=[0.5, 1.0], row=2, col=1)\n",
    "\n",
    "# Add annotations\n",
    "fig.add_annotation(text=\"'n' = Número de S.O Retroativas de vazão observada e precipitação na bacia, a serem utilizadas durante o treinamento\",\n",
    "                   xref=\"paper\", yref=\"paper\",\n",
    "                   x=0.5, y=-0.18, showarrow=False)\n",
    "\n",
    "# Add annotations\n",
    "fig.add_annotation(text=\"'f' = Número da S.O Futura onde se prevê a vazão\",\n",
    "                   xref=\"paper\", yref=\"paper\",\n",
    "                   x=0.5, y=-0.25, showarrow=False)\n",
    "\n",
    "# Show the plot\n",
    "fig.show()\n"
   ]
  },
  {
   "cell_type": "code",
   "execution_count": 10,
   "metadata": {},
   "outputs": [
    {
     "data": {
      "application/vnd.plotly.v1+json": {
       "config": {
        "plotlyServerURL": "https://plot.ly"
       },
       "data": [
        {
         "hovertemplate": "%{y:.3f}",
         "legendgroup": "r2_group",
         "marker": {
          "color": "darkblue"
         },
         "name": "r2",
         "text": [
          "0.906",
          "0.846",
          "0.818",
          "0.803"
         ],
         "type": "bar",
         "x": [
          "f=1",
          "f=2",
          "f=3",
          "f=4"
         ],
         "xaxis": "x",
         "y": [
          0.9060411706767243,
          0.8462147996659712,
          0.8183951995078019,
          0.8029456010244106
         ],
         "yaxis": "y"
        },
        {
         "hovertemplate": "%{y:.3f}",
         "legendgroup": "corr_group",
         "marker": {
          "color": "purple"
         },
         "name": "Correlação",
         "showlegend": false,
         "text": [
          "0.954",
          "0.920",
          "0.907",
          "0.900"
         ],
         "type": "bar",
         "x": [
          "f=1",
          "f=2",
          "f=3",
          "f=4"
         ],
         "xaxis": "x",
         "y": [
          0.9538767565183367,
          0.9203557621868637,
          0.9066639372616931,
          0.9002520139268629
         ],
         "yaxis": "y"
        },
        {
         "hovertemplate": "%{y:.3f}",
         "legendgroup": "r2_group",
         "marker": {
          "color": "darkblue"
         },
         "name": "r2",
         "showlegend": false,
         "text": [
          "0.728",
          "0.746",
          "0.725",
          "0.706"
         ],
         "type": "bar",
         "x": [
          "f=5",
          "f=6",
          "f=7",
          "f=8"
         ],
         "xaxis": "x2",
         "y": [
          0.7279289034567742,
          0.7458818920419934,
          0.724607946652183,
          0.7059344181711371
         ],
         "yaxis": "y2"
        },
        {
         "hovertemplate": "%{y:.3f}",
         "legendgroup": "corr_group",
         "marker": {
          "color": "purple"
         },
         "name": "Correlação",
         "text": [
          "0.858",
          "0.866",
          "0.853",
          "0.842"
         ],
         "type": "bar",
         "x": [
          "f=5",
          "f=6",
          "f=7",
          "f=8"
         ],
         "xaxis": "x2",
         "y": [
          0.8584503232101269,
          0.8659902041696882,
          0.8530929555230382,
          0.8423684809881756
         ],
         "yaxis": "y2"
        }
       ],
       "layout": {
        "annotations": [
         {
          "showarrow": false,
          "text": "'n' = Número de S.O Retroativas de vazão observada e precipitação na bacia, a serem utilizadas durante o treinamento",
          "x": 0.5,
          "xref": "paper",
          "y": -0.18,
          "yref": "paper"
         },
         {
          "showarrow": false,
          "text": "'f' = Número da S.O Futura onde se prevê a vazão",
          "x": 0.5,
          "xref": "paper",
          "y": -0.25,
          "yref": "paper"
         }
        ],
        "barmode": "group",
        "template": {
         "data": {
          "bar": [
           {
            "error_x": {
             "color": "#2a3f5f"
            },
            "error_y": {
             "color": "#2a3f5f"
            },
            "marker": {
             "line": {
              "color": "#E5ECF6",
              "width": 0.5
             },
             "pattern": {
              "fillmode": "overlay",
              "size": 10,
              "solidity": 0.2
             }
            },
            "type": "bar"
           }
          ],
          "barpolar": [
           {
            "marker": {
             "line": {
              "color": "#E5ECF6",
              "width": 0.5
             },
             "pattern": {
              "fillmode": "overlay",
              "size": 10,
              "solidity": 0.2
             }
            },
            "type": "barpolar"
           }
          ],
          "carpet": [
           {
            "aaxis": {
             "endlinecolor": "#2a3f5f",
             "gridcolor": "white",
             "linecolor": "white",
             "minorgridcolor": "white",
             "startlinecolor": "#2a3f5f"
            },
            "baxis": {
             "endlinecolor": "#2a3f5f",
             "gridcolor": "white",
             "linecolor": "white",
             "minorgridcolor": "white",
             "startlinecolor": "#2a3f5f"
            },
            "type": "carpet"
           }
          ],
          "choropleth": [
           {
            "colorbar": {
             "outlinewidth": 0,
             "ticks": ""
            },
            "type": "choropleth"
           }
          ],
          "contour": [
           {
            "colorbar": {
             "outlinewidth": 0,
             "ticks": ""
            },
            "colorscale": [
             [
              0,
              "#0d0887"
             ],
             [
              0.1111111111111111,
              "#46039f"
             ],
             [
              0.2222222222222222,
              "#7201a8"
             ],
             [
              0.3333333333333333,
              "#9c179e"
             ],
             [
              0.4444444444444444,
              "#bd3786"
             ],
             [
              0.5555555555555556,
              "#d8576b"
             ],
             [
              0.6666666666666666,
              "#ed7953"
             ],
             [
              0.7777777777777778,
              "#fb9f3a"
             ],
             [
              0.8888888888888888,
              "#fdca26"
             ],
             [
              1,
              "#f0f921"
             ]
            ],
            "type": "contour"
           }
          ],
          "contourcarpet": [
           {
            "colorbar": {
             "outlinewidth": 0,
             "ticks": ""
            },
            "type": "contourcarpet"
           }
          ],
          "heatmap": [
           {
            "colorbar": {
             "outlinewidth": 0,
             "ticks": ""
            },
            "colorscale": [
             [
              0,
              "#0d0887"
             ],
             [
              0.1111111111111111,
              "#46039f"
             ],
             [
              0.2222222222222222,
              "#7201a8"
             ],
             [
              0.3333333333333333,
              "#9c179e"
             ],
             [
              0.4444444444444444,
              "#bd3786"
             ],
             [
              0.5555555555555556,
              "#d8576b"
             ],
             [
              0.6666666666666666,
              "#ed7953"
             ],
             [
              0.7777777777777778,
              "#fb9f3a"
             ],
             [
              0.8888888888888888,
              "#fdca26"
             ],
             [
              1,
              "#f0f921"
             ]
            ],
            "type": "heatmap"
           }
          ],
          "heatmapgl": [
           {
            "colorbar": {
             "outlinewidth": 0,
             "ticks": ""
            },
            "colorscale": [
             [
              0,
              "#0d0887"
             ],
             [
              0.1111111111111111,
              "#46039f"
             ],
             [
              0.2222222222222222,
              "#7201a8"
             ],
             [
              0.3333333333333333,
              "#9c179e"
             ],
             [
              0.4444444444444444,
              "#bd3786"
             ],
             [
              0.5555555555555556,
              "#d8576b"
             ],
             [
              0.6666666666666666,
              "#ed7953"
             ],
             [
              0.7777777777777778,
              "#fb9f3a"
             ],
             [
              0.8888888888888888,
              "#fdca26"
             ],
             [
              1,
              "#f0f921"
             ]
            ],
            "type": "heatmapgl"
           }
          ],
          "histogram": [
           {
            "marker": {
             "pattern": {
              "fillmode": "overlay",
              "size": 10,
              "solidity": 0.2
             }
            },
            "type": "histogram"
           }
          ],
          "histogram2d": [
           {
            "colorbar": {
             "outlinewidth": 0,
             "ticks": ""
            },
            "colorscale": [
             [
              0,
              "#0d0887"
             ],
             [
              0.1111111111111111,
              "#46039f"
             ],
             [
              0.2222222222222222,
              "#7201a8"
             ],
             [
              0.3333333333333333,
              "#9c179e"
             ],
             [
              0.4444444444444444,
              "#bd3786"
             ],
             [
              0.5555555555555556,
              "#d8576b"
             ],
             [
              0.6666666666666666,
              "#ed7953"
             ],
             [
              0.7777777777777778,
              "#fb9f3a"
             ],
             [
              0.8888888888888888,
              "#fdca26"
             ],
             [
              1,
              "#f0f921"
             ]
            ],
            "type": "histogram2d"
           }
          ],
          "histogram2dcontour": [
           {
            "colorbar": {
             "outlinewidth": 0,
             "ticks": ""
            },
            "colorscale": [
             [
              0,
              "#0d0887"
             ],
             [
              0.1111111111111111,
              "#46039f"
             ],
             [
              0.2222222222222222,
              "#7201a8"
             ],
             [
              0.3333333333333333,
              "#9c179e"
             ],
             [
              0.4444444444444444,
              "#bd3786"
             ],
             [
              0.5555555555555556,
              "#d8576b"
             ],
             [
              0.6666666666666666,
              "#ed7953"
             ],
             [
              0.7777777777777778,
              "#fb9f3a"
             ],
             [
              0.8888888888888888,
              "#fdca26"
             ],
             [
              1,
              "#f0f921"
             ]
            ],
            "type": "histogram2dcontour"
           }
          ],
          "mesh3d": [
           {
            "colorbar": {
             "outlinewidth": 0,
             "ticks": ""
            },
            "type": "mesh3d"
           }
          ],
          "parcoords": [
           {
            "line": {
             "colorbar": {
              "outlinewidth": 0,
              "ticks": ""
             }
            },
            "type": "parcoords"
           }
          ],
          "pie": [
           {
            "automargin": true,
            "type": "pie"
           }
          ],
          "scatter": [
           {
            "fillpattern": {
             "fillmode": "overlay",
             "size": 10,
             "solidity": 0.2
            },
            "type": "scatter"
           }
          ],
          "scatter3d": [
           {
            "line": {
             "colorbar": {
              "outlinewidth": 0,
              "ticks": ""
             }
            },
            "marker": {
             "colorbar": {
              "outlinewidth": 0,
              "ticks": ""
             }
            },
            "type": "scatter3d"
           }
          ],
          "scattercarpet": [
           {
            "marker": {
             "colorbar": {
              "outlinewidth": 0,
              "ticks": ""
             }
            },
            "type": "scattercarpet"
           }
          ],
          "scattergeo": [
           {
            "marker": {
             "colorbar": {
              "outlinewidth": 0,
              "ticks": ""
             }
            },
            "type": "scattergeo"
           }
          ],
          "scattergl": [
           {
            "marker": {
             "colorbar": {
              "outlinewidth": 0,
              "ticks": ""
             }
            },
            "type": "scattergl"
           }
          ],
          "scattermapbox": [
           {
            "marker": {
             "colorbar": {
              "outlinewidth": 0,
              "ticks": ""
             }
            },
            "type": "scattermapbox"
           }
          ],
          "scatterpolar": [
           {
            "marker": {
             "colorbar": {
              "outlinewidth": 0,
              "ticks": ""
             }
            },
            "type": "scatterpolar"
           }
          ],
          "scatterpolargl": [
           {
            "marker": {
             "colorbar": {
              "outlinewidth": 0,
              "ticks": ""
             }
            },
            "type": "scatterpolargl"
           }
          ],
          "scatterternary": [
           {
            "marker": {
             "colorbar": {
              "outlinewidth": 0,
              "ticks": ""
             }
            },
            "type": "scatterternary"
           }
          ],
          "surface": [
           {
            "colorbar": {
             "outlinewidth": 0,
             "ticks": ""
            },
            "colorscale": [
             [
              0,
              "#0d0887"
             ],
             [
              0.1111111111111111,
              "#46039f"
             ],
             [
              0.2222222222222222,
              "#7201a8"
             ],
             [
              0.3333333333333333,
              "#9c179e"
             ],
             [
              0.4444444444444444,
              "#bd3786"
             ],
             [
              0.5555555555555556,
              "#d8576b"
             ],
             [
              0.6666666666666666,
              "#ed7953"
             ],
             [
              0.7777777777777778,
              "#fb9f3a"
             ],
             [
              0.8888888888888888,
              "#fdca26"
             ],
             [
              1,
              "#f0f921"
             ]
            ],
            "type": "surface"
           }
          ],
          "table": [
           {
            "cells": {
             "fill": {
              "color": "#EBF0F8"
             },
             "line": {
              "color": "white"
             }
            },
            "header": {
             "fill": {
              "color": "#C8D4E3"
             },
             "line": {
              "color": "white"
             }
            },
            "type": "table"
           }
          ]
         },
         "layout": {
          "annotationdefaults": {
           "arrowcolor": "#2a3f5f",
           "arrowhead": 0,
           "arrowwidth": 1
          },
          "autotypenumbers": "strict",
          "coloraxis": {
           "colorbar": {
            "outlinewidth": 0,
            "ticks": ""
           }
          },
          "colorscale": {
           "diverging": [
            [
             0,
             "#8e0152"
            ],
            [
             0.1,
             "#c51b7d"
            ],
            [
             0.2,
             "#de77ae"
            ],
            [
             0.3,
             "#f1b6da"
            ],
            [
             0.4,
             "#fde0ef"
            ],
            [
             0.5,
             "#f7f7f7"
            ],
            [
             0.6,
             "#e6f5d0"
            ],
            [
             0.7,
             "#b8e186"
            ],
            [
             0.8,
             "#7fbc41"
            ],
            [
             0.9,
             "#4d9221"
            ],
            [
             1,
             "#276419"
            ]
           ],
           "sequential": [
            [
             0,
             "#0d0887"
            ],
            [
             0.1111111111111111,
             "#46039f"
            ],
            [
             0.2222222222222222,
             "#7201a8"
            ],
            [
             0.3333333333333333,
             "#9c179e"
            ],
            [
             0.4444444444444444,
             "#bd3786"
            ],
            [
             0.5555555555555556,
             "#d8576b"
            ],
            [
             0.6666666666666666,
             "#ed7953"
            ],
            [
             0.7777777777777778,
             "#fb9f3a"
            ],
            [
             0.8888888888888888,
             "#fdca26"
            ],
            [
             1,
             "#f0f921"
            ]
           ],
           "sequentialminus": [
            [
             0,
             "#0d0887"
            ],
            [
             0.1111111111111111,
             "#46039f"
            ],
            [
             0.2222222222222222,
             "#7201a8"
            ],
            [
             0.3333333333333333,
             "#9c179e"
            ],
            [
             0.4444444444444444,
             "#bd3786"
            ],
            [
             0.5555555555555556,
             "#d8576b"
            ],
            [
             0.6666666666666666,
             "#ed7953"
            ],
            [
             0.7777777777777778,
             "#fb9f3a"
            ],
            [
             0.8888888888888888,
             "#fdca26"
            ],
            [
             1,
             "#f0f921"
            ]
           ]
          },
          "colorway": [
           "#636efa",
           "#EF553B",
           "#00cc96",
           "#ab63fa",
           "#FFA15A",
           "#19d3f3",
           "#FF6692",
           "#B6E880",
           "#FF97FF",
           "#FECB52"
          ],
          "font": {
           "color": "#2a3f5f"
          },
          "geo": {
           "bgcolor": "white",
           "lakecolor": "white",
           "landcolor": "#E5ECF6",
           "showlakes": true,
           "showland": true,
           "subunitcolor": "white"
          },
          "hoverlabel": {
           "align": "left"
          },
          "hovermode": "closest",
          "mapbox": {
           "style": "light"
          },
          "paper_bgcolor": "white",
          "plot_bgcolor": "#E5ECF6",
          "polar": {
           "angularaxis": {
            "gridcolor": "white",
            "linecolor": "white",
            "ticks": ""
           },
           "bgcolor": "#E5ECF6",
           "radialaxis": {
            "gridcolor": "white",
            "linecolor": "white",
            "ticks": ""
           }
          },
          "scene": {
           "xaxis": {
            "backgroundcolor": "#E5ECF6",
            "gridcolor": "white",
            "gridwidth": 2,
            "linecolor": "white",
            "showbackground": true,
            "ticks": "",
            "zerolinecolor": "white"
           },
           "yaxis": {
            "backgroundcolor": "#E5ECF6",
            "gridcolor": "white",
            "gridwidth": 2,
            "linecolor": "white",
            "showbackground": true,
            "ticks": "",
            "zerolinecolor": "white"
           },
           "zaxis": {
            "backgroundcolor": "#E5ECF6",
            "gridcolor": "white",
            "gridwidth": 2,
            "linecolor": "white",
            "showbackground": true,
            "ticks": "",
            "zerolinecolor": "white"
           }
          },
          "shapedefaults": {
           "line": {
            "color": "#2a3f5f"
           }
          },
          "ternary": {
           "aaxis": {
            "gridcolor": "white",
            "linecolor": "white",
            "ticks": ""
           },
           "baxis": {
            "gridcolor": "white",
            "linecolor": "white",
            "ticks": ""
           },
           "bgcolor": "#E5ECF6",
           "caxis": {
            "gridcolor": "white",
            "linecolor": "white",
            "ticks": ""
           }
          },
          "title": {
           "x": 0.05
          },
          "xaxis": {
           "automargin": true,
           "gridcolor": "white",
           "linecolor": "white",
           "ticks": "",
           "title": {
            "standoff": 15
           },
           "zerolinecolor": "white",
           "zerolinewidth": 2
          },
          "yaxis": {
           "automargin": true,
           "gridcolor": "white",
           "linecolor": "white",
           "ticks": "",
           "title": {
            "standoff": 15
           },
           "zerolinecolor": "white",
           "zerolinewidth": 2
          }
         }
        },
        "title": {
         "text": "Métricas das Random Forests, para diferentes horizontes de previsões futuras 'f', de maiores r2 e para 'n'=4 (fixo) "
        },
        "xaxis": {
         "anchor": "y",
         "domain": [
          0,
          1
         ]
        },
        "xaxis2": {
         "anchor": "y2",
         "domain": [
          0,
          1
         ]
        },
        "yaxis": {
         "anchor": "x",
         "domain": [
          0.575,
          1
         ],
         "range": [
          0.5,
          1
         ]
        },
        "yaxis2": {
         "anchor": "x2",
         "domain": [
          0,
          0.425
         ],
         "range": [
          0.5,
          1
         ]
        }
       }
      }
     },
     "metadata": {},
     "output_type": "display_data"
    }
   ],
   "source": [
    "from plotly.subplots import make_subplots\n",
    "import plotly.graph_objects as go\n",
    "\n",
    "# Custom labels for each subplot\n",
    "custom_labels_r2_2 = ['f=5', 'f=6', 'f=7', 'f=8']\n",
    "custom_labels_r2_1 = ['f=1', 'f=2', 'f=3', 'f=4']\n",
    "\n",
    "# custom_labels_r2_2 = ['f=5 & n=3', 'f=6 & n=2', 'f=7 & n=1', 'f=8 & n=7']\n",
    "# custom_labels_r2_1 = ['f=1 & n=7', 'f=2 & n=1', 'f=3 & n=5', 'f=4 & n=2']\n",
    "\n",
    "\n",
    "# Define colors for bars\n",
    "r2_color = 'darkblue'\n",
    "corr_color = 'purple'\n",
    "\n",
    "# Create subplots\n",
    "fig = make_subplots(rows=2, cols=1) # subplot_titles=(\"Custom Labels for n=5 to n=8\", \"Custom Labels for n=1 to n=4\")\n",
    "\n",
    "# Add traces to subplot 1\n",
    "fig.add_trace(go.Bar(\n",
    "    x=custom_labels_r2_1,\n",
    "    y=df_plt_2['metrics.r2'][:4],\n",
    "    text=df_plt_2['metrics.r2'][:4].apply(lambda x: f'{x:.3f}'),  \n",
    "    hovertemplate='%{y:.3f}',\n",
    "    name='r2',\n",
    "    legendgroup='r2_group',\n",
    "    marker=dict(color=r2_color)\n",
    "), row=1, col=1)\n",
    "\n",
    "fig.add_trace(go.Bar(\n",
    "    x=custom_labels_r2_1,\n",
    "    y=df_plt_2['metrics.corr'][:4],\n",
    "    text=df_plt_2['metrics.corr'][:4].apply(lambda x: f'{x:.3f}'),  \n",
    "    hovertemplate='%{y:.3f}',\n",
    "    name='Correlação',\n",
    "    legendgroup='corr_group',\n",
    "    showlegend=False,\n",
    "    marker=dict(color=corr_color)\n",
    "), row=1, col=1)\n",
    "\n",
    "# Add traces to subplot 2\n",
    "fig.add_trace(go.Bar(\n",
    "    x=custom_labels_r2_2,\n",
    "    y=df_plt_2['metrics.r2'][4:],\n",
    "    text=df_plt_2['metrics.r2'][4:].apply(lambda x: f'{x:.3f}'),  \n",
    "    hovertemplate='%{y:.3f}',\n",
    "    name='r2',\n",
    "    legendgroup='r2_group',\n",
    "    showlegend=False,\n",
    "    marker=dict(color=r2_color)\n",
    "), row=2, col=1)\n",
    "\n",
    "fig.add_trace(go.Bar(\n",
    "    x=custom_labels_r2_2,\n",
    "    y=df_plt_2['metrics.corr'][4:],\n",
    "    text=df_plt_2['metrics.corr'][4:].apply(lambda x: f'{x:.3f}'),  \n",
    "    hovertemplate='%{y:.3f}',\n",
    "    name='Correlação',\n",
    "    legendgroup='corr_group',\n",
    "    marker=dict(color=corr_color)\n",
    "), row=2, col=1)\n",
    "\n",
    "# Update layout\n",
    "fig.update_layout(\n",
    "    title=f\"Métricas {name_plots}, para diferentes horizontes de previsões futuras 'f', de maiores r2 e para 'n'=4 (fixo) \",\n",
    "    #xaxis=dict(title='Número de S.O Retroativas \"n\" a serem utilizadas durante o treinamento'),\n",
    "    barmode='group',\n",
    ")\n",
    "\n",
    "# Set the same y-axis range for both subplots\n",
    "fig.update_yaxes(range=[0.5, 1.0], row=1, col=1)\n",
    "fig.update_yaxes(range=[0.5, 1.0], row=2, col=1)\n",
    "\n",
    "# Add annotations\n",
    "fig.add_annotation(text=\"'n' = Número de S.O Retroativas de vazão observada e precipitação na bacia, a serem utilizadas durante o treinamento\",\n",
    "                   xref=\"paper\", yref=\"paper\",\n",
    "                   x=0.5, y=-0.18, showarrow=False)\n",
    "\n",
    "# Add annotations\n",
    "fig.add_annotation(text=\"'f' = Número da S.O Futura onde se prevê a vazão\",\n",
    "                   xref=\"paper\", yref=\"paper\",\n",
    "                   x=0.5, y=-0.25, showarrow=False)\n",
    "\n",
    "# Show the plot\n",
    "fig.show()\n"
   ]
  },
  {
   "cell_type": "code",
   "execution_count": 11,
   "metadata": {},
   "outputs": [
    {
     "data": {
      "application/vnd.plotly.v1+json": {
       "config": {
        "plotlyServerURL": "https://plot.ly"
       },
       "data": [
        {
         "hovertemplate": "%{y:.3f}",
         "legendgroup": "mae_group",
         "marker": {
          "color": "maroon"
         },
         "name": "MAE",
         "text": [
          "6935.112",
          "8846.790",
          "9819.240",
          "10506.419"
         ],
         "type": "bar",
         "x": [
          "f=1",
          "f=2",
          "f=3",
          "f=4"
         ],
         "xaxis": "x",
         "y": [
          6935.112442105265,
          8846.789538755982,
          9819.240034449762,
          10506.419066346154
         ],
         "yaxis": "y"
        },
        {
         "hovertemplate": "%{y:.3f}",
         "legendgroup": "rmse_group",
         "marker": {
          "color": "orange"
         },
         "name": "RMSE",
         "showlegend": false,
         "text": [
          "10071.319",
          "12570.028",
          "13797.651",
          "14803.153"
         ],
         "type": "bar",
         "x": [
          "f=1",
          "f=2",
          "f=3",
          "f=4"
         ],
         "xaxis": "x",
         "y": [
          10071.318542398232,
          12570.027742425114,
          13797.651156542968,
          14803.153341832925
         ],
         "yaxis": "y"
        },
        {
         "hovertemplate": "%{y:.3f}",
         "legendgroup": "mae_group",
         "marker": {
          "color": "maroon"
         },
         "name": "MAE",
         "showlegend": false,
         "text": [
          "13012.645",
          "10937.084",
          "12092.966",
          "12072.300"
         ],
         "type": "bar",
         "x": [
          "f=5",
          "f=6",
          "f=7",
          "f=8"
         ],
         "xaxis": "x2",
         "y": [
          13012.644667307693,
          10937.084414423074,
          12092.965789423075,
          12072.299843910254
         ],
         "yaxis": "y2"
        },
        {
         "hovertemplate": "%{y:.3f}",
         "legendgroup": "rmse_group",
         "marker": {
          "color": "orange"
         },
         "name": "RMSE",
         "text": [
          "18857.726",
          "15655.931",
          "17618.695",
          "18183.344"
         ],
         "type": "bar",
         "x": [
          "f=5",
          "f=6",
          "f=7",
          "f=8"
         ],
         "xaxis": "x2",
         "y": [
          18857.72598297575,
          15655.931219049186,
          17618.695005032165,
          18183.343740659435
         ],
         "yaxis": "y2"
        }
       ],
       "layout": {
        "annotations": [
         {
          "showarrow": false,
          "text": "'n' = Número de S.O Retroativas de vazão observada e precipitação na bacia, a serem utilizadas durante o treinamento",
          "x": 0.5,
          "xref": "paper",
          "y": -0.18,
          "yref": "paper"
         },
         {
          "showarrow": false,
          "text": "'f' = Número da S.O Futura onde se prevê a vazão",
          "x": 0.5,
          "xref": "paper",
          "y": -0.25,
          "yref": "paper"
         }
        ],
        "barmode": "group",
        "template": {
         "data": {
          "bar": [
           {
            "error_x": {
             "color": "#2a3f5f"
            },
            "error_y": {
             "color": "#2a3f5f"
            },
            "marker": {
             "line": {
              "color": "#E5ECF6",
              "width": 0.5
             },
             "pattern": {
              "fillmode": "overlay",
              "size": 10,
              "solidity": 0.2
             }
            },
            "type": "bar"
           }
          ],
          "barpolar": [
           {
            "marker": {
             "line": {
              "color": "#E5ECF6",
              "width": 0.5
             },
             "pattern": {
              "fillmode": "overlay",
              "size": 10,
              "solidity": 0.2
             }
            },
            "type": "barpolar"
           }
          ],
          "carpet": [
           {
            "aaxis": {
             "endlinecolor": "#2a3f5f",
             "gridcolor": "white",
             "linecolor": "white",
             "minorgridcolor": "white",
             "startlinecolor": "#2a3f5f"
            },
            "baxis": {
             "endlinecolor": "#2a3f5f",
             "gridcolor": "white",
             "linecolor": "white",
             "minorgridcolor": "white",
             "startlinecolor": "#2a3f5f"
            },
            "type": "carpet"
           }
          ],
          "choropleth": [
           {
            "colorbar": {
             "outlinewidth": 0,
             "ticks": ""
            },
            "type": "choropleth"
           }
          ],
          "contour": [
           {
            "colorbar": {
             "outlinewidth": 0,
             "ticks": ""
            },
            "colorscale": [
             [
              0,
              "#0d0887"
             ],
             [
              0.1111111111111111,
              "#46039f"
             ],
             [
              0.2222222222222222,
              "#7201a8"
             ],
             [
              0.3333333333333333,
              "#9c179e"
             ],
             [
              0.4444444444444444,
              "#bd3786"
             ],
             [
              0.5555555555555556,
              "#d8576b"
             ],
             [
              0.6666666666666666,
              "#ed7953"
             ],
             [
              0.7777777777777778,
              "#fb9f3a"
             ],
             [
              0.8888888888888888,
              "#fdca26"
             ],
             [
              1,
              "#f0f921"
             ]
            ],
            "type": "contour"
           }
          ],
          "contourcarpet": [
           {
            "colorbar": {
             "outlinewidth": 0,
             "ticks": ""
            },
            "type": "contourcarpet"
           }
          ],
          "heatmap": [
           {
            "colorbar": {
             "outlinewidth": 0,
             "ticks": ""
            },
            "colorscale": [
             [
              0,
              "#0d0887"
             ],
             [
              0.1111111111111111,
              "#46039f"
             ],
             [
              0.2222222222222222,
              "#7201a8"
             ],
             [
              0.3333333333333333,
              "#9c179e"
             ],
             [
              0.4444444444444444,
              "#bd3786"
             ],
             [
              0.5555555555555556,
              "#d8576b"
             ],
             [
              0.6666666666666666,
              "#ed7953"
             ],
             [
              0.7777777777777778,
              "#fb9f3a"
             ],
             [
              0.8888888888888888,
              "#fdca26"
             ],
             [
              1,
              "#f0f921"
             ]
            ],
            "type": "heatmap"
           }
          ],
          "heatmapgl": [
           {
            "colorbar": {
             "outlinewidth": 0,
             "ticks": ""
            },
            "colorscale": [
             [
              0,
              "#0d0887"
             ],
             [
              0.1111111111111111,
              "#46039f"
             ],
             [
              0.2222222222222222,
              "#7201a8"
             ],
             [
              0.3333333333333333,
              "#9c179e"
             ],
             [
              0.4444444444444444,
              "#bd3786"
             ],
             [
              0.5555555555555556,
              "#d8576b"
             ],
             [
              0.6666666666666666,
              "#ed7953"
             ],
             [
              0.7777777777777778,
              "#fb9f3a"
             ],
             [
              0.8888888888888888,
              "#fdca26"
             ],
             [
              1,
              "#f0f921"
             ]
            ],
            "type": "heatmapgl"
           }
          ],
          "histogram": [
           {
            "marker": {
             "pattern": {
              "fillmode": "overlay",
              "size": 10,
              "solidity": 0.2
             }
            },
            "type": "histogram"
           }
          ],
          "histogram2d": [
           {
            "colorbar": {
             "outlinewidth": 0,
             "ticks": ""
            },
            "colorscale": [
             [
              0,
              "#0d0887"
             ],
             [
              0.1111111111111111,
              "#46039f"
             ],
             [
              0.2222222222222222,
              "#7201a8"
             ],
             [
              0.3333333333333333,
              "#9c179e"
             ],
             [
              0.4444444444444444,
              "#bd3786"
             ],
             [
              0.5555555555555556,
              "#d8576b"
             ],
             [
              0.6666666666666666,
              "#ed7953"
             ],
             [
              0.7777777777777778,
              "#fb9f3a"
             ],
             [
              0.8888888888888888,
              "#fdca26"
             ],
             [
              1,
              "#f0f921"
             ]
            ],
            "type": "histogram2d"
           }
          ],
          "histogram2dcontour": [
           {
            "colorbar": {
             "outlinewidth": 0,
             "ticks": ""
            },
            "colorscale": [
             [
              0,
              "#0d0887"
             ],
             [
              0.1111111111111111,
              "#46039f"
             ],
             [
              0.2222222222222222,
              "#7201a8"
             ],
             [
              0.3333333333333333,
              "#9c179e"
             ],
             [
              0.4444444444444444,
              "#bd3786"
             ],
             [
              0.5555555555555556,
              "#d8576b"
             ],
             [
              0.6666666666666666,
              "#ed7953"
             ],
             [
              0.7777777777777778,
              "#fb9f3a"
             ],
             [
              0.8888888888888888,
              "#fdca26"
             ],
             [
              1,
              "#f0f921"
             ]
            ],
            "type": "histogram2dcontour"
           }
          ],
          "mesh3d": [
           {
            "colorbar": {
             "outlinewidth": 0,
             "ticks": ""
            },
            "type": "mesh3d"
           }
          ],
          "parcoords": [
           {
            "line": {
             "colorbar": {
              "outlinewidth": 0,
              "ticks": ""
             }
            },
            "type": "parcoords"
           }
          ],
          "pie": [
           {
            "automargin": true,
            "type": "pie"
           }
          ],
          "scatter": [
           {
            "fillpattern": {
             "fillmode": "overlay",
             "size": 10,
             "solidity": 0.2
            },
            "type": "scatter"
           }
          ],
          "scatter3d": [
           {
            "line": {
             "colorbar": {
              "outlinewidth": 0,
              "ticks": ""
             }
            },
            "marker": {
             "colorbar": {
              "outlinewidth": 0,
              "ticks": ""
             }
            },
            "type": "scatter3d"
           }
          ],
          "scattercarpet": [
           {
            "marker": {
             "colorbar": {
              "outlinewidth": 0,
              "ticks": ""
             }
            },
            "type": "scattercarpet"
           }
          ],
          "scattergeo": [
           {
            "marker": {
             "colorbar": {
              "outlinewidth": 0,
              "ticks": ""
             }
            },
            "type": "scattergeo"
           }
          ],
          "scattergl": [
           {
            "marker": {
             "colorbar": {
              "outlinewidth": 0,
              "ticks": ""
             }
            },
            "type": "scattergl"
           }
          ],
          "scattermapbox": [
           {
            "marker": {
             "colorbar": {
              "outlinewidth": 0,
              "ticks": ""
             }
            },
            "type": "scattermapbox"
           }
          ],
          "scatterpolar": [
           {
            "marker": {
             "colorbar": {
              "outlinewidth": 0,
              "ticks": ""
             }
            },
            "type": "scatterpolar"
           }
          ],
          "scatterpolargl": [
           {
            "marker": {
             "colorbar": {
              "outlinewidth": 0,
              "ticks": ""
             }
            },
            "type": "scatterpolargl"
           }
          ],
          "scatterternary": [
           {
            "marker": {
             "colorbar": {
              "outlinewidth": 0,
              "ticks": ""
             }
            },
            "type": "scatterternary"
           }
          ],
          "surface": [
           {
            "colorbar": {
             "outlinewidth": 0,
             "ticks": ""
            },
            "colorscale": [
             [
              0,
              "#0d0887"
             ],
             [
              0.1111111111111111,
              "#46039f"
             ],
             [
              0.2222222222222222,
              "#7201a8"
             ],
             [
              0.3333333333333333,
              "#9c179e"
             ],
             [
              0.4444444444444444,
              "#bd3786"
             ],
             [
              0.5555555555555556,
              "#d8576b"
             ],
             [
              0.6666666666666666,
              "#ed7953"
             ],
             [
              0.7777777777777778,
              "#fb9f3a"
             ],
             [
              0.8888888888888888,
              "#fdca26"
             ],
             [
              1,
              "#f0f921"
             ]
            ],
            "type": "surface"
           }
          ],
          "table": [
           {
            "cells": {
             "fill": {
              "color": "#EBF0F8"
             },
             "line": {
              "color": "white"
             }
            },
            "header": {
             "fill": {
              "color": "#C8D4E3"
             },
             "line": {
              "color": "white"
             }
            },
            "type": "table"
           }
          ]
         },
         "layout": {
          "annotationdefaults": {
           "arrowcolor": "#2a3f5f",
           "arrowhead": 0,
           "arrowwidth": 1
          },
          "autotypenumbers": "strict",
          "coloraxis": {
           "colorbar": {
            "outlinewidth": 0,
            "ticks": ""
           }
          },
          "colorscale": {
           "diverging": [
            [
             0,
             "#8e0152"
            ],
            [
             0.1,
             "#c51b7d"
            ],
            [
             0.2,
             "#de77ae"
            ],
            [
             0.3,
             "#f1b6da"
            ],
            [
             0.4,
             "#fde0ef"
            ],
            [
             0.5,
             "#f7f7f7"
            ],
            [
             0.6,
             "#e6f5d0"
            ],
            [
             0.7,
             "#b8e186"
            ],
            [
             0.8,
             "#7fbc41"
            ],
            [
             0.9,
             "#4d9221"
            ],
            [
             1,
             "#276419"
            ]
           ],
           "sequential": [
            [
             0,
             "#0d0887"
            ],
            [
             0.1111111111111111,
             "#46039f"
            ],
            [
             0.2222222222222222,
             "#7201a8"
            ],
            [
             0.3333333333333333,
             "#9c179e"
            ],
            [
             0.4444444444444444,
             "#bd3786"
            ],
            [
             0.5555555555555556,
             "#d8576b"
            ],
            [
             0.6666666666666666,
             "#ed7953"
            ],
            [
             0.7777777777777778,
             "#fb9f3a"
            ],
            [
             0.8888888888888888,
             "#fdca26"
            ],
            [
             1,
             "#f0f921"
            ]
           ],
           "sequentialminus": [
            [
             0,
             "#0d0887"
            ],
            [
             0.1111111111111111,
             "#46039f"
            ],
            [
             0.2222222222222222,
             "#7201a8"
            ],
            [
             0.3333333333333333,
             "#9c179e"
            ],
            [
             0.4444444444444444,
             "#bd3786"
            ],
            [
             0.5555555555555556,
             "#d8576b"
            ],
            [
             0.6666666666666666,
             "#ed7953"
            ],
            [
             0.7777777777777778,
             "#fb9f3a"
            ],
            [
             0.8888888888888888,
             "#fdca26"
            ],
            [
             1,
             "#f0f921"
            ]
           ]
          },
          "colorway": [
           "#636efa",
           "#EF553B",
           "#00cc96",
           "#ab63fa",
           "#FFA15A",
           "#19d3f3",
           "#FF6692",
           "#B6E880",
           "#FF97FF",
           "#FECB52"
          ],
          "font": {
           "color": "#2a3f5f"
          },
          "geo": {
           "bgcolor": "white",
           "lakecolor": "white",
           "landcolor": "#E5ECF6",
           "showlakes": true,
           "showland": true,
           "subunitcolor": "white"
          },
          "hoverlabel": {
           "align": "left"
          },
          "hovermode": "closest",
          "mapbox": {
           "style": "light"
          },
          "paper_bgcolor": "white",
          "plot_bgcolor": "#E5ECF6",
          "polar": {
           "angularaxis": {
            "gridcolor": "white",
            "linecolor": "white",
            "ticks": ""
           },
           "bgcolor": "#E5ECF6",
           "radialaxis": {
            "gridcolor": "white",
            "linecolor": "white",
            "ticks": ""
           }
          },
          "scene": {
           "xaxis": {
            "backgroundcolor": "#E5ECF6",
            "gridcolor": "white",
            "gridwidth": 2,
            "linecolor": "white",
            "showbackground": true,
            "ticks": "",
            "zerolinecolor": "white"
           },
           "yaxis": {
            "backgroundcolor": "#E5ECF6",
            "gridcolor": "white",
            "gridwidth": 2,
            "linecolor": "white",
            "showbackground": true,
            "ticks": "",
            "zerolinecolor": "white"
           },
           "zaxis": {
            "backgroundcolor": "#E5ECF6",
            "gridcolor": "white",
            "gridwidth": 2,
            "linecolor": "white",
            "showbackground": true,
            "ticks": "",
            "zerolinecolor": "white"
           }
          },
          "shapedefaults": {
           "line": {
            "color": "#2a3f5f"
           }
          },
          "ternary": {
           "aaxis": {
            "gridcolor": "white",
            "linecolor": "white",
            "ticks": ""
           },
           "baxis": {
            "gridcolor": "white",
            "linecolor": "white",
            "ticks": ""
           },
           "bgcolor": "#E5ECF6",
           "caxis": {
            "gridcolor": "white",
            "linecolor": "white",
            "ticks": ""
           }
          },
          "title": {
           "x": 0.05
          },
          "xaxis": {
           "automargin": true,
           "gridcolor": "white",
           "linecolor": "white",
           "ticks": "",
           "title": {
            "standoff": 15
           },
           "zerolinecolor": "white",
           "zerolinewidth": 2
          },
          "yaxis": {
           "automargin": true,
           "gridcolor": "white",
           "linecolor": "white",
           "ticks": "",
           "title": {
            "standoff": 15
           },
           "zerolinecolor": "white",
           "zerolinewidth": 2
          }
         }
        },
        "title": {
         "text": "Métricas das Random Forests, para diferentes horizontes de previsões futuras 'f', de maiores r2 e para 'n'=4 (fixo) "
        },
        "xaxis": {
         "anchor": "y",
         "domain": [
          0,
          1
         ]
        },
        "xaxis2": {
         "anchor": "y2",
         "domain": [
          0,
          1
         ]
        },
        "yaxis": {
         "anchor": "x",
         "domain": [
          0.575,
          1
         ],
         "range": [
          0,
          25000
         ]
        },
        "yaxis2": {
         "anchor": "x2",
         "domain": [
          0,
          0.425
         ],
         "range": [
          0,
          25000
         ]
        }
       }
      }
     },
     "metadata": {},
     "output_type": "display_data"
    }
   ],
   "source": [
    "from plotly.subplots import make_subplots\n",
    "import plotly.graph_objects as go\n",
    "\n",
    "# Custom labels for each subplot\n",
    "custom_labels_r2_2 = ['f=5', 'f=6', 'f=7', 'f=8']\n",
    "custom_labels_r2_1 = ['f=1', 'f=2', 'f=3', 'f=4']\n",
    "\n",
    "# custom_labels_r2_2 = ['f=5 & n=3', 'f=6 & n=2', 'f=7 & n=1', 'f=8 & n=7']\n",
    "# custom_labels_r2_1 = ['f=1 & n=7', 'f=2 & n=1', 'f=3 & n=5', 'f=4 & n=2']\n",
    "\n",
    "\n",
    "# Define colors for bars\n",
    "r2_color = 'maroon'\n",
    "corr_color = 'orange'\n",
    "\n",
    "# Create subplots\n",
    "fig = make_subplots(rows=2, cols=1) # subplot_titles=(\"Custom Labels for n=5 to n=8\", \"Custom Labels for n=1 to n=4\")\n",
    "\n",
    "# Add traces to subplot 1\n",
    "fig.add_trace(go.Bar(\n",
    "    x=custom_labels_r2_1,\n",
    "    y=df_plt_2['metrics.mae'][:4],\n",
    "    text=df_plt_2['metrics.mae'][:4].apply(lambda x: f'{x:.3f}'),  \n",
    "    hovertemplate='%{y:.3f}',\n",
    "    name='MAE',\n",
    "    legendgroup='mae_group',\n",
    "    marker=dict(color=r2_color)\n",
    "), row=1, col=1)\n",
    "\n",
    "fig.add_trace(go.Bar(\n",
    "    x=custom_labels_r2_1,\n",
    "    y=df_plt_2['metrics.rmse'][:4],\n",
    "    text=df_plt_2['metrics.rmse'][:4].apply(lambda x: f'{x:.3f}'),  \n",
    "    hovertemplate='%{y:.3f}',\n",
    "    name='RMSE',\n",
    "    legendgroup='rmse_group',\n",
    "    showlegend=False,\n",
    "    marker=dict(color=corr_color)\n",
    "), row=1, col=1)\n",
    "\n",
    "# Add traces to subplot 2\n",
    "fig.add_trace(go.Bar(\n",
    "    x=custom_labels_r2_2,\n",
    "    y=df_plt_2['metrics.mae'][4:],\n",
    "    text=df_plt_2['metrics.mae'][4:].apply(lambda x: f'{x:.3f}'),  \n",
    "    hovertemplate='%{y:.3f}',\n",
    "    name='MAE',\n",
    "    legendgroup='mae_group',\n",
    "    showlegend=False,\n",
    "    marker=dict(color=r2_color)\n",
    "), row=2, col=1)\n",
    "\n",
    "fig.add_trace(go.Bar(\n",
    "    x=custom_labels_r2_2,\n",
    "    y=df_plt_2['metrics.rmse'][4:],\n",
    "    text=df_plt_2['metrics.rmse'][4:].apply(lambda x: f'{x:.3f}'),  \n",
    "    hovertemplate='%{y:.3f}',\n",
    "    name='RMSE',\n",
    "    legendgroup='rmse_group',\n",
    "    marker=dict(color=corr_color)\n",
    "), row=2, col=1)\n",
    "\n",
    "# Update layout\n",
    "fig.update_layout(\n",
    "    title=f\"Métricas {name_plots}, para diferentes horizontes de previsões futuras 'f', de maiores r2 e para 'n'=4 (fixo) \",\n",
    "    #xaxis=dict(title='Número de S.O Retroativas \"n\" a serem utilizadas durante o treinamento'),\n",
    "    barmode='group',\n",
    ")\n",
    "\n",
    "# Set the same y-axis range for both subplots\n",
    "fig.update_yaxes(range=[0, 25000], row=1, col=1)\n",
    "fig.update_yaxes(range=[0, 25000], row=2, col=1)\n",
    "\n",
    "# Add annotations\n",
    "fig.add_annotation(text=\"'n' = Número de S.O Retroativas de vazão observada e precipitação na bacia, a serem utilizadas durante o treinamento\",\n",
    "                   xref=\"paper\", yref=\"paper\",\n",
    "                   x=0.5, y=-0.18, showarrow=False)\n",
    "\n",
    "# Add annotations\n",
    "fig.add_annotation(text=\"'f' = Número da S.O Futura onde se prevê a vazão\",\n",
    "                   xref=\"paper\", yref=\"paper\",\n",
    "                   x=0.5, y=-0.25, showarrow=False)\n",
    "\n",
    "# Show the plot\n",
    "fig.show()\n"
   ]
  },
  {
   "cell_type": "code",
   "execution_count": null,
   "metadata": {},
   "outputs": [],
   "source": []
  }
 ],
 "metadata": {
  "kernelspec": {
   "display_name": ".euros",
   "language": "python",
   "name": ".euros"
  },
  "language_info": {
   "codemirror_mode": {
    "name": "ipython",
    "version": 3
   },
   "file_extension": ".py",
   "mimetype": "text/x-python",
   "name": "python",
   "nbconvert_exporter": "python",
   "pygments_lexer": "ipython3",
   "version": "3.10.12"
  },
  "orig_nbformat": 4
 },
 "nbformat": 4,
 "nbformat_minor": 2
}
