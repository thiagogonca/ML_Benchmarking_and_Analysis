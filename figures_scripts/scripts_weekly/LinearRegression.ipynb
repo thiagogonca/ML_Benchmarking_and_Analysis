{
 "cells": [
  {
   "cell_type": "code",
   "execution_count": 1,
   "metadata": {},
   "outputs": [
    {
     "name": "stderr",
     "output_type": "stream",
     "text": [
      "/usr/lib/python3/dist-packages/scipy/__init__.py:146: UserWarning: A NumPy version >=1.17.3 and <1.25.0 is required for this version of SciPy (detected version 1.26.3\n",
      "  warnings.warn(f\"A NumPy version >={np_minversion} and <{np_maxversion}\"\n"
     ]
    }
   ],
   "source": [
    "import pandas as pd\n",
    "from sklearn.preprocessing import MinMaxScaler\n",
    "import numpy as np\n",
    "from sklearn.model_selection import train_test_split\n",
    "from sklearn.tree import DecisionTreeRegressor\n",
    "from sklearn.metrics import mean_squared_error, mean_absolute_error, r2_score\n",
    "import os\n",
    "import mlflow\n",
    "import datetime\n",
    "from itertools import product\n",
    "import plotly.graph_objects as go"
   ]
  },
  {
   "cell_type": "markdown",
   "metadata": {},
   "source": [
    "- colocar r2, mae e rmse do modelo de maior r2 apenas! (no geral os 3 andam juntos, informar também qual \"n\" que gerou esse modelo) para cada f=1,...f=4 em um subplot e f=5,...f=8 no outro subplot\n",
    "- mesma coisa porém para \"n\" fixo em 4"
   ]
  },
  {
   "cell_type": "markdown",
   "metadata": {},
   "source": [
    "#### Melhor R2 (qualquer \"n\")"
   ]
  },
  {
   "cell_type": "code",
   "execution_count": 2,
   "metadata": {},
   "outputs": [],
   "source": [
    "name_plots = 'dos modelos de Regressão Linear'\n",
    "name_experiment = \"Itaipu_Benchmarking_Vazao_LR_V2\""
   ]
  },
  {
   "cell_type": "code",
   "execution_count": 3,
   "metadata": {},
   "outputs": [
    {
     "data": {
      "text/plain": [
       "<Experiment: artifact_location='file:///home/thiago/2rp/this_is_fine/euros/mlruns/12', creation_time=1707866418849, experiment_id='12', last_update_time=1707866418849, lifecycle_stage='active', name='Itaipu_Benchmarking_Vazao_LR_V2', tags={}>"
      ]
     },
     "execution_count": 3,
     "metadata": {},
     "output_type": "execute_result"
    }
   ],
   "source": [
    "mlflow.set_tracking_uri(\"http://localhost:5000\")\n",
    "mlflow.set_experiment(name_experiment)"
   ]
  },
  {
   "cell_type": "code",
   "execution_count": 4,
   "metadata": {},
   "outputs": [],
   "source": [
    "drop_columns = ['run_id','experiment_id', 'status','artifact_uri', \n",
    "                'start_time', 'end_time', 'tags.mlflow.source.type', \n",
    "                'tags.mlflow.source.name', 'params.model','params.label',\n",
    "                'tags.mlflow.user']"
   ]
  },
  {
   "cell_type": "code",
   "execution_count": 5,
   "metadata": {},
   "outputs": [],
   "source": [
    "f_so_pred_values = range(1,8+1)\n",
    "metric = 'r2'\n",
    "\n",
    "# Initialize an empty list to store the dataframes\n",
    "dfs = []\n",
    "\n",
    "# Iterate over each f_so_pred value\n",
    "for f_so_pred in f_so_pred_values:\n",
    "    # Search runs for the current f_so_pred value\n",
    "    df = mlflow.search_runs(filter_string=f\"params.f_so_pred = '{f_so_pred}'\", order_by=[f'metrics.{metric} DESC'])\n",
    "    \n",
    "    # Drop unnecessary columns\n",
    "    df = df.drop(columns=drop_columns).iloc[:1]\n",
    "    \n",
    "    # Append the dataframe to the list\n",
    "    dfs.append(df)\n",
    "\n",
    "# Concatenate the dataframes along the rows\n",
    "df_plt_1 = pd.concat(dfs)"
   ]
  },
  {
   "cell_type": "code",
   "execution_count": 6,
   "metadata": {},
   "outputs": [
    {
     "data": {
      "text/html": [
       "<div>\n",
       "<style scoped>\n",
       "    .dataframe tbody tr th:only-of-type {\n",
       "        vertical-align: middle;\n",
       "    }\n",
       "\n",
       "    .dataframe tbody tr th {\n",
       "        vertical-align: top;\n",
       "    }\n",
       "\n",
       "    .dataframe thead th {\n",
       "        text-align: right;\n",
       "    }\n",
       "</style>\n",
       "<table border=\"1\" class=\"dataframe\">\n",
       "  <thead>\n",
       "    <tr style=\"text-align: right;\">\n",
       "      <th></th>\n",
       "      <th>metrics.rmse</th>\n",
       "      <th>metrics.corr</th>\n",
       "      <th>metrics.mae</th>\n",
       "      <th>metrics.r2</th>\n",
       "      <th>params.fit_intercept</th>\n",
       "      <th>params.f_so_pred</th>\n",
       "      <th>params.n_so_retro</th>\n",
       "      <th>params.seed</th>\n",
       "      <th>tags.mlflow.runName</th>\n",
       "      <th>tags.run_name</th>\n",
       "    </tr>\n",
       "  </thead>\n",
       "  <tbody>\n",
       "    <tr>\n",
       "      <th>0</th>\n",
       "      <td>9579.446492</td>\n",
       "      <td>0.958405</td>\n",
       "      <td>7200.373530</td>\n",
       "      <td>0.917480</td>\n",
       "      <td>False</td>\n",
       "      <td>1</td>\n",
       "      <td>7</td>\n",
       "      <td>21</td>\n",
       "      <td>linear_regression_n=7_f=1_fitIn=False_</td>\n",
       "      <td>linear_regression_n=7_f=1_fitIn=False_</td>\n",
       "    </tr>\n",
       "    <tr>\n",
       "      <th>0</th>\n",
       "      <td>12226.117003</td>\n",
       "      <td>0.924495</td>\n",
       "      <td>8695.027524</td>\n",
       "      <td>0.854515</td>\n",
       "      <td>True</td>\n",
       "      <td>2</td>\n",
       "      <td>4</td>\n",
       "      <td>21</td>\n",
       "      <td>linear_regression_n=4_f=2_fitIn=True_</td>\n",
       "      <td>linear_regression_n=4_f=2_fitIn=True_</td>\n",
       "    </tr>\n",
       "    <tr>\n",
       "      <th>0</th>\n",
       "      <td>15980.304726</td>\n",
       "      <td>0.897617</td>\n",
       "      <td>10889.577932</td>\n",
       "      <td>0.804623</td>\n",
       "      <td>True</td>\n",
       "      <td>3</td>\n",
       "      <td>6</td>\n",
       "      <td>21</td>\n",
       "      <td>linear_regression_n=6_f=3_fitIn=True_</td>\n",
       "      <td>linear_regression_n=6_f=3_fitIn=True_</td>\n",
       "    </tr>\n",
       "    <tr>\n",
       "      <th>0</th>\n",
       "      <td>14800.397090</td>\n",
       "      <td>0.897471</td>\n",
       "      <td>10673.862972</td>\n",
       "      <td>0.805176</td>\n",
       "      <td>True</td>\n",
       "      <td>4</td>\n",
       "      <td>8</td>\n",
       "      <td>21</td>\n",
       "      <td>linear_regression_n=8_f=4_fitIn=True_</td>\n",
       "      <td>linear_regression_n=8_f=4_fitIn=True_</td>\n",
       "    </tr>\n",
       "    <tr>\n",
       "      <th>0</th>\n",
       "      <td>14636.999133</td>\n",
       "      <td>0.897026</td>\n",
       "      <td>10233.738226</td>\n",
       "      <td>0.803759</td>\n",
       "      <td>True</td>\n",
       "      <td>5</td>\n",
       "      <td>8</td>\n",
       "      <td>21</td>\n",
       "      <td>linear_regression_n=8_f=5_fitIn=True_</td>\n",
       "      <td>linear_regression_n=8_f=5_fitIn=True_</td>\n",
       "    </tr>\n",
       "    <tr>\n",
       "      <th>0</th>\n",
       "      <td>15467.648485</td>\n",
       "      <td>0.883895</td>\n",
       "      <td>10582.144686</td>\n",
       "      <td>0.780853</td>\n",
       "      <td>True</td>\n",
       "      <td>6</td>\n",
       "      <td>7</td>\n",
       "      <td>21</td>\n",
       "      <td>linear_regression_n=7_f=6_fitIn=True_</td>\n",
       "      <td>linear_regression_n=7_f=6_fitIn=True_</td>\n",
       "    </tr>\n",
       "    <tr>\n",
       "      <th>0</th>\n",
       "      <td>16026.215752</td>\n",
       "      <td>0.874617</td>\n",
       "      <td>11135.675515</td>\n",
       "      <td>0.764740</td>\n",
       "      <td>True</td>\n",
       "      <td>7</td>\n",
       "      <td>6</td>\n",
       "      <td>21</td>\n",
       "      <td>linear_regression_n=6_f=7_fitIn=True_</td>\n",
       "      <td>linear_regression_n=6_f=7_fitIn=True_</td>\n",
       "    </tr>\n",
       "    <tr>\n",
       "      <th>0</th>\n",
       "      <td>16511.143465</td>\n",
       "      <td>0.866559</td>\n",
       "      <td>11590.873108</td>\n",
       "      <td>0.750287</td>\n",
       "      <td>True</td>\n",
       "      <td>8</td>\n",
       "      <td>5</td>\n",
       "      <td>21</td>\n",
       "      <td>linear_regression_n=5_f=8_fitIn=True_</td>\n",
       "      <td>linear_regression_n=5_f=8_fitIn=True_</td>\n",
       "    </tr>\n",
       "  </tbody>\n",
       "</table>\n",
       "</div>"
      ],
      "text/plain": [
       "   metrics.rmse  metrics.corr   metrics.mae  metrics.r2 params.fit_intercept  \\\n",
       "0   9579.446492      0.958405   7200.373530    0.917480                False   \n",
       "0  12226.117003      0.924495   8695.027524    0.854515                 True   \n",
       "0  15980.304726      0.897617  10889.577932    0.804623                 True   \n",
       "0  14800.397090      0.897471  10673.862972    0.805176                 True   \n",
       "0  14636.999133      0.897026  10233.738226    0.803759                 True   \n",
       "0  15467.648485      0.883895  10582.144686    0.780853                 True   \n",
       "0  16026.215752      0.874617  11135.675515    0.764740                 True   \n",
       "0  16511.143465      0.866559  11590.873108    0.750287                 True   \n",
       "\n",
       "  params.f_so_pred params.n_so_retro params.seed  \\\n",
       "0                1                 7          21   \n",
       "0                2                 4          21   \n",
       "0                3                 6          21   \n",
       "0                4                 8          21   \n",
       "0                5                 8          21   \n",
       "0                6                 7          21   \n",
       "0                7                 6          21   \n",
       "0                8                 5          21   \n",
       "\n",
       "                      tags.mlflow.runName  \\\n",
       "0  linear_regression_n=7_f=1_fitIn=False_   \n",
       "0   linear_regression_n=4_f=2_fitIn=True_   \n",
       "0   linear_regression_n=6_f=3_fitIn=True_   \n",
       "0   linear_regression_n=8_f=4_fitIn=True_   \n",
       "0   linear_regression_n=8_f=5_fitIn=True_   \n",
       "0   linear_regression_n=7_f=6_fitIn=True_   \n",
       "0   linear_regression_n=6_f=7_fitIn=True_   \n",
       "0   linear_regression_n=5_f=8_fitIn=True_   \n",
       "\n",
       "                            tags.run_name  \n",
       "0  linear_regression_n=7_f=1_fitIn=False_  \n",
       "0   linear_regression_n=4_f=2_fitIn=True_  \n",
       "0   linear_regression_n=6_f=3_fitIn=True_  \n",
       "0   linear_regression_n=8_f=4_fitIn=True_  \n",
       "0   linear_regression_n=8_f=5_fitIn=True_  \n",
       "0   linear_regression_n=7_f=6_fitIn=True_  \n",
       "0   linear_regression_n=6_f=7_fitIn=True_  \n",
       "0   linear_regression_n=5_f=8_fitIn=True_  "
      ]
     },
     "execution_count": 6,
     "metadata": {},
     "output_type": "execute_result"
    }
   ],
   "source": [
    "df_plt_1"
   ]
  },
  {
   "cell_type": "code",
   "execution_count": 7,
   "metadata": {},
   "outputs": [],
   "source": [
    "f_so_pred_values = range(1,8+1)\n",
    "metric = 'r2'\n",
    "\n",
    "# Initialize an empty list to store the dataframes\n",
    "dfs = []\n",
    "\n",
    "# Iterate over each f_so_pred value\n",
    "for f_so_pred in f_so_pred_values:\n",
    "    # Search runs for the current f_so_pred value\n",
    "    df = mlflow.search_runs(filter_string=f\"params.f_so_pred = '{f_so_pred}' AND params.n_so_retro = '4'\", \n",
    "                            order_by=[f'metrics.{metric} DESC'])\n",
    "    \n",
    "    # Drop unnecessary columns\n",
    "    df = df.drop(columns=drop_columns).iloc[:1]\n",
    "    \n",
    "    # Append the dataframe to the list\n",
    "    dfs.append(df)\n",
    "\n",
    "# Concatenate the dataframes along the rows\n",
    "df_plt_2 = pd.concat(dfs)"
   ]
  },
  {
   "cell_type": "code",
   "execution_count": 8,
   "metadata": {},
   "outputs": [
    {
     "data": {
      "text/html": [
       "<div>\n",
       "<style scoped>\n",
       "    .dataframe tbody tr th:only-of-type {\n",
       "        vertical-align: middle;\n",
       "    }\n",
       "\n",
       "    .dataframe tbody tr th {\n",
       "        vertical-align: top;\n",
       "    }\n",
       "\n",
       "    .dataframe thead th {\n",
       "        text-align: right;\n",
       "    }\n",
       "</style>\n",
       "<table border=\"1\" class=\"dataframe\">\n",
       "  <thead>\n",
       "    <tr style=\"text-align: right;\">\n",
       "      <th></th>\n",
       "      <th>metrics.rmse</th>\n",
       "      <th>metrics.corr</th>\n",
       "      <th>metrics.mae</th>\n",
       "      <th>metrics.r2</th>\n",
       "      <th>params.fit_intercept</th>\n",
       "      <th>params.f_so_pred</th>\n",
       "      <th>params.n_so_retro</th>\n",
       "      <th>params.seed</th>\n",
       "      <th>tags.mlflow.runName</th>\n",
       "      <th>tags.run_name</th>\n",
       "    </tr>\n",
       "  </thead>\n",
       "  <tbody>\n",
       "    <tr>\n",
       "      <th>0</th>\n",
       "      <td>9925.456321</td>\n",
       "      <td>0.954664</td>\n",
       "      <td>6919.243106</td>\n",
       "      <td>0.908743</td>\n",
       "      <td>True</td>\n",
       "      <td>1</td>\n",
       "      <td>4</td>\n",
       "      <td>21</td>\n",
       "      <td>linear_regression_n=4_f=1_fitIn=True_</td>\n",
       "      <td>linear_regression_n=4_f=1_fitIn=True_</td>\n",
       "    </tr>\n",
       "    <tr>\n",
       "      <th>0</th>\n",
       "      <td>12226.117003</td>\n",
       "      <td>0.924495</td>\n",
       "      <td>8695.027524</td>\n",
       "      <td>0.854515</td>\n",
       "      <td>True</td>\n",
       "      <td>2</td>\n",
       "      <td>4</td>\n",
       "      <td>21</td>\n",
       "      <td>linear_regression_n=4_f=2_fitIn=True_</td>\n",
       "      <td>linear_regression_n=4_f=2_fitIn=True_</td>\n",
       "    </tr>\n",
       "    <tr>\n",
       "      <th>0</th>\n",
       "      <td>14402.723222</td>\n",
       "      <td>0.896990</td>\n",
       "      <td>9867.607281</td>\n",
       "      <td>0.802118</td>\n",
       "      <td>True</td>\n",
       "      <td>3</td>\n",
       "      <td>4</td>\n",
       "      <td>21</td>\n",
       "      <td>linear_regression_n=4_f=3_fitIn=True_</td>\n",
       "      <td>linear_regression_n=4_f=3_fitIn=True_</td>\n",
       "    </tr>\n",
       "    <tr>\n",
       "      <th>0</th>\n",
       "      <td>16192.383985</td>\n",
       "      <td>0.874389</td>\n",
       "      <td>10846.199127</td>\n",
       "      <td>0.764224</td>\n",
       "      <td>True</td>\n",
       "      <td>4</td>\n",
       "      <td>4</td>\n",
       "      <td>21</td>\n",
       "      <td>linear_regression_n=4_f=4_fitIn=True_</td>\n",
       "      <td>linear_regression_n=4_f=4_fitIn=True_</td>\n",
       "    </tr>\n",
       "    <tr>\n",
       "      <th>0</th>\n",
       "      <td>17544.715522</td>\n",
       "      <td>0.880618</td>\n",
       "      <td>11944.412708</td>\n",
       "      <td>0.764497</td>\n",
       "      <td>True</td>\n",
       "      <td>5</td>\n",
       "      <td>4</td>\n",
       "      <td>21</td>\n",
       "      <td>linear_regression_n=4_f=5_fitIn=True_</td>\n",
       "      <td>linear_regression_n=4_f=5_fitIn=True_</td>\n",
       "    </tr>\n",
       "    <tr>\n",
       "      <th>0</th>\n",
       "      <td>15348.766324</td>\n",
       "      <td>0.871583</td>\n",
       "      <td>10461.875543</td>\n",
       "      <td>0.755756</td>\n",
       "      <td>True</td>\n",
       "      <td>6</td>\n",
       "      <td>4</td>\n",
       "      <td>21</td>\n",
       "      <td>linear_regression_n=4_f=6_fitIn=True_</td>\n",
       "      <td>linear_regression_n=4_f=6_fitIn=True_</td>\n",
       "    </tr>\n",
       "    <tr>\n",
       "      <th>0</th>\n",
       "      <td>18080.837016</td>\n",
       "      <td>0.843223</td>\n",
       "      <td>12231.233301</td>\n",
       "      <td>0.709971</td>\n",
       "      <td>True</td>\n",
       "      <td>7</td>\n",
       "      <td>4</td>\n",
       "      <td>21</td>\n",
       "      <td>linear_regression_n=4_f=7_fitIn=True_</td>\n",
       "      <td>linear_regression_n=4_f=7_fitIn=True_</td>\n",
       "    </tr>\n",
       "    <tr>\n",
       "      <th>0</th>\n",
       "      <td>19381.840208</td>\n",
       "      <td>0.817378</td>\n",
       "      <td>13244.863020</td>\n",
       "      <td>0.665892</td>\n",
       "      <td>True</td>\n",
       "      <td>8</td>\n",
       "      <td>4</td>\n",
       "      <td>21</td>\n",
       "      <td>linear_regression_n=4_f=8_fitIn=True_</td>\n",
       "      <td>linear_regression_n=4_f=8_fitIn=True_</td>\n",
       "    </tr>\n",
       "  </tbody>\n",
       "</table>\n",
       "</div>"
      ],
      "text/plain": [
       "   metrics.rmse  metrics.corr   metrics.mae  metrics.r2 params.fit_intercept  \\\n",
       "0   9925.456321      0.954664   6919.243106    0.908743                 True   \n",
       "0  12226.117003      0.924495   8695.027524    0.854515                 True   \n",
       "0  14402.723222      0.896990   9867.607281    0.802118                 True   \n",
       "0  16192.383985      0.874389  10846.199127    0.764224                 True   \n",
       "0  17544.715522      0.880618  11944.412708    0.764497                 True   \n",
       "0  15348.766324      0.871583  10461.875543    0.755756                 True   \n",
       "0  18080.837016      0.843223  12231.233301    0.709971                 True   \n",
       "0  19381.840208      0.817378  13244.863020    0.665892                 True   \n",
       "\n",
       "  params.f_so_pred params.n_so_retro params.seed  \\\n",
       "0                1                 4          21   \n",
       "0                2                 4          21   \n",
       "0                3                 4          21   \n",
       "0                4                 4          21   \n",
       "0                5                 4          21   \n",
       "0                6                 4          21   \n",
       "0                7                 4          21   \n",
       "0                8                 4          21   \n",
       "\n",
       "                     tags.mlflow.runName  \\\n",
       "0  linear_regression_n=4_f=1_fitIn=True_   \n",
       "0  linear_regression_n=4_f=2_fitIn=True_   \n",
       "0  linear_regression_n=4_f=3_fitIn=True_   \n",
       "0  linear_regression_n=4_f=4_fitIn=True_   \n",
       "0  linear_regression_n=4_f=5_fitIn=True_   \n",
       "0  linear_regression_n=4_f=6_fitIn=True_   \n",
       "0  linear_regression_n=4_f=7_fitIn=True_   \n",
       "0  linear_regression_n=4_f=8_fitIn=True_   \n",
       "\n",
       "                           tags.run_name  \n",
       "0  linear_regression_n=4_f=1_fitIn=True_  \n",
       "0  linear_regression_n=4_f=2_fitIn=True_  \n",
       "0  linear_regression_n=4_f=3_fitIn=True_  \n",
       "0  linear_regression_n=4_f=4_fitIn=True_  \n",
       "0  linear_regression_n=4_f=5_fitIn=True_  \n",
       "0  linear_regression_n=4_f=6_fitIn=True_  \n",
       "0  linear_regression_n=4_f=7_fitIn=True_  \n",
       "0  linear_regression_n=4_f=8_fitIn=True_  "
      ]
     },
     "execution_count": 8,
     "metadata": {},
     "output_type": "execute_result"
    }
   ],
   "source": [
    "df_plt_2"
   ]
  },
  {
   "cell_type": "code",
   "execution_count": 12,
   "metadata": {},
   "outputs": [
    {
     "data": {
      "application/vnd.plotly.v1+json": {
       "config": {
        "plotlyServerURL": "https://plot.ly"
       },
       "data": [
        {
         "hovertemplate": "%{y:.3f}",
         "legendgroup": "r2_group",
         "marker": {
          "color": "darkblue"
         },
         "name": "r2",
         "text": [
          "0.917",
          "0.855",
          "0.805",
          "0.805"
         ],
         "type": "bar",
         "x": [
          "f=1 (n=7)",
          "f=2 (n=4)",
          "f=3 (n=6)",
          "f=4 (n=8)"
         ],
         "xaxis": "x",
         "y": [
          0.9174801384969075,
          0.8545146826772987,
          0.8046228013038919,
          0.8051755611318495
         ],
         "yaxis": "y"
        },
        {
         "hovertemplate": "%{y:.3f}",
         "legendgroup": "correlation_group",
         "marker": {
          "color": "purple"
         },
         "name": "Correlação",
         "showlegend": false,
         "text": [
          "0.958",
          "0.924",
          "0.898",
          "0.897"
         ],
         "type": "bar",
         "x": [
          "f=1 (n=7)",
          "f=2 (n=4)",
          "f=3 (n=6)",
          "f=4 (n=8)"
         ],
         "xaxis": "x",
         "y": [
          0.9584050918815743,
          0.9244948573994842,
          0.8976170299663225,
          0.8974714370089883
         ],
         "yaxis": "y"
        },
        {
         "hovertemplate": "%{y:.3f}",
         "legendgroup": "r2_group",
         "marker": {
          "color": "darkblue"
         },
         "name": "r2",
         "showlegend": false,
         "text": [
          "0.804",
          "0.781",
          "0.765",
          "0.750"
         ],
         "type": "bar",
         "x": [
          "f=5 (n=8)",
          "f=6 (n=7)",
          "f=7 (n=6)",
          "f=8 (n=5)"
         ],
         "xaxis": "x2",
         "y": [
          0.8037586892994593,
          0.7808533030275602,
          0.7647398812815689,
          0.750287292417519
         ],
         "yaxis": "y2"
        },
        {
         "hovertemplate": "%{y:.3f}",
         "legendgroup": "correlation_group",
         "marker": {
          "color": "purple"
         },
         "name": "Correlação",
         "text": [
          "0.897",
          "0.884",
          "0.875",
          "0.867"
         ],
         "type": "bar",
         "x": [
          "f=5 (n=8)",
          "f=6 (n=7)",
          "f=7 (n=6)",
          "f=8 (n=5)"
         ],
         "xaxis": "x2",
         "y": [
          0.8970262135815578,
          0.8838952348346983,
          0.8746172600437545,
          0.8665585156949092
         ],
         "yaxis": "y2"
        }
       ],
       "layout": {
        "annotations": [
         {
          "showarrow": false,
          "text": "'n' = Número de S.O Retroativas de vazão observada e precipitação na bacia, a serem utilizadas durante o treinamento",
          "x": 0.5,
          "xref": "paper",
          "y": -0.18,
          "yref": "paper"
         },
         {
          "showarrow": false,
          "text": "'f' = Número da S.O Futura onde se prevê a vazão",
          "x": 0.5,
          "xref": "paper",
          "y": -0.25,
          "yref": "paper"
         }
        ],
        "barmode": "group",
        "template": {
         "data": {
          "bar": [
           {
            "error_x": {
             "color": "#2a3f5f"
            },
            "error_y": {
             "color": "#2a3f5f"
            },
            "marker": {
             "line": {
              "color": "#E5ECF6",
              "width": 0.5
             },
             "pattern": {
              "fillmode": "overlay",
              "size": 10,
              "solidity": 0.2
             }
            },
            "type": "bar"
           }
          ],
          "barpolar": [
           {
            "marker": {
             "line": {
              "color": "#E5ECF6",
              "width": 0.5
             },
             "pattern": {
              "fillmode": "overlay",
              "size": 10,
              "solidity": 0.2
             }
            },
            "type": "barpolar"
           }
          ],
          "carpet": [
           {
            "aaxis": {
             "endlinecolor": "#2a3f5f",
             "gridcolor": "white",
             "linecolor": "white",
             "minorgridcolor": "white",
             "startlinecolor": "#2a3f5f"
            },
            "baxis": {
             "endlinecolor": "#2a3f5f",
             "gridcolor": "white",
             "linecolor": "white",
             "minorgridcolor": "white",
             "startlinecolor": "#2a3f5f"
            },
            "type": "carpet"
           }
          ],
          "choropleth": [
           {
            "colorbar": {
             "outlinewidth": 0,
             "ticks": ""
            },
            "type": "choropleth"
           }
          ],
          "contour": [
           {
            "colorbar": {
             "outlinewidth": 0,
             "ticks": ""
            },
            "colorscale": [
             [
              0,
              "#0d0887"
             ],
             [
              0.1111111111111111,
              "#46039f"
             ],
             [
              0.2222222222222222,
              "#7201a8"
             ],
             [
              0.3333333333333333,
              "#9c179e"
             ],
             [
              0.4444444444444444,
              "#bd3786"
             ],
             [
              0.5555555555555556,
              "#d8576b"
             ],
             [
              0.6666666666666666,
              "#ed7953"
             ],
             [
              0.7777777777777778,
              "#fb9f3a"
             ],
             [
              0.8888888888888888,
              "#fdca26"
             ],
             [
              1,
              "#f0f921"
             ]
            ],
            "type": "contour"
           }
          ],
          "contourcarpet": [
           {
            "colorbar": {
             "outlinewidth": 0,
             "ticks": ""
            },
            "type": "contourcarpet"
           }
          ],
          "heatmap": [
           {
            "colorbar": {
             "outlinewidth": 0,
             "ticks": ""
            },
            "colorscale": [
             [
              0,
              "#0d0887"
             ],
             [
              0.1111111111111111,
              "#46039f"
             ],
             [
              0.2222222222222222,
              "#7201a8"
             ],
             [
              0.3333333333333333,
              "#9c179e"
             ],
             [
              0.4444444444444444,
              "#bd3786"
             ],
             [
              0.5555555555555556,
              "#d8576b"
             ],
             [
              0.6666666666666666,
              "#ed7953"
             ],
             [
              0.7777777777777778,
              "#fb9f3a"
             ],
             [
              0.8888888888888888,
              "#fdca26"
             ],
             [
              1,
              "#f0f921"
             ]
            ],
            "type": "heatmap"
           }
          ],
          "heatmapgl": [
           {
            "colorbar": {
             "outlinewidth": 0,
             "ticks": ""
            },
            "colorscale": [
             [
              0,
              "#0d0887"
             ],
             [
              0.1111111111111111,
              "#46039f"
             ],
             [
              0.2222222222222222,
              "#7201a8"
             ],
             [
              0.3333333333333333,
              "#9c179e"
             ],
             [
              0.4444444444444444,
              "#bd3786"
             ],
             [
              0.5555555555555556,
              "#d8576b"
             ],
             [
              0.6666666666666666,
              "#ed7953"
             ],
             [
              0.7777777777777778,
              "#fb9f3a"
             ],
             [
              0.8888888888888888,
              "#fdca26"
             ],
             [
              1,
              "#f0f921"
             ]
            ],
            "type": "heatmapgl"
           }
          ],
          "histogram": [
           {
            "marker": {
             "pattern": {
              "fillmode": "overlay",
              "size": 10,
              "solidity": 0.2
             }
            },
            "type": "histogram"
           }
          ],
          "histogram2d": [
           {
            "colorbar": {
             "outlinewidth": 0,
             "ticks": ""
            },
            "colorscale": [
             [
              0,
              "#0d0887"
             ],
             [
              0.1111111111111111,
              "#46039f"
             ],
             [
              0.2222222222222222,
              "#7201a8"
             ],
             [
              0.3333333333333333,
              "#9c179e"
             ],
             [
              0.4444444444444444,
              "#bd3786"
             ],
             [
              0.5555555555555556,
              "#d8576b"
             ],
             [
              0.6666666666666666,
              "#ed7953"
             ],
             [
              0.7777777777777778,
              "#fb9f3a"
             ],
             [
              0.8888888888888888,
              "#fdca26"
             ],
             [
              1,
              "#f0f921"
             ]
            ],
            "type": "histogram2d"
           }
          ],
          "histogram2dcontour": [
           {
            "colorbar": {
             "outlinewidth": 0,
             "ticks": ""
            },
            "colorscale": [
             [
              0,
              "#0d0887"
             ],
             [
              0.1111111111111111,
              "#46039f"
             ],
             [
              0.2222222222222222,
              "#7201a8"
             ],
             [
              0.3333333333333333,
              "#9c179e"
             ],
             [
              0.4444444444444444,
              "#bd3786"
             ],
             [
              0.5555555555555556,
              "#d8576b"
             ],
             [
              0.6666666666666666,
              "#ed7953"
             ],
             [
              0.7777777777777778,
              "#fb9f3a"
             ],
             [
              0.8888888888888888,
              "#fdca26"
             ],
             [
              1,
              "#f0f921"
             ]
            ],
            "type": "histogram2dcontour"
           }
          ],
          "mesh3d": [
           {
            "colorbar": {
             "outlinewidth": 0,
             "ticks": ""
            },
            "type": "mesh3d"
           }
          ],
          "parcoords": [
           {
            "line": {
             "colorbar": {
              "outlinewidth": 0,
              "ticks": ""
             }
            },
            "type": "parcoords"
           }
          ],
          "pie": [
           {
            "automargin": true,
            "type": "pie"
           }
          ],
          "scatter": [
           {
            "fillpattern": {
             "fillmode": "overlay",
             "size": 10,
             "solidity": 0.2
            },
            "type": "scatter"
           }
          ],
          "scatter3d": [
           {
            "line": {
             "colorbar": {
              "outlinewidth": 0,
              "ticks": ""
             }
            },
            "marker": {
             "colorbar": {
              "outlinewidth": 0,
              "ticks": ""
             }
            },
            "type": "scatter3d"
           }
          ],
          "scattercarpet": [
           {
            "marker": {
             "colorbar": {
              "outlinewidth": 0,
              "ticks": ""
             }
            },
            "type": "scattercarpet"
           }
          ],
          "scattergeo": [
           {
            "marker": {
             "colorbar": {
              "outlinewidth": 0,
              "ticks": ""
             }
            },
            "type": "scattergeo"
           }
          ],
          "scattergl": [
           {
            "marker": {
             "colorbar": {
              "outlinewidth": 0,
              "ticks": ""
             }
            },
            "type": "scattergl"
           }
          ],
          "scattermapbox": [
           {
            "marker": {
             "colorbar": {
              "outlinewidth": 0,
              "ticks": ""
             }
            },
            "type": "scattermapbox"
           }
          ],
          "scatterpolar": [
           {
            "marker": {
             "colorbar": {
              "outlinewidth": 0,
              "ticks": ""
             }
            },
            "type": "scatterpolar"
           }
          ],
          "scatterpolargl": [
           {
            "marker": {
             "colorbar": {
              "outlinewidth": 0,
              "ticks": ""
             }
            },
            "type": "scatterpolargl"
           }
          ],
          "scatterternary": [
           {
            "marker": {
             "colorbar": {
              "outlinewidth": 0,
              "ticks": ""
             }
            },
            "type": "scatterternary"
           }
          ],
          "surface": [
           {
            "colorbar": {
             "outlinewidth": 0,
             "ticks": ""
            },
            "colorscale": [
             [
              0,
              "#0d0887"
             ],
             [
              0.1111111111111111,
              "#46039f"
             ],
             [
              0.2222222222222222,
              "#7201a8"
             ],
             [
              0.3333333333333333,
              "#9c179e"
             ],
             [
              0.4444444444444444,
              "#bd3786"
             ],
             [
              0.5555555555555556,
              "#d8576b"
             ],
             [
              0.6666666666666666,
              "#ed7953"
             ],
             [
              0.7777777777777778,
              "#fb9f3a"
             ],
             [
              0.8888888888888888,
              "#fdca26"
             ],
             [
              1,
              "#f0f921"
             ]
            ],
            "type": "surface"
           }
          ],
          "table": [
           {
            "cells": {
             "fill": {
              "color": "#EBF0F8"
             },
             "line": {
              "color": "white"
             }
            },
            "header": {
             "fill": {
              "color": "#C8D4E3"
             },
             "line": {
              "color": "white"
             }
            },
            "type": "table"
           }
          ]
         },
         "layout": {
          "annotationdefaults": {
           "arrowcolor": "#2a3f5f",
           "arrowhead": 0,
           "arrowwidth": 1
          },
          "autotypenumbers": "strict",
          "coloraxis": {
           "colorbar": {
            "outlinewidth": 0,
            "ticks": ""
           }
          },
          "colorscale": {
           "diverging": [
            [
             0,
             "#8e0152"
            ],
            [
             0.1,
             "#c51b7d"
            ],
            [
             0.2,
             "#de77ae"
            ],
            [
             0.3,
             "#f1b6da"
            ],
            [
             0.4,
             "#fde0ef"
            ],
            [
             0.5,
             "#f7f7f7"
            ],
            [
             0.6,
             "#e6f5d0"
            ],
            [
             0.7,
             "#b8e186"
            ],
            [
             0.8,
             "#7fbc41"
            ],
            [
             0.9,
             "#4d9221"
            ],
            [
             1,
             "#276419"
            ]
           ],
           "sequential": [
            [
             0,
             "#0d0887"
            ],
            [
             0.1111111111111111,
             "#46039f"
            ],
            [
             0.2222222222222222,
             "#7201a8"
            ],
            [
             0.3333333333333333,
             "#9c179e"
            ],
            [
             0.4444444444444444,
             "#bd3786"
            ],
            [
             0.5555555555555556,
             "#d8576b"
            ],
            [
             0.6666666666666666,
             "#ed7953"
            ],
            [
             0.7777777777777778,
             "#fb9f3a"
            ],
            [
             0.8888888888888888,
             "#fdca26"
            ],
            [
             1,
             "#f0f921"
            ]
           ],
           "sequentialminus": [
            [
             0,
             "#0d0887"
            ],
            [
             0.1111111111111111,
             "#46039f"
            ],
            [
             0.2222222222222222,
             "#7201a8"
            ],
            [
             0.3333333333333333,
             "#9c179e"
            ],
            [
             0.4444444444444444,
             "#bd3786"
            ],
            [
             0.5555555555555556,
             "#d8576b"
            ],
            [
             0.6666666666666666,
             "#ed7953"
            ],
            [
             0.7777777777777778,
             "#fb9f3a"
            ],
            [
             0.8888888888888888,
             "#fdca26"
            ],
            [
             1,
             "#f0f921"
            ]
           ]
          },
          "colorway": [
           "#636efa",
           "#EF553B",
           "#00cc96",
           "#ab63fa",
           "#FFA15A",
           "#19d3f3",
           "#FF6692",
           "#B6E880",
           "#FF97FF",
           "#FECB52"
          ],
          "font": {
           "color": "#2a3f5f"
          },
          "geo": {
           "bgcolor": "white",
           "lakecolor": "white",
           "landcolor": "#E5ECF6",
           "showlakes": true,
           "showland": true,
           "subunitcolor": "white"
          },
          "hoverlabel": {
           "align": "left"
          },
          "hovermode": "closest",
          "mapbox": {
           "style": "light"
          },
          "paper_bgcolor": "white",
          "plot_bgcolor": "#E5ECF6",
          "polar": {
           "angularaxis": {
            "gridcolor": "white",
            "linecolor": "white",
            "ticks": ""
           },
           "bgcolor": "#E5ECF6",
           "radialaxis": {
            "gridcolor": "white",
            "linecolor": "white",
            "ticks": ""
           }
          },
          "scene": {
           "xaxis": {
            "backgroundcolor": "#E5ECF6",
            "gridcolor": "white",
            "gridwidth": 2,
            "linecolor": "white",
            "showbackground": true,
            "ticks": "",
            "zerolinecolor": "white"
           },
           "yaxis": {
            "backgroundcolor": "#E5ECF6",
            "gridcolor": "white",
            "gridwidth": 2,
            "linecolor": "white",
            "showbackground": true,
            "ticks": "",
            "zerolinecolor": "white"
           },
           "zaxis": {
            "backgroundcolor": "#E5ECF6",
            "gridcolor": "white",
            "gridwidth": 2,
            "linecolor": "white",
            "showbackground": true,
            "ticks": "",
            "zerolinecolor": "white"
           }
          },
          "shapedefaults": {
           "line": {
            "color": "#2a3f5f"
           }
          },
          "ternary": {
           "aaxis": {
            "gridcolor": "white",
            "linecolor": "white",
            "ticks": ""
           },
           "baxis": {
            "gridcolor": "white",
            "linecolor": "white",
            "ticks": ""
           },
           "bgcolor": "#E5ECF6",
           "caxis": {
            "gridcolor": "white",
            "linecolor": "white",
            "ticks": ""
           }
          },
          "title": {
           "x": 0.05
          },
          "xaxis": {
           "automargin": true,
           "gridcolor": "white",
           "linecolor": "white",
           "ticks": "",
           "title": {
            "standoff": 15
           },
           "zerolinecolor": "white",
           "zerolinewidth": 2
          },
          "yaxis": {
           "automargin": true,
           "gridcolor": "white",
           "linecolor": "white",
           "ticks": "",
           "title": {
            "standoff": 15
           },
           "zerolinecolor": "white",
           "zerolinewidth": 2
          }
         }
        },
        "title": {
         "text": "Métricas dos modelos de Regressão Linear, para diferentes horizontes de previsões futuras 'f', de maiores r2 e para o melhor 'n' "
        },
        "xaxis": {
         "anchor": "y",
         "domain": [
          0,
          1
         ]
        },
        "xaxis2": {
         "anchor": "y2",
         "domain": [
          0,
          1
         ]
        },
        "yaxis": {
         "anchor": "x",
         "domain": [
          0.575,
          1
         ],
         "range": [
          0.5,
          1
         ]
        },
        "yaxis2": {
         "anchor": "x2",
         "domain": [
          0,
          0.425
         ],
         "range": [
          0.5,
          1
         ]
        }
       }
      }
     },
     "metadata": {},
     "output_type": "display_data"
    }
   ],
   "source": [
    "from plotly.subplots import make_subplots\n",
    "import plotly.graph_objects as go\n",
    "\n",
    "# Custom labels for each subplot\n",
    "custom_labels_r2_2 = ['f=5 (n=8)', 'f=6 (n=7)', 'f=7 (n=6)', 'f=8 (n=5)']\n",
    "custom_labels_r2_1 = ['f=1 (n=7)', 'f=2 (n=4)', 'f=3 (n=6)', 'f=4 (n=8)']\n",
    "\n",
    "# custom_labels_r2_2 = ['f=5 & n=3', 'f=6 & n=2', 'f=7 & n=1', 'f=8 & n=7']\n",
    "# custom_labels_r2_1 = ['f=1 & n=7', 'f=2 & n=1', 'f=3 & n=5', 'f=4 & n=2']\n",
    "\n",
    "# Define colors for bars\n",
    "r2_color = 'darkblue'\n",
    "corr_color = 'purple'\n",
    "\n",
    "# Create subplots\n",
    "fig = make_subplots(rows=2, cols=1) # subplot_titles=(\"Custom Labels for n=5 to n=8\", \"Custom Labels for n=1 to n=4\")\n",
    "\n",
    "# Add traces to subplot 1\n",
    "fig.add_trace(go.Bar(\n",
    "    x=custom_labels_r2_1,\n",
    "    y=df_plt_1['metrics.r2'][:4],\n",
    "    text=df_plt_1['metrics.r2'][:4].apply(lambda x: f'{x:.3f}'),  \n",
    "    hovertemplate='%{y:.3f}',\n",
    "    name='r2',\n",
    "    legendgroup='r2_group',\n",
    "    marker=dict(color=r2_color)\n",
    "), row=1, col=1)\n",
    "\n",
    "fig.add_trace(go.Bar(\n",
    "    x=custom_labels_r2_1,\n",
    "    y=df_plt_1['metrics.corr'][:4],\n",
    "    text=df_plt_1['metrics.corr'][:4].apply(lambda x: f'{x:.3f}'),  \n",
    "    hovertemplate='%{y:.3f}',\n",
    "    name='Correlação',\n",
    "    legendgroup='correlation_group',\n",
    "    showlegend=False,\n",
    "    marker=dict(color=corr_color)\n",
    "), row=1, col=1)\n",
    "\n",
    "# Add traces to subplot 2\n",
    "fig.add_trace(go.Bar(\n",
    "    x=custom_labels_r2_2,\n",
    "    y=df_plt_1['metrics.r2'][4:],\n",
    "    text=df_plt_1['metrics.r2'][4:].apply(lambda x: f'{x:.3f}'),  \n",
    "    hovertemplate='%{y:.3f}',\n",
    "    name='r2',\n",
    "    legendgroup='r2_group',\n",
    "    showlegend=False,\n",
    "    marker=dict(color=r2_color)\n",
    "), row=2, col=1)\n",
    "\n",
    "fig.add_trace(go.Bar(\n",
    "    x=custom_labels_r2_2,\n",
    "    y=df_plt_1['metrics.corr'][4:],\n",
    "    text=df_plt_1['metrics.corr'][4:].apply(lambda x: f'{x:.3f}'),  \n",
    "    hovertemplate='%{y:.3f}',\n",
    "    name='Correlação',\n",
    "    legendgroup='correlation_group',\n",
    "    marker=dict(color=corr_color)\n",
    "), row=2, col=1)\n",
    "\n",
    "# Update layout\n",
    "fig.update_layout(\n",
    "    title=f\"Métricas {name_plots}, para diferentes horizontes de previsões futuras 'f', de maiores r2 e para o melhor 'n' \",\n",
    "    #xaxis=dict(title='Número de S.O Retroativas \"n\" a serem utilizadas durante o treinamento'),\n",
    "    barmode='group',\n",
    ")\n",
    "\n",
    "# Set the same y-axis range for both subplots\n",
    "fig.update_yaxes(range=[0.5, 1.0], row=1, col=1)\n",
    "fig.update_yaxes(range=[0.5, 1.0], row=2, col=1)\n",
    "\n",
    "# Add annotations\n",
    "fig.add_annotation(text=\"'n' = Número de S.O Retroativas de vazão observada e precipitação na bacia, a serem utilizadas durante o treinamento\",\n",
    "                   xref=\"paper\", yref=\"paper\",\n",
    "                   x=0.5, y=-0.18, showarrow=False)\n",
    "\n",
    "# Add annotations\n",
    "fig.add_annotation(text=\"'f' = Número da S.O Futura onde se prevê a vazão\",\n",
    "                   xref=\"paper\", yref=\"paper\",\n",
    "                   x=0.5, y=-0.25, showarrow=False)\n",
    "\n",
    "# Show the plot\n",
    "fig.show()\n"
   ]
  },
  {
   "cell_type": "code",
   "execution_count": 10,
   "metadata": {},
   "outputs": [
    {
     "data": {
      "application/vnd.plotly.v1+json": {
       "config": {
        "plotlyServerURL": "https://plot.ly"
       },
       "data": [
        {
         "hovertemplate": "%{y:.3f}",
         "legendgroup": "r2_group",
         "marker": {
          "color": "darkblue"
         },
         "name": "r2",
         "text": [
          "0.909",
          "0.855",
          "0.802",
          "0.764"
         ],
         "type": "bar",
         "x": [
          "f=1",
          "f=2",
          "f=3",
          "f=4"
         ],
         "xaxis": "x",
         "y": [
          0.9087430609815315,
          0.8545146826772987,
          0.8021180264684227,
          0.7642241893255264
         ],
         "yaxis": "y"
        },
        {
         "hovertemplate": "%{y:.3f}",
         "legendgroup": "corr_group",
         "marker": {
          "color": "purple"
         },
         "name": "Correlação",
         "showlegend": false,
         "text": [
          "0.955",
          "0.924",
          "0.897",
          "0.874"
         ],
         "type": "bar",
         "x": [
          "f=1",
          "f=2",
          "f=3",
          "f=4"
         ],
         "xaxis": "x",
         "y": [
          0.9546636218127481,
          0.9244948573994842,
          0.8969903269102711,
          0.8743889248637855
         ],
         "yaxis": "y"
        },
        {
         "hovertemplate": "%{y:.3f}",
         "legendgroup": "r2_group",
         "marker": {
          "color": "darkblue"
         },
         "name": "r2",
         "showlegend": false,
         "text": [
          "0.764",
          "0.756",
          "0.710",
          "0.666"
         ],
         "type": "bar",
         "x": [
          "f=5",
          "f=6",
          "f=7",
          "f=8"
         ],
         "xaxis": "x2",
         "y": [
          0.7644970091997825,
          0.7557555228051407,
          0.709971289442755,
          0.665892121668296
         ],
         "yaxis": "y2"
        },
        {
         "hovertemplate": "%{y:.3f}",
         "legendgroup": "corr_group",
         "marker": {
          "color": "purple"
         },
         "name": "Correlação",
         "text": [
          "0.881",
          "0.872",
          "0.843",
          "0.817"
         ],
         "type": "bar",
         "x": [
          "f=5",
          "f=6",
          "f=7",
          "f=8"
         ],
         "xaxis": "x2",
         "y": [
          0.8806179021074143,
          0.8715832137780516,
          0.8432232630519323,
          0.8173780895260988
         ],
         "yaxis": "y2"
        }
       ],
       "layout": {
        "annotations": [
         {
          "showarrow": false,
          "text": "'n' = Número de S.O Retroativas de vazão observada e precipitação na bacia, a serem utilizadas durante o treinamento",
          "x": 0.5,
          "xref": "paper",
          "y": -0.18,
          "yref": "paper"
         },
         {
          "showarrow": false,
          "text": "'f' = Número da S.O Futura onde se prevê a vazão",
          "x": 0.5,
          "xref": "paper",
          "y": -0.25,
          "yref": "paper"
         }
        ],
        "barmode": "group",
        "template": {
         "data": {
          "bar": [
           {
            "error_x": {
             "color": "#2a3f5f"
            },
            "error_y": {
             "color": "#2a3f5f"
            },
            "marker": {
             "line": {
              "color": "#E5ECF6",
              "width": 0.5
             },
             "pattern": {
              "fillmode": "overlay",
              "size": 10,
              "solidity": 0.2
             }
            },
            "type": "bar"
           }
          ],
          "barpolar": [
           {
            "marker": {
             "line": {
              "color": "#E5ECF6",
              "width": 0.5
             },
             "pattern": {
              "fillmode": "overlay",
              "size": 10,
              "solidity": 0.2
             }
            },
            "type": "barpolar"
           }
          ],
          "carpet": [
           {
            "aaxis": {
             "endlinecolor": "#2a3f5f",
             "gridcolor": "white",
             "linecolor": "white",
             "minorgridcolor": "white",
             "startlinecolor": "#2a3f5f"
            },
            "baxis": {
             "endlinecolor": "#2a3f5f",
             "gridcolor": "white",
             "linecolor": "white",
             "minorgridcolor": "white",
             "startlinecolor": "#2a3f5f"
            },
            "type": "carpet"
           }
          ],
          "choropleth": [
           {
            "colorbar": {
             "outlinewidth": 0,
             "ticks": ""
            },
            "type": "choropleth"
           }
          ],
          "contour": [
           {
            "colorbar": {
             "outlinewidth": 0,
             "ticks": ""
            },
            "colorscale": [
             [
              0,
              "#0d0887"
             ],
             [
              0.1111111111111111,
              "#46039f"
             ],
             [
              0.2222222222222222,
              "#7201a8"
             ],
             [
              0.3333333333333333,
              "#9c179e"
             ],
             [
              0.4444444444444444,
              "#bd3786"
             ],
             [
              0.5555555555555556,
              "#d8576b"
             ],
             [
              0.6666666666666666,
              "#ed7953"
             ],
             [
              0.7777777777777778,
              "#fb9f3a"
             ],
             [
              0.8888888888888888,
              "#fdca26"
             ],
             [
              1,
              "#f0f921"
             ]
            ],
            "type": "contour"
           }
          ],
          "contourcarpet": [
           {
            "colorbar": {
             "outlinewidth": 0,
             "ticks": ""
            },
            "type": "contourcarpet"
           }
          ],
          "heatmap": [
           {
            "colorbar": {
             "outlinewidth": 0,
             "ticks": ""
            },
            "colorscale": [
             [
              0,
              "#0d0887"
             ],
             [
              0.1111111111111111,
              "#46039f"
             ],
             [
              0.2222222222222222,
              "#7201a8"
             ],
             [
              0.3333333333333333,
              "#9c179e"
             ],
             [
              0.4444444444444444,
              "#bd3786"
             ],
             [
              0.5555555555555556,
              "#d8576b"
             ],
             [
              0.6666666666666666,
              "#ed7953"
             ],
             [
              0.7777777777777778,
              "#fb9f3a"
             ],
             [
              0.8888888888888888,
              "#fdca26"
             ],
             [
              1,
              "#f0f921"
             ]
            ],
            "type": "heatmap"
           }
          ],
          "heatmapgl": [
           {
            "colorbar": {
             "outlinewidth": 0,
             "ticks": ""
            },
            "colorscale": [
             [
              0,
              "#0d0887"
             ],
             [
              0.1111111111111111,
              "#46039f"
             ],
             [
              0.2222222222222222,
              "#7201a8"
             ],
             [
              0.3333333333333333,
              "#9c179e"
             ],
             [
              0.4444444444444444,
              "#bd3786"
             ],
             [
              0.5555555555555556,
              "#d8576b"
             ],
             [
              0.6666666666666666,
              "#ed7953"
             ],
             [
              0.7777777777777778,
              "#fb9f3a"
             ],
             [
              0.8888888888888888,
              "#fdca26"
             ],
             [
              1,
              "#f0f921"
             ]
            ],
            "type": "heatmapgl"
           }
          ],
          "histogram": [
           {
            "marker": {
             "pattern": {
              "fillmode": "overlay",
              "size": 10,
              "solidity": 0.2
             }
            },
            "type": "histogram"
           }
          ],
          "histogram2d": [
           {
            "colorbar": {
             "outlinewidth": 0,
             "ticks": ""
            },
            "colorscale": [
             [
              0,
              "#0d0887"
             ],
             [
              0.1111111111111111,
              "#46039f"
             ],
             [
              0.2222222222222222,
              "#7201a8"
             ],
             [
              0.3333333333333333,
              "#9c179e"
             ],
             [
              0.4444444444444444,
              "#bd3786"
             ],
             [
              0.5555555555555556,
              "#d8576b"
             ],
             [
              0.6666666666666666,
              "#ed7953"
             ],
             [
              0.7777777777777778,
              "#fb9f3a"
             ],
             [
              0.8888888888888888,
              "#fdca26"
             ],
             [
              1,
              "#f0f921"
             ]
            ],
            "type": "histogram2d"
           }
          ],
          "histogram2dcontour": [
           {
            "colorbar": {
             "outlinewidth": 0,
             "ticks": ""
            },
            "colorscale": [
             [
              0,
              "#0d0887"
             ],
             [
              0.1111111111111111,
              "#46039f"
             ],
             [
              0.2222222222222222,
              "#7201a8"
             ],
             [
              0.3333333333333333,
              "#9c179e"
             ],
             [
              0.4444444444444444,
              "#bd3786"
             ],
             [
              0.5555555555555556,
              "#d8576b"
             ],
             [
              0.6666666666666666,
              "#ed7953"
             ],
             [
              0.7777777777777778,
              "#fb9f3a"
             ],
             [
              0.8888888888888888,
              "#fdca26"
             ],
             [
              1,
              "#f0f921"
             ]
            ],
            "type": "histogram2dcontour"
           }
          ],
          "mesh3d": [
           {
            "colorbar": {
             "outlinewidth": 0,
             "ticks": ""
            },
            "type": "mesh3d"
           }
          ],
          "parcoords": [
           {
            "line": {
             "colorbar": {
              "outlinewidth": 0,
              "ticks": ""
             }
            },
            "type": "parcoords"
           }
          ],
          "pie": [
           {
            "automargin": true,
            "type": "pie"
           }
          ],
          "scatter": [
           {
            "fillpattern": {
             "fillmode": "overlay",
             "size": 10,
             "solidity": 0.2
            },
            "type": "scatter"
           }
          ],
          "scatter3d": [
           {
            "line": {
             "colorbar": {
              "outlinewidth": 0,
              "ticks": ""
             }
            },
            "marker": {
             "colorbar": {
              "outlinewidth": 0,
              "ticks": ""
             }
            },
            "type": "scatter3d"
           }
          ],
          "scattercarpet": [
           {
            "marker": {
             "colorbar": {
              "outlinewidth": 0,
              "ticks": ""
             }
            },
            "type": "scattercarpet"
           }
          ],
          "scattergeo": [
           {
            "marker": {
             "colorbar": {
              "outlinewidth": 0,
              "ticks": ""
             }
            },
            "type": "scattergeo"
           }
          ],
          "scattergl": [
           {
            "marker": {
             "colorbar": {
              "outlinewidth": 0,
              "ticks": ""
             }
            },
            "type": "scattergl"
           }
          ],
          "scattermapbox": [
           {
            "marker": {
             "colorbar": {
              "outlinewidth": 0,
              "ticks": ""
             }
            },
            "type": "scattermapbox"
           }
          ],
          "scatterpolar": [
           {
            "marker": {
             "colorbar": {
              "outlinewidth": 0,
              "ticks": ""
             }
            },
            "type": "scatterpolar"
           }
          ],
          "scatterpolargl": [
           {
            "marker": {
             "colorbar": {
              "outlinewidth": 0,
              "ticks": ""
             }
            },
            "type": "scatterpolargl"
           }
          ],
          "scatterternary": [
           {
            "marker": {
             "colorbar": {
              "outlinewidth": 0,
              "ticks": ""
             }
            },
            "type": "scatterternary"
           }
          ],
          "surface": [
           {
            "colorbar": {
             "outlinewidth": 0,
             "ticks": ""
            },
            "colorscale": [
             [
              0,
              "#0d0887"
             ],
             [
              0.1111111111111111,
              "#46039f"
             ],
             [
              0.2222222222222222,
              "#7201a8"
             ],
             [
              0.3333333333333333,
              "#9c179e"
             ],
             [
              0.4444444444444444,
              "#bd3786"
             ],
             [
              0.5555555555555556,
              "#d8576b"
             ],
             [
              0.6666666666666666,
              "#ed7953"
             ],
             [
              0.7777777777777778,
              "#fb9f3a"
             ],
             [
              0.8888888888888888,
              "#fdca26"
             ],
             [
              1,
              "#f0f921"
             ]
            ],
            "type": "surface"
           }
          ],
          "table": [
           {
            "cells": {
             "fill": {
              "color": "#EBF0F8"
             },
             "line": {
              "color": "white"
             }
            },
            "header": {
             "fill": {
              "color": "#C8D4E3"
             },
             "line": {
              "color": "white"
             }
            },
            "type": "table"
           }
          ]
         },
         "layout": {
          "annotationdefaults": {
           "arrowcolor": "#2a3f5f",
           "arrowhead": 0,
           "arrowwidth": 1
          },
          "autotypenumbers": "strict",
          "coloraxis": {
           "colorbar": {
            "outlinewidth": 0,
            "ticks": ""
           }
          },
          "colorscale": {
           "diverging": [
            [
             0,
             "#8e0152"
            ],
            [
             0.1,
             "#c51b7d"
            ],
            [
             0.2,
             "#de77ae"
            ],
            [
             0.3,
             "#f1b6da"
            ],
            [
             0.4,
             "#fde0ef"
            ],
            [
             0.5,
             "#f7f7f7"
            ],
            [
             0.6,
             "#e6f5d0"
            ],
            [
             0.7,
             "#b8e186"
            ],
            [
             0.8,
             "#7fbc41"
            ],
            [
             0.9,
             "#4d9221"
            ],
            [
             1,
             "#276419"
            ]
           ],
           "sequential": [
            [
             0,
             "#0d0887"
            ],
            [
             0.1111111111111111,
             "#46039f"
            ],
            [
             0.2222222222222222,
             "#7201a8"
            ],
            [
             0.3333333333333333,
             "#9c179e"
            ],
            [
             0.4444444444444444,
             "#bd3786"
            ],
            [
             0.5555555555555556,
             "#d8576b"
            ],
            [
             0.6666666666666666,
             "#ed7953"
            ],
            [
             0.7777777777777778,
             "#fb9f3a"
            ],
            [
             0.8888888888888888,
             "#fdca26"
            ],
            [
             1,
             "#f0f921"
            ]
           ],
           "sequentialminus": [
            [
             0,
             "#0d0887"
            ],
            [
             0.1111111111111111,
             "#46039f"
            ],
            [
             0.2222222222222222,
             "#7201a8"
            ],
            [
             0.3333333333333333,
             "#9c179e"
            ],
            [
             0.4444444444444444,
             "#bd3786"
            ],
            [
             0.5555555555555556,
             "#d8576b"
            ],
            [
             0.6666666666666666,
             "#ed7953"
            ],
            [
             0.7777777777777778,
             "#fb9f3a"
            ],
            [
             0.8888888888888888,
             "#fdca26"
            ],
            [
             1,
             "#f0f921"
            ]
           ]
          },
          "colorway": [
           "#636efa",
           "#EF553B",
           "#00cc96",
           "#ab63fa",
           "#FFA15A",
           "#19d3f3",
           "#FF6692",
           "#B6E880",
           "#FF97FF",
           "#FECB52"
          ],
          "font": {
           "color": "#2a3f5f"
          },
          "geo": {
           "bgcolor": "white",
           "lakecolor": "white",
           "landcolor": "#E5ECF6",
           "showlakes": true,
           "showland": true,
           "subunitcolor": "white"
          },
          "hoverlabel": {
           "align": "left"
          },
          "hovermode": "closest",
          "mapbox": {
           "style": "light"
          },
          "paper_bgcolor": "white",
          "plot_bgcolor": "#E5ECF6",
          "polar": {
           "angularaxis": {
            "gridcolor": "white",
            "linecolor": "white",
            "ticks": ""
           },
           "bgcolor": "#E5ECF6",
           "radialaxis": {
            "gridcolor": "white",
            "linecolor": "white",
            "ticks": ""
           }
          },
          "scene": {
           "xaxis": {
            "backgroundcolor": "#E5ECF6",
            "gridcolor": "white",
            "gridwidth": 2,
            "linecolor": "white",
            "showbackground": true,
            "ticks": "",
            "zerolinecolor": "white"
           },
           "yaxis": {
            "backgroundcolor": "#E5ECF6",
            "gridcolor": "white",
            "gridwidth": 2,
            "linecolor": "white",
            "showbackground": true,
            "ticks": "",
            "zerolinecolor": "white"
           },
           "zaxis": {
            "backgroundcolor": "#E5ECF6",
            "gridcolor": "white",
            "gridwidth": 2,
            "linecolor": "white",
            "showbackground": true,
            "ticks": "",
            "zerolinecolor": "white"
           }
          },
          "shapedefaults": {
           "line": {
            "color": "#2a3f5f"
           }
          },
          "ternary": {
           "aaxis": {
            "gridcolor": "white",
            "linecolor": "white",
            "ticks": ""
           },
           "baxis": {
            "gridcolor": "white",
            "linecolor": "white",
            "ticks": ""
           },
           "bgcolor": "#E5ECF6",
           "caxis": {
            "gridcolor": "white",
            "linecolor": "white",
            "ticks": ""
           }
          },
          "title": {
           "x": 0.05
          },
          "xaxis": {
           "automargin": true,
           "gridcolor": "white",
           "linecolor": "white",
           "ticks": "",
           "title": {
            "standoff": 15
           },
           "zerolinecolor": "white",
           "zerolinewidth": 2
          },
          "yaxis": {
           "automargin": true,
           "gridcolor": "white",
           "linecolor": "white",
           "ticks": "",
           "title": {
            "standoff": 15
           },
           "zerolinecolor": "white",
           "zerolinewidth": 2
          }
         }
        },
        "title": {
         "text": "Métricas dos modelos de Regressão Linear, para diferentes horizontes de previsões futuras 'f', de maiores r2 e para 'n'=4 (fixo) "
        },
        "xaxis": {
         "anchor": "y",
         "domain": [
          0,
          1
         ]
        },
        "xaxis2": {
         "anchor": "y2",
         "domain": [
          0,
          1
         ]
        },
        "yaxis": {
         "anchor": "x",
         "domain": [
          0.575,
          1
         ],
         "range": [
          0.5,
          1
         ]
        },
        "yaxis2": {
         "anchor": "x2",
         "domain": [
          0,
          0.425
         ],
         "range": [
          0.5,
          1
         ]
        }
       }
      }
     },
     "metadata": {},
     "output_type": "display_data"
    }
   ],
   "source": [
    "from plotly.subplots import make_subplots\n",
    "import plotly.graph_objects as go\n",
    "\n",
    "# Custom labels for each subplot\n",
    "custom_labels_r2_2 = ['f=5', 'f=6', 'f=7', 'f=8']\n",
    "custom_labels_r2_1 = ['f=1', 'f=2', 'f=3', 'f=4']\n",
    "\n",
    "# custom_labels_r2_2 = ['f=5 & n=3', 'f=6 & n=2', 'f=7 & n=1', 'f=8 & n=7']\n",
    "# custom_labels_r2_1 = ['f=1 & n=7', 'f=2 & n=1', 'f=3 & n=5', 'f=4 & n=2']\n",
    "\n",
    "\n",
    "# Define colors for bars\n",
    "r2_color = 'darkblue'\n",
    "corr_color = 'purple'\n",
    "\n",
    "# Create subplots\n",
    "fig = make_subplots(rows=2, cols=1) # subplot_titles=(\"Custom Labels for n=5 to n=8\", \"Custom Labels for n=1 to n=4\")\n",
    "\n",
    "# Add traces to subplot 1\n",
    "fig.add_trace(go.Bar(\n",
    "    x=custom_labels_r2_1,\n",
    "    y=df_plt_2['metrics.r2'][:4],\n",
    "    text=df_plt_2['metrics.r2'][:4].apply(lambda x: f'{x:.3f}'),  \n",
    "    hovertemplate='%{y:.3f}',\n",
    "    name='r2',\n",
    "    legendgroup='r2_group',\n",
    "    marker=dict(color=r2_color)\n",
    "), row=1, col=1)\n",
    "\n",
    "fig.add_trace(go.Bar(\n",
    "    x=custom_labels_r2_1,\n",
    "    y=df_plt_2['metrics.corr'][:4],\n",
    "    text=df_plt_2['metrics.corr'][:4].apply(lambda x: f'{x:.3f}'),  \n",
    "    hovertemplate='%{y:.3f}',\n",
    "    name='Correlação',\n",
    "    legendgroup='corr_group',\n",
    "    showlegend=False,\n",
    "    marker=dict(color=corr_color)\n",
    "), row=1, col=1)\n",
    "\n",
    "# Add traces to subplot 2\n",
    "fig.add_trace(go.Bar(\n",
    "    x=custom_labels_r2_2,\n",
    "    y=df_plt_2['metrics.r2'][4:],\n",
    "    text=df_plt_2['metrics.r2'][4:].apply(lambda x: f'{x:.3f}'),  \n",
    "    hovertemplate='%{y:.3f}',\n",
    "    name='r2',\n",
    "    legendgroup='r2_group',\n",
    "    showlegend=False,\n",
    "    marker=dict(color=r2_color)\n",
    "), row=2, col=1)\n",
    "\n",
    "fig.add_trace(go.Bar(\n",
    "    x=custom_labels_r2_2,\n",
    "    y=df_plt_2['metrics.corr'][4:],\n",
    "    text=df_plt_2['metrics.corr'][4:].apply(lambda x: f'{x:.3f}'),  \n",
    "    hovertemplate='%{y:.3f}',\n",
    "    name='Correlação',\n",
    "    legendgroup='corr_group',\n",
    "    marker=dict(color=corr_color)\n",
    "), row=2, col=1)\n",
    "\n",
    "# Update layout\n",
    "fig.update_layout(\n",
    "    title=f\"Métricas {name_plots}, para diferentes horizontes de previsões futuras 'f', de maiores r2 e para 'n'=4 (fixo) \",\n",
    "    #xaxis=dict(title='Número de S.O Retroativas \"n\" a serem utilizadas durante o treinamento'),\n",
    "    barmode='group',\n",
    ")\n",
    "\n",
    "# Set the same y-axis range for both subplots\n",
    "fig.update_yaxes(range=[0.5, 1.0], row=1, col=1)\n",
    "fig.update_yaxes(range=[0.5, 1.0], row=2, col=1)\n",
    "\n",
    "# Add annotations\n",
    "fig.add_annotation(text=\"'n' = Número de S.O Retroativas de vazão observada e precipitação na bacia, a serem utilizadas durante o treinamento\",\n",
    "                   xref=\"paper\", yref=\"paper\",\n",
    "                   x=0.5, y=-0.18, showarrow=False)\n",
    "\n",
    "# Add annotations\n",
    "fig.add_annotation(text=\"'f' = Número da S.O Futura onde se prevê a vazão\",\n",
    "                   xref=\"paper\", yref=\"paper\",\n",
    "                   x=0.5, y=-0.25, showarrow=False)\n",
    "\n",
    "# Show the plot\n",
    "fig.show()\n"
   ]
  },
  {
   "cell_type": "code",
   "execution_count": 11,
   "metadata": {},
   "outputs": [
    {
     "data": {
      "application/vnd.plotly.v1+json": {
       "config": {
        "plotlyServerURL": "https://plot.ly"
       },
       "data": [
        {
         "hovertemplate": "%{y:.3f}",
         "legendgroup": "mae_group",
         "marker": {
          "color": "maroon"
         },
         "name": "MAE",
         "text": [
          "6919.243",
          "8695.028",
          "9867.607",
          "10846.199"
         ],
         "type": "bar",
         "x": [
          "f=1",
          "f=2",
          "f=3",
          "f=4"
         ],
         "xaxis": "x",
         "y": [
          6919.243105880642,
          8695.027524495565,
          9867.607280698117,
          10846.199127163367
         ],
         "yaxis": "y"
        },
        {
         "hovertemplate": "%{y:.3f}",
         "legendgroup": "rmse_group",
         "marker": {
          "color": "orange"
         },
         "name": "RMSE",
         "showlegend": false,
         "text": [
          "9925.456",
          "12226.117",
          "14402.723",
          "16192.384"
         ],
         "type": "bar",
         "x": [
          "f=1",
          "f=2",
          "f=3",
          "f=4"
         ],
         "xaxis": "x",
         "y": [
          9925.456320946407,
          12226.117003129844,
          14402.723222103219,
          16192.383985101145
         ],
         "yaxis": "y"
        },
        {
         "hovertemplate": "%{y:.3f}",
         "legendgroup": "mae_group",
         "marker": {
          "color": "maroon"
         },
         "name": "MAE",
         "showlegend": false,
         "text": [
          "11944.413",
          "10461.876",
          "12231.233",
          "13244.863"
         ],
         "type": "bar",
         "x": [
          "f=5",
          "f=6",
          "f=7",
          "f=8"
         ],
         "xaxis": "x2",
         "y": [
          11944.412707984331,
          10461.875543286702,
          12231.233300643858,
          13244.863020361607
         ],
         "yaxis": "y2"
        },
        {
         "hovertemplate": "%{y:.3f}",
         "legendgroup": "rmse_group",
         "marker": {
          "color": "orange"
         },
         "name": "RMSE",
         "text": [
          "17544.716",
          "15348.766",
          "18080.837",
          "19381.840"
         ],
         "type": "bar",
         "x": [
          "f=5",
          "f=6",
          "f=7",
          "f=8"
         ],
         "xaxis": "x2",
         "y": [
          17544.71552230804,
          15348.766324456978,
          18080.83701593328,
          19381.84020811925
         ],
         "yaxis": "y2"
        }
       ],
       "layout": {
        "annotations": [
         {
          "showarrow": false,
          "text": "'n' = Número de S.O Retroativas de vazão observada e precipitação na bacia, a serem utilizadas durante o treinamento",
          "x": 0.5,
          "xref": "paper",
          "y": -0.18,
          "yref": "paper"
         },
         {
          "showarrow": false,
          "text": "'f' = Número da S.O Futura onde se prevê a vazão",
          "x": 0.5,
          "xref": "paper",
          "y": -0.25,
          "yref": "paper"
         }
        ],
        "barmode": "group",
        "template": {
         "data": {
          "bar": [
           {
            "error_x": {
             "color": "#2a3f5f"
            },
            "error_y": {
             "color": "#2a3f5f"
            },
            "marker": {
             "line": {
              "color": "#E5ECF6",
              "width": 0.5
             },
             "pattern": {
              "fillmode": "overlay",
              "size": 10,
              "solidity": 0.2
             }
            },
            "type": "bar"
           }
          ],
          "barpolar": [
           {
            "marker": {
             "line": {
              "color": "#E5ECF6",
              "width": 0.5
             },
             "pattern": {
              "fillmode": "overlay",
              "size": 10,
              "solidity": 0.2
             }
            },
            "type": "barpolar"
           }
          ],
          "carpet": [
           {
            "aaxis": {
             "endlinecolor": "#2a3f5f",
             "gridcolor": "white",
             "linecolor": "white",
             "minorgridcolor": "white",
             "startlinecolor": "#2a3f5f"
            },
            "baxis": {
             "endlinecolor": "#2a3f5f",
             "gridcolor": "white",
             "linecolor": "white",
             "minorgridcolor": "white",
             "startlinecolor": "#2a3f5f"
            },
            "type": "carpet"
           }
          ],
          "choropleth": [
           {
            "colorbar": {
             "outlinewidth": 0,
             "ticks": ""
            },
            "type": "choropleth"
           }
          ],
          "contour": [
           {
            "colorbar": {
             "outlinewidth": 0,
             "ticks": ""
            },
            "colorscale": [
             [
              0,
              "#0d0887"
             ],
             [
              0.1111111111111111,
              "#46039f"
             ],
             [
              0.2222222222222222,
              "#7201a8"
             ],
             [
              0.3333333333333333,
              "#9c179e"
             ],
             [
              0.4444444444444444,
              "#bd3786"
             ],
             [
              0.5555555555555556,
              "#d8576b"
             ],
             [
              0.6666666666666666,
              "#ed7953"
             ],
             [
              0.7777777777777778,
              "#fb9f3a"
             ],
             [
              0.8888888888888888,
              "#fdca26"
             ],
             [
              1,
              "#f0f921"
             ]
            ],
            "type": "contour"
           }
          ],
          "contourcarpet": [
           {
            "colorbar": {
             "outlinewidth": 0,
             "ticks": ""
            },
            "type": "contourcarpet"
           }
          ],
          "heatmap": [
           {
            "colorbar": {
             "outlinewidth": 0,
             "ticks": ""
            },
            "colorscale": [
             [
              0,
              "#0d0887"
             ],
             [
              0.1111111111111111,
              "#46039f"
             ],
             [
              0.2222222222222222,
              "#7201a8"
             ],
             [
              0.3333333333333333,
              "#9c179e"
             ],
             [
              0.4444444444444444,
              "#bd3786"
             ],
             [
              0.5555555555555556,
              "#d8576b"
             ],
             [
              0.6666666666666666,
              "#ed7953"
             ],
             [
              0.7777777777777778,
              "#fb9f3a"
             ],
             [
              0.8888888888888888,
              "#fdca26"
             ],
             [
              1,
              "#f0f921"
             ]
            ],
            "type": "heatmap"
           }
          ],
          "heatmapgl": [
           {
            "colorbar": {
             "outlinewidth": 0,
             "ticks": ""
            },
            "colorscale": [
             [
              0,
              "#0d0887"
             ],
             [
              0.1111111111111111,
              "#46039f"
             ],
             [
              0.2222222222222222,
              "#7201a8"
             ],
             [
              0.3333333333333333,
              "#9c179e"
             ],
             [
              0.4444444444444444,
              "#bd3786"
             ],
             [
              0.5555555555555556,
              "#d8576b"
             ],
             [
              0.6666666666666666,
              "#ed7953"
             ],
             [
              0.7777777777777778,
              "#fb9f3a"
             ],
             [
              0.8888888888888888,
              "#fdca26"
             ],
             [
              1,
              "#f0f921"
             ]
            ],
            "type": "heatmapgl"
           }
          ],
          "histogram": [
           {
            "marker": {
             "pattern": {
              "fillmode": "overlay",
              "size": 10,
              "solidity": 0.2
             }
            },
            "type": "histogram"
           }
          ],
          "histogram2d": [
           {
            "colorbar": {
             "outlinewidth": 0,
             "ticks": ""
            },
            "colorscale": [
             [
              0,
              "#0d0887"
             ],
             [
              0.1111111111111111,
              "#46039f"
             ],
             [
              0.2222222222222222,
              "#7201a8"
             ],
             [
              0.3333333333333333,
              "#9c179e"
             ],
             [
              0.4444444444444444,
              "#bd3786"
             ],
             [
              0.5555555555555556,
              "#d8576b"
             ],
             [
              0.6666666666666666,
              "#ed7953"
             ],
             [
              0.7777777777777778,
              "#fb9f3a"
             ],
             [
              0.8888888888888888,
              "#fdca26"
             ],
             [
              1,
              "#f0f921"
             ]
            ],
            "type": "histogram2d"
           }
          ],
          "histogram2dcontour": [
           {
            "colorbar": {
             "outlinewidth": 0,
             "ticks": ""
            },
            "colorscale": [
             [
              0,
              "#0d0887"
             ],
             [
              0.1111111111111111,
              "#46039f"
             ],
             [
              0.2222222222222222,
              "#7201a8"
             ],
             [
              0.3333333333333333,
              "#9c179e"
             ],
             [
              0.4444444444444444,
              "#bd3786"
             ],
             [
              0.5555555555555556,
              "#d8576b"
             ],
             [
              0.6666666666666666,
              "#ed7953"
             ],
             [
              0.7777777777777778,
              "#fb9f3a"
             ],
             [
              0.8888888888888888,
              "#fdca26"
             ],
             [
              1,
              "#f0f921"
             ]
            ],
            "type": "histogram2dcontour"
           }
          ],
          "mesh3d": [
           {
            "colorbar": {
             "outlinewidth": 0,
             "ticks": ""
            },
            "type": "mesh3d"
           }
          ],
          "parcoords": [
           {
            "line": {
             "colorbar": {
              "outlinewidth": 0,
              "ticks": ""
             }
            },
            "type": "parcoords"
           }
          ],
          "pie": [
           {
            "automargin": true,
            "type": "pie"
           }
          ],
          "scatter": [
           {
            "fillpattern": {
             "fillmode": "overlay",
             "size": 10,
             "solidity": 0.2
            },
            "type": "scatter"
           }
          ],
          "scatter3d": [
           {
            "line": {
             "colorbar": {
              "outlinewidth": 0,
              "ticks": ""
             }
            },
            "marker": {
             "colorbar": {
              "outlinewidth": 0,
              "ticks": ""
             }
            },
            "type": "scatter3d"
           }
          ],
          "scattercarpet": [
           {
            "marker": {
             "colorbar": {
              "outlinewidth": 0,
              "ticks": ""
             }
            },
            "type": "scattercarpet"
           }
          ],
          "scattergeo": [
           {
            "marker": {
             "colorbar": {
              "outlinewidth": 0,
              "ticks": ""
             }
            },
            "type": "scattergeo"
           }
          ],
          "scattergl": [
           {
            "marker": {
             "colorbar": {
              "outlinewidth": 0,
              "ticks": ""
             }
            },
            "type": "scattergl"
           }
          ],
          "scattermapbox": [
           {
            "marker": {
             "colorbar": {
              "outlinewidth": 0,
              "ticks": ""
             }
            },
            "type": "scattermapbox"
           }
          ],
          "scatterpolar": [
           {
            "marker": {
             "colorbar": {
              "outlinewidth": 0,
              "ticks": ""
             }
            },
            "type": "scatterpolar"
           }
          ],
          "scatterpolargl": [
           {
            "marker": {
             "colorbar": {
              "outlinewidth": 0,
              "ticks": ""
             }
            },
            "type": "scatterpolargl"
           }
          ],
          "scatterternary": [
           {
            "marker": {
             "colorbar": {
              "outlinewidth": 0,
              "ticks": ""
             }
            },
            "type": "scatterternary"
           }
          ],
          "surface": [
           {
            "colorbar": {
             "outlinewidth": 0,
             "ticks": ""
            },
            "colorscale": [
             [
              0,
              "#0d0887"
             ],
             [
              0.1111111111111111,
              "#46039f"
             ],
             [
              0.2222222222222222,
              "#7201a8"
             ],
             [
              0.3333333333333333,
              "#9c179e"
             ],
             [
              0.4444444444444444,
              "#bd3786"
             ],
             [
              0.5555555555555556,
              "#d8576b"
             ],
             [
              0.6666666666666666,
              "#ed7953"
             ],
             [
              0.7777777777777778,
              "#fb9f3a"
             ],
             [
              0.8888888888888888,
              "#fdca26"
             ],
             [
              1,
              "#f0f921"
             ]
            ],
            "type": "surface"
           }
          ],
          "table": [
           {
            "cells": {
             "fill": {
              "color": "#EBF0F8"
             },
             "line": {
              "color": "white"
             }
            },
            "header": {
             "fill": {
              "color": "#C8D4E3"
             },
             "line": {
              "color": "white"
             }
            },
            "type": "table"
           }
          ]
         },
         "layout": {
          "annotationdefaults": {
           "arrowcolor": "#2a3f5f",
           "arrowhead": 0,
           "arrowwidth": 1
          },
          "autotypenumbers": "strict",
          "coloraxis": {
           "colorbar": {
            "outlinewidth": 0,
            "ticks": ""
           }
          },
          "colorscale": {
           "diverging": [
            [
             0,
             "#8e0152"
            ],
            [
             0.1,
             "#c51b7d"
            ],
            [
             0.2,
             "#de77ae"
            ],
            [
             0.3,
             "#f1b6da"
            ],
            [
             0.4,
             "#fde0ef"
            ],
            [
             0.5,
             "#f7f7f7"
            ],
            [
             0.6,
             "#e6f5d0"
            ],
            [
             0.7,
             "#b8e186"
            ],
            [
             0.8,
             "#7fbc41"
            ],
            [
             0.9,
             "#4d9221"
            ],
            [
             1,
             "#276419"
            ]
           ],
           "sequential": [
            [
             0,
             "#0d0887"
            ],
            [
             0.1111111111111111,
             "#46039f"
            ],
            [
             0.2222222222222222,
             "#7201a8"
            ],
            [
             0.3333333333333333,
             "#9c179e"
            ],
            [
             0.4444444444444444,
             "#bd3786"
            ],
            [
             0.5555555555555556,
             "#d8576b"
            ],
            [
             0.6666666666666666,
             "#ed7953"
            ],
            [
             0.7777777777777778,
             "#fb9f3a"
            ],
            [
             0.8888888888888888,
             "#fdca26"
            ],
            [
             1,
             "#f0f921"
            ]
           ],
           "sequentialminus": [
            [
             0,
             "#0d0887"
            ],
            [
             0.1111111111111111,
             "#46039f"
            ],
            [
             0.2222222222222222,
             "#7201a8"
            ],
            [
             0.3333333333333333,
             "#9c179e"
            ],
            [
             0.4444444444444444,
             "#bd3786"
            ],
            [
             0.5555555555555556,
             "#d8576b"
            ],
            [
             0.6666666666666666,
             "#ed7953"
            ],
            [
             0.7777777777777778,
             "#fb9f3a"
            ],
            [
             0.8888888888888888,
             "#fdca26"
            ],
            [
             1,
             "#f0f921"
            ]
           ]
          },
          "colorway": [
           "#636efa",
           "#EF553B",
           "#00cc96",
           "#ab63fa",
           "#FFA15A",
           "#19d3f3",
           "#FF6692",
           "#B6E880",
           "#FF97FF",
           "#FECB52"
          ],
          "font": {
           "color": "#2a3f5f"
          },
          "geo": {
           "bgcolor": "white",
           "lakecolor": "white",
           "landcolor": "#E5ECF6",
           "showlakes": true,
           "showland": true,
           "subunitcolor": "white"
          },
          "hoverlabel": {
           "align": "left"
          },
          "hovermode": "closest",
          "mapbox": {
           "style": "light"
          },
          "paper_bgcolor": "white",
          "plot_bgcolor": "#E5ECF6",
          "polar": {
           "angularaxis": {
            "gridcolor": "white",
            "linecolor": "white",
            "ticks": ""
           },
           "bgcolor": "#E5ECF6",
           "radialaxis": {
            "gridcolor": "white",
            "linecolor": "white",
            "ticks": ""
           }
          },
          "scene": {
           "xaxis": {
            "backgroundcolor": "#E5ECF6",
            "gridcolor": "white",
            "gridwidth": 2,
            "linecolor": "white",
            "showbackground": true,
            "ticks": "",
            "zerolinecolor": "white"
           },
           "yaxis": {
            "backgroundcolor": "#E5ECF6",
            "gridcolor": "white",
            "gridwidth": 2,
            "linecolor": "white",
            "showbackground": true,
            "ticks": "",
            "zerolinecolor": "white"
           },
           "zaxis": {
            "backgroundcolor": "#E5ECF6",
            "gridcolor": "white",
            "gridwidth": 2,
            "linecolor": "white",
            "showbackground": true,
            "ticks": "",
            "zerolinecolor": "white"
           }
          },
          "shapedefaults": {
           "line": {
            "color": "#2a3f5f"
           }
          },
          "ternary": {
           "aaxis": {
            "gridcolor": "white",
            "linecolor": "white",
            "ticks": ""
           },
           "baxis": {
            "gridcolor": "white",
            "linecolor": "white",
            "ticks": ""
           },
           "bgcolor": "#E5ECF6",
           "caxis": {
            "gridcolor": "white",
            "linecolor": "white",
            "ticks": ""
           }
          },
          "title": {
           "x": 0.05
          },
          "xaxis": {
           "automargin": true,
           "gridcolor": "white",
           "linecolor": "white",
           "ticks": "",
           "title": {
            "standoff": 15
           },
           "zerolinecolor": "white",
           "zerolinewidth": 2
          },
          "yaxis": {
           "automargin": true,
           "gridcolor": "white",
           "linecolor": "white",
           "ticks": "",
           "title": {
            "standoff": 15
           },
           "zerolinecolor": "white",
           "zerolinewidth": 2
          }
         }
        },
        "title": {
         "text": "Métricas dos modelos de Regressão Linear, para diferentes horizontes de previsões futuras 'f', de maiores r2 e para 'n'=4 (fixo) "
        },
        "xaxis": {
         "anchor": "y",
         "domain": [
          0,
          1
         ]
        },
        "xaxis2": {
         "anchor": "y2",
         "domain": [
          0,
          1
         ]
        },
        "yaxis": {
         "anchor": "x",
         "domain": [
          0.575,
          1
         ],
         "range": [
          0,
          25000
         ]
        },
        "yaxis2": {
         "anchor": "x2",
         "domain": [
          0,
          0.425
         ],
         "range": [
          0,
          25000
         ]
        }
       }
      }
     },
     "metadata": {},
     "output_type": "display_data"
    }
   ],
   "source": [
    "from plotly.subplots import make_subplots\n",
    "import plotly.graph_objects as go\n",
    "\n",
    "# Custom labels for each subplot\n",
    "custom_labels_r2_2 = ['f=5', 'f=6', 'f=7', 'f=8']\n",
    "custom_labels_r2_1 = ['f=1', 'f=2', 'f=3', 'f=4']\n",
    "\n",
    "# custom_labels_r2_2 = ['f=5 & n=3', 'f=6 & n=2', 'f=7 & n=1', 'f=8 & n=7']\n",
    "# custom_labels_r2_1 = ['f=1 & n=7', 'f=2 & n=1', 'f=3 & n=5', 'f=4 & n=2']\n",
    "\n",
    "\n",
    "# Define colors for bars\n",
    "r2_color = 'maroon'\n",
    "corr_color = 'orange'\n",
    "\n",
    "# Create subplots\n",
    "fig = make_subplots(rows=2, cols=1) # subplot_titles=(\"Custom Labels for n=5 to n=8\", \"Custom Labels for n=1 to n=4\")\n",
    "\n",
    "# Add traces to subplot 1\n",
    "fig.add_trace(go.Bar(\n",
    "    x=custom_labels_r2_1,\n",
    "    y=df_plt_2['metrics.mae'][:4],\n",
    "    text=df_plt_2['metrics.mae'][:4].apply(lambda x: f'{x:.3f}'),  \n",
    "    hovertemplate='%{y:.3f}',\n",
    "    name='MAE',\n",
    "    legendgroup='mae_group',\n",
    "    marker=dict(color=r2_color)\n",
    "), row=1, col=1)\n",
    "\n",
    "fig.add_trace(go.Bar(\n",
    "    x=custom_labels_r2_1,\n",
    "    y=df_plt_2['metrics.rmse'][:4],\n",
    "    text=df_plt_2['metrics.rmse'][:4].apply(lambda x: f'{x:.3f}'),  \n",
    "    hovertemplate='%{y:.3f}',\n",
    "    name='RMSE',\n",
    "    legendgroup='rmse_group',\n",
    "    showlegend=False,\n",
    "    marker=dict(color=corr_color)\n",
    "), row=1, col=1)\n",
    "\n",
    "# Add traces to subplot 2\n",
    "fig.add_trace(go.Bar(\n",
    "    x=custom_labels_r2_2,\n",
    "    y=df_plt_2['metrics.mae'][4:],\n",
    "    text=df_plt_2['metrics.mae'][4:].apply(lambda x: f'{x:.3f}'),  \n",
    "    hovertemplate='%{y:.3f}',\n",
    "    name='MAE',\n",
    "    legendgroup='mae_group',\n",
    "    showlegend=False,\n",
    "    marker=dict(color=r2_color)\n",
    "), row=2, col=1)\n",
    "\n",
    "fig.add_trace(go.Bar(\n",
    "    x=custom_labels_r2_2,\n",
    "    y=df_plt_2['metrics.rmse'][4:],\n",
    "    text=df_plt_2['metrics.rmse'][4:].apply(lambda x: f'{x:.3f}'),  \n",
    "    hovertemplate='%{y:.3f}',\n",
    "    name='RMSE',\n",
    "    legendgroup='rmse_group',\n",
    "    marker=dict(color=corr_color)\n",
    "), row=2, col=1)\n",
    "\n",
    "# Update layout\n",
    "fig.update_layout(\n",
    "    title=f\"Métricas {name_plots}, para diferentes horizontes de previsões futuras 'f', de maiores r2 e para 'n'=4 (fixo) \",\n",
    "    #xaxis=dict(title='Número de S.O Retroativas \"n\" a serem utilizadas durante o treinamento'),\n",
    "    barmode='group',\n",
    ")\n",
    "\n",
    "# Set the same y-axis range for both subplots\n",
    "fig.update_yaxes(range=[0, 25000], row=1, col=1)\n",
    "fig.update_yaxes(range=[0, 25000], row=2, col=1)\n",
    "\n",
    "# Add annotations\n",
    "fig.add_annotation(text=\"'n' = Número de S.O Retroativas de vazão observada e precipitação na bacia, a serem utilizadas durante o treinamento\",\n",
    "                   xref=\"paper\", yref=\"paper\",\n",
    "                   x=0.5, y=-0.18, showarrow=False)\n",
    "\n",
    "# Add annotations\n",
    "fig.add_annotation(text=\"'f' = Número da S.O Futura onde se prevê a vazão\",\n",
    "                   xref=\"paper\", yref=\"paper\",\n",
    "                   x=0.5, y=-0.25, showarrow=False)\n",
    "\n",
    "# Show the plot\n",
    "fig.show()\n"
   ]
  }
 ],
 "metadata": {
  "kernelspec": {
   "display_name": ".euros",
   "language": "python",
   "name": ".euros"
  },
  "language_info": {
   "codemirror_mode": {
    "name": "ipython",
    "version": 3
   },
   "file_extension": ".py",
   "mimetype": "text/x-python",
   "name": "python",
   "nbconvert_exporter": "python",
   "pygments_lexer": "ipython3",
   "version": "3.10.12"
  },
  "orig_nbformat": 4
 },
 "nbformat": 4,
 "nbformat_minor": 2
}
