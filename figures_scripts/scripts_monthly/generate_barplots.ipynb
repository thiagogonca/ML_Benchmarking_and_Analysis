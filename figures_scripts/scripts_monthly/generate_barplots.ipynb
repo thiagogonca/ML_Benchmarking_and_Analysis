{
 "cells": [
  {
   "cell_type": "code",
   "execution_count": 1,
   "metadata": {},
   "outputs": [
    {
     "name": "stderr",
     "output_type": "stream",
     "text": [
      "/usr/lib/python3/dist-packages/scipy/__init__.py:146: UserWarning: A NumPy version >=1.17.3 and <1.25.0 is required for this version of SciPy (detected version 1.26.3\n",
      "  warnings.warn(f\"A NumPy version >={np_minversion} and <{np_maxversion}\"\n"
     ]
    }
   ],
   "source": [
    "import mlflow\n",
    "import pandas as pd"
   ]
  },
  {
   "cell_type": "code",
   "execution_count": 2,
   "metadata": {},
   "outputs": [],
   "source": [
    "mlflow.set_tracking_uri(\"http://localhost:5000\")\n",
    "mlflow.set_experiment(\"Itaipu_Benchmarking_Vazao_Mensal_V1\")\n",
    "\n",
    "drop_columns = ['run_id','experiment_id', 'status','artifact_uri', \n",
    "                'start_time', 'end_time', 'tags.mlflow.source.type', \n",
    "                'tags.mlflow.source.name','params.label',\n",
    "                'tags.mlflow.user'] # params.model\n",
    "\n",
    "filter_columns = ['metrics.mae', 'metrics.r2', 'metrics.corr', 'metrics.rmse', \n",
    "                  'params.n_so_retro', 'params.model', 'params.f_so_pred']"
   ]
  },
  {
   "cell_type": "code",
   "execution_count": 3,
   "metadata": {},
   "outputs": [],
   "source": [
    "# Initialize an empty list to store the dataframes\n",
    "dfs = []\n",
    "\n",
    "models = [\"decision_tree\", \"gru\", \"linear_regression\", \"lstm\", \"random_forest\"] # , \"xgboost\" p/ futura implementação\n",
    "\n",
    "for model_name in models:\n",
    "    df = mlflow.search_runs(filter_string=f\"params.model = '{model_name}'\")\n",
    "    df = df.drop(columns=drop_columns)\n",
    "    dfs.append(df)\n",
    "\n",
    "# Concatenate the dataframes along the rows\n",
    "df = pd.concat(dfs)"
   ]
  },
  {
   "cell_type": "code",
   "execution_count": 4,
   "metadata": {},
   "outputs": [
    {
     "name": "stdout",
     "output_type": "stream",
     "text": [
      "Foram realizados: 22400 experimentos\n"
     ]
    },
    {
     "data": {
      "text/html": [
       "<div>\n",
       "<style scoped>\n",
       "    .dataframe tbody tr th:only-of-type {\n",
       "        vertical-align: middle;\n",
       "    }\n",
       "\n",
       "    .dataframe tbody tr th {\n",
       "        vertical-align: top;\n",
       "    }\n",
       "\n",
       "    .dataframe thead th {\n",
       "        text-align: right;\n",
       "    }\n",
       "</style>\n",
       "<table border=\"1\" class=\"dataframe\">\n",
       "  <thead>\n",
       "    <tr style=\"text-align: right;\">\n",
       "      <th></th>\n",
       "      <th>metrics.r2</th>\n",
       "      <th>metrics.rmse</th>\n",
       "      <th>metrics.mae</th>\n",
       "      <th>metrics.corr</th>\n",
       "      <th>params.f_so_pred</th>\n",
       "      <th>params.criterion</th>\n",
       "      <th>params.min_samples_split</th>\n",
       "      <th>params.splitter</th>\n",
       "      <th>params.max_depth</th>\n",
       "      <th>params.n_so_retro</th>\n",
       "      <th>...</th>\n",
       "      <th>tags.run_name</th>\n",
       "      <th>tags.mlflow.runName</th>\n",
       "      <th>params.max_epochs</th>\n",
       "      <th>params.patience</th>\n",
       "      <th>params.activation</th>\n",
       "      <th>params.n_neurons_hl</th>\n",
       "      <th>params.monitor_metric</th>\n",
       "      <th>params.fit_intercept</th>\n",
       "      <th>params.bootstrap</th>\n",
       "      <th>params.n_estimators</th>\n",
       "    </tr>\n",
       "  </thead>\n",
       "  <tbody>\n",
       "    <tr>\n",
       "      <th>0</th>\n",
       "      <td>0.334453</td>\n",
       "      <td>111224.334204</td>\n",
       "      <td>85689.506224</td>\n",
       "      <td>0.750934</td>\n",
       "      <td>8</td>\n",
       "      <td>absolute_error</td>\n",
       "      <td>7</td>\n",
       "      <td>random</td>\n",
       "      <td>7</td>\n",
       "      <td>8</td>\n",
       "      <td>...</td>\n",
       "      <td>decision_tree_n=8_f=8_criterion=absolute_error...</td>\n",
       "      <td>decision_tree_n=8_f=8_criterion=absolute_error...</td>\n",
       "      <td>NaN</td>\n",
       "      <td>NaN</td>\n",
       "      <td>NaN</td>\n",
       "      <td>NaN</td>\n",
       "      <td>NaN</td>\n",
       "      <td>NaN</td>\n",
       "      <td>NaN</td>\n",
       "      <td>NaN</td>\n",
       "    </tr>\n",
       "    <tr>\n",
       "      <th>1</th>\n",
       "      <td>0.417878</td>\n",
       "      <td>104020.140026</td>\n",
       "      <td>84028.935510</td>\n",
       "      <td>0.687357</td>\n",
       "      <td>8</td>\n",
       "      <td>absolute_error</td>\n",
       "      <td>7</td>\n",
       "      <td>random</td>\n",
       "      <td>7</td>\n",
       "      <td>8</td>\n",
       "      <td>...</td>\n",
       "      <td>decision_tree_n=8_f=8_criterion=absolute_error...</td>\n",
       "      <td>decision_tree_n=8_f=8_criterion=absolute_error...</td>\n",
       "      <td>NaN</td>\n",
       "      <td>NaN</td>\n",
       "      <td>NaN</td>\n",
       "      <td>NaN</td>\n",
       "      <td>NaN</td>\n",
       "      <td>NaN</td>\n",
       "      <td>NaN</td>\n",
       "      <td>NaN</td>\n",
       "    </tr>\n",
       "    <tr>\n",
       "      <th>2</th>\n",
       "      <td>0.453582</td>\n",
       "      <td>100779.610560</td>\n",
       "      <td>73722.152041</td>\n",
       "      <td>0.695106</td>\n",
       "      <td>8</td>\n",
       "      <td>absolute_error</td>\n",
       "      <td>7</td>\n",
       "      <td>random</td>\n",
       "      <td>7</td>\n",
       "      <td>8</td>\n",
       "      <td>...</td>\n",
       "      <td>decision_tree_n=8_f=8_criterion=absolute_error...</td>\n",
       "      <td>decision_tree_n=8_f=8_criterion=absolute_error...</td>\n",
       "      <td>NaN</td>\n",
       "      <td>NaN</td>\n",
       "      <td>NaN</td>\n",
       "      <td>NaN</td>\n",
       "      <td>NaN</td>\n",
       "      <td>NaN</td>\n",
       "      <td>NaN</td>\n",
       "      <td>NaN</td>\n",
       "    </tr>\n",
       "    <tr>\n",
       "      <th>3</th>\n",
       "      <td>0.681093</td>\n",
       "      <td>76991.383490</td>\n",
       "      <td>60753.753571</td>\n",
       "      <td>0.864142</td>\n",
       "      <td>8</td>\n",
       "      <td>absolute_error</td>\n",
       "      <td>5</td>\n",
       "      <td>random</td>\n",
       "      <td>7</td>\n",
       "      <td>8</td>\n",
       "      <td>...</td>\n",
       "      <td>decision_tree_n=8_f=8_criterion=absolute_error...</td>\n",
       "      <td>decision_tree_n=8_f=8_criterion=absolute_error...</td>\n",
       "      <td>NaN</td>\n",
       "      <td>NaN</td>\n",
       "      <td>NaN</td>\n",
       "      <td>NaN</td>\n",
       "      <td>NaN</td>\n",
       "      <td>NaN</td>\n",
       "      <td>NaN</td>\n",
       "      <td>NaN</td>\n",
       "    </tr>\n",
       "    <tr>\n",
       "      <th>4</th>\n",
       "      <td>0.265807</td>\n",
       "      <td>116819.555616</td>\n",
       "      <td>87880.073673</td>\n",
       "      <td>0.666091</td>\n",
       "      <td>8</td>\n",
       "      <td>absolute_error</td>\n",
       "      <td>5</td>\n",
       "      <td>random</td>\n",
       "      <td>7</td>\n",
       "      <td>8</td>\n",
       "      <td>...</td>\n",
       "      <td>decision_tree_n=8_f=8_criterion=absolute_error...</td>\n",
       "      <td>decision_tree_n=8_f=8_criterion=absolute_error...</td>\n",
       "      <td>NaN</td>\n",
       "      <td>NaN</td>\n",
       "      <td>NaN</td>\n",
       "      <td>NaN</td>\n",
       "      <td>NaN</td>\n",
       "      <td>NaN</td>\n",
       "      <td>NaN</td>\n",
       "      <td>NaN</td>\n",
       "    </tr>\n",
       "    <tr>\n",
       "      <th>...</th>\n",
       "      <td>...</td>\n",
       "      <td>...</td>\n",
       "      <td>...</td>\n",
       "      <td>...</td>\n",
       "      <td>...</td>\n",
       "      <td>...</td>\n",
       "      <td>...</td>\n",
       "      <td>...</td>\n",
       "      <td>...</td>\n",
       "      <td>...</td>\n",
       "      <td>...</td>\n",
       "      <td>...</td>\n",
       "      <td>...</td>\n",
       "      <td>...</td>\n",
       "      <td>...</td>\n",
       "      <td>...</td>\n",
       "      <td>...</td>\n",
       "      <td>...</td>\n",
       "      <td>...</td>\n",
       "      <td>...</td>\n",
       "      <td>...</td>\n",
       "    </tr>\n",
       "    <tr>\n",
       "      <th>3067</th>\n",
       "      <td>0.777781</td>\n",
       "      <td>62880.579741</td>\n",
       "      <td>49449.965455</td>\n",
       "      <td>0.883982</td>\n",
       "      <td>1</td>\n",
       "      <td>squared_error</td>\n",
       "      <td>NaN</td>\n",
       "      <td>NaN</td>\n",
       "      <td>5</td>\n",
       "      <td>1</td>\n",
       "      <td>...</td>\n",
       "      <td>random_forest_n=1_f=1_criterion=squared_error_...</td>\n",
       "      <td>random_forest_n=1_f=1_criterion=squared_error_...</td>\n",
       "      <td>NaN</td>\n",
       "      <td>NaN</td>\n",
       "      <td>NaN</td>\n",
       "      <td>NaN</td>\n",
       "      <td>NaN</td>\n",
       "      <td>NaN</td>\n",
       "      <td>True</td>\n",
       "      <td>50</td>\n",
       "    </tr>\n",
       "    <tr>\n",
       "      <th>3068</th>\n",
       "      <td>0.589558</td>\n",
       "      <td>85457.753998</td>\n",
       "      <td>67621.045189</td>\n",
       "      <td>0.775846</td>\n",
       "      <td>1</td>\n",
       "      <td>squared_error</td>\n",
       "      <td>NaN</td>\n",
       "      <td>NaN</td>\n",
       "      <td>3</td>\n",
       "      <td>1</td>\n",
       "      <td>...</td>\n",
       "      <td>random_forest_n=1_f=1_criterion=squared_error_...</td>\n",
       "      <td>random_forest_n=1_f=1_criterion=squared_error_...</td>\n",
       "      <td>NaN</td>\n",
       "      <td>NaN</td>\n",
       "      <td>NaN</td>\n",
       "      <td>NaN</td>\n",
       "      <td>NaN</td>\n",
       "      <td>NaN</td>\n",
       "      <td>False</td>\n",
       "      <td>50</td>\n",
       "    </tr>\n",
       "    <tr>\n",
       "      <th>3069</th>\n",
       "      <td>0.671935</td>\n",
       "      <td>76402.112139</td>\n",
       "      <td>60254.526219</td>\n",
       "      <td>0.824218</td>\n",
       "      <td>1</td>\n",
       "      <td>squared_error</td>\n",
       "      <td>NaN</td>\n",
       "      <td>NaN</td>\n",
       "      <td>3</td>\n",
       "      <td>1</td>\n",
       "      <td>...</td>\n",
       "      <td>random_forest_n=1_f=1_criterion=squared_error_...</td>\n",
       "      <td>random_forest_n=1_f=1_criterion=squared_error_...</td>\n",
       "      <td>NaN</td>\n",
       "      <td>NaN</td>\n",
       "      <td>NaN</td>\n",
       "      <td>NaN</td>\n",
       "      <td>NaN</td>\n",
       "      <td>NaN</td>\n",
       "      <td>True</td>\n",
       "      <td>50</td>\n",
       "    </tr>\n",
       "    <tr>\n",
       "      <th>3070</th>\n",
       "      <td>0.501450</td>\n",
       "      <td>94184.582504</td>\n",
       "      <td>78105.750758</td>\n",
       "      <td>0.766762</td>\n",
       "      <td>1</td>\n",
       "      <td>squared_error</td>\n",
       "      <td>NaN</td>\n",
       "      <td>NaN</td>\n",
       "      <td>None</td>\n",
       "      <td>1</td>\n",
       "      <td>...</td>\n",
       "      <td>random_forest_n=1_f=1_criterion=squared_error_...</td>\n",
       "      <td>random_forest_n=1_f=1_criterion=squared_error_...</td>\n",
       "      <td>NaN</td>\n",
       "      <td>NaN</td>\n",
       "      <td>NaN</td>\n",
       "      <td>NaN</td>\n",
       "      <td>NaN</td>\n",
       "      <td>NaN</td>\n",
       "      <td>False</td>\n",
       "      <td>50</td>\n",
       "    </tr>\n",
       "    <tr>\n",
       "      <th>3071</th>\n",
       "      <td>0.777522</td>\n",
       "      <td>62917.087811</td>\n",
       "      <td>48585.763950</td>\n",
       "      <td>0.884686</td>\n",
       "      <td>1</td>\n",
       "      <td>squared_error</td>\n",
       "      <td>NaN</td>\n",
       "      <td>NaN</td>\n",
       "      <td>None</td>\n",
       "      <td>1</td>\n",
       "      <td>...</td>\n",
       "      <td>random_forest_n=1_f=1_criterion=squared_error_...</td>\n",
       "      <td>random_forest_n=1_f=1_criterion=squared_error_...</td>\n",
       "      <td>NaN</td>\n",
       "      <td>NaN</td>\n",
       "      <td>NaN</td>\n",
       "      <td>NaN</td>\n",
       "      <td>NaN</td>\n",
       "      <td>NaN</td>\n",
       "      <td>True</td>\n",
       "      <td>50</td>\n",
       "    </tr>\n",
       "  </tbody>\n",
       "</table>\n",
       "<p>22400 rows × 23 columns</p>\n",
       "</div>"
      ],
      "text/plain": [
       "      metrics.r2   metrics.rmse   metrics.mae  metrics.corr params.f_so_pred  \\\n",
       "0       0.334453  111224.334204  85689.506224      0.750934                8   \n",
       "1       0.417878  104020.140026  84028.935510      0.687357                8   \n",
       "2       0.453582  100779.610560  73722.152041      0.695106                8   \n",
       "3       0.681093   76991.383490  60753.753571      0.864142                8   \n",
       "4       0.265807  116819.555616  87880.073673      0.666091                8   \n",
       "...          ...            ...           ...           ...              ...   \n",
       "3067    0.777781   62880.579741  49449.965455      0.883982                1   \n",
       "3068    0.589558   85457.753998  67621.045189      0.775846                1   \n",
       "3069    0.671935   76402.112139  60254.526219      0.824218                1   \n",
       "3070    0.501450   94184.582504  78105.750758      0.766762                1   \n",
       "3071    0.777522   62917.087811  48585.763950      0.884686                1   \n",
       "\n",
       "     params.criterion params.min_samples_split params.splitter  \\\n",
       "0      absolute_error                        7          random   \n",
       "1      absolute_error                        7          random   \n",
       "2      absolute_error                        7          random   \n",
       "3      absolute_error                        5          random   \n",
       "4      absolute_error                        5          random   \n",
       "...               ...                      ...             ...   \n",
       "3067    squared_error                      NaN             NaN   \n",
       "3068    squared_error                      NaN             NaN   \n",
       "3069    squared_error                      NaN             NaN   \n",
       "3070    squared_error                      NaN             NaN   \n",
       "3071    squared_error                      NaN             NaN   \n",
       "\n",
       "     params.max_depth params.n_so_retro  ...  \\\n",
       "0                   7                 8  ...   \n",
       "1                   7                 8  ...   \n",
       "2                   7                 8  ...   \n",
       "3                   7                 8  ...   \n",
       "4                   7                 8  ...   \n",
       "...               ...               ...  ...   \n",
       "3067                5                 1  ...   \n",
       "3068                3                 1  ...   \n",
       "3069                3                 1  ...   \n",
       "3070             None                 1  ...   \n",
       "3071             None                 1  ...   \n",
       "\n",
       "                                          tags.run_name  \\\n",
       "0     decision_tree_n=8_f=8_criterion=absolute_error...   \n",
       "1     decision_tree_n=8_f=8_criterion=absolute_error...   \n",
       "2     decision_tree_n=8_f=8_criterion=absolute_error...   \n",
       "3     decision_tree_n=8_f=8_criterion=absolute_error...   \n",
       "4     decision_tree_n=8_f=8_criterion=absolute_error...   \n",
       "...                                                 ...   \n",
       "3067  random_forest_n=1_f=1_criterion=squared_error_...   \n",
       "3068  random_forest_n=1_f=1_criterion=squared_error_...   \n",
       "3069  random_forest_n=1_f=1_criterion=squared_error_...   \n",
       "3070  random_forest_n=1_f=1_criterion=squared_error_...   \n",
       "3071  random_forest_n=1_f=1_criterion=squared_error_...   \n",
       "\n",
       "                                    tags.mlflow.runName params.max_epochs  \\\n",
       "0     decision_tree_n=8_f=8_criterion=absolute_error...               NaN   \n",
       "1     decision_tree_n=8_f=8_criterion=absolute_error...               NaN   \n",
       "2     decision_tree_n=8_f=8_criterion=absolute_error...               NaN   \n",
       "3     decision_tree_n=8_f=8_criterion=absolute_error...               NaN   \n",
       "4     decision_tree_n=8_f=8_criterion=absolute_error...               NaN   \n",
       "...                                                 ...               ...   \n",
       "3067  random_forest_n=1_f=1_criterion=squared_error_...               NaN   \n",
       "3068  random_forest_n=1_f=1_criterion=squared_error_...               NaN   \n",
       "3069  random_forest_n=1_f=1_criterion=squared_error_...               NaN   \n",
       "3070  random_forest_n=1_f=1_criterion=squared_error_...               NaN   \n",
       "3071  random_forest_n=1_f=1_criterion=squared_error_...               NaN   \n",
       "\n",
       "     params.patience params.activation params.n_neurons_hl  \\\n",
       "0                NaN               NaN                 NaN   \n",
       "1                NaN               NaN                 NaN   \n",
       "2                NaN               NaN                 NaN   \n",
       "3                NaN               NaN                 NaN   \n",
       "4                NaN               NaN                 NaN   \n",
       "...              ...               ...                 ...   \n",
       "3067             NaN               NaN                 NaN   \n",
       "3068             NaN               NaN                 NaN   \n",
       "3069             NaN               NaN                 NaN   \n",
       "3070             NaN               NaN                 NaN   \n",
       "3071             NaN               NaN                 NaN   \n",
       "\n",
       "     params.monitor_metric params.fit_intercept params.bootstrap  \\\n",
       "0                      NaN                  NaN              NaN   \n",
       "1                      NaN                  NaN              NaN   \n",
       "2                      NaN                  NaN              NaN   \n",
       "3                      NaN                  NaN              NaN   \n",
       "4                      NaN                  NaN              NaN   \n",
       "...                    ...                  ...              ...   \n",
       "3067                   NaN                  NaN             True   \n",
       "3068                   NaN                  NaN            False   \n",
       "3069                   NaN                  NaN             True   \n",
       "3070                   NaN                  NaN            False   \n",
       "3071                   NaN                  NaN             True   \n",
       "\n",
       "     params.n_estimators  \n",
       "0                    NaN  \n",
       "1                    NaN  \n",
       "2                    NaN  \n",
       "3                    NaN  \n",
       "4                    NaN  \n",
       "...                  ...  \n",
       "3067                  50  \n",
       "3068                  50  \n",
       "3069                  50  \n",
       "3070                  50  \n",
       "3071                  50  \n",
       "\n",
       "[22400 rows x 23 columns]"
      ]
     },
     "execution_count": 4,
     "metadata": {},
     "output_type": "execute_result"
    }
   ],
   "source": [
    "print(\"Foram realizados:\", df.shape[0], \"experimentos\")\n",
    "df"
   ]
  },
  {
   "cell_type": "code",
   "execution_count": 5,
   "metadata": {},
   "outputs": [
    {
     "data": {
      "text/html": [
       "<div>\n",
       "<style scoped>\n",
       "    .dataframe tbody tr th:only-of-type {\n",
       "        vertical-align: middle;\n",
       "    }\n",
       "\n",
       "    .dataframe tbody tr th {\n",
       "        vertical-align: top;\n",
       "    }\n",
       "\n",
       "    .dataframe thead th {\n",
       "        text-align: right;\n",
       "    }\n",
       "</style>\n",
       "<table border=\"1\" class=\"dataframe\">\n",
       "  <thead>\n",
       "    <tr style=\"text-align: right;\">\n",
       "      <th></th>\n",
       "      <th>metrics.mae</th>\n",
       "      <th>metrics.r2</th>\n",
       "      <th>metrics.corr</th>\n",
       "      <th>metrics.rmse</th>\n",
       "      <th>params.n_so_retro</th>\n",
       "      <th>params.model</th>\n",
       "      <th>params.f_so_pred</th>\n",
       "    </tr>\n",
       "  </thead>\n",
       "  <tbody>\n",
       "    <tr>\n",
       "      <th>0</th>\n",
       "      <td>85689.506224</td>\n",
       "      <td>0.334453</td>\n",
       "      <td>0.750934</td>\n",
       "      <td>111224.334204</td>\n",
       "      <td>8</td>\n",
       "      <td>decision_tree</td>\n",
       "      <td>8</td>\n",
       "    </tr>\n",
       "    <tr>\n",
       "      <th>1</th>\n",
       "      <td>84028.935510</td>\n",
       "      <td>0.417878</td>\n",
       "      <td>0.687357</td>\n",
       "      <td>104020.140026</td>\n",
       "      <td>8</td>\n",
       "      <td>decision_tree</td>\n",
       "      <td>8</td>\n",
       "    </tr>\n",
       "    <tr>\n",
       "      <th>2</th>\n",
       "      <td>73722.152041</td>\n",
       "      <td>0.453582</td>\n",
       "      <td>0.695106</td>\n",
       "      <td>100779.610560</td>\n",
       "      <td>8</td>\n",
       "      <td>decision_tree</td>\n",
       "      <td>8</td>\n",
       "    </tr>\n",
       "    <tr>\n",
       "      <th>3</th>\n",
       "      <td>60753.753571</td>\n",
       "      <td>0.681093</td>\n",
       "      <td>0.864142</td>\n",
       "      <td>76991.383490</td>\n",
       "      <td>8</td>\n",
       "      <td>decision_tree</td>\n",
       "      <td>8</td>\n",
       "    </tr>\n",
       "    <tr>\n",
       "      <th>4</th>\n",
       "      <td>87880.073673</td>\n",
       "      <td>0.265807</td>\n",
       "      <td>0.666091</td>\n",
       "      <td>116819.555616</td>\n",
       "      <td>8</td>\n",
       "      <td>decision_tree</td>\n",
       "      <td>8</td>\n",
       "    </tr>\n",
       "    <tr>\n",
       "      <th>...</th>\n",
       "      <td>...</td>\n",
       "      <td>...</td>\n",
       "      <td>...</td>\n",
       "      <td>...</td>\n",
       "      <td>...</td>\n",
       "      <td>...</td>\n",
       "      <td>...</td>\n",
       "    </tr>\n",
       "    <tr>\n",
       "      <th>3067</th>\n",
       "      <td>49449.965455</td>\n",
       "      <td>0.777781</td>\n",
       "      <td>0.883982</td>\n",
       "      <td>62880.579741</td>\n",
       "      <td>1</td>\n",
       "      <td>random_forest</td>\n",
       "      <td>1</td>\n",
       "    </tr>\n",
       "    <tr>\n",
       "      <th>3068</th>\n",
       "      <td>67621.045189</td>\n",
       "      <td>0.589558</td>\n",
       "      <td>0.775846</td>\n",
       "      <td>85457.753998</td>\n",
       "      <td>1</td>\n",
       "      <td>random_forest</td>\n",
       "      <td>1</td>\n",
       "    </tr>\n",
       "    <tr>\n",
       "      <th>3069</th>\n",
       "      <td>60254.526219</td>\n",
       "      <td>0.671935</td>\n",
       "      <td>0.824218</td>\n",
       "      <td>76402.112139</td>\n",
       "      <td>1</td>\n",
       "      <td>random_forest</td>\n",
       "      <td>1</td>\n",
       "    </tr>\n",
       "    <tr>\n",
       "      <th>3070</th>\n",
       "      <td>78105.750758</td>\n",
       "      <td>0.501450</td>\n",
       "      <td>0.766762</td>\n",
       "      <td>94184.582504</td>\n",
       "      <td>1</td>\n",
       "      <td>random_forest</td>\n",
       "      <td>1</td>\n",
       "    </tr>\n",
       "    <tr>\n",
       "      <th>3071</th>\n",
       "      <td>48585.763950</td>\n",
       "      <td>0.777522</td>\n",
       "      <td>0.884686</td>\n",
       "      <td>62917.087811</td>\n",
       "      <td>1</td>\n",
       "      <td>random_forest</td>\n",
       "      <td>1</td>\n",
       "    </tr>\n",
       "  </tbody>\n",
       "</table>\n",
       "<p>22400 rows × 7 columns</p>\n",
       "</div>"
      ],
      "text/plain": [
       "       metrics.mae  metrics.r2  metrics.corr   metrics.rmse params.n_so_retro  \\\n",
       "0     85689.506224    0.334453      0.750934  111224.334204                 8   \n",
       "1     84028.935510    0.417878      0.687357  104020.140026                 8   \n",
       "2     73722.152041    0.453582      0.695106  100779.610560                 8   \n",
       "3     60753.753571    0.681093      0.864142   76991.383490                 8   \n",
       "4     87880.073673    0.265807      0.666091  116819.555616                 8   \n",
       "...            ...         ...           ...            ...               ...   \n",
       "3067  49449.965455    0.777781      0.883982   62880.579741                 1   \n",
       "3068  67621.045189    0.589558      0.775846   85457.753998                 1   \n",
       "3069  60254.526219    0.671935      0.824218   76402.112139                 1   \n",
       "3070  78105.750758    0.501450      0.766762   94184.582504                 1   \n",
       "3071  48585.763950    0.777522      0.884686   62917.087811                 1   \n",
       "\n",
       "       params.model params.f_so_pred  \n",
       "0     decision_tree                8  \n",
       "1     decision_tree                8  \n",
       "2     decision_tree                8  \n",
       "3     decision_tree                8  \n",
       "4     decision_tree                8  \n",
       "...             ...              ...  \n",
       "3067  random_forest                1  \n",
       "3068  random_forest                1  \n",
       "3069  random_forest                1  \n",
       "3070  random_forest                1  \n",
       "3071  random_forest                1  \n",
       "\n",
       "[22400 rows x 7 columns]"
      ]
     },
     "execution_count": 5,
     "metadata": {},
     "output_type": "execute_result"
    }
   ],
   "source": [
    "df = df[filter_columns]\n",
    "df"
   ]
  },
  {
   "cell_type": "code",
   "execution_count": 6,
   "metadata": {},
   "outputs": [],
   "source": [
    "# df_r2[df_r2['params.f_so_pred'] == '1']#.sort_values(by='metrics.r2', ascending=True)"
   ]
  },
  {
   "cell_type": "code",
   "execution_count": 7,
   "metadata": {},
   "outputs": [],
   "source": [
    "# df_r2[df_r2['params.f_so_pred'] == '1']['params.model'].values #.sort_values(by='metrics.r2', ascending=True)"
   ]
  },
  {
   "cell_type": "code",
   "execution_count": 8,
   "metadata": {},
   "outputs": [],
   "source": [
    "# df_r2[df_r2['params.f_so_pred'] == '1']['metrics.r2'].values # #.sort_values(by='metrics.r2', ascending=True)"
   ]
  },
  {
   "cell_type": "code",
   "execution_count": 9,
   "metadata": {},
   "outputs": [],
   "source": [
    "# df_r2[df_r2['params.model'] == 'decision_tree']"
   ]
  },
  {
   "cell_type": "code",
   "execution_count": 10,
   "metadata": {},
   "outputs": [],
   "source": [
    "# df_r2[df_r2['params.model'] == 'decision_tree']['metrics.r2'].values.tolist()"
   ]
  },
  {
   "cell_type": "code",
   "execution_count": 11,
   "metadata": {},
   "outputs": [],
   "source": [
    "# x_array = []\n",
    "# y_array = []\n",
    "\n",
    "# for f in range(1,8+1):\n",
    "#     x_array.append(df_r2[df_r2['params.f_so_pred'] == f'{f}']['params.model'].values.tolist())\n",
    "#     y_array.append(df_r2[df_r2['params.f_so_pred'] == f'{f}']['metrics.r2'].values.tolist())"
   ]
  },
  {
   "cell_type": "markdown",
   "metadata": {},
   "source": [
    "### Best R2-score for each \"f\""
   ]
  },
  {
   "cell_type": "code",
   "execution_count": 12,
   "metadata": {},
   "outputs": [
    {
     "data": {
      "text/html": [
       "<div>\n",
       "<style scoped>\n",
       "    .dataframe tbody tr th:only-of-type {\n",
       "        vertical-align: middle;\n",
       "    }\n",
       "\n",
       "    .dataframe tbody tr th {\n",
       "        vertical-align: top;\n",
       "    }\n",
       "\n",
       "    .dataframe thead th {\n",
       "        text-align: right;\n",
       "    }\n",
       "</style>\n",
       "<table border=\"1\" class=\"dataframe\">\n",
       "  <thead>\n",
       "    <tr style=\"text-align: right;\">\n",
       "      <th></th>\n",
       "      <th>metrics.mae</th>\n",
       "      <th>metrics.r2</th>\n",
       "      <th>metrics.corr</th>\n",
       "      <th>metrics.rmse</th>\n",
       "      <th>params.n_so_retro</th>\n",
       "      <th>params.model</th>\n",
       "      <th>params.f_so_pred</th>\n",
       "    </tr>\n",
       "  </thead>\n",
       "  <tbody>\n",
       "    <tr>\n",
       "      <th>1195</th>\n",
       "      <td>53299.598005</td>\n",
       "      <td>0.811836</td>\n",
       "      <td>0.904738</td>\n",
       "      <td>62561.180344</td>\n",
       "      <td>5</td>\n",
       "      <td>random_forest</td>\n",
       "      <td>8</td>\n",
       "    </tr>\n",
       "    <tr>\n",
       "      <th>857</th>\n",
       "      <td>54193.747680</td>\n",
       "      <td>0.805063</td>\n",
       "      <td>0.900044</td>\n",
       "      <td>63677.198781</td>\n",
       "      <td>6</td>\n",
       "      <td>random_forest</td>\n",
       "      <td>7</td>\n",
       "    </tr>\n",
       "    <tr>\n",
       "      <th>497</th>\n",
       "      <td>52711.776606</td>\n",
       "      <td>0.814122</td>\n",
       "      <td>0.907438</td>\n",
       "      <td>62179.924110</td>\n",
       "      <td>7</td>\n",
       "      <td>random_forest</td>\n",
       "      <td>6</td>\n",
       "    </tr>\n",
       "    <tr>\n",
       "      <th>159</th>\n",
       "      <td>54399.012292</td>\n",
       "      <td>0.808915</td>\n",
       "      <td>0.903528</td>\n",
       "      <td>63044.809736</td>\n",
       "      <td>8</td>\n",
       "      <td>random_forest</td>\n",
       "      <td>5</td>\n",
       "    </tr>\n",
       "    <tr>\n",
       "      <th>227</th>\n",
       "      <td>57506.241212</td>\n",
       "      <td>0.775046</td>\n",
       "      <td>0.897073</td>\n",
       "      <td>77163.510106</td>\n",
       "      <td>8</td>\n",
       "      <td>random_forest</td>\n",
       "      <td>4</td>\n",
       "    </tr>\n",
       "    <tr>\n",
       "      <th>2955</th>\n",
       "      <td>40810.835858</td>\n",
       "      <td>0.776121</td>\n",
       "      <td>0.883198</td>\n",
       "      <td>53171.107687</td>\n",
       "      <td>1</td>\n",
       "      <td>random_forest</td>\n",
       "      <td>3</td>\n",
       "    </tr>\n",
       "    <tr>\n",
       "      <th>2635</th>\n",
       "      <td>37372.465488</td>\n",
       "      <td>0.814162</td>\n",
       "      <td>0.903757</td>\n",
       "      <td>48443.515162</td>\n",
       "      <td>2</td>\n",
       "      <td>random_forest</td>\n",
       "      <td>2</td>\n",
       "    </tr>\n",
       "    <tr>\n",
       "      <th>1535</th>\n",
       "      <td>46824.625992</td>\n",
       "      <td>0.796353</td>\n",
       "      <td>0.903775</td>\n",
       "      <td>58307.394028</td>\n",
       "      <td>5</td>\n",
       "      <td>random_forest</td>\n",
       "      <td>1</td>\n",
       "    </tr>\n",
       "    <tr>\n",
       "      <th>41</th>\n",
       "      <td>43005.802721</td>\n",
       "      <td>0.840221</td>\n",
       "      <td>0.929586</td>\n",
       "      <td>56445.362752</td>\n",
       "      <td>8</td>\n",
       "      <td>lstm</td>\n",
       "      <td>8</td>\n",
       "    </tr>\n",
       "    <tr>\n",
       "      <th>3923</th>\n",
       "      <td>45588.411327</td>\n",
       "      <td>0.835607</td>\n",
       "      <td>0.915233</td>\n",
       "      <td>60378.722662</td>\n",
       "      <td>5</td>\n",
       "      <td>lstm</td>\n",
       "      <td>7</td>\n",
       "    </tr>\n",
       "    <tr>\n",
       "      <th>4765</th>\n",
       "      <td>37546.561403</td>\n",
       "      <td>0.843782</td>\n",
       "      <td>0.920953</td>\n",
       "      <td>53757.527491</td>\n",
       "      <td>5</td>\n",
       "      <td>lstm</td>\n",
       "      <td>6</td>\n",
       "    </tr>\n",
       "    <tr>\n",
       "      <th>3813</th>\n",
       "      <td>33825.866480</td>\n",
       "      <td>0.881633</td>\n",
       "      <td>0.943874</td>\n",
       "      <td>48275.427363</td>\n",
       "      <td>6</td>\n",
       "      <td>lstm</td>\n",
       "      <td>5</td>\n",
       "    </tr>\n",
       "    <tr>\n",
       "      <th>651</th>\n",
       "      <td>39500.362003</td>\n",
       "      <td>0.894189</td>\n",
       "      <td>0.949615</td>\n",
       "      <td>51858.787252</td>\n",
       "      <td>7</td>\n",
       "      <td>lstm</td>\n",
       "      <td>4</td>\n",
       "    </tr>\n",
       "    <tr>\n",
       "      <th>727</th>\n",
       "      <td>42317.040838</td>\n",
       "      <td>0.876320</td>\n",
       "      <td>0.936193</td>\n",
       "      <td>54071.381781</td>\n",
       "      <td>7</td>\n",
       "      <td>lstm</td>\n",
       "      <td>3</td>\n",
       "    </tr>\n",
       "    <tr>\n",
       "      <th>374</th>\n",
       "      <td>39019.707575</td>\n",
       "      <td>0.868495</td>\n",
       "      <td>0.937227</td>\n",
       "      <td>50823.986900</td>\n",
       "      <td>8</td>\n",
       "      <td>lstm</td>\n",
       "      <td>2</td>\n",
       "    </tr>\n",
       "    <tr>\n",
       "      <th>3729</th>\n",
       "      <td>33955.908652</td>\n",
       "      <td>0.858217</td>\n",
       "      <td>0.932574</td>\n",
       "      <td>47158.410024</td>\n",
       "      <td>7</td>\n",
       "      <td>lstm</td>\n",
       "      <td>1</td>\n",
       "    </tr>\n",
       "  </tbody>\n",
       "</table>\n",
       "</div>"
      ],
      "text/plain": [
       "       metrics.mae  metrics.r2  metrics.corr  metrics.rmse params.n_so_retro  \\\n",
       "1195  53299.598005    0.811836      0.904738  62561.180344                 5   \n",
       "857   54193.747680    0.805063      0.900044  63677.198781                 6   \n",
       "497   52711.776606    0.814122      0.907438  62179.924110                 7   \n",
       "159   54399.012292    0.808915      0.903528  63044.809736                 8   \n",
       "227   57506.241212    0.775046      0.897073  77163.510106                 8   \n",
       "2955  40810.835858    0.776121      0.883198  53171.107687                 1   \n",
       "2635  37372.465488    0.814162      0.903757  48443.515162                 2   \n",
       "1535  46824.625992    0.796353      0.903775  58307.394028                 5   \n",
       "41    43005.802721    0.840221      0.929586  56445.362752                 8   \n",
       "3923  45588.411327    0.835607      0.915233  60378.722662                 5   \n",
       "4765  37546.561403    0.843782      0.920953  53757.527491                 5   \n",
       "3813  33825.866480    0.881633      0.943874  48275.427363                 6   \n",
       "651   39500.362003    0.894189      0.949615  51858.787252                 7   \n",
       "727   42317.040838    0.876320      0.936193  54071.381781                 7   \n",
       "374   39019.707575    0.868495      0.937227  50823.986900                 8   \n",
       "3729  33955.908652    0.858217      0.932574  47158.410024                 7   \n",
       "\n",
       "       params.model params.f_so_pred  \n",
       "1195  random_forest                8  \n",
       "857   random_forest                7  \n",
       "497   random_forest                6  \n",
       "159   random_forest                5  \n",
       "227   random_forest                4  \n",
       "2955  random_forest                3  \n",
       "2635  random_forest                2  \n",
       "1535  random_forest                1  \n",
       "41             lstm                8  \n",
       "3923           lstm                7  \n",
       "4765           lstm                6  \n",
       "3813           lstm                5  \n",
       "651            lstm                4  \n",
       "727            lstm                3  \n",
       "374            lstm                2  \n",
       "3729           lstm                1  "
      ]
     },
     "execution_count": 12,
     "metadata": {},
     "output_type": "execute_result"
    }
   ],
   "source": [
    "df_r2 = ( df\n",
    "    .sort_values(by=['params.model','params.f_so_pred', 'metrics.r2'], ascending=False)\n",
    "    .drop_duplicates(subset=['params.model','params.f_so_pred'], keep='first')\n",
    ")\n",
    "\n",
    "df_r2.head(16)"
   ]
  },
  {
   "cell_type": "code",
   "execution_count": 13,
   "metadata": {},
   "outputs": [
    {
     "data": {
      "text/html": [
       "<div>\n",
       "<style scoped>\n",
       "    .dataframe tbody tr th:only-of-type {\n",
       "        vertical-align: middle;\n",
       "    }\n",
       "\n",
       "    .dataframe tbody tr th {\n",
       "        vertical-align: top;\n",
       "    }\n",
       "\n",
       "    .dataframe thead th {\n",
       "        text-align: right;\n",
       "    }\n",
       "</style>\n",
       "<table border=\"1\" class=\"dataframe\">\n",
       "  <thead>\n",
       "    <tr style=\"text-align: right;\">\n",
       "      <th></th>\n",
       "      <th>metrics.mae</th>\n",
       "      <th>metrics.r2</th>\n",
       "      <th>metrics.corr</th>\n",
       "      <th>metrics.rmse</th>\n",
       "      <th>params.n_so_retro</th>\n",
       "      <th>params.model</th>\n",
       "      <th>params.f_so_pred</th>\n",
       "    </tr>\n",
       "  </thead>\n",
       "  <tbody>\n",
       "    <tr>\n",
       "      <th>9144</th>\n",
       "      <td>50521.653946</td>\n",
       "      <td>0.781420</td>\n",
       "      <td>0.886781</td>\n",
       "      <td>62363.480205</td>\n",
       "      <td>1</td>\n",
       "      <td>decision_tree</td>\n",
       "      <td>1</td>\n",
       "    </tr>\n",
       "    <tr>\n",
       "      <th>5510</th>\n",
       "      <td>50817.962255</td>\n",
       "      <td>0.775536</td>\n",
       "      <td>0.887815</td>\n",
       "      <td>61214.961076</td>\n",
       "      <td>4</td>\n",
       "      <td>decision_tree</td>\n",
       "      <td>2</td>\n",
       "    </tr>\n",
       "    <tr>\n",
       "      <th>5417</th>\n",
       "      <td>55792.894512</td>\n",
       "      <td>0.731813</td>\n",
       "      <td>0.856666</td>\n",
       "      <td>72623.882089</td>\n",
       "      <td>4</td>\n",
       "      <td>decision_tree</td>\n",
       "      <td>3</td>\n",
       "    </tr>\n",
       "    <tr>\n",
       "      <th>700</th>\n",
       "      <td>64832.604437</td>\n",
       "      <td>0.771629</td>\n",
       "      <td>0.885032</td>\n",
       "      <td>77747.322215</td>\n",
       "      <td>8</td>\n",
       "      <td>decision_tree</td>\n",
       "      <td>4</td>\n",
       "    </tr>\n",
       "    <tr>\n",
       "      <th>8572</th>\n",
       "      <td>50674.077278</td>\n",
       "      <td>0.767115</td>\n",
       "      <td>0.876046</td>\n",
       "      <td>62352.685858</td>\n",
       "      <td>1</td>\n",
       "      <td>decision_tree</td>\n",
       "      <td>5</td>\n",
       "    </tr>\n",
       "    <tr>\n",
       "      <th>1477</th>\n",
       "      <td>58088.772900</td>\n",
       "      <td>0.760674</td>\n",
       "      <td>0.873870</td>\n",
       "      <td>70555.512731</td>\n",
       "      <td>7</td>\n",
       "      <td>decision_tree</td>\n",
       "      <td>6</td>\n",
       "    </tr>\n",
       "    <tr>\n",
       "      <th>2488</th>\n",
       "      <td>56759.191900</td>\n",
       "      <td>0.759658</td>\n",
       "      <td>0.873441</td>\n",
       "      <td>70705.215553</td>\n",
       "      <td>6</td>\n",
       "      <td>decision_tree</td>\n",
       "      <td>7</td>\n",
       "    </tr>\n",
       "    <tr>\n",
       "      <th>3520</th>\n",
       "      <td>59026.133700</td>\n",
       "      <td>0.763523</td>\n",
       "      <td>0.877766</td>\n",
       "      <td>70134.368919</td>\n",
       "      <td>5</td>\n",
       "      <td>decision_tree</td>\n",
       "      <td>8</td>\n",
       "    </tr>\n",
       "    <tr>\n",
       "      <th>1535</th>\n",
       "      <td>46824.625992</td>\n",
       "      <td>0.796353</td>\n",
       "      <td>0.903775</td>\n",
       "      <td>58307.394028</td>\n",
       "      <td>5</td>\n",
       "      <td>random_forest</td>\n",
       "      <td>1</td>\n",
       "    </tr>\n",
       "    <tr>\n",
       "      <th>2635</th>\n",
       "      <td>37372.465488</td>\n",
       "      <td>0.814162</td>\n",
       "      <td>0.903757</td>\n",
       "      <td>48443.515162</td>\n",
       "      <td>2</td>\n",
       "      <td>random_forest</td>\n",
       "      <td>2</td>\n",
       "    </tr>\n",
       "    <tr>\n",
       "      <th>2955</th>\n",
       "      <td>40810.835858</td>\n",
       "      <td>0.776121</td>\n",
       "      <td>0.883198</td>\n",
       "      <td>53171.107687</td>\n",
       "      <td>1</td>\n",
       "      <td>random_forest</td>\n",
       "      <td>3</td>\n",
       "    </tr>\n",
       "    <tr>\n",
       "      <th>227</th>\n",
       "      <td>57506.241212</td>\n",
       "      <td>0.775046</td>\n",
       "      <td>0.897073</td>\n",
       "      <td>77163.510106</td>\n",
       "      <td>8</td>\n",
       "      <td>random_forest</td>\n",
       "      <td>4</td>\n",
       "    </tr>\n",
       "    <tr>\n",
       "      <th>159</th>\n",
       "      <td>54399.012292</td>\n",
       "      <td>0.808915</td>\n",
       "      <td>0.903528</td>\n",
       "      <td>63044.809736</td>\n",
       "      <td>8</td>\n",
       "      <td>random_forest</td>\n",
       "      <td>5</td>\n",
       "    </tr>\n",
       "    <tr>\n",
       "      <th>497</th>\n",
       "      <td>52711.776606</td>\n",
       "      <td>0.814122</td>\n",
       "      <td>0.907438</td>\n",
       "      <td>62179.924110</td>\n",
       "      <td>7</td>\n",
       "      <td>random_forest</td>\n",
       "      <td>6</td>\n",
       "    </tr>\n",
       "    <tr>\n",
       "      <th>857</th>\n",
       "      <td>54193.747680</td>\n",
       "      <td>0.805063</td>\n",
       "      <td>0.900044</td>\n",
       "      <td>63677.198781</td>\n",
       "      <td>6</td>\n",
       "      <td>random_forest</td>\n",
       "      <td>7</td>\n",
       "    </tr>\n",
       "    <tr>\n",
       "      <th>1195</th>\n",
       "      <td>53299.598005</td>\n",
       "      <td>0.811836</td>\n",
       "      <td>0.904738</td>\n",
       "      <td>62561.180344</td>\n",
       "      <td>5</td>\n",
       "      <td>random_forest</td>\n",
       "      <td>8</td>\n",
       "    </tr>\n",
       "  </tbody>\n",
       "</table>\n",
       "</div>"
      ],
      "text/plain": [
       "       metrics.mae  metrics.r2  metrics.corr  metrics.rmse params.n_so_retro  \\\n",
       "9144  50521.653946    0.781420      0.886781  62363.480205                 1   \n",
       "5510  50817.962255    0.775536      0.887815  61214.961076                 4   \n",
       "5417  55792.894512    0.731813      0.856666  72623.882089                 4   \n",
       "700   64832.604437    0.771629      0.885032  77747.322215                 8   \n",
       "8572  50674.077278    0.767115      0.876046  62352.685858                 1   \n",
       "1477  58088.772900    0.760674      0.873870  70555.512731                 7   \n",
       "2488  56759.191900    0.759658      0.873441  70705.215553                 6   \n",
       "3520  59026.133700    0.763523      0.877766  70134.368919                 5   \n",
       "1535  46824.625992    0.796353      0.903775  58307.394028                 5   \n",
       "2635  37372.465488    0.814162      0.903757  48443.515162                 2   \n",
       "2955  40810.835858    0.776121      0.883198  53171.107687                 1   \n",
       "227   57506.241212    0.775046      0.897073  77163.510106                 8   \n",
       "159   54399.012292    0.808915      0.903528  63044.809736                 8   \n",
       "497   52711.776606    0.814122      0.907438  62179.924110                 7   \n",
       "857   54193.747680    0.805063      0.900044  63677.198781                 6   \n",
       "1195  53299.598005    0.811836      0.904738  62561.180344                 5   \n",
       "\n",
       "       params.model params.f_so_pred  \n",
       "9144  decision_tree                1  \n",
       "5510  decision_tree                2  \n",
       "5417  decision_tree                3  \n",
       "700   decision_tree                4  \n",
       "8572  decision_tree                5  \n",
       "1477  decision_tree                6  \n",
       "2488  decision_tree                7  \n",
       "3520  decision_tree                8  \n",
       "1535  random_forest                1  \n",
       "2635  random_forest                2  \n",
       "2955  random_forest                3  \n",
       "227   random_forest                4  \n",
       "159   random_forest                5  \n",
       "497   random_forest                6  \n",
       "857   random_forest                7  \n",
       "1195  random_forest                8  "
      ]
     },
     "execution_count": 13,
     "metadata": {},
     "output_type": "execute_result"
    }
   ],
   "source": [
    "model_order = ['decision_tree', 'random_forest', 'linear_regression', 'gru', 'lstm']\n",
    "df_r2['params.model'] = pd.Categorical(df_r2['params.model'], categories=model_order, ordered=True)\n",
    "df_r2 = df_r2.sort_values(by=['params.model', 'params.f_so_pred'])\n",
    "df_r2.head(16)"
   ]
  },
  {
   "cell_type": "code",
   "execution_count": 14,
   "metadata": {},
   "outputs": [],
   "source": [
    "dict_plot = []\n",
    "\n",
    "for model in model_order:\n",
    "    dict_plot.append({f'{model}': df_r2[df_r2['params.model'] == f'{model}']['metrics.r2'].values.tolist()})"
   ]
  },
  {
   "cell_type": "code",
   "execution_count": 15,
   "metadata": {},
   "outputs": [
    {
     "data": {
      "application/vnd.plotly.v1+json": {
       "config": {
        "plotlyServerURL": "https://plot.ly"
       },
       "data": [
        {
         "legendgroup": "decision_tree",
         "marker": {
          "color": "#636EFA"
         },
         "name": "decision_tree",
         "text": [
          "0.781",
          "0.776",
          "0.732",
          "0.772"
         ],
         "type": "bar",
         "x": [
          "F=1",
          "F=2",
          "F=3",
          "F=4"
         ],
         "xaxis": "x",
         "y": [
          0.7814203909738799,
          0.775536301082727,
          0.7318130769081141,
          0.7716293953007398
         ],
         "yaxis": "y"
        },
        {
         "legendgroup": "random_forest",
         "marker": {
          "color": "#EF553B"
         },
         "name": "random_forest",
         "text": [
          "0.796",
          "0.814",
          "0.776",
          "0.775"
         ],
         "type": "bar",
         "x": [
          "F=1",
          "F=2",
          "F=3",
          "F=4"
         ],
         "xaxis": "x",
         "y": [
          0.7963529031558105,
          0.8141623296281545,
          0.7761207360341823,
          0.7750462318832122
         ],
         "yaxis": "y"
        },
        {
         "legendgroup": "linear_regression",
         "marker": {
          "color": "#00CC96"
         },
         "name": "linear_regression",
         "text": [
          "0.833",
          "0.873",
          "0.867",
          "0.851"
         ],
         "type": "bar",
         "x": [
          "F=1",
          "F=2",
          "F=3",
          "F=4"
         ],
         "xaxis": "x",
         "y": [
          0.8334271541689863,
          0.8726095081721379,
          0.8674541542772818,
          0.8511799230091683
         ],
         "yaxis": "y"
        },
        {
         "legendgroup": "gru",
         "marker": {
          "color": "#AB63FA"
         },
         "name": "gru",
         "text": [
          "0.862",
          "0.872",
          "0.870",
          "0.883"
         ],
         "type": "bar",
         "x": [
          "F=1",
          "F=2",
          "F=3",
          "F=4"
         ],
         "xaxis": "x",
         "y": [
          0.8616720485065421,
          0.8717655042081709,
          0.8702390364863889,
          0.8827363027282915
         ],
         "yaxis": "y"
        },
        {
         "legendgroup": "lstm",
         "marker": {
          "color": "#FFA15A"
         },
         "name": "lstm",
         "text": [
          "0.858",
          "0.868",
          "0.876",
          "0.894"
         ],
         "type": "bar",
         "x": [
          "F=1",
          "F=2",
          "F=3",
          "F=4"
         ],
         "xaxis": "x",
         "y": [
          0.8582169080567188,
          0.8684946330091294,
          0.8763195511015847,
          0.8941892384327106
         ],
         "yaxis": "y"
        },
        {
         "legendgroup": "decision_tree",
         "marker": {
          "color": "#636EFA"
         },
         "name": "decision_tree",
         "showlegend": false,
         "text": [
          "0.767",
          "0.761",
          "0.760",
          "0.764"
         ],
         "type": "bar",
         "x": [
          "F=5",
          "F=6",
          "F=7",
          "F=8"
         ],
         "xaxis": "x2",
         "y": [
          0.7671151210017042,
          0.7606743903622646,
          0.7596577234292692,
          0.763522918790006
         ],
         "yaxis": "y2"
        },
        {
         "legendgroup": "random_forest",
         "marker": {
          "color": "#EF553B"
         },
         "name": "random_forest",
         "showlegend": false,
         "text": [
          "0.809",
          "0.814",
          "0.805",
          "0.812"
         ],
         "type": "bar",
         "x": [
          "F=5",
          "F=6",
          "F=7",
          "F=8"
         ],
         "xaxis": "x2",
         "y": [
          0.8089152862161465,
          0.8141221481977159,
          0.8050625998569603,
          0.8118357397923364
         ],
         "yaxis": "y2"
        },
        {
         "legendgroup": "linear_regression",
         "marker": {
          "color": "#00CC96"
         },
         "name": "linear_regression",
         "showlegend": false,
         "text": [
          "0.852",
          "0.849",
          "0.838",
          "0.879"
         ],
         "type": "bar",
         "x": [
          "F=5",
          "F=6",
          "F=7",
          "F=8"
         ],
         "xaxis": "x2",
         "y": [
          0.8516550819599636,
          0.8494920949677119,
          0.8375171202620789,
          0.879354330730766
         ],
         "yaxis": "y2"
        },
        {
         "legendgroup": "gru",
         "marker": {
          "color": "#AB63FA"
         },
         "name": "gru",
         "showlegend": false,
         "text": [
          "0.866",
          "0.831",
          "0.829",
          "0.852"
         ],
         "type": "bar",
         "x": [
          "F=5",
          "F=6",
          "F=7",
          "F=8"
         ],
         "xaxis": "x2",
         "y": [
          0.8656270176107124,
          0.8313735241100033,
          0.8288482136180304,
          0.852082667438861
         ],
         "yaxis": "y2"
        },
        {
         "legendgroup": "lstm",
         "marker": {
          "color": "#FFA15A"
         },
         "name": "lstm",
         "showlegend": false,
         "text": [
          "0.882",
          "0.844",
          "0.836",
          "0.840"
         ],
         "type": "bar",
         "x": [
          "F=5",
          "F=6",
          "F=7",
          "F=8"
         ],
         "xaxis": "x2",
         "y": [
          0.8816329692394516,
          0.8437821815800643,
          0.8356074046556349,
          0.8402211144780902
         ],
         "yaxis": "y2"
        }
       ],
       "layout": {
        "annotations": [
         {
          "showarrow": false,
          "text": "'F' = Número do mês futuro a onde se prevê a vazão",
          "x": 0.5,
          "xref": "paper",
          "y": -0.18,
          "yref": "paper"
         }
        ],
        "barmode": "group",
        "template": {
         "data": {
          "bar": [
           {
            "error_x": {
             "color": "#2a3f5f"
            },
            "error_y": {
             "color": "#2a3f5f"
            },
            "marker": {
             "line": {
              "color": "#E5ECF6",
              "width": 0.5
             },
             "pattern": {
              "fillmode": "overlay",
              "size": 10,
              "solidity": 0.2
             }
            },
            "type": "bar"
           }
          ],
          "barpolar": [
           {
            "marker": {
             "line": {
              "color": "#E5ECF6",
              "width": 0.5
             },
             "pattern": {
              "fillmode": "overlay",
              "size": 10,
              "solidity": 0.2
             }
            },
            "type": "barpolar"
           }
          ],
          "carpet": [
           {
            "aaxis": {
             "endlinecolor": "#2a3f5f",
             "gridcolor": "white",
             "linecolor": "white",
             "minorgridcolor": "white",
             "startlinecolor": "#2a3f5f"
            },
            "baxis": {
             "endlinecolor": "#2a3f5f",
             "gridcolor": "white",
             "linecolor": "white",
             "minorgridcolor": "white",
             "startlinecolor": "#2a3f5f"
            },
            "type": "carpet"
           }
          ],
          "choropleth": [
           {
            "colorbar": {
             "outlinewidth": 0,
             "ticks": ""
            },
            "type": "choropleth"
           }
          ],
          "contour": [
           {
            "colorbar": {
             "outlinewidth": 0,
             "ticks": ""
            },
            "colorscale": [
             [
              0,
              "#0d0887"
             ],
             [
              0.1111111111111111,
              "#46039f"
             ],
             [
              0.2222222222222222,
              "#7201a8"
             ],
             [
              0.3333333333333333,
              "#9c179e"
             ],
             [
              0.4444444444444444,
              "#bd3786"
             ],
             [
              0.5555555555555556,
              "#d8576b"
             ],
             [
              0.6666666666666666,
              "#ed7953"
             ],
             [
              0.7777777777777778,
              "#fb9f3a"
             ],
             [
              0.8888888888888888,
              "#fdca26"
             ],
             [
              1,
              "#f0f921"
             ]
            ],
            "type": "contour"
           }
          ],
          "contourcarpet": [
           {
            "colorbar": {
             "outlinewidth": 0,
             "ticks": ""
            },
            "type": "contourcarpet"
           }
          ],
          "heatmap": [
           {
            "colorbar": {
             "outlinewidth": 0,
             "ticks": ""
            },
            "colorscale": [
             [
              0,
              "#0d0887"
             ],
             [
              0.1111111111111111,
              "#46039f"
             ],
             [
              0.2222222222222222,
              "#7201a8"
             ],
             [
              0.3333333333333333,
              "#9c179e"
             ],
             [
              0.4444444444444444,
              "#bd3786"
             ],
             [
              0.5555555555555556,
              "#d8576b"
             ],
             [
              0.6666666666666666,
              "#ed7953"
             ],
             [
              0.7777777777777778,
              "#fb9f3a"
             ],
             [
              0.8888888888888888,
              "#fdca26"
             ],
             [
              1,
              "#f0f921"
             ]
            ],
            "type": "heatmap"
           }
          ],
          "heatmapgl": [
           {
            "colorbar": {
             "outlinewidth": 0,
             "ticks": ""
            },
            "colorscale": [
             [
              0,
              "#0d0887"
             ],
             [
              0.1111111111111111,
              "#46039f"
             ],
             [
              0.2222222222222222,
              "#7201a8"
             ],
             [
              0.3333333333333333,
              "#9c179e"
             ],
             [
              0.4444444444444444,
              "#bd3786"
             ],
             [
              0.5555555555555556,
              "#d8576b"
             ],
             [
              0.6666666666666666,
              "#ed7953"
             ],
             [
              0.7777777777777778,
              "#fb9f3a"
             ],
             [
              0.8888888888888888,
              "#fdca26"
             ],
             [
              1,
              "#f0f921"
             ]
            ],
            "type": "heatmapgl"
           }
          ],
          "histogram": [
           {
            "marker": {
             "pattern": {
              "fillmode": "overlay",
              "size": 10,
              "solidity": 0.2
             }
            },
            "type": "histogram"
           }
          ],
          "histogram2d": [
           {
            "colorbar": {
             "outlinewidth": 0,
             "ticks": ""
            },
            "colorscale": [
             [
              0,
              "#0d0887"
             ],
             [
              0.1111111111111111,
              "#46039f"
             ],
             [
              0.2222222222222222,
              "#7201a8"
             ],
             [
              0.3333333333333333,
              "#9c179e"
             ],
             [
              0.4444444444444444,
              "#bd3786"
             ],
             [
              0.5555555555555556,
              "#d8576b"
             ],
             [
              0.6666666666666666,
              "#ed7953"
             ],
             [
              0.7777777777777778,
              "#fb9f3a"
             ],
             [
              0.8888888888888888,
              "#fdca26"
             ],
             [
              1,
              "#f0f921"
             ]
            ],
            "type": "histogram2d"
           }
          ],
          "histogram2dcontour": [
           {
            "colorbar": {
             "outlinewidth": 0,
             "ticks": ""
            },
            "colorscale": [
             [
              0,
              "#0d0887"
             ],
             [
              0.1111111111111111,
              "#46039f"
             ],
             [
              0.2222222222222222,
              "#7201a8"
             ],
             [
              0.3333333333333333,
              "#9c179e"
             ],
             [
              0.4444444444444444,
              "#bd3786"
             ],
             [
              0.5555555555555556,
              "#d8576b"
             ],
             [
              0.6666666666666666,
              "#ed7953"
             ],
             [
              0.7777777777777778,
              "#fb9f3a"
             ],
             [
              0.8888888888888888,
              "#fdca26"
             ],
             [
              1,
              "#f0f921"
             ]
            ],
            "type": "histogram2dcontour"
           }
          ],
          "mesh3d": [
           {
            "colorbar": {
             "outlinewidth": 0,
             "ticks": ""
            },
            "type": "mesh3d"
           }
          ],
          "parcoords": [
           {
            "line": {
             "colorbar": {
              "outlinewidth": 0,
              "ticks": ""
             }
            },
            "type": "parcoords"
           }
          ],
          "pie": [
           {
            "automargin": true,
            "type": "pie"
           }
          ],
          "scatter": [
           {
            "fillpattern": {
             "fillmode": "overlay",
             "size": 10,
             "solidity": 0.2
            },
            "type": "scatter"
           }
          ],
          "scatter3d": [
           {
            "line": {
             "colorbar": {
              "outlinewidth": 0,
              "ticks": ""
             }
            },
            "marker": {
             "colorbar": {
              "outlinewidth": 0,
              "ticks": ""
             }
            },
            "type": "scatter3d"
           }
          ],
          "scattercarpet": [
           {
            "marker": {
             "colorbar": {
              "outlinewidth": 0,
              "ticks": ""
             }
            },
            "type": "scattercarpet"
           }
          ],
          "scattergeo": [
           {
            "marker": {
             "colorbar": {
              "outlinewidth": 0,
              "ticks": ""
             }
            },
            "type": "scattergeo"
           }
          ],
          "scattergl": [
           {
            "marker": {
             "colorbar": {
              "outlinewidth": 0,
              "ticks": ""
             }
            },
            "type": "scattergl"
           }
          ],
          "scattermapbox": [
           {
            "marker": {
             "colorbar": {
              "outlinewidth": 0,
              "ticks": ""
             }
            },
            "type": "scattermapbox"
           }
          ],
          "scatterpolar": [
           {
            "marker": {
             "colorbar": {
              "outlinewidth": 0,
              "ticks": ""
             }
            },
            "type": "scatterpolar"
           }
          ],
          "scatterpolargl": [
           {
            "marker": {
             "colorbar": {
              "outlinewidth": 0,
              "ticks": ""
             }
            },
            "type": "scatterpolargl"
           }
          ],
          "scatterternary": [
           {
            "marker": {
             "colorbar": {
              "outlinewidth": 0,
              "ticks": ""
             }
            },
            "type": "scatterternary"
           }
          ],
          "surface": [
           {
            "colorbar": {
             "outlinewidth": 0,
             "ticks": ""
            },
            "colorscale": [
             [
              0,
              "#0d0887"
             ],
             [
              0.1111111111111111,
              "#46039f"
             ],
             [
              0.2222222222222222,
              "#7201a8"
             ],
             [
              0.3333333333333333,
              "#9c179e"
             ],
             [
              0.4444444444444444,
              "#bd3786"
             ],
             [
              0.5555555555555556,
              "#d8576b"
             ],
             [
              0.6666666666666666,
              "#ed7953"
             ],
             [
              0.7777777777777778,
              "#fb9f3a"
             ],
             [
              0.8888888888888888,
              "#fdca26"
             ],
             [
              1,
              "#f0f921"
             ]
            ],
            "type": "surface"
           }
          ],
          "table": [
           {
            "cells": {
             "fill": {
              "color": "#EBF0F8"
             },
             "line": {
              "color": "white"
             }
            },
            "header": {
             "fill": {
              "color": "#C8D4E3"
             },
             "line": {
              "color": "white"
             }
            },
            "type": "table"
           }
          ]
         },
         "layout": {
          "annotationdefaults": {
           "arrowcolor": "#2a3f5f",
           "arrowhead": 0,
           "arrowwidth": 1
          },
          "autotypenumbers": "strict",
          "coloraxis": {
           "colorbar": {
            "outlinewidth": 0,
            "ticks": ""
           }
          },
          "colorscale": {
           "diverging": [
            [
             0,
             "#8e0152"
            ],
            [
             0.1,
             "#c51b7d"
            ],
            [
             0.2,
             "#de77ae"
            ],
            [
             0.3,
             "#f1b6da"
            ],
            [
             0.4,
             "#fde0ef"
            ],
            [
             0.5,
             "#f7f7f7"
            ],
            [
             0.6,
             "#e6f5d0"
            ],
            [
             0.7,
             "#b8e186"
            ],
            [
             0.8,
             "#7fbc41"
            ],
            [
             0.9,
             "#4d9221"
            ],
            [
             1,
             "#276419"
            ]
           ],
           "sequential": [
            [
             0,
             "#0d0887"
            ],
            [
             0.1111111111111111,
             "#46039f"
            ],
            [
             0.2222222222222222,
             "#7201a8"
            ],
            [
             0.3333333333333333,
             "#9c179e"
            ],
            [
             0.4444444444444444,
             "#bd3786"
            ],
            [
             0.5555555555555556,
             "#d8576b"
            ],
            [
             0.6666666666666666,
             "#ed7953"
            ],
            [
             0.7777777777777778,
             "#fb9f3a"
            ],
            [
             0.8888888888888888,
             "#fdca26"
            ],
            [
             1,
             "#f0f921"
            ]
           ],
           "sequentialminus": [
            [
             0,
             "#0d0887"
            ],
            [
             0.1111111111111111,
             "#46039f"
            ],
            [
             0.2222222222222222,
             "#7201a8"
            ],
            [
             0.3333333333333333,
             "#9c179e"
            ],
            [
             0.4444444444444444,
             "#bd3786"
            ],
            [
             0.5555555555555556,
             "#d8576b"
            ],
            [
             0.6666666666666666,
             "#ed7953"
            ],
            [
             0.7777777777777778,
             "#fb9f3a"
            ],
            [
             0.8888888888888888,
             "#fdca26"
            ],
            [
             1,
             "#f0f921"
            ]
           ]
          },
          "colorway": [
           "#636efa",
           "#EF553B",
           "#00cc96",
           "#ab63fa",
           "#FFA15A",
           "#19d3f3",
           "#FF6692",
           "#B6E880",
           "#FF97FF",
           "#FECB52"
          ],
          "font": {
           "color": "#2a3f5f"
          },
          "geo": {
           "bgcolor": "white",
           "lakecolor": "white",
           "landcolor": "#E5ECF6",
           "showlakes": true,
           "showland": true,
           "subunitcolor": "white"
          },
          "hoverlabel": {
           "align": "left"
          },
          "hovermode": "closest",
          "mapbox": {
           "style": "light"
          },
          "paper_bgcolor": "white",
          "plot_bgcolor": "#E5ECF6",
          "polar": {
           "angularaxis": {
            "gridcolor": "white",
            "linecolor": "white",
            "ticks": ""
           },
           "bgcolor": "#E5ECF6",
           "radialaxis": {
            "gridcolor": "white",
            "linecolor": "white",
            "ticks": ""
           }
          },
          "scene": {
           "xaxis": {
            "backgroundcolor": "#E5ECF6",
            "gridcolor": "white",
            "gridwidth": 2,
            "linecolor": "white",
            "showbackground": true,
            "ticks": "",
            "zerolinecolor": "white"
           },
           "yaxis": {
            "backgroundcolor": "#E5ECF6",
            "gridcolor": "white",
            "gridwidth": 2,
            "linecolor": "white",
            "showbackground": true,
            "ticks": "",
            "zerolinecolor": "white"
           },
           "zaxis": {
            "backgroundcolor": "#E5ECF6",
            "gridcolor": "white",
            "gridwidth": 2,
            "linecolor": "white",
            "showbackground": true,
            "ticks": "",
            "zerolinecolor": "white"
           }
          },
          "shapedefaults": {
           "line": {
            "color": "#2a3f5f"
           }
          },
          "ternary": {
           "aaxis": {
            "gridcolor": "white",
            "linecolor": "white",
            "ticks": ""
           },
           "baxis": {
            "gridcolor": "white",
            "linecolor": "white",
            "ticks": ""
           },
           "bgcolor": "#E5ECF6",
           "caxis": {
            "gridcolor": "white",
            "linecolor": "white",
            "ticks": ""
           }
          },
          "title": {
           "x": 0.05
          },
          "xaxis": {
           "automargin": true,
           "gridcolor": "white",
           "linecolor": "white",
           "ticks": "",
           "title": {
            "standoff": 15
           },
           "zerolinecolor": "white",
           "zerolinewidth": 2
          },
          "yaxis": {
           "automargin": true,
           "gridcolor": "white",
           "linecolor": "white",
           "ticks": "",
           "title": {
            "standoff": 15
           },
           "zerolinecolor": "white",
           "zerolinewidth": 2
          }
         }
        },
        "title": {
         "text": "Modelos com melhor R2-score para previsão da vazão no 'F'-ésimo mês"
        },
        "xaxis": {
         "anchor": "y",
         "domain": [
          0,
          1
         ]
        },
        "xaxis2": {
         "anchor": "y2",
         "domain": [
          0,
          1
         ]
        },
        "yaxis": {
         "anchor": "x",
         "domain": [
          0.575,
          1
         ],
         "range": [
          0.68,
          1
         ]
        },
        "yaxis2": {
         "anchor": "x2",
         "domain": [
          0,
          0.425
         ],
         "range": [
          0.68,
          1
         ]
        }
       }
      }
     },
     "metadata": {},
     "output_type": "display_data"
    }
   ],
   "source": [
    "from plotly.subplots import make_subplots\n",
    "import plotly.graph_objects as go\n",
    "import plotly.express as px\n",
    "\n",
    "branches = ['F=1', 'F=2', 'F=3', 'F=4', \n",
    "            'F=5', 'F=6', 'F=7', 'F=8']\n",
    "\n",
    "decision_tree = dict_plot[0]['decision_tree']\n",
    "random_forest = dict_plot[1]['random_forest']\n",
    "linear_regression = dict_plot[2]['linear_regression']\n",
    "gru = dict_plot[3]['gru']\n",
    "lstm = dict_plot[4]['lstm']\n",
    "\n",
    "# Define a color scale with 5 colors\n",
    "color_scale = px.colors.qualitative.Plotly[:5]\n",
    "\n",
    "# Create a dictionary with colors for each category\n",
    "colors = {\n",
    "    'decision_tree': color_scale[0],\n",
    "    'random_forest': color_scale[1],\n",
    "    'linear_regression': color_scale[2],\n",
    "    'gru': color_scale[3],\n",
    "    'lstm': color_scale[4]\n",
    "}\n",
    "\n",
    "\n",
    "# Create subplots\n",
    "fig = make_subplots(rows=2, cols=1)\n",
    "\n",
    "# Add traces to subplot 1\n",
    "fig.add_trace(go.Bar(\n",
    "   x = branches[:4],\n",
    "   y = decision_tree[:4],\n",
    "   name = 'decision_tree',\n",
    "   legendgroup='decision_tree',\n",
    "   text=[f'{x:.3f}' for x in decision_tree[:4]],\n",
    "   marker=dict(color=colors['decision_tree']),\n",
    "), row=1, col=1)\n",
    "\n",
    "# Add traces to subplot 1\n",
    "fig.add_trace(go.Bar(\n",
    "   x = branches[:4],\n",
    "   y = random_forest[:4],\n",
    "   name = 'random_forest',\n",
    "   legendgroup='random_forest',\n",
    "   text=[f'{x:.3f}' for x in random_forest[:4]],\n",
    "   marker=dict(color=colors['random_forest']),\n",
    "), row=1, col=1)\n",
    "\n",
    "# Add traces to subplot 1\n",
    "fig.add_trace(go.Bar(\n",
    "   x = branches[:4],\n",
    "   y = linear_regression[:4],\n",
    "   name = 'linear_regression',\n",
    "   legendgroup='linear_regression',\n",
    "   text=[f'{x:.3f}' for x in linear_regression[:4]],\n",
    "   marker=dict(color=colors['linear_regression']),\n",
    "), row=1, col=1)\n",
    "\n",
    "# Add traces to subplot 1\n",
    "fig.add_trace(go.Bar(\n",
    "   x = branches[:4],\n",
    "   y = gru[:4],\n",
    "   name = 'gru',\n",
    "   legendgroup='gru',\n",
    "   text=[f'{x:.3f}' for x in gru[:4]],\n",
    "   marker=dict(color=colors['gru']),\n",
    "), row=1, col=1)\n",
    "\n",
    "# Add traces to subplot 1\n",
    "fig.add_trace(go.Bar(\n",
    "   x = branches[:4],\n",
    "   y = lstm[:4],\n",
    "   name = 'lstm',\n",
    "   legendgroup='lstm',\n",
    "   text=[f'{x:.3f}' for x in lstm[:4]],\n",
    "   marker=dict(color=colors['lstm']),\n",
    "), row=1, col=1)\n",
    "\n",
    "# Add traces to subplot 2\n",
    "fig.add_trace(go.Bar(\n",
    "   x = branches[4:],\n",
    "   y = decision_tree[4:],\n",
    "   name = 'decision_tree',\n",
    "   legendgroup='decision_tree',\n",
    "   text=[f'{x:.3f}' for x in decision_tree[4:]],\n",
    "   marker=dict(color=colors['decision_tree']),\n",
    "   showlegend=False,\n",
    "), row=2, col=1)\n",
    "\n",
    "# Add traces to subplot 2\n",
    "fig.add_trace(go.Bar(\n",
    "   x = branches[4:],\n",
    "   y = random_forest[4:],\n",
    "   name = 'random_forest',\n",
    "   legendgroup='random_forest',\n",
    "   text=[f'{x:.3f}' for x in random_forest[4:]],\n",
    "   marker=dict(color=colors['random_forest']),\n",
    "   showlegend=False\n",
    "), row=2, col=1)\n",
    "\n",
    "# Add traces to subplot 2\n",
    "fig.add_trace(go.Bar(\n",
    "   x = branches[4:],\n",
    "   y = linear_regression[4:],\n",
    "   name = 'linear_regression',\n",
    "   legendgroup='linear_regression',\n",
    "   text=[f'{x:.3f}' for x in linear_regression[4:]],\n",
    "   marker=dict(color=colors['linear_regression']),\n",
    "   showlegend=False\n",
    "), row=2, col=1)\n",
    "\n",
    "# Add traces to subplot 2\n",
    "fig.add_trace(go.Bar(\n",
    "   x = branches[4:],\n",
    "   y = gru[4:],\n",
    "   name = 'gru',\n",
    "   legendgroup='gru',\n",
    "   text=[f'{x:.3f}' for x in gru[4:]],\n",
    "   marker=dict(color=colors['gru']),\n",
    "   showlegend=False\n",
    "), row=2, col=1)\n",
    "\n",
    "# Add traces to subplot 2\n",
    "fig.add_trace(go.Bar(\n",
    "   x = branches[4:],\n",
    "   y = lstm[4:],\n",
    "   name = 'lstm',\n",
    "   legendgroup='lstm',\n",
    "   text=[f'{x:.3f}' for x in lstm[4:]],\n",
    "   marker=dict(color=colors['lstm']),\n",
    "   showlegend=False\n",
    "), row=2, col=1)\n",
    "\n",
    "fig.update_layout(\n",
    "    title=f\"Modelos com melhor R2-score para previsão da vazão no 'F'-ésimo mês\", # com 'N' livre \n",
    "    barmode='group',\n",
    ")\n",
    "\n",
    "# Set the same y-axis range for both subplots\n",
    "fig.update_yaxes(range=[0.68, 1.0], row=1, col=1)\n",
    "fig.update_yaxes(range=[0.68, 1.0], row=2, col=1)\n",
    "\n",
    "# Add annotations\n",
    "# fig.add_annotation(text=\"'N' = Número de meses retroativos de vazão observada e precipitação na bacia, a serem utilizadas durante o treinamento\",\n",
    "#                    xref=\"paper\", yref=\"paper\",\n",
    "#                    x=0.5, y=-0.18, showarrow=False)\n",
    "\n",
    "# Add annotations\n",
    "fig.add_annotation(text=\"'F' = Número do mês futuro a onde se prevê a vazão\",\n",
    "                   xref=\"paper\", yref=\"paper\",\n",
    "                   x=0.5, y=-0.18, showarrow=False) # -0.25\n",
    "\n",
    "fig.show()"
   ]
  },
  {
   "cell_type": "markdown",
   "metadata": {},
   "source": [
    "### Best RMSE-score for each \"f\""
   ]
  },
  {
   "cell_type": "code",
   "execution_count": 16,
   "metadata": {},
   "outputs": [],
   "source": [
    "df_rmse = ( df\n",
    "    .sort_values(by=['params.model','params.f_so_pred', 'metrics.rmse'], ascending=True) # pois quanto menor melhor\n",
    "    .drop_duplicates(subset=['params.model','params.f_so_pred'], keep='first')\n",
    ")\n",
    "\n",
    "model_order = ['decision_tree', 'random_forest', 'linear_regression', 'gru', 'lstm']\n",
    "df_rmse['params.model'] = pd.Categorical(df_rmse['params.model'], categories=model_order, ordered=True)\n",
    "df_rmse = df_rmse.sort_values(by=['params.model', 'params.f_so_pred'])\n",
    "\n",
    "dict_plot = []\n",
    "\n",
    "for model in model_order:\n",
    "    dict_plot.append({f'{model}': df_rmse[df_rmse['params.model'] == f'{model}']['metrics.rmse'].values.tolist()})"
   ]
  },
  {
   "cell_type": "code",
   "execution_count": 17,
   "metadata": {},
   "outputs": [
    {
     "data": {
      "application/vnd.plotly.v1+json": {
       "config": {
        "plotlyServerURL": "https://plot.ly"
       },
       "data": [
        {
         "legendgroup": "decision_tree",
         "marker": {
          "color": "#636EFA"
         },
         "name": "decision_tree",
         "text": [
          "61971",
          "61215",
          "65302",
          "68381"
         ],
         "type": "bar",
         "x": [
          "F=1",
          "F=2",
          "F=3",
          "F=4"
         ],
         "xaxis": "x",
         "y": [
          61970.83581772222,
          61214.961076428895,
          65301.523519792085,
          68380.72268285083
         ],
         "yaxis": "y"
        },
        {
         "legendgroup": "random_forest",
         "marker": {
          "color": "#EF553B"
         },
         "name": "random_forest",
         "text": [
          "52252",
          "48444",
          "53171",
          "65214"
         ],
         "type": "bar",
         "x": [
          "F=1",
          "F=2",
          "F=3",
          "F=4"
         ],
         "xaxis": "x",
         "y": [
          52251.960094716684,
          48443.515161822535,
          53171.10768668238,
          65214.34186212913
         ],
         "yaxis": "y"
        },
        {
         "legendgroup": "linear_regression",
         "marker": {
          "color": "#00CC96"
         },
         "name": "linear_regression",
         "text": [
          "49034",
          "50053",
          "51056",
          "51264"
         ],
         "type": "bar",
         "x": [
          "F=1",
          "F=2",
          "F=3",
          "F=4"
         ],
         "xaxis": "x",
         "y": [
          49034.23436301565,
          50052.89119804449,
          51055.63966383509,
          51263.60163462091
         ],
         "yaxis": "y"
        },
        {
         "legendgroup": "gru",
         "marker": {
          "color": "#AB63FA"
         },
         "name": "gru",
         "text": [
          "44767",
          "45518",
          "47492",
          "54593"
         ],
         "type": "bar",
         "x": [
          "F=1",
          "F=2",
          "F=3",
          "F=4"
         ],
         "xaxis": "x",
         "y": [
          44766.503767998394,
          45518.45976733024,
          47491.86558895125,
          54593.285030634375
         ],
         "yaxis": "y"
        },
        {
         "legendgroup": "lstm",
         "marker": {
          "color": "#FFA15A"
         },
         "name": "lstm",
         "text": [
          "44275",
          "47792",
          "47042",
          "51859"
         ],
         "type": "bar",
         "x": [
          "F=1",
          "F=2",
          "F=3",
          "F=4"
         ],
         "xaxis": "x",
         "y": [
          44275.199770040716,
          47792.29466107857,
          47042.40670851281,
          51858.78725212712
         ],
         "yaxis": "y"
        },
        {
         "legendgroup": "decision_tree",
         "marker": {
          "color": "#636EFA"
         },
         "name": "decision_tree",
         "showlegend": false,
         "text": [
          "62353",
          "70042",
          "67855",
          "64130"
         ],
         "type": "bar",
         "x": [
          "F=5",
          "F=6",
          "F=7",
          "F=8"
         ],
         "xaxis": "x2",
         "y": [
          62352.6858582615,
          70041.93282036287,
          67854.72511504339,
          64129.88465140306
         ],
         "yaxis": "y2"
        },
        {
         "legendgroup": "random_forest",
         "marker": {
          "color": "#EF553B"
         },
         "name": "random_forest",
         "showlegend": false,
         "text": [
          "63045",
          "62180",
          "62579",
          "60603"
         ],
         "type": "bar",
         "x": [
          "F=5",
          "F=6",
          "F=7",
          "F=8"
         ],
         "xaxis": "x2",
         "y": [
          63044.80973579484,
          62179.924109985564,
          62578.599383104665,
          60603.153409063656
         ],
         "yaxis": "y2"
        },
        {
         "legendgroup": "linear_regression",
         "marker": {
          "color": "#00CC96"
         },
         "name": "linear_regression",
         "showlegend": false,
         "text": [
          "51036",
          "51155",
          "52149",
          "47355"
         ],
         "type": "bar",
         "x": [
          "F=5",
          "F=6",
          "F=7",
          "F=8"
         ],
         "xaxis": "x2",
         "y": [
          51036.180548277654,
          51154.701519356575,
          52148.81417719482,
          47355.03689896198
         ],
         "yaxis": "y2"
        },
        {
         "legendgroup": "gru",
         "marker": {
          "color": "#AB63FA"
         },
         "name": "gru",
         "showlegend": false,
         "text": [
          "51436",
          "53613",
          "61607",
          "45755"
         ],
         "type": "bar",
         "x": [
          "F=5",
          "F=6",
          "F=7",
          "F=8"
         ],
         "xaxis": "x2",
         "y": [
          51435.94562733394,
          53612.81888351,
          61607.489733128124,
          45754.760852905696
         ],
         "yaxis": "y2"
        },
        {
         "legendgroup": "lstm",
         "marker": {
          "color": "#FFA15A"
         },
         "name": "lstm",
         "showlegend": false,
         "text": [
          "48275",
          "53758",
          "60379",
          "47648"
         ],
         "type": "bar",
         "x": [
          "F=5",
          "F=6",
          "F=7",
          "F=8"
         ],
         "xaxis": "x2",
         "y": [
          48275.42736276294,
          53757.52749103092,
          60378.72266169347,
          47647.86527806963
         ],
         "yaxis": "y2"
        }
       ],
       "layout": {
        "annotations": [
         {
          "showarrow": false,
          "text": "Erro da Vazão Acumulada Mensal (m^3)/s",
          "textangle": -90,
          "x": -0.05,
          "xanchor": "center",
          "xref": "paper",
          "y": 0.5,
          "yanchor": "middle",
          "yref": "paper"
         },
         {
          "showarrow": false,
          "text": "'F' = Número do mês futuro a onde se prevê a vazão",
          "x": 0.5,
          "xref": "paper",
          "y": -0.18,
          "yref": "paper"
         }
        ],
        "barmode": "group",
        "template": {
         "data": {
          "bar": [
           {
            "error_x": {
             "color": "#2a3f5f"
            },
            "error_y": {
             "color": "#2a3f5f"
            },
            "marker": {
             "line": {
              "color": "#E5ECF6",
              "width": 0.5
             },
             "pattern": {
              "fillmode": "overlay",
              "size": 10,
              "solidity": 0.2
             }
            },
            "type": "bar"
           }
          ],
          "barpolar": [
           {
            "marker": {
             "line": {
              "color": "#E5ECF6",
              "width": 0.5
             },
             "pattern": {
              "fillmode": "overlay",
              "size": 10,
              "solidity": 0.2
             }
            },
            "type": "barpolar"
           }
          ],
          "carpet": [
           {
            "aaxis": {
             "endlinecolor": "#2a3f5f",
             "gridcolor": "white",
             "linecolor": "white",
             "minorgridcolor": "white",
             "startlinecolor": "#2a3f5f"
            },
            "baxis": {
             "endlinecolor": "#2a3f5f",
             "gridcolor": "white",
             "linecolor": "white",
             "minorgridcolor": "white",
             "startlinecolor": "#2a3f5f"
            },
            "type": "carpet"
           }
          ],
          "choropleth": [
           {
            "colorbar": {
             "outlinewidth": 0,
             "ticks": ""
            },
            "type": "choropleth"
           }
          ],
          "contour": [
           {
            "colorbar": {
             "outlinewidth": 0,
             "ticks": ""
            },
            "colorscale": [
             [
              0,
              "#0d0887"
             ],
             [
              0.1111111111111111,
              "#46039f"
             ],
             [
              0.2222222222222222,
              "#7201a8"
             ],
             [
              0.3333333333333333,
              "#9c179e"
             ],
             [
              0.4444444444444444,
              "#bd3786"
             ],
             [
              0.5555555555555556,
              "#d8576b"
             ],
             [
              0.6666666666666666,
              "#ed7953"
             ],
             [
              0.7777777777777778,
              "#fb9f3a"
             ],
             [
              0.8888888888888888,
              "#fdca26"
             ],
             [
              1,
              "#f0f921"
             ]
            ],
            "type": "contour"
           }
          ],
          "contourcarpet": [
           {
            "colorbar": {
             "outlinewidth": 0,
             "ticks": ""
            },
            "type": "contourcarpet"
           }
          ],
          "heatmap": [
           {
            "colorbar": {
             "outlinewidth": 0,
             "ticks": ""
            },
            "colorscale": [
             [
              0,
              "#0d0887"
             ],
             [
              0.1111111111111111,
              "#46039f"
             ],
             [
              0.2222222222222222,
              "#7201a8"
             ],
             [
              0.3333333333333333,
              "#9c179e"
             ],
             [
              0.4444444444444444,
              "#bd3786"
             ],
             [
              0.5555555555555556,
              "#d8576b"
             ],
             [
              0.6666666666666666,
              "#ed7953"
             ],
             [
              0.7777777777777778,
              "#fb9f3a"
             ],
             [
              0.8888888888888888,
              "#fdca26"
             ],
             [
              1,
              "#f0f921"
             ]
            ],
            "type": "heatmap"
           }
          ],
          "heatmapgl": [
           {
            "colorbar": {
             "outlinewidth": 0,
             "ticks": ""
            },
            "colorscale": [
             [
              0,
              "#0d0887"
             ],
             [
              0.1111111111111111,
              "#46039f"
             ],
             [
              0.2222222222222222,
              "#7201a8"
             ],
             [
              0.3333333333333333,
              "#9c179e"
             ],
             [
              0.4444444444444444,
              "#bd3786"
             ],
             [
              0.5555555555555556,
              "#d8576b"
             ],
             [
              0.6666666666666666,
              "#ed7953"
             ],
             [
              0.7777777777777778,
              "#fb9f3a"
             ],
             [
              0.8888888888888888,
              "#fdca26"
             ],
             [
              1,
              "#f0f921"
             ]
            ],
            "type": "heatmapgl"
           }
          ],
          "histogram": [
           {
            "marker": {
             "pattern": {
              "fillmode": "overlay",
              "size": 10,
              "solidity": 0.2
             }
            },
            "type": "histogram"
           }
          ],
          "histogram2d": [
           {
            "colorbar": {
             "outlinewidth": 0,
             "ticks": ""
            },
            "colorscale": [
             [
              0,
              "#0d0887"
             ],
             [
              0.1111111111111111,
              "#46039f"
             ],
             [
              0.2222222222222222,
              "#7201a8"
             ],
             [
              0.3333333333333333,
              "#9c179e"
             ],
             [
              0.4444444444444444,
              "#bd3786"
             ],
             [
              0.5555555555555556,
              "#d8576b"
             ],
             [
              0.6666666666666666,
              "#ed7953"
             ],
             [
              0.7777777777777778,
              "#fb9f3a"
             ],
             [
              0.8888888888888888,
              "#fdca26"
             ],
             [
              1,
              "#f0f921"
             ]
            ],
            "type": "histogram2d"
           }
          ],
          "histogram2dcontour": [
           {
            "colorbar": {
             "outlinewidth": 0,
             "ticks": ""
            },
            "colorscale": [
             [
              0,
              "#0d0887"
             ],
             [
              0.1111111111111111,
              "#46039f"
             ],
             [
              0.2222222222222222,
              "#7201a8"
             ],
             [
              0.3333333333333333,
              "#9c179e"
             ],
             [
              0.4444444444444444,
              "#bd3786"
             ],
             [
              0.5555555555555556,
              "#d8576b"
             ],
             [
              0.6666666666666666,
              "#ed7953"
             ],
             [
              0.7777777777777778,
              "#fb9f3a"
             ],
             [
              0.8888888888888888,
              "#fdca26"
             ],
             [
              1,
              "#f0f921"
             ]
            ],
            "type": "histogram2dcontour"
           }
          ],
          "mesh3d": [
           {
            "colorbar": {
             "outlinewidth": 0,
             "ticks": ""
            },
            "type": "mesh3d"
           }
          ],
          "parcoords": [
           {
            "line": {
             "colorbar": {
              "outlinewidth": 0,
              "ticks": ""
             }
            },
            "type": "parcoords"
           }
          ],
          "pie": [
           {
            "automargin": true,
            "type": "pie"
           }
          ],
          "scatter": [
           {
            "fillpattern": {
             "fillmode": "overlay",
             "size": 10,
             "solidity": 0.2
            },
            "type": "scatter"
           }
          ],
          "scatter3d": [
           {
            "line": {
             "colorbar": {
              "outlinewidth": 0,
              "ticks": ""
             }
            },
            "marker": {
             "colorbar": {
              "outlinewidth": 0,
              "ticks": ""
             }
            },
            "type": "scatter3d"
           }
          ],
          "scattercarpet": [
           {
            "marker": {
             "colorbar": {
              "outlinewidth": 0,
              "ticks": ""
             }
            },
            "type": "scattercarpet"
           }
          ],
          "scattergeo": [
           {
            "marker": {
             "colorbar": {
              "outlinewidth": 0,
              "ticks": ""
             }
            },
            "type": "scattergeo"
           }
          ],
          "scattergl": [
           {
            "marker": {
             "colorbar": {
              "outlinewidth": 0,
              "ticks": ""
             }
            },
            "type": "scattergl"
           }
          ],
          "scattermapbox": [
           {
            "marker": {
             "colorbar": {
              "outlinewidth": 0,
              "ticks": ""
             }
            },
            "type": "scattermapbox"
           }
          ],
          "scatterpolar": [
           {
            "marker": {
             "colorbar": {
              "outlinewidth": 0,
              "ticks": ""
             }
            },
            "type": "scatterpolar"
           }
          ],
          "scatterpolargl": [
           {
            "marker": {
             "colorbar": {
              "outlinewidth": 0,
              "ticks": ""
             }
            },
            "type": "scatterpolargl"
           }
          ],
          "scatterternary": [
           {
            "marker": {
             "colorbar": {
              "outlinewidth": 0,
              "ticks": ""
             }
            },
            "type": "scatterternary"
           }
          ],
          "surface": [
           {
            "colorbar": {
             "outlinewidth": 0,
             "ticks": ""
            },
            "colorscale": [
             [
              0,
              "#0d0887"
             ],
             [
              0.1111111111111111,
              "#46039f"
             ],
             [
              0.2222222222222222,
              "#7201a8"
             ],
             [
              0.3333333333333333,
              "#9c179e"
             ],
             [
              0.4444444444444444,
              "#bd3786"
             ],
             [
              0.5555555555555556,
              "#d8576b"
             ],
             [
              0.6666666666666666,
              "#ed7953"
             ],
             [
              0.7777777777777778,
              "#fb9f3a"
             ],
             [
              0.8888888888888888,
              "#fdca26"
             ],
             [
              1,
              "#f0f921"
             ]
            ],
            "type": "surface"
           }
          ],
          "table": [
           {
            "cells": {
             "fill": {
              "color": "#EBF0F8"
             },
             "line": {
              "color": "white"
             }
            },
            "header": {
             "fill": {
              "color": "#C8D4E3"
             },
             "line": {
              "color": "white"
             }
            },
            "type": "table"
           }
          ]
         },
         "layout": {
          "annotationdefaults": {
           "arrowcolor": "#2a3f5f",
           "arrowhead": 0,
           "arrowwidth": 1
          },
          "autotypenumbers": "strict",
          "coloraxis": {
           "colorbar": {
            "outlinewidth": 0,
            "ticks": ""
           }
          },
          "colorscale": {
           "diverging": [
            [
             0,
             "#8e0152"
            ],
            [
             0.1,
             "#c51b7d"
            ],
            [
             0.2,
             "#de77ae"
            ],
            [
             0.3,
             "#f1b6da"
            ],
            [
             0.4,
             "#fde0ef"
            ],
            [
             0.5,
             "#f7f7f7"
            ],
            [
             0.6,
             "#e6f5d0"
            ],
            [
             0.7,
             "#b8e186"
            ],
            [
             0.8,
             "#7fbc41"
            ],
            [
             0.9,
             "#4d9221"
            ],
            [
             1,
             "#276419"
            ]
           ],
           "sequential": [
            [
             0,
             "#0d0887"
            ],
            [
             0.1111111111111111,
             "#46039f"
            ],
            [
             0.2222222222222222,
             "#7201a8"
            ],
            [
             0.3333333333333333,
             "#9c179e"
            ],
            [
             0.4444444444444444,
             "#bd3786"
            ],
            [
             0.5555555555555556,
             "#d8576b"
            ],
            [
             0.6666666666666666,
             "#ed7953"
            ],
            [
             0.7777777777777778,
             "#fb9f3a"
            ],
            [
             0.8888888888888888,
             "#fdca26"
            ],
            [
             1,
             "#f0f921"
            ]
           ],
           "sequentialminus": [
            [
             0,
             "#0d0887"
            ],
            [
             0.1111111111111111,
             "#46039f"
            ],
            [
             0.2222222222222222,
             "#7201a8"
            ],
            [
             0.3333333333333333,
             "#9c179e"
            ],
            [
             0.4444444444444444,
             "#bd3786"
            ],
            [
             0.5555555555555556,
             "#d8576b"
            ],
            [
             0.6666666666666666,
             "#ed7953"
            ],
            [
             0.7777777777777778,
             "#fb9f3a"
            ],
            [
             0.8888888888888888,
             "#fdca26"
            ],
            [
             1,
             "#f0f921"
            ]
           ]
          },
          "colorway": [
           "#636efa",
           "#EF553B",
           "#00cc96",
           "#ab63fa",
           "#FFA15A",
           "#19d3f3",
           "#FF6692",
           "#B6E880",
           "#FF97FF",
           "#FECB52"
          ],
          "font": {
           "color": "#2a3f5f"
          },
          "geo": {
           "bgcolor": "white",
           "lakecolor": "white",
           "landcolor": "#E5ECF6",
           "showlakes": true,
           "showland": true,
           "subunitcolor": "white"
          },
          "hoverlabel": {
           "align": "left"
          },
          "hovermode": "closest",
          "mapbox": {
           "style": "light"
          },
          "paper_bgcolor": "white",
          "plot_bgcolor": "#E5ECF6",
          "polar": {
           "angularaxis": {
            "gridcolor": "white",
            "linecolor": "white",
            "ticks": ""
           },
           "bgcolor": "#E5ECF6",
           "radialaxis": {
            "gridcolor": "white",
            "linecolor": "white",
            "ticks": ""
           }
          },
          "scene": {
           "xaxis": {
            "backgroundcolor": "#E5ECF6",
            "gridcolor": "white",
            "gridwidth": 2,
            "linecolor": "white",
            "showbackground": true,
            "ticks": "",
            "zerolinecolor": "white"
           },
           "yaxis": {
            "backgroundcolor": "#E5ECF6",
            "gridcolor": "white",
            "gridwidth": 2,
            "linecolor": "white",
            "showbackground": true,
            "ticks": "",
            "zerolinecolor": "white"
           },
           "zaxis": {
            "backgroundcolor": "#E5ECF6",
            "gridcolor": "white",
            "gridwidth": 2,
            "linecolor": "white",
            "showbackground": true,
            "ticks": "",
            "zerolinecolor": "white"
           }
          },
          "shapedefaults": {
           "line": {
            "color": "#2a3f5f"
           }
          },
          "ternary": {
           "aaxis": {
            "gridcolor": "white",
            "linecolor": "white",
            "ticks": ""
           },
           "baxis": {
            "gridcolor": "white",
            "linecolor": "white",
            "ticks": ""
           },
           "bgcolor": "#E5ECF6",
           "caxis": {
            "gridcolor": "white",
            "linecolor": "white",
            "ticks": ""
           }
          },
          "title": {
           "x": 0.05
          },
          "xaxis": {
           "automargin": true,
           "gridcolor": "white",
           "linecolor": "white",
           "ticks": "",
           "title": {
            "standoff": 15
           },
           "zerolinecolor": "white",
           "zerolinewidth": 2
          },
          "yaxis": {
           "automargin": true,
           "gridcolor": "white",
           "linecolor": "white",
           "ticks": "",
           "title": {
            "standoff": 15
           },
           "zerolinecolor": "white",
           "zerolinewidth": 2
          }
         }
        },
        "title": {
         "text": "Modelos com melhor RMSE para previsão da vazão no 'F'-ésimo mês "
        },
        "xaxis": {
         "anchor": "y",
         "domain": [
          0,
          1
         ]
        },
        "xaxis2": {
         "anchor": "y2",
         "domain": [
          0,
          1
         ]
        },
        "yaxis": {
         "anchor": "x",
         "domain": [
          0.575,
          1
         ]
        },
        "yaxis2": {
         "anchor": "x2",
         "domain": [
          0,
          0.425
         ]
        }
       }
      }
     },
     "metadata": {},
     "output_type": "display_data"
    }
   ],
   "source": [
    "from plotly.subplots import make_subplots\n",
    "import plotly.graph_objects as go\n",
    "import plotly.express as px\n",
    "\n",
    "branches = ['F=1', 'F=2', 'F=3', 'F=4', \n",
    "            'F=5', 'F=6', 'F=7', 'F=8']\n",
    "\n",
    "decision_tree = dict_plot[0]['decision_tree']\n",
    "random_forest = dict_plot[1]['random_forest']\n",
    "linear_regression = dict_plot[2]['linear_regression']\n",
    "gru = dict_plot[3]['gru']\n",
    "lstm = dict_plot[4]['lstm']\n",
    "\n",
    "# Define a color scale with 5 colors\n",
    "color_scale = px.colors.qualitative.Plotly[:5]\n",
    "\n",
    "# Create a dictionary with colors for each category\n",
    "colors = {\n",
    "    'decision_tree': color_scale[0],\n",
    "    'random_forest': color_scale[1],\n",
    "    'linear_regression': color_scale[2],\n",
    "    'gru': color_scale[3],\n",
    "    'lstm': color_scale[4]\n",
    "}\n",
    "\n",
    "\n",
    "# Create subplots\n",
    "fig = make_subplots(rows=2, cols=1)\n",
    "\n",
    "# Add traces to subplot 1\n",
    "fig.add_trace(go.Bar(\n",
    "   x = branches[:4],\n",
    "   y = decision_tree[:4],\n",
    "   name = 'decision_tree',\n",
    "   legendgroup='decision_tree',\n",
    "   text=[f'{x:.0f}' for x in decision_tree[:4]],\n",
    "   marker=dict(color=colors['decision_tree']),\n",
    "), row=1, col=1)\n",
    "\n",
    "# Add traces to subplot 1\n",
    "fig.add_trace(go.Bar(\n",
    "   x = branches[:4],\n",
    "   y = random_forest[:4],\n",
    "   name = 'random_forest',\n",
    "   legendgroup='random_forest',\n",
    "   text=[f'{x:.0f}' for x in random_forest[:4]],\n",
    "   marker=dict(color=colors['random_forest']),\n",
    "), row=1, col=1)\n",
    "\n",
    "# Add traces to subplot 1\n",
    "fig.add_trace(go.Bar(\n",
    "   x = branches[:4],\n",
    "   y = linear_regression[:4],\n",
    "   name = 'linear_regression',\n",
    "   legendgroup='linear_regression',\n",
    "   text=[f'{x:.0f}' for x in linear_regression[:4]],\n",
    "   marker=dict(color=colors['linear_regression']),\n",
    "), row=1, col=1)\n",
    "\n",
    "# Add traces to subplot 1\n",
    "fig.add_trace(go.Bar(\n",
    "   x = branches[:4],\n",
    "   y = gru[:4],\n",
    "   name = 'gru',\n",
    "   legendgroup='gru',\n",
    "   text=[f'{x:.0f}' for x in gru[:4]],\n",
    "   marker=dict(color=colors['gru']),\n",
    "), row=1, col=1)\n",
    "\n",
    "# Add traces to subplot 1\n",
    "fig.add_trace(go.Bar(\n",
    "   x = branches[:4],\n",
    "   y = lstm[:4],\n",
    "   name = 'lstm',\n",
    "   legendgroup='lstm',\n",
    "   text=[f'{x:.0f}' for x in lstm[:4]],\n",
    "   marker=dict(color=colors['lstm']),\n",
    "), row=1, col=1)\n",
    "\n",
    "# Add traces to subplot 2\n",
    "fig.add_trace(go.Bar(\n",
    "   x = branches[4:],\n",
    "   y = decision_tree[4:],\n",
    "   name = 'decision_tree',\n",
    "   legendgroup='decision_tree',\n",
    "   text=[f'{x:.0f}' for x in decision_tree[4:]],\n",
    "   marker=dict(color=colors['decision_tree']),\n",
    "   showlegend=False,\n",
    "), row=2, col=1)\n",
    "\n",
    "# Add traces to subplot 2\n",
    "fig.add_trace(go.Bar(\n",
    "   x = branches[4:],\n",
    "   y = random_forest[4:],\n",
    "   name = 'random_forest',\n",
    "   legendgroup='random_forest',\n",
    "   text=[f'{x:.0f}' for x in random_forest[4:]],\n",
    "   marker=dict(color=colors['random_forest']),\n",
    "   showlegend=False\n",
    "), row=2, col=1)\n",
    "\n",
    "# Add traces to subplot 2\n",
    "fig.add_trace(go.Bar(\n",
    "   x = branches[4:],\n",
    "   y = linear_regression[4:],\n",
    "   name = 'linear_regression',\n",
    "   legendgroup='linear_regression',\n",
    "   text=[f'{x:.0f}' for x in linear_regression[4:]],\n",
    "   marker=dict(color=colors['linear_regression']),\n",
    "   showlegend=False\n",
    "), row=2, col=1)\n",
    "\n",
    "# Add traces to subplot 2\n",
    "fig.add_trace(go.Bar(\n",
    "   x = branches[4:],\n",
    "   y = gru[4:],\n",
    "   name = 'gru',\n",
    "   legendgroup='gru',\n",
    "   text=[f'{x:.0f}' for x in gru[4:]],\n",
    "   marker=dict(color=colors['gru']),\n",
    "   showlegend=False\n",
    "), row=2, col=1)\n",
    "\n",
    "# Add traces to subplot 2\n",
    "fig.add_trace(go.Bar(\n",
    "   x = branches[4:],\n",
    "   y = lstm[4:],\n",
    "   name = 'lstm',\n",
    "   legendgroup='lstm',\n",
    "   text=[f'{x:.0f}' for x in lstm[4:]],\n",
    "   marker=dict(color=colors['lstm']),\n",
    "   showlegend=False\n",
    "), row=2, col=1)\n",
    "\n",
    "fig.update_layout(\n",
    "    title=f\"Modelos com melhor RMSE para previsão da vazão no 'F'-ésimo mês \", # com 'N' livre \n",
    "    barmode='group',\n",
    ")\n",
    "\n",
    "# Set the same y-axis range for both subplots\n",
    "# fig.update_yaxes(range=[0.68, 1.0], row=1, col=1)\n",
    "# fig.update_yaxes(range=[0.68, 1.0], row=2, col=1)\n",
    "\n",
    "# Add annotations\n",
    "# fig.add_annotation(text=\"'N' = Número de meses retroativos de vazão observada e precipitação na bacia, a serem utilizadas durante o treinamento\",\n",
    "#                    xref=\"paper\", yref=\"paper\",\n",
    "#                    x=0.5, y=-0.18, showarrow=False)\n",
    "\n",
    "# Add annotation for y-axis title\n",
    "fig.add_annotation(\n",
    "    text='Erro da Vazão Acumulada Mensal (m^3)/s',\n",
    "    xref='paper', \n",
    "    yref='paper',\n",
    "    x=-0.05, y=0.5,  # Adjust x and y position to move the title away from the y-axis\n",
    "    xanchor='center', \n",
    "    yanchor='middle',\n",
    "    showarrow=False,\n",
    "    textangle=-90  # Rotate the text to be vertical\n",
    ")\n",
    "\n",
    "# Add annotations\n",
    "fig.add_annotation(text=\"'F' = Número do mês futuro a onde se prevê a vazão\",\n",
    "                   xref=\"paper\", yref=\"paper\",\n",
    "                   x=0.5, y=-0.18, showarrow=False)\n",
    "\n",
    "fig.show()"
   ]
  },
  {
   "cell_type": "markdown",
   "metadata": {},
   "source": [
    "#### Best MAE for each \"F\""
   ]
  },
  {
   "cell_type": "code",
   "execution_count": 18,
   "metadata": {},
   "outputs": [],
   "source": [
    "df_mae = ( df\n",
    "    .sort_values(by=['params.model','params.f_so_pred', 'metrics.mae'], ascending=True) # pois quanto menor melhor\n",
    "    .drop_duplicates(subset=['params.model','params.f_so_pred'], keep='first')\n",
    ")\n",
    "\n",
    "model_order = ['decision_tree', 'random_forest', 'linear_regression', 'gru', 'lstm']\n",
    "df_mae['params.model'] = pd.Categorical(df_mae['params.model'], categories=model_order, ordered=True)\n",
    "df_mae = df_mae.sort_values(by=['params.model', 'params.f_so_pred'])\n",
    "\n",
    "dict_plot = []\n",
    "\n",
    "for model in model_order:\n",
    "    dict_plot.append({f'{model}': df_mae[df_mae['params.model'] == f'{model}']['metrics.mae'].values.tolist()})"
   ]
  },
  {
   "cell_type": "code",
   "execution_count": 19,
   "metadata": {},
   "outputs": [
    {
     "data": {
      "application/vnd.plotly.v1+json": {
       "config": {
        "plotlyServerURL": "https://plot.ly"
       },
       "data": [
        {
         "legendgroup": "decision_tree",
         "marker": {
          "color": "#636EFA"
         },
         "name": "decision_tree",
         "text": [
          "46672",
          "49109",
          "49031",
          "50865"
         ],
         "type": "bar",
         "x": [
          "F=1",
          "F=2",
          "F=3",
          "F=4"
         ],
         "xaxis": "x",
         "y": [
          46672.06153250915,
          49109.003736170875,
          49031.140294117635,
          50864.78930958404
         ],
         "yaxis": "y"
        },
        {
         "legendgroup": "random_forest",
         "marker": {
          "color": "#EF553B"
         },
         "name": "random_forest",
         "text": [
          "41328",
          "37067",
          "40811",
          "47008"
         ],
         "type": "bar",
         "x": [
          "F=1",
          "F=2",
          "F=3",
          "F=4"
         ],
         "xaxis": "x",
         "y": [
          41328.099230769236,
          37066.831656526156,
          40810.83585819116,
          47007.85186666665
         ],
         "yaxis": "y"
        },
        {
         "legendgroup": "linear_regression",
         "marker": {
          "color": "#00CC96"
         },
         "name": "linear_regression",
         "text": [
          "37286",
          "34382",
          "35587",
          "37404"
         ],
         "type": "bar",
         "x": [
          "F=1",
          "F=2",
          "F=3",
          "F=4"
         ],
         "xaxis": "x",
         "y": [
          37285.8844992749,
          34382.23353462886,
          35586.53509419604,
          37403.55047756812
         ],
         "yaxis": "y"
        },
        {
         "legendgroup": "gru",
         "marker": {
          "color": "#AB63FA"
         },
         "name": "gru",
         "text": [
          "32505",
          "30541",
          "30521",
          "39178"
         ],
         "type": "bar",
         "x": [
          "F=1",
          "F=2",
          "F=3",
          "F=4"
         ],
         "xaxis": "x",
         "y": [
          32504.985091911767,
          30541.054731249995,
          30521.463381250003,
          39177.506709183675
         ],
         "yaxis": "y"
        },
        {
         "legendgroup": "lstm",
         "marker": {
          "color": "#FFA15A"
         },
         "name": "lstm",
         "text": [
          "33274",
          "30293",
          "32342",
          "36516"
         ],
         "type": "bar",
         "x": [
          "F=1",
          "F=2",
          "F=3",
          "F=4"
         ],
         "xaxis": "x",
         "y": [
          33273.71822916666,
          30292.779718749996,
          32341.680156249997,
          36515.87088010204
         ],
         "yaxis": "y"
        },
        {
         "legendgroup": "decision_tree",
         "marker": {
          "color": "#636EFA"
         },
         "name": "decision_tree",
         "showlegend": false,
         "text": [
          "50674",
          "51149",
          "50264",
          "53759"
         ],
         "type": "bar",
         "x": [
          "F=5",
          "F=6",
          "F=7",
          "F=8"
         ],
         "xaxis": "x2",
         "y": [
          50674.07727762216,
          51148.63510654705,
          50263.86891678026,
          53759.20862745097
         ],
         "yaxis": "y2"
        },
        {
         "legendgroup": "random_forest",
         "marker": {
          "color": "#EF553B"
         },
         "name": "random_forest",
         "showlegend": false,
         "text": [
          "48094",
          "48426",
          "50085",
          "51108"
         ],
         "type": "bar",
         "x": [
          "F=5",
          "F=6",
          "F=7",
          "F=8"
         ],
         "xaxis": "x2",
         "y": [
          48094.45907843137,
          48426.33829321118,
          50084.799227450996,
          51108.44457817143
         ],
         "yaxis": "y2"
        },
        {
         "legendgroup": "linear_regression",
         "marker": {
          "color": "#00CC96"
         },
         "name": "linear_regression",
         "showlegend": false,
         "text": [
          "37080",
          "38115",
          "39206",
          "37597"
         ],
         "type": "bar",
         "x": [
          "F=5",
          "F=6",
          "F=7",
          "F=8"
         ],
         "xaxis": "x2",
         "y": [
          37080.33311505197,
          38115.01136951104,
          39206.4707182426,
          37597.158530737404
         ],
         "yaxis": "y2"
        },
        {
         "legendgroup": "gru",
         "marker": {
          "color": "#AB63FA"
         },
         "name": "gru",
         "showlegend": false,
         "text": [
          "38367",
          "38947",
          "42386",
          "32971"
         ],
         "type": "bar",
         "x": [
          "F=5",
          "F=6",
          "F=7",
          "F=8"
         ],
         "xaxis": "x2",
         "y": [
          38366.97321428571,
          38947.26006377551,
          42385.52229591837,
          32970.829648437495
         ],
         "yaxis": "y2"
        },
        {
         "legendgroup": "lstm",
         "marker": {
          "color": "#FFA15A"
         },
         "name": "lstm",
         "showlegend": false,
         "text": [
          "33826",
          "36419",
          "44548",
          "34953"
         ],
         "type": "bar",
         "x": [
          "F=5",
          "F=6",
          "F=7",
          "F=8"
         ],
         "xaxis": "x2",
         "y": [
          33825.86647959183,
          36418.667110969385,
          44547.525442708335,
          34952.83300781251
         ],
         "yaxis": "y2"
        }
       ],
       "layout": {
        "annotations": [
         {
          "showarrow": false,
          "text": "'F' = Número do mês futuro a onde se prevê a vazão",
          "x": 0.5,
          "xref": "paper",
          "y": -0.25,
          "yref": "paper"
         }
        ],
        "barmode": "group",
        "template": {
         "data": {
          "bar": [
           {
            "error_x": {
             "color": "#2a3f5f"
            },
            "error_y": {
             "color": "#2a3f5f"
            },
            "marker": {
             "line": {
              "color": "#E5ECF6",
              "width": 0.5
             },
             "pattern": {
              "fillmode": "overlay",
              "size": 10,
              "solidity": 0.2
             }
            },
            "type": "bar"
           }
          ],
          "barpolar": [
           {
            "marker": {
             "line": {
              "color": "#E5ECF6",
              "width": 0.5
             },
             "pattern": {
              "fillmode": "overlay",
              "size": 10,
              "solidity": 0.2
             }
            },
            "type": "barpolar"
           }
          ],
          "carpet": [
           {
            "aaxis": {
             "endlinecolor": "#2a3f5f",
             "gridcolor": "white",
             "linecolor": "white",
             "minorgridcolor": "white",
             "startlinecolor": "#2a3f5f"
            },
            "baxis": {
             "endlinecolor": "#2a3f5f",
             "gridcolor": "white",
             "linecolor": "white",
             "minorgridcolor": "white",
             "startlinecolor": "#2a3f5f"
            },
            "type": "carpet"
           }
          ],
          "choropleth": [
           {
            "colorbar": {
             "outlinewidth": 0,
             "ticks": ""
            },
            "type": "choropleth"
           }
          ],
          "contour": [
           {
            "colorbar": {
             "outlinewidth": 0,
             "ticks": ""
            },
            "colorscale": [
             [
              0,
              "#0d0887"
             ],
             [
              0.1111111111111111,
              "#46039f"
             ],
             [
              0.2222222222222222,
              "#7201a8"
             ],
             [
              0.3333333333333333,
              "#9c179e"
             ],
             [
              0.4444444444444444,
              "#bd3786"
             ],
             [
              0.5555555555555556,
              "#d8576b"
             ],
             [
              0.6666666666666666,
              "#ed7953"
             ],
             [
              0.7777777777777778,
              "#fb9f3a"
             ],
             [
              0.8888888888888888,
              "#fdca26"
             ],
             [
              1,
              "#f0f921"
             ]
            ],
            "type": "contour"
           }
          ],
          "contourcarpet": [
           {
            "colorbar": {
             "outlinewidth": 0,
             "ticks": ""
            },
            "type": "contourcarpet"
           }
          ],
          "heatmap": [
           {
            "colorbar": {
             "outlinewidth": 0,
             "ticks": ""
            },
            "colorscale": [
             [
              0,
              "#0d0887"
             ],
             [
              0.1111111111111111,
              "#46039f"
             ],
             [
              0.2222222222222222,
              "#7201a8"
             ],
             [
              0.3333333333333333,
              "#9c179e"
             ],
             [
              0.4444444444444444,
              "#bd3786"
             ],
             [
              0.5555555555555556,
              "#d8576b"
             ],
             [
              0.6666666666666666,
              "#ed7953"
             ],
             [
              0.7777777777777778,
              "#fb9f3a"
             ],
             [
              0.8888888888888888,
              "#fdca26"
             ],
             [
              1,
              "#f0f921"
             ]
            ],
            "type": "heatmap"
           }
          ],
          "heatmapgl": [
           {
            "colorbar": {
             "outlinewidth": 0,
             "ticks": ""
            },
            "colorscale": [
             [
              0,
              "#0d0887"
             ],
             [
              0.1111111111111111,
              "#46039f"
             ],
             [
              0.2222222222222222,
              "#7201a8"
             ],
             [
              0.3333333333333333,
              "#9c179e"
             ],
             [
              0.4444444444444444,
              "#bd3786"
             ],
             [
              0.5555555555555556,
              "#d8576b"
             ],
             [
              0.6666666666666666,
              "#ed7953"
             ],
             [
              0.7777777777777778,
              "#fb9f3a"
             ],
             [
              0.8888888888888888,
              "#fdca26"
             ],
             [
              1,
              "#f0f921"
             ]
            ],
            "type": "heatmapgl"
           }
          ],
          "histogram": [
           {
            "marker": {
             "pattern": {
              "fillmode": "overlay",
              "size": 10,
              "solidity": 0.2
             }
            },
            "type": "histogram"
           }
          ],
          "histogram2d": [
           {
            "colorbar": {
             "outlinewidth": 0,
             "ticks": ""
            },
            "colorscale": [
             [
              0,
              "#0d0887"
             ],
             [
              0.1111111111111111,
              "#46039f"
             ],
             [
              0.2222222222222222,
              "#7201a8"
             ],
             [
              0.3333333333333333,
              "#9c179e"
             ],
             [
              0.4444444444444444,
              "#bd3786"
             ],
             [
              0.5555555555555556,
              "#d8576b"
             ],
             [
              0.6666666666666666,
              "#ed7953"
             ],
             [
              0.7777777777777778,
              "#fb9f3a"
             ],
             [
              0.8888888888888888,
              "#fdca26"
             ],
             [
              1,
              "#f0f921"
             ]
            ],
            "type": "histogram2d"
           }
          ],
          "histogram2dcontour": [
           {
            "colorbar": {
             "outlinewidth": 0,
             "ticks": ""
            },
            "colorscale": [
             [
              0,
              "#0d0887"
             ],
             [
              0.1111111111111111,
              "#46039f"
             ],
             [
              0.2222222222222222,
              "#7201a8"
             ],
             [
              0.3333333333333333,
              "#9c179e"
             ],
             [
              0.4444444444444444,
              "#bd3786"
             ],
             [
              0.5555555555555556,
              "#d8576b"
             ],
             [
              0.6666666666666666,
              "#ed7953"
             ],
             [
              0.7777777777777778,
              "#fb9f3a"
             ],
             [
              0.8888888888888888,
              "#fdca26"
             ],
             [
              1,
              "#f0f921"
             ]
            ],
            "type": "histogram2dcontour"
           }
          ],
          "mesh3d": [
           {
            "colorbar": {
             "outlinewidth": 0,
             "ticks": ""
            },
            "type": "mesh3d"
           }
          ],
          "parcoords": [
           {
            "line": {
             "colorbar": {
              "outlinewidth": 0,
              "ticks": ""
             }
            },
            "type": "parcoords"
           }
          ],
          "pie": [
           {
            "automargin": true,
            "type": "pie"
           }
          ],
          "scatter": [
           {
            "fillpattern": {
             "fillmode": "overlay",
             "size": 10,
             "solidity": 0.2
            },
            "type": "scatter"
           }
          ],
          "scatter3d": [
           {
            "line": {
             "colorbar": {
              "outlinewidth": 0,
              "ticks": ""
             }
            },
            "marker": {
             "colorbar": {
              "outlinewidth": 0,
              "ticks": ""
             }
            },
            "type": "scatter3d"
           }
          ],
          "scattercarpet": [
           {
            "marker": {
             "colorbar": {
              "outlinewidth": 0,
              "ticks": ""
             }
            },
            "type": "scattercarpet"
           }
          ],
          "scattergeo": [
           {
            "marker": {
             "colorbar": {
              "outlinewidth": 0,
              "ticks": ""
             }
            },
            "type": "scattergeo"
           }
          ],
          "scattergl": [
           {
            "marker": {
             "colorbar": {
              "outlinewidth": 0,
              "ticks": ""
             }
            },
            "type": "scattergl"
           }
          ],
          "scattermapbox": [
           {
            "marker": {
             "colorbar": {
              "outlinewidth": 0,
              "ticks": ""
             }
            },
            "type": "scattermapbox"
           }
          ],
          "scatterpolar": [
           {
            "marker": {
             "colorbar": {
              "outlinewidth": 0,
              "ticks": ""
             }
            },
            "type": "scatterpolar"
           }
          ],
          "scatterpolargl": [
           {
            "marker": {
             "colorbar": {
              "outlinewidth": 0,
              "ticks": ""
             }
            },
            "type": "scatterpolargl"
           }
          ],
          "scatterternary": [
           {
            "marker": {
             "colorbar": {
              "outlinewidth": 0,
              "ticks": ""
             }
            },
            "type": "scatterternary"
           }
          ],
          "surface": [
           {
            "colorbar": {
             "outlinewidth": 0,
             "ticks": ""
            },
            "colorscale": [
             [
              0,
              "#0d0887"
             ],
             [
              0.1111111111111111,
              "#46039f"
             ],
             [
              0.2222222222222222,
              "#7201a8"
             ],
             [
              0.3333333333333333,
              "#9c179e"
             ],
             [
              0.4444444444444444,
              "#bd3786"
             ],
             [
              0.5555555555555556,
              "#d8576b"
             ],
             [
              0.6666666666666666,
              "#ed7953"
             ],
             [
              0.7777777777777778,
              "#fb9f3a"
             ],
             [
              0.8888888888888888,
              "#fdca26"
             ],
             [
              1,
              "#f0f921"
             ]
            ],
            "type": "surface"
           }
          ],
          "table": [
           {
            "cells": {
             "fill": {
              "color": "#EBF0F8"
             },
             "line": {
              "color": "white"
             }
            },
            "header": {
             "fill": {
              "color": "#C8D4E3"
             },
             "line": {
              "color": "white"
             }
            },
            "type": "table"
           }
          ]
         },
         "layout": {
          "annotationdefaults": {
           "arrowcolor": "#2a3f5f",
           "arrowhead": 0,
           "arrowwidth": 1
          },
          "autotypenumbers": "strict",
          "coloraxis": {
           "colorbar": {
            "outlinewidth": 0,
            "ticks": ""
           }
          },
          "colorscale": {
           "diverging": [
            [
             0,
             "#8e0152"
            ],
            [
             0.1,
             "#c51b7d"
            ],
            [
             0.2,
             "#de77ae"
            ],
            [
             0.3,
             "#f1b6da"
            ],
            [
             0.4,
             "#fde0ef"
            ],
            [
             0.5,
             "#f7f7f7"
            ],
            [
             0.6,
             "#e6f5d0"
            ],
            [
             0.7,
             "#b8e186"
            ],
            [
             0.8,
             "#7fbc41"
            ],
            [
             0.9,
             "#4d9221"
            ],
            [
             1,
             "#276419"
            ]
           ],
           "sequential": [
            [
             0,
             "#0d0887"
            ],
            [
             0.1111111111111111,
             "#46039f"
            ],
            [
             0.2222222222222222,
             "#7201a8"
            ],
            [
             0.3333333333333333,
             "#9c179e"
            ],
            [
             0.4444444444444444,
             "#bd3786"
            ],
            [
             0.5555555555555556,
             "#d8576b"
            ],
            [
             0.6666666666666666,
             "#ed7953"
            ],
            [
             0.7777777777777778,
             "#fb9f3a"
            ],
            [
             0.8888888888888888,
             "#fdca26"
            ],
            [
             1,
             "#f0f921"
            ]
           ],
           "sequentialminus": [
            [
             0,
             "#0d0887"
            ],
            [
             0.1111111111111111,
             "#46039f"
            ],
            [
             0.2222222222222222,
             "#7201a8"
            ],
            [
             0.3333333333333333,
             "#9c179e"
            ],
            [
             0.4444444444444444,
             "#bd3786"
            ],
            [
             0.5555555555555556,
             "#d8576b"
            ],
            [
             0.6666666666666666,
             "#ed7953"
            ],
            [
             0.7777777777777778,
             "#fb9f3a"
            ],
            [
             0.8888888888888888,
             "#fdca26"
            ],
            [
             1,
             "#f0f921"
            ]
           ]
          },
          "colorway": [
           "#636efa",
           "#EF553B",
           "#00cc96",
           "#ab63fa",
           "#FFA15A",
           "#19d3f3",
           "#FF6692",
           "#B6E880",
           "#FF97FF",
           "#FECB52"
          ],
          "font": {
           "color": "#2a3f5f"
          },
          "geo": {
           "bgcolor": "white",
           "lakecolor": "white",
           "landcolor": "#E5ECF6",
           "showlakes": true,
           "showland": true,
           "subunitcolor": "white"
          },
          "hoverlabel": {
           "align": "left"
          },
          "hovermode": "closest",
          "mapbox": {
           "style": "light"
          },
          "paper_bgcolor": "white",
          "plot_bgcolor": "#E5ECF6",
          "polar": {
           "angularaxis": {
            "gridcolor": "white",
            "linecolor": "white",
            "ticks": ""
           },
           "bgcolor": "#E5ECF6",
           "radialaxis": {
            "gridcolor": "white",
            "linecolor": "white",
            "ticks": ""
           }
          },
          "scene": {
           "xaxis": {
            "backgroundcolor": "#E5ECF6",
            "gridcolor": "white",
            "gridwidth": 2,
            "linecolor": "white",
            "showbackground": true,
            "ticks": "",
            "zerolinecolor": "white"
           },
           "yaxis": {
            "backgroundcolor": "#E5ECF6",
            "gridcolor": "white",
            "gridwidth": 2,
            "linecolor": "white",
            "showbackground": true,
            "ticks": "",
            "zerolinecolor": "white"
           },
           "zaxis": {
            "backgroundcolor": "#E5ECF6",
            "gridcolor": "white",
            "gridwidth": 2,
            "linecolor": "white",
            "showbackground": true,
            "ticks": "",
            "zerolinecolor": "white"
           }
          },
          "shapedefaults": {
           "line": {
            "color": "#2a3f5f"
           }
          },
          "ternary": {
           "aaxis": {
            "gridcolor": "white",
            "linecolor": "white",
            "ticks": ""
           },
           "baxis": {
            "gridcolor": "white",
            "linecolor": "white",
            "ticks": ""
           },
           "bgcolor": "#E5ECF6",
           "caxis": {
            "gridcolor": "white",
            "linecolor": "white",
            "ticks": ""
           }
          },
          "title": {
           "x": 0.05
          },
          "xaxis": {
           "automargin": true,
           "gridcolor": "white",
           "linecolor": "white",
           "ticks": "",
           "title": {
            "standoff": 15
           },
           "zerolinecolor": "white",
           "zerolinewidth": 2
          },
          "yaxis": {
           "automargin": true,
           "gridcolor": "white",
           "linecolor": "white",
           "ticks": "",
           "title": {
            "standoff": 15
           },
           "zerolinecolor": "white",
           "zerolinewidth": 2
          }
         }
        },
        "title": {
         "text": "Modelos com melhor MAE para previsão da vazão no 'F'-ésimo mês"
        },
        "xaxis": {
         "anchor": "y",
         "domain": [
          0,
          1
         ]
        },
        "xaxis2": {
         "anchor": "y2",
         "domain": [
          0,
          1
         ]
        },
        "yaxis": {
         "anchor": "x",
         "domain": [
          0.575,
          1
         ]
        },
        "yaxis2": {
         "anchor": "x2",
         "domain": [
          0,
          0.425
         ]
        }
       }
      }
     },
     "metadata": {},
     "output_type": "display_data"
    }
   ],
   "source": [
    "from plotly.subplots import make_subplots\n",
    "import plotly.graph_objects as go\n",
    "import plotly.express as px\n",
    "\n",
    "branches = ['F=1', 'F=2', 'F=3', 'F=4', \n",
    "            'F=5', 'F=6', 'F=7', 'F=8']\n",
    "\n",
    "decision_tree = dict_plot[0]['decision_tree']\n",
    "random_forest = dict_plot[1]['random_forest']\n",
    "linear_regression = dict_plot[2]['linear_regression']\n",
    "gru = dict_plot[3]['gru']\n",
    "lstm = dict_plot[4]['lstm']\n",
    "\n",
    "# Define a color scale with 5 colors\n",
    "color_scale = px.colors.qualitative.Plotly[:5]\n",
    "\n",
    "# Create a dictionary with colors for each category\n",
    "colors = {\n",
    "    'decision_tree': color_scale[0],\n",
    "    'random_forest': color_scale[1],\n",
    "    'linear_regression': color_scale[2],\n",
    "    'gru': color_scale[3],\n",
    "    'lstm': color_scale[4]\n",
    "}\n",
    "\n",
    "# Create subplots\n",
    "fig = make_subplots(rows=2, cols=1)\n",
    "\n",
    "# Add traces to subplot 1\n",
    "fig.add_trace(go.Bar(\n",
    "   x = branches[:4],\n",
    "   y = decision_tree[:4],\n",
    "   name = 'decision_tree',\n",
    "   legendgroup='decision_tree',\n",
    "   text=[f'{x:.0f}' for x in decision_tree[:4]],\n",
    "   marker=dict(color=colors['decision_tree']),\n",
    "), row=1, col=1)\n",
    "\n",
    "# Add traces to subplot 1\n",
    "fig.add_trace(go.Bar(\n",
    "   x = branches[:4],\n",
    "   y = random_forest[:4],\n",
    "   name = 'random_forest',\n",
    "   legendgroup='random_forest',\n",
    "   text=[f'{x:.0f}' for x in random_forest[:4]],\n",
    "   marker=dict(color=colors['random_forest']),\n",
    "), row=1, col=1)\n",
    "\n",
    "# Add traces to subplot 1\n",
    "fig.add_trace(go.Bar(\n",
    "   x = branches[:4],\n",
    "   y = linear_regression[:4],\n",
    "   name = 'linear_regression',\n",
    "   legendgroup='linear_regression',\n",
    "   text=[f'{x:.0f}' for x in linear_regression[:4]],\n",
    "   marker=dict(color=colors['linear_regression']),\n",
    "), row=1, col=1)\n",
    "\n",
    "# Add traces to subplot 1\n",
    "fig.add_trace(go.Bar(\n",
    "   x = branches[:4],\n",
    "   y = gru[:4],\n",
    "   name = 'gru',\n",
    "   legendgroup='gru',\n",
    "   text=[f'{x:.0f}' for x in gru[:4]],\n",
    "   marker=dict(color=colors['gru']),\n",
    "), row=1, col=1)\n",
    "\n",
    "# Add traces to subplot 1\n",
    "fig.add_trace(go.Bar(\n",
    "   x = branches[:4],\n",
    "   y = lstm[:4],\n",
    "   name = 'lstm',\n",
    "   legendgroup='lstm',\n",
    "   text=[f'{x:.0f}' for x in lstm[:4]],\n",
    "   marker=dict(color=colors['lstm']),\n",
    "), row=1, col=1)\n",
    "\n",
    "# Add traces to subplot 2\n",
    "fig.add_trace(go.Bar(\n",
    "   x = branches[4:],\n",
    "   y = decision_tree[4:],\n",
    "   name = 'decision_tree',\n",
    "   legendgroup='decision_tree',\n",
    "   text=[f'{x:.0f}' for x in decision_tree[4:]],\n",
    "   marker=dict(color=colors['decision_tree']),\n",
    "   showlegend=False,\n",
    "), row=2, col=1)\n",
    "\n",
    "# Add traces to subplot 2\n",
    "fig.add_trace(go.Bar(\n",
    "   x = branches[4:],\n",
    "   y = random_forest[4:],\n",
    "   name = 'random_forest',\n",
    "   legendgroup='random_forest',\n",
    "   text=[f'{x:.0f}' for x in random_forest[4:]],\n",
    "   marker=dict(color=colors['random_forest']),\n",
    "   showlegend=False\n",
    "), row=2, col=1)\n",
    "\n",
    "# Add traces to subplot 2\n",
    "fig.add_trace(go.Bar(\n",
    "   x = branches[4:],\n",
    "   y = linear_regression[4:],\n",
    "   name = 'linear_regression',\n",
    "   legendgroup='linear_regression',\n",
    "   text=[f'{x:.0f}' for x in linear_regression[4:]],\n",
    "   marker=dict(color=colors['linear_regression']),\n",
    "   showlegend=False\n",
    "), row=2, col=1)\n",
    "\n",
    "# Add traces to subplot 2\n",
    "fig.add_trace(go.Bar(\n",
    "   x = branches[4:],\n",
    "   y = gru[4:],\n",
    "   name = 'gru',\n",
    "   legendgroup='gru',\n",
    "   text=[f'{x:.0f}' for x in gru[4:]],\n",
    "   marker=dict(color=colors['gru']),\n",
    "   showlegend=False\n",
    "), row=2, col=1)\n",
    "\n",
    "# Add traces to subplot 2\n",
    "fig.add_trace(go.Bar(\n",
    "   x = branches[4:],\n",
    "   y = lstm[4:],\n",
    "   name = 'lstm',\n",
    "   legendgroup='lstm',\n",
    "   text=[f'{x:.0f}' for x in lstm[4:]],\n",
    "   marker=dict(color=colors['lstm']),\n",
    "   showlegend=False\n",
    "), row=2, col=1)\n",
    "\n",
    "fig.update_layout(\n",
    "    title=f\"Modelos com melhor MAE para previsão da vazão no 'F'-ésimo mês\", #  com 'N' livre \n",
    "    barmode='group',\n",
    ")\n",
    "\n",
    "# Set the same y-axis range for both subplots\n",
    "# fig.update_yaxes(range=[0.68, 1.0], row=1, col=1)\n",
    "# fig.update_yaxes(range=[0.68, 1.0], row=2, col=1)\n",
    "\n",
    "# # Add annotations\n",
    "# fig.add_annotation(text=\"'N' = Número de meses retroativos de vazão observada e precipitação na bacia, a serem utilizadas durante o treinamento\",\n",
    "#                    xref=\"paper\", yref=\"paper\",\n",
    "#                    x=0.5, y=-0.18, showarrow=False)\n",
    "\n",
    "# Add annotations\n",
    "fig.add_annotation(text=\"'F' = Número do mês futuro a onde se prevê a vazão\",\n",
    "                   xref=\"paper\", yref=\"paper\",\n",
    "                   x=0.5, y=-0.25, showarrow=False)\n",
    "\n",
    "fig.show()"
   ]
  },
  {
   "cell_type": "markdown",
   "metadata": {},
   "source": [
    "### Best correlation for each \"F\""
   ]
  },
  {
   "cell_type": "code",
   "execution_count": 20,
   "metadata": {},
   "outputs": [],
   "source": [
    "df_corr = ( df\n",
    "    .sort_values(by=['params.model','params.f_so_pred', 'metrics.corr'], ascending=False) # pois quanto menor melhor\n",
    "    .drop_duplicates(subset=['params.model','params.f_so_pred'], keep='first')\n",
    ")\n",
    "\n",
    "model_order = ['decision_tree', 'random_forest', 'linear_regression', 'gru', 'lstm']\n",
    "df_corr['params.model'] = pd.Categorical(df_corr['params.model'], categories=model_order, ordered=True)\n",
    "df_corr = df_corr.sort_values(by=['params.model', 'params.f_so_pred'])\n",
    "\n",
    "dict_plot = []\n",
    "\n",
    "for model in model_order:\n",
    "    dict_plot.append({f'{model}': df_corr[df_corr['params.model'] == f'{model}']['metrics.corr'].values.tolist()})"
   ]
  },
  {
   "cell_type": "code",
   "execution_count": 21,
   "metadata": {},
   "outputs": [
    {
     "data": {
      "application/vnd.plotly.v1+json": {
       "config": {
        "plotlyServerURL": "https://plot.ly"
       },
       "data": [
        {
         "legendgroup": "decision_tree",
         "marker": {
          "color": "#636EFA"
         },
         "name": "decision_tree",
         "text": [
          "0.891",
          "0.888",
          "0.858",
          "0.885"
         ],
         "type": "bar",
         "x": [
          "F=1",
          "F=2",
          "F=3",
          "F=4"
         ],
         "xaxis": "x",
         "y": [
          0.8905333231208407,
          0.8878147676688645,
          0.8582869218480323,
          0.8850321144578116
         ],
         "yaxis": "y"
        },
        {
         "legendgroup": "random_forest",
         "marker": {
          "color": "#EF553B"
         },
         "name": "random_forest",
         "text": [
          "0.904",
          "0.904",
          "0.883",
          "0.897"
         ],
         "type": "bar",
         "x": [
          "F=1",
          "F=2",
          "F=3",
          "F=4"
         ],
         "xaxis": "x",
         "y": [
          0.9037747021141219,
          0.9037573693668643,
          0.8831979457764698,
          0.8970731958282112
         ],
         "yaxis": "y"
        },
        {
         "legendgroup": "linear_regression",
         "marker": {
          "color": "#00CC96"
         },
         "name": "linear_regression",
         "text": [
          "0.917",
          "0.935",
          "0.933",
          "0.924"
         ],
         "type": "bar",
         "x": [
          "F=1",
          "F=2",
          "F=3",
          "F=4"
         ],
         "xaxis": "x",
         "y": [
          0.9165068406083747,
          0.9351737183549773,
          0.9327737262295038,
          0.9237847102963397
         ],
         "yaxis": "y"
        },
        {
         "legendgroup": "gru",
         "marker": {
          "color": "#AB63FA"
         },
         "name": "gru",
         "text": [
          "0.932",
          "0.939",
          "0.940",
          "0.949"
         ],
         "type": "bar",
         "x": [
          "F=1",
          "F=2",
          "F=3",
          "F=4"
         ],
         "xaxis": "x",
         "y": [
          0.9318550832674267,
          0.9388610096367552,
          0.9395875019183755,
          0.9492157460947128
         ],
         "yaxis": "y"
        },
        {
         "legendgroup": "lstm",
         "marker": {
          "color": "#FFA15A"
         },
         "name": "lstm",
         "text": [
          "0.933",
          "0.938",
          "0.942",
          "0.955"
         ],
         "type": "bar",
         "x": [
          "F=1",
          "F=2",
          "F=3",
          "F=4"
         ],
         "xaxis": "x",
         "y": [
          0.9325738065241482,
          0.9376971111793974,
          0.9423250452070081,
          0.9552501683407895
         ],
         "yaxis": "y"
        },
        {
         "legendgroup": "decision_tree",
         "marker": {
          "color": "#636EFA"
         },
         "name": "decision_tree",
         "showlegend": false,
         "text": [
          "0.887",
          "0.874",
          "0.873",
          "0.878"
         ],
         "type": "bar",
         "x": [
          "F=5",
          "F=6",
          "F=7",
          "F=8"
         ],
         "xaxis": "x2",
         "y": [
          0.8866522476884289,
          0.8738704948157543,
          0.873441375542866,
          0.877765939654045
         ],
         "yaxis": "y2"
        },
        {
         "legendgroup": "random_forest",
         "marker": {
          "color": "#EF553B"
         },
         "name": "random_forest",
         "showlegend": false,
         "text": [
          "0.904",
          "0.907",
          "0.900",
          "0.908"
         ],
         "type": "bar",
         "x": [
          "F=5",
          "F=6",
          "F=7",
          "F=8"
         ],
         "xaxis": "x2",
         "y": [
          0.9035277110102892,
          0.9074382137893792,
          0.9000444493199383,
          0.9079586716003711
         ],
         "yaxis": "y2"
        },
        {
         "legendgroup": "linear_regression",
         "marker": {
          "color": "#00CC96"
         },
         "name": "linear_regression",
         "showlegend": false,
         "text": [
          "0.924",
          "0.924",
          "0.921",
          "0.943"
         ],
         "type": "bar",
         "x": [
          "F=5",
          "F=6",
          "F=7",
          "F=8"
         ],
         "xaxis": "x2",
         "y": [
          0.9239718081542191,
          0.9238640208324973,
          0.9211805036557172,
          0.9431733613980081
         ],
         "yaxis": "y2"
        },
        {
         "legendgroup": "gru",
         "marker": {
          "color": "#AB63FA"
         },
         "name": "gru",
         "showlegend": false,
         "text": [
          "0.936",
          "0.916",
          "0.918",
          "0.928"
         ],
         "type": "bar",
         "x": [
          "F=5",
          "F=6",
          "F=7",
          "F=8"
         ],
         "xaxis": "x2",
         "y": [
          0.9359686171810282,
          0.915893803433867,
          0.9176139829451877,
          0.9281533818266242
         ],
         "yaxis": "y2"
        },
        {
         "legendgroup": "lstm",
         "marker": {
          "color": "#FFA15A"
         },
         "name": "lstm",
         "showlegend": false,
         "text": [
          "0.944",
          "0.921",
          "0.917",
          "0.932"
         ],
         "type": "bar",
         "x": [
          "F=5",
          "F=6",
          "F=7",
          "F=8"
         ],
         "xaxis": "x2",
         "y": [
          0.9438737589081051,
          0.9209529740751605,
          0.9172868729348532,
          0.9317555602010438
         ],
         "yaxis": "y2"
        }
       ],
       "layout": {
        "annotations": [
         {
          "showarrow": false,
          "text": "'F' = Número do mês futuro a onde se prevê a vazão",
          "x": 0.5,
          "xref": "paper",
          "y": -0.25,
          "yref": "paper"
         }
        ],
        "barmode": "group",
        "template": {
         "data": {
          "bar": [
           {
            "error_x": {
             "color": "#2a3f5f"
            },
            "error_y": {
             "color": "#2a3f5f"
            },
            "marker": {
             "line": {
              "color": "#E5ECF6",
              "width": 0.5
             },
             "pattern": {
              "fillmode": "overlay",
              "size": 10,
              "solidity": 0.2
             }
            },
            "type": "bar"
           }
          ],
          "barpolar": [
           {
            "marker": {
             "line": {
              "color": "#E5ECF6",
              "width": 0.5
             },
             "pattern": {
              "fillmode": "overlay",
              "size": 10,
              "solidity": 0.2
             }
            },
            "type": "barpolar"
           }
          ],
          "carpet": [
           {
            "aaxis": {
             "endlinecolor": "#2a3f5f",
             "gridcolor": "white",
             "linecolor": "white",
             "minorgridcolor": "white",
             "startlinecolor": "#2a3f5f"
            },
            "baxis": {
             "endlinecolor": "#2a3f5f",
             "gridcolor": "white",
             "linecolor": "white",
             "minorgridcolor": "white",
             "startlinecolor": "#2a3f5f"
            },
            "type": "carpet"
           }
          ],
          "choropleth": [
           {
            "colorbar": {
             "outlinewidth": 0,
             "ticks": ""
            },
            "type": "choropleth"
           }
          ],
          "contour": [
           {
            "colorbar": {
             "outlinewidth": 0,
             "ticks": ""
            },
            "colorscale": [
             [
              0,
              "#0d0887"
             ],
             [
              0.1111111111111111,
              "#46039f"
             ],
             [
              0.2222222222222222,
              "#7201a8"
             ],
             [
              0.3333333333333333,
              "#9c179e"
             ],
             [
              0.4444444444444444,
              "#bd3786"
             ],
             [
              0.5555555555555556,
              "#d8576b"
             ],
             [
              0.6666666666666666,
              "#ed7953"
             ],
             [
              0.7777777777777778,
              "#fb9f3a"
             ],
             [
              0.8888888888888888,
              "#fdca26"
             ],
             [
              1,
              "#f0f921"
             ]
            ],
            "type": "contour"
           }
          ],
          "contourcarpet": [
           {
            "colorbar": {
             "outlinewidth": 0,
             "ticks": ""
            },
            "type": "contourcarpet"
           }
          ],
          "heatmap": [
           {
            "colorbar": {
             "outlinewidth": 0,
             "ticks": ""
            },
            "colorscale": [
             [
              0,
              "#0d0887"
             ],
             [
              0.1111111111111111,
              "#46039f"
             ],
             [
              0.2222222222222222,
              "#7201a8"
             ],
             [
              0.3333333333333333,
              "#9c179e"
             ],
             [
              0.4444444444444444,
              "#bd3786"
             ],
             [
              0.5555555555555556,
              "#d8576b"
             ],
             [
              0.6666666666666666,
              "#ed7953"
             ],
             [
              0.7777777777777778,
              "#fb9f3a"
             ],
             [
              0.8888888888888888,
              "#fdca26"
             ],
             [
              1,
              "#f0f921"
             ]
            ],
            "type": "heatmap"
           }
          ],
          "heatmapgl": [
           {
            "colorbar": {
             "outlinewidth": 0,
             "ticks": ""
            },
            "colorscale": [
             [
              0,
              "#0d0887"
             ],
             [
              0.1111111111111111,
              "#46039f"
             ],
             [
              0.2222222222222222,
              "#7201a8"
             ],
             [
              0.3333333333333333,
              "#9c179e"
             ],
             [
              0.4444444444444444,
              "#bd3786"
             ],
             [
              0.5555555555555556,
              "#d8576b"
             ],
             [
              0.6666666666666666,
              "#ed7953"
             ],
             [
              0.7777777777777778,
              "#fb9f3a"
             ],
             [
              0.8888888888888888,
              "#fdca26"
             ],
             [
              1,
              "#f0f921"
             ]
            ],
            "type": "heatmapgl"
           }
          ],
          "histogram": [
           {
            "marker": {
             "pattern": {
              "fillmode": "overlay",
              "size": 10,
              "solidity": 0.2
             }
            },
            "type": "histogram"
           }
          ],
          "histogram2d": [
           {
            "colorbar": {
             "outlinewidth": 0,
             "ticks": ""
            },
            "colorscale": [
             [
              0,
              "#0d0887"
             ],
             [
              0.1111111111111111,
              "#46039f"
             ],
             [
              0.2222222222222222,
              "#7201a8"
             ],
             [
              0.3333333333333333,
              "#9c179e"
             ],
             [
              0.4444444444444444,
              "#bd3786"
             ],
             [
              0.5555555555555556,
              "#d8576b"
             ],
             [
              0.6666666666666666,
              "#ed7953"
             ],
             [
              0.7777777777777778,
              "#fb9f3a"
             ],
             [
              0.8888888888888888,
              "#fdca26"
             ],
             [
              1,
              "#f0f921"
             ]
            ],
            "type": "histogram2d"
           }
          ],
          "histogram2dcontour": [
           {
            "colorbar": {
             "outlinewidth": 0,
             "ticks": ""
            },
            "colorscale": [
             [
              0,
              "#0d0887"
             ],
             [
              0.1111111111111111,
              "#46039f"
             ],
             [
              0.2222222222222222,
              "#7201a8"
             ],
             [
              0.3333333333333333,
              "#9c179e"
             ],
             [
              0.4444444444444444,
              "#bd3786"
             ],
             [
              0.5555555555555556,
              "#d8576b"
             ],
             [
              0.6666666666666666,
              "#ed7953"
             ],
             [
              0.7777777777777778,
              "#fb9f3a"
             ],
             [
              0.8888888888888888,
              "#fdca26"
             ],
             [
              1,
              "#f0f921"
             ]
            ],
            "type": "histogram2dcontour"
           }
          ],
          "mesh3d": [
           {
            "colorbar": {
             "outlinewidth": 0,
             "ticks": ""
            },
            "type": "mesh3d"
           }
          ],
          "parcoords": [
           {
            "line": {
             "colorbar": {
              "outlinewidth": 0,
              "ticks": ""
             }
            },
            "type": "parcoords"
           }
          ],
          "pie": [
           {
            "automargin": true,
            "type": "pie"
           }
          ],
          "scatter": [
           {
            "fillpattern": {
             "fillmode": "overlay",
             "size": 10,
             "solidity": 0.2
            },
            "type": "scatter"
           }
          ],
          "scatter3d": [
           {
            "line": {
             "colorbar": {
              "outlinewidth": 0,
              "ticks": ""
             }
            },
            "marker": {
             "colorbar": {
              "outlinewidth": 0,
              "ticks": ""
             }
            },
            "type": "scatter3d"
           }
          ],
          "scattercarpet": [
           {
            "marker": {
             "colorbar": {
              "outlinewidth": 0,
              "ticks": ""
             }
            },
            "type": "scattercarpet"
           }
          ],
          "scattergeo": [
           {
            "marker": {
             "colorbar": {
              "outlinewidth": 0,
              "ticks": ""
             }
            },
            "type": "scattergeo"
           }
          ],
          "scattergl": [
           {
            "marker": {
             "colorbar": {
              "outlinewidth": 0,
              "ticks": ""
             }
            },
            "type": "scattergl"
           }
          ],
          "scattermapbox": [
           {
            "marker": {
             "colorbar": {
              "outlinewidth": 0,
              "ticks": ""
             }
            },
            "type": "scattermapbox"
           }
          ],
          "scatterpolar": [
           {
            "marker": {
             "colorbar": {
              "outlinewidth": 0,
              "ticks": ""
             }
            },
            "type": "scatterpolar"
           }
          ],
          "scatterpolargl": [
           {
            "marker": {
             "colorbar": {
              "outlinewidth": 0,
              "ticks": ""
             }
            },
            "type": "scatterpolargl"
           }
          ],
          "scatterternary": [
           {
            "marker": {
             "colorbar": {
              "outlinewidth": 0,
              "ticks": ""
             }
            },
            "type": "scatterternary"
           }
          ],
          "surface": [
           {
            "colorbar": {
             "outlinewidth": 0,
             "ticks": ""
            },
            "colorscale": [
             [
              0,
              "#0d0887"
             ],
             [
              0.1111111111111111,
              "#46039f"
             ],
             [
              0.2222222222222222,
              "#7201a8"
             ],
             [
              0.3333333333333333,
              "#9c179e"
             ],
             [
              0.4444444444444444,
              "#bd3786"
             ],
             [
              0.5555555555555556,
              "#d8576b"
             ],
             [
              0.6666666666666666,
              "#ed7953"
             ],
             [
              0.7777777777777778,
              "#fb9f3a"
             ],
             [
              0.8888888888888888,
              "#fdca26"
             ],
             [
              1,
              "#f0f921"
             ]
            ],
            "type": "surface"
           }
          ],
          "table": [
           {
            "cells": {
             "fill": {
              "color": "#EBF0F8"
             },
             "line": {
              "color": "white"
             }
            },
            "header": {
             "fill": {
              "color": "#C8D4E3"
             },
             "line": {
              "color": "white"
             }
            },
            "type": "table"
           }
          ]
         },
         "layout": {
          "annotationdefaults": {
           "arrowcolor": "#2a3f5f",
           "arrowhead": 0,
           "arrowwidth": 1
          },
          "autotypenumbers": "strict",
          "coloraxis": {
           "colorbar": {
            "outlinewidth": 0,
            "ticks": ""
           }
          },
          "colorscale": {
           "diverging": [
            [
             0,
             "#8e0152"
            ],
            [
             0.1,
             "#c51b7d"
            ],
            [
             0.2,
             "#de77ae"
            ],
            [
             0.3,
             "#f1b6da"
            ],
            [
             0.4,
             "#fde0ef"
            ],
            [
             0.5,
             "#f7f7f7"
            ],
            [
             0.6,
             "#e6f5d0"
            ],
            [
             0.7,
             "#b8e186"
            ],
            [
             0.8,
             "#7fbc41"
            ],
            [
             0.9,
             "#4d9221"
            ],
            [
             1,
             "#276419"
            ]
           ],
           "sequential": [
            [
             0,
             "#0d0887"
            ],
            [
             0.1111111111111111,
             "#46039f"
            ],
            [
             0.2222222222222222,
             "#7201a8"
            ],
            [
             0.3333333333333333,
             "#9c179e"
            ],
            [
             0.4444444444444444,
             "#bd3786"
            ],
            [
             0.5555555555555556,
             "#d8576b"
            ],
            [
             0.6666666666666666,
             "#ed7953"
            ],
            [
             0.7777777777777778,
             "#fb9f3a"
            ],
            [
             0.8888888888888888,
             "#fdca26"
            ],
            [
             1,
             "#f0f921"
            ]
           ],
           "sequentialminus": [
            [
             0,
             "#0d0887"
            ],
            [
             0.1111111111111111,
             "#46039f"
            ],
            [
             0.2222222222222222,
             "#7201a8"
            ],
            [
             0.3333333333333333,
             "#9c179e"
            ],
            [
             0.4444444444444444,
             "#bd3786"
            ],
            [
             0.5555555555555556,
             "#d8576b"
            ],
            [
             0.6666666666666666,
             "#ed7953"
            ],
            [
             0.7777777777777778,
             "#fb9f3a"
            ],
            [
             0.8888888888888888,
             "#fdca26"
            ],
            [
             1,
             "#f0f921"
            ]
           ]
          },
          "colorway": [
           "#636efa",
           "#EF553B",
           "#00cc96",
           "#ab63fa",
           "#FFA15A",
           "#19d3f3",
           "#FF6692",
           "#B6E880",
           "#FF97FF",
           "#FECB52"
          ],
          "font": {
           "color": "#2a3f5f"
          },
          "geo": {
           "bgcolor": "white",
           "lakecolor": "white",
           "landcolor": "#E5ECF6",
           "showlakes": true,
           "showland": true,
           "subunitcolor": "white"
          },
          "hoverlabel": {
           "align": "left"
          },
          "hovermode": "closest",
          "mapbox": {
           "style": "light"
          },
          "paper_bgcolor": "white",
          "plot_bgcolor": "#E5ECF6",
          "polar": {
           "angularaxis": {
            "gridcolor": "white",
            "linecolor": "white",
            "ticks": ""
           },
           "bgcolor": "#E5ECF6",
           "radialaxis": {
            "gridcolor": "white",
            "linecolor": "white",
            "ticks": ""
           }
          },
          "scene": {
           "xaxis": {
            "backgroundcolor": "#E5ECF6",
            "gridcolor": "white",
            "gridwidth": 2,
            "linecolor": "white",
            "showbackground": true,
            "ticks": "",
            "zerolinecolor": "white"
           },
           "yaxis": {
            "backgroundcolor": "#E5ECF6",
            "gridcolor": "white",
            "gridwidth": 2,
            "linecolor": "white",
            "showbackground": true,
            "ticks": "",
            "zerolinecolor": "white"
           },
           "zaxis": {
            "backgroundcolor": "#E5ECF6",
            "gridcolor": "white",
            "gridwidth": 2,
            "linecolor": "white",
            "showbackground": true,
            "ticks": "",
            "zerolinecolor": "white"
           }
          },
          "shapedefaults": {
           "line": {
            "color": "#2a3f5f"
           }
          },
          "ternary": {
           "aaxis": {
            "gridcolor": "white",
            "linecolor": "white",
            "ticks": ""
           },
           "baxis": {
            "gridcolor": "white",
            "linecolor": "white",
            "ticks": ""
           },
           "bgcolor": "#E5ECF6",
           "caxis": {
            "gridcolor": "white",
            "linecolor": "white",
            "ticks": ""
           }
          },
          "title": {
           "x": 0.05
          },
          "xaxis": {
           "automargin": true,
           "gridcolor": "white",
           "linecolor": "white",
           "ticks": "",
           "title": {
            "standoff": 15
           },
           "zerolinecolor": "white",
           "zerolinewidth": 2
          },
          "yaxis": {
           "automargin": true,
           "gridcolor": "white",
           "linecolor": "white",
           "ticks": "",
           "title": {
            "standoff": 15
           },
           "zerolinecolor": "white",
           "zerolinewidth": 2
          }
         }
        },
        "title": {
         "text": "Modelos com melhor Correlação para previsão da vazão no 'F'-ésimo mês"
        },
        "xaxis": {
         "anchor": "y",
         "domain": [
          0,
          1
         ]
        },
        "xaxis2": {
         "anchor": "y2",
         "domain": [
          0,
          1
         ]
        },
        "yaxis": {
         "anchor": "x",
         "domain": [
          0.575,
          1
         ],
         "range": [
          0.68,
          1
         ]
        },
        "yaxis2": {
         "anchor": "x2",
         "domain": [
          0,
          0.425
         ],
         "range": [
          0.68,
          1
         ]
        }
       }
      }
     },
     "metadata": {},
     "output_type": "display_data"
    }
   ],
   "source": [
    "from plotly.subplots import make_subplots\n",
    "import plotly.graph_objects as go\n",
    "import plotly.express as px\n",
    "\n",
    "branches = ['F=1', 'F=2', 'F=3', 'F=4', \n",
    "            'F=5', 'F=6', 'F=7', 'F=8']\n",
    "\n",
    "decision_tree = dict_plot[0]['decision_tree']\n",
    "random_forest = dict_plot[1]['random_forest']\n",
    "linear_regression = dict_plot[2]['linear_regression']\n",
    "gru = dict_plot[3]['gru']\n",
    "lstm = dict_plot[4]['lstm']\n",
    "\n",
    "# Define a color scale with 5 colors\n",
    "color_scale = px.colors.qualitative.Plotly[:5]\n",
    "\n",
    "# Create a dictionary with colors for each category\n",
    "colors = {\n",
    "    'decision_tree': color_scale[0],\n",
    "    'random_forest': color_scale[1],\n",
    "    'linear_regression': color_scale[2],\n",
    "    'gru': color_scale[3],\n",
    "    'lstm': color_scale[4]\n",
    "}\n",
    "\n",
    "\n",
    "# Create subplots\n",
    "fig = make_subplots(rows=2, cols=1)\n",
    "\n",
    "# Add traces to subplot 1\n",
    "fig.add_trace(go.Bar(\n",
    "   x = branches[:4],\n",
    "   y = decision_tree[:4],\n",
    "   name = 'decision_tree',\n",
    "   legendgroup='decision_tree',\n",
    "   text=[f'{x:.3f}' for x in decision_tree[:4]],\n",
    "   marker=dict(color=colors['decision_tree']),\n",
    "), row=1, col=1)\n",
    "\n",
    "# Add traces to subplot 1\n",
    "fig.add_trace(go.Bar(\n",
    "   x = branches[:4],\n",
    "   y = random_forest[:4],\n",
    "   name = 'random_forest',\n",
    "   legendgroup='random_forest',\n",
    "   text=[f'{x:.3f}' for x in random_forest[:4]],\n",
    "   marker=dict(color=colors['random_forest']),\n",
    "), row=1, col=1)\n",
    "\n",
    "# Add traces to subplot 1\n",
    "fig.add_trace(go.Bar(\n",
    "   x = branches[:4],\n",
    "   y = linear_regression[:4],\n",
    "   name = 'linear_regression',\n",
    "   legendgroup='linear_regression',\n",
    "   text=[f'{x:.3f}' for x in linear_regression[:4]],\n",
    "   marker=dict(color=colors['linear_regression']),\n",
    "), row=1, col=1)\n",
    "\n",
    "# Add traces to subplot 1\n",
    "fig.add_trace(go.Bar(\n",
    "   x = branches[:4],\n",
    "   y = gru[:4],\n",
    "   name = 'gru',\n",
    "   legendgroup='gru',\n",
    "   text=[f'{x:.3f}' for x in gru[:4]],\n",
    "   marker=dict(color=colors['gru']),\n",
    "), row=1, col=1)\n",
    "\n",
    "# Add traces to subplot 1\n",
    "fig.add_trace(go.Bar(\n",
    "   x = branches[:4],\n",
    "   y = lstm[:4],\n",
    "   name = 'lstm',\n",
    "   legendgroup='lstm',\n",
    "   text=[f'{x:.3f}' for x in lstm[:4]],\n",
    "   marker=dict(color=colors['lstm']),\n",
    "), row=1, col=1)\n",
    "\n",
    "# Add traces to subplot 2\n",
    "fig.add_trace(go.Bar(\n",
    "   x = branches[4:],\n",
    "   y = decision_tree[4:],\n",
    "   name = 'decision_tree',\n",
    "   legendgroup='decision_tree',\n",
    "   text=[f'{x:.3f}' for x in decision_tree[4:]],\n",
    "   marker=dict(color=colors['decision_tree']),\n",
    "   showlegend=False,\n",
    "), row=2, col=1)\n",
    "\n",
    "# Add traces to subplot 2\n",
    "fig.add_trace(go.Bar(\n",
    "   x = branches[4:],\n",
    "   y = random_forest[4:],\n",
    "   name = 'random_forest',\n",
    "   legendgroup='random_forest',\n",
    "   text=[f'{x:.3f}' for x in random_forest[4:]],\n",
    "   marker=dict(color=colors['random_forest']),\n",
    "   showlegend=False\n",
    "), row=2, col=1)\n",
    "\n",
    "# Add traces to subplot 2\n",
    "fig.add_trace(go.Bar(\n",
    "   x = branches[4:],\n",
    "   y = linear_regression[4:],\n",
    "   name = 'linear_regression',\n",
    "   legendgroup='linear_regression',\n",
    "   text=[f'{x:.3f}' for x in linear_regression[4:]],\n",
    "   marker=dict(color=colors['linear_regression']),\n",
    "   showlegend=False\n",
    "), row=2, col=1)\n",
    "\n",
    "# Add traces to subplot 2\n",
    "fig.add_trace(go.Bar(\n",
    "   x = branches[4:],\n",
    "   y = gru[4:],\n",
    "   name = 'gru',\n",
    "   legendgroup='gru',\n",
    "   text=[f'{x:.3f}' for x in gru[4:]],\n",
    "   marker=dict(color=colors['gru']),\n",
    "   showlegend=False\n",
    "), row=2, col=1)\n",
    "\n",
    "# Add traces to subplot 2\n",
    "fig.add_trace(go.Bar(\n",
    "   x = branches[4:],\n",
    "   y = lstm[4:],\n",
    "   name = 'lstm',\n",
    "   legendgroup='lstm',\n",
    "   text=[f'{x:.3f}' for x in lstm[4:]],\n",
    "   marker=dict(color=colors['lstm']),\n",
    "   showlegend=False\n",
    "), row=2, col=1)\n",
    "\n",
    "fig.update_layout(\n",
    "    title=f\"Modelos com melhor Correlação para previsão da vazão no 'F'-ésimo mês\", #  com 'N' livre \n",
    "    barmode='group',\n",
    ")\n",
    "\n",
    "# Set the same y-axis range for both subplots\n",
    "fig.update_yaxes(range=[0.68, 1.0], row=1, col=1)\n",
    "fig.update_yaxes(range=[0.68, 1.0], row=2, col=1)\n",
    "\n",
    "# Add annotations\n",
    "# fig.add_annotation(text=\"'N' = Número de meses retroativos de vazão observada e precipitação na bacia, a serem utilizadas durante o treinamento\",\n",
    "#                    xref=\"paper\", yref=\"paper\",\n",
    "#                    x=0.5, y=-0.18, showarrow=False)\n",
    "\n",
    "# Add annotations\n",
    "fig.add_annotation(text=\"'F' = Número do mês futuro a onde se prevê a vazão\",\n",
    "                   xref=\"paper\", yref=\"paper\",\n",
    "                   x=0.5, y=-0.25, showarrow=False)\n",
    "\n",
    "fig.show()"
   ]
  },
  {
   "cell_type": "code",
   "execution_count": null,
   "metadata": {},
   "outputs": [],
   "source": []
  },
  {
   "cell_type": "code",
   "execution_count": null,
   "metadata": {},
   "outputs": [],
   "source": []
  },
  {
   "cell_type": "code",
   "execution_count": null,
   "metadata": {},
   "outputs": [],
   "source": []
  },
  {
   "cell_type": "code",
   "execution_count": null,
   "metadata": {},
   "outputs": [],
   "source": []
  },
  {
   "cell_type": "markdown",
   "metadata": {},
   "source": [
    "## Protótipos / Testes"
   ]
  },
  {
   "cell_type": "markdown",
   "metadata": {},
   "source": [
    "#### ----------------- Protótipo 1 ----------------- "
   ]
  },
  {
   "cell_type": "code",
   "execution_count": null,
   "metadata": {},
   "outputs": [],
   "source": [
    "import plotly.graph_objects as go\n",
    "\n",
    "branches = ['CSE', 'Mech', 'Electronics', 'BBB']\n",
    "fy = [23,17,35,14]\n",
    "sy = [20, 23, 30,5]\n",
    "ty = [30,20,15,18]\n",
    "by = [12,14,28,24]\n",
    "trace1 = go.Bar(\n",
    "   x = branches,\n",
    "   y = fy,\n",
    "   name = 'FY'\n",
    ")\n",
    "trace2 = go.Bar(\n",
    "   x = branches,\n",
    "   y = sy,\n",
    "   name = 'SY'\n",
    ")\n",
    "trace3 = go.Bar(\n",
    "   x = branches,\n",
    "   y = ty,\n",
    "   name = 'TY'\n",
    ")\n",
    "\n",
    "trace4 = go.Bar(\n",
    "   x = branches,\n",
    "   y = by,\n",
    "   name = 'BY'\n",
    ")\n",
    "\n",
    "data = [trace1, trace2, trace3,trace4]\n",
    "layout = go.Layout(barmode = 'group')\n",
    "fig = go.Figure(data = data, layout = layout)\n",
    "\n",
    "fig.show()\n"
   ]
  },
  {
   "cell_type": "markdown",
   "metadata": {},
   "source": [
    "#### ----------------- Protótipo 2 ----------------- "
   ]
  },
  {
   "cell_type": "code",
   "execution_count": null,
   "metadata": {},
   "outputs": [],
   "source": [
    "from plotly.subplots import make_subplots\n",
    "import plotly.graph_objects as go\n",
    "import plotly.express as px\n",
    "\n",
    "branches = ['a','b','c','d','e','f','g','h']\n",
    "\n",
    "fy = [23,17,35,14,27, 19, 33, 16]\n",
    "sy = [20, 23, 30,10,22, 24, 32, 12]\n",
    "ty = [30,20,15,18,29, 21, 17, 20]\n",
    "by = [12,14,28,24,14, 16, 30, 26]\n",
    "zy = [8,20,28,12,9, 12, 24, 20]\n",
    "\n",
    "# Define a color scale with 5 colors\n",
    "color_scale = px.colors.qualitative.Plotly[:5]\n",
    "\n",
    "# Create a dictionary with colors for each category\n",
    "colors = {\n",
    "    'fy': color_scale[0],\n",
    "    'sy': color_scale[1],\n",
    "    'ty': color_scale[2],\n",
    "    'by': color_scale[3],\n",
    "    'zy': color_scale[4]\n",
    "}\n",
    "\n",
    "\n",
    "# Create subplots\n",
    "fig = make_subplots(rows=2, cols=1)\n",
    "\n",
    "# Add traces to subplot 1\n",
    "fig.add_trace(go.Bar(\n",
    "   x = branches[:4],\n",
    "   y = fy[:4],\n",
    "   name = 'fy',\n",
    "   legendgroup='fy',\n",
    "   text=[f'{x:.2f}' for x in fy[:4]],\n",
    "   marker=dict(color=colors['fy']),\n",
    "), row=1, col=1)\n",
    "\n",
    "# Add traces to subplot 1\n",
    "fig.add_trace(go.Bar(\n",
    "   x = branches[:4],\n",
    "   y = sy[:4],\n",
    "   name = 'sy',\n",
    "   legendgroup='sy',\n",
    "   text=[f'{x:.2f}' for x in sy[:4]],\n",
    "   marker=dict(color=colors['sy']),\n",
    "), row=1, col=1)\n",
    "\n",
    "# Add traces to subplot 1\n",
    "fig.add_trace(go.Bar(\n",
    "   x = branches[:4],\n",
    "   y = ty[:4],\n",
    "   name = 'ty',\n",
    "   legendgroup='ty',\n",
    "   text=[f'{x:.2f}' for x in ty[:4]],\n",
    "   marker=dict(color=colors['ty']),\n",
    "), row=1, col=1)\n",
    "\n",
    "# Add traces to subplot 1\n",
    "fig.add_trace(go.Bar(\n",
    "   x = branches[:4],\n",
    "   y = by[:4],\n",
    "   name = 'by',\n",
    "   legendgroup='by',\n",
    "   text=[f'{x:.2f}' for x in by[:4]],\n",
    "   marker=dict(color=colors['by']),\n",
    "), row=1, col=1)\n",
    "\n",
    "# Add traces to subplot 1\n",
    "fig.add_trace(go.Bar(\n",
    "   x = branches[:4],\n",
    "   y = zy[:4],\n",
    "   name = 'zy',\n",
    "   legendgroup='zy',\n",
    "   text=[f'{x:.2f}' for x in zy[:4]],\n",
    "   marker=dict(color=colors['zy']),\n",
    "), row=1, col=1)\n",
    "\n",
    "# Add traces to subplot 2\n",
    "fig.add_trace(go.Bar(\n",
    "   x = branches[4:],\n",
    "   y = fy[4:],\n",
    "   name = 'fy',\n",
    "   legendgroup='fy',\n",
    "   text=[f'{x:.2f}' for x in fy[4:]],\n",
    "   marker=dict(color=colors['fy']),\n",
    "   showlegend=False,\n",
    "), row=2, col=1)\n",
    "\n",
    "# Add traces to subplot 2\n",
    "fig.add_trace(go.Bar(\n",
    "   x = branches[4:],\n",
    "   y = sy[4:],\n",
    "   name = 'sy',\n",
    "   legendgroup='sy',\n",
    "   text=[f'{x:.2f}' for x in sy[4:]],\n",
    "   marker=dict(color=colors['sy']),\n",
    "   showlegend=False\n",
    "), row=2, col=1)\n",
    "\n",
    "# Add traces to subplot 2\n",
    "fig.add_trace(go.Bar(\n",
    "   x = branches[4:],\n",
    "   y = ty[4:],\n",
    "   name = 'ty',\n",
    "   legendgroup='ty',\n",
    "   text=[f'{x:.2f}' for x in ty[4:]],\n",
    "   marker=dict(color=colors['ty']),\n",
    "   showlegend=False\n",
    "), row=2, col=1)\n",
    "\n",
    "# Add traces to subplot 2\n",
    "fig.add_trace(go.Bar(\n",
    "   x = branches[4:],\n",
    "   y = by[4:],\n",
    "   name = 'by',\n",
    "   legendgroup='by',\n",
    "   text=[f'{x:.2f}' for x in by[4:]],\n",
    "   marker=dict(color=colors['by']),\n",
    "   showlegend=False\n",
    "), row=2, col=1)\n",
    "\n",
    "# Add traces to subplot 2\n",
    "fig.add_trace(go.Bar(\n",
    "   x = branches[4:],\n",
    "   y = zy[4:],\n",
    "   name = 'zy',\n",
    "   legendgroup='zy',\n",
    "   text=[f'{x:.2f}' for x in zy[4:]],\n",
    "   marker=dict(color=colors['zy']),\n",
    "   showlegend=False\n",
    "), row=2, col=1)\n",
    "\n",
    "fig.update_layout(\n",
    "    title=f\"Título teste\",\n",
    "    barmode='group',\n",
    ")\n",
    "\n",
    "# Add annotations\n",
    "fig.add_annotation(text=\"'n' = Número de meses retroativos de vazão observada e precipitação na bacia, a serem utilizadas durante o treinamento\",\n",
    "                   xref=\"paper\", yref=\"paper\",\n",
    "                   x=0.5, y=-0.18, showarrow=False)\n",
    "\n",
    "# Add annotations\n",
    "fig.add_annotation(text=\"'f' = Número do mês futuro a onde se prevê a vazão\",\n",
    "                   xref=\"paper\", yref=\"paper\",\n",
    "                   x=0.5, y=-0.25, showarrow=False)\n",
    "\n",
    "fig.show()"
   ]
  }
 ],
 "metadata": {
  "kernelspec": {
   "display_name": ".euros",
   "language": "python",
   "name": ".euros"
  },
  "language_info": {
   "codemirror_mode": {
    "name": "ipython",
    "version": 3
   },
   "file_extension": ".py",
   "mimetype": "text/x-python",
   "name": "python",
   "nbconvert_exporter": "python",
   "pygments_lexer": "ipython3",
   "version": "3.10.12"
  }
 },
 "nbformat": 4,
 "nbformat_minor": 2
}
