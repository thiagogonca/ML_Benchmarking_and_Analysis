{
 "cells": [
  {
   "cell_type": "code",
   "execution_count": 1,
   "metadata": {},
   "outputs": [
    {
     "name": "stderr",
     "output_type": "stream",
     "text": [
      "/usr/lib/python3/dist-packages/scipy/__init__.py:146: UserWarning: A NumPy version >=1.17.3 and <1.25.0 is required for this version of SciPy (detected version 1.26.3\n",
      "  warnings.warn(f\"A NumPy version >={np_minversion} and <{np_maxversion}\"\n"
     ]
    }
   ],
   "source": [
    "import pandas as pd\n",
    "import matplotlib.pyplot as plt\n",
    "from sklearn.preprocessing import MinMaxScaler\n",
    "from keras.preprocessing.sequence import TimeseriesGenerator\n",
    "import numpy as np\n",
    "import tensorflow as tf\n",
    "from sklearn.model_selection import train_test_split\n",
    "import datetime\n",
    "import os\n",
    "import plotly.graph_objects as go\n",
    "from sklearn.metrics import mean_squared_error, mean_absolute_error, r2_score"
   ]
  },
  {
   "cell_type": "markdown",
   "metadata": {},
   "source": [
    "### Leitura do dataset para treino da LSTM (RNN) em séries temporais"
   ]
  },
  {
   "cell_type": "code",
   "execution_count": 2,
   "metadata": {},
   "outputs": [],
   "source": [
    "RANDOM_SEED=21\n",
    "\n",
    "model = \"gru\"\n",
    "src_type = \"regular\"\n",
    "\n",
    "dir_results = f\"../../data/results/{src_type}\"\n",
    "dir_figures = f\"{dir_results}/figures/{model}\"\n",
    "\n",
    "if not os.path.exists(dir_figures):\n",
    "    os.makedirs(dir_figures)\n",
    "\n",
    "path_datasets = \"../../data/datasets\"\n",
    "dataset = \"Itaipu_POC_VAZAO_V1.csv\"\n",
    "\n",
    "## Número de Semanas Operativas Retroativas a serem utilizadas no Treinamento dos Algoritmos\n",
    "n = 6"
   ]
  },
  {
   "cell_type": "code",
   "execution_count": 3,
   "metadata": {},
   "outputs": [
    {
     "data": {
      "text/html": [
       "<div>\n",
       "<style scoped>\n",
       "    .dataframe tbody tr th:only-of-type {\n",
       "        vertical-align: middle;\n",
       "    }\n",
       "\n",
       "    .dataframe tbody tr th {\n",
       "        vertical-align: top;\n",
       "    }\n",
       "\n",
       "    .dataframe thead th {\n",
       "        text-align: right;\n",
       "    }\n",
       "</style>\n",
       "<table border=\"1\" class=\"dataframe\">\n",
       "  <thead>\n",
       "    <tr style=\"text-align: right;\">\n",
       "      <th></th>\n",
       "      <th>bacia_prec_sum</th>\n",
       "      <th>vazao_itaipu</th>\n",
       "    </tr>\n",
       "    <tr>\n",
       "      <th>time</th>\n",
       "      <th></th>\n",
       "      <th></th>\n",
       "    </tr>\n",
       "  </thead>\n",
       "  <tbody>\n",
       "    <tr>\n",
       "      <th>2001-01-06</th>\n",
       "      <td>188551.1250</td>\n",
       "      <td>96628.00</td>\n",
       "    </tr>\n",
       "    <tr>\n",
       "      <th>2001-01-13</th>\n",
       "      <td>431305.6250</td>\n",
       "      <td>113552.00</td>\n",
       "    </tr>\n",
       "    <tr>\n",
       "      <th>2001-01-20</th>\n",
       "      <td>199386.4375</td>\n",
       "      <td>84168.00</td>\n",
       "    </tr>\n",
       "    <tr>\n",
       "      <th>2001-01-27</th>\n",
       "      <td>337050.2500</td>\n",
       "      <td>81859.00</td>\n",
       "    </tr>\n",
       "    <tr>\n",
       "      <th>2001-02-03</th>\n",
       "      <td>369936.3125</td>\n",
       "      <td>98723.00</td>\n",
       "    </tr>\n",
       "    <tr>\n",
       "      <th>...</th>\n",
       "      <td>...</td>\n",
       "      <td>...</td>\n",
       "    </tr>\n",
       "    <tr>\n",
       "      <th>2020-12-05</th>\n",
       "      <td>314893.7500</td>\n",
       "      <td>37020.23</td>\n",
       "    </tr>\n",
       "    <tr>\n",
       "      <th>2020-12-12</th>\n",
       "      <td>381038.8750</td>\n",
       "      <td>46404.99</td>\n",
       "    </tr>\n",
       "    <tr>\n",
       "      <th>2020-12-19</th>\n",
       "      <td>362357.2500</td>\n",
       "      <td>63216.66</td>\n",
       "    </tr>\n",
       "    <tr>\n",
       "      <th>2020-12-26</th>\n",
       "      <td>309619.8750</td>\n",
       "      <td>59164.67</td>\n",
       "    </tr>\n",
       "    <tr>\n",
       "      <th>2021-01-02</th>\n",
       "      <td>259895.3125</td>\n",
       "      <td>71591.00</td>\n",
       "    </tr>\n",
       "  </tbody>\n",
       "</table>\n",
       "<p>1047 rows × 2 columns</p>\n",
       "</div>"
      ],
      "text/plain": [
       "            bacia_prec_sum  vazao_itaipu\n",
       "time                                    \n",
       "2001-01-06     188551.1250      96628.00\n",
       "2001-01-13     431305.6250     113552.00\n",
       "2001-01-20     199386.4375      84168.00\n",
       "2001-01-27     337050.2500      81859.00\n",
       "2001-02-03     369936.3125      98723.00\n",
       "...                    ...           ...\n",
       "2020-12-05     314893.7500      37020.23\n",
       "2020-12-12     381038.8750      46404.99\n",
       "2020-12-19     362357.2500      63216.66\n",
       "2020-12-26     309619.8750      59164.67\n",
       "2021-01-02     259895.3125      71591.00\n",
       "\n",
       "[1047 rows x 2 columns]"
      ]
     },
     "execution_count": 3,
     "metadata": {},
     "output_type": "execute_result"
    }
   ],
   "source": [
    "df_ts = pd.read_csv(f'{path_datasets}/{dataset}', index_col='time')\n",
    "df_ts"
   ]
  },
  {
   "cell_type": "code",
   "execution_count": 4,
   "metadata": {},
   "outputs": [
    {
     "data": {
      "text/html": [
       "<div>\n",
       "<style scoped>\n",
       "    .dataframe tbody tr th:only-of-type {\n",
       "        vertical-align: middle;\n",
       "    }\n",
       "\n",
       "    .dataframe tbody tr th {\n",
       "        vertical-align: top;\n",
       "    }\n",
       "\n",
       "    .dataframe thead th {\n",
       "        text-align: right;\n",
       "    }\n",
       "</style>\n",
       "<table border=\"1\" class=\"dataframe\">\n",
       "  <thead>\n",
       "    <tr style=\"text-align: right;\">\n",
       "      <th></th>\n",
       "      <th>time</th>\n",
       "      <th>bacia_prec_sum</th>\n",
       "      <th>vazao_itaipu</th>\n",
       "    </tr>\n",
       "  </thead>\n",
       "  <tbody>\n",
       "    <tr>\n",
       "      <th>0</th>\n",
       "      <td>2001-01-06</td>\n",
       "      <td>188551.1250</td>\n",
       "      <td>96628.00</td>\n",
       "    </tr>\n",
       "    <tr>\n",
       "      <th>1</th>\n",
       "      <td>2001-01-13</td>\n",
       "      <td>431305.6250</td>\n",
       "      <td>113552.00</td>\n",
       "    </tr>\n",
       "    <tr>\n",
       "      <th>2</th>\n",
       "      <td>2001-01-20</td>\n",
       "      <td>199386.4375</td>\n",
       "      <td>84168.00</td>\n",
       "    </tr>\n",
       "    <tr>\n",
       "      <th>3</th>\n",
       "      <td>2001-01-27</td>\n",
       "      <td>337050.2500</td>\n",
       "      <td>81859.00</td>\n",
       "    </tr>\n",
       "    <tr>\n",
       "      <th>4</th>\n",
       "      <td>2001-02-03</td>\n",
       "      <td>369936.3125</td>\n",
       "      <td>98723.00</td>\n",
       "    </tr>\n",
       "    <tr>\n",
       "      <th>...</th>\n",
       "      <td>...</td>\n",
       "      <td>...</td>\n",
       "      <td>...</td>\n",
       "    </tr>\n",
       "    <tr>\n",
       "      <th>1042</th>\n",
       "      <td>2020-12-05</td>\n",
       "      <td>314893.7500</td>\n",
       "      <td>37020.23</td>\n",
       "    </tr>\n",
       "    <tr>\n",
       "      <th>1043</th>\n",
       "      <td>2020-12-12</td>\n",
       "      <td>381038.8750</td>\n",
       "      <td>46404.99</td>\n",
       "    </tr>\n",
       "    <tr>\n",
       "      <th>1044</th>\n",
       "      <td>2020-12-19</td>\n",
       "      <td>362357.2500</td>\n",
       "      <td>63216.66</td>\n",
       "    </tr>\n",
       "    <tr>\n",
       "      <th>1045</th>\n",
       "      <td>2020-12-26</td>\n",
       "      <td>309619.8750</td>\n",
       "      <td>59164.67</td>\n",
       "    </tr>\n",
       "    <tr>\n",
       "      <th>1046</th>\n",
       "      <td>2021-01-02</td>\n",
       "      <td>259895.3125</td>\n",
       "      <td>71591.00</td>\n",
       "    </tr>\n",
       "  </tbody>\n",
       "</table>\n",
       "<p>1047 rows × 3 columns</p>\n",
       "</div>"
      ],
      "text/plain": [
       "            time  bacia_prec_sum  vazao_itaipu\n",
       "0     2001-01-06     188551.1250      96628.00\n",
       "1     2001-01-13     431305.6250     113552.00\n",
       "2     2001-01-20     199386.4375      84168.00\n",
       "3     2001-01-27     337050.2500      81859.00\n",
       "4     2001-02-03     369936.3125      98723.00\n",
       "...          ...             ...           ...\n",
       "1042  2020-12-05     314893.7500      37020.23\n",
       "1043  2020-12-12     381038.8750      46404.99\n",
       "1044  2020-12-19     362357.2500      63216.66\n",
       "1045  2020-12-26     309619.8750      59164.67\n",
       "1046  2021-01-02     259895.3125      71591.00\n",
       "\n",
       "[1047 rows x 3 columns]"
      ]
     },
     "execution_count": 4,
     "metadata": {},
     "output_type": "execute_result"
    }
   ],
   "source": [
    "# precisamos resgatar o índice/data\n",
    "new_df = df_ts.copy().reset_index(drop=True)\n",
    "new_df['time'] = df_ts.index\n",
    "new_df = new_df[['time', 'bacia_prec_sum', 'vazao_itaipu']]\n",
    "new_df"
   ]
  },
  {
   "cell_type": "code",
   "execution_count": 5,
   "metadata": {},
   "outputs": [
    {
     "data": {
      "text/plain": [
       "array([['2001-01-06', 188551.125, 96628.0],\n",
       "       ['2001-01-13', 431305.625, 113552.0],\n",
       "       ['2001-01-20', 199386.4375, 84168.0],\n",
       "       ...,\n",
       "       ['2020-12-19', 362357.25, 63216.66000000001],\n",
       "       ['2020-12-26', 309619.875, 59164.67],\n",
       "       ['2021-01-02', 259895.3125, 71591.0]], dtype=object)"
      ]
     },
     "execution_count": 5,
     "metadata": {},
     "output_type": "execute_result"
    }
   ],
   "source": [
    "new_df = new_df.values\n",
    "new_df"
   ]
  },
  {
   "cell_type": "markdown",
   "metadata": {},
   "source": [
    "### Divisão dos datasets em séries temporais e treino e teste"
   ]
  },
  {
   "cell_type": "code",
   "execution_count": 6,
   "metadata": {},
   "outputs": [],
   "source": [
    "#Divide uma sequencia multivariável em amostras\n",
    "def split_sequences(sequences, n_steps):\n",
    "    X, y = list(), list()\n",
    "    for i in range(len(sequences)):\n",
    "        # find the end of this pattern\n",
    "        end_ix = i + n_steps\n",
    "        # check if we are beyond the dataset\n",
    "        if end_ix >= len(sequences):\n",
    "            break\n",
    "        # gather input and output parts of the pattern\n",
    "        seq_x, seq_y = sequences[i:end_ix, :], sequences[end_ix, [0,2]]\n",
    "        X.append(seq_x)\n",
    "        y.append(seq_y)\n",
    "        \n",
    "    return np.array(X), np.array(y)"
   ]
  },
  {
   "cell_type": "code",
   "execution_count": 7,
   "metadata": {},
   "outputs": [
    {
     "data": {
      "text/plain": [
       "1047"
      ]
     },
     "execution_count": 7,
     "metadata": {},
     "output_type": "execute_result"
    }
   ],
   "source": [
    "len(new_df)"
   ]
  },
  {
   "cell_type": "code",
   "execution_count": 8,
   "metadata": {},
   "outputs": [
    {
     "data": {
      "text/plain": [
       "(array([['2001-01-06', 188551.125, 96628.0],\n",
       "        ['2001-01-13', 431305.625, 113552.0],\n",
       "        ['2001-01-20', 199386.4375, 84168.0],\n",
       "        ['2001-01-27', 337050.25, 81859.0],\n",
       "        ['2001-02-03', 369936.3125, 98723.0],\n",
       "        ['2001-02-10', 371198.8125, 96852.0]], dtype=object),\n",
       " array(['2001-02-17', 130217.0], dtype=object))"
      ]
     },
     "execution_count": 8,
     "metadata": {},
     "output_type": "execute_result"
    }
   ],
   "source": [
    "### Para debugar a função split_sequences\n",
    "sequences = new_df\n",
    "i=0\n",
    "end_ix=i+n\n",
    "\n",
    "sequences[i:end_ix, :], sequences[end_ix, [0,2]]"
   ]
  },
  {
   "cell_type": "code",
   "execution_count": 9,
   "metadata": {},
   "outputs": [
    {
     "data": {
      "text/plain": [
       "((1041, 6, 3), (1041, 2))"
      ]
     },
     "execution_count": 9,
     "metadata": {},
     "output_type": "execute_result"
    }
   ],
   "source": [
    "X, y = split_sequences(new_df, n)\n",
    "X.shape, y.shape"
   ]
  },
  {
   "cell_type": "code",
   "execution_count": 10,
   "metadata": {},
   "outputs": [
    {
     "data": {
      "text/plain": [
       "(array([['2001-01-20', 199386.4375, 84168.0],\n",
       "        ['2001-01-27', 337050.25, 81859.0],\n",
       "        ['2001-02-03', 369936.3125, 98723.0],\n",
       "        ['2001-02-10', 371198.8125, 96852.0],\n",
       "        ['2001-02-17', 482565.125, 130217.0],\n",
       "        ['2001-02-24', 385677.75, 116785.0]], dtype=object),\n",
       " array(['2001-03-03', 86866.0], dtype=object))"
      ]
     },
     "execution_count": 10,
     "metadata": {},
     "output_type": "execute_result"
    }
   ],
   "source": [
    "seq = 2\n",
    "X[seq], y[seq]"
   ]
  },
  {
   "cell_type": "code",
   "execution_count": 11,
   "metadata": {},
   "outputs": [
    {
     "data": {
      "text/plain": [
       "((832, 6, 3), (209, 6, 3), (832, 2), (209, 2))"
      ]
     },
     "execution_count": 11,
     "metadata": {},
     "output_type": "execute_result"
    }
   ],
   "source": [
    "X_train, X_test, y_train, y_test = train_test_split(X, y, test_size=0.2, random_state=RANDOM_SEED)\n",
    "X_train.shape, X_test.shape, y_train.shape, y_test.shape"
   ]
  },
  {
   "cell_type": "code",
   "execution_count": 12,
   "metadata": {},
   "outputs": [
    {
     "data": {
      "text/plain": [
       "(array([[158343.875, 80201.0],\n",
       "        [1392.375, 68083.0],\n",
       "        [23606.375, 57768.0],\n",
       "        [13071.5, 53322.0],\n",
       "        [9709.5, 50117.0],\n",
       "        [34233.75, 49400.0]], dtype=object),\n",
       " 48115.0)"
      ]
     },
     "execution_count": 12,
     "metadata": {},
     "output_type": "execute_result"
    }
   ],
   "source": [
    "seq = 0\n",
    "X_train[:,:,1:][seq], y_train[:,1][seq]"
   ]
  },
  {
   "cell_type": "markdown",
   "metadata": {},
   "source": [
    "### Normalização dos dados de treino/teste"
   ]
  },
  {
   "cell_type": "code",
   "execution_count": 13,
   "metadata": {},
   "outputs": [],
   "source": [
    "from sklearn.preprocessing import MinMaxScaler\n",
    "\n",
    "# Reshape the data to 2D\n",
    "X_train_reshaped = X_train.reshape(-1, X_train.shape[-1])\n",
    "X_test_reshaped = X_test.reshape(-1, X_test.shape[-1])\n",
    "y_train_reshaped = y_train.reshape(-1, y_train.shape[-1])\n",
    "y_test_reshaped = y_test.reshape(-1, y_test.shape[-1])\n",
    "\n",
    "# Initialize MinMaxScaler\n",
    "scaler_X = MinMaxScaler()\n",
    "scaler_y = MinMaxScaler()\n",
    "\n",
    "# Fit and transform on the training data (ignoring dates) # _ stands for normalized data\n",
    "X_train_ = scaler_X.fit_transform(X_train_reshaped[:,1:])\n",
    "y_train_ = scaler_y.fit_transform(y_train_reshaped[:,1:])\n",
    "\n",
    "# Transform the test data (ignoring dates)\n",
    "X_test_ = scaler_X.transform(X_test_reshaped[:,1:])\n",
    "y_test_ = scaler_y.transform(y_test_reshaped[:,1:])\n",
    "\n",
    "# Reshape back to the original shape (ignoring dates)\n",
    "X_train_ = X_train_.reshape(X_train[:,:,1:].shape).astype('float32')\n",
    "X_test_ = X_test_.reshape(X_test[:,:,1:].shape).astype('float32')\n",
    "y_train_ = y_train_.reshape(y_train[:,1:].shape).astype('float32')\n",
    "y_test_ = y_test_.reshape(y_test[:,1:].shape).astype('float32')"
   ]
  },
  {
   "cell_type": "markdown",
   "metadata": {},
   "source": [
    "### GRU"
   ]
  },
  {
   "cell_type": "code",
   "execution_count": 14,
   "metadata": {},
   "outputs": [],
   "source": [
    "now = datetime.datetime.now().strftime('%Y%m%d') # _%Hh%M\n",
    "modelo_numerico = 'so_prev' # previsão para a semana operacional seguinte\n",
    "\n",
    "dir_rna = f'{dir_results}/rna/{modelo_numerico}_{now}'\n",
    "if not os.path.exists(dir_rna):\n",
    "    os.makedirs(dir_rna)\n",
    "\n",
    "file_ann = f'{dir_rna}/gru_{modelo_numerico}.h5' \n",
    "best_file_ann = f'{dir_rna}/best_gru_{modelo_numerico}.h5' "
   ]
  },
  {
   "cell_type": "code",
   "execution_count": 15,
   "metadata": {},
   "outputs": [],
   "source": [
    "monitor_metric = 'val_mean_absolute_error'\n",
    "patience=15\n",
    "n_neurons = 256\n",
    "max_epochs = 500\n",
    "n_hidden_layers = 1"
   ]
  },
  {
   "cell_type": "code",
   "execution_count": 16,
   "metadata": {},
   "outputs": [],
   "source": [
    "model = tf.keras.Sequential([\n",
    "    tf.keras.layers.GRU(\n",
    "        units=80, \n",
    "        activation='relu', \n",
    "        return_sequences=True,\n",
    "        input_shape=[*X_train_.shape[1:]]\n",
    "    ),\n",
    "    tf.keras.layers.GRU(\n",
    "        units=60, \n",
    "        activation='relu'\n",
    "    ),\n",
    "    tf.keras.layers.Dense(1)\n",
    "])\n",
    "\n",
    "model.compile(loss=tf.losses.MeanAbsoluteError(),\n",
    "                optimizer=tf.optimizers.Adam(),\n",
    "                metrics=[tf.metrics.MeanAbsoluteError()])\n",
    "\n",
    "callbacks = [\n",
    "    tf.keras.callbacks.EarlyStopping(\n",
    "        monitor='val_loss', \n",
    "        patience=patience, \n",
    "        mode='min',\n",
    "        restore_best_weights=True\n",
    "    ),\n",
    "    tf.keras.callbacks.ModelCheckpoint(\n",
    "        filepath=best_file_ann, \n",
    "        monitor=monitor_metric,\n",
    "        verbose=True, \n",
    "        save_best_only=True\n",
    "        )  \n",
    "    ]"
   ]
  },
  {
   "cell_type": "code",
   "execution_count": 17,
   "metadata": {},
   "outputs": [
    {
     "name": "stdout",
     "output_type": "stream",
     "text": [
      "Model: \"sequential\"\n",
      "_________________________________________________________________\n",
      " Layer (type)                Output Shape              Param #   \n",
      "=================================================================\n",
      " gru (GRU)                   (None, 6, 80)             20160     \n",
      "                                                                 \n",
      " gru_1 (GRU)                 (None, 60)                25560     \n",
      "                                                                 \n",
      " dense (Dense)               (None, 1)                 61        \n",
      "                                                                 \n",
      "=================================================================\n",
      "Total params: 45,781\n",
      "Trainable params: 45,781\n",
      "Non-trainable params: 0\n",
      "_________________________________________________________________\n"
     ]
    }
   ],
   "source": [
    "model.summary()"
   ]
  },
  {
   "cell_type": "code",
   "execution_count": 18,
   "metadata": {},
   "outputs": [
    {
     "name": "stdout",
     "output_type": "stream",
     "text": [
      "Epoch 1/500\n"
     ]
    },
    {
     "name": "stdout",
     "output_type": "stream",
     "text": [
      "18/21 [========================>.....] - ETA: 0s - loss: 0.1468 - mean_absolute_error: 0.1468 \n",
      "Epoch 1: val_mean_absolute_error improved from inf to 0.09024, saving model to ../../data/results/regular/rna/so_prev_20240201/best_gru_so_prev.h5\n",
      "21/21 [==============================] - 4s 30ms/step - loss: 0.1406 - mean_absolute_error: 0.1406 - val_loss: 0.0902 - val_mean_absolute_error: 0.0902\n",
      "Epoch 2/500\n",
      "18/21 [========================>.....] - ETA: 0s - loss: 0.0801 - mean_absolute_error: 0.0801\n",
      "Epoch 2: val_mean_absolute_error improved from 0.09024 to 0.07046, saving model to ../../data/results/regular/rna/so_prev_20240201/best_gru_so_prev.h5\n",
      "21/21 [==============================] - 0s 9ms/step - loss: 0.0786 - mean_absolute_error: 0.0786 - val_loss: 0.0705 - val_mean_absolute_error: 0.0705\n",
      "Epoch 3/500\n",
      "12/21 [================>.............] - ETA: 0s - loss: 0.0678 - mean_absolute_error: 0.0678\n",
      "Epoch 3: val_mean_absolute_error did not improve from 0.07046\n",
      "21/21 [==============================] - 0s 7ms/step - loss: 0.0696 - mean_absolute_error: 0.0696 - val_loss: 0.0745 - val_mean_absolute_error: 0.0745\n",
      "Epoch 4/500\n",
      "18/21 [========================>.....] - ETA: 0s - loss: 0.0657 - mean_absolute_error: 0.0657\n",
      "Epoch 4: val_mean_absolute_error improved from 0.07046 to 0.06388, saving model to ../../data/results/regular/rna/so_prev_20240201/best_gru_so_prev.h5\n",
      "21/21 [==============================] - 0s 9ms/step - loss: 0.0658 - mean_absolute_error: 0.0658 - val_loss: 0.0639 - val_mean_absolute_error: 0.0639\n",
      "Epoch 5/500\n",
      "12/21 [================>.............] - ETA: 0s - loss: 0.0695 - mean_absolute_error: 0.0695\n",
      "Epoch 5: val_mean_absolute_error improved from 0.06388 to 0.06360, saving model to ../../data/results/regular/rna/so_prev_20240201/best_gru_so_prev.h5\n",
      "21/21 [==============================] - 0s 8ms/step - loss: 0.0648 - mean_absolute_error: 0.0648 - val_loss: 0.0636 - val_mean_absolute_error: 0.0636\n",
      "Epoch 6/500\n",
      "15/21 [====================>.........] - ETA: 0s - loss: 0.0600 - mean_absolute_error: 0.0600\n",
      "Epoch 6: val_mean_absolute_error improved from 0.06360 to 0.05876, saving model to ../../data/results/regular/rna/so_prev_20240201/best_gru_so_prev.h5\n",
      "21/21 [==============================] - 0s 9ms/step - loss: 0.0599 - mean_absolute_error: 0.0599 - val_loss: 0.0588 - val_mean_absolute_error: 0.0588\n",
      "Epoch 7/500\n",
      "11/21 [==============>...............] - ETA: 0s - loss: 0.0547 - mean_absolute_error: 0.0547\n",
      "Epoch 7: val_mean_absolute_error did not improve from 0.05876\n",
      "21/21 [==============================] - 0s 6ms/step - loss: 0.0565 - mean_absolute_error: 0.0565 - val_loss: 0.0616 - val_mean_absolute_error: 0.0616\n",
      "Epoch 8/500\n",
      "11/21 [==============>...............] - ETA: 0s - loss: 0.0557 - mean_absolute_error: 0.0557\n",
      "Epoch 8: val_mean_absolute_error improved from 0.05876 to 0.05824, saving model to ../../data/results/regular/rna/so_prev_20240201/best_gru_so_prev.h5\n",
      "21/21 [==============================] - 0s 8ms/step - loss: 0.0550 - mean_absolute_error: 0.0550 - val_loss: 0.0582 - val_mean_absolute_error: 0.0582\n",
      "Epoch 9/500\n",
      "17/21 [=======================>......] - ETA: 0s - loss: 0.0559 - mean_absolute_error: 0.0559\n",
      "Epoch 9: val_mean_absolute_error improved from 0.05824 to 0.05627, saving model to ../../data/results/regular/rna/so_prev_20240201/best_gru_so_prev.h5\n",
      "21/21 [==============================] - 0s 10ms/step - loss: 0.0541 - mean_absolute_error: 0.0541 - val_loss: 0.0563 - val_mean_absolute_error: 0.0563\n",
      "Epoch 10/500\n",
      "12/21 [================>.............] - ETA: 0s - loss: 0.0526 - mean_absolute_error: 0.0526\n",
      "Epoch 10: val_mean_absolute_error improved from 0.05627 to 0.05390, saving model to ../../data/results/regular/rna/so_prev_20240201/best_gru_so_prev.h5\n",
      "21/21 [==============================] - 0s 7ms/step - loss: 0.0522 - mean_absolute_error: 0.0522 - val_loss: 0.0539 - val_mean_absolute_error: 0.0539\n",
      "Epoch 11/500\n",
      "12/21 [================>.............] - ETA: 0s - loss: 0.0520 - mean_absolute_error: 0.0520\n",
      "Epoch 11: val_mean_absolute_error improved from 0.05390 to 0.05272, saving model to ../../data/results/regular/rna/so_prev_20240201/best_gru_so_prev.h5\n",
      "21/21 [==============================] - 0s 7ms/step - loss: 0.0516 - mean_absolute_error: 0.0516 - val_loss: 0.0527 - val_mean_absolute_error: 0.0527\n",
      "Epoch 12/500\n",
      "15/21 [====================>.........] - ETA: 0s - loss: 0.0524 - mean_absolute_error: 0.0524\n",
      "Epoch 12: val_mean_absolute_error did not improve from 0.05272\n",
      "21/21 [==============================] - 0s 9ms/step - loss: 0.0509 - mean_absolute_error: 0.0509 - val_loss: 0.0569 - val_mean_absolute_error: 0.0569\n",
      "Epoch 13/500\n",
      "20/21 [===========================>..] - ETA: 0s - loss: 0.0504 - mean_absolute_error: 0.0504\n",
      "Epoch 13: val_mean_absolute_error improved from 0.05272 to 0.05264, saving model to ../../data/results/regular/rna/so_prev_20240201/best_gru_so_prev.h5\n",
      "21/21 [==============================] - 0s 8ms/step - loss: 0.0509 - mean_absolute_error: 0.0509 - val_loss: 0.0526 - val_mean_absolute_error: 0.0526\n",
      "Epoch 14/500\n",
      "21/21 [==============================] - ETA: 0s - loss: 0.0510 - mean_absolute_error: 0.0510\n",
      "Epoch 14: val_mean_absolute_error did not improve from 0.05264\n",
      "21/21 [==============================] - 0s 7ms/step - loss: 0.0510 - mean_absolute_error: 0.0510 - val_loss: 0.0569 - val_mean_absolute_error: 0.0569\n",
      "Epoch 15/500\n",
      "20/21 [===========================>..] - ETA: 0s - loss: 0.0513 - mean_absolute_error: 0.0513\n",
      "Epoch 15: val_mean_absolute_error did not improve from 0.05264\n",
      "21/21 [==============================] - 0s 8ms/step - loss: 0.0506 - mean_absolute_error: 0.0506 - val_loss: 0.0528 - val_mean_absolute_error: 0.0528\n",
      "Epoch 16/500\n",
      "18/21 [========================>.....] - ETA: 0s - loss: 0.0512 - mean_absolute_error: 0.0512\n",
      "Epoch 16: val_mean_absolute_error improved from 0.05264 to 0.05175, saving model to ../../data/results/regular/rna/so_prev_20240201/best_gru_so_prev.h5\n",
      "21/21 [==============================] - 0s 8ms/step - loss: 0.0498 - mean_absolute_error: 0.0498 - val_loss: 0.0517 - val_mean_absolute_error: 0.0517\n",
      "Epoch 17/500\n",
      "21/21 [==============================] - ETA: 0s - loss: 0.0511 - mean_absolute_error: 0.0511\n",
      "Epoch 17: val_mean_absolute_error did not improve from 0.05175\n",
      "21/21 [==============================] - 0s 7ms/step - loss: 0.0511 - mean_absolute_error: 0.0511 - val_loss: 0.0519 - val_mean_absolute_error: 0.0519\n",
      "Epoch 18/500\n",
      "19/21 [==========================>...] - ETA: 0s - loss: 0.0500 - mean_absolute_error: 0.0500\n",
      "Epoch 18: val_mean_absolute_error did not improve from 0.05175\n",
      "21/21 [==============================] - 0s 8ms/step - loss: 0.0502 - mean_absolute_error: 0.0502 - val_loss: 0.0527 - val_mean_absolute_error: 0.0527\n",
      "Epoch 19/500\n",
      "12/21 [================>.............] - ETA: 0s - loss: 0.0476 - mean_absolute_error: 0.0476\n",
      "Epoch 19: val_mean_absolute_error did not improve from 0.05175\n",
      "21/21 [==============================] - 0s 6ms/step - loss: 0.0490 - mean_absolute_error: 0.0490 - val_loss: 0.0524 - val_mean_absolute_error: 0.0524\n",
      "Epoch 20/500\n",
      "12/21 [================>.............] - ETA: 0s - loss: 0.0504 - mean_absolute_error: 0.0504\n",
      "Epoch 20: val_mean_absolute_error did not improve from 0.05175\n",
      "21/21 [==============================] - 0s 6ms/step - loss: 0.0489 - mean_absolute_error: 0.0489 - val_loss: 0.0545 - val_mean_absolute_error: 0.0545\n",
      "Epoch 21/500\n",
      "13/21 [=================>............] - ETA: 0s - loss: 0.0502 - mean_absolute_error: 0.0502\n",
      "Epoch 21: val_mean_absolute_error improved from 0.05175 to 0.05139, saving model to ../../data/results/regular/rna/so_prev_20240201/best_gru_so_prev.h5\n",
      "21/21 [==============================] - 0s 7ms/step - loss: 0.0495 - mean_absolute_error: 0.0495 - val_loss: 0.0514 - val_mean_absolute_error: 0.0514\n",
      "Epoch 22/500\n",
      "13/21 [=================>............] - ETA: 0s - loss: 0.0457 - mean_absolute_error: 0.0457\n",
      "Epoch 22: val_mean_absolute_error did not improve from 0.05139\n",
      "21/21 [==============================] - 0s 6ms/step - loss: 0.0481 - mean_absolute_error: 0.0481 - val_loss: 0.0561 - val_mean_absolute_error: 0.0561\n",
      "Epoch 23/500\n",
      "12/21 [================>.............] - ETA: 0s - loss: 0.0458 - mean_absolute_error: 0.0458\n",
      "Epoch 23: val_mean_absolute_error did not improve from 0.05139\n",
      "21/21 [==============================] - 0s 6ms/step - loss: 0.0478 - mean_absolute_error: 0.0478 - val_loss: 0.0527 - val_mean_absolute_error: 0.0527\n",
      "Epoch 24/500\n",
      "18/21 [========================>.....] - ETA: 0s - loss: 0.0489 - mean_absolute_error: 0.0489\n",
      "Epoch 24: val_mean_absolute_error did not improve from 0.05139\n",
      "21/21 [==============================] - 0s 8ms/step - loss: 0.0498 - mean_absolute_error: 0.0498 - val_loss: 0.0526 - val_mean_absolute_error: 0.0526\n",
      "Epoch 25/500\n",
      "18/21 [========================>.....] - ETA: 0s - loss: 0.0500 - mean_absolute_error: 0.0500\n",
      "Epoch 25: val_mean_absolute_error did not improve from 0.05139\n",
      "21/21 [==============================] - 0s 7ms/step - loss: 0.0505 - mean_absolute_error: 0.0505 - val_loss: 0.0581 - val_mean_absolute_error: 0.0581\n",
      "Epoch 26/500\n",
      "17/21 [=======================>......] - ETA: 0s - loss: 0.0480 - mean_absolute_error: 0.0480\n",
      "Epoch 26: val_mean_absolute_error did not improve from 0.05139\n",
      "21/21 [==============================] - 0s 13ms/step - loss: 0.0481 - mean_absolute_error: 0.0481 - val_loss: 0.0588 - val_mean_absolute_error: 0.0588\n",
      "Epoch 27/500\n",
      "17/21 [=======================>......] - ETA: 0s - loss: 0.0506 - mean_absolute_error: 0.0506\n",
      "Epoch 27: val_mean_absolute_error did not improve from 0.05139\n",
      "21/21 [==============================] - 0s 8ms/step - loss: 0.0498 - mean_absolute_error: 0.0498 - val_loss: 0.0516 - val_mean_absolute_error: 0.0516\n",
      "Epoch 28/500\n",
      "14/21 [===================>..........] - ETA: 0s - loss: 0.0482 - mean_absolute_error: 0.0482\n",
      "Epoch 28: val_mean_absolute_error did not improve from 0.05139\n",
      "21/21 [==============================] - 0s 5ms/step - loss: 0.0475 - mean_absolute_error: 0.0475 - val_loss: 0.0515 - val_mean_absolute_error: 0.0515\n",
      "Epoch 29/500\n",
      "19/21 [==========================>...] - ETA: 0s - loss: 0.0477 - mean_absolute_error: 0.0477\n",
      "Epoch 29: val_mean_absolute_error did not improve from 0.05139\n",
      "21/21 [==============================] - 0s 7ms/step - loss: 0.0480 - mean_absolute_error: 0.0480 - val_loss: 0.0544 - val_mean_absolute_error: 0.0544\n",
      "Epoch 30/500\n",
      "15/21 [====================>.........] - ETA: 0s - loss: 0.0463 - mean_absolute_error: 0.0463\n",
      "Epoch 30: val_mean_absolute_error improved from 0.05139 to 0.05112, saving model to ../../data/results/regular/rna/so_prev_20240201/best_gru_so_prev.h5\n",
      "21/21 [==============================] - 0s 6ms/step - loss: 0.0469 - mean_absolute_error: 0.0469 - val_loss: 0.0511 - val_mean_absolute_error: 0.0511\n",
      "Epoch 31/500\n",
      "15/21 [====================>.........] - ETA: 0s - loss: 0.0463 - mean_absolute_error: 0.0463\n",
      "Epoch 31: val_mean_absolute_error did not improve from 0.05112\n",
      "21/21 [==============================] - 0s 5ms/step - loss: 0.0467 - mean_absolute_error: 0.0467 - val_loss: 0.0584 - val_mean_absolute_error: 0.0584\n",
      "Epoch 32/500\n",
      "15/21 [====================>.........] - ETA: 0s - loss: 0.0476 - mean_absolute_error: 0.0476\n",
      "Epoch 32: val_mean_absolute_error did not improve from 0.05112\n",
      "21/21 [==============================] - 0s 5ms/step - loss: 0.0481 - mean_absolute_error: 0.0481 - val_loss: 0.0516 - val_mean_absolute_error: 0.0516\n",
      "Epoch 33/500\n",
      "15/21 [====================>.........] - ETA: 0s - loss: 0.0470 - mean_absolute_error: 0.0470\n",
      "Epoch 33: val_mean_absolute_error did not improve from 0.05112\n",
      "21/21 [==============================] - 0s 5ms/step - loss: 0.0476 - mean_absolute_error: 0.0476 - val_loss: 0.0558 - val_mean_absolute_error: 0.0558\n",
      "Epoch 34/500\n",
      "15/21 [====================>.........] - ETA: 0s - loss: 0.0477 - mean_absolute_error: 0.0477\n",
      "Epoch 34: val_mean_absolute_error improved from 0.05112 to 0.05091, saving model to ../../data/results/regular/rna/so_prev_20240201/best_gru_so_prev.h5\n",
      "21/21 [==============================] - 0s 5ms/step - loss: 0.0487 - mean_absolute_error: 0.0487 - val_loss: 0.0509 - val_mean_absolute_error: 0.0509\n",
      "Epoch 35/500\n",
      "15/21 [====================>.........] - ETA: 0s - loss: 0.0488 - mean_absolute_error: 0.0488\n",
      "Epoch 35: val_mean_absolute_error did not improve from 0.05091\n",
      "21/21 [==============================] - 0s 5ms/step - loss: 0.0467 - mean_absolute_error: 0.0467 - val_loss: 0.0513 - val_mean_absolute_error: 0.0513\n",
      "Epoch 36/500\n",
      "15/21 [====================>.........] - ETA: 0s - loss: 0.0456 - mean_absolute_error: 0.0456\n",
      "Epoch 36: val_mean_absolute_error did not improve from 0.05091\n",
      "21/21 [==============================] - 0s 5ms/step - loss: 0.0472 - mean_absolute_error: 0.0472 - val_loss: 0.0529 - val_mean_absolute_error: 0.0529\n",
      "Epoch 37/500\n",
      "15/21 [====================>.........] - ETA: 0s - loss: 0.0460 - mean_absolute_error: 0.0460\n",
      "Epoch 37: val_mean_absolute_error did not improve from 0.05091\n",
      "21/21 [==============================] - 0s 5ms/step - loss: 0.0471 - mean_absolute_error: 0.0471 - val_loss: 0.0525 - val_mean_absolute_error: 0.0525\n",
      "Epoch 38/500\n",
      "15/21 [====================>.........] - ETA: 0s - loss: 0.0488 - mean_absolute_error: 0.0488\n",
      "Epoch 38: val_mean_absolute_error did not improve from 0.05091\n",
      "21/21 [==============================] - 0s 5ms/step - loss: 0.0476 - mean_absolute_error: 0.0476 - val_loss: 0.0532 - val_mean_absolute_error: 0.0532\n",
      "Epoch 39/500\n",
      "14/21 [===================>..........] - ETA: 0s - loss: 0.0481 - mean_absolute_error: 0.0481\n",
      "Epoch 39: val_mean_absolute_error did not improve from 0.05091\n",
      "21/21 [==============================] - 0s 5ms/step - loss: 0.0469 - mean_absolute_error: 0.0469 - val_loss: 0.0510 - val_mean_absolute_error: 0.0510\n",
      "Epoch 40/500\n",
      "13/21 [=================>............] - ETA: 0s - loss: 0.0488 - mean_absolute_error: 0.0488\n",
      "Epoch 40: val_mean_absolute_error did not improve from 0.05091\n",
      "21/21 [==============================] - 0s 5ms/step - loss: 0.0476 - mean_absolute_error: 0.0476 - val_loss: 0.0522 - val_mean_absolute_error: 0.0522\n",
      "Epoch 41/500\n",
      "14/21 [===================>..........] - ETA: 0s - loss: 0.0450 - mean_absolute_error: 0.0450\n",
      "Epoch 41: val_mean_absolute_error did not improve from 0.05091\n",
      "21/21 [==============================] - 0s 5ms/step - loss: 0.0468 - mean_absolute_error: 0.0468 - val_loss: 0.0513 - val_mean_absolute_error: 0.0513\n",
      "Epoch 42/500\n",
      "14/21 [===================>..........] - ETA: 0s - loss: 0.0458 - mean_absolute_error: 0.0458\n",
      "Epoch 42: val_mean_absolute_error did not improve from 0.05091\n",
      "21/21 [==============================] - 0s 5ms/step - loss: 0.0463 - mean_absolute_error: 0.0463 - val_loss: 0.0513 - val_mean_absolute_error: 0.0513\n",
      "Epoch 43/500\n",
      "15/21 [====================>.........] - ETA: 0s - loss: 0.0469 - mean_absolute_error: 0.0469\n",
      "Epoch 43: val_mean_absolute_error did not improve from 0.05091\n",
      "21/21 [==============================] - 0s 5ms/step - loss: 0.0476 - mean_absolute_error: 0.0476 - val_loss: 0.0509 - val_mean_absolute_error: 0.0509\n",
      "Epoch 44/500\n",
      "13/21 [=================>............] - ETA: 0s - loss: 0.0486 - mean_absolute_error: 0.0486\n",
      "Epoch 44: val_mean_absolute_error did not improve from 0.05091\n",
      "21/21 [==============================] - 0s 5ms/step - loss: 0.0470 - mean_absolute_error: 0.0470 - val_loss: 0.0510 - val_mean_absolute_error: 0.0510\n",
      "Epoch 45/500\n",
      "14/21 [===================>..........] - ETA: 0s - loss: 0.0448 - mean_absolute_error: 0.0448\n",
      "Epoch 45: val_mean_absolute_error did not improve from 0.05091\n",
      "21/21 [==============================] - 0s 5ms/step - loss: 0.0462 - mean_absolute_error: 0.0462 - val_loss: 0.0525 - val_mean_absolute_error: 0.0525\n",
      "Epoch 46/500\n",
      "15/21 [====================>.........] - ETA: 0s - loss: 0.0491 - mean_absolute_error: 0.0491\n",
      "Epoch 46: val_mean_absolute_error did not improve from 0.05091\n",
      "21/21 [==============================] - 0s 5ms/step - loss: 0.0494 - mean_absolute_error: 0.0494 - val_loss: 0.0541 - val_mean_absolute_error: 0.0541\n",
      "Epoch 47/500\n",
      "15/21 [====================>.........] - ETA: 0s - loss: 0.0459 - mean_absolute_error: 0.0459\n",
      "Epoch 47: val_mean_absolute_error did not improve from 0.05091\n",
      "21/21 [==============================] - 0s 5ms/step - loss: 0.0465 - mean_absolute_error: 0.0465 - val_loss: 0.0511 - val_mean_absolute_error: 0.0511\n",
      "Epoch 48/500\n",
      "21/21 [==============================] - ETA: 0s - loss: 0.0458 - mean_absolute_error: 0.0458\n",
      "Epoch 48: val_mean_absolute_error did not improve from 0.05091\n",
      "21/21 [==============================] - 0s 6ms/step - loss: 0.0458 - mean_absolute_error: 0.0458 - val_loss: 0.0509 - val_mean_absolute_error: 0.0509\n",
      "Epoch 49/500\n",
      "15/21 [====================>.........] - ETA: 0s - loss: 0.0469 - mean_absolute_error: 0.0469\n",
      "Epoch 49: val_mean_absolute_error did not improve from 0.05091\n",
      "21/21 [==============================] - 0s 5ms/step - loss: 0.0465 - mean_absolute_error: 0.0465 - val_loss: 0.0515 - val_mean_absolute_error: 0.0515\n"
     ]
    }
   ],
   "source": [
    "history = model.fit(\n",
    "    X_train_,\n",
    "    y_train_,\n",
    "    epochs=max_epochs,\n",
    "    verbose=True,\n",
    "    validation_split=0.2,\n",
    "    callbacks=callbacks,\n",
    ") "
   ]
  },
  {
   "cell_type": "code",
   "execution_count": 19,
   "metadata": {},
   "outputs": [],
   "source": [
    "model.save(file_ann) # salva o modelo atual"
   ]
  },
  {
   "cell_type": "markdown",
   "metadata": {},
   "source": [
    "### importamos o modelo que melhor performou em 'monitor_metric' durante o treinamento para analisar"
   ]
  },
  {
   "cell_type": "code",
   "execution_count": 20,
   "metadata": {},
   "outputs": [],
   "source": [
    "model = tf.keras.models.load_model(best_file_ann) # importamos o modelo que melhor performou em 'monitor_metric' durante o treinamento para analisar\n",
    "# model = tf.keras.models.load_model(file_ann)"
   ]
  },
  {
   "cell_type": "code",
   "execution_count": 21,
   "metadata": {},
   "outputs": [
    {
     "data": {
      "application/vnd.plotly.v1+json": {
       "config": {
        "plotlyServerURL": "https://plot.ly"
       },
       "data": [
        {
         "mode": "lines",
         "name": "Train Loss",
         "type": "scatter",
         "x": [
          1,
          2,
          3,
          4,
          5,
          6,
          7,
          8,
          9,
          10,
          11,
          12,
          13,
          14,
          15,
          16,
          17,
          18,
          19,
          20,
          21,
          22,
          23,
          24,
          25,
          26,
          27,
          28,
          29,
          30,
          31,
          32,
          33,
          34,
          35,
          36,
          37,
          38,
          39,
          40,
          41,
          42,
          43,
          44,
          45,
          46,
          47,
          48,
          49
         ],
         "y": [
          0.14056368172168732,
          0.07857336848974228,
          0.06962063163518906,
          0.06579159945249557,
          0.06479591876268387,
          0.05994382128119469,
          0.05646541342139244,
          0.05500989779829979,
          0.05409306660294533,
          0.05216265097260475,
          0.05155132710933685,
          0.05086580291390419,
          0.05088699981570244,
          0.0509837381541729,
          0.050617992877960205,
          0.049823593348264694,
          0.05107646808028221,
          0.05020824074745178,
          0.04900851100683212,
          0.048874255269765854,
          0.04953382536768913,
          0.048113543540239334,
          0.047803137451410294,
          0.04981676861643791,
          0.050488945096731186,
          0.04812407121062279,
          0.04975014552474022,
          0.04749225825071335,
          0.04798657074570656,
          0.04689836874604225,
          0.04665718227624893,
          0.048083629459142685,
          0.047636114060878754,
          0.048720505088567734,
          0.046709246933460236,
          0.047153979539871216,
          0.04708212986588478,
          0.0475643128156662,
          0.04692019522190094,
          0.047582320868968964,
          0.04677675664424896,
          0.04633800685405731,
          0.04758781939744949,
          0.04701243340969086,
          0.04624644294381142,
          0.04943270608782768,
          0.04646129906177521,
          0.04584600776433945,
          0.04650048539042473
         ]
        },
        {
         "mode": "lines",
         "name": "Validation Loss",
         "type": "scatter",
         "x": [
          1,
          2,
          3,
          4,
          5,
          6,
          7,
          8,
          9,
          10,
          11,
          12,
          13,
          14,
          15,
          16,
          17,
          18,
          19,
          20,
          21,
          22,
          23,
          24,
          25,
          26,
          27,
          28,
          29,
          30,
          31,
          32,
          33,
          34,
          35,
          36,
          37,
          38,
          39,
          40,
          41,
          42,
          43,
          44,
          45,
          46,
          47,
          48,
          49
         ],
         "y": [
          0.09024181216955185,
          0.07046473026275635,
          0.07452353835105896,
          0.06388162076473236,
          0.06360060721635818,
          0.05876042693853378,
          0.06158247962594032,
          0.05824115872383118,
          0.05626531317830086,
          0.05390105023980141,
          0.05271747335791588,
          0.05686589702963829,
          0.05264390632510185,
          0.05685152858495712,
          0.05283847451210022,
          0.051746729761362076,
          0.05189547315239906,
          0.052665796130895615,
          0.052377849817276,
          0.0545232892036438,
          0.05139181762933731,
          0.05607730150222778,
          0.05274181440472603,
          0.052608147263526917,
          0.058065544813871384,
          0.05878692865371704,
          0.05159851908683777,
          0.051460832357406616,
          0.05442352220416069,
          0.05111600086092949,
          0.058411333709955215,
          0.05164442956447601,
          0.055758047848939896,
          0.05090748891234398,
          0.05130252242088318,
          0.05291731655597687,
          0.05246928706765175,
          0.05318359658122063,
          0.05095861479640007,
          0.05223769322037697,
          0.05128249526023865,
          0.05129450559616089,
          0.0509193055331707,
          0.051048919558525085,
          0.052480727434158325,
          0.054062239825725555,
          0.05109541863203049,
          0.050928715616464615,
          0.0514756515622139
         ]
        }
       ],
       "layout": {
        "height": 600,
        "legend": {
         "traceorder": "normal",
         "x": 0,
         "y": 1
        },
        "template": {
         "data": {
          "bar": [
           {
            "error_x": {
             "color": "#2a3f5f"
            },
            "error_y": {
             "color": "#2a3f5f"
            },
            "marker": {
             "line": {
              "color": "#E5ECF6",
              "width": 0.5
             },
             "pattern": {
              "fillmode": "overlay",
              "size": 10,
              "solidity": 0.2
             }
            },
            "type": "bar"
           }
          ],
          "barpolar": [
           {
            "marker": {
             "line": {
              "color": "#E5ECF6",
              "width": 0.5
             },
             "pattern": {
              "fillmode": "overlay",
              "size": 10,
              "solidity": 0.2
             }
            },
            "type": "barpolar"
           }
          ],
          "carpet": [
           {
            "aaxis": {
             "endlinecolor": "#2a3f5f",
             "gridcolor": "white",
             "linecolor": "white",
             "minorgridcolor": "white",
             "startlinecolor": "#2a3f5f"
            },
            "baxis": {
             "endlinecolor": "#2a3f5f",
             "gridcolor": "white",
             "linecolor": "white",
             "minorgridcolor": "white",
             "startlinecolor": "#2a3f5f"
            },
            "type": "carpet"
           }
          ],
          "choropleth": [
           {
            "colorbar": {
             "outlinewidth": 0,
             "ticks": ""
            },
            "type": "choropleth"
           }
          ],
          "contour": [
           {
            "colorbar": {
             "outlinewidth": 0,
             "ticks": ""
            },
            "colorscale": [
             [
              0,
              "#0d0887"
             ],
             [
              0.1111111111111111,
              "#46039f"
             ],
             [
              0.2222222222222222,
              "#7201a8"
             ],
             [
              0.3333333333333333,
              "#9c179e"
             ],
             [
              0.4444444444444444,
              "#bd3786"
             ],
             [
              0.5555555555555556,
              "#d8576b"
             ],
             [
              0.6666666666666666,
              "#ed7953"
             ],
             [
              0.7777777777777778,
              "#fb9f3a"
             ],
             [
              0.8888888888888888,
              "#fdca26"
             ],
             [
              1,
              "#f0f921"
             ]
            ],
            "type": "contour"
           }
          ],
          "contourcarpet": [
           {
            "colorbar": {
             "outlinewidth": 0,
             "ticks": ""
            },
            "type": "contourcarpet"
           }
          ],
          "heatmap": [
           {
            "colorbar": {
             "outlinewidth": 0,
             "ticks": ""
            },
            "colorscale": [
             [
              0,
              "#0d0887"
             ],
             [
              0.1111111111111111,
              "#46039f"
             ],
             [
              0.2222222222222222,
              "#7201a8"
             ],
             [
              0.3333333333333333,
              "#9c179e"
             ],
             [
              0.4444444444444444,
              "#bd3786"
             ],
             [
              0.5555555555555556,
              "#d8576b"
             ],
             [
              0.6666666666666666,
              "#ed7953"
             ],
             [
              0.7777777777777778,
              "#fb9f3a"
             ],
             [
              0.8888888888888888,
              "#fdca26"
             ],
             [
              1,
              "#f0f921"
             ]
            ],
            "type": "heatmap"
           }
          ],
          "heatmapgl": [
           {
            "colorbar": {
             "outlinewidth": 0,
             "ticks": ""
            },
            "colorscale": [
             [
              0,
              "#0d0887"
             ],
             [
              0.1111111111111111,
              "#46039f"
             ],
             [
              0.2222222222222222,
              "#7201a8"
             ],
             [
              0.3333333333333333,
              "#9c179e"
             ],
             [
              0.4444444444444444,
              "#bd3786"
             ],
             [
              0.5555555555555556,
              "#d8576b"
             ],
             [
              0.6666666666666666,
              "#ed7953"
             ],
             [
              0.7777777777777778,
              "#fb9f3a"
             ],
             [
              0.8888888888888888,
              "#fdca26"
             ],
             [
              1,
              "#f0f921"
             ]
            ],
            "type": "heatmapgl"
           }
          ],
          "histogram": [
           {
            "marker": {
             "pattern": {
              "fillmode": "overlay",
              "size": 10,
              "solidity": 0.2
             }
            },
            "type": "histogram"
           }
          ],
          "histogram2d": [
           {
            "colorbar": {
             "outlinewidth": 0,
             "ticks": ""
            },
            "colorscale": [
             [
              0,
              "#0d0887"
             ],
             [
              0.1111111111111111,
              "#46039f"
             ],
             [
              0.2222222222222222,
              "#7201a8"
             ],
             [
              0.3333333333333333,
              "#9c179e"
             ],
             [
              0.4444444444444444,
              "#bd3786"
             ],
             [
              0.5555555555555556,
              "#d8576b"
             ],
             [
              0.6666666666666666,
              "#ed7953"
             ],
             [
              0.7777777777777778,
              "#fb9f3a"
             ],
             [
              0.8888888888888888,
              "#fdca26"
             ],
             [
              1,
              "#f0f921"
             ]
            ],
            "type": "histogram2d"
           }
          ],
          "histogram2dcontour": [
           {
            "colorbar": {
             "outlinewidth": 0,
             "ticks": ""
            },
            "colorscale": [
             [
              0,
              "#0d0887"
             ],
             [
              0.1111111111111111,
              "#46039f"
             ],
             [
              0.2222222222222222,
              "#7201a8"
             ],
             [
              0.3333333333333333,
              "#9c179e"
             ],
             [
              0.4444444444444444,
              "#bd3786"
             ],
             [
              0.5555555555555556,
              "#d8576b"
             ],
             [
              0.6666666666666666,
              "#ed7953"
             ],
             [
              0.7777777777777778,
              "#fb9f3a"
             ],
             [
              0.8888888888888888,
              "#fdca26"
             ],
             [
              1,
              "#f0f921"
             ]
            ],
            "type": "histogram2dcontour"
           }
          ],
          "mesh3d": [
           {
            "colorbar": {
             "outlinewidth": 0,
             "ticks": ""
            },
            "type": "mesh3d"
           }
          ],
          "parcoords": [
           {
            "line": {
             "colorbar": {
              "outlinewidth": 0,
              "ticks": ""
             }
            },
            "type": "parcoords"
           }
          ],
          "pie": [
           {
            "automargin": true,
            "type": "pie"
           }
          ],
          "scatter": [
           {
            "fillpattern": {
             "fillmode": "overlay",
             "size": 10,
             "solidity": 0.2
            },
            "type": "scatter"
           }
          ],
          "scatter3d": [
           {
            "line": {
             "colorbar": {
              "outlinewidth": 0,
              "ticks": ""
             }
            },
            "marker": {
             "colorbar": {
              "outlinewidth": 0,
              "ticks": ""
             }
            },
            "type": "scatter3d"
           }
          ],
          "scattercarpet": [
           {
            "marker": {
             "colorbar": {
              "outlinewidth": 0,
              "ticks": ""
             }
            },
            "type": "scattercarpet"
           }
          ],
          "scattergeo": [
           {
            "marker": {
             "colorbar": {
              "outlinewidth": 0,
              "ticks": ""
             }
            },
            "type": "scattergeo"
           }
          ],
          "scattergl": [
           {
            "marker": {
             "colorbar": {
              "outlinewidth": 0,
              "ticks": ""
             }
            },
            "type": "scattergl"
           }
          ],
          "scattermapbox": [
           {
            "marker": {
             "colorbar": {
              "outlinewidth": 0,
              "ticks": ""
             }
            },
            "type": "scattermapbox"
           }
          ],
          "scatterpolar": [
           {
            "marker": {
             "colorbar": {
              "outlinewidth": 0,
              "ticks": ""
             }
            },
            "type": "scatterpolar"
           }
          ],
          "scatterpolargl": [
           {
            "marker": {
             "colorbar": {
              "outlinewidth": 0,
              "ticks": ""
             }
            },
            "type": "scatterpolargl"
           }
          ],
          "scatterternary": [
           {
            "marker": {
             "colorbar": {
              "outlinewidth": 0,
              "ticks": ""
             }
            },
            "type": "scatterternary"
           }
          ],
          "surface": [
           {
            "colorbar": {
             "outlinewidth": 0,
             "ticks": ""
            },
            "colorscale": [
             [
              0,
              "#0d0887"
             ],
             [
              0.1111111111111111,
              "#46039f"
             ],
             [
              0.2222222222222222,
              "#7201a8"
             ],
             [
              0.3333333333333333,
              "#9c179e"
             ],
             [
              0.4444444444444444,
              "#bd3786"
             ],
             [
              0.5555555555555556,
              "#d8576b"
             ],
             [
              0.6666666666666666,
              "#ed7953"
             ],
             [
              0.7777777777777778,
              "#fb9f3a"
             ],
             [
              0.8888888888888888,
              "#fdca26"
             ],
             [
              1,
              "#f0f921"
             ]
            ],
            "type": "surface"
           }
          ],
          "table": [
           {
            "cells": {
             "fill": {
              "color": "#EBF0F8"
             },
             "line": {
              "color": "white"
             }
            },
            "header": {
             "fill": {
              "color": "#C8D4E3"
             },
             "line": {
              "color": "white"
             }
            },
            "type": "table"
           }
          ]
         },
         "layout": {
          "annotationdefaults": {
           "arrowcolor": "#2a3f5f",
           "arrowhead": 0,
           "arrowwidth": 1
          },
          "autotypenumbers": "strict",
          "coloraxis": {
           "colorbar": {
            "outlinewidth": 0,
            "ticks": ""
           }
          },
          "colorscale": {
           "diverging": [
            [
             0,
             "#8e0152"
            ],
            [
             0.1,
             "#c51b7d"
            ],
            [
             0.2,
             "#de77ae"
            ],
            [
             0.3,
             "#f1b6da"
            ],
            [
             0.4,
             "#fde0ef"
            ],
            [
             0.5,
             "#f7f7f7"
            ],
            [
             0.6,
             "#e6f5d0"
            ],
            [
             0.7,
             "#b8e186"
            ],
            [
             0.8,
             "#7fbc41"
            ],
            [
             0.9,
             "#4d9221"
            ],
            [
             1,
             "#276419"
            ]
           ],
           "sequential": [
            [
             0,
             "#0d0887"
            ],
            [
             0.1111111111111111,
             "#46039f"
            ],
            [
             0.2222222222222222,
             "#7201a8"
            ],
            [
             0.3333333333333333,
             "#9c179e"
            ],
            [
             0.4444444444444444,
             "#bd3786"
            ],
            [
             0.5555555555555556,
             "#d8576b"
            ],
            [
             0.6666666666666666,
             "#ed7953"
            ],
            [
             0.7777777777777778,
             "#fb9f3a"
            ],
            [
             0.8888888888888888,
             "#fdca26"
            ],
            [
             1,
             "#f0f921"
            ]
           ],
           "sequentialminus": [
            [
             0,
             "#0d0887"
            ],
            [
             0.1111111111111111,
             "#46039f"
            ],
            [
             0.2222222222222222,
             "#7201a8"
            ],
            [
             0.3333333333333333,
             "#9c179e"
            ],
            [
             0.4444444444444444,
             "#bd3786"
            ],
            [
             0.5555555555555556,
             "#d8576b"
            ],
            [
             0.6666666666666666,
             "#ed7953"
            ],
            [
             0.7777777777777778,
             "#fb9f3a"
            ],
            [
             0.8888888888888888,
             "#fdca26"
            ],
            [
             1,
             "#f0f921"
            ]
           ]
          },
          "colorway": [
           "#636efa",
           "#EF553B",
           "#00cc96",
           "#ab63fa",
           "#FFA15A",
           "#19d3f3",
           "#FF6692",
           "#B6E880",
           "#FF97FF",
           "#FECB52"
          ],
          "font": {
           "color": "#2a3f5f"
          },
          "geo": {
           "bgcolor": "white",
           "lakecolor": "white",
           "landcolor": "#E5ECF6",
           "showlakes": true,
           "showland": true,
           "subunitcolor": "white"
          },
          "hoverlabel": {
           "align": "left"
          },
          "hovermode": "closest",
          "mapbox": {
           "style": "light"
          },
          "paper_bgcolor": "white",
          "plot_bgcolor": "#E5ECF6",
          "polar": {
           "angularaxis": {
            "gridcolor": "white",
            "linecolor": "white",
            "ticks": ""
           },
           "bgcolor": "#E5ECF6",
           "radialaxis": {
            "gridcolor": "white",
            "linecolor": "white",
            "ticks": ""
           }
          },
          "scene": {
           "xaxis": {
            "backgroundcolor": "#E5ECF6",
            "gridcolor": "white",
            "gridwidth": 2,
            "linecolor": "white",
            "showbackground": true,
            "ticks": "",
            "zerolinecolor": "white"
           },
           "yaxis": {
            "backgroundcolor": "#E5ECF6",
            "gridcolor": "white",
            "gridwidth": 2,
            "linecolor": "white",
            "showbackground": true,
            "ticks": "",
            "zerolinecolor": "white"
           },
           "zaxis": {
            "backgroundcolor": "#E5ECF6",
            "gridcolor": "white",
            "gridwidth": 2,
            "linecolor": "white",
            "showbackground": true,
            "ticks": "",
            "zerolinecolor": "white"
           }
          },
          "shapedefaults": {
           "line": {
            "color": "#2a3f5f"
           }
          },
          "ternary": {
           "aaxis": {
            "gridcolor": "white",
            "linecolor": "white",
            "ticks": ""
           },
           "baxis": {
            "gridcolor": "white",
            "linecolor": "white",
            "ticks": ""
           },
           "bgcolor": "#E5ECF6",
           "caxis": {
            "gridcolor": "white",
            "linecolor": "white",
            "ticks": ""
           }
          },
          "title": {
           "x": 0.05
          },
          "xaxis": {
           "automargin": true,
           "gridcolor": "white",
           "linecolor": "white",
           "ticks": "",
           "title": {
            "standoff": 15
           },
           "zerolinecolor": "white",
           "zerolinewidth": 2
          },
          "yaxis": {
           "automargin": true,
           "gridcolor": "white",
           "linecolor": "white",
           "ticks": "",
           "title": {
            "standoff": 15
           },
           "zerolinecolor": "white",
           "zerolinewidth": 2
          }
         }
        },
        "title": {
         "text": "Training and Validation Loss"
        },
        "width": 900,
        "xaxis": {
         "title": {
          "text": "Epoch"
         }
        },
        "yaxis": {
         "title": {
          "text": "Loss"
         }
        }
       }
      }
     },
     "metadata": {},
     "output_type": "display_data"
    }
   ],
   "source": [
    "fig = go.Figure()\n",
    "\n",
    "fig.add_trace(go.Scatter(x=list(range(1, len(history.history['loss']) + 1)),\n",
    "                         y=history.history['loss'],\n",
    "                         mode='lines',\n",
    "                         name='Train Loss'))\n",
    "\n",
    "fig.add_trace(go.Scatter(x=list(range(1, len(history.history['val_loss']) + 1)),\n",
    "                         y=history.history['val_loss'],\n",
    "                         mode='lines',\n",
    "                         name='Validation Loss'))\n",
    "\n",
    "fig.update_layout(title='Training and Validation Loss',\n",
    "                  xaxis_title='Epoch',\n",
    "                  yaxis_title='Loss',\n",
    "                  legend=dict(x=0, y=1, traceorder='normal'),\n",
    "                  width=900, height=600)\n",
    "\n",
    "fig.write_image(f\"{dir_figures}/rna_training_validation_loss_plot.png\")\n",
    "\n",
    "fig.show()"
   ]
  },
  {
   "cell_type": "markdown",
   "metadata": {},
   "source": [
    "### Retoma a transformação"
   ]
  },
  {
   "cell_type": "code",
   "execution_count": 22,
   "metadata": {},
   "outputs": [
    {
     "name": "stdout",
     "output_type": "stream",
     "text": [
      "7/7 [==============================] - 0s 2ms/step\n"
     ]
    }
   ],
   "source": [
    "y_pred_ = model.predict(X_test_).astype('float32')\n",
    "y_pred = scaler_y.inverse_transform(y_pred_)"
   ]
  },
  {
   "cell_type": "code",
   "execution_count": 23,
   "metadata": {},
   "outputs": [
    {
     "data": {
      "text/html": [
       "<div>\n",
       "<style scoped>\n",
       "    .dataframe tbody tr th:only-of-type {\n",
       "        vertical-align: middle;\n",
       "    }\n",
       "\n",
       "    .dataframe tbody tr th {\n",
       "        vertical-align: top;\n",
       "    }\n",
       "\n",
       "    .dataframe thead th {\n",
       "        text-align: right;\n",
       "    }\n",
       "</style>\n",
       "<table border=\"1\" class=\"dataframe\">\n",
       "  <thead>\n",
       "    <tr style=\"text-align: right;\">\n",
       "      <th></th>\n",
       "      <th>MAE</th>\n",
       "      <th>MSE</th>\n",
       "      <th>RMSE</th>\n",
       "      <th>R2</th>\n",
       "      <th>Corr</th>\n",
       "    </tr>\n",
       "  </thead>\n",
       "  <tbody>\n",
       "    <tr>\n",
       "      <th>Decision Tree</th>\n",
       "      <td>8287.448242</td>\n",
       "      <td>144067808.0</td>\n",
       "      <td>12002.825195</td>\n",
       "      <td>0.862569</td>\n",
       "      <td>0.929753</td>\n",
       "    </tr>\n",
       "  </tbody>\n",
       "</table>\n",
       "</div>"
      ],
      "text/plain": [
       "                       MAE          MSE          RMSE        R2      Corr\n",
       "Decision Tree  8287.448242  144067808.0  12002.825195  0.862569  0.929753"
      ]
     },
     "execution_count": 23,
     "metadata": {},
     "output_type": "execute_result"
    }
   ],
   "source": [
    "# y_test = y_test.reshape(-1, y_test.shape[-1])\n",
    "\n",
    "mae = mean_absolute_error(y_test[:,1].astype('float32'), y_pred)\n",
    "mse = mean_squared_error(y_test[:,1].astype('float32'), y_pred)\n",
    "rmse = np.sqrt(mse)\n",
    "r2 = r2_score(y_test[:,1].astype('float32'), y_pred)\n",
    "corr = np.corrcoef(y_test[:,1].astype('float32').T, y_pred.T)[0, 1]\n",
    "\n",
    "metrics_df = pd.DataFrame(\n",
    "    columns=['MAE', 'MSE', 'RMSE', 'R2', 'Corr'],\n",
    "    index=['Decision Tree']\n",
    ")\n",
    "\n",
    "metrics_df['MAE'] = mae\n",
    "metrics_df['MSE'] = mse\n",
    "metrics_df['RMSE'] = rmse\n",
    "metrics_df['R2'] = r2\n",
    "metrics_df['Corr'] = corr\n",
    "metrics_df"
   ]
  },
  {
   "cell_type": "code",
   "execution_count": 24,
   "metadata": {},
   "outputs": [
    {
     "data": {
      "application/vnd.plotly.v1+json": {
       "config": {
        "plotlyServerURL": "https://plot.ly"
       },
       "data": [
        {
         "marker": {
          "color": "blue",
          "line": {
           "color": "black",
           "width": 1
          },
          "opacity": 0.5
         },
         "mode": "markers",
         "name": "Measured vs Predicted",
         "type": "scatter",
         "x": [
          62558,
          84077,
          78952,
          42489,
          28659.38,
          87908,
          59936.96,
          91618,
          121637,
          84193,
          123397,
          134493,
          65089.88999999999,
          57768,
          75605,
          91728,
          68720.52,
          115800,
          40483,
          40633,
          53229,
          73033,
          46920,
          51905,
          25417.31,
          64014,
          79351,
          117401.2,
          36586,
          92877.66,
          49932,
          75476.66,
          82944,
          54987,
          50844,
          63040,
          81515,
          78865.03,
          52191,
          64009,
          95840.75,
          109476,
          89138,
          66580.40999999999,
          35436.259999999995,
          54047.13,
          98849.57,
          82338.85,
          96532,
          168012.72999999998,
          41003.93,
          129489,
          69768.76,
          87864,
          79033,
          72790.07,
          91069,
          67220.96,
          53772,
          66064,
          48563.83,
          69628,
          66831,
          120488,
          82235.23999999999,
          66343,
          32650.42,
          47888.52,
          86796.28,
          85080.71,
          49931,
          62266.19,
          79821,
          73723,
          38044,
          65468,
          73517.04000000001,
          79583.44,
          53322,
          43637,
          71112,
          31079,
          57572,
          83969,
          141987,
          55610.34,
          95864,
          72779.37,
          36197,
          59010,
          75529,
          74483,
          31442.490000000005,
          58170,
          66673,
          114161.28,
          49812,
          31782,
          58150.48,
          47431,
          62122,
          83045.81,
          30527.570000000003,
          164704,
          108218,
          127302,
          113020,
          78420.28,
          90831.39,
          67858,
          93280.24,
          48663,
          77126,
          64891,
          55271,
          93688,
          69583.81,
          168690.08999999997,
          109717.95,
          54818,
          43878.89,
          141136.67,
          97059,
          64003.58,
          51268,
          56674,
          123766,
          67629.04,
          69197,
          103332,
          80041,
          130987,
          108588,
          66507.67,
          56477,
          52636,
          92039.91,
          72206.72,
          91080.96,
          191930,
          96972,
          75325,
          39478,
          56507,
          71227.85,
          52146.39,
          134532.38,
          61994.01,
          30915,
          40817,
          45644.57000000001,
          71755,
          110298,
          103471,
          36792,
          78629,
          201648,
          52486.46000000001,
          50556.5,
          93562,
          90476.78,
          36580,
          47464,
          47979,
          68626,
          68335,
          53626.68,
          74570.83,
          93810,
          78448,
          182211,
          74422.17,
          99372.01000000002,
          105503,
          85721,
          52481,
          84976,
          55595,
          34965,
          69683,
          151562,
          137553,
          117934,
          82701.8,
          36902,
          112512.02,
          37020.23,
          130958.77,
          49400,
          117645.74000000002,
          99961,
          41919.22,
          52731,
          55692.96,
          99380,
          136287,
          35226,
          109528,
          107583,
          35336.95,
          109648.19,
          124481,
          76091,
          42764.76,
          74262,
          79235,
          69562,
          80034,
          72300
         ],
         "y": [
          70193.4921875,
          90693.0546875,
          49355.09765625,
          45345.71484375,
          27913.12890625,
          75135.375,
          52445.6953125,
          105753.625,
          116889.2734375,
          76994.109375,
          113012.8359375,
          109329.3125,
          71173.984375,
          61052.421875,
          77928.8828125,
          114996.8515625,
          68515.7578125,
          87283.453125,
          36825.53515625,
          44040.0390625,
          57803.06640625,
          62582.2265625,
          47818.7890625,
          58008.08203125,
          26440.302734375,
          61999.515625,
          74993.9609375,
          99931.75,
          40520.06640625,
          97976.921875,
          39944.28515625,
          79947.9140625,
          49135.83203125,
          57344.55859375,
          51905.6640625,
          60273.55078125,
          93752.328125,
          91417.359375,
          50004.1328125,
          63630.80859375,
          88068.46875,
          91000.515625,
          79422.640625,
          72120.4921875,
          38420.64453125,
          52003.609375,
          116328.0234375,
          70374.3984375,
          77179.15625,
          146543.375,
          40750.77734375,
          111425.0703125,
          67243.0703125,
          87771.8828125,
          89854.640625,
          72431.3046875,
          96485.6171875,
          68667.890625,
          59899.3359375,
          68026.890625,
          50116.671875,
          62000.328125,
          60659.14453125,
          114330.1015625,
          87041.15625,
          65793.7421875,
          34021.6171875,
          52150.09375,
          110624.984375,
          80480.625,
          51770.765625,
          50548.20703125,
          84964.859375,
          49469.04296875,
          39058.98828125,
          58799.30859375,
          98047.328125,
          90604.8359375,
          54810.1171875,
          43562.4921875,
          78236.25,
          38618.5859375,
          65162.68359375,
          85994.109375,
          125201.1640625,
          66302.09375,
          92748.2578125,
          72222.0234375,
          35857.27734375,
          71282.796875,
          46989.55859375,
          75593.0234375,
          32553.12890625,
          61567.9921875,
          63755.79296875,
          115142.40625,
          52130.52734375,
          32875.64453125,
          60146.171875,
          47991.5625,
          53726.234375,
          109161.0703125,
          36438.60546875,
          143638.046875,
          67819.5859375,
          126779.5703125,
          98538.5,
          87207.5234375,
          101242.609375,
          70249.3359375,
          57019.2265625,
          50522.890625,
          73975.890625,
          66923.1328125,
          64074.41015625,
          76665.2578125,
          77892.1640625,
          155708.3125,
          104799.3828125,
          55868.15625,
          42370.53515625,
          135526.65625,
          98151.0546875,
          72881.421875,
          45521.2734375,
          53849.453125,
          107707.75,
          66354.953125,
          64050.75,
          102502.0546875,
          77108.59375,
          127795.828125,
          93965.0078125,
          60232.52734375,
          52270.72265625,
          64117.30859375,
          94703.484375,
          79585.421875,
          110146.125,
          196849.390625,
          113910.9453125,
          72177.7578125,
          40523.421875,
          46830.33203125,
          78974.9921875,
          48853.25390625,
          146701.234375,
          57251.76171875,
          33911.51953125,
          40865.77734375,
          48864.8515625,
          82872.0625,
          99868.53125,
          107568.28125,
          41902.60546875,
          89554.3984375,
          189851.671875,
          49754.2890625,
          53541.09375,
          87840.46875,
          105371.359375,
          40042.578125,
          41365.59765625,
          50917.19921875,
          72500.5703125,
          81939.6171875,
          56975.70703125,
          105099.109375,
          65694.7109375,
          85148.4375,
          166866.0625,
          78209.078125,
          105513.953125,
          77638.0859375,
          82651.671875,
          52966.13671875,
          71559.3203125,
          80092.6953125,
          34946.09375,
          77211.4765625,
          171336.765625,
          110654.5078125,
          101976.296875,
          83312.1640625,
          39772.1953125,
          62660.859375,
          37094.2890625,
          123074.75,
          47159.62109375,
          117760.2109375,
          92771.1875,
          45700.328125,
          48044.4609375,
          51967.1328125,
          82824.7421875,
          131032.078125,
          41059.48046875,
          109681.015625,
          113454.359375,
          30688.25,
          93519.4453125,
          125954.0703125,
          112911.1171875,
          44154.0078125,
          78359.640625,
          72024.7890625,
          72019.8359375,
          74779.46875,
          67700.9375
         ]
        },
        {
         "line": {
          "color": "red",
          "dash": "dash"
         },
         "mode": "lines",
         "name": "Identity Line",
         "type": "scatter",
         "x": [
          26440.302734375,
          196849.390625
         ],
         "y": [
          26440.302734375,
          196849.390625
         ]
        }
       ],
       "layout": {
        "autosize": false,
        "height": 500,
        "margin": {
         "b": 0,
         "l": 0,
         "r": 0,
         "t": 40
        },
        "showlegend": true,
        "template": {
         "data": {
          "bar": [
           {
            "error_x": {
             "color": "#2a3f5f"
            },
            "error_y": {
             "color": "#2a3f5f"
            },
            "marker": {
             "line": {
              "color": "#E5ECF6",
              "width": 0.5
             },
             "pattern": {
              "fillmode": "overlay",
              "size": 10,
              "solidity": 0.2
             }
            },
            "type": "bar"
           }
          ],
          "barpolar": [
           {
            "marker": {
             "line": {
              "color": "#E5ECF6",
              "width": 0.5
             },
             "pattern": {
              "fillmode": "overlay",
              "size": 10,
              "solidity": 0.2
             }
            },
            "type": "barpolar"
           }
          ],
          "carpet": [
           {
            "aaxis": {
             "endlinecolor": "#2a3f5f",
             "gridcolor": "white",
             "linecolor": "white",
             "minorgridcolor": "white",
             "startlinecolor": "#2a3f5f"
            },
            "baxis": {
             "endlinecolor": "#2a3f5f",
             "gridcolor": "white",
             "linecolor": "white",
             "minorgridcolor": "white",
             "startlinecolor": "#2a3f5f"
            },
            "type": "carpet"
           }
          ],
          "choropleth": [
           {
            "colorbar": {
             "outlinewidth": 0,
             "ticks": ""
            },
            "type": "choropleth"
           }
          ],
          "contour": [
           {
            "colorbar": {
             "outlinewidth": 0,
             "ticks": ""
            },
            "colorscale": [
             [
              0,
              "#0d0887"
             ],
             [
              0.1111111111111111,
              "#46039f"
             ],
             [
              0.2222222222222222,
              "#7201a8"
             ],
             [
              0.3333333333333333,
              "#9c179e"
             ],
             [
              0.4444444444444444,
              "#bd3786"
             ],
             [
              0.5555555555555556,
              "#d8576b"
             ],
             [
              0.6666666666666666,
              "#ed7953"
             ],
             [
              0.7777777777777778,
              "#fb9f3a"
             ],
             [
              0.8888888888888888,
              "#fdca26"
             ],
             [
              1,
              "#f0f921"
             ]
            ],
            "type": "contour"
           }
          ],
          "contourcarpet": [
           {
            "colorbar": {
             "outlinewidth": 0,
             "ticks": ""
            },
            "type": "contourcarpet"
           }
          ],
          "heatmap": [
           {
            "colorbar": {
             "outlinewidth": 0,
             "ticks": ""
            },
            "colorscale": [
             [
              0,
              "#0d0887"
             ],
             [
              0.1111111111111111,
              "#46039f"
             ],
             [
              0.2222222222222222,
              "#7201a8"
             ],
             [
              0.3333333333333333,
              "#9c179e"
             ],
             [
              0.4444444444444444,
              "#bd3786"
             ],
             [
              0.5555555555555556,
              "#d8576b"
             ],
             [
              0.6666666666666666,
              "#ed7953"
             ],
             [
              0.7777777777777778,
              "#fb9f3a"
             ],
             [
              0.8888888888888888,
              "#fdca26"
             ],
             [
              1,
              "#f0f921"
             ]
            ],
            "type": "heatmap"
           }
          ],
          "heatmapgl": [
           {
            "colorbar": {
             "outlinewidth": 0,
             "ticks": ""
            },
            "colorscale": [
             [
              0,
              "#0d0887"
             ],
             [
              0.1111111111111111,
              "#46039f"
             ],
             [
              0.2222222222222222,
              "#7201a8"
             ],
             [
              0.3333333333333333,
              "#9c179e"
             ],
             [
              0.4444444444444444,
              "#bd3786"
             ],
             [
              0.5555555555555556,
              "#d8576b"
             ],
             [
              0.6666666666666666,
              "#ed7953"
             ],
             [
              0.7777777777777778,
              "#fb9f3a"
             ],
             [
              0.8888888888888888,
              "#fdca26"
             ],
             [
              1,
              "#f0f921"
             ]
            ],
            "type": "heatmapgl"
           }
          ],
          "histogram": [
           {
            "marker": {
             "pattern": {
              "fillmode": "overlay",
              "size": 10,
              "solidity": 0.2
             }
            },
            "type": "histogram"
           }
          ],
          "histogram2d": [
           {
            "colorbar": {
             "outlinewidth": 0,
             "ticks": ""
            },
            "colorscale": [
             [
              0,
              "#0d0887"
             ],
             [
              0.1111111111111111,
              "#46039f"
             ],
             [
              0.2222222222222222,
              "#7201a8"
             ],
             [
              0.3333333333333333,
              "#9c179e"
             ],
             [
              0.4444444444444444,
              "#bd3786"
             ],
             [
              0.5555555555555556,
              "#d8576b"
             ],
             [
              0.6666666666666666,
              "#ed7953"
             ],
             [
              0.7777777777777778,
              "#fb9f3a"
             ],
             [
              0.8888888888888888,
              "#fdca26"
             ],
             [
              1,
              "#f0f921"
             ]
            ],
            "type": "histogram2d"
           }
          ],
          "histogram2dcontour": [
           {
            "colorbar": {
             "outlinewidth": 0,
             "ticks": ""
            },
            "colorscale": [
             [
              0,
              "#0d0887"
             ],
             [
              0.1111111111111111,
              "#46039f"
             ],
             [
              0.2222222222222222,
              "#7201a8"
             ],
             [
              0.3333333333333333,
              "#9c179e"
             ],
             [
              0.4444444444444444,
              "#bd3786"
             ],
             [
              0.5555555555555556,
              "#d8576b"
             ],
             [
              0.6666666666666666,
              "#ed7953"
             ],
             [
              0.7777777777777778,
              "#fb9f3a"
             ],
             [
              0.8888888888888888,
              "#fdca26"
             ],
             [
              1,
              "#f0f921"
             ]
            ],
            "type": "histogram2dcontour"
           }
          ],
          "mesh3d": [
           {
            "colorbar": {
             "outlinewidth": 0,
             "ticks": ""
            },
            "type": "mesh3d"
           }
          ],
          "parcoords": [
           {
            "line": {
             "colorbar": {
              "outlinewidth": 0,
              "ticks": ""
             }
            },
            "type": "parcoords"
           }
          ],
          "pie": [
           {
            "automargin": true,
            "type": "pie"
           }
          ],
          "scatter": [
           {
            "fillpattern": {
             "fillmode": "overlay",
             "size": 10,
             "solidity": 0.2
            },
            "type": "scatter"
           }
          ],
          "scatter3d": [
           {
            "line": {
             "colorbar": {
              "outlinewidth": 0,
              "ticks": ""
             }
            },
            "marker": {
             "colorbar": {
              "outlinewidth": 0,
              "ticks": ""
             }
            },
            "type": "scatter3d"
           }
          ],
          "scattercarpet": [
           {
            "marker": {
             "colorbar": {
              "outlinewidth": 0,
              "ticks": ""
             }
            },
            "type": "scattercarpet"
           }
          ],
          "scattergeo": [
           {
            "marker": {
             "colorbar": {
              "outlinewidth": 0,
              "ticks": ""
             }
            },
            "type": "scattergeo"
           }
          ],
          "scattergl": [
           {
            "marker": {
             "colorbar": {
              "outlinewidth": 0,
              "ticks": ""
             }
            },
            "type": "scattergl"
           }
          ],
          "scattermapbox": [
           {
            "marker": {
             "colorbar": {
              "outlinewidth": 0,
              "ticks": ""
             }
            },
            "type": "scattermapbox"
           }
          ],
          "scatterpolar": [
           {
            "marker": {
             "colorbar": {
              "outlinewidth": 0,
              "ticks": ""
             }
            },
            "type": "scatterpolar"
           }
          ],
          "scatterpolargl": [
           {
            "marker": {
             "colorbar": {
              "outlinewidth": 0,
              "ticks": ""
             }
            },
            "type": "scatterpolargl"
           }
          ],
          "scatterternary": [
           {
            "marker": {
             "colorbar": {
              "outlinewidth": 0,
              "ticks": ""
             }
            },
            "type": "scatterternary"
           }
          ],
          "surface": [
           {
            "colorbar": {
             "outlinewidth": 0,
             "ticks": ""
            },
            "colorscale": [
             [
              0,
              "#0d0887"
             ],
             [
              0.1111111111111111,
              "#46039f"
             ],
             [
              0.2222222222222222,
              "#7201a8"
             ],
             [
              0.3333333333333333,
              "#9c179e"
             ],
             [
              0.4444444444444444,
              "#bd3786"
             ],
             [
              0.5555555555555556,
              "#d8576b"
             ],
             [
              0.6666666666666666,
              "#ed7953"
             ],
             [
              0.7777777777777778,
              "#fb9f3a"
             ],
             [
              0.8888888888888888,
              "#fdca26"
             ],
             [
              1,
              "#f0f921"
             ]
            ],
            "type": "surface"
           }
          ],
          "table": [
           {
            "cells": {
             "fill": {
              "color": "#EBF0F8"
             },
             "line": {
              "color": "white"
             }
            },
            "header": {
             "fill": {
              "color": "#C8D4E3"
             },
             "line": {
              "color": "white"
             }
            },
            "type": "table"
           }
          ]
         },
         "layout": {
          "annotationdefaults": {
           "arrowcolor": "#2a3f5f",
           "arrowhead": 0,
           "arrowwidth": 1
          },
          "autotypenumbers": "strict",
          "coloraxis": {
           "colorbar": {
            "outlinewidth": 0,
            "ticks": ""
           }
          },
          "colorscale": {
           "diverging": [
            [
             0,
             "#8e0152"
            ],
            [
             0.1,
             "#c51b7d"
            ],
            [
             0.2,
             "#de77ae"
            ],
            [
             0.3,
             "#f1b6da"
            ],
            [
             0.4,
             "#fde0ef"
            ],
            [
             0.5,
             "#f7f7f7"
            ],
            [
             0.6,
             "#e6f5d0"
            ],
            [
             0.7,
             "#b8e186"
            ],
            [
             0.8,
             "#7fbc41"
            ],
            [
             0.9,
             "#4d9221"
            ],
            [
             1,
             "#276419"
            ]
           ],
           "sequential": [
            [
             0,
             "#0d0887"
            ],
            [
             0.1111111111111111,
             "#46039f"
            ],
            [
             0.2222222222222222,
             "#7201a8"
            ],
            [
             0.3333333333333333,
             "#9c179e"
            ],
            [
             0.4444444444444444,
             "#bd3786"
            ],
            [
             0.5555555555555556,
             "#d8576b"
            ],
            [
             0.6666666666666666,
             "#ed7953"
            ],
            [
             0.7777777777777778,
             "#fb9f3a"
            ],
            [
             0.8888888888888888,
             "#fdca26"
            ],
            [
             1,
             "#f0f921"
            ]
           ],
           "sequentialminus": [
            [
             0,
             "#0d0887"
            ],
            [
             0.1111111111111111,
             "#46039f"
            ],
            [
             0.2222222222222222,
             "#7201a8"
            ],
            [
             0.3333333333333333,
             "#9c179e"
            ],
            [
             0.4444444444444444,
             "#bd3786"
            ],
            [
             0.5555555555555556,
             "#d8576b"
            ],
            [
             0.6666666666666666,
             "#ed7953"
            ],
            [
             0.7777777777777778,
             "#fb9f3a"
            ],
            [
             0.8888888888888888,
             "#fdca26"
            ],
            [
             1,
             "#f0f921"
            ]
           ]
          },
          "colorway": [
           "#636efa",
           "#EF553B",
           "#00cc96",
           "#ab63fa",
           "#FFA15A",
           "#19d3f3",
           "#FF6692",
           "#B6E880",
           "#FF97FF",
           "#FECB52"
          ],
          "font": {
           "color": "#2a3f5f"
          },
          "geo": {
           "bgcolor": "white",
           "lakecolor": "white",
           "landcolor": "#E5ECF6",
           "showlakes": true,
           "showland": true,
           "subunitcolor": "white"
          },
          "hoverlabel": {
           "align": "left"
          },
          "hovermode": "closest",
          "mapbox": {
           "style": "light"
          },
          "paper_bgcolor": "white",
          "plot_bgcolor": "#E5ECF6",
          "polar": {
           "angularaxis": {
            "gridcolor": "white",
            "linecolor": "white",
            "ticks": ""
           },
           "bgcolor": "#E5ECF6",
           "radialaxis": {
            "gridcolor": "white",
            "linecolor": "white",
            "ticks": ""
           }
          },
          "scene": {
           "xaxis": {
            "backgroundcolor": "#E5ECF6",
            "gridcolor": "white",
            "gridwidth": 2,
            "linecolor": "white",
            "showbackground": true,
            "ticks": "",
            "zerolinecolor": "white"
           },
           "yaxis": {
            "backgroundcolor": "#E5ECF6",
            "gridcolor": "white",
            "gridwidth": 2,
            "linecolor": "white",
            "showbackground": true,
            "ticks": "",
            "zerolinecolor": "white"
           },
           "zaxis": {
            "backgroundcolor": "#E5ECF6",
            "gridcolor": "white",
            "gridwidth": 2,
            "linecolor": "white",
            "showbackground": true,
            "ticks": "",
            "zerolinecolor": "white"
           }
          },
          "shapedefaults": {
           "line": {
            "color": "#2a3f5f"
           }
          },
          "ternary": {
           "aaxis": {
            "gridcolor": "white",
            "linecolor": "white",
            "ticks": ""
           },
           "baxis": {
            "gridcolor": "white",
            "linecolor": "white",
            "ticks": ""
           },
           "bgcolor": "#E5ECF6",
           "caxis": {
            "gridcolor": "white",
            "linecolor": "white",
            "ticks": ""
           }
          },
          "title": {
           "x": 0.05
          },
          "xaxis": {
           "automargin": true,
           "gridcolor": "white",
           "linecolor": "white",
           "ticks": "",
           "title": {
            "standoff": 15
           },
           "zerolinecolor": "white",
           "zerolinewidth": 2
          },
          "yaxis": {
           "automargin": true,
           "gridcolor": "white",
           "linecolor": "white",
           "ticks": "",
           "title": {
            "standoff": 15
           },
           "zerolinecolor": "white",
           "zerolinewidth": 2
          }
         }
        },
        "title": {
         "text": "Measured vs Predicted"
        },
        "width": 800,
        "xaxis": {
         "title": {
          "text": "y_true"
         }
        },
        "yaxis": {
         "title": {
          "text": "y_pred"
         }
        }
       }
      }
     },
     "metadata": {},
     "output_type": "display_data"
    }
   ],
   "source": [
    "fig = go.Figure()\n",
    "\n",
    "fig.add_trace(\n",
    "    go.Scatter(\n",
    "        x=y_test[:,1:].ravel(),\n",
    "        y=y_pred.ravel(),\n",
    "        mode='markers',\n",
    "        marker=dict(color='blue', opacity=0.5, line=dict(color='black', width=1)),\n",
    "        name='Measured vs Predicted'\n",
    "    )\n",
    ")\n",
    "\n",
    "\n",
    "fig.add_trace(\n",
    "    go.Scatter(\n",
    "        x=[y_pred.min(), y_pred.max()],\n",
    "        y=[y_pred.min(), y_pred.max()],\n",
    "        mode='lines',\n",
    "        line=dict(color='red', dash='dash'),\n",
    "        name='Identity Line'\n",
    "    )\n",
    ")\n",
    "\n",
    "fig.update_layout(\n",
    "    title='Measured vs Predicted',\n",
    "    xaxis=dict(title='y_true'),\n",
    "    yaxis=dict(title='y_pred'),\n",
    "    autosize=False,\n",
    "    width=800,\n",
    "    height=500,\n",
    "    margin=dict(l=0, r=0, b=0, t=40),\n",
    "    showlegend=True\n",
    ")\n",
    "\n",
    "fig.write_image(f\"{dir_figures}/scattered_measured_vs_predicted_plot.png\")\n",
    "\n",
    "fig.show()\n"
   ]
  },
  {
   "cell_type": "code",
   "execution_count": 25,
   "metadata": {},
   "outputs": [
    {
     "data": {
      "application/vnd.plotly.v1+json": {
       "config": {
        "plotlyServerURL": "https://plot.ly"
       },
       "data": [
        {
         "mode": "lines",
         "name": "Vazão observada",
         "type": "scatter",
         "x": [
          "2001-01-06",
          "2001-01-13",
          "2001-01-20",
          "2001-01-27",
          "2001-02-03",
          "2001-02-10",
          "2001-02-17",
          "2001-02-24",
          "2001-03-03",
          "2001-03-10",
          "2001-03-17",
          "2001-03-24",
          "2001-03-31",
          "2001-04-07",
          "2001-04-14",
          "2001-04-21",
          "2001-04-28",
          "2001-05-05",
          "2001-05-12",
          "2001-05-19",
          "2001-05-26",
          "2001-06-02",
          "2001-06-09",
          "2001-06-16",
          "2001-06-23",
          "2001-06-30",
          "2001-07-07",
          "2001-07-14",
          "2001-07-21",
          "2001-07-28",
          "2001-08-04",
          "2001-08-11",
          "2001-08-18",
          "2001-08-25",
          "2001-09-01",
          "2001-09-08",
          "2001-09-15",
          "2001-09-22",
          "2001-09-29",
          "2001-10-06",
          "2001-10-13",
          "2001-10-20",
          "2001-10-27",
          "2001-11-03",
          "2001-11-10",
          "2001-11-17",
          "2001-11-24",
          "2001-12-01",
          "2001-12-08",
          "2001-12-15",
          "2001-12-22",
          "2001-12-29",
          "2002-01-05",
          "2002-01-12",
          "2002-01-19",
          "2002-01-26",
          "2002-02-02",
          "2002-02-09",
          "2002-02-16",
          "2002-02-23",
          "2002-03-02",
          "2002-03-09",
          "2002-03-16",
          "2002-03-23",
          "2002-03-30",
          "2002-04-06",
          "2002-04-13",
          "2002-04-20",
          "2002-04-27",
          "2002-05-04",
          "2002-05-11",
          "2002-05-18",
          "2002-05-25",
          "2002-06-01",
          "2002-06-08",
          "2002-06-15",
          "2002-06-22",
          "2002-06-29",
          "2002-07-06",
          "2002-07-13",
          "2002-07-20",
          "2002-07-27",
          "2002-08-03",
          "2002-08-10",
          "2002-08-17",
          "2002-08-24",
          "2002-08-31",
          "2002-09-07",
          "2002-09-14",
          "2002-09-21",
          "2002-09-28",
          "2002-10-05",
          "2002-10-12",
          "2002-10-19",
          "2002-10-26",
          "2002-11-02",
          "2002-11-09",
          "2002-11-16",
          "2002-11-23",
          "2002-11-30",
          "2002-12-07",
          "2002-12-14",
          "2002-12-21",
          "2002-12-28",
          "2003-01-04",
          "2003-01-11",
          "2003-01-18",
          "2003-01-25",
          "2003-02-01",
          "2003-02-08",
          "2003-02-15",
          "2003-02-22",
          "2003-03-01",
          "2003-03-08",
          "2003-03-15",
          "2003-03-22",
          "2003-03-29",
          "2003-04-05",
          "2003-04-12",
          "2003-04-19",
          "2003-04-26",
          "2003-05-03",
          "2003-05-10",
          "2003-05-17",
          "2003-05-24",
          "2003-05-31",
          "2003-06-07",
          "2003-06-14",
          "2003-06-21",
          "2003-06-28",
          "2003-07-05",
          "2003-07-12",
          "2003-07-19",
          "2003-07-26",
          "2003-08-02",
          "2003-08-09",
          "2003-08-16",
          "2003-08-23",
          "2003-08-30",
          "2003-09-06",
          "2003-09-13",
          "2003-09-20",
          "2003-09-27",
          "2003-10-04",
          "2003-10-11",
          "2003-10-18",
          "2003-10-25",
          "2003-11-01",
          "2003-11-08",
          "2003-11-15",
          "2003-11-22",
          "2003-11-29",
          "2003-12-06",
          "2003-12-13",
          "2003-12-20",
          "2003-12-27",
          "2004-01-03",
          "2004-01-10",
          "2004-01-17",
          "2004-01-24",
          "2004-01-31",
          "2004-02-07",
          "2004-02-14",
          "2004-02-21",
          "2004-02-28",
          "2004-03-06",
          "2004-03-13",
          "2004-03-20",
          "2004-03-27",
          "2004-04-03",
          "2004-04-10",
          "2004-04-17",
          "2004-04-24",
          "2004-05-01",
          "2004-05-08",
          "2004-05-15",
          "2004-05-22",
          "2004-05-29",
          "2004-06-05",
          "2004-06-12",
          "2004-06-19",
          "2004-06-26",
          "2004-07-03",
          "2004-07-10",
          "2004-07-17",
          "2004-07-24",
          "2004-07-31",
          "2004-08-07",
          "2004-08-14",
          "2004-08-21",
          "2004-08-28",
          "2004-09-04",
          "2004-09-11",
          "2004-09-18",
          "2004-09-25",
          "2004-10-02",
          "2004-10-09",
          "2004-10-16",
          "2004-10-23",
          "2004-10-30",
          "2004-11-06",
          "2004-11-13",
          "2004-11-20",
          "2004-11-27",
          "2004-12-04",
          "2004-12-11",
          "2004-12-18",
          "2004-12-25",
          "2005-01-01",
          "2005-01-08",
          "2005-01-15",
          "2005-01-22",
          "2005-01-29",
          "2005-02-05",
          "2005-02-12",
          "2005-02-19",
          "2005-02-26",
          "2005-03-05",
          "2005-03-12",
          "2005-03-19",
          "2005-03-26",
          "2005-04-02",
          "2005-04-09",
          "2005-04-16",
          "2005-04-23",
          "2005-04-30",
          "2005-05-07",
          "2005-05-14",
          "2005-05-21",
          "2005-05-28",
          "2005-06-04",
          "2005-06-11",
          "2005-06-18",
          "2005-06-25",
          "2005-07-02",
          "2005-07-09",
          "2005-07-16",
          "2005-07-23",
          "2005-07-30",
          "2005-08-06",
          "2005-08-13",
          "2005-08-20",
          "2005-08-27",
          "2005-09-03",
          "2005-09-10",
          "2005-09-17",
          "2005-09-24",
          "2005-10-01",
          "2005-10-08",
          "2005-10-15",
          "2005-10-22",
          "2005-10-29",
          "2005-11-05",
          "2005-11-12",
          "2005-11-19",
          "2005-11-26",
          "2005-12-03",
          "2005-12-10",
          "2005-12-17",
          "2005-12-24",
          "2005-12-31",
          "2006-01-07",
          "2006-01-14",
          "2006-01-21",
          "2006-01-28",
          "2006-02-04",
          "2006-02-11",
          "2006-02-18",
          "2006-02-25",
          "2006-03-04",
          "2006-03-11",
          "2006-03-18",
          "2006-03-25",
          "2006-04-01",
          "2006-04-08",
          "2006-04-15",
          "2006-04-22",
          "2006-04-29",
          "2006-05-06",
          "2006-05-13",
          "2006-05-20",
          "2006-05-27",
          "2006-06-03",
          "2006-06-10",
          "2006-06-17",
          "2006-06-24",
          "2006-07-01",
          "2006-07-08",
          "2006-07-15",
          "2006-07-22",
          "2006-07-29",
          "2006-08-05",
          "2006-08-12",
          "2006-08-19",
          "2006-08-26",
          "2006-09-02",
          "2006-09-09",
          "2006-09-16",
          "2006-09-23",
          "2006-09-30",
          "2006-10-07",
          "2006-10-14",
          "2006-10-21",
          "2006-10-28",
          "2006-11-04",
          "2006-11-11",
          "2006-11-18",
          "2006-11-25",
          "2006-12-02",
          "2006-12-09",
          "2006-12-16",
          "2006-12-23",
          "2006-12-30",
          "2007-01-06",
          "2007-01-13",
          "2007-01-20",
          "2007-01-27",
          "2007-02-03",
          "2007-02-10",
          "2007-02-17",
          "2007-02-24",
          "2007-03-03",
          "2007-03-10",
          "2007-03-17",
          "2007-03-24",
          "2007-03-31",
          "2007-04-07",
          "2007-04-14",
          "2007-04-21",
          "2007-04-28",
          "2007-05-05",
          "2007-05-12",
          "2007-05-19",
          "2007-05-26",
          "2007-06-02",
          "2007-06-09",
          "2007-06-16",
          "2007-06-23",
          "2007-06-30",
          "2007-07-07",
          "2007-07-14",
          "2007-07-21",
          "2007-07-28",
          "2007-08-04",
          "2007-08-11",
          "2007-08-18",
          "2007-08-25",
          "2007-09-01",
          "2007-09-08",
          "2007-09-15",
          "2007-09-22",
          "2007-09-29",
          "2007-10-06",
          "2007-10-13",
          "2007-10-20",
          "2007-10-27",
          "2007-11-03",
          "2007-11-10",
          "2007-11-17",
          "2007-11-24",
          "2007-12-01",
          "2007-12-08",
          "2007-12-15",
          "2007-12-22",
          "2007-12-29",
          "2008-01-05",
          "2008-01-12",
          "2008-01-19",
          "2008-01-26",
          "2008-02-02",
          "2008-02-09",
          "2008-02-16",
          "2008-02-23",
          "2008-03-01",
          "2008-03-08",
          "2008-03-15",
          "2008-03-22",
          "2008-03-29",
          "2008-04-05",
          "2008-04-12",
          "2008-04-19",
          "2008-04-26",
          "2008-05-03",
          "2008-05-10",
          "2008-05-17",
          "2008-05-24",
          "2008-05-31",
          "2008-06-07",
          "2008-06-14",
          "2008-06-21",
          "2008-06-28",
          "2008-07-05",
          "2008-07-12",
          "2008-07-19",
          "2008-07-26",
          "2008-08-02",
          "2008-08-09",
          "2008-08-16",
          "2008-08-23",
          "2008-08-30",
          "2008-09-06",
          "2008-09-13",
          "2008-09-20",
          "2008-09-27",
          "2008-10-04",
          "2008-10-11",
          "2008-10-18",
          "2008-10-25",
          "2008-11-01",
          "2008-11-08",
          "2008-11-15",
          "2008-11-22",
          "2008-11-29",
          "2008-12-06",
          "2008-12-13",
          "2008-12-20",
          "2008-12-27",
          "2009-01-03",
          "2009-01-10",
          "2009-01-17",
          "2009-01-24",
          "2009-01-31",
          "2009-02-07",
          "2009-02-14",
          "2009-02-21",
          "2009-02-28",
          "2009-03-07",
          "2009-03-14",
          "2009-03-21",
          "2009-03-28",
          "2009-04-04",
          "2009-04-11",
          "2009-04-18",
          "2009-04-25",
          "2009-05-02",
          "2009-05-09",
          "2009-05-16",
          "2009-05-23",
          "2009-05-30",
          "2009-06-06",
          "2009-06-13",
          "2009-06-20",
          "2009-06-27",
          "2009-07-04",
          "2009-07-11",
          "2009-07-18",
          "2009-07-25",
          "2009-08-01",
          "2009-08-08",
          "2009-08-15",
          "2009-08-22",
          "2009-08-29",
          "2009-09-05",
          "2009-09-12",
          "2009-09-19",
          "2009-09-26",
          "2009-10-03",
          "2009-10-10",
          "2009-10-17",
          "2009-10-24",
          "2009-10-31",
          "2009-11-07",
          "2009-11-14",
          "2009-11-21",
          "2009-11-28",
          "2009-12-05",
          "2009-12-12",
          "2009-12-19",
          "2009-12-26",
          "2010-01-02",
          "2010-01-02",
          "2010-01-02",
          "2010-01-02",
          "2010-01-09",
          "2010-01-16",
          "2010-01-23",
          "2010-01-30",
          "2010-02-06",
          "2010-02-13",
          "2010-02-20",
          "2010-02-27",
          "2010-03-06",
          "2010-03-13",
          "2010-03-20",
          "2010-03-27",
          "2010-04-03",
          "2010-04-10",
          "2010-04-17",
          "2010-04-24",
          "2010-05-01",
          "2010-05-08",
          "2010-05-15",
          "2010-05-22",
          "2010-05-29",
          "2010-06-05",
          "2010-06-12",
          "2010-06-19",
          "2010-06-26",
          "2010-07-03",
          "2010-07-10",
          "2010-07-17",
          "2010-07-24",
          "2010-07-31",
          "2010-08-07",
          "2010-08-14",
          "2010-08-21",
          "2010-08-28",
          "2010-09-04",
          "2010-09-11",
          "2010-09-18",
          "2010-09-25",
          "2010-10-02",
          "2010-10-09",
          "2010-10-16",
          "2010-10-23",
          "2010-10-30",
          "2010-11-06",
          "2010-11-13",
          "2010-11-20",
          "2010-11-27",
          "2010-12-04",
          "2010-12-11",
          "2010-12-18",
          "2010-12-25",
          "2011-01-01",
          "2011-01-08",
          "2011-01-15",
          "2011-01-22",
          "2011-01-29",
          "2011-02-05",
          "2011-02-12",
          "2011-02-19",
          "2011-02-26",
          "2011-03-05",
          "2011-03-12",
          "2011-03-19",
          "2011-03-26",
          "2011-04-02",
          "2011-04-09",
          "2011-04-16",
          "2011-04-23",
          "2011-04-30",
          "2011-05-07",
          "2011-05-14",
          "2011-05-21",
          "2011-05-28",
          "2011-06-04",
          "2011-06-11",
          "2011-06-18",
          "2011-06-25",
          "2011-07-02",
          "2011-07-09",
          "2011-07-16",
          "2011-07-23",
          "2011-07-30",
          "2011-08-06",
          "2011-08-13",
          "2011-08-20",
          "2011-08-27",
          "2011-09-03",
          "2011-09-10",
          "2011-09-17",
          "2011-09-24",
          "2011-10-01",
          "2011-10-08",
          "2011-10-15",
          "2011-10-22",
          "2011-10-29",
          "2011-11-05",
          "2011-11-12",
          "2011-11-19",
          "2011-11-26",
          "2011-12-03",
          "2011-12-10",
          "2011-12-17",
          "2011-12-24",
          "2011-12-31",
          "2012-01-07",
          "2012-01-14",
          "2012-01-21",
          "2012-01-28",
          "2012-02-04",
          "2012-02-11",
          "2012-02-18",
          "2012-02-25",
          "2012-03-03",
          "2012-03-10",
          "2012-03-17",
          "2012-03-24",
          "2012-03-31",
          "2012-04-07",
          "2012-04-14",
          "2012-04-21",
          "2012-04-28",
          "2012-05-05",
          "2012-05-12",
          "2012-05-19",
          "2012-05-26",
          "2012-06-02",
          "2012-06-09",
          "2012-06-16",
          "2012-06-23",
          "2012-06-30",
          "2012-07-07",
          "2012-07-14",
          "2012-07-21",
          "2012-07-28",
          "2012-08-04",
          "2012-08-11",
          "2012-08-18",
          "2012-08-25",
          "2012-09-01",
          "2012-09-08",
          "2012-09-15",
          "2012-09-22",
          "2012-09-29",
          "2012-10-06",
          "2012-10-13",
          "2012-10-20",
          "2012-10-27",
          "2012-11-03",
          "2012-11-10",
          "2012-11-17",
          "2012-11-24",
          "2012-12-01",
          "2012-12-08",
          "2012-12-15",
          "2012-12-22",
          "2012-12-29",
          "2013-01-05",
          "2013-01-12",
          "2013-01-19",
          "2013-01-26",
          "2013-02-02",
          "2013-02-09",
          "2013-02-16",
          "2013-02-23",
          "2013-03-02",
          "2013-03-09",
          "2013-03-16",
          "2013-03-23",
          "2013-03-30",
          "2013-04-06",
          "2013-04-13",
          "2013-04-20",
          "2013-04-27",
          "2013-05-04",
          "2013-05-11",
          "2013-05-18",
          "2013-05-25",
          "2013-06-01",
          "2013-06-08",
          "2013-06-15",
          "2013-06-22",
          "2013-06-29",
          "2013-07-06",
          "2013-07-13",
          "2013-07-20",
          "2013-07-27",
          "2013-08-03",
          "2013-08-10",
          "2013-08-17",
          "2013-08-24",
          "2013-08-31",
          "2013-09-07",
          "2013-09-14",
          "2013-09-21",
          "2013-09-28",
          "2013-10-05",
          "2013-10-12",
          "2013-10-19",
          "2013-10-26",
          "2013-11-02",
          "2013-11-09",
          "2013-11-16",
          "2013-11-23",
          "2013-11-30",
          "2013-12-07",
          "2013-12-14",
          "2013-12-21",
          "2013-12-28",
          "2014-01-04",
          "2014-01-11",
          "2014-01-18",
          "2014-01-25",
          "2014-02-01",
          "2014-02-08",
          "2014-02-15",
          "2014-02-22",
          "2014-03-01",
          "2014-03-08",
          "2014-03-15",
          "2014-03-22",
          "2014-03-29",
          "2014-04-05",
          "2014-04-12",
          "2014-04-19",
          "2014-04-26",
          "2014-05-03",
          "2014-05-10",
          "2014-05-17",
          "2014-05-24",
          "2014-05-31",
          "2014-06-07",
          "2014-06-14",
          "2014-06-21",
          "2014-06-28",
          "2014-07-05",
          "2014-07-12",
          "2014-07-19",
          "2014-07-26",
          "2014-08-02",
          "2014-08-09",
          "2014-08-16",
          "2014-08-23",
          "2014-08-30",
          "2014-09-06",
          "2014-09-13",
          "2014-09-20",
          "2014-09-27",
          "2014-10-04",
          "2014-10-11",
          "2014-10-18",
          "2014-10-25",
          "2014-11-01",
          "2014-11-08",
          "2014-11-15",
          "2014-11-22",
          "2014-11-29",
          "2014-12-06",
          "2014-12-13",
          "2014-12-20",
          "2014-12-27",
          "2015-01-03",
          "2015-01-10",
          "2015-01-17",
          "2015-01-24",
          "2015-01-31",
          "2015-02-07",
          "2015-02-14",
          "2015-02-21",
          "2015-02-28",
          "2015-03-07",
          "2015-03-14",
          "2015-03-21",
          "2015-03-28",
          "2015-04-04",
          "2015-04-11",
          "2015-04-18",
          "2015-04-25",
          "2015-05-02",
          "2015-05-09",
          "2015-05-16",
          "2015-05-23",
          "2015-05-30",
          "2015-06-06",
          "2015-06-13",
          "2015-06-20",
          "2015-06-27",
          "2015-07-04",
          "2015-07-11",
          "2015-07-18",
          "2015-07-25",
          "2015-08-01",
          "2015-08-08",
          "2015-08-15",
          "2015-08-22",
          "2015-08-29",
          "2015-09-05",
          "2015-09-12",
          "2015-09-19",
          "2015-09-26",
          "2015-10-03",
          "2015-10-10",
          "2015-10-17",
          "2015-10-24",
          "2015-10-31",
          "2015-11-07",
          "2015-11-14",
          "2015-11-21",
          "2015-11-28",
          "2015-12-05",
          "2015-12-12",
          "2015-12-19",
          "2015-12-26",
          "2016-01-02",
          "2016-01-09",
          "2016-01-16",
          "2016-01-23",
          "2016-01-30",
          "2016-02-06",
          "2016-02-13",
          "2016-02-20",
          "2016-02-27",
          "2016-03-05",
          "2016-03-12",
          "2016-03-19",
          "2016-03-26",
          "2016-04-02",
          "2016-04-09",
          "2016-04-16",
          "2016-04-23",
          "2016-04-30",
          "2016-05-07",
          "2016-05-14",
          "2016-05-21",
          "2016-05-28",
          "2016-06-04",
          "2016-06-11",
          "2016-06-18",
          "2016-06-25",
          "2016-07-02",
          "2016-07-09",
          "2016-07-16",
          "2016-07-23",
          "2016-07-30",
          "2016-08-06",
          "2016-08-13",
          "2016-08-20",
          "2016-08-27",
          "2016-09-03",
          "2016-09-10",
          "2016-09-17",
          "2016-09-24",
          "2016-10-01",
          "2016-10-08",
          "2016-10-15",
          "2016-10-22",
          "2016-10-29",
          "2016-11-05",
          "2016-11-12",
          "2016-11-19",
          "2016-11-26",
          "2016-12-03",
          "2016-12-10",
          "2016-12-17",
          "2016-12-24",
          "2016-12-31",
          "2017-01-07",
          "2017-01-14",
          "2017-01-21",
          "2017-01-28",
          "2017-02-04",
          "2017-02-11",
          "2017-02-18",
          "2017-02-25",
          "2017-03-04",
          "2017-03-11",
          "2017-03-18",
          "2017-03-25",
          "2017-04-01",
          "2017-04-08",
          "2017-04-15",
          "2017-04-22",
          "2017-04-29",
          "2017-05-06",
          "2017-05-13",
          "2017-05-20",
          "2017-05-27",
          "2017-06-03",
          "2017-06-10",
          "2017-06-17",
          "2017-06-24",
          "2017-07-01",
          "2017-07-08",
          "2017-07-15",
          "2017-07-22",
          "2017-07-29",
          "2017-08-05",
          "2017-08-12",
          "2017-08-19",
          "2017-08-26",
          "2017-09-02",
          "2017-09-09",
          "2017-09-16",
          "2017-09-23",
          "2017-09-30",
          "2017-10-07",
          "2017-10-14",
          "2017-10-21",
          "2017-10-28",
          "2017-11-04",
          "2017-11-11",
          "2017-11-18",
          "2017-11-25",
          "2017-12-02",
          "2017-12-09",
          "2017-12-16",
          "2017-12-23",
          "2017-12-30",
          "2018-01-06",
          "2018-01-13",
          "2018-01-20",
          "2018-01-27",
          "2018-02-03",
          "2018-02-10",
          "2018-02-17",
          "2018-02-24",
          "2018-03-03",
          "2018-03-10",
          "2018-03-17",
          "2018-03-24",
          "2018-03-31",
          "2018-04-07",
          "2018-04-14",
          "2018-04-21",
          "2018-04-28",
          "2018-05-05",
          "2018-05-12",
          "2018-05-19",
          "2018-05-26",
          "2018-06-02",
          "2018-06-09",
          "2018-06-16",
          "2018-06-23",
          "2018-06-30",
          "2018-07-07",
          "2018-07-14",
          "2018-07-21",
          "2018-07-28",
          "2018-08-04",
          "2018-08-11",
          "2018-08-18",
          "2018-08-25",
          "2018-09-01",
          "2018-09-08",
          "2018-09-15",
          "2018-09-22",
          "2018-09-29",
          "2018-10-06",
          "2018-10-13",
          "2018-10-20",
          "2018-10-27",
          "2018-11-03",
          "2018-11-10",
          "2018-11-17",
          "2018-11-24",
          "2018-12-01",
          "2018-12-08",
          "2018-12-15",
          "2018-12-22",
          "2018-12-29",
          "2019-01-05",
          "2019-01-12",
          "2019-01-19",
          "2019-01-26",
          "2019-02-02",
          "2019-02-09",
          "2019-02-16",
          "2019-02-23",
          "2019-03-02",
          "2019-03-09",
          "2019-03-16",
          "2019-03-23",
          "2019-03-30",
          "2019-04-06",
          "2019-04-13",
          "2019-04-20",
          "2019-04-27",
          "2019-05-04",
          "2019-05-11",
          "2019-05-18",
          "2019-05-25",
          "2019-06-01",
          "2019-06-08",
          "2019-06-15",
          "2019-06-22",
          "2019-06-29",
          "2019-07-06",
          "2019-07-13",
          "2019-07-20",
          "2019-07-27",
          "2019-08-03",
          "2019-08-10",
          "2019-08-17",
          "2019-08-24",
          "2019-08-31",
          "2019-09-07",
          "2019-09-14",
          "2019-09-21",
          "2019-09-28",
          "2019-10-05",
          "2019-10-12",
          "2019-10-19",
          "2019-10-26",
          "2019-11-02",
          "2019-11-09",
          "2019-11-16",
          "2019-11-23",
          "2019-11-30",
          "2019-12-07",
          "2019-12-14",
          "2019-12-21",
          "2019-12-28",
          "2020-01-04",
          "2020-01-11",
          "2020-01-18",
          "2020-01-25",
          "2020-02-01",
          "2020-02-08",
          "2020-02-15",
          "2020-02-22",
          "2020-02-29",
          "2020-03-07",
          "2020-03-14",
          "2020-03-21",
          "2020-03-28",
          "2020-04-04",
          "2020-04-11",
          "2020-04-18",
          "2020-04-25",
          "2020-05-02",
          "2020-05-09",
          "2020-05-16",
          "2020-05-23",
          "2020-05-30",
          "2020-06-06",
          "2020-06-13",
          "2020-06-20",
          "2020-06-27",
          "2020-07-04",
          "2020-07-11",
          "2020-07-18",
          "2020-07-25",
          "2020-08-01",
          "2020-08-08",
          "2020-08-15",
          "2020-08-22",
          "2020-08-29",
          "2020-09-05",
          "2020-09-12",
          "2020-09-19",
          "2020-09-26",
          "2020-10-03",
          "2020-10-10",
          "2020-10-17",
          "2020-10-24",
          "2020-10-31",
          "2020-11-07",
          "2020-11-14",
          "2020-11-21",
          "2020-11-28",
          "2020-12-05",
          "2020-12-12",
          "2020-12-19",
          "2020-12-26",
          "2021-01-02"
         ],
         "y": [
          96628,
          113552,
          84168,
          81859,
          98723,
          96852,
          130217,
          116785,
          86866,
          94284,
          95711,
          81772,
          83568,
          82147,
          65965,
          59837,
          62443,
          52412,
          52321,
          67809,
          73363,
          65707,
          57572,
          52244,
          62218,
          61920,
          50259,
          47690,
          48420,
          56507,
          47461,
          40633,
          36902,
          40328,
          52288,
          37990,
          39417,
          48517,
          63061,
          71417,
          66394,
          56599,
          50274,
          44032,
          52615,
          75293,
          81768,
          75123,
          77949,
          90145,
          97059,
          101733,
          107641,
          117934,
          146798,
          134233,
          122944,
          124481,
          149096,
          154301,
          139731,
          102149,
          80024,
          95056,
          105828,
          76744,
          65254,
          58121,
          52798,
          61215,
          66994,
          108218,
          100791,
          67724,
          56737,
          53506,
          49931,
          47431,
          44148,
          46474,
          50388,
          52864,
          57599,
          50482,
          40179,
          36580,
          36092,
          41345,
          48202,
          64549,
          52650,
          46857,
          37226,
          33838,
          35617,
          49238,
          50987,
          62664,
          66343,
          93810,
          82319,
          76705,
          89593,
          73226,
          81339,
          109910,
          113341,
          164252,
          182211,
          151562,
          123357,
          141590,
          106428,
          96049,
          116166,
          108538,
          103332,
          94025,
          102575,
          102838,
          86793,
          68140,
          66580,
          60807,
          61850,
          64014,
          71771,
          59117,
          52669,
          48663,
          50072,
          57808,
          54987,
          46262,
          43637,
          44673,
          42489,
          36792,
          39155,
          40305,
          40890,
          40637,
          40817,
          38455,
          45104,
          44781,
          47464,
          47296,
          43156,
          50739,
          67151,
          73874,
          93688,
          113020,
          76091,
          60121,
          71719,
          85568,
          91096,
          87634,
          119387,
          110708,
          110006,
          114278,
          146514,
          130310,
          112934,
          100017,
          85767,
          76846,
          80041,
          99380,
          91346,
          76166,
          82541,
          87864,
          104950,
          119270,
          96972,
          95638,
          77613,
          74751,
          69562,
          74073,
          88997,
          77295,
          62558,
          53412,
          47979,
          45882,
          45490,
          40869,
          38198,
          40483,
          36666,
          33367,
          40408,
          75014,
          95545,
          83940,
          78316,
          82356,
          78448,
          66746,
          65224,
          77126,
          81410,
          105503,
          108288,
          112148,
          131786,
          173361,
          181385,
          173584,
          120825,
          84077,
          77102,
          84193,
          85568,
          96532,
          120055,
          107583,
          79033,
          63445,
          63040,
          67439,
          63175,
          56863,
          61244,
          89871,
          78629,
          62810,
          69502,
          67337,
          57076,
          50110,
          46576,
          51840,
          50573,
          42299,
          39478,
          39695,
          39191,
          46703,
          51084,
          58228,
          63799,
          71626,
          87908,
          75871,
          78614,
          96170,
          75134,
          63138,
          58125,
          67495,
          105612,
          114416,
          124112,
          110710,
          91618,
          115800,
          120662,
          79945,
          74372,
          81740,
          93562,
          129100,
          133649,
          115008,
          113387,
          118840,
          129489,
          119737,
          116416,
          115316,
          91865,
          71204,
          64891,
          60406,
          63239,
          65468,
          58222,
          56477,
          53172,
          50094,
          51582,
          51802,
          47856,
          47065,
          41893,
          43991,
          43051,
          40312,
          39220,
          46132,
          46920,
          44465,
          54210,
          56386,
          61112,
          61507,
          62296,
          55459,
          59168,
          65697,
          53447,
          52191,
          76181,
          104576,
          115873,
          148347,
          124556,
          180868,
          201648,
          217752,
          203625,
          202358,
          195476,
          178822,
          161976,
          134595,
          114132,
          112957,
          120488,
          91728,
          80034,
          79495,
          76841,
          84976,
          72320,
          66938,
          74495,
          83403,
          71755,
          63353,
          58490,
          52165,
          50717,
          46149,
          53822,
          70415,
          86405,
          65226,
          49596,
          43072,
          39462,
          39854,
          34830,
          33591,
          31162,
          33652,
          30915,
          29413,
          32754,
          41462,
          48584,
          73723,
          69158,
          50739,
          43309,
          54109,
          66277,
          74184,
          79176,
          62485,
          64009,
          88707,
          106418,
          133758,
          139540,
          120168,
          116550,
          130890,
          111522,
          122358,
          147642,
          114125,
          92634,
          109476,
          115810,
          109528,
          110298,
          91539,
          74483,
          67858,
          73033,
          73791,
          70021,
          61838,
          61338,
          56799,
          49812,
          47483,
          54807,
          53862,
          82944,
          88812,
          55595,
          44658,
          41644,
          40582,
          41773,
          46095,
          79786,
          62749,
          50043,
          51271,
          65551,
          74336,
          69683,
          59010,
          46155,
          47546,
          46671,
          69619,
          83137.29000000001,
          104351.17,
          90476.78,
          86438.45999999999,
          101050.77,
          147080.47,
          127611.84,
          126473.93,
          141136.67,
          112586,
          85935.23999999999,
          92279.45,
          95076.84,
          95840.75,
          102423.29,
          95617.67,
          82235.23999999999,
          69583.81,
          62407.73,
          66507.67,
          63205.350000000006,
          61315.11,
          59656.97,
          54763.26,
          55616.06999999999,
          60140.33,
          61994.01,
          70551.03,
          89311.36,
          69038.81,
          77778.15,
          83754.76,
          61338.11000000001,
          56969.45,
          73511.31999999999,
          68467.64000000001,
          84044.68,
          105676.94,
          88830.57,
          98674.04,
          74570.83,
          78284.93,
          134821.16999999998,
          139189.51,
          101137.7,
          92108.73,
          101372.16,
          95433.17,
          107580.49,
          126914.30999999998,
          160399.81,
          143235.56,
          130958.77,
          164704,
          164704,
          164704,
          164704,
          169883,
          171771,
          158000,
          188659,
          192788,
          141009,
          142519,
          121044,
          135044,
          120013,
          106460,
          125271,
          127302,
          125667,
          96537,
          97726,
          86389,
          75708,
          79235,
          78656,
          70287,
          69197,
          65468,
          57646,
          55713,
          52583,
          50616,
          61833,
          58170,
          48561,
          47231,
          43323,
          40509,
          38044,
          35409,
          35278,
          34965,
          49647,
          75529,
          72632,
          60822,
          52794,
          54818,
          55605,
          57559,
          66559,
          74021,
          89118,
          91498,
          95864,
          105830,
          103471,
          129975,
          165707,
          174905,
          140007,
          123397,
          135613,
          120547,
          121637,
          164541,
          211923,
          191930,
          182283,
          151718,
          136287,
          127498,
          105508,
          95977,
          94577,
          79821,
          70518,
          66670,
          66256,
          78675,
          74262,
          61669,
          77609,
          68686,
          65108,
          67623,
          80226,
          92945,
          64115,
          86128,
          63522,
          55366,
          54466,
          46854,
          44863,
          42565,
          49942,
          87145,
          92785,
          74246,
          60350,
          62999,
          81269,
          74099,
          60174,
          69628,
          83778,
          85721,
          87522,
          107003,
          139069,
          146687,
          141715,
          110555,
          84584,
          91892,
          91069,
          87109,
          66626,
          66831,
          76423,
          75171,
          67804,
          66673,
          68814,
          95668,
          80401,
          70650,
          70936,
          70240,
          86911,
          104447,
          116258,
          148844,
          109130,
          79351,
          71112,
          66064,
          63307,
          53772,
          48695,
          44334,
          41454,
          38805,
          37103,
          36197,
          44470,
          49985,
          40944,
          35226,
          42383,
          46740,
          44779,
          51708,
          58097,
          51905,
          52756,
          55104,
          64888,
          75649,
          72206.72,
          81544,
          83969,
          112451,
          105333,
          108588,
          137553,
          152811,
          109508,
          95085,
          112333,
          134493,
          134342,
          130987,
          128648,
          141987,
          126327,
          89891,
          76790,
          77632,
          74147,
          72855,
          110650,
          100260,
          93437,
          150496,
          165996,
          116637,
          84194,
          82543,
          80201,
          68083,
          57768,
          53322,
          50117,
          49400,
          48115,
          46604,
          52503,
          62122,
          83455,
          71469,
          61674,
          62945,
          52636,
          53142,
          56535,
          57961,
          67731,
          75176,
          76692,
          70292,
          69375,
          78378,
          70769,
          66315,
          61941,
          55271,
          41308,
          40020,
          63142,
          70401,
          75325,
          89138,
          94995,
          76811,
          75195,
          75127,
          92160,
          82693,
          68050,
          54801,
          49701,
          78952,
          72760,
          149506,
          95675,
          68626,
          63759,
          55565,
          52481,
          56674,
          66985,
          59514,
          48927,
          44288,
          40999,
          40443,
          43566,
          39498,
          49932,
          91563,
          72400,
          42670,
          37142,
          36586,
          42073,
          51268,
          47511,
          52731,
          62070,
          78833,
          73929,
          88612,
          96679.66,
          83064,
          67752.66,
          51705.85,
          46264.83,
          59936.96,
          64815.77999999999,
          92713.23,
          109648.19,
          91080.96,
          90372.93,
          99824.35,
          105021.63,
          106905.07,
          95516.37,
          87500.53000000001,
          80349.73999999999,
          79304.27999999998,
          77874.16,
          82338.85,
          82701.8,
          75476.66,
          80793.15,
          72271.29,
          67220.96,
          61480.17999999999,
          58820.95,
          103340.05,
          136040.82,
          127575.22,
          86796.28,
          68516.34,
          56693.09,
          50556.5,
          48125.87,
          47410.43,
          52170.74999999999,
          87306.69,
          74177.09,
          62120.01,
          71392.20000000001,
          90043.09,
          78420.28,
          59343.42,
          72786.98000000001,
          90822.78,
          96590.53999999998,
          134142.41,
          159466.16999999998,
          147097.61000000002,
          148156.33000000002,
          134532.38,
          129781.99,
          154839.31,
          181634.01,
          229019.6,
          208383.87,
          168690.08999999997,
          136921.38,
          122782.13,
          138024.40999999997,
          182239.73,
          164867.98000000004,
          153268.97999999998,
          140283.08000000002,
          123873.1,
          109369.99,
          88226.44,
          71227.85,
          69768.76,
          75847.6,
          89695.75,
          89660.47,
          92278.46,
          108942.23,
          117401.2,
          118856.91,
          110193.26,
          92039.91,
          74164.26,
          67629.04,
          75986.70000000001,
          64003.58,
          56594.36,
          55875.600000000006,
          61134.8,
          93280.24,
          79509.42,
          72779.37,
          67157.78,
          55610.34,
          47888.52,
          45271.920000000006,
          48919.76,
          63318.13,
          68959.5,
          79416.54999999999,
          62660.52999999999,
          56799.62,
          66588.12,
          67245.06,
          68350.71,
          84374.56,
          90053.62,
          90016.04000000001,
          78865.03,
          76730.87999999999,
          77822.05,
          104577.55000000002,
          128547.81999999998,
          117294.76,
          109679.69999999998,
          99372.01000000002,
          73517.04000000001,
          86597.44,
          92877.66,
          79583.44,
          77047.13,
          73080.94,
          72790.07,
          76017.91,
          71376.25,
          74479.48,
          74486.87,
          69285.03,
          112512.02,
          113400.73,
          106474.17,
          113289.77,
          83045.81,
          68720.52,
          59365.19,
          53100.03,
          49575.58,
          47116.26999999999,
          45498.93,
          43878.89,
          46346.19,
          57457.29,
          53626.68,
          42582.08,
          36684.77,
          34294.09,
          32645.910000000003,
          37464.43,
          47936.12999999999,
          45644.57000000001,
          46193.82,
          94751.98,
          104483.43,
          90831.39,
          79623.66,
          86104.48999999999,
          100269.63,
          100492.17,
          84228.73,
          111654.86,
          147154.97,
          151258.91999999998,
          168012.72999999998,
          167881.72999999998,
          124401.73,
          107049.87,
          114161.28,
          111746.17,
          106792.55,
          118530.49,
          114201.59,
          108857.71,
          109717.95,
          117956.45,
          98849.57,
          84344.29000000001,
          74422.17,
          65089.88999999999,
          58150.48,
          55097.69,
          55692.96,
          55423.18000000001,
          54047.13,
          51574.83,
          52146.39,
          48779.22,
          45290.49,
          42764.76,
          41003.93,
          39651.280000000006,
          38725.81999999999,
          44593.38,
          45484.59,
          41919.22,
          40319.41,
          42510.61,
          37165.64,
          42921.92,
          57126.15,
          55207.02,
          62266.19,
          77659.09,
          85080.71,
          95034.91,
          82724.56999999999,
          75948.98000000001,
          85168.53,
          90863.35,
          106698.1,
          91925.89,
          74355.22,
          62211.98,
          65302.94,
          87731,
          81515,
          68335,
          58771,
          60268,
          56478,
          71175,
          91475,
          99961,
          123766,
          120991,
          111926,
          92722,
          75605,
          81480,
          94447,
          82500,
          71124,
          75673,
          63279,
          72300,
          93334,
          77894,
          61165,
          53229,
          50439,
          50844,
          54586,
          46500,
          41730,
          39817,
          40237,
          38051,
          34694,
          34868,
          37636,
          34563,
          31782,
          31111,
          31483,
          30420,
          31302,
          31750,
          31079,
          34562,
          41853,
          40184,
          48968,
          68080,
          85345,
          105604,
          77673.43000000001,
          66322.22,
          81353.70000000001,
          84590.69,
          75376.20999999999,
          94560.93,
          100339.47999999998,
          118291.43,
          123381.66,
          117645.74000000002,
          122910.44,
          101762.01,
          77693.56000000001,
          77737.5,
          73351.19,
          66580.40999999999,
          59030.420000000006,
          56568.69,
          53065.33,
          48563.83,
          49314.88,
          52486.46000000001,
          51583.05,
          50325.78,
          50316.1,
          44642.75,
          51281.28999999999,
          54447.46999999999,
          44102.55,
          38430.38,
          35436.259999999995,
          33531.68,
          32650.42,
          42944.83,
          65715.94,
          47821.89,
          36802.41,
          30527.570000000003,
          27145.84,
          26098.6,
          26311.64,
          24034.6,
          25417.31,
          28659.38,
          35336.95,
          33987.350000000006,
          31442.490000000005,
          37720.34,
          39122.10999999999,
          37020.23,
          46404.99,
          63216.66000000001,
          59164.67,
          71591
         ]
        },
        {
         "mode": "markers",
         "name": "Forecast",
         "type": "scatter",
         "x": [
          "2004-07-31",
          "2005-02-19",
          "2014-05-24",
          "2003-08-16",
          "2020-10-24",
          "2005-10-08",
          "2015-01-31",
          "2005-12-31",
          "2011-02-26",
          "2005-03-05",
          "2011-02-05",
          "2013-03-16",
          "2018-04-28",
          "2013-08-10",
          "2019-04-06",
          "2007-03-31",
          "2017-06-24",
          "2006-01-07",
          "2004-09-18",
          "2001-08-11",
          "2019-06-22",
          "2008-05-31",
          "2006-09-09",
          "2012-11-24",
          "2020-10-17",
          "2003-05-31",
          "2012-07-07",
          "2016-06-04",
          "2014-10-25",
          "2017-03-11",
          "2014-09-20",
          "2015-05-23",
          "2008-08-09",
          "2003-07-19",
          "2019-07-06",
          "2005-04-23",
          "2019-01-12",
          "2016-12-31",
          "2006-11-25",
          "2008-01-12",
          "2009-03-28",
          "2008-04-12",
          "2014-03-15",
          "2020-04-11",
          "2020-07-25",
          "2018-06-02",
          "2018-04-07",
          "2015-05-09",
          "2005-03-19",
          "2018-01-13",
          "2018-07-14",
          "2006-03-25",
          "2016-04-23",
          "2004-05-15",
          "2005-04-09",
          "2017-04-08",
          "2012-02-25",
          "2015-06-13",
          "2012-08-04",
          "2012-07-21",
          "2020-05-09",
          "2011-12-10",
          "2012-03-17",
          "2007-03-24",
          "2009-04-18",
          "2002-11-23",
          "2020-08-08",
          "2016-09-24",
          "2015-07-25",
          "2018-10-20",
          "2002-06-22",
          "2018-10-06",
          "2011-05-14",
          "2007-11-10",
          "2010-08-28",
          "2006-05-27",
          "2017-02-25",
          "2017-03-18",
          "2013-08-17",
          "2003-08-02",
          "2012-07-14",
          "2019-11-02",
          "2001-06-09",
          "2013-01-12",
          "2013-04-13",
          "2016-09-17",
          "2010-12-18",
          "2016-09-03",
          "2012-09-15",
          "2008-11-22",
          "2010-10-02",
          "2008-05-17",
          "2020-11-14",
          "2010-07-24",
          "2012-04-14",
          "2018-02-10",
          "2008-07-12",
          "2019-09-21",
          "2018-05-05",
          "2002-06-29",
          "2013-09-28",
          "2017-06-17",
          "2020-09-12",
          "2010-01-02",
          "2002-05-18",
          "2010-04-03",
          "2003-12-13",
          "2015-10-17",
          "2017-11-11",
          "2008-05-24",
          "2016-08-20",
          "2003-06-28",
          "2004-12-11",
          "2006-05-06",
          "2014-02-01",
          "2003-12-06",
          "2009-04-25",
          "2016-01-30",
          "2018-03-24",
          "2010-10-30",
          "2017-08-05",
          "2009-02-21",
          "2001-12-22",
          "2016-07-23",
          "2014-11-08",
          "2014-07-19",
          "2019-03-09",
          "2016-07-09",
          "2010-06-05",
          "2003-03-29",
          "2004-04-10",
          "2013-03-30",
          "2013-02-02",
          "2009-05-09",
          "2006-06-10",
          "2013-11-02",
          "2016-06-25",
          "2012-12-29",
          "2015-02-28",
          "2011-03-19",
          "2004-06-05",
          "2014-03-08",
          "2005-08-13",
          "2001-07-28",
          "2016-04-16",
          "2018-06-16",
          "2015-12-19",
          "2009-06-27",
          "2007-10-06",
          "2003-09-27",
          "2017-10-14",
          "2007-06-02",
          "2008-05-03",
          "2011-01-01",
          "2003-08-23",
          "2005-06-04",
          "2007-01-13",
          "2020-05-23",
          "2015-08-15",
          "2006-02-11",
          "2009-01-10",
          "2002-08-24",
          "2003-10-25",
          "2004-08-14",
          "2014-06-21",
          "2019-01-19",
          "2017-08-26",
          "2009-10-03",
          "2002-11-30",
          "2004-11-20",
          "2003-02-01",
          "2018-04-21",
          "2017-02-18",
          "2004-12-25",
          "2011-12-24",
          "2014-07-12",
          "2007-04-28",
          "2008-08-23",
          "2010-09-18",
          "2008-11-15",
          "2003-02-08",
          "2013-02-09",
          "2002-01-12",
          "2015-05-16",
          "2001-08-18",
          "2017-05-20",
          "2020-12-05",
          "2009-12-26",
          "2013-08-31",
          "2020-02-29",
          "2019-03-02",
          "2018-08-18",
          "2014-11-22",
          "2018-05-19",
          "2004-04-17",
          "2011-04-09",
          "2012-10-13",
          "2008-04-26",
          "2005-04-02",
          "2020-10-31",
          "2015-02-21",
          "2002-02-09",
          "2003-12-20",
          "2018-07-07",
          "2011-06-18",
          "2010-05-15",
          "2004-07-03",
          "2007-04-07",
          "2019-05-25"
         ],
         "y": [
          70193.4921875,
          90693.0546875,
          49355.09765625,
          45345.71484375,
          27913.12890625,
          75135.375,
          52445.6953125,
          105753.625,
          116889.2734375,
          76994.109375,
          113012.8359375,
          109329.3125,
          71173.984375,
          61052.421875,
          77928.8828125,
          114996.8515625,
          68515.7578125,
          87283.453125,
          36825.53515625,
          44040.0390625,
          57803.06640625,
          62582.2265625,
          47818.7890625,
          58008.08203125,
          26440.302734375,
          61999.515625,
          74993.9609375,
          99931.75,
          40520.06640625,
          97976.921875,
          39944.28515625,
          79947.9140625,
          49135.83203125,
          57344.55859375,
          51905.6640625,
          60273.55078125,
          93752.328125,
          91417.359375,
          50004.1328125,
          63630.80859375,
          88068.46875,
          91000.515625,
          79422.640625,
          72120.4921875,
          38420.64453125,
          52003.609375,
          116328.0234375,
          70374.3984375,
          77179.15625,
          146543.375,
          40750.77734375,
          111425.0703125,
          67243.0703125,
          87771.8828125,
          89854.640625,
          72431.3046875,
          96485.6171875,
          68667.890625,
          59899.3359375,
          68026.890625,
          50116.671875,
          62000.328125,
          60659.14453125,
          114330.1015625,
          87041.15625,
          65793.7421875,
          34021.6171875,
          52150.09375,
          110624.984375,
          80480.625,
          51770.765625,
          50548.20703125,
          84964.859375,
          49469.04296875,
          39058.98828125,
          58799.30859375,
          98047.328125,
          90604.8359375,
          54810.1171875,
          43562.4921875,
          78236.25,
          38618.5859375,
          65162.68359375,
          85994.109375,
          125201.1640625,
          66302.09375,
          92748.2578125,
          72222.0234375,
          35857.27734375,
          71282.796875,
          46989.55859375,
          75593.0234375,
          32553.12890625,
          61567.9921875,
          63755.79296875,
          115142.40625,
          52130.52734375,
          32875.64453125,
          60146.171875,
          47991.5625,
          53726.234375,
          109161.0703125,
          36438.60546875,
          143638.046875,
          67819.5859375,
          126779.5703125,
          98538.5,
          87207.5234375,
          101242.609375,
          70249.3359375,
          57019.2265625,
          50522.890625,
          73975.890625,
          66923.1328125,
          64074.41015625,
          76665.2578125,
          77892.1640625,
          155708.3125,
          104799.3828125,
          55868.15625,
          42370.53515625,
          135526.65625,
          98151.0546875,
          72881.421875,
          45521.2734375,
          53849.453125,
          107707.75,
          66354.953125,
          64050.75,
          102502.0546875,
          77108.59375,
          127795.828125,
          93965.0078125,
          60232.52734375,
          52270.72265625,
          64117.30859375,
          94703.484375,
          79585.421875,
          110146.125,
          196849.390625,
          113910.9453125,
          72177.7578125,
          40523.421875,
          46830.33203125,
          78974.9921875,
          48853.25390625,
          146701.234375,
          57251.76171875,
          33911.51953125,
          40865.77734375,
          48864.8515625,
          82872.0625,
          99868.53125,
          107568.28125,
          41902.60546875,
          89554.3984375,
          189851.671875,
          49754.2890625,
          53541.09375,
          87840.46875,
          105371.359375,
          40042.578125,
          41365.59765625,
          50917.19921875,
          72500.5703125,
          81939.6171875,
          56975.70703125,
          105099.109375,
          65694.7109375,
          85148.4375,
          166866.0625,
          78209.078125,
          105513.953125,
          77638.0859375,
          82651.671875,
          52966.13671875,
          71559.3203125,
          80092.6953125,
          34946.09375,
          77211.4765625,
          171336.765625,
          110654.5078125,
          101976.296875,
          83312.1640625,
          39772.1953125,
          62660.859375,
          37094.2890625,
          123074.75,
          47159.62109375,
          117760.2109375,
          92771.1875,
          45700.328125,
          48044.4609375,
          51967.1328125,
          82824.7421875,
          131032.078125,
          41059.48046875,
          109681.015625,
          113454.359375,
          30688.25,
          93519.4453125,
          125954.0703125,
          112911.1171875,
          44154.0078125,
          78359.640625,
          72024.7890625,
          72019.8359375,
          74779.46875,
          67700.9375
         ]
        }
       ],
       "layout": {
        "template": {
         "data": {
          "bar": [
           {
            "error_x": {
             "color": "#2a3f5f"
            },
            "error_y": {
             "color": "#2a3f5f"
            },
            "marker": {
             "line": {
              "color": "#E5ECF6",
              "width": 0.5
             },
             "pattern": {
              "fillmode": "overlay",
              "size": 10,
              "solidity": 0.2
             }
            },
            "type": "bar"
           }
          ],
          "barpolar": [
           {
            "marker": {
             "line": {
              "color": "#E5ECF6",
              "width": 0.5
             },
             "pattern": {
              "fillmode": "overlay",
              "size": 10,
              "solidity": 0.2
             }
            },
            "type": "barpolar"
           }
          ],
          "carpet": [
           {
            "aaxis": {
             "endlinecolor": "#2a3f5f",
             "gridcolor": "white",
             "linecolor": "white",
             "minorgridcolor": "white",
             "startlinecolor": "#2a3f5f"
            },
            "baxis": {
             "endlinecolor": "#2a3f5f",
             "gridcolor": "white",
             "linecolor": "white",
             "minorgridcolor": "white",
             "startlinecolor": "#2a3f5f"
            },
            "type": "carpet"
           }
          ],
          "choropleth": [
           {
            "colorbar": {
             "outlinewidth": 0,
             "ticks": ""
            },
            "type": "choropleth"
           }
          ],
          "contour": [
           {
            "colorbar": {
             "outlinewidth": 0,
             "ticks": ""
            },
            "colorscale": [
             [
              0,
              "#0d0887"
             ],
             [
              0.1111111111111111,
              "#46039f"
             ],
             [
              0.2222222222222222,
              "#7201a8"
             ],
             [
              0.3333333333333333,
              "#9c179e"
             ],
             [
              0.4444444444444444,
              "#bd3786"
             ],
             [
              0.5555555555555556,
              "#d8576b"
             ],
             [
              0.6666666666666666,
              "#ed7953"
             ],
             [
              0.7777777777777778,
              "#fb9f3a"
             ],
             [
              0.8888888888888888,
              "#fdca26"
             ],
             [
              1,
              "#f0f921"
             ]
            ],
            "type": "contour"
           }
          ],
          "contourcarpet": [
           {
            "colorbar": {
             "outlinewidth": 0,
             "ticks": ""
            },
            "type": "contourcarpet"
           }
          ],
          "heatmap": [
           {
            "colorbar": {
             "outlinewidth": 0,
             "ticks": ""
            },
            "colorscale": [
             [
              0,
              "#0d0887"
             ],
             [
              0.1111111111111111,
              "#46039f"
             ],
             [
              0.2222222222222222,
              "#7201a8"
             ],
             [
              0.3333333333333333,
              "#9c179e"
             ],
             [
              0.4444444444444444,
              "#bd3786"
             ],
             [
              0.5555555555555556,
              "#d8576b"
             ],
             [
              0.6666666666666666,
              "#ed7953"
             ],
             [
              0.7777777777777778,
              "#fb9f3a"
             ],
             [
              0.8888888888888888,
              "#fdca26"
             ],
             [
              1,
              "#f0f921"
             ]
            ],
            "type": "heatmap"
           }
          ],
          "heatmapgl": [
           {
            "colorbar": {
             "outlinewidth": 0,
             "ticks": ""
            },
            "colorscale": [
             [
              0,
              "#0d0887"
             ],
             [
              0.1111111111111111,
              "#46039f"
             ],
             [
              0.2222222222222222,
              "#7201a8"
             ],
             [
              0.3333333333333333,
              "#9c179e"
             ],
             [
              0.4444444444444444,
              "#bd3786"
             ],
             [
              0.5555555555555556,
              "#d8576b"
             ],
             [
              0.6666666666666666,
              "#ed7953"
             ],
             [
              0.7777777777777778,
              "#fb9f3a"
             ],
             [
              0.8888888888888888,
              "#fdca26"
             ],
             [
              1,
              "#f0f921"
             ]
            ],
            "type": "heatmapgl"
           }
          ],
          "histogram": [
           {
            "marker": {
             "pattern": {
              "fillmode": "overlay",
              "size": 10,
              "solidity": 0.2
             }
            },
            "type": "histogram"
           }
          ],
          "histogram2d": [
           {
            "colorbar": {
             "outlinewidth": 0,
             "ticks": ""
            },
            "colorscale": [
             [
              0,
              "#0d0887"
             ],
             [
              0.1111111111111111,
              "#46039f"
             ],
             [
              0.2222222222222222,
              "#7201a8"
             ],
             [
              0.3333333333333333,
              "#9c179e"
             ],
             [
              0.4444444444444444,
              "#bd3786"
             ],
             [
              0.5555555555555556,
              "#d8576b"
             ],
             [
              0.6666666666666666,
              "#ed7953"
             ],
             [
              0.7777777777777778,
              "#fb9f3a"
             ],
             [
              0.8888888888888888,
              "#fdca26"
             ],
             [
              1,
              "#f0f921"
             ]
            ],
            "type": "histogram2d"
           }
          ],
          "histogram2dcontour": [
           {
            "colorbar": {
             "outlinewidth": 0,
             "ticks": ""
            },
            "colorscale": [
             [
              0,
              "#0d0887"
             ],
             [
              0.1111111111111111,
              "#46039f"
             ],
             [
              0.2222222222222222,
              "#7201a8"
             ],
             [
              0.3333333333333333,
              "#9c179e"
             ],
             [
              0.4444444444444444,
              "#bd3786"
             ],
             [
              0.5555555555555556,
              "#d8576b"
             ],
             [
              0.6666666666666666,
              "#ed7953"
             ],
             [
              0.7777777777777778,
              "#fb9f3a"
             ],
             [
              0.8888888888888888,
              "#fdca26"
             ],
             [
              1,
              "#f0f921"
             ]
            ],
            "type": "histogram2dcontour"
           }
          ],
          "mesh3d": [
           {
            "colorbar": {
             "outlinewidth": 0,
             "ticks": ""
            },
            "type": "mesh3d"
           }
          ],
          "parcoords": [
           {
            "line": {
             "colorbar": {
              "outlinewidth": 0,
              "ticks": ""
             }
            },
            "type": "parcoords"
           }
          ],
          "pie": [
           {
            "automargin": true,
            "type": "pie"
           }
          ],
          "scatter": [
           {
            "fillpattern": {
             "fillmode": "overlay",
             "size": 10,
             "solidity": 0.2
            },
            "type": "scatter"
           }
          ],
          "scatter3d": [
           {
            "line": {
             "colorbar": {
              "outlinewidth": 0,
              "ticks": ""
             }
            },
            "marker": {
             "colorbar": {
              "outlinewidth": 0,
              "ticks": ""
             }
            },
            "type": "scatter3d"
           }
          ],
          "scattercarpet": [
           {
            "marker": {
             "colorbar": {
              "outlinewidth": 0,
              "ticks": ""
             }
            },
            "type": "scattercarpet"
           }
          ],
          "scattergeo": [
           {
            "marker": {
             "colorbar": {
              "outlinewidth": 0,
              "ticks": ""
             }
            },
            "type": "scattergeo"
           }
          ],
          "scattergl": [
           {
            "marker": {
             "colorbar": {
              "outlinewidth": 0,
              "ticks": ""
             }
            },
            "type": "scattergl"
           }
          ],
          "scattermapbox": [
           {
            "marker": {
             "colorbar": {
              "outlinewidth": 0,
              "ticks": ""
             }
            },
            "type": "scattermapbox"
           }
          ],
          "scatterpolar": [
           {
            "marker": {
             "colorbar": {
              "outlinewidth": 0,
              "ticks": ""
             }
            },
            "type": "scatterpolar"
           }
          ],
          "scatterpolargl": [
           {
            "marker": {
             "colorbar": {
              "outlinewidth": 0,
              "ticks": ""
             }
            },
            "type": "scatterpolargl"
           }
          ],
          "scatterternary": [
           {
            "marker": {
             "colorbar": {
              "outlinewidth": 0,
              "ticks": ""
             }
            },
            "type": "scatterternary"
           }
          ],
          "surface": [
           {
            "colorbar": {
             "outlinewidth": 0,
             "ticks": ""
            },
            "colorscale": [
             [
              0,
              "#0d0887"
             ],
             [
              0.1111111111111111,
              "#46039f"
             ],
             [
              0.2222222222222222,
              "#7201a8"
             ],
             [
              0.3333333333333333,
              "#9c179e"
             ],
             [
              0.4444444444444444,
              "#bd3786"
             ],
             [
              0.5555555555555556,
              "#d8576b"
             ],
             [
              0.6666666666666666,
              "#ed7953"
             ],
             [
              0.7777777777777778,
              "#fb9f3a"
             ],
             [
              0.8888888888888888,
              "#fdca26"
             ],
             [
              1,
              "#f0f921"
             ]
            ],
            "type": "surface"
           }
          ],
          "table": [
           {
            "cells": {
             "fill": {
              "color": "#EBF0F8"
             },
             "line": {
              "color": "white"
             }
            },
            "header": {
             "fill": {
              "color": "#C8D4E3"
             },
             "line": {
              "color": "white"
             }
            },
            "type": "table"
           }
          ]
         },
         "layout": {
          "annotationdefaults": {
           "arrowcolor": "#2a3f5f",
           "arrowhead": 0,
           "arrowwidth": 1
          },
          "autotypenumbers": "strict",
          "coloraxis": {
           "colorbar": {
            "outlinewidth": 0,
            "ticks": ""
           }
          },
          "colorscale": {
           "diverging": [
            [
             0,
             "#8e0152"
            ],
            [
             0.1,
             "#c51b7d"
            ],
            [
             0.2,
             "#de77ae"
            ],
            [
             0.3,
             "#f1b6da"
            ],
            [
             0.4,
             "#fde0ef"
            ],
            [
             0.5,
             "#f7f7f7"
            ],
            [
             0.6,
             "#e6f5d0"
            ],
            [
             0.7,
             "#b8e186"
            ],
            [
             0.8,
             "#7fbc41"
            ],
            [
             0.9,
             "#4d9221"
            ],
            [
             1,
             "#276419"
            ]
           ],
           "sequential": [
            [
             0,
             "#0d0887"
            ],
            [
             0.1111111111111111,
             "#46039f"
            ],
            [
             0.2222222222222222,
             "#7201a8"
            ],
            [
             0.3333333333333333,
             "#9c179e"
            ],
            [
             0.4444444444444444,
             "#bd3786"
            ],
            [
             0.5555555555555556,
             "#d8576b"
            ],
            [
             0.6666666666666666,
             "#ed7953"
            ],
            [
             0.7777777777777778,
             "#fb9f3a"
            ],
            [
             0.8888888888888888,
             "#fdca26"
            ],
            [
             1,
             "#f0f921"
            ]
           ],
           "sequentialminus": [
            [
             0,
             "#0d0887"
            ],
            [
             0.1111111111111111,
             "#46039f"
            ],
            [
             0.2222222222222222,
             "#7201a8"
            ],
            [
             0.3333333333333333,
             "#9c179e"
            ],
            [
             0.4444444444444444,
             "#bd3786"
            ],
            [
             0.5555555555555556,
             "#d8576b"
            ],
            [
             0.6666666666666666,
             "#ed7953"
            ],
            [
             0.7777777777777778,
             "#fb9f3a"
            ],
            [
             0.8888888888888888,
             "#fdca26"
            ],
            [
             1,
             "#f0f921"
            ]
           ]
          },
          "colorway": [
           "#636efa",
           "#EF553B",
           "#00cc96",
           "#ab63fa",
           "#FFA15A",
           "#19d3f3",
           "#FF6692",
           "#B6E880",
           "#FF97FF",
           "#FECB52"
          ],
          "font": {
           "color": "#2a3f5f"
          },
          "geo": {
           "bgcolor": "white",
           "lakecolor": "white",
           "landcolor": "#E5ECF6",
           "showlakes": true,
           "showland": true,
           "subunitcolor": "white"
          },
          "hoverlabel": {
           "align": "left"
          },
          "hovermode": "closest",
          "mapbox": {
           "style": "light"
          },
          "paper_bgcolor": "white",
          "plot_bgcolor": "#E5ECF6",
          "polar": {
           "angularaxis": {
            "gridcolor": "white",
            "linecolor": "white",
            "ticks": ""
           },
           "bgcolor": "#E5ECF6",
           "radialaxis": {
            "gridcolor": "white",
            "linecolor": "white",
            "ticks": ""
           }
          },
          "scene": {
           "xaxis": {
            "backgroundcolor": "#E5ECF6",
            "gridcolor": "white",
            "gridwidth": 2,
            "linecolor": "white",
            "showbackground": true,
            "ticks": "",
            "zerolinecolor": "white"
           },
           "yaxis": {
            "backgroundcolor": "#E5ECF6",
            "gridcolor": "white",
            "gridwidth": 2,
            "linecolor": "white",
            "showbackground": true,
            "ticks": "",
            "zerolinecolor": "white"
           },
           "zaxis": {
            "backgroundcolor": "#E5ECF6",
            "gridcolor": "white",
            "gridwidth": 2,
            "linecolor": "white",
            "showbackground": true,
            "ticks": "",
            "zerolinecolor": "white"
           }
          },
          "shapedefaults": {
           "line": {
            "color": "#2a3f5f"
           }
          },
          "ternary": {
           "aaxis": {
            "gridcolor": "white",
            "linecolor": "white",
            "ticks": ""
           },
           "baxis": {
            "gridcolor": "white",
            "linecolor": "white",
            "ticks": ""
           },
           "bgcolor": "#E5ECF6",
           "caxis": {
            "gridcolor": "white",
            "linecolor": "white",
            "ticks": ""
           }
          },
          "title": {
           "x": 0.05
          },
          "xaxis": {
           "automargin": true,
           "gridcolor": "white",
           "linecolor": "white",
           "ticks": "",
           "title": {
            "standoff": 15
           },
           "zerolinecolor": "white",
           "zerolinewidth": 2
          },
          "yaxis": {
           "automargin": true,
           "gridcolor": "white",
           "linecolor": "white",
           "ticks": "",
           "title": {
            "standoff": 15
           },
           "zerolinecolor": "white",
           "zerolinewidth": 2
          }
         }
        },
        "title": {
         "text": "Predição - Itaipu"
        }
       }
      }
     },
     "metadata": {},
     "output_type": "display_data"
    }
   ],
   "source": [
    "fig = go.Figure()\n",
    "\n",
    "fig.add_trace(\n",
    "    go.Scatter(\n",
    "        x=df_ts.index,\n",
    "        y=df_ts.vazao_itaipu.values, # vazão observada\n",
    "        mode='lines',\n",
    "        name='Vazão observada',\n",
    "    )\n",
    ")\n",
    "\n",
    "fig.add_trace(\n",
    "    go.Scatter(\n",
    "        x=y_test[:,0],\n",
    "        y=y_pred.ravel(), # vazão prevista\n",
    "        mode='markers',\n",
    "        name='Forecast',\n",
    "    )\n",
    ")\n",
    "\n",
    "fig.update_layout(title=f'Predição - Itaipu')\n",
    "\n",
    "fig.write_image(f\"{dir_figures}/history_measured_vs_predicted_plot.png\", width=1400, scale=1)\n",
    "\n",
    "fig.show()"
   ]
  },
  {
   "cell_type": "markdown",
   "metadata": {},
   "source": [
    "### Cálculo da importância de variáveis"
   ]
  },
  {
   "cell_type": "code",
   "execution_count": 26,
   "metadata": {},
   "outputs": [],
   "source": [
    "# def gradient_importance(seq, model):\n",
    "#     seq = tf.Variable(seq[np.newaxis,:,:], dtype=tf.float32)\n",
    "#     with tf.GradientTape() as tape:\n",
    "#         predictions = model(seq)\n",
    "#     grads = tape.gradient(predictions, seq)\n",
    "#     grads = tf.reduce_mean(grads, axis=1).numpy()[0]\n",
    "    \n",
    "#     return grads"
   ]
  },
  {
   "cell_type": "code",
   "execution_count": 27,
   "metadata": {},
   "outputs": [],
   "source": [
    "# X_train[0,:,1:]"
   ]
  },
  {
   "cell_type": "code",
   "execution_count": 28,
   "metadata": {},
   "outputs": [],
   "source": [
    "# gradient_importance(X_train[0,:,1:], model)"
   ]
  },
  {
   "cell_type": "code",
   "execution_count": 29,
   "metadata": {},
   "outputs": [],
   "source": [
    "# importances = []\n",
    "# for i in range(0, X_train.shape[0]):\n",
    "#     importances.append(gradient_importance(X_train[i,:,1:], model))"
   ]
  },
  {
   "cell_type": "code",
   "execution_count": 30,
   "metadata": {},
   "outputs": [],
   "source": [
    "# importance = np.mean(np.array(importances), axis=0)\n",
    "# importance"
   ]
  },
  {
   "cell_type": "code",
   "execution_count": 31,
   "metadata": {},
   "outputs": [],
   "source": [
    "# plt.figure(figsize=(6,4))\n",
    "# plt.title('Importância das Variáveis')\n",
    "\n",
    "# plt.bar(df_ts.columns.values[:importance.shape[0]],importance.tolist())\n",
    "\n",
    "# plt.savefig(f\"{dir_figures}/feature_importance.png\")\n",
    "# plt.show()"
   ]
  }
 ],
 "metadata": {
  "kernelspec": {
   "display_name": ".euros",
   "language": "python",
   "name": ".euros"
  },
  "language_info": {
   "codemirror_mode": {
    "name": "ipython",
    "version": 3
   },
   "file_extension": ".py",
   "mimetype": "text/x-python",
   "name": "python",
   "nbconvert_exporter": "python",
   "pygments_lexer": "ipython3",
   "version": "3.10.12"
  }
 },
 "nbformat": 4,
 "nbformat_minor": 2
}
