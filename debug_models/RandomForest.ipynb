{
 "cells": [
  {
   "cell_type": "code",
   "execution_count": 1,
   "metadata": {},
   "outputs": [
    {
     "name": "stderr",
     "output_type": "stream",
     "text": [
      "/usr/lib/python3/dist-packages/scipy/__init__.py:146: UserWarning: A NumPy version >=1.17.3 and <1.25.0 is required for this version of SciPy (detected version 1.26.3\n",
      "  warnings.warn(f\"A NumPy version >={np_minversion} and <{np_maxversion}\"\n"
     ]
    }
   ],
   "source": [
    "import pandas as pd\n",
    "import matplotlib.pyplot as plt\n",
    "from sklearn.preprocessing import MinMaxScaler\n",
    "import numpy as np\n",
    "from sklearn.model_selection import train_test_split\n",
    "import plotly.graph_objects as go\n",
    "from sklearn.ensemble import RandomForestRegressor\n",
    "from sklearn.metrics import mean_squared_error, mean_absolute_error, r2_score\n",
    "import os\n",
    "from xgboost import plot_importance\n",
    "import matplotlib.pyplot as plt"
   ]
  },
  {
   "cell_type": "markdown",
   "metadata": {},
   "source": [
    "### Prepara o dataset ###"
   ]
  },
  {
   "cell_type": "code",
   "execution_count": 2,
   "metadata": {},
   "outputs": [],
   "source": [
    "RANDOM_SEED=21\n",
    "\n",
    "model = \"random_forest\"\n",
    "src_type = \"regular\"\n",
    "\n",
    "dir_results = f\"../../data/results/{src_type}\"\n",
    "dir_figures = f\"{dir_results}/figures/{model}\"\n",
    "\n",
    "if not os.path.exists(dir_figures):\n",
    "    os.makedirs(dir_figures)\n",
    "\n",
    "path_datasets = \"../../data/datasets\"\n",
    "dataset = \"Itaipu_POC_VAZAO_V2.csv\"\n",
    "\n",
    "## Número de Semanas Operativas Retroativas a serem utilizadas no Treinamento dos Algoritmos\n",
    "n = 3\n",
    "\n",
    "## Número da Semana Operativa Futura da Vazão a ser prevista pelos Modelos. min(f)=1\n",
    "f = 3"
   ]
  },
  {
   "cell_type": "code",
   "execution_count": 3,
   "metadata": {},
   "outputs": [
    {
     "data": {
      "text/html": [
       "<div>\n",
       "<style scoped>\n",
       "    .dataframe tbody tr th:only-of-type {\n",
       "        vertical-align: middle;\n",
       "    }\n",
       "\n",
       "    .dataframe tbody tr th {\n",
       "        vertical-align: top;\n",
       "    }\n",
       "\n",
       "    .dataframe thead th {\n",
       "        text-align: right;\n",
       "    }\n",
       "</style>\n",
       "<table border=\"1\" class=\"dataframe\">\n",
       "  <thead>\n",
       "    <tr style=\"text-align: right;\">\n",
       "      <th></th>\n",
       "      <th>bacia_prec_sum</th>\n",
       "      <th>vazao_itaipu</th>\n",
       "    </tr>\n",
       "    <tr>\n",
       "      <th>time</th>\n",
       "      <th></th>\n",
       "      <th></th>\n",
       "    </tr>\n",
       "  </thead>\n",
       "  <tbody>\n",
       "    <tr>\n",
       "      <th>2000-06-30</th>\n",
       "      <td>2.539248e+05</td>\n",
       "      <td>217047.0</td>\n",
       "    </tr>\n",
       "    <tr>\n",
       "      <th>2000-07-31</th>\n",
       "      <td>2.773882e+05</td>\n",
       "      <td>229182.0</td>\n",
       "    </tr>\n",
       "    <tr>\n",
       "      <th>2000-08-31</th>\n",
       "      <td>4.983770e+05</td>\n",
       "      <td>229230.0</td>\n",
       "    </tr>\n",
       "    <tr>\n",
       "      <th>2000-09-30</th>\n",
       "      <td>8.890335e+05</td>\n",
       "      <td>407754.0</td>\n",
       "    </tr>\n",
       "    <tr>\n",
       "      <th>2000-10-31</th>\n",
       "      <td>4.884295e+05</td>\n",
       "      <td>267013.0</td>\n",
       "    </tr>\n",
       "    <tr>\n",
       "      <th>...</th>\n",
       "      <td>...</td>\n",
       "      <td>...</td>\n",
       "    </tr>\n",
       "    <tr>\n",
       "      <th>2021-08-31</th>\n",
       "      <td>9.598275e+04</td>\n",
       "      <td>123459.0</td>\n",
       "    </tr>\n",
       "    <tr>\n",
       "      <th>2021-09-30</th>\n",
       "      <td>1.757182e+05</td>\n",
       "      <td>114366.0</td>\n",
       "    </tr>\n",
       "    <tr>\n",
       "      <th>2021-10-31</th>\n",
       "      <td>1.389096e+06</td>\n",
       "      <td>259414.0</td>\n",
       "    </tr>\n",
       "    <tr>\n",
       "      <th>2021-11-30</th>\n",
       "      <td>6.518814e+05</td>\n",
       "      <td>235524.0</td>\n",
       "    </tr>\n",
       "    <tr>\n",
       "      <th>2021-12-31</th>\n",
       "      <td>7.251817e+05</td>\n",
       "      <td>242644.0</td>\n",
       "    </tr>\n",
       "  </tbody>\n",
       "</table>\n",
       "<p>259 rows × 2 columns</p>\n",
       "</div>"
      ],
      "text/plain": [
       "            bacia_prec_sum  vazao_itaipu\n",
       "time                                    \n",
       "2000-06-30    2.539248e+05      217047.0\n",
       "2000-07-31    2.773882e+05      229182.0\n",
       "2000-08-31    4.983770e+05      229230.0\n",
       "2000-09-30    8.890335e+05      407754.0\n",
       "2000-10-31    4.884295e+05      267013.0\n",
       "...                    ...           ...\n",
       "2021-08-31    9.598275e+04      123459.0\n",
       "2021-09-30    1.757182e+05      114366.0\n",
       "2021-10-31    1.389096e+06      259414.0\n",
       "2021-11-30    6.518814e+05      235524.0\n",
       "2021-12-31    7.251817e+05      242644.0\n",
       "\n",
       "[259 rows x 2 columns]"
      ]
     },
     "execution_count": 3,
     "metadata": {},
     "output_type": "execute_result"
    }
   ],
   "source": [
    "df = pd.read_csv(f'{path_datasets}/{dataset}', index_col='time')\n",
    "df"
   ]
  },
  {
   "cell_type": "code",
   "execution_count": 4,
   "metadata": {},
   "outputs": [],
   "source": [
    "def dataset_constructor(df, n, f):\n",
    "    for i in range(1, n): \n",
    "        df[f'bacia_prec_sum (time - {i})'] = df['bacia_prec_sum'].shift(i)\n",
    "        df[f'vazao_itaipu (time - {i})'] = df['vazao_itaipu'].shift(i)\n",
    "\n",
    "    df['bacia_prec_sum (time)'] = df['bacia_prec_sum']\n",
    "    df['vazao_itaipu (time)'] = df['vazao_itaipu']\n",
    "\n",
    "    for i in range(1,f+1):\n",
    "        df[f'bacia_prec_sum (time + {i})'] = df['bacia_prec_sum'].shift(-i)\n",
    "        \n",
    "    df[f'vazao_itaipu (time + {f})'] = df['vazao_itaipu'].shift(-f)\n",
    "\n",
    "    df = df.drop(columns=['bacia_prec_sum','vazao_itaipu'])\n",
    "    df = df.dropna()\n",
    "    \n",
    "    return df"
   ]
  },
  {
   "cell_type": "code",
   "execution_count": 5,
   "metadata": {},
   "outputs": [
    {
     "data": {
      "text/html": [
       "<div>\n",
       "<style scoped>\n",
       "    .dataframe tbody tr th:only-of-type {\n",
       "        vertical-align: middle;\n",
       "    }\n",
       "\n",
       "    .dataframe tbody tr th {\n",
       "        vertical-align: top;\n",
       "    }\n",
       "\n",
       "    .dataframe thead th {\n",
       "        text-align: right;\n",
       "    }\n",
       "</style>\n",
       "<table border=\"1\" class=\"dataframe\">\n",
       "  <thead>\n",
       "    <tr style=\"text-align: right;\">\n",
       "      <th></th>\n",
       "      <th>bacia_prec_sum (time - 1)</th>\n",
       "      <th>vazao_itaipu (time - 1)</th>\n",
       "      <th>bacia_prec_sum (time - 2)</th>\n",
       "      <th>vazao_itaipu (time - 2)</th>\n",
       "      <th>bacia_prec_sum (time)</th>\n",
       "      <th>vazao_itaipu (time)</th>\n",
       "      <th>bacia_prec_sum (time + 1)</th>\n",
       "      <th>bacia_prec_sum (time + 2)</th>\n",
       "      <th>bacia_prec_sum (time + 3)</th>\n",
       "      <th>vazao_itaipu (time + 3)</th>\n",
       "    </tr>\n",
       "    <tr>\n",
       "      <th>time</th>\n",
       "      <th></th>\n",
       "      <th></th>\n",
       "      <th></th>\n",
       "      <th></th>\n",
       "      <th></th>\n",
       "      <th></th>\n",
       "      <th></th>\n",
       "      <th></th>\n",
       "      <th></th>\n",
       "      <th></th>\n",
       "    </tr>\n",
       "  </thead>\n",
       "  <tbody>\n",
       "    <tr>\n",
       "      <th>2000-08-31</th>\n",
       "      <td>2.773882e+05</td>\n",
       "      <td>229182.0</td>\n",
       "      <td>253924.7500</td>\n",
       "      <td>217047.0</td>\n",
       "      <td>4.983770e+05</td>\n",
       "      <td>229230.0</td>\n",
       "      <td>8.890335e+05</td>\n",
       "      <td>4.884295e+05</td>\n",
       "      <td>1.056647e+06</td>\n",
       "      <td>284845.0</td>\n",
       "    </tr>\n",
       "    <tr>\n",
       "      <th>2000-09-30</th>\n",
       "      <td>4.983770e+05</td>\n",
       "      <td>229230.0</td>\n",
       "      <td>277388.2500</td>\n",
       "      <td>229182.0</td>\n",
       "      <td>8.890335e+05</td>\n",
       "      <td>407754.0</td>\n",
       "      <td>4.884295e+05</td>\n",
       "      <td>1.056647e+06</td>\n",
       "      <td>1.203936e+06</td>\n",
       "      <td>412779.0</td>\n",
       "    </tr>\n",
       "    <tr>\n",
       "      <th>2000-10-31</th>\n",
       "      <td>8.890335e+05</td>\n",
       "      <td>407754.0</td>\n",
       "      <td>498377.0000</td>\n",
       "      <td>229230.0</td>\n",
       "      <td>4.884295e+05</td>\n",
       "      <td>267013.0</td>\n",
       "      <td>1.056647e+06</td>\n",
       "      <td>1.203936e+06</td>\n",
       "      <td>1.009976e+06</td>\n",
       "      <td>427273.0</td>\n",
       "    </tr>\n",
       "    <tr>\n",
       "      <th>2000-11-30</th>\n",
       "      <td>4.884295e+05</td>\n",
       "      <td>267013.0</td>\n",
       "      <td>889033.5000</td>\n",
       "      <td>407754.0</td>\n",
       "      <td>1.056647e+06</td>\n",
       "      <td>284845.0</td>\n",
       "      <td>1.203936e+06</td>\n",
       "      <td>1.009976e+06</td>\n",
       "      <td>1.193691e+06</td>\n",
       "      <td>436733.0</td>\n",
       "    </tr>\n",
       "    <tr>\n",
       "      <th>2000-12-31</th>\n",
       "      <td>1.056647e+06</td>\n",
       "      <td>284845.0</td>\n",
       "      <td>488429.5000</td>\n",
       "      <td>267013.0</td>\n",
       "      <td>1.203936e+06</td>\n",
       "      <td>412779.0</td>\n",
       "      <td>1.009976e+06</td>\n",
       "      <td>1.193691e+06</td>\n",
       "      <td>8.709733e+05</td>\n",
       "      <td>399790.0</td>\n",
       "    </tr>\n",
       "    <tr>\n",
       "      <th>...</th>\n",
       "      <td>...</td>\n",
       "      <td>...</td>\n",
       "      <td>...</td>\n",
       "      <td>...</td>\n",
       "      <td>...</td>\n",
       "      <td>...</td>\n",
       "      <td>...</td>\n",
       "      <td>...</td>\n",
       "      <td>...</td>\n",
       "      <td>...</td>\n",
       "    </tr>\n",
       "    <tr>\n",
       "      <th>2021-05-31</th>\n",
       "      <td>1.177309e+05</td>\n",
       "      <td>192501.0</td>\n",
       "      <td>646968.1880</td>\n",
       "      <td>340038.0</td>\n",
       "      <td>2.147903e+05</td>\n",
       "      <td>154792.0</td>\n",
       "      <td>2.050504e+05</td>\n",
       "      <td>8.400806e+04</td>\n",
       "      <td>9.598275e+04</td>\n",
       "      <td>123459.0</td>\n",
       "    </tr>\n",
       "    <tr>\n",
       "      <th>2021-06-30</th>\n",
       "      <td>2.147903e+05</td>\n",
       "      <td>154792.0</td>\n",
       "      <td>117730.9375</td>\n",
       "      <td>192501.0</td>\n",
       "      <td>2.050504e+05</td>\n",
       "      <td>160122.0</td>\n",
       "      <td>8.400806e+04</td>\n",
       "      <td>9.598275e+04</td>\n",
       "      <td>1.757182e+05</td>\n",
       "      <td>114366.0</td>\n",
       "    </tr>\n",
       "    <tr>\n",
       "      <th>2021-07-31</th>\n",
       "      <td>2.050504e+05</td>\n",
       "      <td>160122.0</td>\n",
       "      <td>214790.3125</td>\n",
       "      <td>154792.0</td>\n",
       "      <td>8.400806e+04</td>\n",
       "      <td>138688.0</td>\n",
       "      <td>9.598275e+04</td>\n",
       "      <td>1.757182e+05</td>\n",
       "      <td>1.389096e+06</td>\n",
       "      <td>259414.0</td>\n",
       "    </tr>\n",
       "    <tr>\n",
       "      <th>2021-08-31</th>\n",
       "      <td>8.400806e+04</td>\n",
       "      <td>138688.0</td>\n",
       "      <td>205050.3750</td>\n",
       "      <td>160122.0</td>\n",
       "      <td>9.598275e+04</td>\n",
       "      <td>123459.0</td>\n",
       "      <td>1.757182e+05</td>\n",
       "      <td>1.389096e+06</td>\n",
       "      <td>6.518814e+05</td>\n",
       "      <td>235524.0</td>\n",
       "    </tr>\n",
       "    <tr>\n",
       "      <th>2021-09-30</th>\n",
       "      <td>9.598275e+04</td>\n",
       "      <td>123459.0</td>\n",
       "      <td>84008.0625</td>\n",
       "      <td>138688.0</td>\n",
       "      <td>1.757182e+05</td>\n",
       "      <td>114366.0</td>\n",
       "      <td>1.389096e+06</td>\n",
       "      <td>6.518814e+05</td>\n",
       "      <td>7.251817e+05</td>\n",
       "      <td>242644.0</td>\n",
       "    </tr>\n",
       "  </tbody>\n",
       "</table>\n",
       "<p>254 rows × 10 columns</p>\n",
       "</div>"
      ],
      "text/plain": [
       "            bacia_prec_sum (time - 1)  vazao_itaipu (time - 1)  \\\n",
       "time                                                             \n",
       "2000-08-31               2.773882e+05                 229182.0   \n",
       "2000-09-30               4.983770e+05                 229230.0   \n",
       "2000-10-31               8.890335e+05                 407754.0   \n",
       "2000-11-30               4.884295e+05                 267013.0   \n",
       "2000-12-31               1.056647e+06                 284845.0   \n",
       "...                               ...                      ...   \n",
       "2021-05-31               1.177309e+05                 192501.0   \n",
       "2021-06-30               2.147903e+05                 154792.0   \n",
       "2021-07-31               2.050504e+05                 160122.0   \n",
       "2021-08-31               8.400806e+04                 138688.0   \n",
       "2021-09-30               9.598275e+04                 123459.0   \n",
       "\n",
       "            bacia_prec_sum (time - 2)  vazao_itaipu (time - 2)  \\\n",
       "time                                                             \n",
       "2000-08-31                253924.7500                 217047.0   \n",
       "2000-09-30                277388.2500                 229182.0   \n",
       "2000-10-31                498377.0000                 229230.0   \n",
       "2000-11-30                889033.5000                 407754.0   \n",
       "2000-12-31                488429.5000                 267013.0   \n",
       "...                               ...                      ...   \n",
       "2021-05-31                646968.1880                 340038.0   \n",
       "2021-06-30                117730.9375                 192501.0   \n",
       "2021-07-31                214790.3125                 154792.0   \n",
       "2021-08-31                205050.3750                 160122.0   \n",
       "2021-09-30                 84008.0625                 138688.0   \n",
       "\n",
       "            bacia_prec_sum (time)  vazao_itaipu (time)  \\\n",
       "time                                                     \n",
       "2000-08-31           4.983770e+05             229230.0   \n",
       "2000-09-30           8.890335e+05             407754.0   \n",
       "2000-10-31           4.884295e+05             267013.0   \n",
       "2000-11-30           1.056647e+06             284845.0   \n",
       "2000-12-31           1.203936e+06             412779.0   \n",
       "...                           ...                  ...   \n",
       "2021-05-31           2.147903e+05             154792.0   \n",
       "2021-06-30           2.050504e+05             160122.0   \n",
       "2021-07-31           8.400806e+04             138688.0   \n",
       "2021-08-31           9.598275e+04             123459.0   \n",
       "2021-09-30           1.757182e+05             114366.0   \n",
       "\n",
       "            bacia_prec_sum (time + 1)  bacia_prec_sum (time + 2)  \\\n",
       "time                                                               \n",
       "2000-08-31               8.890335e+05               4.884295e+05   \n",
       "2000-09-30               4.884295e+05               1.056647e+06   \n",
       "2000-10-31               1.056647e+06               1.203936e+06   \n",
       "2000-11-30               1.203936e+06               1.009976e+06   \n",
       "2000-12-31               1.009976e+06               1.193691e+06   \n",
       "...                               ...                        ...   \n",
       "2021-05-31               2.050504e+05               8.400806e+04   \n",
       "2021-06-30               8.400806e+04               9.598275e+04   \n",
       "2021-07-31               9.598275e+04               1.757182e+05   \n",
       "2021-08-31               1.757182e+05               1.389096e+06   \n",
       "2021-09-30               1.389096e+06               6.518814e+05   \n",
       "\n",
       "            bacia_prec_sum (time + 3)  vazao_itaipu (time + 3)  \n",
       "time                                                            \n",
       "2000-08-31               1.056647e+06                 284845.0  \n",
       "2000-09-30               1.203936e+06                 412779.0  \n",
       "2000-10-31               1.009976e+06                 427273.0  \n",
       "2000-11-30               1.193691e+06                 436733.0  \n",
       "2000-12-31               8.709733e+05                 399790.0  \n",
       "...                               ...                      ...  \n",
       "2021-05-31               9.598275e+04                 123459.0  \n",
       "2021-06-30               1.757182e+05                 114366.0  \n",
       "2021-07-31               1.389096e+06                 259414.0  \n",
       "2021-08-31               6.518814e+05                 235524.0  \n",
       "2021-09-30               7.251817e+05                 242644.0  \n",
       "\n",
       "[254 rows x 10 columns]"
      ]
     },
     "execution_count": 5,
     "metadata": {},
     "output_type": "execute_result"
    }
   ],
   "source": [
    "df = dataset_constructor(df, n, f)\n",
    "df"
   ]
  },
  {
   "cell_type": "code",
   "execution_count": 6,
   "metadata": {},
   "outputs": [
    {
     "data": {
      "text/html": [
       "<div>\n",
       "<style scoped>\n",
       "    .dataframe tbody tr th:only-of-type {\n",
       "        vertical-align: middle;\n",
       "    }\n",
       "\n",
       "    .dataframe tbody tr th {\n",
       "        vertical-align: top;\n",
       "    }\n",
       "\n",
       "    .dataframe thead th {\n",
       "        text-align: right;\n",
       "    }\n",
       "</style>\n",
       "<table border=\"1\" class=\"dataframe\">\n",
       "  <thead>\n",
       "    <tr style=\"text-align: right;\">\n",
       "      <th></th>\n",
       "      <th>vazao_itaipu (time + 3)</th>\n",
       "    </tr>\n",
       "    <tr>\n",
       "      <th>time</th>\n",
       "      <th></th>\n",
       "    </tr>\n",
       "  </thead>\n",
       "  <tbody>\n",
       "    <tr>\n",
       "      <th>2000-08-31</th>\n",
       "      <td>284845.0</td>\n",
       "    </tr>\n",
       "    <tr>\n",
       "      <th>2000-09-30</th>\n",
       "      <td>412779.0</td>\n",
       "    </tr>\n",
       "    <tr>\n",
       "      <th>2000-10-31</th>\n",
       "      <td>427273.0</td>\n",
       "    </tr>\n",
       "    <tr>\n",
       "      <th>2000-11-30</th>\n",
       "      <td>436733.0</td>\n",
       "    </tr>\n",
       "    <tr>\n",
       "      <th>2000-12-31</th>\n",
       "      <td>399790.0</td>\n",
       "    </tr>\n",
       "    <tr>\n",
       "      <th>...</th>\n",
       "      <td>...</td>\n",
       "    </tr>\n",
       "    <tr>\n",
       "      <th>2021-05-31</th>\n",
       "      <td>123459.0</td>\n",
       "    </tr>\n",
       "    <tr>\n",
       "      <th>2021-06-30</th>\n",
       "      <td>114366.0</td>\n",
       "    </tr>\n",
       "    <tr>\n",
       "      <th>2021-07-31</th>\n",
       "      <td>259414.0</td>\n",
       "    </tr>\n",
       "    <tr>\n",
       "      <th>2021-08-31</th>\n",
       "      <td>235524.0</td>\n",
       "    </tr>\n",
       "    <tr>\n",
       "      <th>2021-09-30</th>\n",
       "      <td>242644.0</td>\n",
       "    </tr>\n",
       "  </tbody>\n",
       "</table>\n",
       "<p>254 rows × 1 columns</p>\n",
       "</div>"
      ],
      "text/plain": [
       "            vazao_itaipu (time + 3)\n",
       "time                               \n",
       "2000-08-31                 284845.0\n",
       "2000-09-30                 412779.0\n",
       "2000-10-31                 427273.0\n",
       "2000-11-30                 436733.0\n",
       "2000-12-31                 399790.0\n",
       "...                             ...\n",
       "2021-05-31                 123459.0\n",
       "2021-06-30                 114366.0\n",
       "2021-07-31                 259414.0\n",
       "2021-08-31                 235524.0\n",
       "2021-09-30                 242644.0\n",
       "\n",
       "[254 rows x 1 columns]"
      ]
     },
     "execution_count": 6,
     "metadata": {},
     "output_type": "execute_result"
    }
   ],
   "source": [
    "y_original = df.iloc[:,-1:]\n",
    "y_original"
   ]
  },
  {
   "cell_type": "code",
   "execution_count": 7,
   "metadata": {},
   "outputs": [],
   "source": [
    "def scaling_data(df):\n",
    "    scaler_X = MinMaxScaler()\n",
    "    scaler_y = MinMaxScaler()\n",
    "\n",
    "    # Columns to scale for X and y\n",
    "    columns_to_scale_X = df.columns[:-1]\n",
    "    columns_to_scale_y = df.columns[-1]\n",
    "\n",
    "    # Fit scalers on the selected columns and transform\n",
    "    scaled_data_X = scaler_X.fit_transform(df[columns_to_scale_X])\n",
    "    scaled_data_y = scaler_y.fit_transform(df[[columns_to_scale_y]])\n",
    "\n",
    "    # Create DataFrame with scaled data\n",
    "    scaled_X = pd.DataFrame(scaled_data_X, columns=columns_to_scale_X)\n",
    "    scaled_y = pd.DataFrame(scaled_data_y, columns=[columns_to_scale_y])\n",
    "\n",
    "    # Concatenate scaled columns to the original DataFrame\n",
    "    new_df = pd.concat([pd.DataFrame(df.index), scaled_X, scaled_y], axis=1)\n",
    "    new_df.set_index('time', inplace=True)\n",
    "\n",
    "    return new_df, scaler_y"
   ]
  },
  {
   "cell_type": "code",
   "execution_count": 8,
   "metadata": {},
   "outputs": [
    {
     "data": {
      "text/html": [
       "<div>\n",
       "<style scoped>\n",
       "    .dataframe tbody tr th:only-of-type {\n",
       "        vertical-align: middle;\n",
       "    }\n",
       "\n",
       "    .dataframe tbody tr th {\n",
       "        vertical-align: top;\n",
       "    }\n",
       "\n",
       "    .dataframe thead th {\n",
       "        text-align: right;\n",
       "    }\n",
       "</style>\n",
       "<table border=\"1\" class=\"dataframe\">\n",
       "  <thead>\n",
       "    <tr style=\"text-align: right;\">\n",
       "      <th></th>\n",
       "      <th>bacia_prec_sum (time - 1)</th>\n",
       "      <th>vazao_itaipu (time - 1)</th>\n",
       "      <th>bacia_prec_sum (time - 2)</th>\n",
       "      <th>vazao_itaipu (time - 2)</th>\n",
       "      <th>bacia_prec_sum (time)</th>\n",
       "      <th>vazao_itaipu (time)</th>\n",
       "      <th>bacia_prec_sum (time + 1)</th>\n",
       "      <th>bacia_prec_sum (time + 2)</th>\n",
       "      <th>bacia_prec_sum (time + 3)</th>\n",
       "      <th>vazao_itaipu (time + 3)</th>\n",
       "    </tr>\n",
       "    <tr>\n",
       "      <th>time</th>\n",
       "      <th></th>\n",
       "      <th></th>\n",
       "      <th></th>\n",
       "      <th></th>\n",
       "      <th></th>\n",
       "      <th></th>\n",
       "      <th></th>\n",
       "      <th></th>\n",
       "      <th></th>\n",
       "      <th></th>\n",
       "    </tr>\n",
       "  </thead>\n",
       "  <tbody>\n",
       "    <tr>\n",
       "      <th>2000-08-31</th>\n",
       "      <td>0.141679</td>\n",
       "      <td>0.153759</td>\n",
       "      <td>0.129469</td>\n",
       "      <td>0.137150</td>\n",
       "      <td>0.256676</td>\n",
       "      <td>0.156682</td>\n",
       "      <td>0.459964</td>\n",
       "      <td>0.251500</td>\n",
       "      <td>0.547186</td>\n",
       "      <td>0.232545</td>\n",
       "    </tr>\n",
       "    <tr>\n",
       "      <th>2000-09-30</th>\n",
       "      <td>0.256676</td>\n",
       "      <td>0.153824</td>\n",
       "      <td>0.141679</td>\n",
       "      <td>0.153759</td>\n",
       "      <td>0.459964</td>\n",
       "      <td>0.400200</td>\n",
       "      <td>0.251500</td>\n",
       "      <td>0.547186</td>\n",
       "      <td>0.623832</td>\n",
       "      <td>0.407055</td>\n",
       "    </tr>\n",
       "    <tr>\n",
       "      <th>2000-10-31</th>\n",
       "      <td>0.459964</td>\n",
       "      <td>0.398168</td>\n",
       "      <td>0.256676</td>\n",
       "      <td>0.153824</td>\n",
       "      <td>0.251500</td>\n",
       "      <td>0.208221</td>\n",
       "      <td>0.547186</td>\n",
       "      <td>0.623832</td>\n",
       "      <td>0.522900</td>\n",
       "      <td>0.426826</td>\n",
       "    </tr>\n",
       "    <tr>\n",
       "      <th>2000-11-30</th>\n",
       "      <td>0.251500</td>\n",
       "      <td>0.205538</td>\n",
       "      <td>0.459964</td>\n",
       "      <td>0.398168</td>\n",
       "      <td>0.547186</td>\n",
       "      <td>0.232545</td>\n",
       "      <td>0.623832</td>\n",
       "      <td>0.522900</td>\n",
       "      <td>0.618501</td>\n",
       "      <td>0.439730</td>\n",
       "    </tr>\n",
       "    <tr>\n",
       "      <th>2000-12-31</th>\n",
       "      <td>0.547186</td>\n",
       "      <td>0.229944</td>\n",
       "      <td>0.251500</td>\n",
       "      <td>0.205538</td>\n",
       "      <td>0.623832</td>\n",
       "      <td>0.407055</td>\n",
       "      <td>0.522900</td>\n",
       "      <td>0.618501</td>\n",
       "      <td>0.450566</td>\n",
       "      <td>0.389337</td>\n",
       "    </tr>\n",
       "    <tr>\n",
       "      <th>...</th>\n",
       "      <td>...</td>\n",
       "      <td>...</td>\n",
       "      <td>...</td>\n",
       "      <td>...</td>\n",
       "      <td>...</td>\n",
       "      <td>...</td>\n",
       "      <td>...</td>\n",
       "      <td>...</td>\n",
       "      <td>...</td>\n",
       "      <td>...</td>\n",
       "    </tr>\n",
       "    <tr>\n",
       "      <th>2021-05-31</th>\n",
       "      <td>0.058597</td>\n",
       "      <td>0.103554</td>\n",
       "      <td>0.333999</td>\n",
       "      <td>0.305486</td>\n",
       "      <td>0.109104</td>\n",
       "      <td>0.055144</td>\n",
       "      <td>0.104036</td>\n",
       "      <td>0.041049</td>\n",
       "      <td>0.047280</td>\n",
       "      <td>0.012403</td>\n",
       "    </tr>\n",
       "    <tr>\n",
       "      <th>2021-06-30</th>\n",
       "      <td>0.109104</td>\n",
       "      <td>0.051942</td>\n",
       "      <td>0.058597</td>\n",
       "      <td>0.103554</td>\n",
       "      <td>0.104036</td>\n",
       "      <td>0.062414</td>\n",
       "      <td>0.041049</td>\n",
       "      <td>0.047280</td>\n",
       "      <td>0.088772</td>\n",
       "      <td>0.000000</td>\n",
       "    </tr>\n",
       "    <tr>\n",
       "      <th>2021-07-31</th>\n",
       "      <td>0.104036</td>\n",
       "      <td>0.059237</td>\n",
       "      <td>0.109104</td>\n",
       "      <td>0.051942</td>\n",
       "      <td>0.041049</td>\n",
       "      <td>0.033177</td>\n",
       "      <td>0.047280</td>\n",
       "      <td>0.088772</td>\n",
       "      <td>0.720184</td>\n",
       "      <td>0.197855</td>\n",
       "    </tr>\n",
       "    <tr>\n",
       "      <th>2021-08-31</th>\n",
       "      <td>0.041049</td>\n",
       "      <td>0.029901</td>\n",
       "      <td>0.104036</td>\n",
       "      <td>0.059237</td>\n",
       "      <td>0.047280</td>\n",
       "      <td>0.012403</td>\n",
       "      <td>0.088772</td>\n",
       "      <td>0.720184</td>\n",
       "      <td>0.336556</td>\n",
       "      <td>0.165267</td>\n",
       "    </tr>\n",
       "    <tr>\n",
       "      <th>2021-09-30</th>\n",
       "      <td>0.047280</td>\n",
       "      <td>0.009057</td>\n",
       "      <td>0.041049</td>\n",
       "      <td>0.029901</td>\n",
       "      <td>0.088772</td>\n",
       "      <td>0.000000</td>\n",
       "      <td>0.720184</td>\n",
       "      <td>0.336556</td>\n",
       "      <td>0.374700</td>\n",
       "      <td>0.174980</td>\n",
       "    </tr>\n",
       "  </tbody>\n",
       "</table>\n",
       "<p>254 rows × 10 columns</p>\n",
       "</div>"
      ],
      "text/plain": [
       "            bacia_prec_sum (time - 1)  vazao_itaipu (time - 1)  \\\n",
       "time                                                             \n",
       "2000-08-31                   0.141679                 0.153759   \n",
       "2000-09-30                   0.256676                 0.153824   \n",
       "2000-10-31                   0.459964                 0.398168   \n",
       "2000-11-30                   0.251500                 0.205538   \n",
       "2000-12-31                   0.547186                 0.229944   \n",
       "...                               ...                      ...   \n",
       "2021-05-31                   0.058597                 0.103554   \n",
       "2021-06-30                   0.109104                 0.051942   \n",
       "2021-07-31                   0.104036                 0.059237   \n",
       "2021-08-31                   0.041049                 0.029901   \n",
       "2021-09-30                   0.047280                 0.009057   \n",
       "\n",
       "            bacia_prec_sum (time - 2)  vazao_itaipu (time - 2)  \\\n",
       "time                                                             \n",
       "2000-08-31                   0.129469                 0.137150   \n",
       "2000-09-30                   0.141679                 0.153759   \n",
       "2000-10-31                   0.256676                 0.153824   \n",
       "2000-11-30                   0.459964                 0.398168   \n",
       "2000-12-31                   0.251500                 0.205538   \n",
       "...                               ...                      ...   \n",
       "2021-05-31                   0.333999                 0.305486   \n",
       "2021-06-30                   0.058597                 0.103554   \n",
       "2021-07-31                   0.109104                 0.051942   \n",
       "2021-08-31                   0.104036                 0.059237   \n",
       "2021-09-30                   0.041049                 0.029901   \n",
       "\n",
       "            bacia_prec_sum (time)  vazao_itaipu (time)  \\\n",
       "time                                                     \n",
       "2000-08-31               0.256676             0.156682   \n",
       "2000-09-30               0.459964             0.400200   \n",
       "2000-10-31               0.251500             0.208221   \n",
       "2000-11-30               0.547186             0.232545   \n",
       "2000-12-31               0.623832             0.407055   \n",
       "...                           ...                  ...   \n",
       "2021-05-31               0.109104             0.055144   \n",
       "2021-06-30               0.104036             0.062414   \n",
       "2021-07-31               0.041049             0.033177   \n",
       "2021-08-31               0.047280             0.012403   \n",
       "2021-09-30               0.088772             0.000000   \n",
       "\n",
       "            bacia_prec_sum (time + 1)  bacia_prec_sum (time + 2)  \\\n",
       "time                                                               \n",
       "2000-08-31                   0.459964                   0.251500   \n",
       "2000-09-30                   0.251500                   0.547186   \n",
       "2000-10-31                   0.547186                   0.623832   \n",
       "2000-11-30                   0.623832                   0.522900   \n",
       "2000-12-31                   0.522900                   0.618501   \n",
       "...                               ...                        ...   \n",
       "2021-05-31                   0.104036                   0.041049   \n",
       "2021-06-30                   0.041049                   0.047280   \n",
       "2021-07-31                   0.047280                   0.088772   \n",
       "2021-08-31                   0.088772                   0.720184   \n",
       "2021-09-30                   0.720184                   0.336556   \n",
       "\n",
       "            bacia_prec_sum (time + 3)  vazao_itaipu (time + 3)  \n",
       "time                                                            \n",
       "2000-08-31                   0.547186                 0.232545  \n",
       "2000-09-30                   0.623832                 0.407055  \n",
       "2000-10-31                   0.522900                 0.426826  \n",
       "2000-11-30                   0.618501                 0.439730  \n",
       "2000-12-31                   0.450566                 0.389337  \n",
       "...                               ...                      ...  \n",
       "2021-05-31                   0.047280                 0.012403  \n",
       "2021-06-30                   0.088772                 0.000000  \n",
       "2021-07-31                   0.720184                 0.197855  \n",
       "2021-08-31                   0.336556                 0.165267  \n",
       "2021-09-30                   0.374700                 0.174980  \n",
       "\n",
       "[254 rows x 10 columns]"
      ]
     },
     "execution_count": 8,
     "metadata": {},
     "output_type": "execute_result"
    }
   ],
   "source": [
    "df, scaler_y = scaling_data(df)\n",
    "df"
   ]
  },
  {
   "cell_type": "code",
   "execution_count": 9,
   "metadata": {},
   "outputs": [],
   "source": [
    "df_poc = df.copy()"
   ]
  },
  {
   "attachments": {},
   "cell_type": "markdown",
   "metadata": {},
   "source": [
    "## Fazendo uma divisão treino/teste nos dados de vazão e aplicando normalização das colunas"
   ]
  },
  {
   "cell_type": "code",
   "execution_count": 10,
   "metadata": {},
   "outputs": [
    {
     "data": {
      "text/plain": [
       "((203, 9), (51, 9), (203, 1), (51, 1))"
      ]
     },
     "execution_count": 10,
     "metadata": {},
     "output_type": "execute_result"
    }
   ],
   "source": [
    "X_data = df_poc.iloc[:,:-1].astype('float64')#.iloc[3:-1,:-1]\n",
    "y_data = df_poc.iloc[:,-1:].astype('float64')#.iloc[3:-1,-1:]\n",
    "\n",
    "X_train, X_test, y_train, y_test = train_test_split(X_data, y_data, test_size=0.2, random_state=RANDOM_SEED)\n",
    "X_train.shape, X_test.shape, y_train.shape, y_test.shape"
   ]
  },
  {
   "cell_type": "markdown",
   "metadata": {},
   "source": [
    "## Treinamento"
   ]
  },
  {
   "cell_type": "code",
   "execution_count": 11,
   "metadata": {},
   "outputs": [
    {
     "name": "stderr",
     "output_type": "stream",
     "text": [
      "<ipython-input-11-f0005ada6415>:10: DataConversionWarning: A column-vector y was passed when a 1d array was expected. Please change the shape of y to (n_samples,), for example using ravel().\n",
      "  rf.fit(X_train, y_train)\n"
     ]
    },
    {
     "data": {
      "text/html": [
       "<style>#sk-container-id-1 {color: black;background-color: white;}#sk-container-id-1 pre{padding: 0;}#sk-container-id-1 div.sk-toggleable {background-color: white;}#sk-container-id-1 label.sk-toggleable__label {cursor: pointer;display: block;width: 100%;margin-bottom: 0;padding: 0.3em;box-sizing: border-box;text-align: center;}#sk-container-id-1 label.sk-toggleable__label-arrow:before {content: \"▸\";float: left;margin-right: 0.25em;color: #696969;}#sk-container-id-1 label.sk-toggleable__label-arrow:hover:before {color: black;}#sk-container-id-1 div.sk-estimator:hover label.sk-toggleable__label-arrow:before {color: black;}#sk-container-id-1 div.sk-toggleable__content {max-height: 0;max-width: 0;overflow: hidden;text-align: left;background-color: #f0f8ff;}#sk-container-id-1 div.sk-toggleable__content pre {margin: 0.2em;color: black;border-radius: 0.25em;background-color: #f0f8ff;}#sk-container-id-1 input.sk-toggleable__control:checked~div.sk-toggleable__content {max-height: 200px;max-width: 100%;overflow: auto;}#sk-container-id-1 input.sk-toggleable__control:checked~label.sk-toggleable__label-arrow:before {content: \"▾\";}#sk-container-id-1 div.sk-estimator input.sk-toggleable__control:checked~label.sk-toggleable__label {background-color: #d4ebff;}#sk-container-id-1 div.sk-label input.sk-toggleable__control:checked~label.sk-toggleable__label {background-color: #d4ebff;}#sk-container-id-1 input.sk-hidden--visually {border: 0;clip: rect(1px 1px 1px 1px);clip: rect(1px, 1px, 1px, 1px);height: 1px;margin: -1px;overflow: hidden;padding: 0;position: absolute;width: 1px;}#sk-container-id-1 div.sk-estimator {font-family: monospace;background-color: #f0f8ff;border: 1px dotted black;border-radius: 0.25em;box-sizing: border-box;margin-bottom: 0.5em;}#sk-container-id-1 div.sk-estimator:hover {background-color: #d4ebff;}#sk-container-id-1 div.sk-parallel-item::after {content: \"\";width: 100%;border-bottom: 1px solid gray;flex-grow: 1;}#sk-container-id-1 div.sk-label:hover label.sk-toggleable__label {background-color: #d4ebff;}#sk-container-id-1 div.sk-serial::before {content: \"\";position: absolute;border-left: 1px solid gray;box-sizing: border-box;top: 0;bottom: 0;left: 50%;z-index: 0;}#sk-container-id-1 div.sk-serial {display: flex;flex-direction: column;align-items: center;background-color: white;padding-right: 0.2em;padding-left: 0.2em;position: relative;}#sk-container-id-1 div.sk-item {position: relative;z-index: 1;}#sk-container-id-1 div.sk-parallel {display: flex;align-items: stretch;justify-content: center;background-color: white;position: relative;}#sk-container-id-1 div.sk-item::before, #sk-container-id-1 div.sk-parallel-item::before {content: \"\";position: absolute;border-left: 1px solid gray;box-sizing: border-box;top: 0;bottom: 0;left: 50%;z-index: -1;}#sk-container-id-1 div.sk-parallel-item {display: flex;flex-direction: column;z-index: 1;position: relative;background-color: white;}#sk-container-id-1 div.sk-parallel-item:first-child::after {align-self: flex-end;width: 50%;}#sk-container-id-1 div.sk-parallel-item:last-child::after {align-self: flex-start;width: 50%;}#sk-container-id-1 div.sk-parallel-item:only-child::after {width: 0;}#sk-container-id-1 div.sk-dashed-wrapped {border: 1px dashed gray;margin: 0 0.4em 0.5em 0.4em;box-sizing: border-box;padding-bottom: 0.4em;background-color: white;}#sk-container-id-1 div.sk-label label {font-family: monospace;font-weight: bold;display: inline-block;line-height: 1.2em;}#sk-container-id-1 div.sk-label-container {text-align: center;}#sk-container-id-1 div.sk-container {/* jupyter's `normalize.less` sets `[hidden] { display: none; }` but bootstrap.min.css set `[hidden] { display: none !important; }` so we also need the `!important` here to be able to override the default hidden behavior on the sphinx rendered scikit-learn.org. See: https://github.com/scikit-learn/scikit-learn/issues/21755 */display: inline-block !important;position: relative;}#sk-container-id-1 div.sk-text-repr-fallback {display: none;}</style><div id=\"sk-container-id-1\" class=\"sk-top-container\"><div class=\"sk-text-repr-fallback\"><pre>RandomForestRegressor(max_depth=12, min_samples_leaf=4, n_estimators=50)</pre><b>In a Jupyter environment, please rerun this cell to show the HTML representation or trust the notebook. <br />On GitHub, the HTML representation is unable to render, please try loading this page with nbviewer.org.</b></div><div class=\"sk-container\" hidden><div class=\"sk-item\"><div class=\"sk-estimator sk-toggleable\"><input class=\"sk-toggleable__control sk-hidden--visually\" id=\"sk-estimator-id-1\" type=\"checkbox\" checked><label for=\"sk-estimator-id-1\" class=\"sk-toggleable__label sk-toggleable__label-arrow\">RandomForestRegressor</label><div class=\"sk-toggleable__content\"><pre>RandomForestRegressor(max_depth=12, min_samples_leaf=4, n_estimators=50)</pre></div></div></div></div></div>"
      ],
      "text/plain": [
       "RandomForestRegressor(max_depth=12, min_samples_leaf=4, n_estimators=50)"
      ]
     },
     "execution_count": 11,
     "metadata": {},
     "output_type": "execute_result"
    }
   ],
   "source": [
    "rf = RandomForestRegressor(\n",
    "    criterion='squared_error',\n",
    "    n_estimators=50,\n",
    "    max_depth=12,\n",
    "    min_samples_split=2,\n",
    "    min_samples_leaf=4,\n",
    "    bootstrap=True\n",
    ")\n",
    "\n",
    "rf.fit(X_train, y_train)"
   ]
  },
  {
   "cell_type": "markdown",
   "metadata": {},
   "source": [
    "## Retomamos a escala original dos dados"
   ]
  },
  {
   "cell_type": "code",
   "execution_count": 12,
   "metadata": {},
   "outputs": [],
   "source": [
    "## _ stands for normalized data\n",
    "\n",
    "y_pred_ = rf.predict(X_test)\n",
    "y_pred = scaler_y.inverse_transform(y_pred_.reshape(-1,1))\n",
    "\n",
    "y_test_ = y_test\n",
    "y_test = scaler_y.inverse_transform(y_test)"
   ]
  },
  {
   "cell_type": "code",
   "execution_count": 13,
   "metadata": {},
   "outputs": [
    {
     "data": {
      "text/plain": [
       "array([[274391.  ],\n",
       "       [216039.  ],\n",
       "       [288389.38],\n",
       "       [214026.  ],\n",
       "       [205285.  ],\n",
       "       [319456.  ],\n",
       "       [114366.  ],\n",
       "       [253268.46],\n",
       "       [335007.  ],\n",
       "       [170665.  ],\n",
       "       [309303.  ],\n",
       "       [585931.32],\n",
       "       [396141.24],\n",
       "       [447605.02],\n",
       "       [484424.  ],\n",
       "       [154792.  ],\n",
       "       [413544.  ],\n",
       "       [268337.  ],\n",
       "       [271728.  ],\n",
       "       [212995.  ],\n",
       "       [380658.  ],\n",
       "       [337207.  ],\n",
       "       [242644.  ],\n",
       "       [264498.88],\n",
       "       [256894.  ],\n",
       "       [327206.84],\n",
       "       [515068.  ],\n",
       "       [305608.  ],\n",
       "       [199741.  ],\n",
       "       [218337.  ],\n",
       "       [408919.  ],\n",
       "       [350907.  ],\n",
       "       [449802.78],\n",
       "       [190672.  ],\n",
       "       [436455.  ],\n",
       "       [300199.  ],\n",
       "       [252466.96],\n",
       "       [138291.  ],\n",
       "       [454792.83],\n",
       "       [204050.  ],\n",
       "       [847468.56],\n",
       "       [352391.  ],\n",
       "       [228656.29],\n",
       "       [304510.  ],\n",
       "       [333597.  ],\n",
       "       [194329.  ],\n",
       "       [390421.85],\n",
       "       [170897.  ],\n",
       "       [333937.54],\n",
       "       [506478.  ],\n",
       "       [299799.  ]])"
      ]
     },
     "execution_count": 13,
     "metadata": {},
     "output_type": "execute_result"
    }
   ],
   "source": [
    "y_test"
   ]
  },
  {
   "cell_type": "code",
   "execution_count": 14,
   "metadata": {},
   "outputs": [
    {
     "data": {
      "text/html": [
       "<div>\n",
       "<style scoped>\n",
       "    .dataframe tbody tr th:only-of-type {\n",
       "        vertical-align: middle;\n",
       "    }\n",
       "\n",
       "    .dataframe tbody tr th {\n",
       "        vertical-align: top;\n",
       "    }\n",
       "\n",
       "    .dataframe thead th {\n",
       "        text-align: right;\n",
       "    }\n",
       "</style>\n",
       "<table border=\"1\" class=\"dataframe\">\n",
       "  <thead>\n",
       "    <tr style=\"text-align: right;\">\n",
       "      <th></th>\n",
       "      <th>MAE</th>\n",
       "      <th>MSE</th>\n",
       "      <th>RMSE</th>\n",
       "      <th>R2</th>\n",
       "      <th>Corr</th>\n",
       "    </tr>\n",
       "  </thead>\n",
       "  <tbody>\n",
       "    <tr>\n",
       "      <th>Decision Tree</th>\n",
       "      <td>50744.499916</td>\n",
       "      <td>4.453042e+09</td>\n",
       "      <td>66731.116016</td>\n",
       "      <td>0.73326</td>\n",
       "      <td>0.861927</td>\n",
       "    </tr>\n",
       "  </tbody>\n",
       "</table>\n",
       "</div>"
      ],
      "text/plain": [
       "                        MAE           MSE          RMSE       R2      Corr\n",
       "Decision Tree  50744.499916  4.453042e+09  66731.116016  0.73326  0.861927"
      ]
     },
     "execution_count": 14,
     "metadata": {},
     "output_type": "execute_result"
    }
   ],
   "source": [
    "mae = mean_absolute_error(y_test, y_pred)\n",
    "mse = mean_squared_error(y_test, y_pred)\n",
    "rmse = np.sqrt(mse)\n",
    "r2 = r2_score(y_test, y_pred)\n",
    "corr = np.corrcoef(y_test.T, y_pred.T)[0, 1]\n",
    "\n",
    "metrics_df = pd.DataFrame(\n",
    "    columns=['MAE', 'MSE', 'RMSE', 'R2', 'Corr'],\n",
    "    index=['Decision Tree']\n",
    ")\n",
    "\n",
    "metrics_df['MAE'] = mae\n",
    "metrics_df['MSE'] = mse\n",
    "metrics_df['RMSE'] = rmse\n",
    "metrics_df['R2'] = r2\n",
    "metrics_df['Corr'] = corr\n",
    "metrics_df"
   ]
  },
  {
   "cell_type": "code",
   "execution_count": 15,
   "metadata": {},
   "outputs": [
    {
     "data": {
      "application/vnd.plotly.v1+json": {
       "config": {
        "plotlyServerURL": "https://plot.ly"
       },
       "data": [
        {
         "mode": "lines",
         "name": "Vazão observada",
         "type": "scatter",
         "x": [
          "2000-08-31",
          "2000-09-30",
          "2000-10-31",
          "2000-11-30",
          "2000-12-31",
          "2001-01-31",
          "2001-02-28",
          "2001-03-31",
          "2001-04-30",
          "2001-05-31",
          "2001-06-30",
          "2001-07-31",
          "2001-08-31",
          "2001-09-30",
          "2001-10-31",
          "2001-11-30",
          "2001-12-31",
          "2002-01-31",
          "2002-02-28",
          "2002-03-31",
          "2002-04-30",
          "2002-05-31",
          "2002-06-30",
          "2002-07-31",
          "2002-08-31",
          "2002-09-30",
          "2002-10-31",
          "2002-11-30",
          "2002-12-31",
          "2003-01-31",
          "2003-02-28",
          "2003-03-31",
          "2003-04-30",
          "2003-05-31",
          "2003-06-30",
          "2003-07-31",
          "2003-08-31",
          "2003-09-30",
          "2003-10-31",
          "2003-11-30",
          "2003-12-31",
          "2004-01-31",
          "2004-02-29",
          "2004-03-31",
          "2004-04-30",
          "2004-05-31",
          "2004-06-30",
          "2004-07-31",
          "2004-08-31",
          "2004-09-30",
          "2004-10-31",
          "2004-11-30",
          "2004-12-31",
          "2005-01-31",
          "2005-02-28",
          "2005-03-31",
          "2005-04-30",
          "2005-05-31",
          "2005-06-30",
          "2005-07-31",
          "2005-08-31",
          "2005-09-30",
          "2005-10-31",
          "2005-11-30",
          "2005-12-31",
          "2006-01-31",
          "2006-02-28",
          "2006-03-31",
          "2006-04-30",
          "2006-05-31",
          "2006-06-30",
          "2006-07-31",
          "2006-08-31",
          "2006-09-30",
          "2006-10-31",
          "2006-11-30",
          "2006-12-31",
          "2007-01-31",
          "2007-02-28",
          "2007-03-31",
          "2007-04-30",
          "2007-05-31",
          "2007-06-30",
          "2007-07-31",
          "2007-08-31",
          "2007-09-30",
          "2007-10-31",
          "2007-11-30",
          "2007-12-31",
          "2008-01-31",
          "2008-02-29",
          "2008-03-31",
          "2008-04-30",
          "2008-05-31",
          "2008-06-30",
          "2008-07-31",
          "2008-08-31",
          "2008-09-30",
          "2008-10-31",
          "2008-11-30",
          "2008-12-31",
          "2009-01-31",
          "2009-02-28",
          "2009-03-31",
          "2009-04-30",
          "2009-05-31",
          "2009-06-30",
          "2009-07-31",
          "2009-08-31",
          "2009-09-30",
          "2009-10-31",
          "2009-11-30",
          "2009-12-31",
          "2010-01-31",
          "2010-02-28",
          "2010-03-31",
          "2010-04-30",
          "2010-05-31",
          "2010-06-30",
          "2010-07-31",
          "2010-08-31",
          "2010-09-30",
          "2010-10-31",
          "2010-11-30",
          "2010-12-31",
          "2011-01-31",
          "2011-02-28",
          "2011-03-31",
          "2011-04-30",
          "2011-05-31",
          "2011-06-30",
          "2011-07-31",
          "2011-08-31",
          "2011-09-30",
          "2011-10-31",
          "2011-11-30",
          "2011-12-31",
          "2012-01-31",
          "2012-02-29",
          "2012-03-31",
          "2012-04-30",
          "2012-05-31",
          "2012-06-30",
          "2012-07-31",
          "2012-08-31",
          "2012-09-30",
          "2012-10-31",
          "2012-11-30",
          "2012-12-31",
          "2013-01-31",
          "2013-02-28",
          "2013-03-31",
          "2013-04-30",
          "2013-05-31",
          "2013-06-30",
          "2013-07-31",
          "2013-08-31",
          "2013-09-30",
          "2013-10-31",
          "2013-11-30",
          "2013-12-31",
          "2014-01-31",
          "2014-02-28",
          "2014-03-31",
          "2014-04-30",
          "2014-05-31",
          "2014-06-30",
          "2014-07-31",
          "2014-08-31",
          "2014-09-30",
          "2014-10-31",
          "2014-11-30",
          "2014-12-31",
          "2015-01-31",
          "2015-02-28",
          "2015-03-31",
          "2015-04-30",
          "2015-05-31",
          "2015-06-30",
          "2015-07-31",
          "2015-08-31",
          "2015-09-30",
          "2015-10-31",
          "2015-11-30",
          "2015-12-31",
          "2016-01-31",
          "2016-02-29",
          "2016-03-31",
          "2016-04-30",
          "2016-05-31",
          "2016-06-30",
          "2016-07-31",
          "2016-08-31",
          "2016-09-30",
          "2016-10-31",
          "2016-11-30",
          "2016-12-31",
          "2017-01-31",
          "2017-02-28",
          "2017-03-31",
          "2017-04-30",
          "2017-05-31",
          "2017-06-30",
          "2017-07-31",
          "2017-08-31",
          "2017-09-30",
          "2017-10-31",
          "2017-11-30",
          "2017-12-31",
          "2018-01-31",
          "2018-02-28",
          "2018-03-31",
          "2018-04-30",
          "2018-05-31",
          "2018-06-30",
          "2018-07-31",
          "2018-08-31",
          "2018-09-30",
          "2018-10-31",
          "2018-11-30",
          "2018-12-31",
          "2019-01-31",
          "2019-02-28",
          "2019-03-31",
          "2019-04-30",
          "2019-05-31",
          "2019-06-30",
          "2019-07-31",
          "2019-08-31",
          "2019-09-30",
          "2019-10-31",
          "2019-11-30",
          "2019-12-31",
          "2020-01-31",
          "2020-02-29",
          "2020-03-31",
          "2020-04-30",
          "2020-05-31",
          "2020-06-30",
          "2020-07-31",
          "2020-08-31",
          "2020-09-30",
          "2020-10-31",
          "2020-11-30",
          "2020-12-31",
          "2021-01-31",
          "2021-02-28",
          "2021-03-31",
          "2021-04-30",
          "2021-05-31",
          "2021-06-30",
          "2021-07-31",
          "2021-08-31",
          "2021-09-30"
         ],
         "y": [
          284845,
          412779,
          427273,
          436733,
          399790,
          309230,
          268337,
          258605,
          229624,
          190672,
          194126,
          278731,
          266808,
          384120,
          545551,
          547578,
          470858,
          304510,
          359743,
          242014,
          212995,
          204050,
          208935,
          176525,
          246920,
          374419,
          498288,
          598720,
          472270,
          422279,
          288386,
          260427,
          230034,
          185144,
          173177,
          192966,
          229819,
          380658,
          366615,
          475360,
          515068,
          371167,
          407609,
          387207,
          340514,
          226452,
          170665,
          275931,
          335791,
          356463,
          603778,
          514745,
          413544,
          339541,
          288689,
          309303,
          230149,
          184214,
          231564,
          352856,
          299799,
          489570,
          436455,
          414705,
          532718,
          465775,
          285045,
          235687,
          216701,
          184438,
          205285,
          266482,
          244376,
          490647,
          834043,
          753378,
          539437,
          352391,
          331902,
          264011,
          266748,
          231010,
          149065,
          146285,
          254487,
          274391,
          346448,
          527851,
          566502,
          457776,
          383475,
          295664,
          236466,
          301789,
          180028,
          265199,
          282697,
          253268.46,
          426478,
          541126.76,
          421548.47,
          383898.98,
          279982.92,
          247254.39,
          333937.54,
          305835.29,
          390421.85,
          468774.28,
          414699.45,
          607613.78,
          731722,
          653608,
          533310,
          485687,
          350907,
          271728,
          246194,
          194329,
          161897,
          286699,
          260072,
          415291,
          639877,
          506478,
          795036,
          559084,
          365971,
          300199,
          304441,
          353460,
          218337,
          305608,
          301142,
          329931,
          552216,
          408919,
          335007,
          306871,
          338221,
          484424,
          345457,
          214026,
          170897,
          187216,
          220229,
          278007.72,
          412263,
          507990,
          527782,
          544628,
          337207,
          507905,
          455530,
          257165,
          216039,
          307391,
          237035,
          319456,
          308413,
          199741,
          361193,
          348114,
          285235,
          404940,
          256894,
          213983,
          212426,
          230123,
          209768,
          356338.67,
          283903.78,
          334233.65,
          434023.19,
          376219,
          354116.6,
          288389.38,
          481222.12,
          244671.08,
          283389.62,
          327206.84,
          454792.83,
          628937.32,
          847468.5599999999,
          585931.32,
          675757.22,
          365784.43,
          396141.24,
          476448.25,
          310014.67,
          308561.2,
          264498.88,
          265053.49,
          276247.92,
          361856.98,
          397295.66,
          426968.38,
          367064.2,
          314912.36,
          392974.98,
          401072.23,
          228656.29,
          220310.84,
          157964.14,
          218476.71,
          395721.36,
          449802.78,
          686481.88,
          441899.76,
          499474.62,
          387494.6,
          252466.96,
          221146.81,
          184082.51,
          188966.75,
          195960.38,
          331568.86,
          362148.43,
          362113.13,
          326354,
          273475,
          499743,
          364509,
          315822,
          300097,
          218043,
          169278,
          147157,
          138291,
          158441,
          348775,
          338344.25,
          453604.58,
          447605.02,
          280684.05,
          226314.19,
          209375.76,
          196265.99,
          196825.1,
          138822.02,
          116841.69,
          151270.6,
          218477.49,
          397771,
          333597,
          340038,
          192501,
          154792,
          160122,
          138688,
          123459,
          114366,
          259414,
          235524,
          242644
         ]
        },
        {
         "mode": "markers",
         "name": "Forecast",
         "type": "scatter",
         "x": [
          "2007-09-30",
          "2013-06-30",
          "2015-03-31",
          "2012-05-31",
          "2006-06-30",
          "2013-09-30",
          "2021-06-30",
          "2008-09-30",
          "2011-12-31",
          "2004-06-30",
          "2005-03-31",
          "2015-11-30",
          "2016-02-29",
          "2019-12-31",
          "2012-03-31",
          "2021-02-28",
          "2004-12-31",
          "2001-02-28",
          "2010-03-31",
          "2002-04-30",
          "2003-09-30",
          "2013-02-28",
          "2021-09-30",
          "2016-06-30",
          "2014-04-30",
          "2015-07-31",
          "2003-12-31",
          "2011-07-31",
          "2013-11-30",
          "2011-06-30",
          "2011-11-30",
          "2010-02-28",
          "2017-09-30",
          "2001-05-31",
          "2005-10-31",
          "2011-03-31",
          "2018-02-28",
          "2019-07-31",
          "2015-08-31",
          "2002-05-31",
          "2015-10-31",
          "2007-01-31",
          "2017-04-30",
          "2002-01-31",
          "2020-11-30",
          "2010-05-31",
          "2009-06-30",
          "2012-06-30",
          "2009-04-30",
          "2010-11-30",
          "2005-08-31"
         ],
         "y": [
          298401.7739260823,
          252487.54903761906,
          268832.53959741874,
          269180.5760613781,
          186968.7121306849,
          338784.8947131746,
          154946.0721627105,
          305312.1072766278,
          362276.6398320852,
          211182.91444549835,
          297291.255708061,
          578503.0640705773,
          341069.7136445255,
          509351.8804656617,
          370005.49490614166,
          294620.0319424476,
          325543.6169124331,
          351608.2452595039,
          264726.296869466,
          299120.57377748354,
          366023.6121096953,
          378373.4259864808,
          341185.8606742785,
          230739.63433383114,
          227021.79040513045,
          346567.3836217627,
          500031.3942490689,
          233146.58252749278,
          357931.1981868931,
          211210.30879106003,
          506588.1432946037,
          318660.9109276568,
          399082.60008311964,
          187119.1917921712,
          469911.67973719625,
          302033.03391958924,
          294818.9275399078,
          173320.87105947096,
          380182.33841813845,
          229366.61314422797,
          606067.4329975146,
          339036.22325673886,
          269821.8930086508,
          342793.13037311856,
          380349.91387842107,
          223895.78757850235,
          308441.7541123809,
          230412.00359206516,
          257039.75659974088,
          545035.828883805,
          345224.95677296206
         ]
        }
       ],
       "layout": {
        "template": {
         "data": {
          "bar": [
           {
            "error_x": {
             "color": "#2a3f5f"
            },
            "error_y": {
             "color": "#2a3f5f"
            },
            "marker": {
             "line": {
              "color": "#E5ECF6",
              "width": 0.5
             },
             "pattern": {
              "fillmode": "overlay",
              "size": 10,
              "solidity": 0.2
             }
            },
            "type": "bar"
           }
          ],
          "barpolar": [
           {
            "marker": {
             "line": {
              "color": "#E5ECF6",
              "width": 0.5
             },
             "pattern": {
              "fillmode": "overlay",
              "size": 10,
              "solidity": 0.2
             }
            },
            "type": "barpolar"
           }
          ],
          "carpet": [
           {
            "aaxis": {
             "endlinecolor": "#2a3f5f",
             "gridcolor": "white",
             "linecolor": "white",
             "minorgridcolor": "white",
             "startlinecolor": "#2a3f5f"
            },
            "baxis": {
             "endlinecolor": "#2a3f5f",
             "gridcolor": "white",
             "linecolor": "white",
             "minorgridcolor": "white",
             "startlinecolor": "#2a3f5f"
            },
            "type": "carpet"
           }
          ],
          "choropleth": [
           {
            "colorbar": {
             "outlinewidth": 0,
             "ticks": ""
            },
            "type": "choropleth"
           }
          ],
          "contour": [
           {
            "colorbar": {
             "outlinewidth": 0,
             "ticks": ""
            },
            "colorscale": [
             [
              0,
              "#0d0887"
             ],
             [
              0.1111111111111111,
              "#46039f"
             ],
             [
              0.2222222222222222,
              "#7201a8"
             ],
             [
              0.3333333333333333,
              "#9c179e"
             ],
             [
              0.4444444444444444,
              "#bd3786"
             ],
             [
              0.5555555555555556,
              "#d8576b"
             ],
             [
              0.6666666666666666,
              "#ed7953"
             ],
             [
              0.7777777777777778,
              "#fb9f3a"
             ],
             [
              0.8888888888888888,
              "#fdca26"
             ],
             [
              1,
              "#f0f921"
             ]
            ],
            "type": "contour"
           }
          ],
          "contourcarpet": [
           {
            "colorbar": {
             "outlinewidth": 0,
             "ticks": ""
            },
            "type": "contourcarpet"
           }
          ],
          "heatmap": [
           {
            "colorbar": {
             "outlinewidth": 0,
             "ticks": ""
            },
            "colorscale": [
             [
              0,
              "#0d0887"
             ],
             [
              0.1111111111111111,
              "#46039f"
             ],
             [
              0.2222222222222222,
              "#7201a8"
             ],
             [
              0.3333333333333333,
              "#9c179e"
             ],
             [
              0.4444444444444444,
              "#bd3786"
             ],
             [
              0.5555555555555556,
              "#d8576b"
             ],
             [
              0.6666666666666666,
              "#ed7953"
             ],
             [
              0.7777777777777778,
              "#fb9f3a"
             ],
             [
              0.8888888888888888,
              "#fdca26"
             ],
             [
              1,
              "#f0f921"
             ]
            ],
            "type": "heatmap"
           }
          ],
          "heatmapgl": [
           {
            "colorbar": {
             "outlinewidth": 0,
             "ticks": ""
            },
            "colorscale": [
             [
              0,
              "#0d0887"
             ],
             [
              0.1111111111111111,
              "#46039f"
             ],
             [
              0.2222222222222222,
              "#7201a8"
             ],
             [
              0.3333333333333333,
              "#9c179e"
             ],
             [
              0.4444444444444444,
              "#bd3786"
             ],
             [
              0.5555555555555556,
              "#d8576b"
             ],
             [
              0.6666666666666666,
              "#ed7953"
             ],
             [
              0.7777777777777778,
              "#fb9f3a"
             ],
             [
              0.8888888888888888,
              "#fdca26"
             ],
             [
              1,
              "#f0f921"
             ]
            ],
            "type": "heatmapgl"
           }
          ],
          "histogram": [
           {
            "marker": {
             "pattern": {
              "fillmode": "overlay",
              "size": 10,
              "solidity": 0.2
             }
            },
            "type": "histogram"
           }
          ],
          "histogram2d": [
           {
            "colorbar": {
             "outlinewidth": 0,
             "ticks": ""
            },
            "colorscale": [
             [
              0,
              "#0d0887"
             ],
             [
              0.1111111111111111,
              "#46039f"
             ],
             [
              0.2222222222222222,
              "#7201a8"
             ],
             [
              0.3333333333333333,
              "#9c179e"
             ],
             [
              0.4444444444444444,
              "#bd3786"
             ],
             [
              0.5555555555555556,
              "#d8576b"
             ],
             [
              0.6666666666666666,
              "#ed7953"
             ],
             [
              0.7777777777777778,
              "#fb9f3a"
             ],
             [
              0.8888888888888888,
              "#fdca26"
             ],
             [
              1,
              "#f0f921"
             ]
            ],
            "type": "histogram2d"
           }
          ],
          "histogram2dcontour": [
           {
            "colorbar": {
             "outlinewidth": 0,
             "ticks": ""
            },
            "colorscale": [
             [
              0,
              "#0d0887"
             ],
             [
              0.1111111111111111,
              "#46039f"
             ],
             [
              0.2222222222222222,
              "#7201a8"
             ],
             [
              0.3333333333333333,
              "#9c179e"
             ],
             [
              0.4444444444444444,
              "#bd3786"
             ],
             [
              0.5555555555555556,
              "#d8576b"
             ],
             [
              0.6666666666666666,
              "#ed7953"
             ],
             [
              0.7777777777777778,
              "#fb9f3a"
             ],
             [
              0.8888888888888888,
              "#fdca26"
             ],
             [
              1,
              "#f0f921"
             ]
            ],
            "type": "histogram2dcontour"
           }
          ],
          "mesh3d": [
           {
            "colorbar": {
             "outlinewidth": 0,
             "ticks": ""
            },
            "type": "mesh3d"
           }
          ],
          "parcoords": [
           {
            "line": {
             "colorbar": {
              "outlinewidth": 0,
              "ticks": ""
             }
            },
            "type": "parcoords"
           }
          ],
          "pie": [
           {
            "automargin": true,
            "type": "pie"
           }
          ],
          "scatter": [
           {
            "fillpattern": {
             "fillmode": "overlay",
             "size": 10,
             "solidity": 0.2
            },
            "type": "scatter"
           }
          ],
          "scatter3d": [
           {
            "line": {
             "colorbar": {
              "outlinewidth": 0,
              "ticks": ""
             }
            },
            "marker": {
             "colorbar": {
              "outlinewidth": 0,
              "ticks": ""
             }
            },
            "type": "scatter3d"
           }
          ],
          "scattercarpet": [
           {
            "marker": {
             "colorbar": {
              "outlinewidth": 0,
              "ticks": ""
             }
            },
            "type": "scattercarpet"
           }
          ],
          "scattergeo": [
           {
            "marker": {
             "colorbar": {
              "outlinewidth": 0,
              "ticks": ""
             }
            },
            "type": "scattergeo"
           }
          ],
          "scattergl": [
           {
            "marker": {
             "colorbar": {
              "outlinewidth": 0,
              "ticks": ""
             }
            },
            "type": "scattergl"
           }
          ],
          "scattermapbox": [
           {
            "marker": {
             "colorbar": {
              "outlinewidth": 0,
              "ticks": ""
             }
            },
            "type": "scattermapbox"
           }
          ],
          "scatterpolar": [
           {
            "marker": {
             "colorbar": {
              "outlinewidth": 0,
              "ticks": ""
             }
            },
            "type": "scatterpolar"
           }
          ],
          "scatterpolargl": [
           {
            "marker": {
             "colorbar": {
              "outlinewidth": 0,
              "ticks": ""
             }
            },
            "type": "scatterpolargl"
           }
          ],
          "scatterternary": [
           {
            "marker": {
             "colorbar": {
              "outlinewidth": 0,
              "ticks": ""
             }
            },
            "type": "scatterternary"
           }
          ],
          "surface": [
           {
            "colorbar": {
             "outlinewidth": 0,
             "ticks": ""
            },
            "colorscale": [
             [
              0,
              "#0d0887"
             ],
             [
              0.1111111111111111,
              "#46039f"
             ],
             [
              0.2222222222222222,
              "#7201a8"
             ],
             [
              0.3333333333333333,
              "#9c179e"
             ],
             [
              0.4444444444444444,
              "#bd3786"
             ],
             [
              0.5555555555555556,
              "#d8576b"
             ],
             [
              0.6666666666666666,
              "#ed7953"
             ],
             [
              0.7777777777777778,
              "#fb9f3a"
             ],
             [
              0.8888888888888888,
              "#fdca26"
             ],
             [
              1,
              "#f0f921"
             ]
            ],
            "type": "surface"
           }
          ],
          "table": [
           {
            "cells": {
             "fill": {
              "color": "#EBF0F8"
             },
             "line": {
              "color": "white"
             }
            },
            "header": {
             "fill": {
              "color": "#C8D4E3"
             },
             "line": {
              "color": "white"
             }
            },
            "type": "table"
           }
          ]
         },
         "layout": {
          "annotationdefaults": {
           "arrowcolor": "#2a3f5f",
           "arrowhead": 0,
           "arrowwidth": 1
          },
          "autotypenumbers": "strict",
          "coloraxis": {
           "colorbar": {
            "outlinewidth": 0,
            "ticks": ""
           }
          },
          "colorscale": {
           "diverging": [
            [
             0,
             "#8e0152"
            ],
            [
             0.1,
             "#c51b7d"
            ],
            [
             0.2,
             "#de77ae"
            ],
            [
             0.3,
             "#f1b6da"
            ],
            [
             0.4,
             "#fde0ef"
            ],
            [
             0.5,
             "#f7f7f7"
            ],
            [
             0.6,
             "#e6f5d0"
            ],
            [
             0.7,
             "#b8e186"
            ],
            [
             0.8,
             "#7fbc41"
            ],
            [
             0.9,
             "#4d9221"
            ],
            [
             1,
             "#276419"
            ]
           ],
           "sequential": [
            [
             0,
             "#0d0887"
            ],
            [
             0.1111111111111111,
             "#46039f"
            ],
            [
             0.2222222222222222,
             "#7201a8"
            ],
            [
             0.3333333333333333,
             "#9c179e"
            ],
            [
             0.4444444444444444,
             "#bd3786"
            ],
            [
             0.5555555555555556,
             "#d8576b"
            ],
            [
             0.6666666666666666,
             "#ed7953"
            ],
            [
             0.7777777777777778,
             "#fb9f3a"
            ],
            [
             0.8888888888888888,
             "#fdca26"
            ],
            [
             1,
             "#f0f921"
            ]
           ],
           "sequentialminus": [
            [
             0,
             "#0d0887"
            ],
            [
             0.1111111111111111,
             "#46039f"
            ],
            [
             0.2222222222222222,
             "#7201a8"
            ],
            [
             0.3333333333333333,
             "#9c179e"
            ],
            [
             0.4444444444444444,
             "#bd3786"
            ],
            [
             0.5555555555555556,
             "#d8576b"
            ],
            [
             0.6666666666666666,
             "#ed7953"
            ],
            [
             0.7777777777777778,
             "#fb9f3a"
            ],
            [
             0.8888888888888888,
             "#fdca26"
            ],
            [
             1,
             "#f0f921"
            ]
           ]
          },
          "colorway": [
           "#636efa",
           "#EF553B",
           "#00cc96",
           "#ab63fa",
           "#FFA15A",
           "#19d3f3",
           "#FF6692",
           "#B6E880",
           "#FF97FF",
           "#FECB52"
          ],
          "font": {
           "color": "#2a3f5f"
          },
          "geo": {
           "bgcolor": "white",
           "lakecolor": "white",
           "landcolor": "#E5ECF6",
           "showlakes": true,
           "showland": true,
           "subunitcolor": "white"
          },
          "hoverlabel": {
           "align": "left"
          },
          "hovermode": "closest",
          "mapbox": {
           "style": "light"
          },
          "paper_bgcolor": "white",
          "plot_bgcolor": "#E5ECF6",
          "polar": {
           "angularaxis": {
            "gridcolor": "white",
            "linecolor": "white",
            "ticks": ""
           },
           "bgcolor": "#E5ECF6",
           "radialaxis": {
            "gridcolor": "white",
            "linecolor": "white",
            "ticks": ""
           }
          },
          "scene": {
           "xaxis": {
            "backgroundcolor": "#E5ECF6",
            "gridcolor": "white",
            "gridwidth": 2,
            "linecolor": "white",
            "showbackground": true,
            "ticks": "",
            "zerolinecolor": "white"
           },
           "yaxis": {
            "backgroundcolor": "#E5ECF6",
            "gridcolor": "white",
            "gridwidth": 2,
            "linecolor": "white",
            "showbackground": true,
            "ticks": "",
            "zerolinecolor": "white"
           },
           "zaxis": {
            "backgroundcolor": "#E5ECF6",
            "gridcolor": "white",
            "gridwidth": 2,
            "linecolor": "white",
            "showbackground": true,
            "ticks": "",
            "zerolinecolor": "white"
           }
          },
          "shapedefaults": {
           "line": {
            "color": "#2a3f5f"
           }
          },
          "ternary": {
           "aaxis": {
            "gridcolor": "white",
            "linecolor": "white",
            "ticks": ""
           },
           "baxis": {
            "gridcolor": "white",
            "linecolor": "white",
            "ticks": ""
           },
           "bgcolor": "#E5ECF6",
           "caxis": {
            "gridcolor": "white",
            "linecolor": "white",
            "ticks": ""
           }
          },
          "title": {
           "x": 0.05
          },
          "xaxis": {
           "automargin": true,
           "gridcolor": "white",
           "linecolor": "white",
           "ticks": "",
           "title": {
            "standoff": 15
           },
           "zerolinecolor": "white",
           "zerolinewidth": 2
          },
          "yaxis": {
           "automargin": true,
           "gridcolor": "white",
           "linecolor": "white",
           "ticks": "",
           "title": {
            "standoff": 15
           },
           "zerolinecolor": "white",
           "zerolinewidth": 2
          }
         }
        },
        "title": {
         "text": "Predição - Itaipu"
        }
       }
      }
     },
     "metadata": {},
     "output_type": "display_data"
    }
   ],
   "source": [
    "fig = go.Figure()\n",
    "\n",
    "fig.add_trace(\n",
    "    go.Scatter(\n",
    "        x=X_data.index,\n",
    "        y=y_original.values.ravel(), # vazão observada\n",
    "        mode='lines',\n",
    "        name='Vazão observada',\n",
    "    )\n",
    ")\n",
    "\n",
    "fig.add_trace(\n",
    "    go.Scatter(\n",
    "        x=X_test.index,\n",
    "        y=y_pred.ravel(), # vazão prevista\n",
    "        mode='markers',\n",
    "        name='Forecast',\n",
    "    )\n",
    ")\n",
    "\n",
    "fig.update_layout(title=f'Predição - Itaipu')\n",
    "\n",
    "fig.write_image(f\"{dir_figures}/history_measured_vs_predicted_plot.png\", width=1400, scale=1)\n",
    "\n",
    "fig.show()"
   ]
  },
  {
   "cell_type": "code",
   "execution_count": 16,
   "metadata": {},
   "outputs": [
    {
     "data": {
      "application/vnd.plotly.v1+json": {
       "config": {
        "plotlyServerURL": "https://plot.ly"
       },
       "data": [
        {
         "marker": {
          "color": "blue",
          "line": {
           "color": "black",
           "width": 1
          },
          "opacity": 0.5
         },
         "mode": "markers",
         "name": "Measured vs Predicted",
         "type": "scatter",
         "x": [
          274391,
          216039,
          288389.38,
          214026,
          205285,
          319456,
          114366,
          253268.46,
          335007,
          170665,
          309303,
          585931.32,
          396141.23999999993,
          447605.0200000001,
          484424,
          154792,
          413544,
          268337,
          271728,
          212995,
          380658.00000000006,
          337207,
          242644,
          264498.88,
          256894,
          327206.84,
          515068,
          305608,
          199741,
          218337,
          408919.00000000006,
          350907,
          449802.78,
          190672,
          436455,
          300199,
          252466.96,
          138291,
          454792.83,
          204050,
          847468.5599999999,
          352391,
          228656.29,
          304510,
          333597,
          194329,
          390421.85,
          170897,
          333937.54,
          506478,
          299799
         ],
         "y": [
          298401.7739260823,
          252487.54903761906,
          268832.53959741874,
          269180.5760613781,
          186968.7121306849,
          338784.8947131746,
          154946.0721627105,
          305312.1072766278,
          362276.6398320852,
          211182.91444549835,
          297291.255708061,
          578503.0640705773,
          341069.7136445255,
          509351.8804656617,
          370005.49490614166,
          294620.0319424476,
          325543.6169124331,
          351608.2452595039,
          264726.296869466,
          299120.57377748354,
          366023.6121096953,
          378373.4259864808,
          341185.8606742785,
          230739.63433383114,
          227021.79040513045,
          346567.3836217627,
          500031.3942490689,
          233146.58252749278,
          357931.1981868931,
          211210.30879106003,
          506588.1432946037,
          318660.9109276568,
          399082.60008311964,
          187119.1917921712,
          469911.67973719625,
          302033.03391958924,
          294818.9275399078,
          173320.87105947096,
          380182.33841813845,
          229366.61314422797,
          606067.4329975146,
          339036.22325673886,
          269821.8930086508,
          342793.13037311856,
          380349.91387842107,
          223895.78757850235,
          308441.7541123809,
          230412.00359206516,
          257039.75659974088,
          545035.828883805,
          345224.95677296206
         ]
        },
        {
         "line": {
          "color": "red",
          "dash": "dash"
         },
         "mode": "lines",
         "name": "Identity Line",
         "type": "scatter",
         "x": [
          154946.0721627105,
          606067.4329975146
         ],
         "y": [
          154946.0721627105,
          606067.4329975146
         ]
        }
       ],
       "layout": {
        "autosize": false,
        "height": 500,
        "margin": {
         "b": 0,
         "l": 0,
         "r": 0,
         "t": 40
        },
        "showlegend": true,
        "template": {
         "data": {
          "bar": [
           {
            "error_x": {
             "color": "#2a3f5f"
            },
            "error_y": {
             "color": "#2a3f5f"
            },
            "marker": {
             "line": {
              "color": "#E5ECF6",
              "width": 0.5
             },
             "pattern": {
              "fillmode": "overlay",
              "size": 10,
              "solidity": 0.2
             }
            },
            "type": "bar"
           }
          ],
          "barpolar": [
           {
            "marker": {
             "line": {
              "color": "#E5ECF6",
              "width": 0.5
             },
             "pattern": {
              "fillmode": "overlay",
              "size": 10,
              "solidity": 0.2
             }
            },
            "type": "barpolar"
           }
          ],
          "carpet": [
           {
            "aaxis": {
             "endlinecolor": "#2a3f5f",
             "gridcolor": "white",
             "linecolor": "white",
             "minorgridcolor": "white",
             "startlinecolor": "#2a3f5f"
            },
            "baxis": {
             "endlinecolor": "#2a3f5f",
             "gridcolor": "white",
             "linecolor": "white",
             "minorgridcolor": "white",
             "startlinecolor": "#2a3f5f"
            },
            "type": "carpet"
           }
          ],
          "choropleth": [
           {
            "colorbar": {
             "outlinewidth": 0,
             "ticks": ""
            },
            "type": "choropleth"
           }
          ],
          "contour": [
           {
            "colorbar": {
             "outlinewidth": 0,
             "ticks": ""
            },
            "colorscale": [
             [
              0,
              "#0d0887"
             ],
             [
              0.1111111111111111,
              "#46039f"
             ],
             [
              0.2222222222222222,
              "#7201a8"
             ],
             [
              0.3333333333333333,
              "#9c179e"
             ],
             [
              0.4444444444444444,
              "#bd3786"
             ],
             [
              0.5555555555555556,
              "#d8576b"
             ],
             [
              0.6666666666666666,
              "#ed7953"
             ],
             [
              0.7777777777777778,
              "#fb9f3a"
             ],
             [
              0.8888888888888888,
              "#fdca26"
             ],
             [
              1,
              "#f0f921"
             ]
            ],
            "type": "contour"
           }
          ],
          "contourcarpet": [
           {
            "colorbar": {
             "outlinewidth": 0,
             "ticks": ""
            },
            "type": "contourcarpet"
           }
          ],
          "heatmap": [
           {
            "colorbar": {
             "outlinewidth": 0,
             "ticks": ""
            },
            "colorscale": [
             [
              0,
              "#0d0887"
             ],
             [
              0.1111111111111111,
              "#46039f"
             ],
             [
              0.2222222222222222,
              "#7201a8"
             ],
             [
              0.3333333333333333,
              "#9c179e"
             ],
             [
              0.4444444444444444,
              "#bd3786"
             ],
             [
              0.5555555555555556,
              "#d8576b"
             ],
             [
              0.6666666666666666,
              "#ed7953"
             ],
             [
              0.7777777777777778,
              "#fb9f3a"
             ],
             [
              0.8888888888888888,
              "#fdca26"
             ],
             [
              1,
              "#f0f921"
             ]
            ],
            "type": "heatmap"
           }
          ],
          "heatmapgl": [
           {
            "colorbar": {
             "outlinewidth": 0,
             "ticks": ""
            },
            "colorscale": [
             [
              0,
              "#0d0887"
             ],
             [
              0.1111111111111111,
              "#46039f"
             ],
             [
              0.2222222222222222,
              "#7201a8"
             ],
             [
              0.3333333333333333,
              "#9c179e"
             ],
             [
              0.4444444444444444,
              "#bd3786"
             ],
             [
              0.5555555555555556,
              "#d8576b"
             ],
             [
              0.6666666666666666,
              "#ed7953"
             ],
             [
              0.7777777777777778,
              "#fb9f3a"
             ],
             [
              0.8888888888888888,
              "#fdca26"
             ],
             [
              1,
              "#f0f921"
             ]
            ],
            "type": "heatmapgl"
           }
          ],
          "histogram": [
           {
            "marker": {
             "pattern": {
              "fillmode": "overlay",
              "size": 10,
              "solidity": 0.2
             }
            },
            "type": "histogram"
           }
          ],
          "histogram2d": [
           {
            "colorbar": {
             "outlinewidth": 0,
             "ticks": ""
            },
            "colorscale": [
             [
              0,
              "#0d0887"
             ],
             [
              0.1111111111111111,
              "#46039f"
             ],
             [
              0.2222222222222222,
              "#7201a8"
             ],
             [
              0.3333333333333333,
              "#9c179e"
             ],
             [
              0.4444444444444444,
              "#bd3786"
             ],
             [
              0.5555555555555556,
              "#d8576b"
             ],
             [
              0.6666666666666666,
              "#ed7953"
             ],
             [
              0.7777777777777778,
              "#fb9f3a"
             ],
             [
              0.8888888888888888,
              "#fdca26"
             ],
             [
              1,
              "#f0f921"
             ]
            ],
            "type": "histogram2d"
           }
          ],
          "histogram2dcontour": [
           {
            "colorbar": {
             "outlinewidth": 0,
             "ticks": ""
            },
            "colorscale": [
             [
              0,
              "#0d0887"
             ],
             [
              0.1111111111111111,
              "#46039f"
             ],
             [
              0.2222222222222222,
              "#7201a8"
             ],
             [
              0.3333333333333333,
              "#9c179e"
             ],
             [
              0.4444444444444444,
              "#bd3786"
             ],
             [
              0.5555555555555556,
              "#d8576b"
             ],
             [
              0.6666666666666666,
              "#ed7953"
             ],
             [
              0.7777777777777778,
              "#fb9f3a"
             ],
             [
              0.8888888888888888,
              "#fdca26"
             ],
             [
              1,
              "#f0f921"
             ]
            ],
            "type": "histogram2dcontour"
           }
          ],
          "mesh3d": [
           {
            "colorbar": {
             "outlinewidth": 0,
             "ticks": ""
            },
            "type": "mesh3d"
           }
          ],
          "parcoords": [
           {
            "line": {
             "colorbar": {
              "outlinewidth": 0,
              "ticks": ""
             }
            },
            "type": "parcoords"
           }
          ],
          "pie": [
           {
            "automargin": true,
            "type": "pie"
           }
          ],
          "scatter": [
           {
            "fillpattern": {
             "fillmode": "overlay",
             "size": 10,
             "solidity": 0.2
            },
            "type": "scatter"
           }
          ],
          "scatter3d": [
           {
            "line": {
             "colorbar": {
              "outlinewidth": 0,
              "ticks": ""
             }
            },
            "marker": {
             "colorbar": {
              "outlinewidth": 0,
              "ticks": ""
             }
            },
            "type": "scatter3d"
           }
          ],
          "scattercarpet": [
           {
            "marker": {
             "colorbar": {
              "outlinewidth": 0,
              "ticks": ""
             }
            },
            "type": "scattercarpet"
           }
          ],
          "scattergeo": [
           {
            "marker": {
             "colorbar": {
              "outlinewidth": 0,
              "ticks": ""
             }
            },
            "type": "scattergeo"
           }
          ],
          "scattergl": [
           {
            "marker": {
             "colorbar": {
              "outlinewidth": 0,
              "ticks": ""
             }
            },
            "type": "scattergl"
           }
          ],
          "scattermapbox": [
           {
            "marker": {
             "colorbar": {
              "outlinewidth": 0,
              "ticks": ""
             }
            },
            "type": "scattermapbox"
           }
          ],
          "scatterpolar": [
           {
            "marker": {
             "colorbar": {
              "outlinewidth": 0,
              "ticks": ""
             }
            },
            "type": "scatterpolar"
           }
          ],
          "scatterpolargl": [
           {
            "marker": {
             "colorbar": {
              "outlinewidth": 0,
              "ticks": ""
             }
            },
            "type": "scatterpolargl"
           }
          ],
          "scatterternary": [
           {
            "marker": {
             "colorbar": {
              "outlinewidth": 0,
              "ticks": ""
             }
            },
            "type": "scatterternary"
           }
          ],
          "surface": [
           {
            "colorbar": {
             "outlinewidth": 0,
             "ticks": ""
            },
            "colorscale": [
             [
              0,
              "#0d0887"
             ],
             [
              0.1111111111111111,
              "#46039f"
             ],
             [
              0.2222222222222222,
              "#7201a8"
             ],
             [
              0.3333333333333333,
              "#9c179e"
             ],
             [
              0.4444444444444444,
              "#bd3786"
             ],
             [
              0.5555555555555556,
              "#d8576b"
             ],
             [
              0.6666666666666666,
              "#ed7953"
             ],
             [
              0.7777777777777778,
              "#fb9f3a"
             ],
             [
              0.8888888888888888,
              "#fdca26"
             ],
             [
              1,
              "#f0f921"
             ]
            ],
            "type": "surface"
           }
          ],
          "table": [
           {
            "cells": {
             "fill": {
              "color": "#EBF0F8"
             },
             "line": {
              "color": "white"
             }
            },
            "header": {
             "fill": {
              "color": "#C8D4E3"
             },
             "line": {
              "color": "white"
             }
            },
            "type": "table"
           }
          ]
         },
         "layout": {
          "annotationdefaults": {
           "arrowcolor": "#2a3f5f",
           "arrowhead": 0,
           "arrowwidth": 1
          },
          "autotypenumbers": "strict",
          "coloraxis": {
           "colorbar": {
            "outlinewidth": 0,
            "ticks": ""
           }
          },
          "colorscale": {
           "diverging": [
            [
             0,
             "#8e0152"
            ],
            [
             0.1,
             "#c51b7d"
            ],
            [
             0.2,
             "#de77ae"
            ],
            [
             0.3,
             "#f1b6da"
            ],
            [
             0.4,
             "#fde0ef"
            ],
            [
             0.5,
             "#f7f7f7"
            ],
            [
             0.6,
             "#e6f5d0"
            ],
            [
             0.7,
             "#b8e186"
            ],
            [
             0.8,
             "#7fbc41"
            ],
            [
             0.9,
             "#4d9221"
            ],
            [
             1,
             "#276419"
            ]
           ],
           "sequential": [
            [
             0,
             "#0d0887"
            ],
            [
             0.1111111111111111,
             "#46039f"
            ],
            [
             0.2222222222222222,
             "#7201a8"
            ],
            [
             0.3333333333333333,
             "#9c179e"
            ],
            [
             0.4444444444444444,
             "#bd3786"
            ],
            [
             0.5555555555555556,
             "#d8576b"
            ],
            [
             0.6666666666666666,
             "#ed7953"
            ],
            [
             0.7777777777777778,
             "#fb9f3a"
            ],
            [
             0.8888888888888888,
             "#fdca26"
            ],
            [
             1,
             "#f0f921"
            ]
           ],
           "sequentialminus": [
            [
             0,
             "#0d0887"
            ],
            [
             0.1111111111111111,
             "#46039f"
            ],
            [
             0.2222222222222222,
             "#7201a8"
            ],
            [
             0.3333333333333333,
             "#9c179e"
            ],
            [
             0.4444444444444444,
             "#bd3786"
            ],
            [
             0.5555555555555556,
             "#d8576b"
            ],
            [
             0.6666666666666666,
             "#ed7953"
            ],
            [
             0.7777777777777778,
             "#fb9f3a"
            ],
            [
             0.8888888888888888,
             "#fdca26"
            ],
            [
             1,
             "#f0f921"
            ]
           ]
          },
          "colorway": [
           "#636efa",
           "#EF553B",
           "#00cc96",
           "#ab63fa",
           "#FFA15A",
           "#19d3f3",
           "#FF6692",
           "#B6E880",
           "#FF97FF",
           "#FECB52"
          ],
          "font": {
           "color": "#2a3f5f"
          },
          "geo": {
           "bgcolor": "white",
           "lakecolor": "white",
           "landcolor": "#E5ECF6",
           "showlakes": true,
           "showland": true,
           "subunitcolor": "white"
          },
          "hoverlabel": {
           "align": "left"
          },
          "hovermode": "closest",
          "mapbox": {
           "style": "light"
          },
          "paper_bgcolor": "white",
          "plot_bgcolor": "#E5ECF6",
          "polar": {
           "angularaxis": {
            "gridcolor": "white",
            "linecolor": "white",
            "ticks": ""
           },
           "bgcolor": "#E5ECF6",
           "radialaxis": {
            "gridcolor": "white",
            "linecolor": "white",
            "ticks": ""
           }
          },
          "scene": {
           "xaxis": {
            "backgroundcolor": "#E5ECF6",
            "gridcolor": "white",
            "gridwidth": 2,
            "linecolor": "white",
            "showbackground": true,
            "ticks": "",
            "zerolinecolor": "white"
           },
           "yaxis": {
            "backgroundcolor": "#E5ECF6",
            "gridcolor": "white",
            "gridwidth": 2,
            "linecolor": "white",
            "showbackground": true,
            "ticks": "",
            "zerolinecolor": "white"
           },
           "zaxis": {
            "backgroundcolor": "#E5ECF6",
            "gridcolor": "white",
            "gridwidth": 2,
            "linecolor": "white",
            "showbackground": true,
            "ticks": "",
            "zerolinecolor": "white"
           }
          },
          "shapedefaults": {
           "line": {
            "color": "#2a3f5f"
           }
          },
          "ternary": {
           "aaxis": {
            "gridcolor": "white",
            "linecolor": "white",
            "ticks": ""
           },
           "baxis": {
            "gridcolor": "white",
            "linecolor": "white",
            "ticks": ""
           },
           "bgcolor": "#E5ECF6",
           "caxis": {
            "gridcolor": "white",
            "linecolor": "white",
            "ticks": ""
           }
          },
          "title": {
           "x": 0.05
          },
          "xaxis": {
           "automargin": true,
           "gridcolor": "white",
           "linecolor": "white",
           "ticks": "",
           "title": {
            "standoff": 15
           },
           "zerolinecolor": "white",
           "zerolinewidth": 2
          },
          "yaxis": {
           "automargin": true,
           "gridcolor": "white",
           "linecolor": "white",
           "ticks": "",
           "title": {
            "standoff": 15
           },
           "zerolinecolor": "white",
           "zerolinewidth": 2
          }
         }
        },
        "title": {
         "text": "Measured vs Predicted"
        },
        "width": 800,
        "xaxis": {
         "title": {
          "text": "y_true"
         }
        },
        "yaxis": {
         "title": {
          "text": "y_pred"
         }
        }
       }
      }
     },
     "metadata": {},
     "output_type": "display_data"
    }
   ],
   "source": [
    "fig = go.Figure()\n",
    "\n",
    "fig.add_trace(\n",
    "    go.Scatter(\n",
    "        x=y_test.flatten(),\n",
    "        y=y_pred.flatten(),\n",
    "        mode='markers',\n",
    "        marker=dict(color='blue', opacity=0.5, line=dict(color='black', width=1)),\n",
    "        name='Measured vs Predicted'\n",
    "    )\n",
    ")\n",
    "\n",
    "\n",
    "fig.add_trace(\n",
    "    go.Scatter(\n",
    "        x=[y_pred.min(), y_pred.max()],\n",
    "        y=[y_pred.min(), y_pred.max()],\n",
    "        mode='lines',\n",
    "        line=dict(color='red', dash='dash'),\n",
    "        name='Identity Line'\n",
    "    )\n",
    ")\n",
    "\n",
    "fig.update_layout(\n",
    "    title='Measured vs Predicted',\n",
    "    xaxis=dict(title='y_true'),\n",
    "    yaxis=dict(title='y_pred'),\n",
    "    autosize=False,\n",
    "    width=800,\n",
    "    height=500,\n",
    "    margin=dict(l=0, r=0, b=0, t=40),\n",
    "    showlegend=True\n",
    ")\n",
    "\n",
    "fig.write_image(f\"{dir_figures}/scattered_measured_vs_predicted_plot.png\")\n",
    "\n",
    "fig.show()\n"
   ]
  },
  {
   "cell_type": "code",
   "execution_count": 17,
   "metadata": {},
   "outputs": [
    {
     "data": {
      "image/png": "[encoded data removed]",
      "text/plain": [
       "<Figure size 1000x600 with 1 Axes>"
      ]
     },
     "metadata": {},
     "output_type": "display_data"
    }
   ],
   "source": [
    "import matplotlib.pyplot as plt\n",
    "import numpy as np\n",
    "\n",
    "features = X_test.columns\n",
    "\n",
    "# Get feature importances from the model\n",
    "feature_importances = rf.feature_importances_\n",
    "\n",
    "# Sort feature importances in descending order\n",
    "indices = np.argsort(feature_importances)[::-1]\n",
    "\n",
    "# Rearrange feature names based on feature importances\n",
    "sorted_features = [features[i] for i in indices]\n",
    "\n",
    "# Plot\n",
    "plt.figure(figsize=(10, 6))\n",
    "plt.title(\"Feature Importances\")\n",
    "plt.bar(range(len(features)), feature_importances[indices], color='b', align='center')\n",
    "plt.xticks(range(len(features)), sorted_features, rotation=90)\n",
    "plt.xlabel('Features')\n",
    "plt.ylabel('Importance')\n",
    "plt.tight_layout()\n",
    "plt.show()\n"
   ]
  }
 ],
 "metadata": {
  "kernelspec": {
   "display_name": ".euros",
   "language": "python",
   "name": ".euros"
  },
  "language_info": {
   "codemirror_mode": {
    "name": "ipython",
    "version": 3
   },
   "file_extension": ".py",
   "mimetype": "text/x-python",
   "name": "python",
   "nbconvert_exporter": "python",
   "pygments_lexer": "ipython3",
   "version": "3.10.12"
  },
  "orig_nbformat": 4
 },
 "nbformat": 4,
 "nbformat_minor": 2
}
